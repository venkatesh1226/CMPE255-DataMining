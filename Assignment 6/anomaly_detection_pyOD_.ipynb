{
  "nbformat": 4,
  "nbformat_minor": 0,
  "metadata": {
    "colab": {
      "provenance": [],
      "mount_file_id": "1mbplTWMQTkcW0qQ6nrgUhyK8q-olStkz",
      "authorship_tag": "ABX9TyNgGML7JmAQrdlIWumBecif",
      "include_colab_link": true
    },
    "kernelspec": {
      "name": "python3",
      "display_name": "Python 3"
    },
    "language_info": {
      "name": "python"
    }
  },
  "cells": [
    {
      "cell_type": "markdown",
      "metadata": {
        "id": "view-in-github",
        "colab_type": "text"
      },
      "source": [
        "<a href=\"https://colab.research.google.com/github/venkatesh1226/CMPE255-DataMining/blob/main/anomaly_detection_pyOD_.ipynb\" target=\"_parent\"><img src=\"https://colab.research.google.com/assets/colab-badge.svg\" alt=\"Open In Colab\"/></a>"
      ]
    },
    {
      "cell_type": "markdown",
      "source": [
        "Loding data"
      ],
      "metadata": {
        "id": "AeiyOlE-iLxf"
      }
    },
    {
      "cell_type": "code",
      "source": [
        "import pandas as pd\n",
        "\n",
        "# Load the dataset\n",
        "df_billionaires = pd.read_csv('/content/drive/MyDrive/DM_Assignment_06/billionaire_forbes_list.csv')\n",
        "\n",
        "# Display the first few rows for initial understanding\n",
        "print(df_billionaires.head())\n"
      ],
      "metadata": {
        "colab": {
          "base_uri": "https://localhost:8080/"
        },
        "id": "asi9VivqiMHF",
        "outputId": "57e26741-5a37-4d24-8de5-ca39cdd2f74c"
      },
      "execution_count": 1,
      "outputs": [
        {
          "output_type": "stream",
          "name": "stdout",
          "text": [
            "   Rank                  Name_Org        Forbes_ID  Net_Worth_($B)  age  \\\n",
            "0     1  Bernard Arnault & family  bernard-arnault             211   74   \n",
            "1     2                 Elon Musk        elon-musk             180   51   \n",
            "2     3                Jeff Bezos       jeff-bezos             114   59   \n",
            "3     4             Larry Ellison    larry-ellison             107   78   \n",
            "4     5            Warren Buffett   warren-buffett             106   92   \n",
            "\n",
            "   Age_Range_How_Old Country_Working_In Source_Of_WealthCompany  \\\n",
            "0                  8             France                    LVMH   \n",
            "1                  6      United States           Tesla, SpaceX   \n",
            "2                  6      United States                  Amazon   \n",
            "3                  8      United States                  Oracle   \n",
            "4                 10      United States      Berkshire Hathaway   \n",
            "\n",
            "                Industry  Age  ...           Residence    Citizenship  \\\n",
            "0       Fashion & Retail   74  ...       Paris, France         France   \n",
            "1             Automotive   52  ...       Austin, Texas  United States   \n",
            "2             Technology   59  ...  Medina, Washington  United States   \n",
            "3             Technology   79  ...       Lanai, Hawaii  United States   \n",
            "4  Finance & Investments   92  ...     Omaha, Nebraska  United States   \n",
            "\n",
            "       Marital Status Children  \\\n",
            "0             Married        5   \n",
            "1              Single       10   \n",
            "2             Engaged        4   \n",
            "3     In Relationship        4   \n",
            "4  Widowed, Remarried        3   \n",
            "\n",
            "                                           Education Bachelor  Master  \\\n",
            "0  Bachelor of Arts/Science, Ecole Polytechnique ...        1       0   \n",
            "1  Bachelor of Arts/Science, University of Pennsy...        1       0   \n",
            "2     Bachelor of Arts/Science, Princeton University        1       0   \n",
            "3  Drop Out, University of Chicago; Drop Out, Uni...        0       0   \n",
            "4  Master of Science, Columbia University; Bachel...        1       1   \n",
            "\n",
            "  Doctorate  Drop Out  Self Made  \n",
            "0         0         0          0  \n",
            "1         0         0          1  \n",
            "2         0         0          1  \n",
            "3         0         1          1  \n",
            "4         0         0          1  \n",
            "\n",
            "[5 rows x 23 columns]\n"
          ]
        }
      ]
    },
    {
      "cell_type": "markdown",
      "source": [
        "Data Cleaning"
      ],
      "metadata": {
        "id": "n6Cx56INi841"
      }
    },
    {
      "cell_type": "code",
      "source": [
        "from sklearn.preprocessing import StandardScaler, LabelEncoder\n",
        "\n",
        "# Check for missing values in the entire dataset\n",
        "print(\"Missing values in each column:\\n\", df_billionaires.isnull().sum())\n",
        "\n",
        "# Dropping irrelevant columns\n",
        "df_billionaires.drop(['Name_Org', 'Forbes_ID', 'Residence'], axis=1, inplace=True)\n",
        "\n",
        "# Encoding categorical columns (example)\n",
        "encoder = LabelEncoder()\n",
        "categorical_columns = ['Country_Working_In', 'Industry', 'Marital Status']  # Add other categorical columns as needed\n",
        "df_billionaires[categorical_columns] = df_billionaires[categorical_columns].apply(encoder.fit_transform)\n",
        "\n",
        "# Standardizing the numerical columns\n",
        "scaler = StandardScaler()\n",
        "numerical_columns = ['Net_Worth_($B)', 'age']  # Add other numerical columns as needed\n",
        "df_billionaires[numerical_columns] = scaler.fit_transform(df_billionaires[numerical_columns])\n",
        "\n",
        "# Display the preprocessed data\n",
        "print(df_billionaires.head())\n"
      ],
      "metadata": {
        "colab": {
          "base_uri": "https://localhost:8080/"
        },
        "id": "PzwrZfUzi-IB",
        "outputId": "19b14e38-545c-456f-8897-10f383eb9763"
      },
      "execution_count": 2,
      "outputs": [
        {
          "output_type": "stream",
          "name": "stdout",
          "text": [
            "Missing values in each column:\n",
            " Rank                       0\n",
            "Name_Org                   0\n",
            "Forbes_ID                  0\n",
            "Net_Worth_($B)             0\n",
            "age                        0\n",
            "Age_Range_How_Old          0\n",
            "Country_Working_In         0\n",
            "Source_Of_WealthCompany    0\n",
            "Industry                   0\n",
            "Age                        0\n",
            "Source of Wealth           0\n",
            "Self-Made Score            0\n",
            "Philanthropy Score         0\n",
            "Residence                  0\n",
            "Citizenship                0\n",
            "Marital Status             0\n",
            "Children                   0\n",
            "Education                  0\n",
            "Bachelor                   0\n",
            "Master                     0\n",
            "Doctorate                  0\n",
            "Drop Out                   0\n",
            "Self Made                  0\n",
            "dtype: int64\n",
            "   Rank  Net_Worth_($B)       age  Age_Range_How_Old  Country_Working_In  \\\n",
            "0     1        7.133963  0.444526                  8                   8   \n",
            "1     2        5.949837 -1.249272                  6                  29   \n",
            "2     3        3.428796 -0.660125                  6                  29   \n",
            "3     4        3.161413  0.739100                  8                  29   \n",
            "4     5        3.123215  1.770108                 10                  29   \n",
            "\n",
            "  Source_Of_WealthCompany  Industry  Age               Source of Wealth  \\\n",
            "0                    LVMH         4   74                           LVMH   \n",
            "1           Tesla, SpaceX         0   52       Tesla, SpaceX, Self Made   \n",
            "2                  Amazon        16   59              Amazon, Self Made   \n",
            "3                  Oracle        16   79              Oracle, Self Made   \n",
            "4      Berkshire Hathaway         5   92  Berkshire Hathaway, Self Made   \n",
            "\n",
            "   Self-Made Score  Philanthropy Score    Citizenship  Marital Status  \\\n",
            "0                6                   1         France               3   \n",
            "1                8                   1  United States               5   \n",
            "2                8                   2  United States               1   \n",
            "3                9                   1  United States               2   \n",
            "4                8                   5  United States               8   \n",
            "\n",
            "   Children                                          Education  Bachelor  \\\n",
            "0         5  Bachelor of Arts/Science, Ecole Polytechnique ...         1   \n",
            "1        10  Bachelor of Arts/Science, University of Pennsy...         1   \n",
            "2         4     Bachelor of Arts/Science, Princeton University         1   \n",
            "3         4  Drop Out, University of Chicago; Drop Out, Uni...         0   \n",
            "4         3  Master of Science, Columbia University; Bachel...         1   \n",
            "\n",
            "   Master  Doctorate  Drop Out  Self Made  \n",
            "0       0          0         0          0  \n",
            "1       0          0         0          1  \n",
            "2       0          0         0          1  \n",
            "3       0          0         1          1  \n",
            "4       1          0         0          1  \n"
          ]
        }
      ]
    },
    {
      "cell_type": "markdown",
      "source": [
        "Setting Up PyOD for Anomaly Detection"
      ],
      "metadata": {
        "id": "b8I0tJN8jLWl"
      }
    },
    {
      "cell_type": "code",
      "source": [
        "!pip install pyod  # Run this in your Colab environment\n"
      ],
      "metadata": {
        "colab": {
          "base_uri": "https://localhost:8080/"
        },
        "id": "wboNQn_8jL44",
        "outputId": "645d2a07-0883-486f-838f-9c0886359cb7"
      },
      "execution_count": 3,
      "outputs": [
        {
          "output_type": "stream",
          "name": "stdout",
          "text": [
            "Collecting pyod\n",
            "  Downloading pyod-1.1.2.tar.gz (160 kB)\n",
            "\u001b[?25l     \u001b[90m━━━━━━━━━━━━━━━━━━━━━━━━━━━━━━━━━━━━━━━━\u001b[0m \u001b[32m0.0/160.5 kB\u001b[0m \u001b[31m?\u001b[0m eta \u001b[36m-:--:--\u001b[0m\r\u001b[2K     \u001b[91m━━━━━━━━━━━━━━━━━━━━━━\u001b[0m\u001b[91m╸\u001b[0m\u001b[90m━━━━━━━━━━━━━━━━━\u001b[0m \u001b[32m92.2/160.5 kB\u001b[0m \u001b[31m2.7 MB/s\u001b[0m eta \u001b[36m0:00:01\u001b[0m\r\u001b[2K     \u001b[90m━━━━━━━━━━━━━━━━━━━━━━━━━━━━━━━━━━━━━━━━\u001b[0m \u001b[32m160.5/160.5 kB\u001b[0m \u001b[31m3.3 MB/s\u001b[0m eta \u001b[36m0:00:00\u001b[0m\n",
            "\u001b[?25h  Preparing metadata (setup.py) ... \u001b[?25l\u001b[?25hdone\n",
            "Requirement already satisfied: joblib in /usr/local/lib/python3.10/dist-packages (from pyod) (1.3.2)\n",
            "Requirement already satisfied: matplotlib in /usr/local/lib/python3.10/dist-packages (from pyod) (3.7.1)\n",
            "Requirement already satisfied: numpy>=1.19 in /usr/local/lib/python3.10/dist-packages (from pyod) (1.23.5)\n",
            "Requirement already satisfied: numba>=0.51 in /usr/local/lib/python3.10/dist-packages (from pyod) (0.58.1)\n",
            "Requirement already satisfied: scipy>=1.5.1 in /usr/local/lib/python3.10/dist-packages (from pyod) (1.11.3)\n",
            "Requirement already satisfied: scikit_learn>=0.22.0 in /usr/local/lib/python3.10/dist-packages (from pyod) (1.2.2)\n",
            "Requirement already satisfied: six in /usr/local/lib/python3.10/dist-packages (from pyod) (1.16.0)\n",
            "Requirement already satisfied: llvmlite<0.42,>=0.41.0dev0 in /usr/local/lib/python3.10/dist-packages (from numba>=0.51->pyod) (0.41.1)\n",
            "Requirement already satisfied: threadpoolctl>=2.0.0 in /usr/local/lib/python3.10/dist-packages (from scikit_learn>=0.22.0->pyod) (3.2.0)\n",
            "Requirement already satisfied: contourpy>=1.0.1 in /usr/local/lib/python3.10/dist-packages (from matplotlib->pyod) (1.2.0)\n",
            "Requirement already satisfied: cycler>=0.10 in /usr/local/lib/python3.10/dist-packages (from matplotlib->pyod) (0.12.1)\n",
            "Requirement already satisfied: fonttools>=4.22.0 in /usr/local/lib/python3.10/dist-packages (from matplotlib->pyod) (4.44.3)\n",
            "Requirement already satisfied: kiwisolver>=1.0.1 in /usr/local/lib/python3.10/dist-packages (from matplotlib->pyod) (1.4.5)\n",
            "Requirement already satisfied: packaging>=20.0 in /usr/local/lib/python3.10/dist-packages (from matplotlib->pyod) (23.2)\n",
            "Requirement already satisfied: pillow>=6.2.0 in /usr/local/lib/python3.10/dist-packages (from matplotlib->pyod) (9.4.0)\n",
            "Requirement already satisfied: pyparsing>=2.3.1 in /usr/local/lib/python3.10/dist-packages (from matplotlib->pyod) (3.1.1)\n",
            "Requirement already satisfied: python-dateutil>=2.7 in /usr/local/lib/python3.10/dist-packages (from matplotlib->pyod) (2.8.2)\n",
            "Building wheels for collected packages: pyod\n",
            "  Building wheel for pyod (setup.py) ... \u001b[?25l\u001b[?25hdone\n",
            "  Created wheel for pyod: filename=pyod-1.1.2-py3-none-any.whl size=190289 sha256=6bbad0f7ad82c2efc700ba340b8bf87cd72c0f0aa2ef48cb6ab3fed7a24bd98e\n",
            "  Stored in directory: /root/.cache/pip/wheels/81/1b/61/aa85b78c3c0c8871f4231e3f4a03bb23cecb7db829498380ee\n",
            "Successfully built pyod\n",
            "Installing collected packages: pyod\n",
            "Successfully installed pyod-1.1.2\n"
          ]
        }
      ]
    },
    {
      "cell_type": "code",
      "source": [
        "from sklearn.preprocessing import LabelEncoder\n",
        "\n",
        "# Identifying categorical columns (excluding already encoded ones)\n",
        "categorical_columns = df_billionaires.select_dtypes(include=['object']).columns.tolist()\n",
        "# Add more removals as necessary based on previous encoding\n",
        "\n",
        "# Encoding categorical columns\n",
        "encoder = LabelEncoder()\n",
        "for column in categorical_columns:\n",
        "    df_billionaires[column] = encoder.fit_transform(df_billionaires[column])\n",
        "\n",
        "# Verify the DataFrame\n",
        "print(df_billionaires.head())\n"
      ],
      "metadata": {
        "colab": {
          "base_uri": "https://localhost:8080/"
        },
        "id": "jhRhjNFotiJ2",
        "outputId": "d89bb5c1-a1ff-4812-8c10-8bbc9d0a8eed"
      },
      "execution_count": 7,
      "outputs": [
        {
          "output_type": "stream",
          "name": "stdout",
          "text": [
            "   Rank  Net_Worth_($B)       age  Age_Range_How_Old  Country_Working_In  \\\n",
            "0     1        7.133963  0.444526                  8                   8   \n",
            "1     2        5.949837 -1.249272                  6                  29   \n",
            "2     3        3.428796 -0.660125                  6                  29   \n",
            "3     4        3.161413  0.739100                  8                  29   \n",
            "4     5        3.123215  1.770108                 10                  29   \n",
            "\n",
            "   Source_Of_WealthCompany  Industry  Age  Source of Wealth  Self-Made Score  \\\n",
            "0                       72         4   74                75                6   \n",
            "1                      124         0   52               134                8   \n",
            "2                        5        16   59                 6                8   \n",
            "3                       94        16   79               100                9   \n",
            "4                       19         5   92                22                8   \n",
            "\n",
            "   Philanthropy Score  Citizenship  Marital Status  Children  Education  \\\n",
            "0                   1            8               3         5         14   \n",
            "1                   1           29               5        10         57   \n",
            "2                   2           29               1         4         28   \n",
            "3                   1           29               2         4         92   \n",
            "4                   5           29               8         3        134   \n",
            "\n",
            "   Bachelor  Master  Doctorate  Drop Out  Self Made  \n",
            "0         1       0          0         0          0  \n",
            "1         1       0          0         0          1  \n",
            "2         1       0          0         0          1  \n",
            "3         0       0          0         1          1  \n",
            "4         1       1          0         0          1  \n"
          ]
        }
      ]
    },
    {
      "cell_type": "code",
      "source": [
        "from pyod.models.knn import KNN\n",
        "\n",
        "# Initialize the model\n",
        "knn = KNN()\n",
        "\n",
        "# Fit the model\n",
        "knn.fit(df_billionaires)\n",
        "\n",
        "# Get the prediction labels and outlier scores of the training data\n",
        "labels = knn.labels_  # binary labels (0: inliers, 1: outliers)\n",
        "scores = knn.decision_scores_  # raw outlier scores\n"
      ],
      "metadata": {
        "id": "j9yCS0CgjO0E"
      },
      "execution_count": 8,
      "outputs": []
    },
    {
      "cell_type": "code",
      "source": [
        "# Adding the labels and scores to the DataFrame\n",
        "df_billionaires['Anomaly_Label'] = labels\n",
        "df_billionaires['Anomaly_Score'] = scores\n",
        "\n",
        "# Display some of the identified anomalies\n",
        "print(df_billionaires[df_billionaires['Anomaly_Label'] == 1].head())\n"
      ],
      "metadata": {
        "colab": {
          "base_uri": "https://localhost:8080/"
        },
        "id": "b--M3Wb7tvAr",
        "outputId": "541045c3-de2b-4b22-d7ca-587121ab4f95"
      },
      "execution_count": 9,
      "outputs": [
        {
          "output_type": "stream",
          "name": "stdout",
          "text": [
            "    Rank  Net_Worth_($B)       age  Age_Range_How_Old  Country_Working_In  \\\n",
            "2      3        3.428796 -0.660125                  6                  29   \n",
            "3      4        3.161413  0.739100                  8                  29   \n",
            "4      5        3.123215  1.770108                 10                  29   \n",
            "12    13        2.015485  1.401891                  9                  23   \n",
            "52    53        0.067408 -1.249272                  6                   5   \n",
            "\n",
            "    Source_Of_WealthCompany  Industry  Age  Source of Wealth  Self-Made Score  \\\n",
            "2                         5        16   59                 6                8   \n",
            "3                        94        16   79               100                9   \n",
            "4                        19         5   92                22                8   \n",
            "12                      134         4   87               145                6   \n",
            "52                       92        16   51                98                6   \n",
            "\n",
            "    ...  Marital Status  Children  Education  Bachelor  Master  Doctorate  \\\n",
            "2   ...               1         4         28         1       0          0   \n",
            "3   ...               2         4         92         0       0          0   \n",
            "4   ...               8         3        134         1       1          0   \n",
            "12  ...               3         3        150         0       0          0   \n",
            "52  ...               6         2         51         1       0          0   \n",
            "\n",
            "    Drop Out  Self Made  Anomaly_Label  Anomaly_Score  \n",
            "2          0          1              1      71.440041  \n",
            "3          1          1              1      60.063697  \n",
            "4          0          1              1      64.310825  \n",
            "12         0          1              1      61.989586  \n",
            "52         0          1              1      62.021252  \n",
            "\n",
            "[5 rows x 22 columns]\n"
          ]
        }
      ]
    },
    {
      "cell_type": "code",
      "source": [
        "# Further analysis of anomalies\n",
        "anomalies = df_billionaires[df_billionaires['Anomaly_Label'] == 1]\n",
        "print(\"Anomalies - Descriptive Statistics:\\n\", anomalies.describe())\n",
        "\n",
        "# Optional: Visualizations of anomalies vs. normal points\n",
        "import matplotlib.pyplot as plt\n",
        "import seaborn as sns\n",
        "\n",
        "sns.scatterplot(data=df_billionaires, x='age', y='Net_Worth_($B)', hue='Anomaly_Label')\n",
        "plt.title('Anomalies in Age vs. Net Worth')\n",
        "plt.show()\n"
      ],
      "metadata": {
        "colab": {
          "base_uri": "https://localhost:8080/",
          "height": 1000
        },
        "id": "v8mxUjjwuFvF",
        "outputId": "35755ac1-d58f-4152-86da-643df69ed9d6"
      },
      "execution_count": 10,
      "outputs": [
        {
          "output_type": "stream",
          "name": "stdout",
          "text": [
            "Anomalies - Descriptive Statistics:\n",
            "              Rank  Net_Worth_($B)        age  Age_Range_How_Old  \\\n",
            "count   22.000000       22.000000  22.000000          22.000000   \n",
            "mean   109.136364        0.249714  -0.388983           6.727273   \n",
            "std     73.060507        1.333452   1.189504           1.579084   \n",
            "min      3.000000       -0.581952  -2.353923           4.000000   \n",
            "25%     59.250000       -0.534205  -1.101985           6.000000   \n",
            "50%    110.500000       -0.352766  -0.696947           6.000000   \n",
            "75%    166.000000       -0.008988   0.352472           8.000000   \n",
            "max    215.000000        3.428796   1.770108          10.000000   \n",
            "\n",
            "       Country_Working_In  Source_Of_WealthCompany   Industry        Age  \\\n",
            "count           22.000000                22.000000  22.000000  22.000000   \n",
            "mean            16.363636                53.227273  10.454545  63.000000   \n",
            "std             12.148076                48.443322   5.754727  16.189356   \n",
            "min              0.000000                 0.000000   0.000000  36.000000   \n",
            "25%              5.000000                12.000000   6.000000  54.000000   \n",
            "50%             19.000000                40.500000  10.500000  59.000000   \n",
            "75%             29.000000                93.500000  16.000000  72.750000   \n",
            "max             29.000000               134.000000  17.000000  92.000000   \n",
            "\n",
            "       Source of Wealth  Self-Made Score  ...  Marital Status   Children  \\\n",
            "count         22.000000        22.000000  ...       22.000000  22.000000   \n",
            "mean          65.681818         6.045455  ...        3.000000   2.500000   \n",
            "std           58.258362         1.939005  ...        2.093072   1.101946   \n",
            "min            0.000000         1.000000  ...        0.000000   1.000000   \n",
            "25%           14.250000         6.000000  ...        2.250000   2.000000   \n",
            "50%           46.000000         6.000000  ...        3.000000   2.000000   \n",
            "75%          131.000000         7.500000  ...        3.000000   3.000000   \n",
            "max          149.000000         9.000000  ...        8.000000   5.000000   \n",
            "\n",
            "        Education   Bachelor     Master  Doctorate   Drop Out  Self Made  \\\n",
            "count   22.000000  22.000000  22.000000  22.000000  22.000000  22.000000   \n",
            "mean    42.863636   0.818182   0.227273   0.045455   0.045455   0.772727   \n",
            "std     39.486339   0.394771   0.428932   0.213201   0.213201   0.428932   \n",
            "min      0.000000   0.000000   0.000000   0.000000   0.000000   0.000000   \n",
            "25%     15.250000   1.000000   0.000000   0.000000   0.000000   1.000000   \n",
            "50%     35.000000   1.000000   0.000000   0.000000   0.000000   1.000000   \n",
            "75%     50.500000   1.000000   0.000000   0.000000   0.000000   1.000000   \n",
            "max    150.000000   1.000000   1.000000   1.000000   1.000000   1.000000   \n",
            "\n",
            "       Anomaly_Label  Anomaly_Score  \n",
            "count           22.0      22.000000  \n",
            "mean             1.0      63.225916  \n",
            "std              0.0       5.900255  \n",
            "min              1.0      57.805638  \n",
            "25%              1.0      60.075292  \n",
            "50%              1.0      61.769942  \n",
            "75%              1.0      64.605807  \n",
            "max              1.0      84.362381  \n",
            "\n",
            "[8 rows x 22 columns]\n"
          ]
        },
        {
          "output_type": "display_data",
          "data": {
            "text/plain": [
              "<Figure size 640x480 with 1 Axes>"
            ],
            "image/png": "[encoded data removed]"
          },
          "metadata": {}
        }
      ]
    },
    {
      "cell_type": "markdown",
      "source": [
        "Interpretation of Anomalies\n",
        "\n",
        "Understanding Anomalies: The identified anomalies have higher Anomaly_Score values, suggesting they are significantly different from the typical data points in the dataset. For instance, they might represent individuals with exceptionally high net worth, unique combinations of age and wealth, or other atypical characteristics.\n",
        "\n",
        "Contextual Analysis: It's essential to interpret these anomalies in the context of the data. For example, are these anomalies representing the super-elite of the billionaires, or are there data entry errors"
      ],
      "metadata": {
        "id": "i6r6ZugIuS0M"
      }
    },
    {
      "cell_type": "markdown",
      "source": [
        " Fine-Tuning the Anomaly Detection Model\n",
        "\n",
        "Having identified anomalies and understood their characteristics, the next step is to fine-tune the anomaly detection model to optimize its performance. This involves adjusting parameters and potentially trying different algorithms.\n",
        "\n",
        "Adjusting KNN Parameters\n",
        "\n",
        "n_neighbors: The number of neighbors to consider. A larger number smooths the decision boundary and may lead to fewer anomalies.\n",
        "method: The distance calculation method. You can experiment with different methods like 'largest', 'mean', or 'median'.\n",
        "\n",
        "Trying Different Algorithms\n",
        "\n",
        "PyOD offers a variety of algorithms. You might want to experiment with others, such as Isolation Forest or AutoEncoder, to see if they provide better or different insights.\n"
      ],
      "metadata": {
        "id": "prxZqKtauyK4"
      }
    },
    {
      "cell_type": "code",
      "source": [
        "# Adjusting KNN parameters\n",
        "knn = KNN(n_neighbors=10, method='mean')\n",
        "knn.fit(df_billionaires)\n",
        "labels = knn.labels_\n",
        "\n",
        "# Trying Isolation Forest\n",
        "from pyod.models.iforest import IForest\n",
        "iforest = IForest()\n",
        "iforest.fit(df_billionaires)\n",
        "if_labels = iforest.labels_\n",
        "\n",
        "# Compare results\n",
        "df_billionaires['KNN_Labels'] = labels\n",
        "df_billionaires['IForest_Labels'] = if_labels\n",
        "\n",
        "print(\"KNN Anomalies:\\n\", df_billionaires[df_billionaires['KNN_Labels'] == 1].head())\n",
        "print(\"Isolation Forest Anomalies:\\n\", df_billionaires[df_billionaires['IForest_Labels'] == 1].head())\n"
      ],
      "metadata": {
        "colab": {
          "base_uri": "https://localhost:8080/"
        },
        "id": "M82j8-01u30O",
        "outputId": "b35dd0c1-5d52-4a8b-f20d-97593707b4c3"
      },
      "execution_count": 12,
      "outputs": [
        {
          "output_type": "stream",
          "name": "stdout",
          "text": [
            "KNN Anomalies:\n",
            "     Rank  Net_Worth_($B)       age  Age_Range_How_Old  Country_Working_In  \\\n",
            "0      1        7.133963  0.444526                  8                   8   \n",
            "2      3        3.428796 -0.660125                  6                  29   \n",
            "4      5        3.123215  1.770108                 10                  29   \n",
            "12    13        2.015485  1.401891                  9                  23   \n",
            "25    26        0.793162 -2.132993                  4                   5   \n",
            "\n",
            "    Source_Of_WealthCompany  Industry  Age  Source of Wealth  Self-Made Score  \\\n",
            "0                        72         4   74                75                6   \n",
            "2                         5        16   59                 6                8   \n",
            "4                        19         5   92                22                8   \n",
            "12                      134         4   87               145                6   \n",
            "25                      125        16   39               135                6   \n",
            "\n",
            "    ...  Education  Bachelor  Master  Doctorate  Drop Out  Self Made  \\\n",
            "0   ...         14         1       0          0         0          0   \n",
            "2   ...         28         1       0          0         0          1   \n",
            "4   ...        134         1       1          0         0          1   \n",
            "12  ...        150         0       0          0         0          1   \n",
            "25  ...         66         1       0          0         0          1   \n",
            "\n",
            "    Anomaly_Label  Anomaly_Score  KNN_Labels  IForest_Labels  \n",
            "0               0      53.388810           1               0  \n",
            "2               1      71.440041           1               1  \n",
            "4               1      64.310825           1               1  \n",
            "12              1      61.989586           1               0  \n",
            "25              0      56.911248           1               0  \n",
            "\n",
            "[5 rows x 24 columns]\n",
            "Isolation Forest Anomalies:\n",
            "    Rank  Net_Worth_($B)       age  Age_Range_How_Old  Country_Working_In  \\\n",
            "1     2        5.949837 -1.249272                  6                  29   \n",
            "2     3        3.428796 -0.660125                  6                  29   \n",
            "3     4        3.161413  0.739100                  8                  29   \n",
            "4     5        3.123215  1.770108                 10                  29   \n",
            "5     6        3.046820 -0.070978                  7                  29   \n",
            "\n",
            "   Source_Of_WealthCompany  Industry  Age  Source of Wealth  Self-Made Score  \\\n",
            "1                      124         0   52               134                8   \n",
            "2                        5        16   59                 6                8   \n",
            "3                       94        16   79               100                9   \n",
            "4                       19         5   92                22                8   \n",
            "5                       80        16   67                85                8   \n",
            "\n",
            "   ...  Education  Bachelor  Master  Doctorate  Drop Out  Self Made  \\\n",
            "1  ...         57         1       0          0         0          1   \n",
            "2  ...         28         1       0          0         0          1   \n",
            "3  ...         92         0       0          0         1          1   \n",
            "4  ...        134         1       1          0         0          1   \n",
            "5  ...         83         0       0          0         1          1   \n",
            "\n",
            "   Anomaly_Label  Anomaly_Score  KNN_Labels  IForest_Labels  \n",
            "1              0      48.336035           0               1  \n",
            "2              1      71.440041           1               1  \n",
            "3              1      60.063697           0               1  \n",
            "4              1      64.310825           1               1  \n",
            "5              0      48.588436           0               1  \n",
            "\n",
            "[5 rows x 24 columns]\n"
          ]
        }
      ]
    }
  ]
}