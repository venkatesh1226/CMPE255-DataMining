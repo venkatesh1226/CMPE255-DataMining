{
  "nbformat": 4,
  "nbformat_minor": 0,
  "metadata": {
    "colab": {
      "provenance": [],
      "mount_file_id": "1KwWOkTrqaNf4uaqK1fKfG2CFnwQ65QIz",
      "authorship_tag": "ABX9TyPDlNo3KGzBtQT1Dyb2yI2e",
      "include_colab_link": true
    },
    "kernelspec": {
      "name": "python3",
      "display_name": "Python 3"
    },
    "language_info": {
      "name": "python"
    }
  },
  "cells": [
    {
      "cell_type": "markdown",
      "metadata": {
        "id": "view-in-github",
        "colab_type": "text"
      },
      "source": [
        "<a href=\"https://colab.research.google.com/github/venkatesh1226/CMPE255-DataMining/blob/main/Clustering_scratch_customers.ipynb\" target=\"_parent\"><img src=\"https://colab.research.google.com/assets/colab-badge.svg\" alt=\"Open In Colab\"/></a>"
      ]
    },
    {
      "cell_type": "code",
      "source": [
        "# Unzipping the uploaded file\n",
        "zip_file_path_retail = '/content/drive/MyDrive/DM_Assignment_06/OnlineRetail.csv.zip'\n",
        "extraction_path_retail = '/content/drive/MyDrive/DM_Assignment_06/OnlineRetail.csv'\n",
        "\n",
        "# Unzipping the file\n",
        "with zipfile.ZipFile(zip_file_path_retail, 'r') as zip_ref:\n",
        "    zip_ref.extractall(extraction_path_retail)\n",
        "\n",
        "# Listing the contents of the extracted folder\n",
        "extracted_files_retail = os.listdir(extraction_path_retail)\n",
        "extracted_files_retail\n"
      ],
      "metadata": {
        "colab": {
          "base_uri": "https://localhost:8080/"
        },
        "id": "whwtoUrNZC2H",
        "outputId": "3f8a139a-bf69-40fe-da4a-594f190023ec"
      },
      "execution_count": 5,
      "outputs": [
        {
          "output_type": "execute_result",
          "data": {
            "text/plain": [
              "['OnlineRetail.csv']"
            ]
          },
          "metadata": {},
          "execution_count": 5
        }
      ]
    },
    {
      "cell_type": "markdown",
      "source": [
        "Exploring Dataset"
      ],
      "metadata": {
        "id": "2DQPapP8ZY_T"
      }
    },
    {
      "cell_type": "code",
      "source": [
        "import pandas as pd\n",
        "\n",
        "# Load the dataset with the correct encoding\n",
        "df_retail = pd.read_csv('/content/drive/MyDrive/DM_Assignment_06/OnlineRetail.csv/OnlineRetail.csv', encoding='ISO-8859-1')\n",
        "\n",
        "# Display the first few rows\n",
        "print(df_retail.head())\n",
        "\n",
        "# Display summary statistics\n",
        "print(df_retail.describe())\n"
      ],
      "metadata": {
        "colab": {
          "base_uri": "https://localhost:8080/"
        },
        "id": "7lfDRueRZa8K",
        "outputId": "4ea789c8-05ea-4457-b0dc-4f1befbe77a3"
      },
      "execution_count": 9,
      "outputs": [
        {
          "output_type": "stream",
          "name": "stdout",
          "text": [
            "  InvoiceNo StockCode                          Description  Quantity  \\\n",
            "0    536365    85123A   WHITE HANGING HEART T-LIGHT HOLDER         6   \n",
            "1    536365     71053                  WHITE METAL LANTERN         6   \n",
            "2    536365    84406B       CREAM CUPID HEARTS COAT HANGER         8   \n",
            "3    536365    84029G  KNITTED UNION FLAG HOT WATER BOTTLE         6   \n",
            "4    536365    84029E       RED WOOLLY HOTTIE WHITE HEART.         6   \n",
            "\n",
            "        InvoiceDate  UnitPrice  CustomerID         Country  \n",
            "0  01-12-2010 08:26       2.55     17850.0  United Kingdom  \n",
            "1  01-12-2010 08:26       3.39     17850.0  United Kingdom  \n",
            "2  01-12-2010 08:26       2.75     17850.0  United Kingdom  \n",
            "3  01-12-2010 08:26       3.39     17850.0  United Kingdom  \n",
            "4  01-12-2010 08:26       3.39     17850.0  United Kingdom  \n",
            "            Quantity      UnitPrice     CustomerID\n",
            "count  541909.000000  541909.000000  406829.000000\n",
            "mean        9.552250       4.611114   15287.690570\n",
            "std       218.081158      96.759853    1713.600303\n",
            "min    -80995.000000  -11062.060000   12346.000000\n",
            "25%         1.000000       1.250000   13953.000000\n",
            "50%         3.000000       2.080000   15152.000000\n",
            "75%        10.000000       4.130000   16791.000000\n",
            "max     80995.000000   38970.000000   18287.000000\n"
          ]
        }
      ]
    },
    {
      "cell_type": "code",
      "source": [
        "# Check for missing values\n",
        "print(df_retail.isnull().sum())\n"
      ],
      "metadata": {
        "colab": {
          "base_uri": "https://localhost:8080/"
        },
        "id": "MudsSPjraJFe",
        "outputId": "f139d9e9-7a99-4686-a874-3243c692bac1"
      },
      "execution_count": 10,
      "outputs": [
        {
          "output_type": "stream",
          "name": "stdout",
          "text": [
            "InvoiceNo           0\n",
            "StockCode           0\n",
            "Description      1454\n",
            "Quantity            0\n",
            "InvoiceDate         0\n",
            "UnitPrice           0\n",
            "CustomerID     135080\n",
            "Country             0\n",
            "dtype: int64\n"
          ]
        }
      ]
    },
    {
      "cell_type": "markdown",
      "source": [
        "Step 1: Preprocessing for RFM Analysis\n",
        "\n",
        "You'll need to create features for Recency, Frequency, and Monetary values."
      ],
      "metadata": {
        "id": "02QpVNkbkrhF"
      }
    },
    {
      "cell_type": "code",
      "source": [
        "import pandas as pd\n",
        "from datetime import datetime\n",
        "\n",
        "# Convert InvoiceDate to datetime and drop NA values\n",
        "df_retail['InvoiceDate'] = pd.to_datetime(df_retail['InvoiceDate'])\n",
        "df_retail.dropna(subset=['CustomerID'], inplace=True)\n",
        "\n",
        "# Monetary\n",
        "df_retail['TotalPrice'] = df_retail['Quantity'] * df_retail['UnitPrice']\n",
        "\n",
        "# Assuming the latest date in your dataset is the current date\n",
        "current_date = df_retail['InvoiceDate'].max()\n",
        "\n",
        "# RFM Analysis\n",
        "rfm = df_retail.groupby('CustomerID').agg({\n",
        "    'InvoiceDate': lambda x: (current_date - x.max()).days,\n",
        "    'InvoiceNo': 'nunique',\n",
        "    'TotalPrice': 'sum'\n",
        "}).rename(columns={'InvoiceDate': 'Recency',\n",
        "                   'InvoiceNo': 'Frequency',\n",
        "                   'TotalPrice': 'Monetary'})\n",
        "\n",
        "# Reset index\n",
        "rfm.reset_index(inplace=True)\n"
      ],
      "metadata": {
        "id": "m02mzAlObTGD"
      },
      "execution_count": 11,
      "outputs": []
    },
    {
      "cell_type": "markdown",
      "source": [
        "Step 2: Data Normalization\n",
        "\n",
        "Before applying K-Means, you should normalize the RFM values."
      ],
      "metadata": {
        "id": "mFpfWBw1ku_Y"
      }
    },
    {
      "cell_type": "code",
      "source": [
        "from sklearn.preprocessing import StandardScaler\n",
        "\n",
        "scaler = StandardScaler()\n",
        "rfm_scaled = scaler.fit_transform(rfm[['Recency', 'Frequency', 'Monetary']])\n"
      ],
      "metadata": {
        "id": "iV06kzlgbWqk"
      },
      "execution_count": 12,
      "outputs": []
    },
    {
      "cell_type": "markdown",
      "source": [
        "Step 3: K-Means Clustering\n",
        "\n",
        "Now, you can apply K-Means clustering. You'll need to decide on the number of clusters (k)."
      ],
      "metadata": {
        "id": "XT2ZhmPdkzbd"
      }
    },
    {
      "cell_type": "code",
      "source": [
        "from sklearn.cluster import KMeans\n",
        "\n",
        "# Choose the number of clusters (k)\n",
        "k = 2\n",
        "\n",
        "# Apply K-Means\n",
        "kmeans = KMeans(n_clusters=k, random_state=0)\n",
        "clusters = kmeans.fit_predict(rfm_scaled)\n",
        "\n",
        "# Add the cluster data to the RFM dataframe\n",
        "rfm['Cluster'] = clusters\n"
      ],
      "metadata": {
        "colab": {
          "base_uri": "https://localhost:8080/"
        },
        "id": "-OjZ7_sMbaYq",
        "outputId": "cf4fae67-02f5-469f-ffcd-37e64913468f"
      },
      "execution_count": 21,
      "outputs": [
        {
          "output_type": "stream",
          "name": "stderr",
          "text": [
            "/usr/local/lib/python3.10/dist-packages/sklearn/cluster/_kmeans.py:870: FutureWarning: The default value of `n_init` will change from 10 to 'auto' in 1.4. Set the value of `n_init` explicitly to suppress the warning\n",
            "  warnings.warn(\n"
          ]
        }
      ]
    },
    {
      "cell_type": "markdown",
      "source": [
        "Step 4: Analyzing the Results\n",
        "\n",
        "After clustering, you can analyze the characteristics of each cluster."
      ],
      "metadata": {
        "id": "dZZ6xBMwk3Io"
      }
    },
    {
      "cell_type": "code",
      "source": [
        "# Average values for each cluster\n",
        "cluster_avg = rfm.groupby('Cluster').mean()\n",
        "\n",
        "# Count of customers in each cluster\n",
        "cluster_counts = rfm['Cluster'].value_counts()\n",
        "\n",
        "print(cluster_avg)\n",
        "print(cluster_counts)\n"
      ],
      "metadata": {
        "colab": {
          "base_uri": "https://localhost:8080/"
        },
        "id": "OKe3uhYDbfJs",
        "outputId": "da9d7b37-a934-41dc-e236-00d017ad6471"
      },
      "execution_count": 22,
      "outputs": [
        {
          "output_type": "stream",
          "name": "stdout",
          "text": [
            "           CustomerID     Recency   Frequency       Monetary       PCA1  \\\n",
            "Cluster                                                                   \n",
            "0        15300.119578  101.266927    4.742254    1549.929342  -0.052108   \n",
            "1        15171.333333    8.266667  101.866667  103134.911333  15.135620   \n",
            "\n",
            "             PCA2  \n",
            "Cluster            \n",
            "0       -0.018871  \n",
            "1        5.481339  \n",
            "0    4357\n",
            "1      15\n",
            "Name: Cluster, dtype: int64\n"
          ]
        }
      ]
    },
    {
      "cell_type": "markdown",
      "source": [
        "To visualise it we need to reduce the dimension\n",
        "\n",
        "Step 1: Dimensionality Reduction using PCA"
      ],
      "metadata": {
        "id": "PgU8oV5ilXIb"
      }
    },
    {
      "cell_type": "code",
      "source": [
        "from sklearn.decomposition import PCA\n",
        "import matplotlib.pyplot as plt\n",
        "\n",
        "# Applying PCA to reduce dimensions to 2D for visualization\n",
        "pca = PCA(n_components=2)\n",
        "rfm_pca = pca.fit_transform(rfm_scaled)\n",
        "\n",
        "# Adding PCA results to the RFM dataframe\n",
        "rfm['PCA1'] = rfm_pca[:, 0]\n",
        "rfm['PCA2'] = rfm_pca[:, 1]\n"
      ],
      "metadata": {
        "id": "W67f-iL9lbyP"
      },
      "execution_count": 23,
      "outputs": []
    },
    {
      "cell_type": "markdown",
      "source": [
        "Step 2: Plotting the clusters"
      ],
      "metadata": {
        "id": "Uq1E4XJFliJP"
      }
    },
    {
      "cell_type": "code",
      "source": [
        "# Scatter plot of the clusters\n",
        "plt.figure(figsize=(10, 8))\n",
        "plt.scatter(rfm['PCA1'], rfm['PCA2'], c=rfm['Cluster'], cmap='viridis', label=rfm['Cluster'])\n",
        "plt.title('Customer Segments (PCA reduced RFM Clusters)')\n",
        "plt.xlabel('Principal Component 1')\n",
        "plt.ylabel('Principal Component 2')\n",
        "plt.colorbar(label='Cluster')\n",
        "\n",
        "# Optionally, label the cluster centers\n",
        "cluster_centers = pca.transform(kmeans.cluster_centers_)\n",
        "plt.scatter(cluster_centers[:, 0], cluster_centers[:, 1], s=300, c='red', label='Centers', marker='X')\n",
        "\n",
        "plt.show()\n"
      ],
      "metadata": {
        "colab": {
          "base_uri": "https://localhost:8080/",
          "height": 718
        },
        "id": "vn3sLihslkdW",
        "outputId": "a4ad11dc-c586-451f-bc80-bdc143c452bb"
      },
      "execution_count": 24,
      "outputs": [
        {
          "output_type": "display_data",
          "data": {
            "text/plain": [
              "<Figure size 1000x800 with 2 Axes>"
            ],
            "image/png": "[encoded data removed]"
          },
          "metadata": {}
        }
      ]
    }
  ]
}