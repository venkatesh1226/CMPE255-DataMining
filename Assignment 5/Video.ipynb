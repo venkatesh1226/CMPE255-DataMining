{
  "nbformat": 4,
  "nbformat_minor": 0,
  "metadata": {
    "colab": {
      "provenance": [],
      "mount_file_id": "1kSSvuStiuvRwTthdZ1fYn_hxl9HVTsJ4",
      "authorship_tag": "ABX9TyOasybitnd5CmgfqkHBwcPs",
      "include_colab_link": true
    },
    "kernelspec": {
      "name": "python3",
      "display_name": "Python 3"
    },
    "language_info": {
      "name": "python"
    }
  },
  "cells": [
    {
      "cell_type": "markdown",
      "metadata": {
        "id": "view-in-github",
        "colab_type": "text"
      },
      "source": [
        "<a href=\"https://colab.research.google.com/github/venkatesh1226/CMPE255-DataMining/blob/main/Video.ipynb\" target=\"_parent\"><img src=\"https://colab.research.google.com/assets/colab-badge.svg\" alt=\"Open In Colab\"/></a>"
      ]
    },
    {
      "cell_type": "markdown",
      "source": [
        "Kaggle: https://www.kaggle.com/datasets/brsdincer/climate-change-video-set-nasa/data\n"
      ],
      "metadata": {
        "id": "Q_TXr6ycXTsB"
      }
    },
    {
      "cell_type": "code",
      "execution_count": 1,
      "metadata": {
        "colab": {
          "base_uri": "https://localhost:8080/"
        },
        "id": "xu2feki5V7SH",
        "outputId": "6ddb8952-10d3-466a-a8aa-1b3ceb2648b2"
      },
      "outputs": [
        {
          "output_type": "execute_result",
          "data": {
            "text/plain": [
              "['climate', 'frames']"
            ]
          },
          "metadata": {},
          "execution_count": 1
        }
      ],
      "source": [
        "import zipfile\n",
        "import os\n",
        "\n",
        "# Unzipping the provided dataset\n",
        "zip_path = \"/content/drive/MyDrive/DM_Assignment_05/video/climatechange-video-dataset.zip\"\n",
        "unzip_dir = \"/content/drive/MyDrive/DM_Assignment_05/video/climatechange-video-dataset\"\n",
        "\n",
        "with zipfile.ZipFile(zip_path, 'r') as zip_ref:\n",
        "    zip_ref.extractall(unzip_dir)\n",
        "\n",
        "# Checking the contents of the extracted folder\n",
        "extracted_files = os.listdir(unzip_dir)\n",
        "extracted_files\n"
      ]
    },
    {
      "cell_type": "code",
      "source": [
        "# Checking the contents of the 'climate' folder\n",
        "climate_folder_contents = os.listdir(os.path.join(unzip_dir, 'climate'))\n",
        "climate_folder_contents\n"
      ],
      "metadata": {
        "colab": {
          "base_uri": "https://localhost:8080/"
        },
        "id": "1AYbkiCRXmKK",
        "outputId": "a72561bc-d7f4-4e25-baaa-12200bb9367f"
      },
      "execution_count": 2,
      "outputs": [
        {
          "output_type": "execute_result",
          "data": {
            "text/plain": [
              "['0the5j_1.mp4', 'nsceeu_1.mp4']"
            ]
          },
          "metadata": {},
          "execution_count": 2
        }
      ]
    },
    {
      "cell_type": "markdown",
      "source": [
        "Typically, for video datasets, features might include:\n",
        "\n",
        "Metadata Features: Duration, resolution, frame rate, etc.\n",
        "\n",
        "Visual Features: Histograms, color distribution, object detection counts, etc.\n",
        "\n",
        "Audio Features (if the video has audio): Frequency distribution, volume levels, etc.\n",
        "\n",
        "Textual Features: If there are any subtitles or recognizable texts, we can extract keywords, sentiment, etc."
      ],
      "metadata": {
        "id": "hL0m2ww_Xuxo"
      }
    },
    {
      "cell_type": "markdown",
      "source": [
        "### EDA"
      ],
      "metadata": {
        "id": "7sjSrwcRbDm3"
      }
    },
    {
      "cell_type": "code",
      "source": [
        "import cv2\n",
        "\n",
        "def video_metadata(video_path):\n",
        "    cap = cv2.VideoCapture(video_path)\n",
        "    total_frames = int(cap.get(cv2.CAP_PROP_FRAME_COUNT))\n",
        "    fps = int(cap.get(cv2.CAP_PROP_FPS))\n",
        "    duration = float(total_frames) / fps\n",
        "    width = int(cap.get(cv2.CAP_PROP_FRAME_WIDTH))\n",
        "    height = int(cap.get(cv2.CAP_PROP_FRAME_HEIGHT))\n",
        "    cap.release()\n",
        "\n",
        "    return {\n",
        "        \"total_frames\": total_frames,\n",
        "        \"fps\": fps,\n",
        "        \"duration(s)\": duration,\n",
        "        \"resolution\": f\"{width}x{height}\"\n",
        "    }\n",
        "\n",
        "video_path = '/content/drive/MyDrive/DM_Assignment_05/video/climatechange-video-dataset/climate/nsceeu_1.mp4'  # Update this path\n",
        "metadata = video_metadata(video_path)\n",
        "print(metadata)\n"
      ],
      "metadata": {
        "colab": {
          "base_uri": "https://localhost:8080/"
        },
        "id": "4WL-rC53bFM2",
        "outputId": "429cc904-97da-48f6-f0c0-7873e4184483"
      },
      "execution_count": 7,
      "outputs": [
        {
          "output_type": "stream",
          "name": "stdout",
          "text": [
            "{'total_frames': 380, 'fps': 30, 'duration(s)': 12.666666666666666, 'resolution': '1280x576'}\n"
          ]
        }
      ]
    },
    {
      "cell_type": "markdown",
      "source": [
        "### 2. Check for Missing Values:\n",
        "\n",
        "We'll check if there are any unreadable or corrupted frames."
      ],
      "metadata": {
        "id": "GO92QVMTbZMm"
      }
    },
    {
      "cell_type": "code",
      "source": [
        "def check_corrupted_frames(video_path):\n",
        "    cap = cv2.VideoCapture(video_path)\n",
        "    total_frames = int(cap.get(cv2.CAP_PROP_FRAME_COUNT))\n",
        "    unreadable_frames = []\n",
        "\n",
        "    for i in range(total_frames):\n",
        "        ret, _ = cap.read()\n",
        "        if not ret:\n",
        "            unreadable_frames.append(i)\n",
        "\n",
        "    cap.release()\n",
        "    return unreadable_frames\n",
        "\n",
        "corrupted = check_corrupted_frames(video_path)\n",
        "print(f\"Number of corrupted frames: {len(corrupted)}\")\n"
      ],
      "metadata": {
        "colab": {
          "base_uri": "https://localhost:8080/"
        },
        "id": "ZWEXhu0Obb8L",
        "outputId": "3245f2f7-3d57-4054-9d76-11ed407d3871"
      },
      "execution_count": 8,
      "outputs": [
        {
          "output_type": "stream",
          "name": "stdout",
          "text": [
            "Number of corrupted frames: 0\n"
          ]
        }
      ]
    },
    {
      "cell_type": "markdown",
      "source": [
        "###3. Visualize Relationships Between Features:\n",
        "\n",
        "For videos, one way to visualize relationships is to examine pixel value distributions or color histograms. Here's a basic way to visualize the color distribution for a sample frame:"
      ],
      "metadata": {
        "id": "xfM3oWZ3bfFR"
      }
    },
    {
      "cell_type": "code",
      "source": [
        "import matplotlib.pyplot as plt\n",
        "import numpy as np\n",
        "def plot_color_histogram(frame):\n",
        "    for i, color in enumerate(['b', 'g', 'r']):\n",
        "        histogram, bin_edges = np.histogram(\n",
        "            frame[:, :, i], bins=256, range=(0, 255)\n",
        "        )\n",
        "        plt.plot(bin_edges[0:-1], histogram, color=color)\n",
        "\n",
        "    plt.xlabel(\"Pixel Value\")\n",
        "    plt.ylabel(\"Frequency\")\n",
        "    plt.legend(['Blue', 'Green', 'Red'])\n",
        "    plt.show()\n",
        "\n",
        "# Extract a sample frame for visualization\n",
        "cap = cv2.VideoCapture(video_path)\n",
        "_, sample_frame = cap.read()\n",
        "cap.release()\n",
        "\n",
        "plot_color_histogram(sample_frame)\n"
      ],
      "metadata": {
        "colab": {
          "base_uri": "https://localhost:8080/",
          "height": 449
        },
        "id": "TDZr--2mbk-E",
        "outputId": "e0eec7e1-54b2-44c7-ba0c-4bf1855a9177"
      },
      "execution_count": 9,
      "outputs": [
        {
          "output_type": "display_data",
          "data": {
            "text/plain": [
              "<Figure size 640x480 with 1 Axes>"
            ],
            "image/png": "[encoded data removed]"
          },
          "metadata": {}
        }
      ]
    },
    {
      "cell_type": "markdown",
      "source": [
        "### Data Preprocessing\n",
        "\n",
        "1. Handle Missing Values:\n",
        "If a frame is unreadable or corrupt, one approach is to interpolate between the previous and next frames. Given that our earlier function identified unreadable frames, we can interpolate as follows:"
      ],
      "metadata": {
        "id": "KUENcZZDb_iy"
      }
    },
    {
      "cell_type": "code",
      "source": [
        "def interpolate_missing_frames(video_path, unreadable_frames):\n",
        "    cap = cv2.VideoCapture(video_path)\n",
        "    total_frames = int(cap.get(cv2.CAP_PROP_FRAME_COUNT))\n",
        "    frames = []\n",
        "\n",
        "    for i in range(total_frames):\n",
        "        ret, frame = cap.read()\n",
        "        if i in unreadable_frames:\n",
        "            prev_frame = frames[-1]\n",
        "            ret_next, next_frame = cap.read()\n",
        "            if ret_next:\n",
        "                interpolated_frame = cv2.addWeighted(prev_frame, 0.5, next_frame, 0.5, 0)\n",
        "                frames.append(interpolated_frame)\n",
        "                cap.set(cv2.CAP_PROP_POS_FRAMES, i+1)  # Resetting the frame position\n",
        "            else:\n",
        "                frames.append(prev_frame)  # If next frame is also not readable, use the previous frame\n",
        "        elif ret:\n",
        "            frames.append(frame)\n",
        "\n",
        "    cap.release()\n",
        "    return frames\n",
        "\n",
        "frames = interpolate_missing_frames(video_path, corrupted)\n"
      ],
      "metadata": {
        "id": "fvKBuLSgcB5C"
      },
      "execution_count": 10,
      "outputs": []
    },
    {
      "cell_type": "markdown",
      "source": [
        "2. Remove Outliers or Anomalies:\n",
        "Detecting outliers in video data can be complex. One simple approach is to detect frames that have a sudden change in brightness or color distribution, which might indicate anomalies:"
      ],
      "metadata": {
        "id": "5h5ftOZ3cLSc"
      }
    },
    {
      "cell_type": "code",
      "source": [
        "def detect_anomalous_frames(frames):\n",
        "    avg_brightness = [np.mean(frame) for frame in frames]\n",
        "    brightness_diff = np.diff(avg_brightness)\n",
        "    threshold = np.mean(brightness_diff) + 2*np.std(brightness_diff)\n",
        "    anomalies = np.where(np.abs(brightness_diff) > threshold)[0]\n",
        "    return anomalies\n",
        "\n",
        "anomalous_frames = detect_anomalous_frames(frames)\n",
        "print(f\"Anomalous frames detected at indices: {anomalous_frames}\")\n"
      ],
      "metadata": {
        "colab": {
          "base_uri": "https://localhost:8080/"
        },
        "id": "I80bqKyncNao",
        "outputId": "a5b559af-f282-4231-c9b9-1612c2e146c6"
      },
      "execution_count": 11,
      "outputs": [
        {
          "output_type": "stream",
          "name": "stdout",
          "text": [
            "Anomalous frames detected at indices: [  0  23  26  36  40  63  66  76  80 103 106 116 120 143 147 156 160 183\n",
            " 187 196 200 223 227 236 240 263 266 276 280 303 307 343 347 356 363]\n"
          ]
        }
      ]
    },
    {
      "cell_type": "markdown",
      "source": [
        "3. Normalize/Standardize Data:\n",
        "Normalize pixel values to be between 0 and 1:"
      ],
      "metadata": {
        "id": "Uc2QSJZVcSzK"
      }
    },
    {
      "cell_type": "code",
      "source": [
        "\n",
        "\n",
        "normalized_frames = [(frame/255.0).astype(np.float32) for frame in frames]\n",
        "\n"
      ],
      "metadata": {
        "id": "IJ2XgjFBcU6V"
      },
      "execution_count": 12,
      "outputs": []
    },
    {
      "cell_type": "markdown",
      "source": [
        "### 1. Feature Engineering:\n",
        "a. Motion Vectors:\n",
        "One useful feature for videos is the motion between consecutive frames. This can be calculated using optical flow, which captures the apparent motion of objects between two consecutive frames:"
      ],
      "metadata": {
        "id": "XmnYOdlXcjqI"
      }
    },
    {
      "cell_type": "code",
      "source": [
        "def calculate_optical_flow(prev_frame, curr_frame):\n",
        "    prev_gray = cv2.cvtColor(prev_frame, cv2.COLOR_BGR2GRAY)\n",
        "    curr_gray = cv2.cvtColor(curr_frame, cv2.COLOR_BGR2GRAY)\n",
        "    flow = cv2.calcOpticalFlowFarneback(prev_gray, curr_gray, None, 0.5, 3, 15, 3, 5, 1.2, 0)\n",
        "    return flow\n",
        "\n",
        "optical_flows = [calculate_optical_flow(normalized_frames[i], normalized_frames[i+1]) for i in range(len(normalized_frames)-1)]"
      ],
      "metadata": {
        "id": "3pxzRVDmci6C"
      },
      "execution_count": 13,
      "outputs": []
    },
    {
      "cell_type": "markdown",
      "source": [
        "b. Color Histograms:\n",
        "\n",
        "We can represent the color distribution of frames using histograms:"
      ],
      "metadata": {
        "id": "C1PqK_umc-Kj"
      }
    },
    {
      "cell_type": "code",
      "source": [
        "def calculate_color_histogram(frame):\n",
        "    histogram = [cv2.calcHist([frame], [i], None, [256], [0, 256]) for i in range(3)]\n",
        "    return np.concatenate(histogram)\n",
        "\n",
        "color_histograms = [calculate_color_histogram(frame) for frame in normalized_frames]\n"
      ],
      "metadata": {
        "id": "yY8kkrv_dArs"
      },
      "execution_count": 10,
      "outputs": []
    },
    {
      "cell_type": "markdown",
      "source": [
        "2. Feature Selection:\n",
        "\n",
        "For video data, feature selection is often task-specific. For example, if you're classifying scenes, color histograms might be more relevant. If you're tracking objects, motion vectors might be crucial. Here, we'll assume both sets of features are relevant, but in practice, you'd use techniques like Principal Component Analysis (PCA) or feature importance from tree-based models to reduce dimensionality or select the most relevant features."
      ],
      "metadata": {
        "id": "35r2sWm-dId2"
      }
    },
    {
      "cell_type": "markdown",
      "source": [
        "### 3. Clustering:\n",
        "\n",
        "a. Identify Clusters:\n",
        "We can use clustering to group similar frames or segments. One common method is KMeans. Here, we'll cluster based on color histograms:"
      ],
      "metadata": {
        "id": "lxs2HLnEdPxb"
      }
    },
    {
      "cell_type": "code",
      "source": [
        "from sklearn.cluster import KMeans\n",
        "import matplotlib.pyplot as plt\n",
        "\n",
        "color_histograms_2d = np.array(color_histograms).reshape(len(color_histograms), -1)\n",
        "\n",
        "n_clusters = 2  # Adjust based on your needs\n",
        "kmeans = KMeans(n_clusters=n_clusters)\n",
        "clusters = kmeans.fit_predict(color_histograms_2d)\n",
        "\n",
        "print(clusters)\n",
        "\n",
        "\n",
        "\n",
        "\n"
      ],
      "metadata": {
        "colab": {
          "base_uri": "https://localhost:8080/"
        },
        "id": "0W-y0YG0dTZb",
        "outputId": "e05aa4e5-e625-4b47-959f-7a3a2656759c"
      },
      "execution_count": 11,
      "outputs": [
        {
          "output_type": "stream",
          "name": "stderr",
          "text": [
            "/usr/local/lib/python3.10/dist-packages/sklearn/cluster/_kmeans.py:870: FutureWarning: The default value of `n_init` will change from 10 to 'auto' in 1.4. Set the value of `n_init` explicitly to suppress the warning\n",
            "  warnings.warn(\n"
          ]
        },
        {
          "output_type": "stream",
          "name": "stdout",
          "text": [
            "[0 1 1 1 1 1 1 1 1 1 1 1 1 1 1 1 1 1 1 1 1 1 1 1 1 1 1 0 0 0 0 0 0 0 0 0 0\n",
            " 0 0 0 0 1 1 1 1 1 1 1 1 1 1 1 1 1 1 1 1 1 1 1 1 1 1 1 1 1 1 0 0 0 0 0 0 0\n",
            " 0 0 0 0 0 0 0 1 1 1 1 1 1 1 1 1 1 1 1 1 1 1 1 1 1 1 1 1 1 1 1 1 1 0 0 0 0\n",
            " 0 0 0 0 0 0 0 0 0 0 1 1 1 1 1 1 1 1 1 1 1 1 1 1 1 1 1 1 1 1 1 1 1 1 1 1 1\n",
            " 0 0 0 0 0 0 0 0 0 0 0 0 0 1 1 1 1 1 1 1 1 1 1 1 1 1 1 1 1 1 1 1 1 1 1 1 1\n",
            " 1 1 1 0 0 0 0 0 0 0 0 0 0 0 1 0 1 1 1 1 1 1 1 1 1 1 1 1 1 1 1 1 1 1 1 1 1\n",
            " 1 1 0 0 0 0 0 0 0 0 0 0 0 0 0 1 1 1 1 1 1 1 1 1 1 1 1 1 1 1 1 1 1 1 1 1 1\n",
            " 1 1 1 1 1 1 1 1 0 0 0 0 0 0 0 0 0 0 0 0 0 0 1 1 1 1 1 1 1 1 1 1 1 1 1 1 1\n",
            " 1 1 1 1 1 1 1 1 1 1 1 1 0 0 0 0 0 0 0 0 0 0 0 0 0 1 1 1 1 1 1 1 1 1 1 1 1\n",
            " 1 1 1 1 1 1 1 1 1 1 1 0 0 0 0 0 0 0 0 0 0 0 0 0 0 0 0 0 0 0 0 1 1 1 1 1 1\n",
            " 1 1 1 1 1 1 1 1 1 1]\n"
          ]
        }
      ]
    },
    {
      "cell_type": "markdown",
      "source": [
        "b. Label Data:\n",
        "\n",
        "The clusters array now contains labels for each frame, indicating which cluster it belongs to. These clusters could potentially represent different scenes or segments in the video."
      ],
      "metadata": {
        "id": "mnBcPw1UdYP2"
      }
    },
    {
      "cell_type": "markdown",
      "source": [
        "###4. Anomaly Detection:\n",
        "\n",
        "To detect anomalies, we can use models like Isolation Forest or One-Class SVM. For simplicity, we'll use Isolation Forest on the color histograms:"
      ],
      "metadata": {
        "id": "aepWFA_9dbJD"
      }
    },
    {
      "cell_type": "code",
      "source": [
        "from sklearn.ensemble import IsolationForest\n",
        "\n",
        "iso_forest = IsolationForest(contamination=0.05)  # Adjust contamination parameter based on your needs\n",
        "outliers = iso_forest.fit_predict(color_histograms_2d)\n",
        "\n",
        "anomalies = np.where(outliers == -1)[0]\n",
        "print(f\"Anomalous frames detected at indices: {anomalies}\")\n"
      ],
      "metadata": {
        "id": "qT3SeVKpdeSB"
      },
      "execution_count": null,
      "outputs": []
    },
    {
      "cell_type": "markdown",
      "source": [
        "### Model Building using LSTM:\n",
        "\n",
        "Prepare Sequential Data:\n",
        "For training LSTMs, we need to structure our data into sequences. If we're using optical flows (motion vectors) as features:"
      ],
      "metadata": {
        "id": "ibKkOH8kexkY"
      }
    },
    {
      "cell_type": "code",
      "source": [
        "SEQUENCE_LENGTH = 5\n",
        "\n",
        "def create_sequences(data, seq_length):\n",
        "    sequences = []\n",
        "    target = []\n",
        "    for i in range(len(data) - seq_length):\n",
        "        sequences.append(data[i:i+seq_length])\n",
        "        target.append(data[i+seq_length])\n",
        "    return np.array(sequences), np.array(target)\n",
        "\n",
        "X, Y = create_sequences(optical_flows, SEQUENCE_LENGTH)\n"
      ],
      "metadata": {
        "id": "PcMPbUKke09-"
      },
      "execution_count": null,
      "outputs": []
    },
    {
      "cell_type": "markdown",
      "source": [
        "Define LSTM Model:"
      ],
      "metadata": {
        "id": "LhHiowbFfOW9"
      }
    },
    {
      "cell_type": "code",
      "source": [
        "from tensorflow.keras.models import Sequential\n",
        "from tensorflow.keras.layers import LSTM, Dense\n",
        "\n",
        "def build_lstm_model(input_shape):\n",
        "    model = Sequential([\n",
        "        LSTM(50, activation='relu', input_shape=input_shape, return_sequences=True),\n",
        "        LSTM(30, activation='relu', return_sequences=False),\n",
        "        Dense(input_shape[1]*input_shape[2], activation='linear')  # Regression output\n",
        "    ])\n",
        "    model.compile(optimizer='adam', loss='mse')\n",
        "    return model\n",
        "\n",
        "model = build_lstm_model(X.shape[1:])\n",
        "\n",
        "\\"
      ],
      "metadata": {
        "id": "ERNOzOddfRK1"
      },
      "execution_count": null,
      "outputs": []
    },
    {
      "cell_type": "markdown",
      "source": [
        "### 1. Extract Frames from Videos:\n",
        "To extract frames from videos, you can use the OpenCV library."
      ],
      "metadata": {
        "id": "nmWS2UaXYdFR"
      }
    },
    {
      "cell_type": "code",
      "source": [
        "import cv2\n",
        "import os\n",
        "\n",
        "def extract_frames(video_path, save_folder):\n",
        "    if not os.path.exists(save_folder):\n",
        "        os.makedirs(save_folder)\n",
        "\n",
        "    vidcap = cv2.VideoCapture(video_path)\n",
        "    success, image = vidcap.read()\n",
        "    count = 0\n",
        "    while success:\n",
        "        cv2.imwrite(os.path.join(save_folder, \"frame{:d}.jpg\".format(count)), image)\n",
        "        success, image = vidcap.read()\n",
        "        count += 1\n",
        "\n",
        "\n",
        "# Example usage:\n",
        "video_path = '/content/drive/MyDrive/DM_Assignment_05/video/climatechange-video-dataset/climate/nsceeu_1.mp4'\n",
        "save_folder = '/content/drive/MyDrive/DM_Assignment_05/video/climatechange-video-dataset/frames/nsceeu_1'\n",
        "extract_frames(video_path, save_folder)\n"
      ],
      "metadata": {
        "id": "CSgkOQUUYf94"
      },
      "execution_count": 7,
      "outputs": []
    },
    {
      "cell_type": "markdown",
      "source": [
        "### 2. Preprocess Frames:\n",
        "\n",
        "Resize and normalize the frames."
      ],
      "metadata": {
        "id": "WtQOegm5aFqz"
      }
    },
    {
      "cell_type": "code",
      "source": [
        "from PIL import Image\n",
        "import numpy as np\n",
        "\n",
        "def preprocess_frames(folder_path, size=(128, 128)):\n",
        "    frames = []\n",
        "    for filename in sorted(os.listdir(folder_path)):\n",
        "        if filename.endswith(\".jpg\"):\n",
        "            img_path = os.path.join(folder_path, filename)\n",
        "            img = Image.open(img_path)\n",
        "            img = img.resize(size, Image.ANTIALIAS)\n",
        "            frames.append(np.array(img) / 255.0)\n",
        "    return np.array(frames)\n",
        "\n",
        "frames = preprocess_frames(save_folder)\n"
      ],
      "metadata": {
        "colab": {
          "base_uri": "https://localhost:8080/"
        },
        "id": "HhnSlWWraIcZ",
        "outputId": "f7d7edb0-c501-4a16-f917-9f2b543559e3"
      },
      "execution_count": 8,
      "outputs": [
        {
          "output_type": "stream",
          "name": "stderr",
          "text": [
            "<ipython-input-8-88ee7d0df6ad>:10: DeprecationWarning: ANTIALIAS is deprecated and will be removed in Pillow 10 (2023-07-01). Use LANCZOS or Resampling.LANCZOS instead.\n",
            "  img = img.resize(size, Image.ANTIALIAS)\n"
          ]
        }
      ]
    },
    {
      "cell_type": "markdown",
      "source": [
        "### 3. ConvLSTM Model for Frame Prediction:"
      ],
      "metadata": {
        "id": "KC5nlHp2aK-0"
      }
    },
    {
      "cell_type": "code",
      "source": [
        "import tensorflow as tf\n",
        "from tensorflow.keras.models import Sequential\n",
        "from tensorflow.keras.layers import ConvLSTM2D, BatchNormalization\n",
        "\n",
        "def build_model(input_shape):\n",
        "    model = Sequential([\n",
        "        ConvLSTM2D(filters=64, kernel_size=(3, 3), return_sequences=True, input_shape=input_shape, padding='same'),\n",
        "        BatchNormalization(),\n",
        "\n",
        "        ConvLSTM2D(filters=64, kernel_size=(3, 3), return_sequences=True, padding='same'),\n",
        "        BatchNormalization(),\n",
        "\n",
        "        ConvLSTM2D(filters=64, kernel_size=(3, 3), return_sequences=False, padding='same'),\n",
        "        BatchNormalization(),\n",
        "\n",
        "        tf.keras.layers.Conv2D(filters=3, kernel_size=(3, 3), activation='sigmoid', padding='same')\n",
        "    ])\n",
        "    model.compile(optimizer='adam', loss='mse')\n",
        "    return model\n",
        "\n",
        "# Assuming you want to use 10 frames to predict the 11th frame\n",
        "SEQUENCE_LENGTH = 10\n",
        "\n",
        "X = [frames[i:i+SEQUENCE_LENGTH] for i in range(len(frames) - SEQUENCE_LENGTH - 1)]\n",
        "Y = [frames[i+SEQUENCE_LENGTH] for i in range(len(frames) - SEQUENCE_LENGTH - 1)]\n",
        "\n",
        "X = np.array(X)\n",
        "Y = np.array(Y)\n",
        "\n",
        "model = build_model((SEQUENCE_LENGTH, *frames.shape[1:]))\n",
        "model.fit(X, Y, epochs=50, batch_size=2)  # Training settings can be adjusted based on your needs\n"
      ],
      "metadata": {
        "id": "bZNT7LG2ksAp"
      },
      "execution_count": null,
      "outputs": []
    },
    {
      "cell_type": "markdown",
      "source": [
        "### 4. Predicting Future Frames:\n",
        "\n",
        "After training, you can use the model to predict future frames."
      ],
      "metadata": {
        "id": "mdl-cJmlaVVX"
      }
    },
    {
      "cell_type": "code",
      "source": [
        "def predict_next_frame(model, input_sequence):\n",
        "    predicted_frame = model.predict(np.expand_dims(input_sequence, axis=0))[0]\n",
        "    return predicted_frame\n",
        "\n",
        "# Using the last 10 frames to predict the next frame\n",
        "input_sequence = frames[-SEQUENCE_LENGTH:]\n",
        "predicted_frame = predict_next_frame(model, input_sequence)\n",
        "\n",
        "# To visualize the predicted frame\n",
        "import matplotlib.pyplot as plt\n",
        "\n",
        "plt.imshow(predicted_frame)\n",
        "plt.show()\n"
      ],
      "metadata": {
        "id": "ZlxV0iKIaYSN"
      },
      "execution_count": null,
      "outputs": []
    }
  ]
}