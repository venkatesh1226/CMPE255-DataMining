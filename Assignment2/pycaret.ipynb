{
  "nbformat": 4,
  "nbformat_minor": 0,
  "metadata": {
    "colab": {
      "provenance": [],
      "authorship_tag": "ABX9TyP4ckD8htP51ztYBCuG/w+F",
      "include_colab_link": true
    },
    "kernelspec": {
      "name": "python3",
      "display_name": "Python 3"
    },
    "language_info": {
      "name": "python"
    },
    "widgets": {
      "application/vnd.jupyter.widget-state+json": {
        "67c2c01457ac40e08827bd372516159a": {
          "model_module": "@jupyter-widgets/controls",
          "model_name": "HBoxModel",
          "model_module_version": "1.5.0",
          "state": {
            "_dom_classes": [],
            "_model_module": "@jupyter-widgets/controls",
            "_model_module_version": "1.5.0",
            "_model_name": "HBoxModel",
            "_view_count": null,
            "_view_module": "@jupyter-widgets/controls",
            "_view_module_version": "1.5.0",
            "_view_name": "HBoxView",
            "box_style": "",
            "children": [
              "IPY_MODEL_80488eb3765f4a9ebff0f3bb6fdff2e9",
              "IPY_MODEL_09175416b34b409b84c3d99441526b1b",
              "IPY_MODEL_ad1cc685f7fe4c70b8798cdce78b02cd"
            ],
            "layout": "IPY_MODEL_8dd54570ee144ba59970c5f210fa68fd"
          }
        },
        "80488eb3765f4a9ebff0f3bb6fdff2e9": {
          "model_module": "@jupyter-widgets/controls",
          "model_name": "HTMLModel",
          "model_module_version": "1.5.0",
          "state": {
            "_dom_classes": [],
            "_model_module": "@jupyter-widgets/controls",
            "_model_module_version": "1.5.0",
            "_model_name": "HTMLModel",
            "_view_count": null,
            "_view_module": "@jupyter-widgets/controls",
            "_view_module_version": "1.5.0",
            "_view_name": "HTMLView",
            "description": "",
            "description_tooltip": null,
            "layout": "IPY_MODEL_89d96aed67594832a87cd409d35309fb",
            "placeholder": "​",
            "style": "IPY_MODEL_ec5b793d45f74cffbf3f49b23070a183",
            "value": "Processing: 100%"
          }
        },
        "09175416b34b409b84c3d99441526b1b": {
          "model_module": "@jupyter-widgets/controls",
          "model_name": "FloatProgressModel",
          "model_module_version": "1.5.0",
          "state": {
            "_dom_classes": [],
            "_model_module": "@jupyter-widgets/controls",
            "_model_module_version": "1.5.0",
            "_model_name": "FloatProgressModel",
            "_view_count": null,
            "_view_module": "@jupyter-widgets/controls",
            "_view_module_version": "1.5.0",
            "_view_name": "ProgressView",
            "bar_style": "",
            "description": "",
            "description_tooltip": null,
            "layout": "IPY_MODEL_e5815d03e87f428b890f00459299b11e",
            "max": 65,
            "min": 0,
            "orientation": "horizontal",
            "style": "IPY_MODEL_1145c96791be4d2abad2cc4f754299ff",
            "value": 65
          }
        },
        "ad1cc685f7fe4c70b8798cdce78b02cd": {
          "model_module": "@jupyter-widgets/controls",
          "model_name": "HTMLModel",
          "model_module_version": "1.5.0",
          "state": {
            "_dom_classes": [],
            "_model_module": "@jupyter-widgets/controls",
            "_model_module_version": "1.5.0",
            "_model_name": "HTMLModel",
            "_view_count": null,
            "_view_module": "@jupyter-widgets/controls",
            "_view_module_version": "1.5.0",
            "_view_name": "HTMLView",
            "description": "",
            "description_tooltip": null,
            "layout": "IPY_MODEL_2286516d1324452d9b49352dfc2c34cf",
            "placeholder": "​",
            "style": "IPY_MODEL_365e3910db034404827b4a9ea3ddf251",
            "value": " 65/65 [02:20&lt;00:00,  1.42s/it]"
          }
        },
        "8dd54570ee144ba59970c5f210fa68fd": {
          "model_module": "@jupyter-widgets/base",
          "model_name": "LayoutModel",
          "model_module_version": "1.2.0",
          "state": {
            "_model_module": "@jupyter-widgets/base",
            "_model_module_version": "1.2.0",
            "_model_name": "LayoutModel",
            "_view_count": null,
            "_view_module": "@jupyter-widgets/base",
            "_view_module_version": "1.2.0",
            "_view_name": "LayoutView",
            "align_content": null,
            "align_items": null,
            "align_self": null,
            "border": null,
            "bottom": null,
            "display": null,
            "flex": null,
            "flex_flow": null,
            "grid_area": null,
            "grid_auto_columns": null,
            "grid_auto_flow": null,
            "grid_auto_rows": null,
            "grid_column": null,
            "grid_gap": null,
            "grid_row": null,
            "grid_template_areas": null,
            "grid_template_columns": null,
            "grid_template_rows": null,
            "height": null,
            "justify_content": null,
            "justify_items": null,
            "left": null,
            "margin": null,
            "max_height": null,
            "max_width": null,
            "min_height": null,
            "min_width": null,
            "object_fit": null,
            "object_position": null,
            "order": null,
            "overflow": null,
            "overflow_x": null,
            "overflow_y": null,
            "padding": null,
            "right": null,
            "top": null,
            "visibility": "hidden",
            "width": null
          }
        },
        "89d96aed67594832a87cd409d35309fb": {
          "model_module": "@jupyter-widgets/base",
          "model_name": "LayoutModel",
          "model_module_version": "1.2.0",
          "state": {
            "_model_module": "@jupyter-widgets/base",
            "_model_module_version": "1.2.0",
            "_model_name": "LayoutModel",
            "_view_count": null,
            "_view_module": "@jupyter-widgets/base",
            "_view_module_version": "1.2.0",
            "_view_name": "LayoutView",
            "align_content": null,
            "align_items": null,
            "align_self": null,
            "border": null,
            "bottom": null,
            "display": null,
            "flex": null,
            "flex_flow": null,
            "grid_area": null,
            "grid_auto_columns": null,
            "grid_auto_flow": null,
            "grid_auto_rows": null,
            "grid_column": null,
            "grid_gap": null,
            "grid_row": null,
            "grid_template_areas": null,
            "grid_template_columns": null,
            "grid_template_rows": null,
            "height": null,
            "justify_content": null,
            "justify_items": null,
            "left": null,
            "margin": null,
            "max_height": null,
            "max_width": null,
            "min_height": null,
            "min_width": null,
            "object_fit": null,
            "object_position": null,
            "order": null,
            "overflow": null,
            "overflow_x": null,
            "overflow_y": null,
            "padding": null,
            "right": null,
            "top": null,
            "visibility": null,
            "width": null
          }
        },
        "ec5b793d45f74cffbf3f49b23070a183": {
          "model_module": "@jupyter-widgets/controls",
          "model_name": "DescriptionStyleModel",
          "model_module_version": "1.5.0",
          "state": {
            "_model_module": "@jupyter-widgets/controls",
            "_model_module_version": "1.5.0",
            "_model_name": "DescriptionStyleModel",
            "_view_count": null,
            "_view_module": "@jupyter-widgets/base",
            "_view_module_version": "1.2.0",
            "_view_name": "StyleView",
            "description_width": ""
          }
        },
        "e5815d03e87f428b890f00459299b11e": {
          "model_module": "@jupyter-widgets/base",
          "model_name": "LayoutModel",
          "model_module_version": "1.2.0",
          "state": {
            "_model_module": "@jupyter-widgets/base",
            "_model_module_version": "1.2.0",
            "_model_name": "LayoutModel",
            "_view_count": null,
            "_view_module": "@jupyter-widgets/base",
            "_view_module_version": "1.2.0",
            "_view_name": "LayoutView",
            "align_content": null,
            "align_items": null,
            "align_self": null,
            "border": null,
            "bottom": null,
            "display": null,
            "flex": null,
            "flex_flow": null,
            "grid_area": null,
            "grid_auto_columns": null,
            "grid_auto_flow": null,
            "grid_auto_rows": null,
            "grid_column": null,
            "grid_gap": null,
            "grid_row": null,
            "grid_template_areas": null,
            "grid_template_columns": null,
            "grid_template_rows": null,
            "height": null,
            "justify_content": null,
            "justify_items": null,
            "left": null,
            "margin": null,
            "max_height": null,
            "max_width": null,
            "min_height": null,
            "min_width": null,
            "object_fit": null,
            "object_position": null,
            "order": null,
            "overflow": null,
            "overflow_x": null,
            "overflow_y": null,
            "padding": null,
            "right": null,
            "top": null,
            "visibility": null,
            "width": null
          }
        },
        "1145c96791be4d2abad2cc4f754299ff": {
          "model_module": "@jupyter-widgets/controls",
          "model_name": "ProgressStyleModel",
          "model_module_version": "1.5.0",
          "state": {
            "_model_module": "@jupyter-widgets/controls",
            "_model_module_version": "1.5.0",
            "_model_name": "ProgressStyleModel",
            "_view_count": null,
            "_view_module": "@jupyter-widgets/base",
            "_view_module_version": "1.2.0",
            "_view_name": "StyleView",
            "bar_color": null,
            "description_width": ""
          }
        },
        "2286516d1324452d9b49352dfc2c34cf": {
          "model_module": "@jupyter-widgets/base",
          "model_name": "LayoutModel",
          "model_module_version": "1.2.0",
          "state": {
            "_model_module": "@jupyter-widgets/base",
            "_model_module_version": "1.2.0",
            "_model_name": "LayoutModel",
            "_view_count": null,
            "_view_module": "@jupyter-widgets/base",
            "_view_module_version": "1.2.0",
            "_view_name": "LayoutView",
            "align_content": null,
            "align_items": null,
            "align_self": null,
            "border": null,
            "bottom": null,
            "display": null,
            "flex": null,
            "flex_flow": null,
            "grid_area": null,
            "grid_auto_columns": null,
            "grid_auto_flow": null,
            "grid_auto_rows": null,
            "grid_column": null,
            "grid_gap": null,
            "grid_row": null,
            "grid_template_areas": null,
            "grid_template_columns": null,
            "grid_template_rows": null,
            "height": null,
            "justify_content": null,
            "justify_items": null,
            "left": null,
            "margin": null,
            "max_height": null,
            "max_width": null,
            "min_height": null,
            "min_width": null,
            "object_fit": null,
            "object_position": null,
            "order": null,
            "overflow": null,
            "overflow_x": null,
            "overflow_y": null,
            "padding": null,
            "right": null,
            "top": null,
            "visibility": null,
            "width": null
          }
        },
        "365e3910db034404827b4a9ea3ddf251": {
          "model_module": "@jupyter-widgets/controls",
          "model_name": "DescriptionStyleModel",
          "model_module_version": "1.5.0",
          "state": {
            "_model_module": "@jupyter-widgets/controls",
            "_model_module_version": "1.5.0",
            "_model_name": "DescriptionStyleModel",
            "_view_count": null,
            "_view_module": "@jupyter-widgets/base",
            "_view_module_version": "1.2.0",
            "_view_name": "StyleView",
            "description_width": ""
          }
        },
        "fad4d527a8384472b812a20f43759593": {
          "model_module": "@jupyter-widgets/controls",
          "model_name": "HBoxModel",
          "model_module_version": "1.5.0",
          "state": {
            "_dom_classes": [],
            "_model_module": "@jupyter-widgets/controls",
            "_model_module_version": "1.5.0",
            "_model_name": "HBoxModel",
            "_view_count": null,
            "_view_module": "@jupyter-widgets/controls",
            "_view_module_version": "1.5.0",
            "_view_name": "HBoxView",
            "box_style": "",
            "children": [
              "IPY_MODEL_32af5ed1a7b54d1290471fc36cf509fb",
              "IPY_MODEL_f935fa64b87a439a87723dc14219348c",
              "IPY_MODEL_deb419d3103f4591826bf563defeb157"
            ],
            "layout": "IPY_MODEL_b719260cf00141ce8964d2928d24149f"
          }
        },
        "32af5ed1a7b54d1290471fc36cf509fb": {
          "model_module": "@jupyter-widgets/controls",
          "model_name": "HTMLModel",
          "model_module_version": "1.5.0",
          "state": {
            "_dom_classes": [],
            "_model_module": "@jupyter-widgets/controls",
            "_model_module_version": "1.5.0",
            "_model_name": "HTMLModel",
            "_view_count": null,
            "_view_module": "@jupyter-widgets/controls",
            "_view_module_version": "1.5.0",
            "_view_name": "HTMLView",
            "description": "",
            "description_tooltip": null,
            "layout": "IPY_MODEL_a0a1ba9440d64a1baa02cac925d364bf",
            "placeholder": "​",
            "style": "IPY_MODEL_1a6bc84dd78546a9a6a71c091fc78145",
            "value": "Processing: 100%"
          }
        },
        "f935fa64b87a439a87723dc14219348c": {
          "model_module": "@jupyter-widgets/controls",
          "model_name": "FloatProgressModel",
          "model_module_version": "1.5.0",
          "state": {
            "_dom_classes": [],
            "_model_module": "@jupyter-widgets/controls",
            "_model_module_version": "1.5.0",
            "_model_name": "FloatProgressModel",
            "_view_count": null,
            "_view_module": "@jupyter-widgets/controls",
            "_view_module_version": "1.5.0",
            "_view_name": "ProgressView",
            "bar_style": "",
            "description": "",
            "description_tooltip": null,
            "layout": "IPY_MODEL_ecfabf0a8fa948c6b36d242af38f3bc2",
            "max": 7,
            "min": 0,
            "orientation": "horizontal",
            "style": "IPY_MODEL_ad47c270187344d3b40c7ede5993c0a9",
            "value": 7
          }
        },
        "deb419d3103f4591826bf563defeb157": {
          "model_module": "@jupyter-widgets/controls",
          "model_name": "HTMLModel",
          "model_module_version": "1.5.0",
          "state": {
            "_dom_classes": [],
            "_model_module": "@jupyter-widgets/controls",
            "_model_module_version": "1.5.0",
            "_model_name": "HTMLModel",
            "_view_count": null,
            "_view_module": "@jupyter-widgets/controls",
            "_view_module_version": "1.5.0",
            "_view_name": "HTMLView",
            "description": "",
            "description_tooltip": null,
            "layout": "IPY_MODEL_cc95b15436d04bbc89299f472e22f780",
            "placeholder": "​",
            "style": "IPY_MODEL_c4084788150a4a4aaadaf5ad2e6b1406",
            "value": " 7/7 [00:18&lt;00:00,  2.14s/it]"
          }
        },
        "b719260cf00141ce8964d2928d24149f": {
          "model_module": "@jupyter-widgets/base",
          "model_name": "LayoutModel",
          "model_module_version": "1.2.0",
          "state": {
            "_model_module": "@jupyter-widgets/base",
            "_model_module_version": "1.2.0",
            "_model_name": "LayoutModel",
            "_view_count": null,
            "_view_module": "@jupyter-widgets/base",
            "_view_module_version": "1.2.0",
            "_view_name": "LayoutView",
            "align_content": null,
            "align_items": null,
            "align_self": null,
            "border": null,
            "bottom": null,
            "display": null,
            "flex": null,
            "flex_flow": null,
            "grid_area": null,
            "grid_auto_columns": null,
            "grid_auto_flow": null,
            "grid_auto_rows": null,
            "grid_column": null,
            "grid_gap": null,
            "grid_row": null,
            "grid_template_areas": null,
            "grid_template_columns": null,
            "grid_template_rows": null,
            "height": null,
            "justify_content": null,
            "justify_items": null,
            "left": null,
            "margin": null,
            "max_height": null,
            "max_width": null,
            "min_height": null,
            "min_width": null,
            "object_fit": null,
            "object_position": null,
            "order": null,
            "overflow": null,
            "overflow_x": null,
            "overflow_y": null,
            "padding": null,
            "right": null,
            "top": null,
            "visibility": "hidden",
            "width": null
          }
        },
        "a0a1ba9440d64a1baa02cac925d364bf": {
          "model_module": "@jupyter-widgets/base",
          "model_name": "LayoutModel",
          "model_module_version": "1.2.0",
          "state": {
            "_model_module": "@jupyter-widgets/base",
            "_model_module_version": "1.2.0",
            "_model_name": "LayoutModel",
            "_view_count": null,
            "_view_module": "@jupyter-widgets/base",
            "_view_module_version": "1.2.0",
            "_view_name": "LayoutView",
            "align_content": null,
            "align_items": null,
            "align_self": null,
            "border": null,
            "bottom": null,
            "display": null,
            "flex": null,
            "flex_flow": null,
            "grid_area": null,
            "grid_auto_columns": null,
            "grid_auto_flow": null,
            "grid_auto_rows": null,
            "grid_column": null,
            "grid_gap": null,
            "grid_row": null,
            "grid_template_areas": null,
            "grid_template_columns": null,
            "grid_template_rows": null,
            "height": null,
            "justify_content": null,
            "justify_items": null,
            "left": null,
            "margin": null,
            "max_height": null,
            "max_width": null,
            "min_height": null,
            "min_width": null,
            "object_fit": null,
            "object_position": null,
            "order": null,
            "overflow": null,
            "overflow_x": null,
            "overflow_y": null,
            "padding": null,
            "right": null,
            "top": null,
            "visibility": null,
            "width": null
          }
        },
        "1a6bc84dd78546a9a6a71c091fc78145": {
          "model_module": "@jupyter-widgets/controls",
          "model_name": "DescriptionStyleModel",
          "model_module_version": "1.5.0",
          "state": {
            "_model_module": "@jupyter-widgets/controls",
            "_model_module_version": "1.5.0",
            "_model_name": "DescriptionStyleModel",
            "_view_count": null,
            "_view_module": "@jupyter-widgets/base",
            "_view_module_version": "1.2.0",
            "_view_name": "StyleView",
            "description_width": ""
          }
        },
        "ecfabf0a8fa948c6b36d242af38f3bc2": {
          "model_module": "@jupyter-widgets/base",
          "model_name": "LayoutModel",
          "model_module_version": "1.2.0",
          "state": {
            "_model_module": "@jupyter-widgets/base",
            "_model_module_version": "1.2.0",
            "_model_name": "LayoutModel",
            "_view_count": null,
            "_view_module": "@jupyter-widgets/base",
            "_view_module_version": "1.2.0",
            "_view_name": "LayoutView",
            "align_content": null,
            "align_items": null,
            "align_self": null,
            "border": null,
            "bottom": null,
            "display": null,
            "flex": null,
            "flex_flow": null,
            "grid_area": null,
            "grid_auto_columns": null,
            "grid_auto_flow": null,
            "grid_auto_rows": null,
            "grid_column": null,
            "grid_gap": null,
            "grid_row": null,
            "grid_template_areas": null,
            "grid_template_columns": null,
            "grid_template_rows": null,
            "height": null,
            "justify_content": null,
            "justify_items": null,
            "left": null,
            "margin": null,
            "max_height": null,
            "max_width": null,
            "min_height": null,
            "min_width": null,
            "object_fit": null,
            "object_position": null,
            "order": null,
            "overflow": null,
            "overflow_x": null,
            "overflow_y": null,
            "padding": null,
            "right": null,
            "top": null,
            "visibility": null,
            "width": null
          }
        },
        "ad47c270187344d3b40c7ede5993c0a9": {
          "model_module": "@jupyter-widgets/controls",
          "model_name": "ProgressStyleModel",
          "model_module_version": "1.5.0",
          "state": {
            "_model_module": "@jupyter-widgets/controls",
            "_model_module_version": "1.5.0",
            "_model_name": "ProgressStyleModel",
            "_view_count": null,
            "_view_module": "@jupyter-widgets/base",
            "_view_module_version": "1.2.0",
            "_view_name": "StyleView",
            "bar_color": null,
            "description_width": ""
          }
        },
        "cc95b15436d04bbc89299f472e22f780": {
          "model_module": "@jupyter-widgets/base",
          "model_name": "LayoutModel",
          "model_module_version": "1.2.0",
          "state": {
            "_model_module": "@jupyter-widgets/base",
            "_model_module_version": "1.2.0",
            "_model_name": "LayoutModel",
            "_view_count": null,
            "_view_module": "@jupyter-widgets/base",
            "_view_module_version": "1.2.0",
            "_view_name": "LayoutView",
            "align_content": null,
            "align_items": null,
            "align_self": null,
            "border": null,
            "bottom": null,
            "display": null,
            "flex": null,
            "flex_flow": null,
            "grid_area": null,
            "grid_auto_columns": null,
            "grid_auto_flow": null,
            "grid_auto_rows": null,
            "grid_column": null,
            "grid_gap": null,
            "grid_row": null,
            "grid_template_areas": null,
            "grid_template_columns": null,
            "grid_template_rows": null,
            "height": null,
            "justify_content": null,
            "justify_items": null,
            "left": null,
            "margin": null,
            "max_height": null,
            "max_width": null,
            "min_height": null,
            "min_width": null,
            "object_fit": null,
            "object_position": null,
            "order": null,
            "overflow": null,
            "overflow_x": null,
            "overflow_y": null,
            "padding": null,
            "right": null,
            "top": null,
            "visibility": null,
            "width": null
          }
        },
        "c4084788150a4a4aaadaf5ad2e6b1406": {
          "model_module": "@jupyter-widgets/controls",
          "model_name": "DescriptionStyleModel",
          "model_module_version": "1.5.0",
          "state": {
            "_model_module": "@jupyter-widgets/controls",
            "_model_module_version": "1.5.0",
            "_model_name": "DescriptionStyleModel",
            "_view_count": null,
            "_view_module": "@jupyter-widgets/base",
            "_view_module_version": "1.2.0",
            "_view_name": "StyleView",
            "description_width": ""
          }
        },
        "b41d4b7712e6477c97175f2f2db1af6a": {
          "model_module": "@jupyter-widgets/controls",
          "model_name": "VBoxModel",
          "model_module_version": "1.5.0",
          "state": {
            "_dom_classes": [
              "widget-interact"
            ],
            "_model_module": "@jupyter-widgets/controls",
            "_model_module_version": "1.5.0",
            "_model_name": "VBoxModel",
            "_view_count": null,
            "_view_module": "@jupyter-widgets/controls",
            "_view_module_version": "1.5.0",
            "_view_name": "VBoxView",
            "box_style": "",
            "children": [
              "IPY_MODEL_2801aacb044a4b1d9421b9bb882c137b",
              "IPY_MODEL_fc3cf60f099c4ab6b3fb3872479797d8"
            ],
            "layout": "IPY_MODEL_50bced120f52466dbae06a17309c31e9"
          }
        },
        "2801aacb044a4b1d9421b9bb882c137b": {
          "model_module": "@jupyter-widgets/controls",
          "model_name": "ToggleButtonsModel",
          "model_module_version": "1.5.0",
          "state": {
            "_dom_classes": [],
            "_model_module": "@jupyter-widgets/controls",
            "_model_module_version": "1.5.0",
            "_model_name": "ToggleButtonsModel",
            "_options_labels": [
              "Pipeline Plot",
              "Hyperparameters",
              "AUC",
              "Confusion Matrix",
              "Threshold",
              "Precision Recall",
              "Prediction Error",
              "Class Report",
              "Feature Selection",
              "Learning Curve",
              "Manifold Learning",
              "Calibration Curve",
              "Validation Curve",
              "Dimensions",
              "Feature Importance",
              "Feature Importance (All)",
              "Decision Boundary",
              "Lift Chart",
              "Gain Chart",
              "Decision Tree",
              "KS Statistic Plot"
            ],
            "_view_count": null,
            "_view_module": "@jupyter-widgets/controls",
            "_view_module_version": "1.5.0",
            "_view_name": "ToggleButtonsView",
            "button_style": "",
            "description": "Plot Type:",
            "description_tooltip": null,
            "disabled": false,
            "icons": [
              ""
            ],
            "index": 3,
            "layout": "IPY_MODEL_eb6a3cdb76c3465db717514b5310f682",
            "style": "IPY_MODEL_dfabdd5a85384e1c8204984cd424bd33",
            "tooltips": []
          }
        },
        "fc3cf60f099c4ab6b3fb3872479797d8": {
          "model_module": "@jupyter-widgets/output",
          "model_name": "OutputModel",
          "model_module_version": "1.0.0",
          "state": {
            "_dom_classes": [],
            "_model_module": "@jupyter-widgets/output",
            "_model_module_version": "1.0.0",
            "_model_name": "OutputModel",
            "_view_count": null,
            "_view_module": "@jupyter-widgets/output",
            "_view_module_version": "1.0.0",
            "_view_name": "OutputView",
            "layout": "IPY_MODEL_1821cfcdc3b2462da41782cac3d67f11",
            "msg_id": "",
            "outputs": [
              {
                "output_type": "display_data",
                "data": {
                  "text/plain": "<Figure size 800x550 with 1 Axes>",
                  "image/png": "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\n"
                },
                "metadata": {}
              }
            ]
          }
        },
        "50bced120f52466dbae06a17309c31e9": {
          "model_module": "@jupyter-widgets/base",
          "model_name": "LayoutModel",
          "model_module_version": "1.2.0",
          "state": {
            "_model_module": "@jupyter-widgets/base",
            "_model_module_version": "1.2.0",
            "_model_name": "LayoutModel",
            "_view_count": null,
            "_view_module": "@jupyter-widgets/base",
            "_view_module_version": "1.2.0",
            "_view_name": "LayoutView",
            "align_content": null,
            "align_items": null,
            "align_self": null,
            "border": null,
            "bottom": null,
            "display": null,
            "flex": null,
            "flex_flow": null,
            "grid_area": null,
            "grid_auto_columns": null,
            "grid_auto_flow": null,
            "grid_auto_rows": null,
            "grid_column": null,
            "grid_gap": null,
            "grid_row": null,
            "grid_template_areas": null,
            "grid_template_columns": null,
            "grid_template_rows": null,
            "height": null,
            "justify_content": null,
            "justify_items": null,
            "left": null,
            "margin": null,
            "max_height": null,
            "max_width": null,
            "min_height": null,
            "min_width": null,
            "object_fit": null,
            "object_position": null,
            "order": null,
            "overflow": null,
            "overflow_x": null,
            "overflow_y": null,
            "padding": null,
            "right": null,
            "top": null,
            "visibility": null,
            "width": null
          }
        },
        "eb6a3cdb76c3465db717514b5310f682": {
          "model_module": "@jupyter-widgets/base",
          "model_name": "LayoutModel",
          "model_module_version": "1.2.0",
          "state": {
            "_model_module": "@jupyter-widgets/base",
            "_model_module_version": "1.2.0",
            "_model_name": "LayoutModel",
            "_view_count": null,
            "_view_module": "@jupyter-widgets/base",
            "_view_module_version": "1.2.0",
            "_view_name": "LayoutView",
            "align_content": null,
            "align_items": null,
            "align_self": null,
            "border": null,
            "bottom": null,
            "display": null,
            "flex": null,
            "flex_flow": null,
            "grid_area": null,
            "grid_auto_columns": null,
            "grid_auto_flow": null,
            "grid_auto_rows": null,
            "grid_column": null,
            "grid_gap": null,
            "grid_row": null,
            "grid_template_areas": null,
            "grid_template_columns": null,
            "grid_template_rows": null,
            "height": null,
            "justify_content": null,
            "justify_items": null,
            "left": null,
            "margin": null,
            "max_height": null,
            "max_width": null,
            "min_height": null,
            "min_width": null,
            "object_fit": null,
            "object_position": null,
            "order": null,
            "overflow": null,
            "overflow_x": null,
            "overflow_y": null,
            "padding": null,
            "right": null,
            "top": null,
            "visibility": null,
            "width": null
          }
        },
        "dfabdd5a85384e1c8204984cd424bd33": {
          "model_module": "@jupyter-widgets/controls",
          "model_name": "ToggleButtonsStyleModel",
          "model_module_version": "1.5.0",
          "state": {
            "_model_module": "@jupyter-widgets/controls",
            "_model_module_version": "1.5.0",
            "_model_name": "ToggleButtonsStyleModel",
            "_view_count": null,
            "_view_module": "@jupyter-widgets/base",
            "_view_module_version": "1.2.0",
            "_view_name": "StyleView",
            "button_width": "",
            "description_width": "",
            "font_weight": ""
          }
        },
        "1821cfcdc3b2462da41782cac3d67f11": {
          "model_module": "@jupyter-widgets/base",
          "model_name": "LayoutModel",
          "model_module_version": "1.2.0",
          "state": {
            "_model_module": "@jupyter-widgets/base",
            "_model_module_version": "1.2.0",
            "_model_name": "LayoutModel",
            "_view_count": null,
            "_view_module": "@jupyter-widgets/base",
            "_view_module_version": "1.2.0",
            "_view_name": "LayoutView",
            "align_content": null,
            "align_items": null,
            "align_self": null,
            "border": null,
            "bottom": null,
            "display": null,
            "flex": null,
            "flex_flow": null,
            "grid_area": null,
            "grid_auto_columns": null,
            "grid_auto_flow": null,
            "grid_auto_rows": null,
            "grid_column": null,
            "grid_gap": null,
            "grid_row": null,
            "grid_template_areas": null,
            "grid_template_columns": null,
            "grid_template_rows": null,
            "height": null,
            "justify_content": null,
            "justify_items": null,
            "left": null,
            "margin": null,
            "max_height": null,
            "max_width": null,
            "min_height": null,
            "min_width": null,
            "object_fit": null,
            "object_position": null,
            "order": null,
            "overflow": null,
            "overflow_x": null,
            "overflow_y": null,
            "padding": null,
            "right": null,
            "top": null,
            "visibility": null,
            "width": null
          }
        },
        "6d0509530b204811a5c881883ca3f86b": {
          "model_module": "@jupyter-widgets/controls",
          "model_name": "HBoxModel",
          "model_module_version": "1.5.0",
          "state": {
            "_dom_classes": [],
            "_model_module": "@jupyter-widgets/controls",
            "_model_module_version": "1.5.0",
            "_model_name": "HBoxModel",
            "_view_count": null,
            "_view_module": "@jupyter-widgets/controls",
            "_view_module_version": "1.5.0",
            "_view_name": "HBoxView",
            "box_style": "",
            "children": [
              "IPY_MODEL_6d46a5dc2e604e9ea095e7a9c2d54dd6",
              "IPY_MODEL_2b259e700f2f490aba074b18022a31bd",
              "IPY_MODEL_35d30483690a4c03a780b1726399388f"
            ],
            "layout": "IPY_MODEL_3a221054db3441c4ade3c70b55a46602"
          }
        },
        "6d46a5dc2e604e9ea095e7a9c2d54dd6": {
          "model_module": "@jupyter-widgets/controls",
          "model_name": "HTMLModel",
          "model_module_version": "1.5.0",
          "state": {
            "_dom_classes": [],
            "_model_module": "@jupyter-widgets/controls",
            "_model_module_version": "1.5.0",
            "_model_name": "HTMLModel",
            "_view_count": null,
            "_view_module": "@jupyter-widgets/controls",
            "_view_module_version": "1.5.0",
            "_view_name": "HTMLView",
            "description": "",
            "description_tooltip": null,
            "layout": "IPY_MODEL_373c2ed48db64294ae47d6534491416c",
            "placeholder": "​",
            "style": "IPY_MODEL_04c49cd3b1304d6ca02f1a60d41fa939",
            "value": "Processing: 100%"
          }
        },
        "2b259e700f2f490aba074b18022a31bd": {
          "model_module": "@jupyter-widgets/controls",
          "model_name": "FloatProgressModel",
          "model_module_version": "1.5.0",
          "state": {
            "_dom_classes": [],
            "_model_module": "@jupyter-widgets/controls",
            "_model_module_version": "1.5.0",
            "_model_name": "FloatProgressModel",
            "_view_count": null,
            "_view_module": "@jupyter-widgets/controls",
            "_view_module_version": "1.5.0",
            "_view_name": "ProgressView",
            "bar_style": "",
            "description": "",
            "description_tooltip": null,
            "layout": "IPY_MODEL_e493af3cb14347e591c91e49c8d579cb",
            "max": 65,
            "min": 0,
            "orientation": "horizontal",
            "style": "IPY_MODEL_316990997ffc4a60b6081ad5d577dbed",
            "value": 65
          }
        },
        "35d30483690a4c03a780b1726399388f": {
          "model_module": "@jupyter-widgets/controls",
          "model_name": "HTMLModel",
          "model_module_version": "1.5.0",
          "state": {
            "_dom_classes": [],
            "_model_module": "@jupyter-widgets/controls",
            "_model_module_version": "1.5.0",
            "_model_name": "HTMLModel",
            "_view_count": null,
            "_view_module": "@jupyter-widgets/controls",
            "_view_module_version": "1.5.0",
            "_view_name": "HTMLView",
            "description": "",
            "description_tooltip": null,
            "layout": "IPY_MODEL_94fd486559dd495a9c86e283725974a4",
            "placeholder": "​",
            "style": "IPY_MODEL_76fa4a3409f14000b62c77bdc5b57389",
            "value": " 65/65 [09:57&lt;00:00,  5.88s/it]"
          }
        },
        "3a221054db3441c4ade3c70b55a46602": {
          "model_module": "@jupyter-widgets/base",
          "model_name": "LayoutModel",
          "model_module_version": "1.2.0",
          "state": {
            "_model_module": "@jupyter-widgets/base",
            "_model_module_version": "1.2.0",
            "_model_name": "LayoutModel",
            "_view_count": null,
            "_view_module": "@jupyter-widgets/base",
            "_view_module_version": "1.2.0",
            "_view_name": "LayoutView",
            "align_content": null,
            "align_items": null,
            "align_self": null,
            "border": null,
            "bottom": null,
            "display": null,
            "flex": null,
            "flex_flow": null,
            "grid_area": null,
            "grid_auto_columns": null,
            "grid_auto_flow": null,
            "grid_auto_rows": null,
            "grid_column": null,
            "grid_gap": null,
            "grid_row": null,
            "grid_template_areas": null,
            "grid_template_columns": null,
            "grid_template_rows": null,
            "height": null,
            "justify_content": null,
            "justify_items": null,
            "left": null,
            "margin": null,
            "max_height": null,
            "max_width": null,
            "min_height": null,
            "min_width": null,
            "object_fit": null,
            "object_position": null,
            "order": null,
            "overflow": null,
            "overflow_x": null,
            "overflow_y": null,
            "padding": null,
            "right": null,
            "top": null,
            "visibility": "hidden",
            "width": null
          }
        },
        "373c2ed48db64294ae47d6534491416c": {
          "model_module": "@jupyter-widgets/base",
          "model_name": "LayoutModel",
          "model_module_version": "1.2.0",
          "state": {
            "_model_module": "@jupyter-widgets/base",
            "_model_module_version": "1.2.0",
            "_model_name": "LayoutModel",
            "_view_count": null,
            "_view_module": "@jupyter-widgets/base",
            "_view_module_version": "1.2.0",
            "_view_name": "LayoutView",
            "align_content": null,
            "align_items": null,
            "align_self": null,
            "border": null,
            "bottom": null,
            "display": null,
            "flex": null,
            "flex_flow": null,
            "grid_area": null,
            "grid_auto_columns": null,
            "grid_auto_flow": null,
            "grid_auto_rows": null,
            "grid_column": null,
            "grid_gap": null,
            "grid_row": null,
            "grid_template_areas": null,
            "grid_template_columns": null,
            "grid_template_rows": null,
            "height": null,
            "justify_content": null,
            "justify_items": null,
            "left": null,
            "margin": null,
            "max_height": null,
            "max_width": null,
            "min_height": null,
            "min_width": null,
            "object_fit": null,
            "object_position": null,
            "order": null,
            "overflow": null,
            "overflow_x": null,
            "overflow_y": null,
            "padding": null,
            "right": null,
            "top": null,
            "visibility": null,
            "width": null
          }
        },
        "04c49cd3b1304d6ca02f1a60d41fa939": {
          "model_module": "@jupyter-widgets/controls",
          "model_name": "DescriptionStyleModel",
          "model_module_version": "1.5.0",
          "state": {
            "_model_module": "@jupyter-widgets/controls",
            "_model_module_version": "1.5.0",
            "_model_name": "DescriptionStyleModel",
            "_view_count": null,
            "_view_module": "@jupyter-widgets/base",
            "_view_module_version": "1.2.0",
            "_view_name": "StyleView",
            "description_width": ""
          }
        },
        "e493af3cb14347e591c91e49c8d579cb": {
          "model_module": "@jupyter-widgets/base",
          "model_name": "LayoutModel",
          "model_module_version": "1.2.0",
          "state": {
            "_model_module": "@jupyter-widgets/base",
            "_model_module_version": "1.2.0",
            "_model_name": "LayoutModel",
            "_view_count": null,
            "_view_module": "@jupyter-widgets/base",
            "_view_module_version": "1.2.0",
            "_view_name": "LayoutView",
            "align_content": null,
            "align_items": null,
            "align_self": null,
            "border": null,
            "bottom": null,
            "display": null,
            "flex": null,
            "flex_flow": null,
            "grid_area": null,
            "grid_auto_columns": null,
            "grid_auto_flow": null,
            "grid_auto_rows": null,
            "grid_column": null,
            "grid_gap": null,
            "grid_row": null,
            "grid_template_areas": null,
            "grid_template_columns": null,
            "grid_template_rows": null,
            "height": null,
            "justify_content": null,
            "justify_items": null,
            "left": null,
            "margin": null,
            "max_height": null,
            "max_width": null,
            "min_height": null,
            "min_width": null,
            "object_fit": null,
            "object_position": null,
            "order": null,
            "overflow": null,
            "overflow_x": null,
            "overflow_y": null,
            "padding": null,
            "right": null,
            "top": null,
            "visibility": null,
            "width": null
          }
        },
        "316990997ffc4a60b6081ad5d577dbed": {
          "model_module": "@jupyter-widgets/controls",
          "model_name": "ProgressStyleModel",
          "model_module_version": "1.5.0",
          "state": {
            "_model_module": "@jupyter-widgets/controls",
            "_model_module_version": "1.5.0",
            "_model_name": "ProgressStyleModel",
            "_view_count": null,
            "_view_module": "@jupyter-widgets/base",
            "_view_module_version": "1.2.0",
            "_view_name": "StyleView",
            "bar_color": null,
            "description_width": ""
          }
        },
        "94fd486559dd495a9c86e283725974a4": {
          "model_module": "@jupyter-widgets/base",
          "model_name": "LayoutModel",
          "model_module_version": "1.2.0",
          "state": {
            "_model_module": "@jupyter-widgets/base",
            "_model_module_version": "1.2.0",
            "_model_name": "LayoutModel",
            "_view_count": null,
            "_view_module": "@jupyter-widgets/base",
            "_view_module_version": "1.2.0",
            "_view_name": "LayoutView",
            "align_content": null,
            "align_items": null,
            "align_self": null,
            "border": null,
            "bottom": null,
            "display": null,
            "flex": null,
            "flex_flow": null,
            "grid_area": null,
            "grid_auto_columns": null,
            "grid_auto_flow": null,
            "grid_auto_rows": null,
            "grid_column": null,
            "grid_gap": null,
            "grid_row": null,
            "grid_template_areas": null,
            "grid_template_columns": null,
            "grid_template_rows": null,
            "height": null,
            "justify_content": null,
            "justify_items": null,
            "left": null,
            "margin": null,
            "max_height": null,
            "max_width": null,
            "min_height": null,
            "min_width": null,
            "object_fit": null,
            "object_position": null,
            "order": null,
            "overflow": null,
            "overflow_x": null,
            "overflow_y": null,
            "padding": null,
            "right": null,
            "top": null,
            "visibility": null,
            "width": null
          }
        },
        "76fa4a3409f14000b62c77bdc5b57389": {
          "model_module": "@jupyter-widgets/controls",
          "model_name": "DescriptionStyleModel",
          "model_module_version": "1.5.0",
          "state": {
            "_model_module": "@jupyter-widgets/controls",
            "_model_module_version": "1.5.0",
            "_model_name": "DescriptionStyleModel",
            "_view_count": null,
            "_view_module": "@jupyter-widgets/base",
            "_view_module_version": "1.2.0",
            "_view_name": "StyleView",
            "description_width": ""
          }
        },
        "9af60badf2724a8dbfb08de24e6f9103": {
          "model_module": "@jupyter-widgets/controls",
          "model_name": "VBoxModel",
          "model_module_version": "1.5.0",
          "state": {
            "_dom_classes": [
              "widget-interact"
            ],
            "_model_module": "@jupyter-widgets/controls",
            "_model_module_version": "1.5.0",
            "_model_name": "VBoxModel",
            "_view_count": null,
            "_view_module": "@jupyter-widgets/controls",
            "_view_module_version": "1.5.0",
            "_view_name": "VBoxView",
            "box_style": "",
            "children": [
              "IPY_MODEL_cd99b0343db44ab593ee1b0eb2e398cd",
              "IPY_MODEL_7518226c01a64f37b178b1101b81f7a3"
            ],
            "layout": "IPY_MODEL_4e32e7ace4fe49faa0e1b7525a1659b3"
          }
        },
        "cd99b0343db44ab593ee1b0eb2e398cd": {
          "model_module": "@jupyter-widgets/controls",
          "model_name": "ToggleButtonsModel",
          "model_module_version": "1.5.0",
          "state": {
            "_dom_classes": [],
            "_model_module": "@jupyter-widgets/controls",
            "_model_module_version": "1.5.0",
            "_model_name": "ToggleButtonsModel",
            "_options_labels": [
              "Pipeline Plot",
              "Hyperparameters",
              "AUC",
              "Confusion Matrix",
              "Threshold",
              "Precision Recall",
              "Prediction Error",
              "Class Report",
              "Feature Selection",
              "Learning Curve",
              "Manifold Learning",
              "Calibration Curve",
              "Validation Curve",
              "Dimensions",
              "Feature Importance",
              "Feature Importance (All)",
              "Decision Boundary",
              "Lift Chart",
              "Gain Chart",
              "Decision Tree",
              "KS Statistic Plot"
            ],
            "_view_count": null,
            "_view_module": "@jupyter-widgets/controls",
            "_view_module_version": "1.5.0",
            "_view_name": "ToggleButtonsView",
            "button_style": "",
            "description": "Plot Type:",
            "description_tooltip": null,
            "disabled": false,
            "icons": [
              ""
            ],
            "index": 1,
            "layout": "IPY_MODEL_b1f659e3b4704df4ba4dd1c8f9729246",
            "style": "IPY_MODEL_4790c39965f04a6ab6777a3d774a1409",
            "tooltips": []
          }
        },
        "7518226c01a64f37b178b1101b81f7a3": {
          "model_module": "@jupyter-widgets/output",
          "model_name": "OutputModel",
          "model_module_version": "1.0.0",
          "state": {
            "_dom_classes": [],
            "_model_module": "@jupyter-widgets/output",
            "_model_module_version": "1.0.0",
            "_model_name": "OutputModel",
            "_view_count": null,
            "_view_module": "@jupyter-widgets/output",
            "_view_module_version": "1.0.0",
            "_view_name": "OutputView",
            "layout": "IPY_MODEL_c06e1e72acc64c69b0ed2f6f44426436",
            "msg_id": "",
            "outputs": [
              {
                "output_type": "display_data",
                "data": {
                  "text/plain": "<Figure size 800x550 with 1 Axes>",
                  "image/png": "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\n"
                },
                "metadata": {}
              }
            ]
          }
        },
        "4e32e7ace4fe49faa0e1b7525a1659b3": {
          "model_module": "@jupyter-widgets/base",
          "model_name": "LayoutModel",
          "model_module_version": "1.2.0",
          "state": {
            "_model_module": "@jupyter-widgets/base",
            "_model_module_version": "1.2.0",
            "_model_name": "LayoutModel",
            "_view_count": null,
            "_view_module": "@jupyter-widgets/base",
            "_view_module_version": "1.2.0",
            "_view_name": "LayoutView",
            "align_content": null,
            "align_items": null,
            "align_self": null,
            "border": null,
            "bottom": null,
            "display": null,
            "flex": null,
            "flex_flow": null,
            "grid_area": null,
            "grid_auto_columns": null,
            "grid_auto_flow": null,
            "grid_auto_rows": null,
            "grid_column": null,
            "grid_gap": null,
            "grid_row": null,
            "grid_template_areas": null,
            "grid_template_columns": null,
            "grid_template_rows": null,
            "height": null,
            "justify_content": null,
            "justify_items": null,
            "left": null,
            "margin": null,
            "max_height": null,
            "max_width": null,
            "min_height": null,
            "min_width": null,
            "object_fit": null,
            "object_position": null,
            "order": null,
            "overflow": null,
            "overflow_x": null,
            "overflow_y": null,
            "padding": null,
            "right": null,
            "top": null,
            "visibility": null,
            "width": null
          }
        },
        "b1f659e3b4704df4ba4dd1c8f9729246": {
          "model_module": "@jupyter-widgets/base",
          "model_name": "LayoutModel",
          "model_module_version": "1.2.0",
          "state": {
            "_model_module": "@jupyter-widgets/base",
            "_model_module_version": "1.2.0",
            "_model_name": "LayoutModel",
            "_view_count": null,
            "_view_module": "@jupyter-widgets/base",
            "_view_module_version": "1.2.0",
            "_view_name": "LayoutView",
            "align_content": null,
            "align_items": null,
            "align_self": null,
            "border": null,
            "bottom": null,
            "display": null,
            "flex": null,
            "flex_flow": null,
            "grid_area": null,
            "grid_auto_columns": null,
            "grid_auto_flow": null,
            "grid_auto_rows": null,
            "grid_column": null,
            "grid_gap": null,
            "grid_row": null,
            "grid_template_areas": null,
            "grid_template_columns": null,
            "grid_template_rows": null,
            "height": null,
            "justify_content": null,
            "justify_items": null,
            "left": null,
            "margin": null,
            "max_height": null,
            "max_width": null,
            "min_height": null,
            "min_width": null,
            "object_fit": null,
            "object_position": null,
            "order": null,
            "overflow": null,
            "overflow_x": null,
            "overflow_y": null,
            "padding": null,
            "right": null,
            "top": null,
            "visibility": null,
            "width": null
          }
        },
        "4790c39965f04a6ab6777a3d774a1409": {
          "model_module": "@jupyter-widgets/controls",
          "model_name": "ToggleButtonsStyleModel",
          "model_module_version": "1.5.0",
          "state": {
            "_model_module": "@jupyter-widgets/controls",
            "_model_module_version": "1.5.0",
            "_model_name": "ToggleButtonsStyleModel",
            "_view_count": null,
            "_view_module": "@jupyter-widgets/base",
            "_view_module_version": "1.2.0",
            "_view_name": "StyleView",
            "button_width": "",
            "description_width": "",
            "font_weight": ""
          }
        },
        "c06e1e72acc64c69b0ed2f6f44426436": {
          "model_module": "@jupyter-widgets/base",
          "model_name": "LayoutModel",
          "model_module_version": "1.2.0",
          "state": {
            "_model_module": "@jupyter-widgets/base",
            "_model_module_version": "1.2.0",
            "_model_name": "LayoutModel",
            "_view_count": null,
            "_view_module": "@jupyter-widgets/base",
            "_view_module_version": "1.2.0",
            "_view_name": "LayoutView",
            "align_content": null,
            "align_items": null,
            "align_self": null,
            "border": null,
            "bottom": null,
            "display": null,
            "flex": null,
            "flex_flow": null,
            "grid_area": null,
            "grid_auto_columns": null,
            "grid_auto_flow": null,
            "grid_auto_rows": null,
            "grid_column": null,
            "grid_gap": null,
            "grid_row": null,
            "grid_template_areas": null,
            "grid_template_columns": null,
            "grid_template_rows": null,
            "height": null,
            "justify_content": null,
            "justify_items": null,
            "left": null,
            "margin": null,
            "max_height": null,
            "max_width": null,
            "min_height": null,
            "min_width": null,
            "object_fit": null,
            "object_position": null,
            "order": null,
            "overflow": null,
            "overflow_x": null,
            "overflow_y": null,
            "padding": null,
            "right": null,
            "top": null,
            "visibility": null,
            "width": null
          }
        },
        "cad13e520d5040a0b455dc05c1523a02": {
          "model_module": "@jupyter-widgets/controls",
          "model_name": "HBoxModel",
          "model_module_version": "1.5.0",
          "state": {
            "_dom_classes": [],
            "_model_module": "@jupyter-widgets/controls",
            "_model_module_version": "1.5.0",
            "_model_name": "HBoxModel",
            "_view_count": null,
            "_view_module": "@jupyter-widgets/controls",
            "_view_module_version": "1.5.0",
            "_view_name": "HBoxView",
            "box_style": "",
            "children": [
              "IPY_MODEL_3ab18376d5424103912f466b4933de28",
              "IPY_MODEL_24789086d3054c8380a264f674d08e5a",
              "IPY_MODEL_4c41738953d94c31be7c1e1743845931"
            ],
            "layout": "IPY_MODEL_44180613676f42db8f2b0927dc9fbadc"
          }
        },
        "3ab18376d5424103912f466b4933de28": {
          "model_module": "@jupyter-widgets/controls",
          "model_name": "HTMLModel",
          "model_module_version": "1.5.0",
          "state": {
            "_dom_classes": [],
            "_model_module": "@jupyter-widgets/controls",
            "_model_module_version": "1.5.0",
            "_model_name": "HTMLModel",
            "_view_count": null,
            "_view_module": "@jupyter-widgets/controls",
            "_view_module_version": "1.5.0",
            "_view_name": "HTMLView",
            "description": "",
            "description_tooltip": null,
            "layout": "IPY_MODEL_5a408a2bf04d46f1b74fc91bd571c952",
            "placeholder": "​",
            "style": "IPY_MODEL_738753667b7848789f9aef38dcab967a",
            "value": "Processing: 100%"
          }
        },
        "24789086d3054c8380a264f674d08e5a": {
          "model_module": "@jupyter-widgets/controls",
          "model_name": "FloatProgressModel",
          "model_module_version": "1.5.0",
          "state": {
            "_dom_classes": [],
            "_model_module": "@jupyter-widgets/controls",
            "_model_module_version": "1.5.0",
            "_model_name": "FloatProgressModel",
            "_view_count": null,
            "_view_module": "@jupyter-widgets/controls",
            "_view_module_version": "1.5.0",
            "_view_name": "ProgressView",
            "bar_style": "",
            "description": "",
            "description_tooltip": null,
            "layout": "IPY_MODEL_5eabf03d7fd442fb85c37900e3bc7dc2",
            "max": 81,
            "min": 0,
            "orientation": "horizontal",
            "style": "IPY_MODEL_0b85cc1949004586a0d3a248d93791c0",
            "value": 81
          }
        },
        "4c41738953d94c31be7c1e1743845931": {
          "model_module": "@jupyter-widgets/controls",
          "model_name": "HTMLModel",
          "model_module_version": "1.5.0",
          "state": {
            "_dom_classes": [],
            "_model_module": "@jupyter-widgets/controls",
            "_model_module_version": "1.5.0",
            "_model_name": "HTMLModel",
            "_view_count": null,
            "_view_module": "@jupyter-widgets/controls",
            "_view_module_version": "1.5.0",
            "_view_name": "HTMLView",
            "description": "",
            "description_tooltip": null,
            "layout": "IPY_MODEL_47bb4a6d91b3462a806113727971370a",
            "placeholder": "​",
            "style": "IPY_MODEL_93f704b2f6bf412a862124a59e362f84",
            "value": " 81/81 [00:37&lt;00:00,  3.36it/s]"
          }
        },
        "44180613676f42db8f2b0927dc9fbadc": {
          "model_module": "@jupyter-widgets/base",
          "model_name": "LayoutModel",
          "model_module_version": "1.2.0",
          "state": {
            "_model_module": "@jupyter-widgets/base",
            "_model_module_version": "1.2.0",
            "_model_name": "LayoutModel",
            "_view_count": null,
            "_view_module": "@jupyter-widgets/base",
            "_view_module_version": "1.2.0",
            "_view_name": "LayoutView",
            "align_content": null,
            "align_items": null,
            "align_self": null,
            "border": null,
            "bottom": null,
            "display": null,
            "flex": null,
            "flex_flow": null,
            "grid_area": null,
            "grid_auto_columns": null,
            "grid_auto_flow": null,
            "grid_auto_rows": null,
            "grid_column": null,
            "grid_gap": null,
            "grid_row": null,
            "grid_template_areas": null,
            "grid_template_columns": null,
            "grid_template_rows": null,
            "height": null,
            "justify_content": null,
            "justify_items": null,
            "left": null,
            "margin": null,
            "max_height": null,
            "max_width": null,
            "min_height": null,
            "min_width": null,
            "object_fit": null,
            "object_position": null,
            "order": null,
            "overflow": null,
            "overflow_x": null,
            "overflow_y": null,
            "padding": null,
            "right": null,
            "top": null,
            "visibility": "hidden",
            "width": null
          }
        },
        "5a408a2bf04d46f1b74fc91bd571c952": {
          "model_module": "@jupyter-widgets/base",
          "model_name": "LayoutModel",
          "model_module_version": "1.2.0",
          "state": {
            "_model_module": "@jupyter-widgets/base",
            "_model_module_version": "1.2.0",
            "_model_name": "LayoutModel",
            "_view_count": null,
            "_view_module": "@jupyter-widgets/base",
            "_view_module_version": "1.2.0",
            "_view_name": "LayoutView",
            "align_content": null,
            "align_items": null,
            "align_self": null,
            "border": null,
            "bottom": null,
            "display": null,
            "flex": null,
            "flex_flow": null,
            "grid_area": null,
            "grid_auto_columns": null,
            "grid_auto_flow": null,
            "grid_auto_rows": null,
            "grid_column": null,
            "grid_gap": null,
            "grid_row": null,
            "grid_template_areas": null,
            "grid_template_columns": null,
            "grid_template_rows": null,
            "height": null,
            "justify_content": null,
            "justify_items": null,
            "left": null,
            "margin": null,
            "max_height": null,
            "max_width": null,
            "min_height": null,
            "min_width": null,
            "object_fit": null,
            "object_position": null,
            "order": null,
            "overflow": null,
            "overflow_x": null,
            "overflow_y": null,
            "padding": null,
            "right": null,
            "top": null,
            "visibility": null,
            "width": null
          }
        },
        "738753667b7848789f9aef38dcab967a": {
          "model_module": "@jupyter-widgets/controls",
          "model_name": "DescriptionStyleModel",
          "model_module_version": "1.5.0",
          "state": {
            "_model_module": "@jupyter-widgets/controls",
            "_model_module_version": "1.5.0",
            "_model_name": "DescriptionStyleModel",
            "_view_count": null,
            "_view_module": "@jupyter-widgets/base",
            "_view_module_version": "1.2.0",
            "_view_name": "StyleView",
            "description_width": ""
          }
        },
        "5eabf03d7fd442fb85c37900e3bc7dc2": {
          "model_module": "@jupyter-widgets/base",
          "model_name": "LayoutModel",
          "model_module_version": "1.2.0",
          "state": {
            "_model_module": "@jupyter-widgets/base",
            "_model_module_version": "1.2.0",
            "_model_name": "LayoutModel",
            "_view_count": null,
            "_view_module": "@jupyter-widgets/base",
            "_view_module_version": "1.2.0",
            "_view_name": "LayoutView",
            "align_content": null,
            "align_items": null,
            "align_self": null,
            "border": null,
            "bottom": null,
            "display": null,
            "flex": null,
            "flex_flow": null,
            "grid_area": null,
            "grid_auto_columns": null,
            "grid_auto_flow": null,
            "grid_auto_rows": null,
            "grid_column": null,
            "grid_gap": null,
            "grid_row": null,
            "grid_template_areas": null,
            "grid_template_columns": null,
            "grid_template_rows": null,
            "height": null,
            "justify_content": null,
            "justify_items": null,
            "left": null,
            "margin": null,
            "max_height": null,
            "max_width": null,
            "min_height": null,
            "min_width": null,
            "object_fit": null,
            "object_position": null,
            "order": null,
            "overflow": null,
            "overflow_x": null,
            "overflow_y": null,
            "padding": null,
            "right": null,
            "top": null,
            "visibility": null,
            "width": null
          }
        },
        "0b85cc1949004586a0d3a248d93791c0": {
          "model_module": "@jupyter-widgets/controls",
          "model_name": "ProgressStyleModel",
          "model_module_version": "1.5.0",
          "state": {
            "_model_module": "@jupyter-widgets/controls",
            "_model_module_version": "1.5.0",
            "_model_name": "ProgressStyleModel",
            "_view_count": null,
            "_view_module": "@jupyter-widgets/base",
            "_view_module_version": "1.2.0",
            "_view_name": "StyleView",
            "bar_color": null,
            "description_width": ""
          }
        },
        "47bb4a6d91b3462a806113727971370a": {
          "model_module": "@jupyter-widgets/base",
          "model_name": "LayoutModel",
          "model_module_version": "1.2.0",
          "state": {
            "_model_module": "@jupyter-widgets/base",
            "_model_module_version": "1.2.0",
            "_model_name": "LayoutModel",
            "_view_count": null,
            "_view_module": "@jupyter-widgets/base",
            "_view_module_version": "1.2.0",
            "_view_name": "LayoutView",
            "align_content": null,
            "align_items": null,
            "align_self": null,
            "border": null,
            "bottom": null,
            "display": null,
            "flex": null,
            "flex_flow": null,
            "grid_area": null,
            "grid_auto_columns": null,
            "grid_auto_flow": null,
            "grid_auto_rows": null,
            "grid_column": null,
            "grid_gap": null,
            "grid_row": null,
            "grid_template_areas": null,
            "grid_template_columns": null,
            "grid_template_rows": null,
            "height": null,
            "justify_content": null,
            "justify_items": null,
            "left": null,
            "margin": null,
            "max_height": null,
            "max_width": null,
            "min_height": null,
            "min_width": null,
            "object_fit": null,
            "object_position": null,
            "order": null,
            "overflow": null,
            "overflow_x": null,
            "overflow_y": null,
            "padding": null,
            "right": null,
            "top": null,
            "visibility": null,
            "width": null
          }
        },
        "93f704b2f6bf412a862124a59e362f84": {
          "model_module": "@jupyter-widgets/controls",
          "model_name": "DescriptionStyleModel",
          "model_module_version": "1.5.0",
          "state": {
            "_model_module": "@jupyter-widgets/controls",
            "_model_module_version": "1.5.0",
            "_model_name": "DescriptionStyleModel",
            "_view_count": null,
            "_view_module": "@jupyter-widgets/base",
            "_view_module_version": "1.2.0",
            "_view_name": "StyleView",
            "description_width": ""
          }
        },
        "5f92372e8a1b447da90a472cba066de4": {
          "model_module": "@jupyter-widgets/controls",
          "model_name": "VBoxModel",
          "model_module_version": "1.5.0",
          "state": {
            "_dom_classes": [
              "widget-interact"
            ],
            "_model_module": "@jupyter-widgets/controls",
            "_model_module_version": "1.5.0",
            "_model_name": "VBoxModel",
            "_view_count": null,
            "_view_module": "@jupyter-widgets/controls",
            "_view_module_version": "1.5.0",
            "_view_name": "VBoxView",
            "box_style": "",
            "children": [
              "IPY_MODEL_082733f4969248028422d5903bcd25ed",
              "IPY_MODEL_c11e7a9c323e4073bb4cc70104270763"
            ],
            "layout": "IPY_MODEL_f95a71b5424546c2b457df1f742b285f"
          }
        },
        "082733f4969248028422d5903bcd25ed": {
          "model_module": "@jupyter-widgets/controls",
          "model_name": "ToggleButtonsModel",
          "model_module_version": "1.5.0",
          "state": {
            "_dom_classes": [],
            "_model_module": "@jupyter-widgets/controls",
            "_model_module_version": "1.5.0",
            "_model_name": "ToggleButtonsModel",
            "_options_labels": [
              "Pipeline Plot",
              "Hyperparameters",
              "Residuals",
              "Prediction Error",
              "Cooks Distance",
              "Feature Selection",
              "Learning Curve",
              "Manifold Learning",
              "Validation Curve",
              "Feature Importance",
              "Feature Importance (All)",
              "Decision Tree",
              "Interactive Residuals"
            ],
            "_view_count": null,
            "_view_module": "@jupyter-widgets/controls",
            "_view_module_version": "1.5.0",
            "_view_name": "ToggleButtonsView",
            "button_style": "",
            "description": "Plot Type:",
            "description_tooltip": null,
            "disabled": false,
            "icons": [
              ""
            ],
            "index": 0,
            "layout": "IPY_MODEL_876bf1ddbbb643dda7a776e886e3780e",
            "style": "IPY_MODEL_80d6ce41d20b4351a99d193754f6c506",
            "tooltips": []
          }
        },
        "c11e7a9c323e4073bb4cc70104270763": {
          "model_module": "@jupyter-widgets/output",
          "model_name": "OutputModel",
          "model_module_version": "1.0.0",
          "state": {
            "_dom_classes": [],
            "_model_module": "@jupyter-widgets/output",
            "_model_module_version": "1.0.0",
            "_model_name": "OutputModel",
            "_view_count": null,
            "_view_module": "@jupyter-widgets/output",
            "_view_module_version": "1.0.0",
            "_view_name": "OutputView",
            "layout": "IPY_MODEL_eea9d2a2f2cb4ad99bc7f1bf9ff00035",
            "msg_id": "",
            "outputs": [
              {
                "output_type": "display_data",
                "data": {
                  "text/plain": "<Figure size 1700x600 with 1 Axes>",
                  "image/png": "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\n"
                },
                "metadata": {}
              }
            ]
          }
        },
        "f95a71b5424546c2b457df1f742b285f": {
          "model_module": "@jupyter-widgets/base",
          "model_name": "LayoutModel",
          "model_module_version": "1.2.0",
          "state": {
            "_model_module": "@jupyter-widgets/base",
            "_model_module_version": "1.2.0",
            "_model_name": "LayoutModel",
            "_view_count": null,
            "_view_module": "@jupyter-widgets/base",
            "_view_module_version": "1.2.0",
            "_view_name": "LayoutView",
            "align_content": null,
            "align_items": null,
            "align_self": null,
            "border": null,
            "bottom": null,
            "display": null,
            "flex": null,
            "flex_flow": null,
            "grid_area": null,
            "grid_auto_columns": null,
            "grid_auto_flow": null,
            "grid_auto_rows": null,
            "grid_column": null,
            "grid_gap": null,
            "grid_row": null,
            "grid_template_areas": null,
            "grid_template_columns": null,
            "grid_template_rows": null,
            "height": null,
            "justify_content": null,
            "justify_items": null,
            "left": null,
            "margin": null,
            "max_height": null,
            "max_width": null,
            "min_height": null,
            "min_width": null,
            "object_fit": null,
            "object_position": null,
            "order": null,
            "overflow": null,
            "overflow_x": null,
            "overflow_y": null,
            "padding": null,
            "right": null,
            "top": null,
            "visibility": null,
            "width": null
          }
        },
        "876bf1ddbbb643dda7a776e886e3780e": {
          "model_module": "@jupyter-widgets/base",
          "model_name": "LayoutModel",
          "model_module_version": "1.2.0",
          "state": {
            "_model_module": "@jupyter-widgets/base",
            "_model_module_version": "1.2.0",
            "_model_name": "LayoutModel",
            "_view_count": null,
            "_view_module": "@jupyter-widgets/base",
            "_view_module_version": "1.2.0",
            "_view_name": "LayoutView",
            "align_content": null,
            "align_items": null,
            "align_self": null,
            "border": null,
            "bottom": null,
            "display": null,
            "flex": null,
            "flex_flow": null,
            "grid_area": null,
            "grid_auto_columns": null,
            "grid_auto_flow": null,
            "grid_auto_rows": null,
            "grid_column": null,
            "grid_gap": null,
            "grid_row": null,
            "grid_template_areas": null,
            "grid_template_columns": null,
            "grid_template_rows": null,
            "height": null,
            "justify_content": null,
            "justify_items": null,
            "left": null,
            "margin": null,
            "max_height": null,
            "max_width": null,
            "min_height": null,
            "min_width": null,
            "object_fit": null,
            "object_position": null,
            "order": null,
            "overflow": null,
            "overflow_x": null,
            "overflow_y": null,
            "padding": null,
            "right": null,
            "top": null,
            "visibility": null,
            "width": null
          }
        },
        "80d6ce41d20b4351a99d193754f6c506": {
          "model_module": "@jupyter-widgets/controls",
          "model_name": "ToggleButtonsStyleModel",
          "model_module_version": "1.5.0",
          "state": {
            "_model_module": "@jupyter-widgets/controls",
            "_model_module_version": "1.5.0",
            "_model_name": "ToggleButtonsStyleModel",
            "_view_count": null,
            "_view_module": "@jupyter-widgets/base",
            "_view_module_version": "1.2.0",
            "_view_name": "StyleView",
            "button_width": "",
            "description_width": "",
            "font_weight": ""
          }
        },
        "eea9d2a2f2cb4ad99bc7f1bf9ff00035": {
          "model_module": "@jupyter-widgets/base",
          "model_name": "LayoutModel",
          "model_module_version": "1.2.0",
          "state": {
            "_model_module": "@jupyter-widgets/base",
            "_model_module_version": "1.2.0",
            "_model_name": "LayoutModel",
            "_view_count": null,
            "_view_module": "@jupyter-widgets/base",
            "_view_module_version": "1.2.0",
            "_view_name": "LayoutView",
            "align_content": null,
            "align_items": null,
            "align_self": null,
            "border": null,
            "bottom": null,
            "display": null,
            "flex": null,
            "flex_flow": null,
            "grid_area": null,
            "grid_auto_columns": null,
            "grid_auto_flow": null,
            "grid_auto_rows": null,
            "grid_column": null,
            "grid_gap": null,
            "grid_row": null,
            "grid_template_areas": null,
            "grid_template_columns": null,
            "grid_template_rows": null,
            "height": null,
            "justify_content": null,
            "justify_items": null,
            "left": null,
            "margin": null,
            "max_height": null,
            "max_width": null,
            "min_height": null,
            "min_width": null,
            "object_fit": null,
            "object_position": null,
            "order": null,
            "overflow": null,
            "overflow_x": null,
            "overflow_y": null,
            "padding": null,
            "right": null,
            "top": null,
            "visibility": null,
            "width": null
          }
        },
        "406fc20ac3ab49459c6bd287c88b52fb": {
          "model_module": "@jupyter-widgets/controls",
          "model_name": "HBoxModel",
          "model_module_version": "1.5.0",
          "state": {
            "_dom_classes": [],
            "_model_module": "@jupyter-widgets/controls",
            "_model_module_version": "1.5.0",
            "_model_name": "HBoxModel",
            "_view_count": null,
            "_view_module": "@jupyter-widgets/controls",
            "_view_module_version": "1.5.0",
            "_view_name": "HBoxView",
            "box_style": "",
            "children": [
              "IPY_MODEL_4b7aa7aa9f4c471781e53ef9d6932d32",
              "IPY_MODEL_5eccdd51dca0477984809382e7b4d250",
              "IPY_MODEL_e8e9fd6adc3045bdb970a9dbea5df970"
            ],
            "layout": "IPY_MODEL_baa6099604c74ae2b81a20f88dedf38b"
          }
        },
        "4b7aa7aa9f4c471781e53ef9d6932d32": {
          "model_module": "@jupyter-widgets/controls",
          "model_name": "HTMLModel",
          "model_module_version": "1.5.0",
          "state": {
            "_dom_classes": [],
            "_model_module": "@jupyter-widgets/controls",
            "_model_module_version": "1.5.0",
            "_model_name": "HTMLModel",
            "_view_count": null,
            "_view_module": "@jupyter-widgets/controls",
            "_view_module_version": "1.5.0",
            "_view_name": "HTMLView",
            "description": "",
            "description_tooltip": null,
            "layout": "IPY_MODEL_f74936a8ff2544b3988d3a1f299cf498",
            "placeholder": "​",
            "style": "IPY_MODEL_201f7ea4e0834080a8306d01238e30de",
            "value": "Processing:   0%"
          }
        },
        "5eccdd51dca0477984809382e7b4d250": {
          "model_module": "@jupyter-widgets/controls",
          "model_name": "FloatProgressModel",
          "model_module_version": "1.5.0",
          "state": {
            "_dom_classes": [],
            "_model_module": "@jupyter-widgets/controls",
            "_model_module_version": "1.5.0",
            "_model_name": "FloatProgressModel",
            "_view_count": null,
            "_view_module": "@jupyter-widgets/controls",
            "_view_module_version": "1.5.0",
            "_view_name": "ProgressView",
            "bar_style": "",
            "description": "",
            "description_tooltip": null,
            "layout": "IPY_MODEL_bb75e55a171c4d8db1e4ca4636c80fd8",
            "max": 3,
            "min": 0,
            "orientation": "horizontal",
            "style": "IPY_MODEL_a30b251213f6404580dbae474a74e637",
            "value": 3
          }
        },
        "e8e9fd6adc3045bdb970a9dbea5df970": {
          "model_module": "@jupyter-widgets/controls",
          "model_name": "HTMLModel",
          "model_module_version": "1.5.0",
          "state": {
            "_dom_classes": [],
            "_model_module": "@jupyter-widgets/controls",
            "_model_module_version": "1.5.0",
            "_model_name": "HTMLModel",
            "_view_count": null,
            "_view_module": "@jupyter-widgets/controls",
            "_view_module_version": "1.5.0",
            "_view_name": "HTMLView",
            "description": "",
            "description_tooltip": null,
            "layout": "IPY_MODEL_082f80199e634be49e7a140e0f95d5b4",
            "placeholder": "​",
            "style": "IPY_MODEL_199bf86024fc4f39b10bdf124f096178",
            "value": " 0/3 [00:00&lt;?, ?it/s]"
          }
        },
        "baa6099604c74ae2b81a20f88dedf38b": {
          "model_module": "@jupyter-widgets/base",
          "model_name": "LayoutModel",
          "model_module_version": "1.2.0",
          "state": {
            "_model_module": "@jupyter-widgets/base",
            "_model_module_version": "1.2.0",
            "_model_name": "LayoutModel",
            "_view_count": null,
            "_view_module": "@jupyter-widgets/base",
            "_view_module_version": "1.2.0",
            "_view_name": "LayoutView",
            "align_content": null,
            "align_items": null,
            "align_self": null,
            "border": null,
            "bottom": null,
            "display": null,
            "flex": null,
            "flex_flow": null,
            "grid_area": null,
            "grid_auto_columns": null,
            "grid_auto_flow": null,
            "grid_auto_rows": null,
            "grid_column": null,
            "grid_gap": null,
            "grid_row": null,
            "grid_template_areas": null,
            "grid_template_columns": null,
            "grid_template_rows": null,
            "height": null,
            "justify_content": null,
            "justify_items": null,
            "left": null,
            "margin": null,
            "max_height": null,
            "max_width": null,
            "min_height": null,
            "min_width": null,
            "object_fit": null,
            "object_position": null,
            "order": null,
            "overflow": null,
            "overflow_x": null,
            "overflow_y": null,
            "padding": null,
            "right": null,
            "top": null,
            "visibility": "hidden",
            "width": null
          }
        },
        "f74936a8ff2544b3988d3a1f299cf498": {
          "model_module": "@jupyter-widgets/base",
          "model_name": "LayoutModel",
          "model_module_version": "1.2.0",
          "state": {
            "_model_module": "@jupyter-widgets/base",
            "_model_module_version": "1.2.0",
            "_model_name": "LayoutModel",
            "_view_count": null,
            "_view_module": "@jupyter-widgets/base",
            "_view_module_version": "1.2.0",
            "_view_name": "LayoutView",
            "align_content": null,
            "align_items": null,
            "align_self": null,
            "border": null,
            "bottom": null,
            "display": null,
            "flex": null,
            "flex_flow": null,
            "grid_area": null,
            "grid_auto_columns": null,
            "grid_auto_flow": null,
            "grid_auto_rows": null,
            "grid_column": null,
            "grid_gap": null,
            "grid_row": null,
            "grid_template_areas": null,
            "grid_template_columns": null,
            "grid_template_rows": null,
            "height": null,
            "justify_content": null,
            "justify_items": null,
            "left": null,
            "margin": null,
            "max_height": null,
            "max_width": null,
            "min_height": null,
            "min_width": null,
            "object_fit": null,
            "object_position": null,
            "order": null,
            "overflow": null,
            "overflow_x": null,
            "overflow_y": null,
            "padding": null,
            "right": null,
            "top": null,
            "visibility": null,
            "width": null
          }
        },
        "201f7ea4e0834080a8306d01238e30de": {
          "model_module": "@jupyter-widgets/controls",
          "model_name": "DescriptionStyleModel",
          "model_module_version": "1.5.0",
          "state": {
            "_model_module": "@jupyter-widgets/controls",
            "_model_module_version": "1.5.0",
            "_model_name": "DescriptionStyleModel",
            "_view_count": null,
            "_view_module": "@jupyter-widgets/base",
            "_view_module_version": "1.2.0",
            "_view_name": "StyleView",
            "description_width": ""
          }
        },
        "bb75e55a171c4d8db1e4ca4636c80fd8": {
          "model_module": "@jupyter-widgets/base",
          "model_name": "LayoutModel",
          "model_module_version": "1.2.0",
          "state": {
            "_model_module": "@jupyter-widgets/base",
            "_model_module_version": "1.2.0",
            "_model_name": "LayoutModel",
            "_view_count": null,
            "_view_module": "@jupyter-widgets/base",
            "_view_module_version": "1.2.0",
            "_view_name": "LayoutView",
            "align_content": null,
            "align_items": null,
            "align_self": null,
            "border": null,
            "bottom": null,
            "display": null,
            "flex": null,
            "flex_flow": null,
            "grid_area": null,
            "grid_auto_columns": null,
            "grid_auto_flow": null,
            "grid_auto_rows": null,
            "grid_column": null,
            "grid_gap": null,
            "grid_row": null,
            "grid_template_areas": null,
            "grid_template_columns": null,
            "grid_template_rows": null,
            "height": null,
            "justify_content": null,
            "justify_items": null,
            "left": null,
            "margin": null,
            "max_height": null,
            "max_width": null,
            "min_height": null,
            "min_width": null,
            "object_fit": null,
            "object_position": null,
            "order": null,
            "overflow": null,
            "overflow_x": null,
            "overflow_y": null,
            "padding": null,
            "right": null,
            "top": null,
            "visibility": null,
            "width": null
          }
        },
        "a30b251213f6404580dbae474a74e637": {
          "model_module": "@jupyter-widgets/controls",
          "model_name": "ProgressStyleModel",
          "model_module_version": "1.5.0",
          "state": {
            "_model_module": "@jupyter-widgets/controls",
            "_model_module_version": "1.5.0",
            "_model_name": "ProgressStyleModel",
            "_view_count": null,
            "_view_module": "@jupyter-widgets/base",
            "_view_module_version": "1.2.0",
            "_view_name": "StyleView",
            "bar_color": null,
            "description_width": ""
          }
        },
        "082f80199e634be49e7a140e0f95d5b4": {
          "model_module": "@jupyter-widgets/base",
          "model_name": "LayoutModel",
          "model_module_version": "1.2.0",
          "state": {
            "_model_module": "@jupyter-widgets/base",
            "_model_module_version": "1.2.0",
            "_model_name": "LayoutModel",
            "_view_count": null,
            "_view_module": "@jupyter-widgets/base",
            "_view_module_version": "1.2.0",
            "_view_name": "LayoutView",
            "align_content": null,
            "align_items": null,
            "align_self": null,
            "border": null,
            "bottom": null,
            "display": null,
            "flex": null,
            "flex_flow": null,
            "grid_area": null,
            "grid_auto_columns": null,
            "grid_auto_flow": null,
            "grid_auto_rows": null,
            "grid_column": null,
            "grid_gap": null,
            "grid_row": null,
            "grid_template_areas": null,
            "grid_template_columns": null,
            "grid_template_rows": null,
            "height": null,
            "justify_content": null,
            "justify_items": null,
            "left": null,
            "margin": null,
            "max_height": null,
            "max_width": null,
            "min_height": null,
            "min_width": null,
            "object_fit": null,
            "object_position": null,
            "order": null,
            "overflow": null,
            "overflow_x": null,
            "overflow_y": null,
            "padding": null,
            "right": null,
            "top": null,
            "visibility": null,
            "width": null
          }
        },
        "199bf86024fc4f39b10bdf124f096178": {
          "model_module": "@jupyter-widgets/controls",
          "model_name": "DescriptionStyleModel",
          "model_module_version": "1.5.0",
          "state": {
            "_model_module": "@jupyter-widgets/controls",
            "_model_module_version": "1.5.0",
            "_model_name": "DescriptionStyleModel",
            "_view_count": null,
            "_view_module": "@jupyter-widgets/base",
            "_view_module_version": "1.2.0",
            "_view_name": "StyleView",
            "description_width": ""
          }
        },
        "48a572d345b24058bfacc9b28965c4d1": {
          "model_module": "@jupyter-widgets/controls",
          "model_name": "HBoxModel",
          "model_module_version": "1.5.0",
          "state": {
            "_dom_classes": [],
            "_model_module": "@jupyter-widgets/controls",
            "_model_module_version": "1.5.0",
            "_model_name": "HBoxModel",
            "_view_count": null,
            "_view_module": "@jupyter-widgets/controls",
            "_view_module_version": "1.5.0",
            "_view_name": "HBoxView",
            "box_style": "",
            "children": [
              "IPY_MODEL_ad4691b1479248d9beca3fcac88bc02b",
              "IPY_MODEL_c07b1ed9bba04876ab74d7357f853f9e",
              "IPY_MODEL_a2637bc25f0e47eab2ff6b8aaf937e5a"
            ],
            "layout": "IPY_MODEL_dfe2b2ea7b174cc59ee50e23b719ad74"
          }
        },
        "ad4691b1479248d9beca3fcac88bc02b": {
          "model_module": "@jupyter-widgets/controls",
          "model_name": "HTMLModel",
          "model_module_version": "1.5.0",
          "state": {
            "_dom_classes": [],
            "_model_module": "@jupyter-widgets/controls",
            "_model_module_version": "1.5.0",
            "_model_name": "HTMLModel",
            "_view_count": null,
            "_view_module": "@jupyter-widgets/controls",
            "_view_module_version": "1.5.0",
            "_view_name": "HTMLView",
            "description": "",
            "description_tooltip": null,
            "layout": "IPY_MODEL_cd0a3dff4a7840a3bbcc8a920850a227",
            "placeholder": "​",
            "style": "IPY_MODEL_3a68de0e56d54a468c78dc385c6a3088",
            "value": "Processing:   0%"
          }
        },
        "c07b1ed9bba04876ab74d7357f853f9e": {
          "model_module": "@jupyter-widgets/controls",
          "model_name": "FloatProgressModel",
          "model_module_version": "1.5.0",
          "state": {
            "_dom_classes": [],
            "_model_module": "@jupyter-widgets/controls",
            "_model_module_version": "1.5.0",
            "_model_name": "FloatProgressModel",
            "_view_count": null,
            "_view_module": "@jupyter-widgets/controls",
            "_view_module_version": "1.5.0",
            "_view_name": "ProgressView",
            "bar_style": "",
            "description": "",
            "description_tooltip": null,
            "layout": "IPY_MODEL_2dcdb6e6a5f74e5ab1f837f97731fbb2",
            "max": 3,
            "min": 0,
            "orientation": "horizontal",
            "style": "IPY_MODEL_e92ae8e2a03247099473cc7da46fcd18",
            "value": 3
          }
        },
        "a2637bc25f0e47eab2ff6b8aaf937e5a": {
          "model_module": "@jupyter-widgets/controls",
          "model_name": "HTMLModel",
          "model_module_version": "1.5.0",
          "state": {
            "_dom_classes": [],
            "_model_module": "@jupyter-widgets/controls",
            "_model_module_version": "1.5.0",
            "_model_name": "HTMLModel",
            "_view_count": null,
            "_view_module": "@jupyter-widgets/controls",
            "_view_module_version": "1.5.0",
            "_view_name": "HTMLView",
            "description": "",
            "description_tooltip": null,
            "layout": "IPY_MODEL_f3defc84799a4be78e2d818612668107",
            "placeholder": "​",
            "style": "IPY_MODEL_2f408f04c7904719988440a981df55cd",
            "value": " 0/3 [00:00&lt;?, ?it/s]"
          }
        },
        "dfe2b2ea7b174cc59ee50e23b719ad74": {
          "model_module": "@jupyter-widgets/base",
          "model_name": "LayoutModel",
          "model_module_version": "1.2.0",
          "state": {
            "_model_module": "@jupyter-widgets/base",
            "_model_module_version": "1.2.0",
            "_model_name": "LayoutModel",
            "_view_count": null,
            "_view_module": "@jupyter-widgets/base",
            "_view_module_version": "1.2.0",
            "_view_name": "LayoutView",
            "align_content": null,
            "align_items": null,
            "align_self": null,
            "border": null,
            "bottom": null,
            "display": null,
            "flex": null,
            "flex_flow": null,
            "grid_area": null,
            "grid_auto_columns": null,
            "grid_auto_flow": null,
            "grid_auto_rows": null,
            "grid_column": null,
            "grid_gap": null,
            "grid_row": null,
            "grid_template_areas": null,
            "grid_template_columns": null,
            "grid_template_rows": null,
            "height": null,
            "justify_content": null,
            "justify_items": null,
            "left": null,
            "margin": null,
            "max_height": null,
            "max_width": null,
            "min_height": null,
            "min_width": null,
            "object_fit": null,
            "object_position": null,
            "order": null,
            "overflow": null,
            "overflow_x": null,
            "overflow_y": null,
            "padding": null,
            "right": null,
            "top": null,
            "visibility": "hidden",
            "width": null
          }
        },
        "cd0a3dff4a7840a3bbcc8a920850a227": {
          "model_module": "@jupyter-widgets/base",
          "model_name": "LayoutModel",
          "model_module_version": "1.2.0",
          "state": {
            "_model_module": "@jupyter-widgets/base",
            "_model_module_version": "1.2.0",
            "_model_name": "LayoutModel",
            "_view_count": null,
            "_view_module": "@jupyter-widgets/base",
            "_view_module_version": "1.2.0",
            "_view_name": "LayoutView",
            "align_content": null,
            "align_items": null,
            "align_self": null,
            "border": null,
            "bottom": null,
            "display": null,
            "flex": null,
            "flex_flow": null,
            "grid_area": null,
            "grid_auto_columns": null,
            "grid_auto_flow": null,
            "grid_auto_rows": null,
            "grid_column": null,
            "grid_gap": null,
            "grid_row": null,
            "grid_template_areas": null,
            "grid_template_columns": null,
            "grid_template_rows": null,
            "height": null,
            "justify_content": null,
            "justify_items": null,
            "left": null,
            "margin": null,
            "max_height": null,
            "max_width": null,
            "min_height": null,
            "min_width": null,
            "object_fit": null,
            "object_position": null,
            "order": null,
            "overflow": null,
            "overflow_x": null,
            "overflow_y": null,
            "padding": null,
            "right": null,
            "top": null,
            "visibility": null,
            "width": null
          }
        },
        "3a68de0e56d54a468c78dc385c6a3088": {
          "model_module": "@jupyter-widgets/controls",
          "model_name": "DescriptionStyleModel",
          "model_module_version": "1.5.0",
          "state": {
            "_model_module": "@jupyter-widgets/controls",
            "_model_module_version": "1.5.0",
            "_model_name": "DescriptionStyleModel",
            "_view_count": null,
            "_view_module": "@jupyter-widgets/base",
            "_view_module_version": "1.2.0",
            "_view_name": "StyleView",
            "description_width": ""
          }
        },
        "2dcdb6e6a5f74e5ab1f837f97731fbb2": {
          "model_module": "@jupyter-widgets/base",
          "model_name": "LayoutModel",
          "model_module_version": "1.2.0",
          "state": {
            "_model_module": "@jupyter-widgets/base",
            "_model_module_version": "1.2.0",
            "_model_name": "LayoutModel",
            "_view_count": null,
            "_view_module": "@jupyter-widgets/base",
            "_view_module_version": "1.2.0",
            "_view_name": "LayoutView",
            "align_content": null,
            "align_items": null,
            "align_self": null,
            "border": null,
            "bottom": null,
            "display": null,
            "flex": null,
            "flex_flow": null,
            "grid_area": null,
            "grid_auto_columns": null,
            "grid_auto_flow": null,
            "grid_auto_rows": null,
            "grid_column": null,
            "grid_gap": null,
            "grid_row": null,
            "grid_template_areas": null,
            "grid_template_columns": null,
            "grid_template_rows": null,
            "height": null,
            "justify_content": null,
            "justify_items": null,
            "left": null,
            "margin": null,
            "max_height": null,
            "max_width": null,
            "min_height": null,
            "min_width": null,
            "object_fit": null,
            "object_position": null,
            "order": null,
            "overflow": null,
            "overflow_x": null,
            "overflow_y": null,
            "padding": null,
            "right": null,
            "top": null,
            "visibility": null,
            "width": null
          }
        },
        "e92ae8e2a03247099473cc7da46fcd18": {
          "model_module": "@jupyter-widgets/controls",
          "model_name": "ProgressStyleModel",
          "model_module_version": "1.5.0",
          "state": {
            "_model_module": "@jupyter-widgets/controls",
            "_model_module_version": "1.5.0",
            "_model_name": "ProgressStyleModel",
            "_view_count": null,
            "_view_module": "@jupyter-widgets/base",
            "_view_module_version": "1.2.0",
            "_view_name": "StyleView",
            "bar_color": null,
            "description_width": ""
          }
        },
        "f3defc84799a4be78e2d818612668107": {
          "model_module": "@jupyter-widgets/base",
          "model_name": "LayoutModel",
          "model_module_version": "1.2.0",
          "state": {
            "_model_module": "@jupyter-widgets/base",
            "_model_module_version": "1.2.0",
            "_model_name": "LayoutModel",
            "_view_count": null,
            "_view_module": "@jupyter-widgets/base",
            "_view_module_version": "1.2.0",
            "_view_name": "LayoutView",
            "align_content": null,
            "align_items": null,
            "align_self": null,
            "border": null,
            "bottom": null,
            "display": null,
            "flex": null,
            "flex_flow": null,
            "grid_area": null,
            "grid_auto_columns": null,
            "grid_auto_flow": null,
            "grid_auto_rows": null,
            "grid_column": null,
            "grid_gap": null,
            "grid_row": null,
            "grid_template_areas": null,
            "grid_template_columns": null,
            "grid_template_rows": null,
            "height": null,
            "justify_content": null,
            "justify_items": null,
            "left": null,
            "margin": null,
            "max_height": null,
            "max_width": null,
            "min_height": null,
            "min_width": null,
            "object_fit": null,
            "object_position": null,
            "order": null,
            "overflow": null,
            "overflow_x": null,
            "overflow_y": null,
            "padding": null,
            "right": null,
            "top": null,
            "visibility": null,
            "width": null
          }
        },
        "2f408f04c7904719988440a981df55cd": {
          "model_module": "@jupyter-widgets/controls",
          "model_name": "DescriptionStyleModel",
          "model_module_version": "1.5.0",
          "state": {
            "_model_module": "@jupyter-widgets/controls",
            "_model_module_version": "1.5.0",
            "_model_name": "DescriptionStyleModel",
            "_view_count": null,
            "_view_module": "@jupyter-widgets/base",
            "_view_module_version": "1.2.0",
            "_view_name": "StyleView",
            "description_width": ""
          }
        },
        "77c6be0c0cf44eed998689ac386c98fc": {
          "model_module": "@jupyter-widgets/controls",
          "model_name": "VBoxModel",
          "model_module_version": "1.5.0",
          "state": {
            "_dom_classes": [
              "widget-interact"
            ],
            "_model_module": "@jupyter-widgets/controls",
            "_model_module_version": "1.5.0",
            "_model_name": "VBoxModel",
            "_view_count": null,
            "_view_module": "@jupyter-widgets/controls",
            "_view_module_version": "1.5.0",
            "_view_name": "VBoxView",
            "box_style": "",
            "children": [
              "IPY_MODEL_486351ef3b6446c1bc54562598e3f899",
              "IPY_MODEL_ab865d789b824c16a3cadf6d430e640c"
            ],
            "layout": "IPY_MODEL_b49a4225db0c4e32ad9a7ca08179ec87"
          }
        },
        "486351ef3b6446c1bc54562598e3f899": {
          "model_module": "@jupyter-widgets/controls",
          "model_name": "ToggleButtonsModel",
          "model_module_version": "1.5.0",
          "state": {
            "_dom_classes": [],
            "_model_module": "@jupyter-widgets/controls",
            "_model_module_version": "1.5.0",
            "_model_name": "ToggleButtonsModel",
            "_options_labels": [
              "Pipeline Plot",
              "t-SNE (3d) Dimension Plot",
              "UMAP Dimensionality Plot"
            ],
            "_view_count": null,
            "_view_module": "@jupyter-widgets/controls",
            "_view_module_version": "1.5.0",
            "_view_name": "ToggleButtonsView",
            "button_style": "",
            "description": "Plot Type:",
            "description_tooltip": null,
            "disabled": false,
            "icons": [
              ""
            ],
            "index": 0,
            "layout": "IPY_MODEL_ab136aa5e51541e8a81dfbbc3501fe31",
            "style": "IPY_MODEL_39c15196b1194731a9d2a355461b5cf6",
            "tooltips": []
          }
        },
        "ab865d789b824c16a3cadf6d430e640c": {
          "model_module": "@jupyter-widgets/output",
          "model_name": "OutputModel",
          "model_module_version": "1.0.0",
          "state": {
            "_dom_classes": [],
            "_model_module": "@jupyter-widgets/output",
            "_model_module_version": "1.0.0",
            "_model_name": "OutputModel",
            "_view_count": null,
            "_view_module": "@jupyter-widgets/output",
            "_view_module_version": "1.0.0",
            "_view_name": "OutputView",
            "layout": "IPY_MODEL_4e7934c62b8a47f6b9d168aa7f68f414",
            "msg_id": "",
            "outputs": [
              {
                "output_type": "error",
                "ename": "ValueError",
                "evalue": "ignored",
                "traceback": [
                  "\u001b[0;31m---------------------------------------------------------------------------\u001b[0m",
                  "\u001b[0;31mValueError\u001b[0m                                Traceback (most recent call last)",
                  "\u001b[0;32m/usr/local/lib/python3.10/dist-packages/ipywidgets/widgets/interaction.py\u001b[0m in \u001b[0;36mupdate\u001b[0;34m(self, *args)\u001b[0m\n\u001b[1;32m    255\u001b[0m                     \u001b[0mvalue\u001b[0m \u001b[0;34m=\u001b[0m \u001b[0mwidget\u001b[0m\u001b[0;34m.\u001b[0m\u001b[0mget_interact_value\u001b[0m\u001b[0;34m(\u001b[0m\u001b[0;34m)\u001b[0m\u001b[0;34m\u001b[0m\u001b[0;34m\u001b[0m\u001b[0m\n\u001b[1;32m    256\u001b[0m                     \u001b[0mself\u001b[0m\u001b[0;34m.\u001b[0m\u001b[0mkwargs\u001b[0m\u001b[0;34m[\u001b[0m\u001b[0mwidget\u001b[0m\u001b[0;34m.\u001b[0m\u001b[0m_kwarg\u001b[0m\u001b[0;34m]\u001b[0m \u001b[0;34m=\u001b[0m \u001b[0mvalue\u001b[0m\u001b[0;34m\u001b[0m\u001b[0;34m\u001b[0m\u001b[0m\n\u001b[0;32m--> 257\u001b[0;31m                 \u001b[0mself\u001b[0m\u001b[0;34m.\u001b[0m\u001b[0mresult\u001b[0m \u001b[0;34m=\u001b[0m \u001b[0mself\u001b[0m\u001b[0;34m.\u001b[0m\u001b[0mf\u001b[0m\u001b[0;34m(\u001b[0m\u001b[0;34m**\u001b[0m\u001b[0mself\u001b[0m\u001b[0;34m.\u001b[0m\u001b[0mkwargs\u001b[0m\u001b[0;34m)\u001b[0m\u001b[0;34m\u001b[0m\u001b[0;34m\u001b[0m\u001b[0m\n\u001b[0m\u001b[1;32m    258\u001b[0m                 \u001b[0mshow_inline_matplotlib_plots\u001b[0m\u001b[0;34m(\u001b[0m\u001b[0;34m)\u001b[0m\u001b[0;34m\u001b[0m\u001b[0;34m\u001b[0m\u001b[0m\n\u001b[1;32m    259\u001b[0m                 \u001b[0;32mif\u001b[0m \u001b[0mself\u001b[0m\u001b[0;34m.\u001b[0m\u001b[0mauto_display\u001b[0m \u001b[0;32mand\u001b[0m \u001b[0mself\u001b[0m\u001b[0;34m.\u001b[0m\u001b[0mresult\u001b[0m \u001b[0;32mis\u001b[0m \u001b[0;32mnot\u001b[0m \u001b[0;32mNone\u001b[0m\u001b[0;34m:\u001b[0m\u001b[0;34m\u001b[0m\u001b[0;34m\u001b[0m\u001b[0m\n",
                  "\u001b[0;32m/usr/local/lib/python3.10/dist-packages/pycaret/internal/pycaret_experiment/tabular_experiment.py\u001b[0m in \u001b[0;36m_plot_model\u001b[0;34m(self, estimator, plot, scale, save, fold, fit_kwargs, plot_kwargs, groups, feature_name, label, verbose, system, display, display_format)\u001b[0m\n\u001b[1;32m   1913\u001b[0m                 \u001b[0;31m# execute the plot method\u001b[0m\u001b[0;34m\u001b[0m\u001b[0;34m\u001b[0m\u001b[0m\n\u001b[1;32m   1914\u001b[0m                 \u001b[0;32mwith\u001b[0m \u001b[0mredirect_output\u001b[0m\u001b[0;34m(\u001b[0m\u001b[0mself\u001b[0m\u001b[0;34m.\u001b[0m\u001b[0mlogger\u001b[0m\u001b[0;34m)\u001b[0m\u001b[0;34m:\u001b[0m\u001b[0;34m\u001b[0m\u001b[0;34m\u001b[0m\u001b[0m\n\u001b[0;32m-> 1915\u001b[0;31m                     \u001b[0mret\u001b[0m \u001b[0;34m=\u001b[0m \u001b[0mlocals\u001b[0m\u001b[0;34m(\u001b[0m\u001b[0;34m)\u001b[0m\u001b[0;34m[\u001b[0m\u001b[0mplot\u001b[0m\u001b[0;34m]\u001b[0m\u001b[0;34m(\u001b[0m\u001b[0;34m)\u001b[0m\u001b[0;34m\u001b[0m\u001b[0;34m\u001b[0m\u001b[0m\n\u001b[0m\u001b[1;32m   1916\u001b[0m                 \u001b[0;32mif\u001b[0m \u001b[0mret\u001b[0m\u001b[0;34m:\u001b[0m\u001b[0;34m\u001b[0m\u001b[0;34m\u001b[0m\u001b[0m\n\u001b[1;32m   1917\u001b[0m                     \u001b[0mplot_filename\u001b[0m \u001b[0;34m=\u001b[0m \u001b[0mret\u001b[0m\u001b[0;34m\u001b[0m\u001b[0;34m\u001b[0m\u001b[0m\n",
                  "\u001b[0;32m/usr/local/lib/python3.10/dist-packages/pycaret/internal/pycaret_experiment/tabular_experiment.py\u001b[0m in \u001b[0;36mtsne\u001b[0;34m()\u001b[0m\n\u001b[1;32m    786\u001b[0m                         \u001b[0;32mreturn\u001b[0m \u001b[0m_tsne_clustering\u001b[0m\u001b[0;34m(\u001b[0m\u001b[0;34m)\u001b[0m\u001b[0;34m\u001b[0m\u001b[0;34m\u001b[0m\u001b[0m\n\u001b[1;32m    787\u001b[0m                     \u001b[0;32melse\u001b[0m\u001b[0;34m:\u001b[0m\u001b[0;34m\u001b[0m\u001b[0;34m\u001b[0m\u001b[0m\n\u001b[0;32m--> 788\u001b[0;31m                         \u001b[0;32mreturn\u001b[0m \u001b[0m_tsne_anomaly\u001b[0m\u001b[0;34m(\u001b[0m\u001b[0;34m)\u001b[0m\u001b[0;34m\u001b[0m\u001b[0;34m\u001b[0m\u001b[0m\n\u001b[0m\u001b[1;32m    789\u001b[0m \u001b[0;34m\u001b[0m\u001b[0m\n\u001b[1;32m    790\u001b[0m                 \u001b[0;32mdef\u001b[0m \u001b[0m_tsne_anomaly\u001b[0m\u001b[0;34m(\u001b[0m\u001b[0;34m)\u001b[0m\u001b[0;34m:\u001b[0m\u001b[0;34m\u001b[0m\u001b[0;34m\u001b[0m\u001b[0m\n",
                  "\u001b[0;32m/usr/local/lib/python3.10/dist-packages/pycaret/internal/pycaret_experiment/tabular_experiment.py\u001b[0m in \u001b[0;36m_tsne_anomaly\u001b[0;34m()\u001b[0m\n\u001b[1;32m    792\u001b[0m                         \u001b[0;34m\"SubProcess assign_model() called ==================================\"\u001b[0m\u001b[0;34m\u001b[0m\u001b[0;34m\u001b[0m\u001b[0m\n\u001b[1;32m    793\u001b[0m                     )\n\u001b[0;32m--> 794\u001b[0;31m                     b = self.assign_model(  # type: ignore\n\u001b[0m\u001b[1;32m    795\u001b[0m                         \u001b[0mmodel\u001b[0m\u001b[0;34m,\u001b[0m \u001b[0mverbose\u001b[0m\u001b[0;34m=\u001b[0m\u001b[0;32mFalse\u001b[0m\u001b[0;34m,\u001b[0m \u001b[0mtransformation\u001b[0m\u001b[0;34m=\u001b[0m\u001b[0;32mTrue\u001b[0m\u001b[0;34m,\u001b[0m \u001b[0mscore\u001b[0m\u001b[0;34m=\u001b[0m\u001b[0;32mFalse\u001b[0m\u001b[0;34m\u001b[0m\u001b[0;34m\u001b[0m\u001b[0m\n\u001b[1;32m    796\u001b[0m                     ).reset_index(drop=True)\n",
                  "\u001b[0;32m/usr/local/lib/python3.10/dist-packages/pycaret/internal/pycaret_experiment/unsupervised_experiment.py\u001b[0m in \u001b[0;36massign_model\u001b[0;34m(self, model, transformation, score, verbose)\u001b[0m\n\u001b[1;32m    841\u001b[0m             \u001b[0mdata\u001b[0m\u001b[0;34m[\u001b[0m\u001b[0;34m\"Cluster\"\u001b[0m\u001b[0;34m]\u001b[0m \u001b[0;34m=\u001b[0m \u001b[0mlabels\u001b[0m\u001b[0;34m\u001b[0m\u001b[0;34m\u001b[0m\u001b[0m\n\u001b[1;32m    842\u001b[0m         \u001b[0;32melse\u001b[0m\u001b[0;34m:\u001b[0m\u001b[0;34m\u001b[0m\u001b[0;34m\u001b[0m\u001b[0m\n\u001b[0;32m--> 843\u001b[0;31m             \u001b[0mdata\u001b[0m\u001b[0;34m[\u001b[0m\u001b[0;34m\"Anomaly\"\u001b[0m\u001b[0;34m]\u001b[0m \u001b[0;34m=\u001b[0m \u001b[0mmodel\u001b[0m\u001b[0;34m.\u001b[0m\u001b[0mlabels_\u001b[0m\u001b[0;34m\u001b[0m\u001b[0;34m\u001b[0m\u001b[0m\n\u001b[0m\u001b[1;32m    844\u001b[0m             \u001b[0;32mif\u001b[0m \u001b[0mscore\u001b[0m\u001b[0;34m:\u001b[0m\u001b[0;34m\u001b[0m\u001b[0;34m\u001b[0m\u001b[0m\n\u001b[1;32m    845\u001b[0m                 \u001b[0mdata\u001b[0m\u001b[0;34m[\u001b[0m\u001b[0;34m\"Anomaly_Score\"\u001b[0m\u001b[0;34m]\u001b[0m \u001b[0;34m=\u001b[0m \u001b[0mmodel\u001b[0m\u001b[0;34m.\u001b[0m\u001b[0mdecision_scores_\u001b[0m\u001b[0;34m\u001b[0m\u001b[0;34m\u001b[0m\u001b[0m\n",
                  "\u001b[0;32m/usr/local/lib/python3.10/dist-packages/pandas/core/frame.py\u001b[0m in \u001b[0;36m__setitem__\u001b[0;34m(self, key, value)\u001b[0m\n\u001b[1;32m   3978\u001b[0m         \u001b[0;32melse\u001b[0m\u001b[0;34m:\u001b[0m\u001b[0;34m\u001b[0m\u001b[0;34m\u001b[0m\u001b[0m\n\u001b[1;32m   3979\u001b[0m             \u001b[0;31m# set column\u001b[0m\u001b[0;34m\u001b[0m\u001b[0;34m\u001b[0m\u001b[0m\n\u001b[0;32m-> 3980\u001b[0;31m             \u001b[0mself\u001b[0m\u001b[0;34m.\u001b[0m\u001b[0m_set_item\u001b[0m\u001b[0;34m(\u001b[0m\u001b[0mkey\u001b[0m\u001b[0;34m,\u001b[0m \u001b[0mvalue\u001b[0m\u001b[0;34m)\u001b[0m\u001b[0;34m\u001b[0m\u001b[0;34m\u001b[0m\u001b[0m\n\u001b[0m\u001b[1;32m   3981\u001b[0m \u001b[0;34m\u001b[0m\u001b[0m\n\u001b[1;32m   3982\u001b[0m     \u001b[0;32mdef\u001b[0m \u001b[0m_setitem_slice\u001b[0m\u001b[0;34m(\u001b[0m\u001b[0mself\u001b[0m\u001b[0;34m,\u001b[0m \u001b[0mkey\u001b[0m\u001b[0;34m:\u001b[0m \u001b[0mslice\u001b[0m\u001b[0;34m,\u001b[0m \u001b[0mvalue\u001b[0m\u001b[0;34m)\u001b[0m\u001b[0;34m:\u001b[0m\u001b[0;34m\u001b[0m\u001b[0;34m\u001b[0m\u001b[0m\n",
                  "\u001b[0;32m/usr/local/lib/python3.10/dist-packages/pandas/core/frame.py\u001b[0m in \u001b[0;36m_set_item\u001b[0;34m(self, key, value)\u001b[0m\n\u001b[1;32m   4172\u001b[0m         \u001b[0mensure\u001b[0m \u001b[0mhomogeneity\u001b[0m\u001b[0;34m.\u001b[0m\u001b[0;34m\u001b[0m\u001b[0;34m\u001b[0m\u001b[0m\n\u001b[1;32m   4173\u001b[0m         \"\"\"\n\u001b[0;32m-> 4174\u001b[0;31m         \u001b[0mvalue\u001b[0m \u001b[0;34m=\u001b[0m \u001b[0mself\u001b[0m\u001b[0;34m.\u001b[0m\u001b[0m_sanitize_column\u001b[0m\u001b[0;34m(\u001b[0m\u001b[0mvalue\u001b[0m\u001b[0;34m)\u001b[0m\u001b[0;34m\u001b[0m\u001b[0;34m\u001b[0m\u001b[0m\n\u001b[0m\u001b[1;32m   4175\u001b[0m \u001b[0;34m\u001b[0m\u001b[0m\n\u001b[1;32m   4176\u001b[0m         if (\n",
                  "\u001b[0;32m/usr/local/lib/python3.10/dist-packages/pandas/core/frame.py\u001b[0m in \u001b[0;36m_sanitize_column\u001b[0;34m(self, value)\u001b[0m\n\u001b[1;32m   4913\u001b[0m \u001b[0;34m\u001b[0m\u001b[0m\n\u001b[1;32m   4914\u001b[0m         \u001b[0;32mif\u001b[0m \u001b[0mis_list_like\u001b[0m\u001b[0;34m(\u001b[0m\u001b[0mvalue\u001b[0m\u001b[0;34m)\u001b[0m\u001b[0;34m:\u001b[0m\u001b[0;34m\u001b[0m\u001b[0;34m\u001b[0m\u001b[0m\n\u001b[0;32m-> 4915\u001b[0;31m             \u001b[0mcom\u001b[0m\u001b[0;34m.\u001b[0m\u001b[0mrequire_length_match\u001b[0m\u001b[0;34m(\u001b[0m\u001b[0mvalue\u001b[0m\u001b[0;34m,\u001b[0m \u001b[0mself\u001b[0m\u001b[0;34m.\u001b[0m\u001b[0mindex\u001b[0m\u001b[0;34m)\u001b[0m\u001b[0;34m\u001b[0m\u001b[0;34m\u001b[0m\u001b[0m\n\u001b[0m\u001b[1;32m   4916\u001b[0m         \u001b[0;32mreturn\u001b[0m \u001b[0msanitize_array\u001b[0m\u001b[0;34m(\u001b[0m\u001b[0mvalue\u001b[0m\u001b[0;34m,\u001b[0m \u001b[0mself\u001b[0m\u001b[0;34m.\u001b[0m\u001b[0mindex\u001b[0m\u001b[0;34m,\u001b[0m \u001b[0mcopy\u001b[0m\u001b[0;34m=\u001b[0m\u001b[0;32mTrue\u001b[0m\u001b[0;34m,\u001b[0m \u001b[0mallow_2d\u001b[0m\u001b[0;34m=\u001b[0m\u001b[0;32mTrue\u001b[0m\u001b[0;34m)\u001b[0m\u001b[0;34m\u001b[0m\u001b[0;34m\u001b[0m\u001b[0m\n\u001b[1;32m   4917\u001b[0m \u001b[0;34m\u001b[0m\u001b[0m\n",
                  "\u001b[0;32m/usr/local/lib/python3.10/dist-packages/pandas/core/common.py\u001b[0m in \u001b[0;36mrequire_length_match\u001b[0;34m(data, index)\u001b[0m\n\u001b[1;32m    569\u001b[0m     \"\"\"\n\u001b[1;32m    570\u001b[0m     \u001b[0;32mif\u001b[0m \u001b[0mlen\u001b[0m\u001b[0;34m(\u001b[0m\u001b[0mdata\u001b[0m\u001b[0;34m)\u001b[0m \u001b[0;34m!=\u001b[0m \u001b[0mlen\u001b[0m\u001b[0;34m(\u001b[0m\u001b[0mindex\u001b[0m\u001b[0;34m)\u001b[0m\u001b[0;34m:\u001b[0m\u001b[0;34m\u001b[0m\u001b[0;34m\u001b[0m\u001b[0m\n\u001b[0;32m--> 571\u001b[0;31m         raise ValueError(\n\u001b[0m\u001b[1;32m    572\u001b[0m             \u001b[0;34m\"Length of values \"\u001b[0m\u001b[0;34m\u001b[0m\u001b[0;34m\u001b[0m\u001b[0m\n\u001b[1;32m    573\u001b[0m             \u001b[0;34mf\"({len(data)}) \"\u001b[0m\u001b[0;34m\u001b[0m\u001b[0;34m\u001b[0m\u001b[0m\n",
                  "\u001b[0;31mValueError\u001b[0m: Length of values (861) does not match length of index (1148)"
                ]
              }
            ]
          }
        },
        "b49a4225db0c4e32ad9a7ca08179ec87": {
          "model_module": "@jupyter-widgets/base",
          "model_name": "LayoutModel",
          "model_module_version": "1.2.0",
          "state": {
            "_model_module": "@jupyter-widgets/base",
            "_model_module_version": "1.2.0",
            "_model_name": "LayoutModel",
            "_view_count": null,
            "_view_module": "@jupyter-widgets/base",
            "_view_module_version": "1.2.0",
            "_view_name": "LayoutView",
            "align_content": null,
            "align_items": null,
            "align_self": null,
            "border": null,
            "bottom": null,
            "display": null,
            "flex": null,
            "flex_flow": null,
            "grid_area": null,
            "grid_auto_columns": null,
            "grid_auto_flow": null,
            "grid_auto_rows": null,
            "grid_column": null,
            "grid_gap": null,
            "grid_row": null,
            "grid_template_areas": null,
            "grid_template_columns": null,
            "grid_template_rows": null,
            "height": null,
            "justify_content": null,
            "justify_items": null,
            "left": null,
            "margin": null,
            "max_height": null,
            "max_width": null,
            "min_height": null,
            "min_width": null,
            "object_fit": null,
            "object_position": null,
            "order": null,
            "overflow": null,
            "overflow_x": null,
            "overflow_y": null,
            "padding": null,
            "right": null,
            "top": null,
            "visibility": null,
            "width": null
          }
        },
        "ab136aa5e51541e8a81dfbbc3501fe31": {
          "model_module": "@jupyter-widgets/base",
          "model_name": "LayoutModel",
          "model_module_version": "1.2.0",
          "state": {
            "_model_module": "@jupyter-widgets/base",
            "_model_module_version": "1.2.0",
            "_model_name": "LayoutModel",
            "_view_count": null,
            "_view_module": "@jupyter-widgets/base",
            "_view_module_version": "1.2.0",
            "_view_name": "LayoutView",
            "align_content": null,
            "align_items": null,
            "align_self": null,
            "border": null,
            "bottom": null,
            "display": null,
            "flex": null,
            "flex_flow": null,
            "grid_area": null,
            "grid_auto_columns": null,
            "grid_auto_flow": null,
            "grid_auto_rows": null,
            "grid_column": null,
            "grid_gap": null,
            "grid_row": null,
            "grid_template_areas": null,
            "grid_template_columns": null,
            "grid_template_rows": null,
            "height": null,
            "justify_content": null,
            "justify_items": null,
            "left": null,
            "margin": null,
            "max_height": null,
            "max_width": null,
            "min_height": null,
            "min_width": null,
            "object_fit": null,
            "object_position": null,
            "order": null,
            "overflow": null,
            "overflow_x": null,
            "overflow_y": null,
            "padding": null,
            "right": null,
            "top": null,
            "visibility": null,
            "width": null
          }
        },
        "39c15196b1194731a9d2a355461b5cf6": {
          "model_module": "@jupyter-widgets/controls",
          "model_name": "ToggleButtonsStyleModel",
          "model_module_version": "1.5.0",
          "state": {
            "_model_module": "@jupyter-widgets/controls",
            "_model_module_version": "1.5.0",
            "_model_name": "ToggleButtonsStyleModel",
            "_view_count": null,
            "_view_module": "@jupyter-widgets/base",
            "_view_module_version": "1.2.0",
            "_view_name": "StyleView",
            "button_width": "",
            "description_width": "",
            "font_weight": ""
          }
        },
        "4e7934c62b8a47f6b9d168aa7f68f414": {
          "model_module": "@jupyter-widgets/base",
          "model_name": "LayoutModel",
          "model_module_version": "1.2.0",
          "state": {
            "_model_module": "@jupyter-widgets/base",
            "_model_module_version": "1.2.0",
            "_model_name": "LayoutModel",
            "_view_count": null,
            "_view_module": "@jupyter-widgets/base",
            "_view_module_version": "1.2.0",
            "_view_name": "LayoutView",
            "align_content": null,
            "align_items": null,
            "align_self": null,
            "border": null,
            "bottom": null,
            "display": null,
            "flex": null,
            "flex_flow": null,
            "grid_area": null,
            "grid_auto_columns": null,
            "grid_auto_flow": null,
            "grid_auto_rows": null,
            "grid_column": null,
            "grid_gap": null,
            "grid_row": null,
            "grid_template_areas": null,
            "grid_template_columns": null,
            "grid_template_rows": null,
            "height": null,
            "justify_content": null,
            "justify_items": null,
            "left": null,
            "margin": null,
            "max_height": null,
            "max_width": null,
            "min_height": null,
            "min_width": null,
            "object_fit": null,
            "object_position": null,
            "order": null,
            "overflow": null,
            "overflow_x": null,
            "overflow_y": null,
            "padding": null,
            "right": null,
            "top": null,
            "visibility": null,
            "width": null
          }
        },
        "5f93582c89244c318bfc85fed0fcaeb4": {
          "model_module": "@jupyter-widgets/controls",
          "model_name": "HBoxModel",
          "model_module_version": "1.5.0",
          "state": {
            "_dom_classes": [],
            "_model_module": "@jupyter-widgets/controls",
            "_model_module_version": "1.5.0",
            "_model_name": "HBoxModel",
            "_view_count": null,
            "_view_module": "@jupyter-widgets/controls",
            "_view_module_version": "1.5.0",
            "_view_name": "HBoxView",
            "box_style": "",
            "children": [
              "IPY_MODEL_6ca0fd862aaf44d0bf75270f45806248",
              "IPY_MODEL_cfd2dad1aad64089ae82ab8df8101e9e",
              "IPY_MODEL_69a21c8f64f9439e8a6570fd6ab8294a"
            ],
            "layout": "IPY_MODEL_c20e54e074564148914123a4a3fbd1ad"
          }
        },
        "6ca0fd862aaf44d0bf75270f45806248": {
          "model_module": "@jupyter-widgets/controls",
          "model_name": "HTMLModel",
          "model_module_version": "1.5.0",
          "state": {
            "_dom_classes": [],
            "_model_module": "@jupyter-widgets/controls",
            "_model_module_version": "1.5.0",
            "_model_name": "HTMLModel",
            "_view_count": null,
            "_view_module": "@jupyter-widgets/controls",
            "_view_module_version": "1.5.0",
            "_view_name": "HTMLView",
            "description": "",
            "description_tooltip": null,
            "layout": "IPY_MODEL_e131a176041649f28a88f72962b1c4c6",
            "placeholder": "​",
            "style": "IPY_MODEL_a1f2c816526349538e84444715dde1e3",
            "value": "Processing:  67%"
          }
        },
        "cfd2dad1aad64089ae82ab8df8101e9e": {
          "model_module": "@jupyter-widgets/controls",
          "model_name": "FloatProgressModel",
          "model_module_version": "1.5.0",
          "state": {
            "_dom_classes": [],
            "_model_module": "@jupyter-widgets/controls",
            "_model_module_version": "1.5.0",
            "_model_name": "FloatProgressModel",
            "_view_count": null,
            "_view_module": "@jupyter-widgets/controls",
            "_view_module_version": "1.5.0",
            "_view_name": "ProgressView",
            "bar_style": "",
            "description": "",
            "description_tooltip": null,
            "layout": "IPY_MODEL_2299b96aafb348c0a5ac5a82872db836",
            "max": 3,
            "min": 0,
            "orientation": "horizontal",
            "style": "IPY_MODEL_5cb384a75e8e473496897c032f3a09a5",
            "value": 3
          }
        },
        "69a21c8f64f9439e8a6570fd6ab8294a": {
          "model_module": "@jupyter-widgets/controls",
          "model_name": "HTMLModel",
          "model_module_version": "1.5.0",
          "state": {
            "_dom_classes": [],
            "_model_module": "@jupyter-widgets/controls",
            "_model_module_version": "1.5.0",
            "_model_name": "HTMLModel",
            "_view_count": null,
            "_view_module": "@jupyter-widgets/controls",
            "_view_module_version": "1.5.0",
            "_view_name": "HTMLView",
            "description": "",
            "description_tooltip": null,
            "layout": "IPY_MODEL_2258796b3c0a4592a48a9fd1b1bc59a2",
            "placeholder": "​",
            "style": "IPY_MODEL_228e08a8cfec41de9b832ae8c7b33649",
            "value": " 2/3 [05:07&lt;02:33, 153.89s/it]"
          }
        },
        "c20e54e074564148914123a4a3fbd1ad": {
          "model_module": "@jupyter-widgets/base",
          "model_name": "LayoutModel",
          "model_module_version": "1.2.0",
          "state": {
            "_model_module": "@jupyter-widgets/base",
            "_model_module_version": "1.2.0",
            "_model_name": "LayoutModel",
            "_view_count": null,
            "_view_module": "@jupyter-widgets/base",
            "_view_module_version": "1.2.0",
            "_view_name": "LayoutView",
            "align_content": null,
            "align_items": null,
            "align_self": null,
            "border": null,
            "bottom": null,
            "display": null,
            "flex": null,
            "flex_flow": null,
            "grid_area": null,
            "grid_auto_columns": null,
            "grid_auto_flow": null,
            "grid_auto_rows": null,
            "grid_column": null,
            "grid_gap": null,
            "grid_row": null,
            "grid_template_areas": null,
            "grid_template_columns": null,
            "grid_template_rows": null,
            "height": null,
            "justify_content": null,
            "justify_items": null,
            "left": null,
            "margin": null,
            "max_height": null,
            "max_width": null,
            "min_height": null,
            "min_width": null,
            "object_fit": null,
            "object_position": null,
            "order": null,
            "overflow": null,
            "overflow_x": null,
            "overflow_y": null,
            "padding": null,
            "right": null,
            "top": null,
            "visibility": "hidden",
            "width": null
          }
        },
        "e131a176041649f28a88f72962b1c4c6": {
          "model_module": "@jupyter-widgets/base",
          "model_name": "LayoutModel",
          "model_module_version": "1.2.0",
          "state": {
            "_model_module": "@jupyter-widgets/base",
            "_model_module_version": "1.2.0",
            "_model_name": "LayoutModel",
            "_view_count": null,
            "_view_module": "@jupyter-widgets/base",
            "_view_module_version": "1.2.0",
            "_view_name": "LayoutView",
            "align_content": null,
            "align_items": null,
            "align_self": null,
            "border": null,
            "bottom": null,
            "display": null,
            "flex": null,
            "flex_flow": null,
            "grid_area": null,
            "grid_auto_columns": null,
            "grid_auto_flow": null,
            "grid_auto_rows": null,
            "grid_column": null,
            "grid_gap": null,
            "grid_row": null,
            "grid_template_areas": null,
            "grid_template_columns": null,
            "grid_template_rows": null,
            "height": null,
            "justify_content": null,
            "justify_items": null,
            "left": null,
            "margin": null,
            "max_height": null,
            "max_width": null,
            "min_height": null,
            "min_width": null,
            "object_fit": null,
            "object_position": null,
            "order": null,
            "overflow": null,
            "overflow_x": null,
            "overflow_y": null,
            "padding": null,
            "right": null,
            "top": null,
            "visibility": null,
            "width": null
          }
        },
        "a1f2c816526349538e84444715dde1e3": {
          "model_module": "@jupyter-widgets/controls",
          "model_name": "DescriptionStyleModel",
          "model_module_version": "1.5.0",
          "state": {
            "_model_module": "@jupyter-widgets/controls",
            "_model_module_version": "1.5.0",
            "_model_name": "DescriptionStyleModel",
            "_view_count": null,
            "_view_module": "@jupyter-widgets/base",
            "_view_module_version": "1.2.0",
            "_view_name": "StyleView",
            "description_width": ""
          }
        },
        "2299b96aafb348c0a5ac5a82872db836": {
          "model_module": "@jupyter-widgets/base",
          "model_name": "LayoutModel",
          "model_module_version": "1.2.0",
          "state": {
            "_model_module": "@jupyter-widgets/base",
            "_model_module_version": "1.2.0",
            "_model_name": "LayoutModel",
            "_view_count": null,
            "_view_module": "@jupyter-widgets/base",
            "_view_module_version": "1.2.0",
            "_view_name": "LayoutView",
            "align_content": null,
            "align_items": null,
            "align_self": null,
            "border": null,
            "bottom": null,
            "display": null,
            "flex": null,
            "flex_flow": null,
            "grid_area": null,
            "grid_auto_columns": null,
            "grid_auto_flow": null,
            "grid_auto_rows": null,
            "grid_column": null,
            "grid_gap": null,
            "grid_row": null,
            "grid_template_areas": null,
            "grid_template_columns": null,
            "grid_template_rows": null,
            "height": null,
            "justify_content": null,
            "justify_items": null,
            "left": null,
            "margin": null,
            "max_height": null,
            "max_width": null,
            "min_height": null,
            "min_width": null,
            "object_fit": null,
            "object_position": null,
            "order": null,
            "overflow": null,
            "overflow_x": null,
            "overflow_y": null,
            "padding": null,
            "right": null,
            "top": null,
            "visibility": null,
            "width": null
          }
        },
        "5cb384a75e8e473496897c032f3a09a5": {
          "model_module": "@jupyter-widgets/controls",
          "model_name": "ProgressStyleModel",
          "model_module_version": "1.5.0",
          "state": {
            "_model_module": "@jupyter-widgets/controls",
            "_model_module_version": "1.5.0",
            "_model_name": "ProgressStyleModel",
            "_view_count": null,
            "_view_module": "@jupyter-widgets/base",
            "_view_module_version": "1.2.0",
            "_view_name": "StyleView",
            "bar_color": null,
            "description_width": ""
          }
        },
        "2258796b3c0a4592a48a9fd1b1bc59a2": {
          "model_module": "@jupyter-widgets/base",
          "model_name": "LayoutModel",
          "model_module_version": "1.2.0",
          "state": {
            "_model_module": "@jupyter-widgets/base",
            "_model_module_version": "1.2.0",
            "_model_name": "LayoutModel",
            "_view_count": null,
            "_view_module": "@jupyter-widgets/base",
            "_view_module_version": "1.2.0",
            "_view_name": "LayoutView",
            "align_content": null,
            "align_items": null,
            "align_self": null,
            "border": null,
            "bottom": null,
            "display": null,
            "flex": null,
            "flex_flow": null,
            "grid_area": null,
            "grid_auto_columns": null,
            "grid_auto_flow": null,
            "grid_auto_rows": null,
            "grid_column": null,
            "grid_gap": null,
            "grid_row": null,
            "grid_template_areas": null,
            "grid_template_columns": null,
            "grid_template_rows": null,
            "height": null,
            "justify_content": null,
            "justify_items": null,
            "left": null,
            "margin": null,
            "max_height": null,
            "max_width": null,
            "min_height": null,
            "min_width": null,
            "object_fit": null,
            "object_position": null,
            "order": null,
            "overflow": null,
            "overflow_x": null,
            "overflow_y": null,
            "padding": null,
            "right": null,
            "top": null,
            "visibility": null,
            "width": null
          }
        },
        "228e08a8cfec41de9b832ae8c7b33649": {
          "model_module": "@jupyter-widgets/controls",
          "model_name": "DescriptionStyleModel",
          "model_module_version": "1.5.0",
          "state": {
            "_model_module": "@jupyter-widgets/controls",
            "_model_module_version": "1.5.0",
            "_model_name": "DescriptionStyleModel",
            "_view_count": null,
            "_view_module": "@jupyter-widgets/base",
            "_view_module_version": "1.2.0",
            "_view_name": "StyleView",
            "description_width": ""
          }
        },
        "819968b6a0e14a10b12013d127485722": {
          "model_module": "@jupyter-widgets/controls",
          "model_name": "VBoxModel",
          "model_module_version": "1.5.0",
          "state": {
            "_dom_classes": [
              "widget-interact"
            ],
            "_model_module": "@jupyter-widgets/controls",
            "_model_module_version": "1.5.0",
            "_model_name": "VBoxModel",
            "_view_count": null,
            "_view_module": "@jupyter-widgets/controls",
            "_view_module_version": "1.5.0",
            "_view_name": "VBoxView",
            "box_style": "",
            "children": [
              "IPY_MODEL_13083cbb3af642419003c02656422355",
              "IPY_MODEL_ca8950976c194827aab628ff3fe041eb"
            ],
            "layout": "IPY_MODEL_9f11c3a7ef294375bb2a0a2981bdbd1b"
          }
        },
        "13083cbb3af642419003c02656422355": {
          "model_module": "@jupyter-widgets/controls",
          "model_name": "ToggleButtonsModel",
          "model_module_version": "1.5.0",
          "state": {
            "_dom_classes": [],
            "_model_module": "@jupyter-widgets/controls",
            "_model_module_version": "1.5.0",
            "_model_name": "ToggleButtonsModel",
            "_options_labels": [
              "Pipeline Plot",
              "t-SNE (3d) Dimension Plot",
              "UMAP Dimensionality Plot"
            ],
            "_view_count": null,
            "_view_module": "@jupyter-widgets/controls",
            "_view_module_version": "1.5.0",
            "_view_name": "ToggleButtonsView",
            "button_style": "",
            "description": "Plot Type:",
            "description_tooltip": null,
            "disabled": false,
            "icons": [
              ""
            ],
            "index": 1,
            "layout": "IPY_MODEL_e147eb5e8afd4404917bf95af4a87d03",
            "style": "IPY_MODEL_8009af95d327442792178fd3535587c5",
            "tooltips": []
          }
        },
        "ca8950976c194827aab628ff3fe041eb": {
          "model_module": "@jupyter-widgets/output",
          "model_name": "OutputModel",
          "model_module_version": "1.0.0",
          "state": {
            "_dom_classes": [],
            "_model_module": "@jupyter-widgets/output",
            "_model_module_version": "1.0.0",
            "_model_name": "OutputModel",
            "_view_count": null,
            "_view_module": "@jupyter-widgets/output",
            "_view_module_version": "1.0.0",
            "_view_name": "OutputView",
            "layout": "IPY_MODEL_25652fd60fca4d3f829848cd17e2f9ed",
            "msg_id": "",
            "outputs": [
              {
                "output_type": "display_data",
                "data": {
                  "text/html": "<html>\n<head><meta charset=\"utf-8\" /></head>\n<body>\n    <div>            <script src=\"https://cdnjs.cloudflare.com/ajax/libs/mathjax/2.7.5/MathJax.js?config=TeX-AMS-MML_SVG\"></script><script type=\"text/javascript\">if (window.MathJax && window.MathJax.Hub && window.MathJax.Hub.Config) {window.MathJax.Hub.Config({SVG: {font: \"STIX-Web\"}});}</script>                <script type=\"text/javascript\">window.PlotlyConfig = {MathJaxConfig: 'local'};</script>\n        <script charset=\"utf-8\" src=\"https://cdn.plot.ly/plotly-2.24.1.min.js\"></script>                <div id=\"53ab8ce6-aa87-4f01-8612-494e3af744e2\" class=\"plotly-graph-div\" style=\"height:800px; width:900px;\"></div>            <script type=\"text/javascript\">                                    window.PLOTLYENV=window.PLOTLYENV || {};                                    if (document.getElementById(\"53ab8ce6-aa87-4f01-8612-494e3af744e2\")) {                    Plotly.newPlot(                        \"53ab8ce6-aa87-4f01-8612-494e3af744e2\",                        [{\"customdata\":[[\"2020-03-09 10:14:33;0.026587799999999998;0.0401113;1.3302;0.054711;79.3366;26.0199;233.062;32.0;0.0;0.0\"],[\"2020-03-09 10:14:34;0.0261697;0.040452499999999995;1.35399;0.38263800000000003;79.5158;26.0258;236.04;32.0;0.0;0.0\"],[\"2020-03-09 10:14:35;0.026199;0.0394189;1.54006;0.710565;79.3756;26.0265;251.38;32.0;0.0;0.0\"],[\"2020-03-09 10:14:36;0.026026599999999997;0.0396411;1.3345799999999999;0.38263800000000003;79.6097;26.0393;234.392;32.0;0.0;0.0\"],[\"2020-03-09 10:14:37;0.026289999999999997;0.040273199999999995;1.07851;-0.27321599999999996;79.6109;26.041999999999998;225.342;32.0;0.0;0.0\"],[\"2020-03-09 10:14:38;0.025983299999999997;0.0399922;1.07755;0.38263800000000003;79.4261;26.0318;212.291;32.0;0.0;0.0\"],[\"2020-03-09 10:14:39;0.026224;0.0393439;0.629231;0.38263800000000003;79.6057;26.0395;216.81;32.0;0.0;0.0\"],[\"2020-03-09 10:14:40;0.0258658;0.039996199999999996;1.1560700000000002;-0.27321599999999996;79.342;26.0352;232.046;32.0;0.0;0.0\"],[\"2020-03-09 10:14:41;0.0256937;0.039613199999999994;0.9586549999999999;0.054711;79.5242;26.0353;226.267;32.0;0.0;0.0\"],[\"2020-03-09 10:14:42;0.0259915;0.0397654;1.37175;0.054711;79.41;26.0393;237.667;32.0;0.0;0.0\"],[\"2020-03-09 10:14:43;0.0256964;0.0402142;1.0782200000000002;0.054711;79.5198;26.0335;218.24200000000002;32.0;0.0;0.0\"],[\"2020-03-09 10:14:44;0.026335400000000005;0.040558699999999996;1.30595;0.38263800000000003;79.5909;26.0335;242.51;32.9962;0.0;0.0\"],[\"2020-03-09 10:14:45;0.026410500000000003;0.040079500000000004;1.17359;0.054711;79.5083;26.04;238.702;32.004;0.0;0.0\"],[\"2020-03-09 10:14:46;0.0264216;0.0408543;1.16767;-0.27321599999999996;79.6021;26.0379;224.84799999999998;32.0;0.0;0.0\"],[\"2020-03-09 10:14:47;0.026319299999999997;0.040166900000000005;1.1498;0.054711;79.2919;26.0367;208.544;32.0;0.0;0.0\"],[\"2020-03-09 10:14:48;0.026652199999999997;0.0415971;1.21304;0.054711;79.4979;26.0387;234.563;32.0;0.0;0.0\"],[\"2020-03-09 10:14:49;0.026418999999999998;0.040626199999999994;1.19543;-0.27321599999999996;79.5396;26.0337;232.02;32.0;0.0;0.0\"],[\"2020-03-09 10:14:50;0.0265399;0.0413307;1.17288;0.054711;79.3446;26.0351;222.892;32.9962;0.0;0.0\"],[\"2020-03-09 10:14:52;0.0262798;0.040481300000000005;1.07687;-0.27321599999999996;79.4268;26.0355;222.696;32.004;0.0;0.0\"],[\"2020-03-09 10:14:53;0.026145599999999995;0.0402622;1.12605;-0.27321599999999996;79.5575;26.0369;228.53900000000002;32.0;0.0;0.0\"],[\"2020-03-09 10:14:54;0.0262362;0.0409411;1.24168;-0.27321599999999996;79.5932;26.0369;210.773;32.0;0.0;0.0\"],[\"2020-03-09 10:14:55;0.026035200000000005;0.0410014;1.25813;0.054711;79.3956;26.0355;232.808;32.0;0.0;0.0\"],[\"2020-03-09 10:14:56;0.0265683;0.0413388;1.09;0.054711;79.4482;26.0355;218.07299999999998;32.9962;0.0;0.0\"],[\"2020-03-09 10:14:57;0.026025;0.040280500000000004;1.3362100000000001;0.054711;79.5354;26.0345;247.078;32.004;0.0;0.0\"],[\"2020-03-09 10:14:58;0.026079700000000004;0.040131400000000005;1.2754;0.054711;79.5662;26.0431;232.445;32.0;0.0;0.0\"],[\"2020-03-09 10:14:59;0.026079400000000003;0.039286699999999994;0.9433729999999999;-0.27321599999999996;79.5637;26.0347;226.917;32.0;0.0;0.0\"],[\"2020-03-09 10:15:00;0.0259175;0.0393333;1.16846;-0.27321599999999996;79.8239;26.0473;235.576;32.9962;0.0;0.0\"],[\"2020-03-09 10:15:01;0.025866300000000002;0.0407404;1.2566;0.38263800000000003;79.5189;26.0402;231.785;32.004;0.0;0.0\"],[\"2020-03-09 10:15:02;0.025889299999999997;0.040542699999999994;1.0685200000000001;0.054711;79.8891;26.0429;231.435;32.0;0.0;0.0\"],[\"2020-03-09 10:15:03;0.0266606;0.041188300000000004;1.2312299999999998;0.054711;79.6545;26.0454;228.86599999999999;32.9962;0.0;0.0\"],[\"2020-03-09 10:15:04;0.0260617;0.0391327;0.616388;0.054711;79.7779;26.048000000000002;204.149;32.004;0.0;0.0\"],[\"2020-03-09 10:15:05;0.025898400000000005;0.0395084;0.9971690000000001;0.054711;79.8084;26.0555;209.3;32.0;0.0;0.0\"],[\"2020-03-09 10:15:06;0.0256038;0.039576;1.12529;-0.27321599999999996;79.5457;26.0544;248.513;32.9962;0.0;0.0\"],[\"2020-03-09 10:15:07;0.0260272;0.0406941;1.15129;-0.27321599999999996;79.4614;26.0543;224.071;32.004;0.0;0.0\"],[\"2020-03-09 10:15:08;0.025964799999999996;0.041379900000000004;0.555892;0.054711;79.6678;26.0667;211.945;32.0;0.0;0.0\"],[\"2020-03-09 10:15:09;0.0261322;0.0405825;0.5586949999999999;-0.27321599999999996;79.684;26.0676;231.713;32.0;0.0;0.0\"],[\"2020-03-09 10:15:10;0.0262183;0.0400656;0.9724299999999999;0.054711;79.8728;26.0581;237.157;32.9962;0.0;0.0\"],[\"2020-03-09 10:15:11;0.0261084;0.040780199999999996;1.04275;0.054711;79.7323;26.0659;248.16299999999998;32.0;0.0;0.0\"],[\"2020-03-09 10:15:12;0.026157599999999996;0.0417455;0.469127;0.054711;79.8348;26.0612;222.334;32.9962;0.0;0.0\"],[\"2020-03-09 10:15:13;0.0261781;0.0411532;0.682634;0.38263800000000003;79.7726;26.0607;246.65599999999998;32.004;0.0;0.0\"],[\"2020-03-09 10:15:15;0.026529;0.041834199999999995;0.5865640000000001;0.054711;79.859;26.0737;231.937;32.0;0.0;0.0\"],[\"2020-03-09 10:15:16;0.026552499999999996;0.0402569;0.794982;0.054711;79.8357;26.0681;210.09799999999998;32.9962;0.0;0.0\"],[\"2020-03-09 10:15:17;0.0264579;0.0411961;0.958635;-0.27321599999999996;79.8844;26.0659;249.986;32.004;0.0;0.0\"],[\"2020-03-09 10:15:18;0.026295999999999996;0.040204000000000004;0.67204;0.054711;79.6248;26.0678;251.13;32.9962;0.0;0.0\"],[\"2020-03-09 10:15:19;0.026392500000000003;0.040433300000000005;1.13837;0.054711;79.7185;26.0744;238.46400000000003;32.004;0.0;0.0\"],[\"2020-03-09 10:15:20;0.026235200000000004;0.040758300000000004;0.748711;0.38263800000000003;79.7871;26.0604;221.315;32.0;0.0;0.0\"],[\"2020-03-09 10:15:21;0.0260399;0.0397517;0.732829;-0.27321599999999996;79.7774;26.0655;224.40900000000002;32.9962;0.0;0.0\"],[\"2020-03-09 10:15:22;0.0265985;0.041395;1.10401;0.054711;79.7671;26.0743;223.06;32.004;0.0;0.0\"],[\"2020-03-09 10:15:23;0.026004000000000003;0.039417400000000005;0.493544;0.710565;79.7332;26.0701;234.296;32.0;0.0;0.0\"],[\"2020-03-09 10:15:24;0.0262894;0.039789099999999994;0.749555;0.38263800000000003;79.8222;26.0782;248.15200000000002;32.0;0.0;0.0\"],[\"2020-03-09 10:15:25;0.025801599999999997;0.0393955;0.414892;0.38263800000000003;79.7374;26.0767;221.77200000000002;32.0;0.0;0.0\"],[\"2020-03-09 10:15:26;0.026058299999999996;0.0397788;0.732627;0.054711;79.7455;26.0854;230.429;32.0;0.0;0.0\"],[\"2020-03-09 10:15:27;0.0261994;0.0400767;0.7167060000000001;0.054711;79.5712;26.0822;248.90400000000002;32.9962;0.0;0.0\"],[\"2020-03-09 10:15:28;0.0261161;0.0394471;0.388229;0.054711;79.6897;26.081999999999997;213.11900000000003;32.004;0.0;0.0\"],[\"2020-03-09 10:15:29;0.0266442;0.0401983;0.6604180000000001;-0.27321599999999996;79.7394;26.081999999999997;234.36599999999999;32.0;0.0;0.0\"],[\"2020-03-09 10:15:30;0.026126099999999996;0.0392399;1.05154;0.38263800000000003;79.7576;26.0846;237.14;32.0;0.0;0.0\"],[\"2020-03-09 10:15:31;0.026072900000000003;0.039484;0.6554;-0.27321599999999996;79.654;26.089000000000002;243.791;32.9962;0.0;0.0\"],[\"2020-03-09 10:15:32;0.0260938;0.040501300000000004;0.6609520000000001;-0.601143;79.6149;26.0907;238.238;32.004;0.0;0.0\"],[\"2020-03-09 10:15:33;0.026128199999999997;0.0410342;0.583198;0.710565;79.75399999999999;26.0947;237.297;32.0;0.0;0.0\"],[\"2020-03-09 10:15:34;0.0259813;0.040669800000000006;0.655669;0.38263800000000003;79.8034;26.0932;231.59799999999998;32.0;0.0;0.0\"],[\"2020-03-09 10:15:35;0.0267108;0.0412747;0.5834199999999999;0.054711;79.7172;26.0952;228.518;32.9962;0.0;0.0\"],[\"2020-03-09 10:15:37;0.026264;0.0403038;1.0086600000000001;0.054711;79.7128;26.0914;255.324;32.004;0.0;0.0\"],[\"2020-03-09 10:15:38;0.026669099999999998;0.040755900000000005;0.584248;0.38263800000000003;79.7023;26.0974;228.745;32.9962;0.0;0.0\"],[\"2020-03-09 10:15:39;0.0262257;0.040402999999999994;0.614777;0.38263800000000003;79.4751;26.0947;231.085;32.004;0.0;0.0\"],[\"2020-03-09 10:15:40;0.026445299999999998;0.0413932;0.762057;0.054711;79.6136;26.0955;227.253;32.0;0.0;0.0\"],[\"2020-03-09 10:15:41;0.0262361;0.0401458;0.597913;0.054711;79.6402;26.1033;227.00799999999998;32.0;0.0;0.0\"],[\"2020-03-09 10:15:42;0.026373700000000003;0.0397533;1.02452;0.054711;79.6518;26.0925;228.93;32.9962;0.0;0.0\"],[\"2020-03-09 10:15:43;0.0266438;0.0402571;1.00404;0.054711;79.5205;26.0982;229.43200000000002;32.004;0.0;0.0\"],[\"2020-03-09 10:15:44;0.0262149;0.0391392;0.62861;0.38263800000000003;79.6401;26.0953;227.87099999999998;32.0;0.0;0.0\"],[\"2020-03-09 10:15:45;0.026058799999999997;0.0388314;0.696919;0.054711;79.5229;26.1008;236.123;32.0;0.0;0.0\"],[\"2020-03-09 10:15:46;0.025818400000000002;0.0390837;0.670747;0.054711;79.6692;26.085;232.33900000000003;32.9962;0.0;0.0\"],[\"2020-03-09 10:15:47;0.025883;0.0402287;0.6019800000000001;0.054711;79.7575;26.0943;230.533;32.004;0.0;0.0\"],[\"2020-03-09 10:15:48;0.025802999999999996;0.039349300000000004;1.2934700000000001;0.054711;79.6333;26.0936;253.515;32.0;0.0;0.0\"],[\"2020-03-09 10:15:49;0.0256721;0.039392800000000006;0.648151;-0.27321599999999996;79.6739;26.1013;221.791;32.9962;0.0;0.0\"],[\"2020-03-09 10:15:50;0.026143299999999998;0.0395819;0.6328739999999999;0.38263800000000003;79.6487;26.0907;227.74200000000002;32.004;0.0;0.0\"],[\"2020-03-09 10:15:51;0.026041;0.0399494;0.900641;0.38263800000000003;79.6676;26.101999999999997;244.342;32.0;0.0;0.0\"],[\"2020-03-09 10:15:52;0.026037;0.0396976;0.641659;0.054711;79.5593;26.0913;231.273;32.9962;0.0;0.0\"],[\"2020-03-09 10:15:53;0.0257358;0.0393044;1.41297;0.054711;79.6647;26.0947;225.21599999999998;32.004;0.0;0.0\"],[\"2020-03-09 10:15:54;0.0261807;0.0410214;1.18889;0.054711;79.6295;26.1035;243.465;32.0;0.0;0.0\"],[\"2020-03-09 10:15:55;0.026422199999999996;0.040275;0.895965;0.054711;79.6524;26.0958;213.852;32.9962;0.0;0.0\"],[\"2020-03-09 10:15:56;0.0261444;0.040426300000000005;0.8928309999999999;0.054711;79.5731;26.0915;231.908;32.004;0.0;0.0\"],[\"2020-03-09 10:15:57;0.0264413;0.0415625;1.04411;-0.27321599999999996;79.5431;26.0915;253.47799999999998;31.004;0.0;0.0\"],[\"2020-03-09 10:15:58;0.0263478;0.040492400000000005;1.3338;0.38263800000000003;79.6173;26.0991;231.817;32.004;0.0;0.0\"],[\"2020-03-09 10:15:59;0.0261248;0.039710199999999994;1.37941;0.054711;79.6494;26.1033;236.416;32.9962;0.0;0.0\"],[\"2020-03-09 10:16:00;0.026654700000000003;0.040861699999999994;1.05959;-0.27321599999999996;79.6655;26.0979;244.00599999999997;32.004;0.0;0.0\"],[\"2020-03-09 10:16:02;0.026318599999999998;0.0402125;0.618715;0.38263800000000003;79.6378;26.0879;225.18099999999998;32.0;0.0;0.0\"],[\"2020-03-09 10:16:03;0.026027999999999996;0.0402262;0.837189;0.38263800000000003;79.648;26.0879;229.13299999999998;32.0;0.0;0.0\"],[\"2020-03-09 10:16:04;0.0264368;0.040122500000000005;0.656911;-0.27321599999999996;79.6955;26.0944;231.202;32.0;0.0;0.0\"],[\"2020-03-09 10:16:05;0.0258875;0.038871499999999996;1.03698;0.054711;79.846;26.0949;234.93200000000002;32.0;0.0;0.0\"],[\"2020-03-09 10:16:06;0.025783999999999998;0.0389665;1.05846;0.054711;79.7877;26.0946;213.94400000000002;32.9962;0.0;0.0\"],[\"2020-03-09 10:16:07;0.0257305;0.0387046;1.08505;0.710565;79.7677;26.0881;227.27900000000002;32.004;0.0;0.0\"],[\"2020-03-09 10:16:08;0.0263541;0.0395255;1.36818;0.054711;79.7506;26.0841;242.831;32.9962;0.0;0.0\"],[\"2020-03-09 10:16:09;0.025727499999999997;0.0395144;1.2941200000000002;0.054711;79.8172;26.0915;228.952;32.004;0.0;0.0\"],[\"2020-03-09 10:16:10;0.0257147;0.0404548;1.09087;-0.27321599999999996;79.7182;26.0916;242.326;32.0;0.0;0.0\"],[\"2020-03-09 10:16:11;0.0263972;0.0394565;0.810603;-0.27321599999999996;79.6504;26.0916;227.94799999999998;32.0;0.0;0.0\"],[\"2020-03-09 10:16:12;0.026067;0.039372500000000005;0.9272219999999999;0.38263800000000003;79.7052;26.0853;250.93900000000002;32.9962;0.0;0.0\"],[\"2020-03-09 10:16:13;0.026287900000000003;0.0404435;1.2546899999999999;0.38263800000000003;79.773;26.0984;234.75099999999998;32.004;0.0;0.0\"],[\"2020-03-09 10:16:14;0.026034199999999997;0.039899300000000006;1.0507;0.054711;79.7489;26.0946;232.533;32.0;0.0;0.0\"],[\"2020-03-09 10:16:15;0.0262815;0.040681800000000004;0.830506;0.710565;79.8053;26.0833;230.08700000000002;32.9962;0.0;0.0\"],[\"2020-03-09 10:16:16;0.026068900000000002;0.04049;0.796687;0.38263800000000003;79.757;26.093000000000004;224.09;32.004;0.0;0.0\"],[\"2020-03-09 10:16:17;0.0263579;0.041154;1.15645;-0.27321599999999996;79.757;26.081;233.922;32.0;0.0;0.0\"],[\"2020-03-09 10:16:18;0.0268624;0.0413162;1.14768;0.054711;79.6952;26.096999999999998;222.673;32.0;0.0;0.0\"],[\"2020-03-09 10:16:19;0.026568400000000002;0.0407712;1.05338;0.054711;79.8696;26.0926;228.886;32.9962;0.0;0.0\"],[\"2020-03-09 10:16:20;0.026634300000000003;0.0406039;1.2333;0.054711;79.7894;26.0953;224.69400000000002;32.004;0.0;0.0\"],[\"2020-03-09 10:16:21;0.026531299999999997;0.0393406;1.12905;-0.27321599999999996;79.7724;26.0936;217.676;32.0;0.0;0.0\"],[\"2020-03-09 10:16:22;0.0260603;0.040158;1.5417299999999998;0.054711;79.7436;26.1044;253.888;32.0;0.0;0.0\"],[\"2020-03-09 10:16:23;0.026171499999999997;0.0402094;1.5092700000000001;0.710565;79.7648;26.0937;251.174;32.0;0.0;0.0\"],[\"2020-03-09 10:16:24;0.0264469;0.0401019;1.3046200000000001;0.054711;79.7336;26.0874;240.57;32.0;0.0;0.0\"],[\"2020-03-09 10:16:25;0.026413799999999998;0.039229400000000005;1.20907;0.054711;79.833;26.0803;234.672;32.0;0.0;0.0\"],[\"2020-03-09 10:16:26;0.0264454;0.0392627;1.01569;0.054711;79.5685;26.0878;234.12599999999998;32.0;0.0;0.0\"],[\"2020-03-09 10:16:27;0.026104000000000002;0.0389705;1.3199299999999998;0.054711;79.6428;26.095;233.734;32.0;0.0;0.0\"],[\"2020-03-09 10:16:29;0.0261329;0.038718699999999995;1.23769;0.054711;79.7966;26.0893;224.668;32.0;0.0;0.0\"],[\"2020-03-09 10:16:30;0.0259899;0.03860159999999999;1.35562;0.054711;79.6409;26.0869;239.69299999999998;32.0;0.0;0.0\"],[\"2020-03-09 10:16:31;0.026064599999999997;0.040412199999999995;1.48915;0.054711;79.6207;26.0857;247.935;32.0;0.0;0.0\"],[\"2020-03-09 10:16:32;0.026332099999999997;0.03907;1.43384;0.38263800000000003;79.6042;26.0848;241.78900000000002;32.0;0.0;0.0\"],[\"2020-03-09 10:16:33;0.0260437;0.039213099999999994;1.01197;0.38263800000000003;79.672;26.0848;227.533;32.0;0.0;0.0\"],[\"2020-03-09 10:16:34;0.0263968;0.0396946;1.06796;0.054711;79.6817;26.0969;238.798;32.0;0.0;0.0\"],[\"2020-03-09 10:16:35;0.026060400000000004;0.0397425;1.51597;-0.27321599999999996;79.5427;26.0893;244.71400000000003;32.0;0.0;0.0\"],[\"2020-03-09 10:16:36;0.0262945;0.0402022;1.21434;0.38263800000000003;79.4673;26.0938;231.93400000000003;32.0;0.0;0.0\"],[\"2020-03-09 10:16:37;0.025799900000000004;0.039286;0.9949889999999999;0.38263800000000003;79.5217;26.0903;224.021;32.0;0.0;0.0\"],[\"2020-03-09 10:16:38;0.026470499999999998;0.0409727;1.4291399999999999;0.054711;79.4166;26.0976;238.637;32.0;0.0;0.0\"],[\"2020-03-09 10:16:39;0.0265178;0.0403566;1.31798;0.054711;79.4581;26.0874;224.237;32.0;0.0;0.0\"],[\"2020-03-09 10:16:40;0.0264803;0.041629900000000004;0.797042;0.38263800000000003;79.465;26.0882;225.66400000000002;32.0;0.0;0.0\"],[\"2020-03-09 10:16:41;0.026821499999999998;0.0405026;0.878534;0.054711;79.4072;26.0865;233.762;32.0;0.0;0.0\"],[\"2020-03-09 10:16:42;0.0259449;0.0400833;1.08256;0.054711;79.4711;26.0811;237.08900000000003;32.0;0.0;0.0\"],[\"2020-03-09 10:16:43;0.0264904;0.040783;0.862878;0.38263800000000003;79.4839;26.0857;228.585;32.0;0.0;0.0\"],[\"2020-03-09 10:16:44;0.0264057;0.04068959999999999;1.20935;0.38263800000000003;79.4064;26.0835;239.79;32.0;0.0;0.0\"],[\"2020-03-09 10:16:45;0.0264017;0.040875699999999994;0.419504;-0.27321599999999996;79.4252;26.0803;221.08900000000003;32.0;0.0;0.0\"],[\"2020-03-09 10:16:46;0.0263397;0.040681199999999994;0.694006;-0.601143;79.3781;26.084;221.734;32.0;0.0;0.0\"],[\"2020-03-09 10:16:47;0.0271655;0.0412016;0.829534;0.38263800000000003;79.4045;26.0904;225.665;32.0;0.0;0.0\"],[\"2020-03-09 10:16:48;0.026445299999999998;0.0413796;0.596989;0.054711;79.4168;26.0745;226.637;32.0;0.0;0.0\"],[\"2020-03-09 10:16:49;0.0266615;0.0406009;0.818476;-0.27321599999999996;79.4895;26.0845;235.36;32.0;0.0;0.0\"],[\"2020-03-09 10:16:51;0.0265043;0.040080000000000005;1.2824200000000001;-0.601143;79.44800000000001;26.0785;231.878;32.0;0.0;0.0\"],[\"2020-03-09 10:16:52;0.026758299999999995;0.0404321;0.9817799999999999;-0.27321599999999996;79.4987;26.0794;228.128;32.0;0.0;0.0\"],[\"2020-03-09 10:16:53;0.0265062;0.0408922;0.8339639999999999;0.054711;79.4019;26.0825;244.206;32.0;0.0;0.0\"],[\"2020-03-09 10:16:54;0.0267522;0.0418228;0.8327690000000001;0.38263800000000003;79.4612;26.087;224.53599999999997;32.0;0.0;0.0\"],[\"2020-03-09 10:16:55;0.026954500000000003;0.040608099999999994;0.683372;0.38263800000000003;79.3279;26.0849;247.108;32.9964;0.0;0.0\"],[\"2020-03-09 10:16:56;0.0264759;0.0408328;0.846476;0.054711;79.5062;26.0746;236.49400000000003;32.0037;0.0;0.0\"],[\"2020-03-09 10:16:57;0.0267853;0.040223800000000004;0.564284;0.054711;79.4957;26.078000000000003;214.88099999999997;32.0;0.0;0.0\"],[\"2020-03-09 10:16:58;0.026697199999999997;0.0401721;0.591966;-0.27321599999999996;79.49600000000001;26.0785;233.157;32.0;0.0;0.0\"],[\"2020-03-09 10:16:59;0.0265781;0.0400995;0.859058;0.054711;79.4855;26.0708;235.285;32.0;0.0;0.0\"],[\"2020-03-09 10:17:00;0.026018;0.039702;1.00657;-0.27321599999999996;79.4633;26.0724;237.831;32.0;0.0;0.0\"],[\"2020-03-09 10:17:01;0.0264762;0.0404795;0.783563;0.38263800000000003;79.446;26.0757;236.545;32.0;0.0;0.0\"],[\"2020-03-09 10:17:02;0.0265034;0.0397907;0.858808;0.054711;79.5131;26.0764;222.058;32.0;0.0;0.0\"],[\"2020-03-09 10:17:03;0.026091900000000005;0.0400574;0.742346;0.38263800000000003;79.3817;26.0748;231.438;32.0;0.0;0.0\"],[\"2020-03-09 10:17:04;0.026831400000000002;0.0397406;0.8027770000000001;-0.601143;79.5832;26.0801;245.09400000000002;32.0;0.0;0.0\"],[\"2020-03-09 10:17:05;0.026031400000000003;0.038960699999999994;0.711853;0.054711;79.5488;26.0763;231.263;32.0;0.0;0.0\"],[\"2020-03-09 10:17:06;0.0261722;0.038874900000000004;0.787842;0.38263800000000003;79.5285;26.0696;227.449;32.0;0.0;0.0\"],[\"2020-03-09 10:17:07;0.026026799999999996;0.0391746;0.668234;0.054711;79.4456;26.0685;232.40400000000002;32.0;0.0;0.0\"],[\"2020-03-09 10:17:08;0.026277299999999996;0.0391821;0.736252;0.054711;79.5229;26.0794;240.84400000000002;32.0;0.0;0.0\"],[\"2020-03-09 10:17:09;0.026307499999999998;0.040003;0.677948;-0.27321599999999996;79.6314;26.0812;231.045;32.0;0.0;0.0\"],[\"2020-03-09 10:17:10;0.0267908;0.038965;0.660655;0.38263800000000003;79.4099;26.0759;229.472;32.0;0.0;0.0\"],[\"2020-03-09 10:17:12;0.0258882;0.0392573;0.5958;0.054711;79.5217;26.0716;221.785;32.0;0.0;0.0\"],[\"2020-03-09 10:17:13;0.026513099999999998;0.0389292;0.7942640000000001;0.054711;79.5404;26.0715;242.054;32.0;0.0;0.0\"],[\"2020-03-09 10:17:14;0.026073700000000002;0.039083;1.1443;0.054711;79.3213;26.0715;220.592;32.0;0.0;0.0\"],[\"2020-03-09 10:17:15;0.0260932;0.0397348;1.1772799999999999;0.054711;79.2938;26.0714;231.483;32.0;0.0;0.0\"],[\"2020-03-09 10:17:16;0.026217400000000002;0.0394995;0.7289180000000001;0.38263800000000003;79.4525;26.0684;220.792;32.0;0.0;0.0\"],[\"2020-03-09 10:17:17;0.0263285;0.0403605;0.777252;0.054711;79.39399999999999;26.0795;209.455;32.0;0.0;0.0\"],[\"2020-03-09 10:17:18;0.026321800000000003;0.0399401;1.10398;0.054711;79.4706;26.0548;208.954;32.0;0.0;0.0\"],[\"2020-03-09 10:17:19;0.026061200000000003;0.0403106;0.711692;0.710565;79.4269;26.0693;229.36599999999999;32.0;0.0;0.0\"],[\"2020-03-09 10:17:20;0.026613;0.0400804;1.0842;0.054711;79.1667;26.0585;231.799;32.0;0.0;0.0\"],[\"2020-03-09 10:17:21;0.026097000000000002;0.0399592;0.751383;-0.27321599999999996;79.3757;26.0609;227.046;32.0;0.0;0.0\"],[\"2020-03-09 10:17:22;0.026141300000000003;0.0400463;0.9365620000000001;0.054711;79.2743;26.0516;230.09099999999998;32.0;0.0;0.0\"],[\"2020-03-09 10:17:23;0.026790300000000003;0.0415158;0.8386950000000001;0.054711;79.4564;26.0667;235.362;32.0;0.0;0.0\"],[\"2020-03-09 10:17:25;0.0263077;0.0408857;0.5960840000000001;0.38263800000000003;79.3963;26.0522;230.203;32.0;0.0;0.0\"],[\"2020-03-09 10:17:26;0.026233999999999997;0.04175619999999999;1.17451;0.054711;79.2131;26.0575;223.472;32.0;0.0;0.0\"],[\"2020-03-09 10:17:27;0.026683;0.0403173;0.9271729999999999;0.054711;79.3628;26.0516;234.86;32.0;0.0;0.0\"],[\"2020-03-09 10:17:28;0.0264638;0.041285300000000004;1.03121;0.38263800000000003;79.2117;26.0516;220.688;32.0;0.0;0.0\"],[\"2020-03-09 10:17:29;0.026476799999999998;0.0409415;1.15293;0.38263800000000003;79.2502;26.0471;207.40099999999998;32.0;0.0;0.0\"],[\"2020-03-09 10:17:30;0.0266695;0.0405707;1.28729;0.054711;79.3466;26.0444;231.67700000000002;32.9964;0.0;0.0\"],[\"2020-03-09 10:17:31;0.0264495;0.0405682;1.41101;0.38263800000000003;79.097;26.0404;246.74400000000003;32.0037;0.0;0.0\"],[\"2020-03-09 10:17:32;0.026472000000000002;0.0405325;1.26302;0.054711;79.2878;26.0427;227.46900000000002;32.0;0.0;0.0\"],[\"2020-03-09 10:17:33;0.026752699999999997;0.0410871;1.3879;0.710565;79.0589;26.0425;240.62;32.0;0.0;0.0\"],[\"2020-03-09 10:17:34;0.026301099999999997;0.0404416;1.3227;0.38263800000000003;79.2302;26.0512;230.203;32.0;0.0;0.0\"],[\"2020-03-09 10:17:35;0.026272800000000002;0.0399184;1.33536;0.054711;79.07600000000001;26.0479;230.662;32.0;0.0;0.0\"],[\"2020-03-09 10:17:36;0.0266337;0.0398934;1.32687;0.054711;79.1966;26.0435;231.07299999999998;32.0;0.0;0.0\"],[\"2020-03-09 10:17:37;0.0261334;0.0400217;1.2998100000000001;0.054711;79.0459;26.0404;238.72400000000002;32.0;0.0;0.0\"],[\"2020-03-09 10:17:38;0.0259709;0.0397856;1.33321;0.054711;79.1549;26.0475;233.037;32.0;0.0;0.0\"],[\"2020-03-09 10:17:39;0.026389799999999998;0.0398175;1.36582;0.054711;79.1654;26.0414;228.332;32.0;0.0;0.0\"],[\"2020-03-09 10:17:40;0.026358;0.040372000000000005;1.34691;0.054711;78.9475;26.0479;236.517;32.0;0.0;0.0\"],[\"2020-03-09 10:17:41;0.026145299999999996;0.04011;1.09275;0.054711;79.1388;26.0422;231.40200000000002;32.9964;0.0;0.0\"],[\"2020-03-09 10:17:42;0.0260079;0.040195800000000004;1.51258;0.054711;79.226;26.0529;248.852;32.0037;0.0;0.0\"],[\"2020-03-09 10:17:43;0.0265724;0.0402627;0.761158;-0.601143;79.1174;26.0489;231.322;32.0;0.0;0.0\"],[\"2020-03-09 10:17:44;0.0262775;0.039458999999999994;1.3;-0.27321599999999996;79.0966;26.0489;228.74900000000002;32.0;0.0;0.0\"],[\"2020-03-09 10:17:45;0.0260871;0.040233099999999994;1.2090100000000001;0.054711;79.0981;26.0467;230.025;32.0;0.0;0.0\"],[\"2020-03-09 10:17:46;0.026018700000000002;0.0405736;1.27936;0.054711;79.0015;26.0453;244.7;32.0;0.0;0.0\"],[\"2020-03-09 10:17:48;0.0259411;0.0401121;1.25089;0.054711;78.8912;26.0528;232.679;32.0;0.0;0.0\"],[\"2020-03-09 10:17:49;0.026326599999999995;0.0411326;1.1941899999999999;0.054711;79.0627;26.0487;216.574;32.0;0.0;0.0\"],[\"2020-03-09 10:17:50;0.026287;0.0403678;1.1797;-0.27321599999999996;79.04;26.048000000000002;235.907;32.9964;0.0;0.0\"],[\"2020-03-09 10:17:51;0.0265341;0.041163599999999995;1.33722;0.054711;79.238;26.0576;227.39700000000002;32.0037;0.0;0.0\"],[\"2020-03-09 10:17:52;0.0267056;0.0411457;0.891446;0.054711;79.1666;26.0568;228.801;32.0;0.0;0.0\"],[\"2020-03-09 10:17:53;0.026345;0.040537199999999995;1.31589;0.710565;78.87899999999999;26.0665;239.481;32.0;0.0;0.0\"],[\"2020-03-09 10:17:54;0.026785700000000003;0.0404346;1.20917;0.710565;79.0039;26.0614;236.82;32.0;0.0;0.0\"],[\"2020-03-09 10:17:55;0.026525200000000002;0.04144930000000001;0.841982;0.054711;79.1418;26.0597;219.838;32.0;0.0;0.0\"],[\"2020-03-09 10:17:56;0.026543900000000002;0.041259500000000005;1.44292;0.054711;78.9616;26.0632;240.726;32.0;0.0;0.0\"],[\"2020-03-09 10:17:57;0.0264274;0.0415759;0.467888;0.054711;79.1708;26.0672;206.37400000000002;32.9964;0.0;0.0\"],[\"2020-03-09 10:17:58;0.026700099999999997;0.041647;1.34806;0.054711;78.8208;26.0661;243.56099999999998;32.0037;0.0;0.0\"],[\"2020-03-09 10:17:59;0.026599599999999998;0.0412027;0.838094;0.054711;79.1927;26.0728;227.729;32.0;0.0;0.0\"],[\"2020-03-09 10:18:00;0.0263803;0.04076130000000001;1.11849;0.054711;79.1666;26.0695;232.993;32.0;0.0;0.0\"],[\"2020-03-09 10:18:01;0.026863400000000003;0.040603600000000004;0.419745;0.38263800000000003;79.1782;26.0684;205.83700000000002;32.0;0.0;0.0\"],[\"2020-03-09 10:18:02;0.026508999999999998;0.0401469;1.14391;0.38263800000000003;78.8351;26.0684;239.81099999999998;32.0;0.0;0.0\"],[\"2020-03-09 10:18:03;0.026288299999999997;0.040079000000000004;0.705264;0.38263800000000003;79.1585;26.0767;226.47799999999998;32.0;0.0;0.0\"],[\"2020-03-09 10:18:04;0.026116300000000002;0.039798400000000005;1.13534;0.054711;79.1739;26.0822;240.155;32.0;0.0;0.0\"],[\"2020-03-09 10:18:05;0.0266582;0.0407423;1.06948;-0.27321599999999996;79.0939;26.0756;230.084;32.0;0.0;0.0\"],[\"2020-03-09 10:18:06;0.0265202;0.0404297;1.33958;0.38263800000000003;79.2773;26.0826;244.123;32.0;0.0;0.0\"],[\"2020-03-09 10:18:07;0.026514799999999998;0.040273699999999996;0.6412;0.054711;79.0059;26.0789;224.395;32.0;0.0;0.0\"],[\"2020-03-09 10:18:08;0.0260478;0.0403061;0.643343;0.38263800000000003;79.0716;26.0732;231.80900000000003;32.9964;0.0;0.0\"],[\"2020-03-09 10:18:10;0.026351299999999998;0.0397709;1.24472;0.054711;79.0317;26.0708;237.997;32.0037;0.0;0.0\"],[\"2020-03-09 10:18:11;0.025795799999999997;0.039468800000000005;0.723481;0.054711;79.031;26.0691;251.611;32.0;0.0;0.0\"],[\"2020-03-09 10:18:12;0.0260873;0.039850300000000005;0.634389;0.054711;79.0292;26.0719;233.59900000000002;32.0;0.0;0.0\"],[\"2020-03-09 10:18:13;0.025553299999999998;0.0390099;1.2516399999999999;-0.27321599999999996;79.0047;26.0634;226.773;32.0;0.0;0.0\"],[\"2020-03-09 10:18:14;0.026519400000000002;0.0407451;0.54019;0.054711;78.9692;26.0704;233.40400000000002;32.0;0.0;0.0\"],[\"2020-03-09 10:18:15;0.0262651;0.04040119999999999;1.09321;0.054711;78.8591;26.0659;222.80900000000003;32.0;0.0;0.0\"],[\"2020-03-09 10:18:16;0.0263694;0.04165119999999999;0.658281;0.38263800000000003;78.9384;26.0648;244.46900000000002;32.0;0.0;0.0\"],[\"2020-03-09 10:18:17;0.0265144;0.0405845;1.47282;-0.27321599999999996;78.9844;26.0631;248.713;32.9964;0.0;0.0\"],[\"2020-03-09 10:18:18;0.0263017;0.04161;0.57736;0.054711;78.9244;26.0573;228.045;32.0037;0.0;0.0\"],[\"2020-03-09 10:18:19;0.026781400000000004;0.0407752;0.609869;0.38263800000000003;79.0289;26.0568;236.447;32.9964;0.0;0.0\"],[\"2020-03-09 10:18:20;0.026271499999999996;0.0406205;0.520814;-0.27321599999999996;79.0856;26.0604;227.537;32.0037;0.0;0.0\"],[\"2020-03-09 10:18:21;0.0265809;0.0419611;0.8569100000000001;0.710565;78.9083;26.051;224.984;32.0;0.0;0.0\"],[\"2020-03-09 10:18:22;0.026196299999999995;0.0408106;0.6964;0.054711;78.9959;26.0563;209.438;32.0;0.0;0.0\"],[\"2020-03-09 10:18:23;0.026576799999999998;0.04208119999999999;0.824951;-0.27321599999999996;78.9076;26.0566;231.35;32.9964;0.0;0.0\"],[\"2020-03-09 10:18:24;0.0264567;0.04126319999999999;0.626877;0.054711;79.045;26.0474;233.764;32.0037;0.0;0.0\"],[\"2020-03-09 10:18:25;0.0264233;0.041130900000000005;0.62051;0.054711;78.938;26.05;231.458;32.0;0.0;0.0\"],[\"2020-03-09 10:18:26;0.026742900000000003;0.0406997;1.16245;0.710565;78.9187;26.0597;254.947;32.0;0.0;0.0\"],[\"2020-03-09 10:18:27;0.026405900000000003;0.040255;0.9771040000000001;0.054711;78.9375;26.054000000000002;230.41099999999997;32.9964;0.0;0.0\"],[\"2020-03-09 10:18:28;0.026752699999999997;0.0402056;0.670354;0.38263800000000003;78.8339;26.0543;230.185;32.0037;0.0;0.0\"],[\"2020-03-09 10:18:29;0.026435000000000004;0.0401391;0.737792;0.054711;78.9518;26.0455;232.43099999999998;32.0;0.0;0.0\"],[\"2020-03-09 10:18:30;0.026131599999999998;0.0403522;1.0855299999999999;0.38263800000000003;78.9729;26.0548;232.21099999999998;32.9964;0.0;0.0\"],[\"2020-03-09 10:18:31;0.026442900000000002;0.040937699999999994;0.783806;0.710565;78.8553;26.054000000000002;234.503;32.0037;0.0;0.0\"],[\"2020-03-09 10:18:33;0.026117;0.0400564;0.652876;0.38263800000000003;78.8349;26.0532;234.762;32.0;0.0;0.0\"],[\"2020-03-09 10:18:34;0.026043900000000002;0.0391253;0.42423500000000003;0.054711;78.9559;26.0496;209.07299999999998;32.0;0.0;0.0\"],[\"2020-03-09 10:18:35;0.0263301;0.039238699999999994;0.860875;-0.27321599999999996;78.9745;26.0557;246.18599999999998;32.9966;0.0;0.0\"],[\"2020-03-09 10:18:36;0.0259116;0.0393028;0.788141;0.054711;78.8864;26.0453;235.21;32.0035;0.0;0.0\"],[\"2020-03-09 10:18:37;0.0261411;0.0394968;1.1874200000000001;0.054711;78.8362;26.0489;231.949;32.0;0.0;0.0\"],[\"2020-03-09 10:18:38;0.0261993;0.0397687;1.13421;0.054711;78.83;26.0445;246.18;32.0;0.0;0.0\"],[\"2020-03-09 10:18:39;0.0258507;0.040936;0.548248;0.054711;78.8285;26.0425;217.767;32.0;0.0;0.0\"],[\"2020-03-09 10:18:40;0.025903899999999997;0.0405403;1.21601;0.054711;78.8445;26.0409;230.15900000000002;32.0;0.0;0.0\"],[\"2020-03-09 10:18:41;0.026117400000000002;0.040818900000000005;0.9078450000000001;0.054711;78.9873;26.041999999999998;231.769;32.9966;0.0;0.0\"],[\"2020-03-09 10:18:42;0.0266254;0.0410263;0.823442;-0.27321599999999996;78.9317;26.0407;231.641;32.0035;0.0;0.0\"],[\"2020-03-09 10:18:43;0.0263587;0.0409256;0.903716;0.38263800000000003;78.8587;26.0403;245.41;32.0;0.0;0.0\"],[\"2020-03-09 10:18:44;0.026715100000000002;0.0410856;0.953307;0.054711;78.8129;26.031999999999996;253.24200000000002;32.0;0.0;0.0\"],[\"2020-03-09 10:18:45;0.026240100000000002;0.0407907;0.873592;0.054711;78.7924;26.0421;231.574;32.0;0.0;0.0\"],[\"2020-03-09 10:18:46;0.026437000000000002;0.0403466;0.9125979999999999;0.38263800000000003;78.7372;26.0396;225.282;32.0;0.0;0.0\"],[\"2020-03-09 10:18:47;0.0262651;0.0409788;1.40858;-0.27321599999999996;78.8024;26.035999999999998;251.082;32.0;0.0;0.0\"],[\"2020-03-09 10:18:48;0.026505400000000002;0.0415195;0.908467;0.38263800000000003;78.9033;26.0375;207.544;32.0;0.0;0.0\"],[\"2020-03-09 10:18:49;0.0262545;0.0405541;0.9828469999999999;-0.27321599999999996;78.85;26.0289;232.405;32.0;0.0;0.0\"],[\"2020-03-09 10:18:50;0.0267418;0.0419496;0.909235;-0.27321599999999996;78.7269;26.0289;212.449;32.0035;0.0;0.0\"],[\"2020-03-09 10:18:51;0.0265626;0.041077800000000005;1.31266;0.38263800000000003;78.9143;26.0437;233.47799999999998;32.0;0.0;0.0\"],[\"2020-03-09 10:18:52;0.026918900000000003;0.0410834;0.9177639999999999;0.054711;78.8242;26.0261;229.304;32.0;0.0;0.0\"],[\"2020-03-09 10:18:54;0.026427999999999997;0.0407516;1.2324;-0.27321599999999996;78.899;26.0403;235.03;32.0;0.0;0.0\"],[\"2020-03-09 10:18:55;0.026388799999999997;0.0405832;0.9776;0.054711;78.8363;26.029;231.665;32.0;0.0;0.0\"],[\"2020-03-09 10:18:56;0.026349099999999997;0.0405374;1.00463;0.054711;78.8341;26.038;224.373;32.0;0.0;0.0\"],[\"2020-03-09 10:18:57;0.026476999999999997;0.040378899999999995;1.0093299999999998;0.38263800000000003;78.9137;26.0273;230.987;32.0;0.0;0.0\"],[\"2020-03-09 10:18:58;0.0260752;0.040255400000000004;1.02631;0.38263800000000003;78.7262;26.0307;232.342;32.0;0.0;0.0\"],[\"2020-03-09 10:18:59;0.0265993;0.040722;1.00759;0.054711;78.944;26.024;224.15200000000002;32.9966;0.0;0.0\"],[\"2020-03-09 10:19:00;0.0266466;0.0406031;1.13526;-0.27321599999999996;78.8553;26.0305;206.965;32.0035;0.0;0.0\"],[\"2020-03-09 10:19:01;0.0264579;0.0397227;1.0606799999999998;0.054711;78.9038;26.0209;231.585;32.0;0.0;0.0\"],[\"2020-03-09 10:19:02;0.0265719;0.0397594;1.47694;0.38263800000000003;78.7855;26.0159;233.50099999999998;32.0;0.0;0.0\"],[\"2020-03-09 10:19:03;0.026245499999999998;0.038969800000000006;1.3516;0.054711;78.8247;26.0158;234.963;32.9966;0.0;0.0\"],[\"2020-03-09 10:19:04;0.026123400000000005;0.0388008;1.14458;0.054711;78.7678;26.021;224.305;32.0035;0.0;0.0\"],[\"2020-03-09 10:19:05;0.025904400000000005;0.0392907;1.53576;-0.27321599999999996;78.7337;26.018;244.445;32.0;0.0;0.0\"],[\"2020-03-09 10:19:06;0.0263661;0.039894900000000004;1.15551;0.38263800000000003;78.6792;26.0144;228.924;32.9966;0.0;0.0\"],[\"2020-03-09 10:19:07;0.0256815;0.0404978;1.2059600000000001;0.054711;78.6888;26.0224;239.52900000000002;32.0035;0.0;0.0\"],[\"2020-03-09 10:19:08;0.0262807;0.0400772;1.3741299999999999;0.054711;78.6026;26.0136;239.602;32.0;0.0;0.0\"],[\"2020-03-09 10:19:09;0.026261000000000003;0.0400612;1.21024;0.38263800000000003;78.6588;26.0221;226.94299999999998;32.0;0.0;0.0\"],[\"2020-03-09 10:19:10;0.0263152;0.0394704;1.08952;0.054711;78.6536;26.0124;235.739;32.9966;0.0;0.0\"],[\"2020-03-09 10:19:11;0.0262863;0.040002300000000005;1.57216;0.054711;78.5868;26.0169;253.795;32.0035;0.0;0.0\"],[\"2020-03-09 10:19:12;0.026103300000000003;0.0400763;1.44265;0.054711;78.5967;26.0108;243.493;32.0;0.0;0.0\"],[\"2020-03-09 10:19:13;0.0260274;0.04000019999999999;1.31545;0.054711;78.3821;26.0137;231.6;32.0;0.0;0.0\"],[\"2020-03-09 10:19:15;0.0264461;0.0404207;1.07835;-0.27321599999999996;78.5649;26.0256;252.739;32.0;0.0;0.0\"],[\"2020-03-09 10:19:16;0.0259368;0.040196800000000005;1.19038;0.054711;78.7314;26.0123;238.533;32.9966;0.0;0.0\"],[\"2020-03-09 10:19:17;0.0266481;0.040863699999999996;1.40269;0.054711;78.4685;26.0318;237.575;32.0035;0.0;0.0\"],[\"2020-03-09 10:19:18;0.0265882;0.0413079;1.30335;-0.27321599999999996;78.5205;26.0113;235.102;32.0;0.0;0.0\"],[\"2020-03-09 10:19:19;0.0264425;0.040748;1.01332;0.38263800000000003;78.6124;26.0181;252.747;32.9966;0.0;0.0\"],[\"2020-03-09 10:19:20;0.026567400000000005;0.0404539;1.1705299999999998;-0.27321599999999996;78.646;26.011999999999997;226.299;32.0035;0.0;0.0\"],[\"2020-03-09 10:19:21;0.0266721;0.040821300000000005;1.4486700000000001;0.38263800000000003;78.4808;26.0153;253.828;32.0;0.0;0.0\"],[\"2020-03-09 10:19:22;0.0262742;0.040581;1.20068;-0.27321599999999996;78.3801;26.0188;230.89;32.0;0.0;0.0\"],[\"2020-03-09 10:19:23;0.026173400000000003;0.040964099999999996;1.19602;0.054711;78.6614;26.0076;232.729;32.9966;0.0;0.0\"],[\"2020-03-09 10:19:24;0.026594299999999998;0.0417574;0.8419209999999999;0.054711;78.3801;26.0099;217.43200000000002;32.0035;0.0;0.0\"],[\"2020-03-09 10:19:25;0.026014599999999995;0.0411087;1.06671;0.054711;78.5088;26.0055;221.94799999999998;32.0;0.0;0.0\"],[\"2020-03-09 10:19:26;0.026815600000000002;0.0419763;1.11897;0.38263800000000003;78.4324;26.0063;234.112;32.0;0.0;0.0\"],[\"2020-03-09 10:19:27;0.0265157;0.0421464;1.2005299999999999;0.054711;78.4033;26.005;244.21400000000003;32.0;0.0;0.0\"],[\"2020-03-09 10:19:28;0.0266899;0.042174;0.9136850000000001;0.054711;78.6049;26.0009;207.56099999999998;32.9966;0.0;0.0\"],[\"2020-03-09 10:19:29;0.0265168;0.040918300000000005;0.8000079999999999;0.38263800000000003;78.6968;26.0008;224.53099999999998;32.0035;0.0;0.0\"],[\"2020-03-09 10:19:30;0.026473400000000005;0.0412594;0.7818390000000001;-0.27321599999999996;78.2708;26.0074;225.40099999999998;32.0;0.0;0.0\"],[\"2020-03-09 10:19:31;0.0264343;0.0409746;1.40919;0.38263800000000003;78.5185;26.0103;241.77200000000002;32.0;0.0;0.0\"],[\"2020-03-09 10:19:32;0.0264575;0.0411736;0.792894;0.054711;78.2029;25.9974;207.519;32.9966;0.0;0.0\"],[\"2020-03-09 10:19:33;0.027044400000000003;0.041995599999999994;1.13565;0.054711;78.3808;25.9932;220.19799999999998;32.0035;0.0;0.0\"],[\"2020-03-09 10:19:34;0.0264971;0.0410914;0.394539;0.054711;78.4135;25.9983;222.834;32.0;0.0;0.0\"],[\"2020-03-09 10:19:35;0.026750599999999996;0.0413645;1.1196700000000002;0.38263800000000003;78.4001;25.9991;219.74400000000003;32.9966;0.0;0.0\"],[\"2020-03-09 10:19:36;0.026938;0.041288099999999994;0.839274;0.38263800000000003;78.2686;25.9991;247.88099999999997;32.0035;0.0;0.0\"],[\"2020-03-09 10:19:37;0.026346299999999996;0.04056780000000001;1.1247200000000002;0.054711;78.2607;25.9962;237.59099999999998;32.0;0.0;0.0\"],[\"2020-03-09 10:19:39;0.0266074;0.0406191;0.693211;0.38263800000000003;78.3087;26.003;214.28400000000002;32.0;0.0;0.0\"],[\"2020-03-09 10:19:40;0.026407999999999997;0.0402436;1.02525;0.054711;78.2848;25.9997;234.91099999999997;32.0;0.0;0.0\"],[\"2020-03-09 10:19:41;0.0262043;0.0403824;1.10828;-0.27321599999999996;78.3091;25.9939;232.39700000000002;32.9966;0.0;0.0\"],[\"2020-03-09 10:19:42;0.0262881;0.039593300000000005;1.03598;0.054711;78.3558;25.9979;236.209;32.0035;0.0;0.0\"],[\"2020-03-09 10:19:43;0.025643400000000004;0.0385842;1.06956;0.054711;78.241;25.9893;235.217;32.0;0.0;0.0\"],[\"2020-03-09 10:19:44;0.0261721;0.0392606;0.6232260000000001;0.054711;78.3954;25.9937;222.892;32.0;0.0;0.0\"],[\"2020-03-09 10:19:45;0.025997500000000003;0.0385906;0.641927;0.054711;78.4158;26.0033;229.518;32.0;0.0;0.0\"],[\"2020-03-09 10:19:46;0.0260733;0.0393753;0.648586;-0.27321599999999996;78.238;25.9897;231.523;32.0;0.0;0.0\"],[\"2020-03-09 10:19:47;0.0260601;0.038797000000000005;1.06834;0.054711;78.252;25.9968;224.505;32.9966;0.0;0.0\"],[\"2020-03-09 10:19:48;0.026033099999999997;0.038680900000000004;0.726214;0.054711;78.2303;25.9968;235.294;31.0071;0.0;0.0\"],[\"2020-03-09 10:19:49;0.025715199999999997;0.038643199999999996;0.9197110000000001;0.054711;78.3277;25.9924;219.433;32.9934;0.0;0.0\"],[\"2020-03-09 10:19:50;0.0259328;0.0394455;1.06667;0.054711;78.3382;25.9973;236.449;32.0035;0.0;0.0\"],[\"2020-03-09 10:19:51;0.0260452;0.039745499999999996;0.7367279999999999;0.38263800000000003;78.3255;26.0018;253.77599999999998;32.0;0.0;0.0\"],[\"2020-03-09 10:19:52;0.0258423;0.0396442;0.879333;0.38263800000000003;78.3229;25.9968;240.787;32.0;0.0;0.0\"],[\"2020-03-09 10:19:53;0.0265058;0.039885199999999996;0.95019;0.054711;78.3597;25.9987;251.63299999999998;32.9966;0.0;0.0\"],[\"2020-03-09 10:19:54;0.026224900000000002;0.0398755;0.46196499999999996;0.054711;78.2642;26.0021;224.146;32.0035;0.0;0.0\"],[\"2020-03-09 10:19:55;0.0266036;0.039924699999999994;0.527708;-0.27321599999999996;78.4255;26.003;228.395;32.0;0.0;0.0\"],[\"2020-03-09 10:19:56;0.026368400000000004;0.0395482;0.596371;0.054711;78.4639;25.9979;236.37400000000002;32.9966;0.0;0.0\"],[\"2020-03-09 10:19:57;0.026535200000000002;0.039751999999999996;0.988952;0.054711;78.4067;26.009;236.688;31.0071;0.0;0.0\"],[\"2020-03-09 10:19:58;0.026057099999999996;0.039634300000000004;0.463262;0.38263800000000003;78.3858;26.0089;226.479;32.9934;0.0;0.0\"],[\"2020-03-09 10:19:59;0.0262527;0.0407192;0.63893;-0.27321599999999996;78.3651;26.0008;226.757;32.0;0.0;0.0\"],[\"2020-03-09 10:20:00;0.0262032;0.040539099999999995;0.5882569999999999;0.054711;78.2797;26.0063;234.717;32.0;0.0;0.0\"],[\"2020-03-09 10:20:01;0.026774700000000002;0.0406427;0.786827;0.054711;78.342;26.016;238.851;32.0;0.0;0.0\"],[\"2020-03-09 10:20:03;0.026557099999999997;0.040756099999999996;0.625156;0.054711;78.4246;26.0178;231.405;32.9966;0.0;0.0\"],[\"2020-03-09 10:20:04;0.0269836;0.04057;0.804185;0.054711;78.3833;26.0071;229.321;32.0035;0.0;0.0\"],[\"2020-03-09 10:20:05;0.026590499999999996;0.0397641;0.906861;0.38263800000000003;78.4128;25.9945;238.283;32.0;0.0;0.0\"],[\"2020-03-09 10:20:06;0.026481900000000003;0.0398494;0.796593;0.38263800000000003;78.4241;26.0077;219.141;32.0;0.0;0.0\"],[\"2020-03-09 10:20:07;0.026470999999999998;0.0402565;0.985693;0.054711;78.3996;26.008000000000003;228.06;32.0;0.0;0.0\"],[\"2020-03-09 10:20:08;0.0268673;0.0407254;1.01337;-0.27321599999999996;78.4016;26.0021;238.75099999999998;32.0;0.0;0.0\"],[\"2020-03-09 10:20:09;0.0265257;0.0409842;0.895436;0.054711;78.5652;26.0064;230.928;32.0;0.0;0.0\"],[\"2020-03-09 10:20:10;0.0265517;0.040369699999999994;0.502275;0.38263800000000003;78.32600000000001;26.0027;205.797;32.0;0.0;0.0\"],[\"2020-03-09 10:20:11;0.0268056;0.0411595;0.8373870000000001;0.054711;78.4077;25.9981;230.52700000000002;32.0;0.0;0.0\"],[\"2020-03-09 10:20:12;0.026614699999999998;0.0404394;0.583412;0.054711;78.4295;26.0077;229.99099999999999;32.0;0.0;0.0\"],[\"2020-03-09 10:20:13;0.0268972;0.0399836;0.8550770000000001;-0.27321599999999996;78.4522;26.0033;231.451;32.0;0.0;0.0\"],[\"2020-03-09 10:20:14;0.026667200000000002;0.040168699999999995;0.47434;-0.27321599999999996;78.3774;26.004;223.485;32.0;0.0;0.0\"],[\"2020-03-09 10:20:15;0.026661200000000003;0.0404796;0.850096;-0.601143;78.4709;26.0084;233.984;32.0;0.0;0.0\"],[\"2020-03-09 10:20:16;0.026521100000000002;0.040106699999999995;0.49308599999999997;0.710565;78.4923;25.9993;217.354;32.0;0.0;0.0\"],[\"2020-03-09 10:20:17;0.026654200000000003;0.040842199999999995;0.880849;0.054711;78.5128;26.0027;233.06099999999998;32.0;0.0;0.0\"],[\"2020-03-09 10:20:18;0.026232;0.040503;0.882473;0.054711;78.4889;26.0006;226.61599999999999;32.9966;0.0;0.0\"],[\"2020-03-09 10:20:19;0.0266183;0.040967199999999995;0.533013;-0.27321599999999996;78.3643;26.006999999999998;233.102;32.0035;0.0;0.0\"],[\"2020-03-09 10:20:20;0.0267017;0.0416587;0.968726;0.054711;78.3359;26.0037;225.93200000000002;32.0;0.0;0.0\"],[\"2020-03-09 10:20:21;0.026479700000000002;0.0401971;1.21975;0.054711;78.3857;26.0037;231.502;32.0;0.0;0.0\"],[\"2020-03-09 10:20:22;0.0265755;0.0402347;0.589635;-0.27321599999999996;78.2955;26.0045;237.56400000000002;32.0;0.0;0.0\"],[\"2020-03-09 10:20:23;0.026709899999999998;0.0398625;0.8342;0.054711;78.4556;25.9975;212.449;32.0;0.0;0.0\"],[\"2020-03-09 10:20:24;0.026720999999999998;0.040607300000000006;1.00544;0.054711;78.3692;26.0024;242.197;32.0;0.0;0.0\"],[\"2020-03-09 10:20:26;0.0265483;0.040423900000000006;0.7782180000000001;0.38263800000000003;78.4535;26.0016;230.84;32.9966;0.0;0.0\"],[\"2020-03-09 10:20:27;0.0264473;0.0402524;1.24108;0.054711;78.33800000000001;25.9996;232.351;32.0035;0.0;0.0\"],[\"2020-03-09 10:20:28;0.026682599999999997;0.0408649;0.913966;0.054711;78.3964;26.0051;227.687;32.0;0.0;0.0\"],[\"2020-03-09 10:20:29;0.0264687;0.0404749;1.46153;0.054711;78.4203;26.0122;253.308;32.0;0.0;0.0\"],[\"2020-03-09 10:20:30;0.0264351;0.039845599999999995;1.31911;0.38263800000000003;78.4512;26.0006;237.53900000000002;32.0;0.0;0.0\"],[\"2020-03-09 10:20:31;0.0267394;0.041313499999999996;0.958525;-0.27321599999999996;78.3523;26.0002;237.294;32.0;0.0;0.0\"],[\"2020-03-09 10:20:32;0.026291900000000003;0.039557999999999996;1.0306799999999998;-0.27321599999999996;78.446;26.0086;228.426;32.9969;0.0;0.0\"],[\"2020-03-09 10:20:33;0.0267647;0.0411227;0.917624;-0.601143;78.4243;26.0007;231.535;32.0032;0.0;0.0\"],[\"2020-03-09 10:20:34;0.026735400000000003;0.0403694;1.29145;0.38263800000000003;78.5534;26.0038;232.263;32.0;0.0;0.0\"],[\"2020-03-09 10:20:35;0.0264659;0.0403569;1.30441;-0.27321599999999996;78.4816;26.0019;232.821;32.9969;0.0;0.0\"],[\"2020-03-09 10:20:36;0.026300099999999996;0.0403655;1.32324;0.054711;78.4919;26.0095;231.88400000000001;32.0032;0.0;0.0\"],[\"2020-03-09 10:20:37;0.026695499999999997;0.0411671;1.0672;-0.27321599999999996;78.5113;26.0061;242.166;32.0;0.0;0.0\"],[\"2020-03-09 10:20:38;0.026295099999999995;0.0404718;0.9761620000000001;0.054711;78.5048;25.9932;224.891;32.0;0.0;0.0\"],[\"2020-03-09 10:20:39;0.0264753;0.040640699999999995;0.904537;0.38263800000000003;78.46600000000001;26.0039;222.72799999999998;32.0;0.0;0.0\"],[\"2020-03-09 10:20:40;0.0267159;0.0406744;0.9291870000000001;0.054711;78.529;26.002;233.03;32.0;0.0;0.0\"],[\"2020-03-09 10:20:41;0.0265157;0.0405344;1.26589;0.054711;78.5497;26.0009;216.951;32.9969;0.0;0.0\"],[\"2020-03-09 10:20:42;0.026919400000000003;0.0405298;1.38153;0.054711;78.3895;26.0014;228.733;32.0032;0.0;0.0\"],[\"2020-03-09 10:20:43;0.026661900000000002;0.039830800000000006;1.39279;0.38263800000000003;78.4778;26.0057;246.168;32.0;0.0;0.0\"],[\"2020-03-09 10:20:44;0.026856799999999997;0.0403467;1.30989;0.054711;78.5407;26.0068;234.265;32.0;0.0;0.0\"],[\"2020-03-09 10:20:45;0.026281799999999998;0.0401047;1.4095;0.054711;78.4142;25.9966;237.56;32.9969;0.0;0.0\"],[\"2020-03-09 10:20:46;0.0266671;0.0410068;1.3811200000000001;0.054711;78.4352;26.0044;236.81099999999998;32.0032;0.0;0.0\"],[\"2020-03-09 10:20:47;0.026317700000000003;0.0407162;1.27273;-0.27321599999999996;78.5462;25.995;233.61599999999999;32.0;0.0;0.0\"],[\"2020-03-09 10:20:48;0.026857;0.040431800000000004;1.24736;0.38263800000000003;78.4688;25.9938;230.68599999999998;32.0;0.0;0.0\"],[\"2020-03-09 10:20:49;0.026440300000000003;0.0408839;1.41782;0.38263800000000003;78.4873;25.9958;243.455;32.0;0.0;0.0\"],[\"2020-03-09 10:20:51;0.026559500000000003;0.0399783;1.2716100000000001;0.38263800000000003;78.4467;26.0075;233.72400000000002;32.9969;0.0;0.0\"],[\"2020-03-09 10:20:52;0.0263763;0.039723;1.24942;-0.27321599999999996;78.4721;26.0058;231.935;32.0032;0.0;0.0\"],[\"2020-03-09 10:20:53;0.0262661;0.0401194;1.21807;0.054711;78.5488;26.0007;230.45;32.0;0.0;0.0\"],[\"2020-03-09 10:20:54;0.0260714;0.0391797;1.21059;-0.27321599999999996;78.4601;26.0094;223.642;32.0;0.0;0.0\"],[\"2020-03-09 10:20:55;0.0262596;0.0403108;0.9358049999999999;-0.27321599999999996;78.4275;25.9989;231.24900000000002;32.0;0.0;0.0\"],[\"2020-03-09 10:20:56;0.026023;0.0396598;1.3596;0.054711;78.6125;25.9903;235.783;32.9969;0.0;0.0\"],[\"2020-03-09 10:20:57;0.0265586;0.040171899999999997;1.26987;0.054711;78.5173;25.9912;228.933;32.0032;0.0;0.0\"],[\"2020-03-09 10:20:58;0.0265728;0.0398019;1.49766;-0.601143;78.5504;25.9968;253.43099999999998;32.0;0.0;0.0\"],[\"2020-03-09 10:20:59;0.0262448;0.0392341;1.2252100000000001;0.054711;78.5267;25.9958;230.03799999999998;32.0;0.0;0.0\"],[\"2020-03-09 10:21:00;0.026299700000000002;0.039519099999999995;1.32354;-0.27321599999999996;78.5881;25.9898;229.829;32.9969;0.0;0.0\"],[\"2020-03-09 10:21:01;0.0258711;0.0389546;1.3686399999999999;-0.27321599999999996;78.5712;25.9898;239.352;32.0032;0.0;0.0\"],[\"2020-03-09 10:21:02;0.025935000000000003;0.03873;1.2509700000000001;0.054711;78.759;25.9873;234.343;32.0;0.0;0.0\"],[\"2020-03-09 10:21:03;0.0262875;0.0391818;1.0498299999999998;0.054711;78.6046;25.9873;230.27700000000002;32.9969;0.0;0.0\"],[\"2020-03-09 10:21:04;0.0260892;0.0390779;1.1723;0.054711;78.7191;25.9828;242.796;32.0032;0.0;0.0\"],[\"2020-03-09 10:21:05;0.026068599999999997;0.0388319;1.05302;0.054711;78.5649;25.9825;208.291;32.0;0.0;0.0\"],[\"2020-03-09 10:21:06;0.026361000000000002;0.03957;1.37266;0.054711;78.8301;25.9884;241.084;32.0;0.0;0.0\"],[\"2020-03-09 10:21:07;0.0260949;0.038447300000000004;1.03996;0.054711;78.6824;25.9843;249.385;32.0;0.0;0.0\"],[\"2020-03-09 10:21:08;0.0264957;0.039237400000000006;1.05789;-0.27321599999999996;78.9168;25.9858;210.622;31.0032;0.0;0.0\"],[\"2020-03-09 10:21:09;0.026575599999999998;0.0390324;1.29451;0.054711;78.5503;25.9818;231.862;32.9938;0.0;0.0\"],[\"2020-03-09 10:21:11;0.0263707;0.0392833;1.19038;0.054711;78.7628;25.9859;235.774;32.0032;0.0;0.0\"],[\"2020-03-09 10:21:12;0.0265205;0.0387034;0.726306;0.054711;78.9426;25.9841;230.58900000000003;32.0;0.0;0.0\"],[\"2020-03-09 10:21:13;0.026271;0.0395374;1.33677;0.710565;78.854;25.9911;241.935;32.0;0.0;0.0\"],[\"2020-03-09 10:21:14;0.0260962;0.038862;0.9869209999999999;0.054711;78.7012;25.9882;237.452;32.0;0.0;0.0\"],[\"2020-03-09 10:21:15;0.0262596;0.040088099999999995;1.0414299999999999;0.054711;78.8359;25.9757;232.408;32.9969;0.0;0.0\"],[\"2020-03-09 10:21:16;0.026170599999999995;0.03937569999999999;0.72873;0.054711;78.7962;25.9757;230.185;32.0032;0.0;0.0\"],[\"2020-03-09 10:21:17;0.026147800000000002;0.0403121;1.28545;0.054711;78.827;25.9763;231.329;32.0;0.0;0.0\"],[\"2020-03-09 10:21:18;0.0268118;0.0398395;0.725308;0.054711;78.7921;25.9819;214.644;31.0032;0.0;0.0\"],[\"2020-03-09 10:21:19;0.026317400000000005;0.0402922;1.16596;0.38263800000000003;78.8667;25.9744;234.265;31.9969;0.0;0.0\"],[\"2020-03-09 10:21:20;0.0264303;0.039450900000000004;1.19277;0.710565;78.9;25.9804;226.27;32.9969;0.0;0.0\"],[\"2020-03-09 10:21:21;0.0265014;0.0393647;0.710779;0.38263800000000003;78.8169;25.9828;245.794;32.0032;0.0;0.0\"],[\"2020-03-09 10:21:22;0.026151499999999998;0.0396372;1.15146;0.054711;78.889;25.9806;232.378;32.0;0.0;0.0\"],[\"2020-03-09 10:21:23;0.0263216;0.0395221;0.8180149999999999;0.054711;78.8489;25.9853;247.83;32.0;0.0;0.0\"],[\"2020-03-09 10:21:24;0.0264965;0.040424199999999993;0.821069;0.38263800000000003;78.8632;25.9842;239.377;32.0;0.0;0.0\"],[\"2020-03-09 10:21:25;0.026344299999999998;0.0399557;0.448822;0.054711;78.943;25.9787;222.343;32.0;0.0;0.0\"],[\"2020-03-09 10:21:26;0.026763599999999995;0.041368800000000004;0.734527;-0.27321599999999996;78.9735;25.9796;254.896;32.0;0.0;0.0\"],[\"2020-03-09 10:21:27;0.026547300000000003;0.040130400000000004;1.11722;0.054711;78.88600000000001;25.9763;240.639;32.0;0.0;0.0\"],[\"2020-03-09 10:21:28;0.026460300000000003;0.0397547;0.594725;0.054711;78.931;25.9765;212.326;32.0;0.0;0.0\"],[\"2020-03-09 10:21:29;0.0262224;0.0397008;1.19202;0.054711;78.8667;25.9825;233.301;32.0;0.0;0.0\"],[\"2020-03-09 10:21:30;0.0265418;0.0400752;0.710393;0.38263800000000003;78.8081;25.9773;225.075;32.0;0.0;0.0\"],[\"2020-03-09 10:21:31;0.0265173;0.040316199999999996;0.439802;0.38263800000000003;78.9304;25.9822;224.46400000000003;32.0;0.0;0.0\"],[\"2020-03-09 10:21:33;0.026612900000000002;0.0407166;0.844641;0.054711;78.8095;25.9732;235.16099999999997;32.0;0.0;0.0\"],[\"2020-03-09 10:21:34;0.0264538;0.040801;0.9111440000000001;0.054711;78.8828;25.9727;236.373;32.0;0.0;0.0\"],[\"2020-03-09 10:21:35;0.0268041;0.0414871;0.42905299999999996;0.054711;78.6729;25.9811;219.385;32.0;0.0;0.0\"],[\"2020-03-09 10:21:36;0.0264707;0.0397279;0.8361799999999999;0.38263800000000003;78.8375;25.9809;234.243;32.0;0.0;0.0\"],[\"2020-03-09 10:21:37;0.026236000000000002;0.0409282;0.633676;0.054711;78.92399999999999;25.9784;230.94299999999998;32.0;0.0;0.0\"],[\"2020-03-09 10:21:38;0.0269793;0.040504000000000005;0.47161499999999995;0.38263800000000003;78.7643;25.9701;206.19799999999998;32.9969;0.0;0.0\"],[\"2020-03-09 10:21:39;0.026557400000000002;0.040702300000000004;0.890224;0.054711;78.8443;25.9785;233.69099999999997;32.0032;0.0;0.0\"],[\"2020-03-09 10:21:40;0.027008299999999996;0.040974199999999995;0.6081270000000001;0.054711;78.7452;25.9803;233.148;32.0;0.0;0.0\"],[\"2020-03-09 10:21:41;0.026654900000000002;0.0401584;0.8266319999999999;0.054711;78.8114;25.9803;228.78799999999998;32.0;0.0;0.0\"],[\"2020-03-09 10:21:42;0.0268878;0.040516500000000004;0.46322700000000006;0.054711;78.9385;25.9839;238.52700000000002;32.0;0.0;0.0\"],[\"2020-03-09 10:21:43;0.0261407;0.0399978;0.614583;0.054711;78.852;25.9833;232.101;32.0;0.0;0.0\"],[\"2020-03-09 10:21:44;0.026981900000000003;0.040903800000000004;0.862099;0.054711;79.1049;25.9789;227.747;32.0;0.0;0.0\"],[\"2020-03-09 10:21:45;0.026320099999999996;0.0403934;0.581519;0.38263800000000003;79.0376;25.9822;234.942;32.0;0.0;0.0\"],[\"2020-03-09 10:21:46;0.0266908;0.0409032;0.8118270000000001;0.054711;79.0059;25.9807;228.915;32.0;0.0;0.0\"],[\"2020-03-09 10:21:47;0.026742200000000004;0.040033400000000004;0.9093459999999999;0.054711;78.8162;25.9858;244.34400000000002;32.0;0.0;0.0\"],[\"2020-03-09 10:21:48;0.026703300000000003;0.0403828;0.8460469999999999;0.054711;78.9155;25.9847;225.71900000000002;32.0;0.0;0.0\"],[\"2020-03-09 10:21:49;0.0265166;0.040037800000000005;1.24543;0.38263800000000003;78.7968;25.9743;229.63400000000001;32.0;0.0;0.0\"],[\"2020-03-09 10:21:50;0.026301400000000003;0.0396665;1.22314;0.38263800000000003;78.8493;25.9824;237.362;32.0;0.0;0.0\"],[\"2020-03-09 10:21:51;0.0260533;0.0398397;1.2198799999999999;0.054711;79.0229;25.9862;227.792;32.0;0.0;0.0\"],[\"2020-03-09 10:21:52;0.0262526;0.0393695;0.728201;0.054711;78.9044;25.9824;231.446;32.0;0.0;0.0\"],[\"2020-03-09 10:21:53;0.025937599999999998;0.039575900000000004;0.784565;0.054711;78.8716;25.983;206.17;32.9969;0.0;0.0\"],[\"2020-03-09 10:21:54;0.026410000000000003;0.0406283;0.778434;-0.27321599999999996;78.9618;25.9833;232.628;32.0032;0.0;0.0\"],[\"2020-03-09 10:21:55;0.0267182;0.0405034;1.1888299999999998;-0.27321599999999996;79.1865;25.9763;203.967;32.0;0.0;0.0\"],[\"2020-03-09 10:21:57;0.0262693;0.039180900000000005;0.792506;0.38263800000000003;78.9698;25.9843;231.33900000000003;32.0;0.0;0.0\"],[\"2020-03-09 10:21:58;0.026550599999999997;0.0392886;1.36999;0.054711;79.0327;25.9817;231.517;32.9969;0.0;0.0\"],[\"2020-03-09 10:21:59;0.026016200000000003;0.039236599999999996;1.19656;0.38263800000000003;78.96300000000001;25.9847;227.18;32.0032;0.0;0.0\"],[\"2020-03-09 10:22:00;0.026444299999999997;0.0391689;0.8840950000000001;-0.27321599999999996;78.9754;25.9709;245.38;32.0;0.0;0.0\"],[\"2020-03-09 10:22:01;0.026407;0.039758999999999996;1.37319;-0.27321599999999996;79.1356;25.9769;231.87;32.0;0.0;0.0\"],[\"2020-03-09 10:22:02;0.0264017;0.039753;0.802046;0.054711;78.9852;25.9824;222.84599999999998;32.0;0.0;0.0\"],[\"2020-03-09 10:22:03;0.026150299999999998;0.0402457;1.3220399999999999;0.38263800000000003;79.0396;25.9696;226.2;32.0;0.0;0.0\"],[\"2020-03-09 10:22:04;0.0265132;0.0410028;0.759321;0.38263800000000003;79.139;25.9874;216.96900000000002;32.0;0.0;0.0\"],[\"2020-03-09 10:22:05;0.026237299999999998;0.0391515;1.18782;0.38263800000000003;78.8598;25.9871;235.34799999999998;32.9969;0.0;0.0\"],[\"2020-03-09 10:22:06;0.026428700000000003;0.0404356;0.827462;-0.601143;78.9713;25.9782;207.16099999999997;32.0032;0.0;0.0\"],[\"2020-03-09 10:22:07;0.0267267;0.039822;1.3172;-0.27321599999999996;78.9913;25.9806;235.886;32.0;0.0;0.0\"],[\"2020-03-09 10:22:08;0.026414;0.039579699999999995;0.8243739999999999;-0.27321599999999996;78.937;25.9771;231.588;32.0;0.0;0.0\"],[\"2020-03-09 10:22:09;0.026722500000000003;0.040168199999999994;1.09596;0.054711;79.0416;25.9695;232.118;32.0;0.0;0.0\"],[\"2020-03-09 10:22:10;0.0264659;0.0395945;1.28807;0.054711;79.1404;25.9697;229.658;32.0;0.0;0.0\"],[\"2020-03-09 10:22:11;0.026673400000000003;0.0400812;1.16396;0.054711;79.0152;25.9697;217.355;32.9969;0.0;0.0\"],[\"2020-03-09 10:22:12;0.026095;0.04001319999999999;1.27368;-0.27321599999999996;79.0667;25.9723;229.87599999999998;32.0032;0.0;0.0\"],[\"2020-03-09 10:22:13;0.0266991;0.040936;1.36294;-0.27321599999999996;79.0034;25.9778;224.998;32.0;0.0;0.0\"],[\"2020-03-09 10:22:14;0.026177299999999997;0.040161800000000004;1.22681;0.054711;79.1028;25.9767;228.99099999999999;32.0;0.0;0.0\"],[\"2020-03-09 10:22:15;0.0265651;0.0409886;1.23076;-0.27321599999999996;79.035;25.9759;222.635;32.0;0.0;0.0\"],[\"2020-03-09 10:22:16;0.026896299999999998;0.039874099999999996;1.3827200000000002;0.054711;79.0976;25.9695;233.62;32.0;0.0;0.0\"],[\"2020-03-09 10:22:17;0.0266084;0.0414016;0.9070739999999999;0.054711;79.1355;25.9748;229.03400000000002;32.0;0.0;0.0\"],[\"2020-03-09 10:22:18;0.0266738;0.039499400000000004;0.827996;0.054711;78.9926;25.9606;233.98;32.0;0.0;0.0\"],[\"2020-03-09 10:22:19;0.026515300000000002;0.040482300000000006;1.35002;0.054711;78.9783;25.963;230.11599999999999;32.0;0.0;0.0\"],[\"2020-03-09 10:22:20;0.0268677;0.0403442;1.31339;0.054711;79.1222;25.9667;233.28799999999998;32.9969;0.0;0.0\"],[\"2020-03-09 10:22:21;0.0267215;0.0410902;1.30877;0.054711;79.058;25.974;229.676;32.0032;0.0;0.0\"],[\"2020-03-09 10:22:23;0.0264099;0.0405636;1.34833;-0.27321599999999996;78.9699;25.975;226.235;32.0;0.0;0.0\"],[\"2020-03-09 10:22:24;0.026851999999999997;0.041605500000000004;1.04178;-0.27321599999999996;78.878;25.973000000000003;250.861;32.0;0.0;0.0\"],[\"2020-03-09 10:22:25;0.0267274;0.0406095;1.23812;-0.27321599999999996;78.9657;25.9735;232.023;32.0;0.0;0.0\"],[\"2020-03-09 10:22:26;0.0265856;0.040067;1.47576;-0.601143;78.9718;25.9766;238.32;32.0;0.0;0.0\"],[\"2020-03-09 10:22:27;0.0265356;0.0407355;0.8621850000000001;0.054711;78.7376;25.9712;230.05700000000002;32.0;0.0;0.0\"],[\"2020-03-09 10:22:28;0.0262378;0.040327999999999996;0.888882;0.054711;78.9125;25.969;233.952;32.0;0.0;0.0\"],[\"2020-03-09 10:22:29;0.026980599999999997;0.0401107;1.13865;0.054711;78.6954;25.98;223.324;32.9969;0.0;0.0\"],[\"2020-03-09 10:22:30;0.0261861;0.04036169999999999;1.21704;0.054711;78.7854;25.9707;222.584;32.003;0.0;0.0\"],[\"2020-03-09 10:22:31;0.026876099999999997;0.0406976;1.11474;0.054711;78.6626;25.9788;217.868;32.0;0.0;0.0\"],[\"2020-03-09 10:22:32;0.026243700000000002;0.040332599999999996;1.01348;0.38263800000000003;78.7583;25.9711;252.49;32.0;0.0;0.0\"],[\"2020-03-09 10:22:33;0.0268509;0.041399;1.36869;0.054711;78.725;25.9821;238.983;32.0;0.0;0.0\"],[\"2020-03-09 10:22:34;0.0264552;0.0398942;1.28944;0.054711;78.7741;25.9719;235.46599999999998;32.9971;0.0;0.0\"],[\"2020-03-09 10:22:35;0.026600099999999998;0.0416237;0.867667;0.38263800000000003;78.7923;25.9783;229.503;32.003;0.0;0.0\"],[\"2020-03-09 10:22:36;0.0267067;0.0399075;1.40198;-0.27321599999999996;78.6794;25.9697;248.357;32.0;0.0;0.0\"],[\"2020-03-09 10:22:37;0.026440699999999998;0.0411922;1.22764;0.054711;78.7542;25.9699;227.752;32.0;0.0;0.0\"],[\"2020-03-09 10:22:38;0.027089599999999995;0.040287199999999995;1.22885;0.38263800000000003;78.8473;25.9666;230.317;32.0;0.0;0.0\"],[\"2020-03-09 10:22:39;0.0266262;0.0396746;0.9838049999999999;-0.27321599999999996;78.7757;25.9728;248.696;32.0;0.0;0.0\"],[\"2020-03-09 10:22:40;0.026929599999999998;0.0406005;0.833944;0.054711;78.6134;25.9672;230.72799999999998;32.0;0.0;0.0\"],[\"2020-03-09 10:22:41;0.0260152;0.0393659;1.33107;-0.27321599999999996;78.6116;25.9679;239.82299999999998;32.0;0.0;0.0\"],[\"2020-03-09 10:22:42;0.0263329;0.0405342;0.818918;0.054711;78.8286;25.9745;221.636;32.0;0.0;0.0\"],[\"2020-03-09 10:22:43;0.027168900000000003;0.0408555;0.834283;0.054711;78.7207;25.9723;215.283;32.9971;0.0;0.0\"],[\"2020-03-09 10:22:44;0.027029400000000006;0.0416173;0.76673;0.054711;78.8123;25.9684;222.903;32.003;0.0;0.0\"],[\"2020-03-09 10:22:46;0.0269857;0.0407918;1.27514;0.38263800000000003;78.8223;25.9661;239.354;32.0;0.0;0.0\"],[\"2020-03-09 10:22:47;0.0271637;0.04031269999999999;0.657327;0.38263800000000003;78.8663;25.9629;245.79;32.0;0.0;0.0\"],[\"2020-03-09 10:22:48;0.0263004;0.0399522;1.2697200000000002;0.054711;78.7659;25.9567;237.18200000000002;32.0;0.0;0.0\"],[\"2020-03-09 10:22:49;0.026843400000000003;0.0399297;0.654741;-0.27321599999999996;78.7314;25.958000000000002;238.513;32.0;0.0;0.0\"],[\"2020-03-09 10:22:50;0.026639299999999998;0.0399735;0.686703;0.054711;78.6948;25.9546;234.687;32.9971;0.0;0.0\"],[\"2020-03-09 10:22:51;0.026743299999999998;0.0404144;0.7879619999999999;-0.27321599999999996;78.59899999999999;25.965;227.21599999999998;32.003;0.0;0.0\"],[\"2020-03-09 10:22:52;0.0264865;0.0404735;0.870893;0.38263800000000003;78.711;25.9589;237.105;32.0;0.0;0.0\"],[\"2020-03-09 10:22:53;0.0269137;0.0412044;0.997466;0.38263800000000003;78.7236;25.9647;223.32;32.0;0.0;0.0\"],[\"2020-03-09 10:22:54;0.0266938;0.0401656;1.09415;0.054711;78.6995;25.9627;240.525;32.0;0.0;0.0\"],[\"2020-03-09 10:22:55;0.026610500000000002;0.040961300000000006;0.9052450000000001;-0.27321599999999996;78.791;25.9564;229.699;32.0;0.0;0.0\"],[\"2020-03-09 10:22:56;0.0269293;0.0395463;1.05129;0.38263800000000003;78.6554;25.9592;242.231;32.0;0.0;0.0\"],[\"2020-03-09 10:22:57;0.0265012;0.040093300000000005;1.0240200000000002;0.054711;78.778;25.9564;237.29;32.0;0.0;0.0\"],[\"2020-03-09 10:22:58;0.0265733;0.0397915;0.7149979999999999;0.38263800000000003;78.8312;25.9576;244.396;32.0;0.0;0.0\"],[\"2020-03-09 10:22:59;0.0265057;0.039773699999999995;0.597614;-0.27321599999999996;78.8452;25.9688;223.737;32.0;0.0;0.0\"],[\"2020-03-09 10:23:00;0.026697900000000004;0.0400651;0.591132;0.054711;78.8087;25.9551;230.896;32.0;0.0;0.0\"],[\"2020-03-09 10:23:01;0.0258673;0.0390552;0.578029;0.054711;78.8502;25.9469;226.31099999999998;32.0;0.0;0.0\"],[\"2020-03-09 10:23:02;0.026658099999999997;0.0403323;0.669136;0.054711;78.84899999999999;25.9545;220.50599999999997;32.0;0.0;0.0\"],[\"2020-03-09 10:23:03;0.0266322;0.0395698;0.6431720000000001;0.054711;78.7499;25.948;217.32;31.003;0.0;0.0\"],[\"2020-03-09 10:23:04;0.026667000000000003;0.0396327;1.20823;0.054711;78.7689;25.9498;242.197;31.9971;0.0;0.0\"],[\"2020-03-09 10:23:05;0.0263415;0.0389889;1.0808799999999998;0.054711;78.8124;25.9498;229.766;32.0;0.0;0.0\"],[\"2020-03-09 10:23:07;0.026439400000000002;0.0391481;1.04129;0.054711;78.9239;25.9541;232.22;32.0;0.0;0.0\"],[\"2020-03-09 10:23:08;0.0262844;0.039049400000000005;1.05675;0.054711;78.7686;25.95;231.96200000000002;32.0;0.0;0.0\"],[\"2020-03-09 10:23:09;0.025928700000000002;0.0388944;0.649513;0.38263800000000003;78.7701;25.948;209.391;32.0;0.0;0.0\"],[\"2020-03-09 10:23:10;0.0259753;0.0394384;1.21243;-0.27321599999999996;78.7467;25.9402;245.862;32.0;0.0;0.0\"],[\"2020-03-09 10:23:11;0.0260882;0.0400218;0.8402040000000001;0.38263800000000003;78.7248;25.9537;251.53099999999998;32.0;0.0;0.0\"],[\"2020-03-09 10:23:12;0.025731099999999996;0.039792;1.25184;0.054711;78.7697;25.9538;242.53799999999998;32.0;0.0;0.0\"],[\"2020-03-09 10:23:13;0.026427199999999998;0.040743800000000004;0.89771;0.054711;78.7853;25.9397;248.649;32.0;0.0;0.0\"],[\"2020-03-09 10:23:14;0.026186900000000003;0.0399249;0.825001;0.054711;78.7479;25.9427;228.581;31.003;0.0;0.0\"],[\"2020-03-09 10:23:15;0.0261591;0.03993;0.595779;0.38263800000000003;78.8682;25.9552;232.71099999999998;31.9971;0.0;0.0\"],[\"2020-03-09 10:23:16;0.0267329;0.0407888;1.1553;0.054711;78.6273;25.9471;230.213;32.0;0.0;0.0\"],[\"2020-03-09 10:23:17;0.026285000000000003;0.0403103;1.2924;-0.27321599999999996;78.8495;25.9408;240.732;32.0;0.0;0.0\"],[\"2020-03-09 10:23:18;0.026916200000000005;0.040963099999999995;1.08974;0.054711;78.7242;25.9512;231.071;32.0;0.0;0.0\"],[\"2020-03-09 10:23:19;0.026506799999999997;0.0407576;1.09456;0.38263800000000003;78.7886;25.9614;231.878;32.0;0.0;0.0\"],[\"2020-03-09 10:23:20;0.026739599999999995;0.0405653;1.00417;-0.27321599999999996;78.7345;25.9548;230.355;32.0;0.0;0.0\"],[\"2020-03-09 10:23:21;0.026158999999999998;0.039804900000000004;1.24508;0.38263800000000003;78.8429;25.9506;224.68900000000002;32.0;0.0;0.0\"],[\"2020-03-09 10:23:22;0.0264388;0.0398089;1.19161;0.054711;78.86;25.9541;225.33900000000003;32.0;0.0;0.0\"],[\"2020-03-09 10:23:23;0.0260923;0.0390573;0.653438;0.054711;78.7385;25.9578;217.49599999999998;31.003;0.0;0.0\"],[\"2020-03-09 10:23:24;0.025930500000000002;0.03994330000000001;1.3707799999999999;0.054711;78.6158;25.9504;234.669;31.9971;0.0;0.0\"],[\"2020-03-09 10:23:25;0.0262933;0.038939999999999995;1.50496;0.054711;78.6058;25.9508;242.47099999999998;32.0;0.0;0.0\"],[\"2020-03-09 10:23:26;0.0261339;0.0392138;1.34725;0.054711;78.7362;25.9384;231.157;32.0;0.0;0.0\"],[\"2020-03-09 10:23:27;0.0259735;0.039246699999999995;1.14262;0.054711;78.6687;25.9495;231.222;32.0;0.0;0.0\"],[\"2020-03-09 10:23:29;0.0266802;0.0395094;1.47115;0.38263800000000003;78.7612;25.9536;238.576;31.003;0.0;0.0\"],[\"2020-03-09 10:23:30;0.026083099999999994;0.038926300000000004;1.16321;0.38263800000000003;78.7603;25.9563;234.109;31.9971;0.0;0.0\"],[\"2020-03-09 10:23:31;0.0268633;0.0406124;0.776712;0.38263800000000003;78.57300000000001;25.9469;224.576;32.0;0.0;0.0\"],[\"2020-03-09 10:23:32;0.0260491;0.040377300000000005;1.2000899999999999;0.054711;78.7664;25.9469;228.18900000000002;32.0;0.0;0.0\"],[\"2020-03-09 10:23:33;0.026591200000000002;0.0409616;1.2499;0.054711;78.6588;25.9457;232.202;32.0;0.0;0.0\"],[\"2020-03-09 10:23:34;0.026834300000000002;0.0412293;1.2570000000000001;0.054711;78.8297;25.9431;226.56099999999998;32.0;0.0;0.0\"],[\"2020-03-09 10:23:35;0.026702899999999998;0.040592199999999995;1.32332;0.054711;78.6567;25.9562;230.46400000000003;32.0;0.0;0.0\"],[\"2020-03-09 10:23:36;0.0266964;0.0399494;1.0787200000000001;0.054711;78.6992;25.9506;232.104;31.003;0.0;0.0\"],[\"2020-03-09 10:23:37;0.026611700000000002;0.0397015;1.52647;0.38263800000000003;78.6748;25.9519;254.202;31.9971;0.0;0.0\"],[\"2020-03-09 10:23:38;0.026624400000000003;0.0396584;1.4767700000000001;-0.601143;78.829;25.9479;247.391;32.0;0.0;0.0\"],[\"2020-03-09 10:23:39;0.0266712;0.0400805;1.02735;0.38263800000000003;78.7121;25.9425;205.792;32.0;0.0;0.0\"],[\"2020-03-09 10:23:40;0.026986700000000002;0.0399165;1.50955;-0.27321599999999996;78.6273;25.9512;252.875;32.0;0.0;0.0\"],[\"2020-03-09 10:23:41;0.0265731;0.039669199999999995;1.10542;0.054711;78.7146;25.9532;1.08735;31.003;0.0;0.0\"],[\"2020-03-09 10:23:42;0.0269715;0.040100199999999996;1.3501299999999998;0.38263800000000003;78.7732;25.9459;235.141;31.9971;0.0;0.0\"],[\"2020-03-09 10:23:43;0.0265286;0.0396399;1.5354;0.054711;78.7492;25.9446;252.315;32.0;0.0;0.0\"],[\"2020-03-09 10:23:44;0.026404300000000002;0.038572;1.16198;0.38263800000000003;78.6977;25.941999999999997;242.92700000000002;32.0;0.0;0.0\"],[\"2020-03-09 10:23:45;0.0264339;0.0384798;1.00725;0.38263800000000003;78.6986;25.9483;232.84799999999998;32.0;0.0;0.0\"],[\"2020-03-09 10:23:46;0.025861000000000002;0.0389039;1.1753799999999999;0.38263800000000003;78.6974;25.9535;249.43;32.9971;0.0;0.0\"],[\"2020-03-09 10:23:47;0.026667000000000003;0.0393731;0.988373;0.710565;78.7517;25.9569;231.715;32.003;0.0;0.0\"],[\"2020-03-09 10:23:48;0.026105400000000004;0.0397546;1.389;0.054711;78.6045;25.9588;242.285;31.003;0.0;0.0\"],[\"2020-03-09 10:23:49;0.026347900000000004;0.0400204;1.4737799999999999;0.38263800000000003;78.9981;25.9628;253.233;31.9971;0.0;0.0\"],[\"2020-03-09 10:23:50;0.0265082;0.0407894;1.06715;0.054711;78.6831;25.9562;217.74099999999999;32.0;0.0;0.0\"],[\"2020-03-09 10:23:52;0.0264743;0.0398611;1.1286;-0.27321599999999996;78.89;25.9613;207.544;32.0;0.0;0.0\"],[\"2020-03-09 10:23:53;0.0268955;0.0408339;1.24004;0.710565;78.8629;25.965999999999998;230.12400000000002;32.9971;0.0;0.0\"],[\"2020-03-09 10:23:54;0.026712299999999998;0.039541;1.24056;-0.27321599999999996;78.847;25.9662;213.91299999999998;31.006;0.0;0.0\"],[\"2020-03-09 10:23:55;0.027008299999999996;0.0408522;1.1096;0.054711;78.7233;25.9596;210.0;31.9971;0.0;0.0\"],[\"2020-03-09 10:23:56;0.0267577;0.0402765;0.833733;0.054711;78.7551;25.9646;231.09;32.0;0.0;0.0\"],[\"2020-03-09 10:23:57;0.0266524;0.040348300000000004;1.18516;-0.27321599999999996;78.9549;25.9604;230.581;32.0;0.0;0.0\"],[\"2020-03-09 10:23:58;0.0267024;0.0404775;0.808921;0.054711;79.0752;25.9548;234.707;32.0;0.0;0.0\"],[\"2020-03-09 10:23:59;0.026360900000000003;0.0399459;0.7894359999999999;0.054711;78.934;25.9691;238.06799999999998;32.0;0.0;0.0\"],[\"2020-03-09 10:24:00;0.0270228;0.0405055;1.1242;-0.27321599999999996;78.9424;25.9645;222.975;32.0;0.0;0.0\"],[\"2020-03-09 10:24:01;0.026193400000000002;0.040237800000000004;1.15277;0.054711;78.8891;25.9647;232.669;32.0;0.0;0.0\"],[\"2020-03-09 10:24:02;0.0268274;0.0401583;0.7408520000000001;0.054711;78.8219;25.9704;210.107;32.0;0.0;0.0\"],[\"2020-03-09 10:24:03;0.026632999999999997;0.0404056;1.09989;-0.27321599999999996;78.9705;25.9726;208.5;32.0;0.0;0.0\"],[\"2020-03-09 10:24:04;0.026913999999999997;0.039844;1.1033899999999999;0.054711;78.8932;25.965;231.22299999999998;32.0;0.0;0.0\"],[\"2020-03-09 10:24:05;0.026441900000000004;0.0397671;0.991401;0.054711;78.7033;25.9642;234.87;31.003;0.0;0.0\"],[\"2020-03-09 10:24:06;0.026512599999999997;0.039120300000000004;0.9973860000000001;0.054711;78.9211;25.9507;215.736;31.9971;0.0;0.0\"],[\"2020-03-09 10:24:07;0.02598;0.0389185;1.04538;0.054711;79.0106;25.9478;223.46099999999998;32.0;0.0;0.0\"],[\"2020-03-09 10:24:08;0.0264199;0.039538699999999996;0.9909209999999999;0.054711;78.7607;25.9627;231.642;32.0;0.0;0.0\"],[\"2020-03-09 10:24:09;0.0264248;0.0394702;1.25389;0.054711;78.9084;25.9627;226.204;32.0;0.0;0.0\"],[\"2020-03-09 10:24:10;0.026289499999999997;0.039147900000000006;1.05845;0.054711;78.9899;25.9596;232.858;31.003;0.0;0.0\"],[\"2020-03-09 10:24:11;0.0270659;0.0402698;1.1637899999999999;0.38263800000000003;79.046;25.9586;218.18;31.9971;0.0;0.0\"],[\"2020-03-09 10:24:12;0.0263827;0.0387594;1.26071;0.054711;78.6755;25.9471;228.628;32.0;0.0;0.0\"],[\"2020-03-09 10:24:13;0.0262531;0.0391914;1.14352;0.38263800000000003;78.9635;25.9521;237.13;31.003;0.0;0.0\"],[\"2020-03-09 10:24:15;0.026229000000000002;0.0390439;0.996373;0.054711;78.8451;25.9417;225.67700000000002;31.9971;0.0;0.0\"],[\"2020-03-09 10:24:16;0.0262334;0.0390739;0.947378;0.054711;78.9432;25.9555;229.59799999999998;32.0;0.0;0.0\"],[\"2020-03-09 10:24:17;0.0262439;0.0392902;1.28241;-0.27321599999999996;78.8487;25.9527;224.31;31.003;0.0;0.0\"],[\"2020-03-09 10:24:18;0.0262815;0.0396028;1.1731;0.38263800000000003;78.9331;25.9428;227.796;31.9971;0.0;0.0\"],[\"2020-03-09 10:24:19;0.0265192;0.039299900000000006;0.6245609999999999;0.054711;78.9262;25.9475;206.826;32.0;0.0;0.0\"],[\"2020-03-09 10:24:20;0.0265144;0.0398584;1.34417;0.054711;79.0006;25.9478;235.912;32.9971;0.0;0.0\"],[\"2020-03-09 10:24:21;0.026099599999999997;0.039106300000000004;0.935213;0.054711;78.9476;25.9439;238.285;32.003;0.0;0.0\"],[\"2020-03-09 10:24:22;0.026646100000000002;0.0403776;1.18474;0.38263800000000003;78.7679;25.9464;246.889;31.003;0.0;0.0\"],[\"2020-03-09 10:24:23;0.026421499999999997;0.039375099999999996;1.19784;-0.601143;78.9798;25.9479;205.81599999999997;31.9971;0.0;0.0\"],[\"2020-03-09 10:24:24;0.026898500000000002;0.0402642;0.708967;0.38263800000000003;79.0212;25.9572;230.202;32.0;0.0;0.0\"],[\"2020-03-09 10:24:25;0.0266303;0.0393457;1.2175799999999999;0.054711;78.8503;25.9526;231.748;32.0;0.0;0.0\"],[\"2020-03-09 10:24:26;0.0264973;0.038849699999999994;0.87489;0.054711;78.9521;25.9499;230.34799999999998;32.0;0.0;0.0\"],[\"2020-03-09 10:24:27;0.0260115;0.0393561;0.550942;-0.27321599999999996;78.8688;25.9378;217.408;32.0;0.0;0.0\"],[\"2020-03-09 10:24:28;0.0266099;0.0406098;0.962024;-0.601143;78.9335;25.9495;231.56900000000002;32.0;0.0;0.0\"],[\"2020-03-09 10:24:29;0.0264102;0.0407385;0.968987;0.054711;78.7072;25.9456;205.175;32.0;0.0;0.0\"],[\"2020-03-09 10:24:30;0.0264961;0.0406539;0.8425590000000001;0.38263800000000003;78.7068;25.9457;217.95;31.0027;0.0;0.0\"],[\"2020-03-09 10:24:31;0.026714599999999995;0.0418339;0.825723;0.054711;78.9755;25.9331;227.49900000000002;31.9974;0.0;0.0\"],[\"2020-03-09 10:24:32;0.026411900000000002;0.039721;1.00457;0.054711;78.8655;25.9418;253.537;32.0;0.0;0.0\"],[\"2020-03-09 10:24:33;0.0270327;0.0405338;0.8398959999999999;0.38263800000000003;78.6736;25.9506;219.57299999999998;32.0;1.0;1.0\"],[\"2020-03-09 10:24:34;0.026871499999999996;0.0401435;0.911565;0.38263800000000003;78.7927;25.9335;230.623;31.0;1.0;0.0\"],[\"2020-03-09 10:24:35;0.026994099999999997;0.040429400000000004;0.476628;0.710565;78.8999;25.9354;205.175;31.0;1.0;0.0\"],[\"2020-03-09 10:24:37;0.026799400000000004;0.039760199999999996;1.20531;0.38263800000000003;78.6425;25.9438;232.601;31.0;1.0;0.0\"],[\"2020-03-09 10:24:38;0.026602299999999995;0.040372000000000005;0.851886;0.38263800000000003;78.8323;25.9354;228.921;31.0;1.0;0.0\"],[\"2020-03-09 10:24:39;0.026516200000000004;0.040674;0.926467;0.38263800000000003;78.7228;25.9444;238.046;31.0;1.0;0.0\"],[\"2020-03-09 10:24:40;0.0267014;0.040488300000000005;0.829764;0.054711;78.7273;25.9476;232.93200000000002;31.9974;1.0;0.0\"],[\"2020-03-09 10:24:41;0.026386200000000002;0.0404657;0.903177;-0.27321599999999996;78.6504;25.9432;233.482;31.0027;1.0;0.0\"],[\"2020-03-09 10:24:42;0.0268285;0.0411176;0.5697770000000001;0.38263800000000003;78.8384;25.9426;236.488;31.0;1.0;0.0\"],[\"2020-03-09 10:24:43;0.026644599999999997;0.0408333;0.6703279999999999;0.054711;78.8055;25.95;230.55599999999998;31.0;1.0;0.0\"],[\"2020-03-09 10:24:44;0.0269392;0.0399202;0.581641;0.054711;78.7536;25.9501;231.06799999999998;31.0;1.0;0.0\"],[\"2020-03-09 10:24:45;0.02692;0.0403221;0.521019;0.38263800000000003;78.6194;25.9472;214.283;31.9974;1.0;0.0\"],[\"2020-03-09 10:24:46;0.026620099999999997;0.0403171;0.672283;0.054711;78.6743;25.9493;237.19400000000002;31.0027;1.0;0.0\"],[\"2020-03-09 10:24:47;0.0264486;0.0397698;0.574896;0.054711;78.6499;25.9446;219.05700000000002;31.9974;1.0;0.0\"],[\"2020-03-09 10:24:48;0.026706599999999997;0.04077619999999999;0.5930489999999999;0.38263800000000003;78.6196;25.9503;223.185;31.0027;1.0;0.0\"],[\"2020-03-09 10:24:49;0.0266017;0.0404406;0.548802;0.054711;78.7987;25.9449;212.437;31.0;1.0;0.0\"],[\"2020-03-09 10:24:50;0.0266877;0.0408636;0.732015;0.38263800000000003;78.5626;25.9444;254.112;31.0;1.0;0.0\"],[\"2020-03-09 10:24:51;0.0267404;0.0410591;0.62041;0.054711;78.7155;25.941;229.449;31.9974;1.0;0.0\"],[\"2020-03-09 10:24:52;0.026621699999999998;0.039511199999999996;1.1358700000000002;-0.601143;78.5536;25.9472;230.75799999999998;31.0027;1.0;0.0\"],[\"2020-03-09 10:24:53;0.026765399999999998;0.0392775;0.972517;-0.27321599999999996;78.5489;25.9484;226.94799999999998;31.9974;1.0;0.0\"],[\"2020-03-09 10:24:54;0.026852499999999998;0.040316199999999996;0.637606;-0.27321599999999996;78.5645;25.9342;231.688;32.0;1.0;0.0\"],[\"2020-03-09 10:24:55;0.026536599999999997;0.039399;1.0568799999999998;0.38263800000000003;78.615;25.9379;206.127;31.0027;1.0;0.0\"],[\"2020-03-09 10:24:57;0.026573400000000004;0.039491000000000005;0.6582100000000001;0.054711;78.6527;25.9373;233.94799999999998;31.9974;1.0;0.0\"],[\"2020-03-09 10:24:58;0.026191900000000004;0.0391603;1.04415;0.054711;78.5337;25.9392;211.812;31.0027;1.0;0.0\"],[\"2020-03-09 10:24:59;0.0266312;0.039631099999999995;0.696236;-0.27321599999999996;78.5693;25.9346;231.27;31.9974;1.0;0.0\"],[\"2020-03-09 10:25:00;0.0263731;0.0395046;1.03829;-0.27321599999999996;78.5313;25.9408;234.997;32.0;1.0;0.0\"],[\"2020-03-09 10:25:01;0.026159300000000003;0.0393436;0.809813;0.054711;78.5767;25.9465;224.803;31.0027;1.0;0.0\"],[\"2020-03-09 10:25:02;0.026702999999999998;0.0395241;1.11758;0.38263800000000003;78.4977;25.9435;236.55200000000002;31.9974;1.0;0.0\"],[\"2020-03-09 10:25:03;0.026255700000000003;0.0390413;0.764247;0.054711;78.2801;25.9428;232.449;32.0;1.0;0.0\"],[\"2020-03-09 10:25:04;0.026640800000000003;0.03886219999999999;1.14246;0.054711;78.5143;25.9359;225.55700000000002;31.0027;1.0;0.0\"],[\"2020-03-09 10:25:05;0.025985700000000004;0.038588800000000006;1.21199;0.054711;78.4834;25.9453;231.484;31.9974;1.0;0.0\"],[\"2020-03-09 10:25:06;0.026348200000000002;0.039049900000000005;1.13937;0.38263800000000003;78.4864;25.9508;206.321;32.0;1.0;0.0\"],[\"2020-03-09 10:25:07;0.026439599999999997;0.038775800000000006;0.720847;-0.601143;78.4164;25.945;233.24099999999999;31.0027;1.0;0.0\"],[\"2020-03-09 10:25:08;0.026460700000000004;0.0389024;0.758518;0.054711;78.3475;25.947;205.475;31.9974;1.0;0.0\"],[\"2020-03-09 10:25:09;0.0261137;0.0394781;1.11873;-0.27321599999999996;78.4336;25.9459;229.863;32.0;1.0;0.0\"],[\"2020-03-09 10:25:10;0.0262796;0.03986819999999999;1.3957;0.054711;78.4548;25.9554;249.946;31.0027;1.0;0.0\"],[\"2020-03-09 10:25:11;0.0261132;0.0395538;1.23465;0.054711;78.2805;25.9546;232.05599999999998;31.9974;1.0;0.0\"],[\"2020-03-09 10:25:12;0.026017400000000003;0.0403193;1.3411;-0.27321599999999996;78.2557;25.9472;224.43599999999998;31.0027;1.0;0.0\"],[\"2020-03-09 10:25:13;0.0268399;0.0400673;1.21449;-0.27321599999999996;78.2849;25.9439;235.479;31.9974;1.0;0.0\"],[\"2020-03-09 10:25:14;0.0263629;0.0401414;1.1534799999999998;0.38263800000000003;78.1122;25.9493;226.50799999999998;32.0;1.0;0.0\"],[\"2020-03-09 10:25:15;0.0262758;0.039786400000000006;1.22505;-0.27321599999999996;78.2087;25.9527;232.23;31.9974;1.0;0.0\"],[\"2020-03-09 10:25:16;0.0263468;0.03987430000000001;1.3196;0.38263800000000003;78.2675;25.9441;229.592;32.0;1.0;0.0\"],[\"2020-03-09 10:25:17;0.0263894;0.03993119999999999;1.52744;0.38263800000000003;78.042;25.9473;245.361;31.0027;1.0;0.0\"],[\"2020-03-09 10:25:19;0.0264875;0.0398038;1.29877;0.054711;78.0487;25.953000000000003;237.338;31.9974;1.0;0.0\"],[\"2020-03-09 10:25:20;0.026253;0.0401204;1.28826;0.38263800000000003;78.1494;25.9485;237.231;32.0;1.0;0.0\"],[\"2020-03-09 10:25:21;0.026370799999999996;0.0401043;1.1062;0.054711;77.911;25.9502;241.315;31.0027;1.0;0.0\"],[\"2020-03-09 10:25:22;0.0263466;0.0396027;1.35259;0.054711;78.1619;25.9459;230.15;31.9974;1.0;0.0\"],[\"2020-03-09 10:25:23;0.0262221;0.0404459;1.2329700000000001;0.38263800000000003;78.0551;25.9469;235.273;32.0;1.0;0.0\"],[\"2020-03-09 10:25:24;0.0267657;0.0405739;1.20802;0.054711;77.9389;25.954;237.095;32.0;1.0;0.0\"],[\"2020-03-09 10:25:25;0.026481099999999997;0.0400482;1.40335;0.054711;78.0211;25.9465;240.377;31.0027;1.0;0.0\"],[\"2020-03-09 10:25:26;0.0267014;0.039559500000000004;0.9581620000000001;0.054711;77.9508;25.9538;204.91299999999998;31.9974;1.0;0.0\"],[\"2020-03-09 10:25:27;0.0264282;0.0396001;1.66261;-0.27321599999999996;77.7553;25.9509;248.54;32.0;1.0;0.0\"],[\"2020-03-09 10:25:28;0.026708099999999995;0.0402763;1.35365;0.38263800000000003;77.7468;25.9561;236.676;32.0;1.0;0.0\"],[\"2020-03-09 10:25:29;0.026480200000000002;0.039496300000000005;1.21343;0.38263800000000003;77.8163;25.9567;229.53099999999998;31.0027;1.0;0.0\"],[\"2020-03-09 10:25:30;0.0265426;0.0398862;1.51104;0.054711;77.4323;25.9567;248.94799999999998;31.9974;1.0;0.0\"],[\"2020-03-09 10:25:31;0.02605;0.0393538;1.29336;0.054711;77.7742;25.9548;224.50099999999998;32.0;1.0;0.0\"],[\"2020-03-09 10:25:32;0.0268105;0.040331;1.34596;0.054711;77.3658;25.9499;232.52900000000002;32.0;1.0;0.0\"],[\"2020-03-09 10:25:33;0.026465600000000002;0.0400139;1.28965;-0.27321599999999996;77.6439;25.9553;235.737;32.0;1.0;1.0\"],[\"2020-03-09 10:25:34;0.0269173;0.040995800000000006;1.23796;0.054711;77.5942;25.9467;223.392;31.0027;1.0;0.0\"],[\"2020-03-09 10:25:35;0.026786200000000003;0.0406962;0.91945;0.054711;77.5291;25.9448;229.044;31.9974;1.0;0.0\"],[\"2020-03-09 10:25:36;0.0267457;0.0396307;1.20719;0.054711;77.2088;25.9502;226.418;32.0;1.0;0.0\"],[\"2020-03-09 10:25:37;0.026593799999999997;0.040401599999999996;1.03977;0.054711;77.5475;25.9527;252.15400000000002;32.0;1.0;0.0\"],[\"2020-03-09 10:25:38;0.026889499999999997;0.0402145;0.778579;0.38263800000000003;77.1024;25.95;226.975;32.9948;1.0;0.0\"],[\"2020-03-09 10:25:39;0.026827999999999998;0.0397576;0.918407;0.054711;77.0799;25.9558;213.676;31.0055;1.0;0.0\"],[\"2020-03-09 10:25:40;0.0268846;0.03973019999999999;1.1974799999999999;-0.27321599999999996;76.8679;25.9433;232.672;31.9974;1.0;0.0\"],[\"2020-03-09 10:25:42;0.0267781;0.040306;1.27124;0.054711;76.9038;25.9473;230.09599999999998;32.0;1.0;0.0\"],[\"2020-03-09 10:25:43;0.0270389;0.040812400000000006;0.498367;-0.27321599999999996;76.9524;25.9495;212.97799999999998;32.0;1.0;0.0\"],[\"2020-03-09 10:25:44;0.026585900000000003;0.040436099999999996;1.28303;0.054711;76.839;25.9476;239.63400000000001;32.0;1.0;0.0\"],[\"2020-03-09 10:25:45;0.026727800000000003;0.0410839;1.25142;0.054711;76.8043;25.9464;229.715;32.0;1.0;0.0\"],[\"2020-03-09 10:25:46;0.0265567;0.039684199999999996;1.00795;0.38263800000000003;76.6029;25.9468;229.917;32.0;1.0;0.0\"],[\"2020-03-09 10:25:47;0.0263548;0.0412774;1.36676;0.38263800000000003;76.6495;25.9435;237.695;32.0;1.0;0.0\"],[\"2020-03-09 10:25:48;0.0272009;0.0407149;0.964593;0.054711;76.6143;25.9362;235.61;31.0027;1.0;0.0\"],[\"2020-03-09 10:25:49;0.0267301;0.0405426;0.991647;0.054711;76.5101;25.9418;243.87599999999998;31.9974;1.0;0.0\"],[\"2020-03-09 10:25:50;0.0269005;0.040554599999999996;0.8857079999999999;0.38263800000000003;76.8093;25.9335;230.796;32.0;1.0;0.0\"],[\"2020-03-09 10:25:51;0.0263238;0.039646100000000004;0.778066;0.054711;76.383;25.9355;216.48;32.0;1.0;0.0\"],[\"2020-03-09 10:25:52;0.0268522;0.041172;0.612907;0.38263800000000003;76.3778;25.9431;237.104;31.0027;1.0;0.0\"],[\"2020-03-09 10:25:53;0.0266897;0.039961699999999996;0.8571690000000001;0.054711;76.3676;25.9407;227.05900000000003;31.9974;1.0;0.0\"],[\"2020-03-09 10:25:54;0.0263996;0.040744;0.780683;0.38263800000000003;76.1607;25.9404;217.138;32.0;1.0;0.0\"],[\"2020-03-09 10:25:55;0.0261404;0.0398789;1.23678;0.054711;76.2304;25.9376;242.051;32.0;1.0;0.0\"],[\"2020-03-09 10:25:56;0.0267085;0.0409082;0.47456800000000005;-0.27321599999999996;76.17;25.9367;210.565;32.0;1.0;0.0\"],[\"2020-03-09 10:25:57;0.0265974;0.0404581;0.910809;0.054711;76.0493;25.9394;239.805;32.0;1.0;0.0\"],[\"2020-03-09 10:25:58;0.0265744;0.0413313;1.0267899999999999;-0.27321599999999996;76.0116;25.939;248.919;32.0;1.0;0.0\"],[\"2020-03-09 10:25:59;0.0263505;0.039715600000000004;0.9255329999999999;0.38263800000000003;76.0758;25.9505;229.84799999999998;32.0;1.0;0.0\"],[\"2020-03-09 10:26:00;0.026173400000000003;0.0410385;0.596499;0.054711;75.9246;25.936999999999998;226.74400000000003;32.0;1.0;0.0\"],[\"2020-03-09 10:26:01;0.026940699999999998;0.040438800000000004;0.566128;0.054711;75.9389;25.945999999999998;215.578;32.0;1.0;0.0\"],[\"2020-03-09 10:26:02;0.026269900000000002;0.040421;0.599063;-0.27321599999999996;75.8278;25.9551;228.792;32.0;1.0;0.0\"],[\"2020-03-09 10:26:03;0.0261281;0.0402039;0.7682399999999999;0.054711;75.7508;25.9528;216.771;32.0027;1.0;0.0\"],[\"2020-03-09 10:26:04;0.026843799999999998;0.0406545;0.505534;0.054711;75.8673;25.9535;234.02599999999998;32.0;1.0;0.0\"],[\"2020-03-09 10:26:06;0.026566000000000003;0.0400415;0.805639;-0.27321599999999996;75.7321;25.9622;238.34;32.0;1.0;0.0\"],[\"2020-03-09 10:26:07;0.0264923;0.039994800000000004;0.542402;0.054711;75.6568;25.9685;217.5;32.0;1.0;0.0\"],[\"2020-03-09 10:26:08;0.0265075;0.0403869;0.8546360000000001;0.054711;75.6494;25.9722;235.372;32.0;1.0;0.0\"],[\"2020-03-09 10:26:09;0.026732299999999997;0.0403315;0.965134;0.054711;75.4225;25.9673;244.27900000000002;32.0;1.0;0.0\"],[\"2020-03-09 10:26:10;0.026422300000000003;0.0405794;1.1994;0.38263800000000003;75.5604;25.9852;237.25599999999997;32.0;1.0;0.0\"],[\"2020-03-09 10:26:11;0.0266536;0.0406163;1.0454299999999999;0.054711;75.3919;25.9814;229.403;32.0;1.0;0.0\"],[\"2020-03-09 10:26:12;0.026212400000000004;0.040197000000000004;0.600774;0.38263800000000003;75.4868;26.0042;225.43900000000002;32.9974;1.0;0.0\"],[\"2020-03-09 10:26:13;0.026707400000000003;0.0408514;0.56504;0.054711;75.2747;26.0041;227.456;32.0027;1.0;0.0\"],[\"2020-03-09 10:26:14;0.026751499999999998;0.0410541;0.944204;0.054711;75.28;26.0176;230.896;32.0;1.0;0.0\"],[\"2020-03-09 10:26:15;0.0264252;0.0403489;0.709079;-0.27321599999999996;75.20100000000001;26.0207;236.547;32.0;1.0;0.0\"],[\"2020-03-09 10:26:16;0.0268798;0.039824599999999995;0.640004;0.054711;75.2155;26.0307;232.175;32.0;1.0;0.0\"],[\"2020-03-09 10:26:17;0.026455400000000004;0.0407659;1.09899;0.054711;75.1937;26.0192;233.13299999999998;32.0;1.0;0.0\"],[\"2020-03-09 10:26:18;0.026968400000000003;0.0402698;0.65432;0.054711;75.2105;26.0321;231.37;32.9974;1.0;0.0\"],[\"2020-03-09 10:26:19;0.0261497;0.039505599999999995;0.984295;0.38263800000000003;74.9889;26.0485;230.893;32.0027;1.0;0.0\"],[\"2020-03-09 10:26:20;0.0265057;0.0400335;1.01349;0.054711;74.96600000000001;26.0414;232.43400000000003;32.0;1.0;0.0\"],[\"2020-03-09 10:26:21;0.0266333;0.0396743;1.19054;-0.27321599999999996;75.0821;26.0504;240.00099999999998;32.0;1.0;0.0\"],[\"2020-03-09 10:26:22;0.0267272;0.0395531;0.7750199999999999;0.710565;74.8632;26.0615;233.88099999999997;32.0;1.0;0.0\"],[\"2020-03-09 10:26:23;0.026504000000000003;0.04044;0.9221739999999999;0.38263800000000003;74.8249;26.0589;224.609;32.9948;1.0;0.0\"],[\"2020-03-09 10:26:24;0.026262900000000002;0.039455699999999996;1.1247;0.38263800000000003;74.7453;26.0642;215.391;31.0055;1.0;0.0\"],[\"2020-03-09 10:26:26;0.026575900000000003;0.040329199999999996;0.6837810000000001;0.054711;74.7863;26.0735;241.30900000000003;32.9948;1.0;0.0\"],[\"2020-03-09 10:26:27;0.02611;0.0391625;0.76879;0.710565;74.8243;26.0791;231.942;32.0027;1.0;0.0\"],[\"2020-03-09 10:26:28;0.025957599999999997;0.040076099999999996;0.946534;-0.27321599999999996;74.6102;26.0751;223.678;32.0;1.0;0.0\"],[\"2020-03-09 10:26:29;0.0269665;0.0400146;0.994445;0.054711;74.5837;26.0767;226.226;32.0;1.0;0.0\"],[\"2020-03-09 10:26:30;0.026318400000000002;0.0388457;0.6756850000000001;0.054711;74.653;26.0738;234.953;32.0;1.0;0.0\"],[\"2020-03-09 10:26:31;0.0269534;0.0391686;1.0117;0.38263800000000003;74.7402;26.0629;230.261;32.0;1.0;0.0\"],[\"2020-03-09 10:26:32;0.0261048;0.0388416;0.953262;0.054711;74.5198;26.0766;222.83900000000003;32.0;1.0;0.0\"],[\"2020-03-09 10:26:33;0.026832599999999998;0.039094199999999996;1.07664;0.054711;74.5989;26.0647;208.294;32.0;1.0;0.0\"],[\"2020-03-09 10:26:34;0.026713599999999997;0.0387277;1.12071;-0.27321599999999996;74.4432;26.0568;231.55900000000003;32.0;1.0;0.0\"],[\"2020-03-09 10:26:35;0.026212;0.0386329;0.602541;0.054711;74.5165;26.0561;206.796;32.0;1.0;0.0\"],[\"2020-03-09 10:26:36;0.0264087;0.0390181;0.665429;0.054711;74.5444;26.0561;225.834;32.0;1.0;0.0\"],[\"2020-03-09 10:26:37;0.0264842;0.0389539;1.29291;0.054711;74.4567;26.046;224.93900000000002;32.0;1.0;0.0\"],[\"2020-03-09 10:26:38;0.026238400000000002;0.0390296;1.10152;0.38263800000000003;74.4809;26.0421;230.122;32.0;1.0;0.0\"],[\"2020-03-09 10:26:39;0.026568;0.03892059999999999;1.47304;0.38263800000000003;74.3927;26.0392;245.359;32.9976;1.0;0.0\"],[\"2020-03-09 10:26:40;0.026113;0.0392903;0.756037;0.054711;74.3304;26.0259;225.50900000000001;32.0025;1.0;0.0\"],[\"2020-03-09 10:26:41;0.026719599999999996;0.039558800000000005;1.31798;0.054711;74.5111;26.022;252.928;32.0;1.0;0.0\"],[\"2020-03-09 10:26:42;0.0263032;0.0392495;1.29331;0.38263800000000003;74.3006;26.0241;228.75799999999998;32.0;1.0;0.0\"],[\"2020-03-09 10:26:43;0.0264115;0.0392992;0.7185239999999999;0.054711;74.237;26.0195;230.59799999999998;32.0;1.0;0.0\"],[\"2020-03-09 10:26:44;0.026673000000000002;0.0386865;1.1591200000000002;0.38263800000000003;74.4097;26.016;231.13400000000001;32.0;1.0;0.0\"],[\"2020-03-09 10:26:45;0.026685300000000002;0.04027619999999999;1.34122;-0.27321599999999996;74.4296;26.0067;236.632;32.0;1.0;0.0\"],[\"2020-03-09 10:26:46;0.026220099999999996;0.039464099999999995;0.760225;0.054711;74.3254;26.0032;229.558;32.0;1.0;0.0\"],[\"2020-03-09 10:26:47;0.026370099999999997;0.039650300000000006;1.12141;0.054711;74.3944;25.9926;222.08;32.0;1.0;0.0\"],[\"2020-03-09 10:26:49;0.026447700000000005;0.039099;1.26932;0.054711;74.551;25.9935;233.33700000000002;32.0;1.0;0.0\"],[\"2020-03-09 10:26:50;0.0263534;0.039509699999999995;0.51723;-0.27321599999999996;74.3465;25.9809;231.72400000000002;32.0;1.0;0.0\"],[\"2020-03-09 10:26:51;0.026157999999999997;0.03937519999999999;0.92265;0.054711;74.3576;25.991;228.33700000000002;32.0;1.0;0.0\"],[\"2020-03-09 10:26:52;0.0265219;0.039972900000000006;1.2429;0.054711;74.3669;25.9674;234.72799999999998;32.0;1.0;0.0\"],[\"2020-03-09 10:26:53;0.0263503;0.0391523;1.09915;0.054711;74.4242;25.9756;230.804;32.0;1.0;0.0\"],[\"2020-03-09 10:26:54;0.026537900000000003;0.0397619;1.30661;0.054711;74.5243;25.9721;231.137;32.0;1.0;0.0\"],[\"2020-03-09 10:26:55;0.0263179;0.0390571;0.988218;0.38263800000000003;74.5428;25.9683;208.609;32.0;1.0;0.0\"],[\"2020-03-09 10:26:56;0.0262144;0.03936130000000001;1.28873;0.38263800000000003;74.3963;25.9606;226.18400000000003;31.0025;1.0;0.0\"],[\"2020-03-09 10:26:57;0.0267313;0.0398506;1.37084;0.054711;74.4616;25.9617;229.797;31.9976;1.0;0.0\"],[\"2020-03-09 10:26:58;0.026118000000000002;0.0385342;1.3230000000000002;0.38263800000000003;74.3621;25.9575;230.59599999999998;32.0;1.0;0.0\"],[\"2020-03-09 10:26:59;0.0264406;0.039202;1.1123299999999998;0.38263800000000003;74.6314;25.9459;231.30200000000002;32.0;1.0;0.0\"],[\"2020-03-09 10:27:00;0.0260263;0.0394158;1.0373299999999999;0.054711;74.2935;25.9489;238.71099999999998;32.0;1.0;0.0\"],[\"2020-03-09 10:27:01;0.026505200000000003;0.038842699999999994;1.28525;0.054711;74.6096;25.9467;235.39700000000002;31.0025;1.0;0.0\"],[\"2020-03-09 10:27:02;0.026234300000000002;0.039018300000000006;1.26569;0.054711;74.5757;25.9449;235.672;31.9976;1.0;0.0\"],[\"2020-03-09 10:27:03;0.026158799999999996;0.0388733;1.04906;0.054711;74.4578;25.9428;205.092;32.0;1.0;0.0\"],[\"2020-03-09 10:27:04;0.0264915;0.039663199999999996;1.3512600000000001;0.054711;74.4334;25.9505;229.06400000000002;32.0;1.0;0.0\"],[\"2020-03-09 10:27:05;0.0265561;0.0396566;0.9705879999999999;0.38263800000000003;74.6101;25.9402;227.435;32.0;1.0;0.0\"],[\"2020-03-09 10:27:06;0.026226999999999997;0.0394714;1.2922;0.054711;74.506;25.9335;226.12400000000002;32.0;1.0;0.0\"],[\"2020-03-09 10:27:07;0.026388599999999998;0.0399308;1.28265;0.054711;74.6553;25.9445;227.915;32.0;1.0;0.0\"],[\"2020-03-09 10:27:08;0.0259142;0.039549;1.0535;0.38263800000000003;74.8494;25.9392;232.335;31.0025;1.0;0.0\"],[\"2020-03-09 10:27:09;0.0266149;0.0402726;1.21033;-0.27321599999999996;74.6708;25.9342;232.56900000000002;32.9953;1.0;0.0\"],[\"2020-03-09 10:27:10;0.026124;0.039500400000000005;1.32308;0.054711;74.9559;25.9365;227.82299999999998;32.0025;1.0;0.0\"],[\"2020-03-09 10:27:11;0.026197500000000002;0.0396277;1.01797;-0.27321599999999996;74.6749;25.9311;238.292;31.0025;1.0;0.0\"],[\"2020-03-09 10:27:12;0.026498700000000004;0.040522300000000004;1.33679;-0.27321599999999996;74.64699999999999;25.9366;230.709;32.0;1.0;0.0\"],[\"2020-03-09 10:27:13;0.026588499999999998;0.040069;0.9662040000000001;0.054711;74.6264;25.9271;204.141;32.0;1.0;0.0\"],[\"2020-03-09 10:27:14;0.026229400000000003;0.0401533;0.8842209999999999;0.054711;74.6476;25.9353;225.548;32.0;1.0;0.0\"],[\"2020-03-09 10:27:16;0.026668200000000003;0.040994300000000004;0.850485;-0.27321599999999996;74.816;25.9303;222.079;32.0;1.0;0.0\"],[\"2020-03-09 10:27:17;0.0262318;0.04045119999999999;0.9889379999999999;0.38263800000000003;74.9781;25.9293;231.173;31.0025;1.0;0.0\"],[\"2020-03-09 10:27:18;0.026894400000000002;0.041288;0.8982760000000001;0.054711;74.868;25.932;227.329;31.9976;1.0;0.0\"],[\"2020-03-09 10:27:19;0.026172300000000003;0.0402967;0.8524510000000001;0.054711;74.9726;25.9324;217.63;32.0;1.0;0.0\"],[\"2020-03-09 10:27:20;0.027254400000000005;0.0417065;0.854635;0.38263800000000003;74.9599;25.9239;234.08;32.0;1.0;0.0\"],[\"2020-03-09 10:27:21;0.026795599999999996;0.0409171;231.882;0.38263800000000003;74.82300000000001;25.9239;1.19858;32.0;1.0;0.0\"],[\"2020-03-09 10:27:22;0.0269154;0.0418167;1.2403899999999999;0.054711;74.8332;25.9284;227.956;32.0;1.0;0.0\"],[\"2020-03-09 10:27:23;0.026687;0.0403395;0.876084;0.054711;74.9985;25.9215;245.079;32.0;1.0;0.0\"],[\"2020-03-09 10:27:24;0.0269151;0.040916900000000006;0.805949;0.054711;75.0241;25.9209;231.08900000000003;32.0;1.0;0.0\"],[\"2020-03-09 10:27:25;0.0269135;0.0403491;0.8427690000000001;-0.27321599999999996;75.0073;25.9133;243.61599999999999;31.0025;1.0;0.0\"],[\"2020-03-09 10:27:26;0.0269777;0.04048;0.713398;0.054711;75.0122;25.9129;224.48;31.9976;1.0;0.0\"],[\"2020-03-09 10:27:27;0.0271004;0.0402495;0.762544;0.054711;75.1105;25.92;225.56799999999998;32.0;1.0;0.0\"],[\"2020-03-09 10:27:28;0.026352999999999998;0.039850199999999995;1.20823;0.054711;75.0741;25.9154;230.655;32.0;1.0;0.0\"],[\"2020-03-09 10:27:29;0.0265663;0.039125099999999996;0.764513;0.38263800000000003;75.00399999999999;25.9176;228.222;31.0025;1.0;0.0\"],[\"2020-03-09 10:27:30;0.026542400000000004;0.03967;1.03854;0.054711;75.0531;25.9129;244.97799999999998;31.9976;1.0;0.0\"],[\"2020-03-09 10:27:31;0.026374;0.0388605;0.608394;0.054711;74.9624;25.9097;230.65599999999998;32.0;1.0;0.0\"],[\"2020-03-09 10:27:33;0.0267812;0.0399422;0.707765;0.054711;75.0371;25.9119;228.628;32.0;1.0;0.0\"],[\"2020-03-09 10:27:34;0.026538599999999996;0.039707599999999996;0.8344010000000001;0.054711;75.1457;25.9119;238.077;31.0025;1.0;0.0\"],[\"2020-03-09 10:27:35;0.026583199999999998;0.040087199999999996;0.6673720000000001;0.054711;74.9368;25.9184;234.53099999999998;31.9976;1.0;0.0\"],[\"2020-03-09 10:27:36;0.026452299999999998;0.0387;0.973734;0.38263800000000003;75.1665;25.9106;228.9;32.0;1.0;0.0\"],[\"2020-03-09 10:27:37;0.026066000000000002;0.0397838;0.713316;-0.27321599999999996;75.1173;25.9127;234.83900000000003;32.0;1.0;0.0\"],[\"2020-03-09 10:27:38;0.0267055;0.0400075;1.02509;-0.27321599999999996;75.1075;25.9077;225.951;32.0;1.0;0.0\"],[\"2020-03-09 10:27:39;0.0264113;0.0390895;0.428386;0.38263800000000003;75.1109;25.9049;221.303;32.0;1.0;0.0\"],[\"2020-03-09 10:27:40;0.0266615;0.0388338;0.766795;0.054711;75.13;25.91;243.363;32.0;1.0;0.0\"],[\"2020-03-09 10:27:41;0.0260106;0.0389876;1.0418;0.054711;75.0442;25.912;222.47299999999998;32.0;1.0;0.0\"],[\"2020-03-09 10:27:42;0.0268188;0.0389738;0.720812;0.054711;74.9532;25.9109;235.65400000000002;32.0;1.0;0.0\"],[\"2020-03-09 10:27:43;0.0262955;0.038645;0.996977;0.054711;75.0828;25.9052;238.375;32.0;1.0;0.0\"],[\"2020-03-09 10:27:44;0.026224200000000003;0.038336699999999994;0.770867;0.054711;75.0371;25.9132;241.017;32.0;1.0;0.0\"],[\"2020-03-09 10:27:45;0.0263069;0.038777099999999995;0.9228850000000001;-0.27321599999999996;75.2539;25.8974;229.033;32.0;1.0;0.0\"],[\"2020-03-09 10:27:46;0.0263762;0.0394286;0.42457700000000004;-0.27321599999999996;75.0639;25.8974;217.75599999999997;32.0;1.0;0.0\"],[\"2020-03-09 10:27:47;0.0261598;0.038830300000000005;0.8647360000000001;-0.27321599999999996;74.937;25.8992;234.90400000000002;32.0;1.0;0.0\"],[\"2020-03-09 10:27:48;0.026500700000000002;0.0397153;1.1612200000000001;0.054711;75.1994;25.9052;230.863;32.0;1.0;0.0\"],[\"2020-03-09 10:27:49;0.026049799999999998;0.0387928;0.813334;0.710565;75.1129;25.9028;240.649;32.0;1.0;0.0\"],[\"2020-03-09 10:27:50;0.026548400000000003;0.039473;0.6107090000000001;0.054711;75.1015;25.8998;231.30900000000003;32.0;1.0;0.0\"],[\"2020-03-09 10:27:51;0.0264654;0.040307499999999996;0.7136239999999999;-0.27321599999999996;75.24600000000001;25.9093;246.605;31.0025;1.0;0.0\"],[\"2020-03-09 10:27:52;0.0263971;0.0393659;0.535801;0.054711;75.3079;25.9102;226.77700000000002;31.9976;1.0;0.0\"],[\"2020-03-09 10:27:53;0.026853;0.039401099999999994;0.42745600000000006;0.054711;75.21300000000001;25.9186;211.817;32.0;1.0;0.0\"],[\"2020-03-09 10:27:54;0.026690199999999997;0.0395103;235.511;0.054711;75.1995;25.9085;1.1619700000000002;32.0;1.0;0.0\"],[\"2020-03-09 10:27:55;0.0264621;0.0395444;0.545944;0.054711;75.1767;25.9131;217.287;32.0;1.0;0.0\"],[\"2020-03-09 10:27:56;0.0263791;0.039806699999999993;0.8569049999999999;0.054711;75.1672;25.9078;228.426;32.0;1.0;0.0\"],[\"2020-03-09 10:27:58;0.026470999999999998;0.0400496;0.8738450000000001;0.054711;75.2442;25.926;241.824;32.0;1.0;0.0\"],[\"2020-03-09 10:27:59;0.0265664;0.0404152;0.8628290000000001;0.054711;75.2545;25.928;213.28900000000002;32.0;1.0;0.0\"],[\"2020-03-09 10:28:00;0.0264739;0.03988080000000001;1.24315;0.054711;75.2836;25.9237;231.15099999999998;32.0;1.0;0.0\"],[\"2020-03-09 10:28:01;0.0269853;0.040907;0.8506870000000001;0.38263800000000003;75.1785;25.9238;204.766;32.0;1.0;0.0\"],[\"2020-03-09 10:28:02;0.026319299999999997;0.040213599999999995;0.653104;0.054711;75.305;25.9127;222.908;32.0;1.0;0.0\"],[\"2020-03-09 10:28:03;0.0267439;0.0412468;0.7079850000000001;0.054711;75.2685;25.9177;238.628;32.0;1.0;0.0\"],[\"2020-03-09 10:28:04;0.026814299999999996;0.0413566;0.9329;0.38263800000000003;75.2687;25.9222;242.78599999999997;32.0;1.0;0.0\"],[\"2020-03-09 10:28:05;0.026463499999999997;0.0405553;0.623449;0.054711;75.214;25.9201;229.07299999999998;32.0;1.0;0.0\"],[\"2020-03-09 10:28:06;0.026754200000000002;0.040566399999999996;0.6944859999999999;0.054711;75.2502;25.9196;231.636;32.0;1.0;0.0\"],[\"2020-03-09 10:28:07;0.0264642;0.0410164;0.8986120000000001;-0.27321599999999996;75.3279;25.9146;232.107;32.0;1.0;0.0\"],[\"2020-03-09 10:28:08;0.026709300000000002;0.04005209999999999;1.37278;0.054711;75.306;25.9131;243.705;32.0;1.0;0.0\"],[\"2020-03-09 10:28:09;0.026310400000000005;0.040544300000000005;1.30613;0.054711;75.2896;25.9218;230.205;32.0;1.0;0.0\"],[\"2020-03-09 10:28:10;0.026650999999999998;0.0405156;1.29425;0.054711;75.3941;25.9047;234.544;31.0025;1.0;0.0\"],[\"2020-03-09 10:28:11;0.026494900000000002;0.0407614;0.641601;0.054711;75.53399999999999;25.9113;237.297;31.9976;1.0;0.0\"],[\"2020-03-09 10:28:12;0.027005900000000003;0.0410696;1.01773;0.054711;75.5246;25.906;230.445;32.0;1.0;0.0\"],[\"2020-03-09 10:28:13;0.0265341;0.0406785;1.0351299999999999;0.054711;75.46;25.9063;241.894;32.0;1.0;0.0\"],[\"2020-03-09 10:28:14;0.027162099999999998;0.040717699999999996;0.626249;0.054711;75.5415;25.9002;227.905;32.0;1.0;0.0\"],[\"2020-03-09 10:28:15;0.0264323;0.039911699999999994;0.542783;0.054711;75.38600000000001;25.9021;214.988;32.0;1.0;0.0\"],[\"2020-03-09 10:28:16;0.0270757;0.0408601;1.42296;0.054711;75.5117;25.9031;234.442;32.0;1.0;0.0\"],[\"2020-03-09 10:28:17;0.0267346;0.0408776;1.1193600000000001;-0.27321599999999996;75.5832;25.9117;242.298;31.0025;1.0;0.0\"],[\"2020-03-09 10:28:18;0.026624900000000003;0.0399616;0.9732069999999999;0.38263800000000003;75.5068;25.9083;233.354;31.9976;1.0;0.0\"],[\"2020-03-09 10:28:19;0.026786;0.040620300000000005;1.02387;0.38263800000000003;75.54;25.8957;235.72099999999998;31.0025;1.0;0.0\"],[\"2020-03-09 10:28:20;0.026841000000000004;0.0391383;0.977332;0.054711;75.5433;25.8839;224.94799999999998;31.9976;1.0;0.0\"],[\"2020-03-09 10:28:21;0.0264707;0.039211800000000005;1.02126;0.054711;75.5764;25.9019;230.275;32.0;1.0;0.0\"],[\"2020-03-09 10:28:23;0.0266262;0.0394414;1.10968;0.054711;75.5748;25.8885;228.55200000000002;31.0025;1.0;0.0\"],[\"2020-03-09 10:28:24;0.026185700000000003;0.0398673;1.0291;0.054711;75.6;25.9002;206.791;31.9976;1.0;0.0\"],[\"2020-03-09 10:28:25;0.026964299999999997;0.0394079;1.0129299999999999;0.054711;75.5419;25.9002;223.80599999999998;32.0;1.0;0.0\"],[\"2020-03-09 10:28:26;0.0261276;0.0389736;1.20581;-0.27321599999999996;75.571;25.8988;252.13099999999997;31.0022;1.0;0.0\"],[\"2020-03-09 10:28:27;0.026753700000000002;0.0397195;1.1008799999999999;0.38263800000000003;75.5577;25.8924;230.253;31.9978;1.0;0.0\"],[\"2020-03-09 10:28:28;0.0260274;0.039098900000000006;1.0781;0.38263800000000003;75.6262;25.8905;215.787;32.0;1.0;0.0\"],[\"2020-03-09 10:28:29;0.026876099999999997;0.039987699999999994;1.09869;0.054711;75.7734;25.901999999999997;224.78900000000002;31.0022;1.0;0.0\"],[\"2020-03-09 10:28:30;0.0264128;0.0395214;1.32731;0.38263800000000003;75.5249;25.9002;230.842;31.9978;1.0;0.0\"],[\"2020-03-09 10:28:31;0.0264507;0.0386662;1.20584;0.710565;75.6902;25.8946;239.25799999999998;31.0022;1.0;0.0\"],[\"2020-03-09 10:28:32;0.0267002;0.0390968;1.14086;-0.27321599999999996;75.6384;25.8887;233.18;31.9978;1.0;0.0\"],[\"2020-03-09 10:28:33;0.026598400000000005;0.0396888;1.38747;-0.27321599999999996;75.6303;25.8963;241.58599999999998;32.0;1.0;0.0\"],[\"2020-03-09 10:28:34;0.0264961;0.0389711;1.3878;0.054711;75.5197;25.8943;229.92;32.0;1.0;0.0\"],[\"2020-03-09 10:28:35;0.026445099999999996;0.0397374;1.13646;0.054711;75.6157;25.8889;211.49599999999998;31.0022;1.0;0.0\"],[\"2020-03-09 10:28:36;0.026685700000000003;0.0398872;1.09056;0.054711;75.7376;25.8842;213.17700000000002;31.9978;1.0;0.0\"],[\"2020-03-09 10:28:37;0.0263236;0.039582400000000004;1.27915;0.054711;75.6771;25.8842;241.043;32.0;1.0;0.0\"],[\"2020-03-09 10:28:38;0.026538299999999997;0.040216699999999994;1.2730299999999999;0.054711;75.655;25.89;231.477;31.0022;1.0;0.0\"],[\"2020-03-09 10:28:39;0.0263599;0.0399098;1.30513;-0.27321599999999996;75.7265;25.8855;250.248;31.9978;1.0;0.0\"],[\"2020-03-09 10:28:40;0.0268722;0.0407709;1.3645;0.054711;75.7624;25.8844;224.365;32.0;1.0;0.0\"],[\"2020-03-09 10:28:41;0.027092500000000002;0.0416454;1.23084;0.054711;75.7687;25.8882;221.637;32.0;1.0;0.0\"],[\"2020-03-09 10:28:42;0.026837299999999998;0.0403904;1.0985200000000002;0.054711;75.7336;25.8921;213.21599999999998;31.0022;1.0;0.0\"],[\"2020-03-09 10:28:44;0.0268775;0.0411155;0.907429;-0.27321599999999996;75.6862;25.89;226.162;31.9978;1.0;0.0\"],[\"2020-03-09 10:28:45;0.0268776;0.040875999999999996;1.24709;0.38263800000000003;75.672;25.8788;229.343;32.0;1.0;0.0\"],[\"2020-03-09 10:28:46;0.0272468;0.0409273;1.2536399999999999;0.054711;75.6775;25.8916;245.22;31.0022;1.0;0.0\"],[\"2020-03-09 10:28:47;0.0265744;0.040151400000000004;1.35258;0.054711;75.7359;25.8882;228.78099999999998;31.9978;1.0;0.0\"],[\"2020-03-09 10:28:48;0.0269857;0.0395767;0.742293;0.054711;75.6003;25.8807;222.85299999999998;32.0;1.0;0.0\"],[\"2020-03-09 10:28:49;0.0268545;0.04018119999999999;1.26217;0.054711;75.8625;25.8805;252.39;32.0;1.0;0.0\"],[\"2020-03-09 10:28:50;0.0269738;0.0400763;1.38204;0.054711;75.5887;25.8846;238.525;31.0022;1.0;0.0\"],[\"2020-03-09 10:28:51;0.026939799999999996;0.0399365;1.35861;0.054711;75.7859;25.8737;232.05200000000002;31.9978;1.0;0.0\"],[\"2020-03-09 10:28:52;0.0266108;0.039906699999999996;1.1649100000000001;0.054711;75.3825;25.8832;208.135;32.0;1.0;0.0\"],[\"2020-03-09 10:28:53;0.026975400000000004;0.040743800000000004;1.2864799999999998;0.054711;75.3253;25.8733;238.107;32.0;1.0;0.0\"],[\"2020-03-09 10:28:54;0.026499599999999998;0.040057999999999996;1.09915;-0.27321599999999996;75.6618;25.8711;237.523;32.0;1.0;0.0\"],[\"2020-03-09 10:28:55;0.0269498;0.041111199999999994;1.34502;-0.27321599999999996;75.8161;25.8695;252.274;31.0022;1.0;0.0\"],[\"2020-03-09 10:28:56;0.026583;0.039642500000000004;1.17644;0.054711;75.4122;25.875999999999998;212.303;31.9978;1.0;0.0\"],[\"2020-03-09 10:28:57;0.0268844;0.04033;1.15804;-0.27321599999999996;75.4888;25.8681;231.736;32.0;1.0;0.0\"],[\"2020-03-09 10:28:58;0.026979200000000002;0.0398921;1.1645;0.38263800000000003;75.84;25.8632;224.361;32.0;1.0;0.0\"],[\"2020-03-09 10:28:59;0.027425599999999998;0.040349199999999995;0.9230520000000001;0.054711;75.4843;25.866;245.696;31.0022;1.0;0.0\"],[\"2020-03-09 10:29:00;0.0266687;0.040141699999999995;1.25454;-0.27321599999999996;75.4627;25.8725;238.515;31.9978;1.0;0.0\"],[\"2020-03-09 10:29:01;0.026681599999999996;0.040036800000000004;1.21729;0.38263800000000003;75.4903;25.8639;230.886;32.0;1.0;0.0\"],[\"2020-03-09 10:29:02;0.026732599999999995;0.040295300000000006;1.15657;0.38263800000000003;75.5852;25.8658;231.175;32.0;1.0;0.0\"],[\"2020-03-09 10:29:03;0.0268647;0.0404121;1.15907;0.054711;75.55199999999999;25.8644;232.545;32.0;1.0;0.0\"],[\"2020-03-09 10:29:04;0.0266986;0.040529199999999994;1.14038;0.38263800000000003;75.538;25.8486;228.31599999999997;32.0;1.0;0.0\"],[\"2020-03-09 10:29:05;0.0267623;0.0407911;1.1410200000000001;0.054711;75.6001;25.857;239.27200000000002;31.0022;1.0;0.0\"],[\"2020-03-09 10:29:07;0.0267526;0.0406717;0.835667;-0.27321599999999996;75.4329;25.8587;220.342;31.9978;1.0;0.0\"],[\"2020-03-09 10:29:08;0.026996299999999997;0.041793699999999996;1.4235799999999998;-0.27321599999999996;75.7966;25.8579;247.378;32.0;1.0;0.0\"],[\"2020-03-09 10:29:09;0.0271251;0.040253199999999996;0.477872;0.38263800000000003;75.57;25.8552;205.752;32.0;1.0;0.0\"],[\"2020-03-09 10:29:10;0.0270765;0.0411717;1.12373;0.38263800000000003;75.3834;25.8586;216.34400000000002;31.0022;1.0;0.0\"],[\"2020-03-09 10:29:11;0.027099099999999997;0.04019280000000001;0.6316649999999999;0.054711;75.6835;25.8595;235.543;31.9978;1.0;0.0\"],[\"2020-03-09 10:29:12;0.027218700000000002;0.0410459;0.579055;0.38263800000000003;75.5431;25.857;229.718;32.0;1.0;0.0\"],[\"2020-03-09 10:29:13;0.026748599999999997;0.040708600000000005;1.17382;0.38263800000000003;75.5375;25.8591;234.947;31.0022;1.0;0.0\"],[\"2020-03-09 10:29:14;0.026603199999999997;0.0402875;0.833442;0.054711;75.6004;25.8586;223.405;31.9978;1.0;0.0\"],[\"2020-03-09 10:29:15;0.0266317;0.0408392;0.550429;0.054711;75.5362;25.8578;204.02700000000002;32.0;1.0;0.0\"],[\"2020-03-09 10:29:16;0.0268606;0.0404534;0.991577;0.054711;75.6602;25.8666;241.24599999999998;31.0022;1.0;0.0\"],[\"2020-03-09 10:29:17;0.0263045;0.0405974;0.550599;0.38263800000000003;75.5546;25.8606;205.925;31.9978;1.0;0.0\"],[\"2020-03-09 10:29:18;0.0265875;0.0403926;0.570048;0.054711;75.6561;25.868000000000002;222.84400000000002;31.0022;1.0;0.0\"],[\"2020-03-09 10:29:19;0.026353300000000003;0.0405063;0.588665;0.38263800000000003;75.6041;25.8587;230.485;31.9978;1.0;0.0\"],[\"2020-03-09 10:29:20;0.026701799999999998;0.0399086;1.095;0.054711;75.6243;25.8621;236.93;31.0022;1.0;0.0\"],[\"2020-03-09 10:29:21;0.026864999999999997;0.0408909;1.0222;0.38263800000000003;75.6283;25.857;227.56400000000002;31.9978;1.0;0.0\"],[\"2020-03-09 10:29:22;0.0265225;0.039399800000000006;1.2054799999999999;0.054711;75.6598;25.8745;236.398;32.0;1.0;0.0\"],[\"2020-03-09 10:29:23;0.0264849;0.0405004;0.6206010000000001;0.054711;75.5673;25.8745;233.157;31.0022;1.0;0.0\"],[\"2020-03-09 10:29:24;0.026463;0.0398126;0.834939;0.054711;75.6769;25.8684;243.36599999999999;31.9978;1.0;0.0\"],[\"2020-03-09 10:29:25;0.0263512;0.039131599999999996;0.73878;0.054711;75.5866;25.8677;208.673;31.9978;1.0;0.0\"],[\"2020-03-09 10:29:26;0.026502699999999997;0.0395036;0.884876;0.054711;75.5523;25.853;253.201;31.0022;1.0;0.0\"],[\"2020-03-09 10:29:27;0.026753899999999997;0.0397223;0.627249;0.054711;75.6769;25.8715;232.387;31.9978;1.0;0.0\"],[\"2020-03-09 10:29:29;0.026629700000000003;0.0391288;0.420354;0.710565;75.6592;25.8629;207.882;32.0;1.0;0.0\"],[\"2020-03-09 10:29:30;0.026289599999999996;0.0392164;0.640907;0.38263800000000003;75.6242;25.8698;232.046;32.0;1.0;0.0\"],[\"2020-03-09 10:29:31;0.0264622;0.0396661;1.16903;-0.27321599999999996;75.6837;25.8715;239.294;31.0022;1.0;0.0\"],[\"2020-03-09 10:29:32;0.026162599999999998;0.0400765;0.744293;-0.27321599999999996;75.6051;25.8612;206.584;31.9978;1.0;0.0\"],[\"2020-03-09 10:29:33;0.026474400000000002;0.0393524;0.730884;0.054711;75.6674;25.8663;222.68400000000003;32.0;1.0;0.0\"],[\"2020-03-09 10:29:34;0.0266557;0.0401625;0.730107;0.054711;75.6236;25.8609;235.9;32.0;1.0;0.0\"],[\"2020-03-09 10:29:35;0.0261649;0.038942199999999996;0.863267;0.054711;75.6846;25.864;253.65200000000002;32.0;1.0;0.0\"],[\"2020-03-09 10:29:36;0.0266875;0.0400839;0.85369;0.054711;75.738;25.8658;249.75900000000001;32.0;1.0;0.0\"],[\"2020-03-09 10:29:37;0.026292700000000002;0.0403328;0.68397;0.054711;75.7067;25.8635;244.416;31.0022;1.0;0.0\"],[\"2020-03-09 10:29:38;0.026745400000000003;0.039582599999999996;1.17024;-0.27321599999999996;75.6757;25.8567;230.582;31.9978;1.0;0.0\"],[\"2020-03-09 10:29:39;0.026284300000000003;0.0393295;0.6134569999999999;0.054711;75.7295;25.859;228.977;32.0;1.0;0.0\"],[\"2020-03-09 10:29:40;0.026333;0.0398535;0.772203;0.38263800000000003;75.8301;25.8516;230.17;32.0;1.0;0.0\"],[\"2020-03-09 10:29:41;0.026551799999999997;0.04025669999999999;1.15134;0.38263800000000003;75.8214;25.8516;229.791;32.0;1.0;0.0\"],[\"2020-03-09 10:29:42;0.026697000000000002;0.040002499999999996;0.812689;0.054711;75.7082;25.8504;231.493;31.0022;1.0;0.0\"],[\"2020-03-09 10:29:43;0.0264426;0.0397684;0.847576;0.054711;75.8251;25.8606;238.49599999999998;31.9978;1.0;0.0\"],[\"2020-03-09 10:29:44;0.026815600000000002;0.040595400000000004;1.1895200000000001;0.054711;75.6775;25.8584;223.572;32.0;1.0;0.0\"],[\"2020-03-09 10:29:45;0.0267132;0.040308699999999996;0.8695;0.054711;75.7832;25.8571;204.968;31.0022;1.0;0.0\"],[\"2020-03-09 10:29:46;0.0269764;0.041136599999999995;1.2239;0.054711;75.7521;25.8636;231.418;31.9978;1.0;0.0\"],[\"2020-03-09 10:29:47;0.026645;0.041099699999999996;1.02529;0.710565;75.7629;25.8578;228.767;32.0;1.0;0.0\"],[\"2020-03-09 10:29:48;0.026581099999999996;0.0401075;1.0028;0.38263800000000003;75.7908;25.8572;248.392;31.0022;1.0;0.0\"],[\"2020-03-09 10:29:49;0.0269488;0.0410149;1.30235;-0.27321599999999996;75.7673;25.8516;234.75599999999997;31.9978;1.0;0.0\"],[\"2020-03-09 10:29:50;0.026925;0.0410025;1.19887;-0.27321599999999996;75.7954;25.8627;225.53;31.0022;1.0;0.0\"],[\"2020-03-09 10:29:51;0.0265948;0.0395734;1.3692;0.054711;75.8937;25.8582;240.975;31.9978;1.0;0.0\"],[\"2020-03-09 10:29:52;0.0266086;0.0401592;0.952651;0.054711;75.7626;25.8544;233.683;32.0;1.0;0.0\"],[\"2020-03-09 10:29:54;0.026768200000000002;0.03996330000000001;1.15083;0.054711;75.7859;25.8631;238.812;32.0;1.0;0.0\"],[\"2020-03-09 10:29:55;0.026910000000000003;0.0400604;1.0538299999999998;-0.27321599999999996;75.8556;25.8628;231.767;31.0022;1.0;0.0\"],[\"2020-03-09 10:29:56;0.026364599999999995;0.0387087;1.0496;0.054711;75.7241;25.8546;231.66099999999997;31.9978;1.0;0.0\"],[\"2020-03-09 10:29:57;0.0266678;0.0397999;1.0837299999999999;0.054711;75.7836;25.8663;231.396;32.0;1.0;0.0\"],[\"2020-03-09 10:29:58;0.026308699999999997;0.039305099999999996;1.26379;0.054711;75.782;25.8585;224.332;32.0;1.0;0.0\"],[\"2020-03-09 10:29:59;0.0266933;0.040090600000000004;1.05626;0.054711;75.8127;25.8539;207.88;32.0;1.0;0.0\"],[\"2020-03-09 10:30:00;0.0264892;0.038846;1.0351700000000001;0.38263800000000003;75.8323;25.8596;254.463;31.0022;1.0;0.0\"],[\"2020-03-09 10:30:01;0.025991900000000005;0.0394362;1.3416;0.054711;75.6261;25.8552;232.106;31.9978;1.0;0.0\"],[\"2020-03-09 10:30:02;0.026816800000000002;0.0394908;1.02735;0.38263800000000003;75.8151;25.8539;210.46;32.0;1.0;0.0\"],[\"2020-03-09 10:30:03;0.026576699999999998;0.0398478;1.31885;0.38263800000000003;75.8162;25.8562;231.19299999999998;32.0;1.0;0.0\"],[\"2020-03-09 10:30:04;0.0268567;0.0389986;1.3322;-0.27321599999999996;75.7358;25.86;235.168;32.0;1.0;0.0\"],[\"2020-03-09 10:30:05;0.0266439;0.0392863;1.1569200000000002;-0.27321599999999996;75.7684;25.8454;220.738;32.0;1.0;0.0\"],[\"2020-03-09 10:30:06;0.0267097;0.0402427;1.25981;0.054711;75.8046;25.8492;230.287;32.0;1.0;0.0\"],[\"2020-03-09 10:30:07;0.0265594;0.039568400000000004;1.43369;0.054711;75.8879;25.8492;253.195;31.0022;1.0;0.0\"],[\"2020-03-09 10:30:08;0.026889499999999997;0.0402775;1.30405;0.38263800000000003;75.7943;25.8606;236.34799999999998;31.9978;1.0;0.0\"],[\"2020-03-09 10:30:09;0.0265837;0.04044280000000001;1.15673;0.054711;75.877;25.8486;213.993;32.0;1.0;0.0\"],[\"2020-03-09 10:30:10;0.0266738;0.0409705;0.816121;0.054711;75.8352;25.8474;207.737;31.0022;1.0;0.0\"],[\"2020-03-09 10:30:11;0.0265883;0.0401499;1.178;0.054711;75.8559;25.8554;224.79;31.9978;1.0;0.0\"],[\"2020-03-09 10:30:12;0.0269152;0.0406935;1.2387700000000001;0.054711;75.8465;25.8629;220.30900000000003;32.0;1.0;0.0\"],[\"2020-03-09 10:30:13;0.026651799999999996;0.0394973;1.27653;-0.601143;75.7746;25.8492;227.601;31.0022;1.0;0.0\"],[\"2020-03-09 10:30:14;0.0263486;0.040164599999999995;1.1397700000000002;-0.27321599999999996;75.906;25.8524;233.37599999999998;31.9978;1.0;0.0\"],[\"2020-03-09 10:30:15;0.0268052;0.0389467;1.48926;0.054711;75.8338;25.8426;227.03;32.0;1.0;0.0\"],[\"2020-03-09 10:30:16;0.0267455;0.0393439;1.079;0.054711;75.7711;25.8621;212.675;32.0;1.0;0.0\"],[\"2020-03-09 10:30:17;0.026108600000000003;0.038600199999999994;1.33051;0.38263800000000003;76.1754;25.8459;241.592;31.0022;1.0;0.0\"],[\"2020-03-09 10:30:19;0.026703700000000004;0.039064800000000004;1.37012;0.054711;75.9355;25.8388;233.15599999999998;31.9978;1.0;0.0\"],[\"2020-03-09 10:30:20;0.026527600000000002;0.03892059999999999;1.22278;0.054711;75.92399999999999;25.8504;218.935;32.0;1.0;0.0\"],[\"2020-03-09 10:30:21;0.026551299999999996;0.039517699999999996;0.995007;0.710565;76.07300000000001;25.8488;208.14700000000002;32.0;1.0;0.0\"],[\"2020-03-09 10:30:22;0.026586500000000002;0.039562;1.33395;0.054711;76.137;25.8467;225.11;31.0022;1.0;0.0\"],[\"2020-03-09 10:30:23;0.026703300000000003;0.0401515;1.32759;0.054711;75.8365;25.8492;231.518;31.9978;1.0;0.0\"],[\"2020-03-09 10:30:24;0.026588900000000002;0.0400087;1.1978;0.38263800000000003;76.1957;25.8542;236.69299999999998;31.0022;1.0;0.0\"],[\"2020-03-09 10:30:25;0.0270738;0.0408476;0.941982;0.38263800000000003;76.1069;25.8532;232.227;31.9981;1.0;0.0\"],[\"2020-03-09 10:30:26;0.026555099999999998;0.040109;0.9915200000000001;0.054711;76.0501;25.8415;251.957;32.0;1.0;0.0\"],[\"2020-03-09 10:30:27;0.0271423;0.041208999999999996;0.829641;0.38263800000000003;75.9689;25.8523;237.75799999999998;31.002;1.0;0.0\"],[\"2020-03-09 10:30:28;0.027147199999999996;0.0414079;1.41629;-0.601143;76.0641;25.8517;251.321;31.9981;1.0;0.0\"],[\"2020-03-09 10:30:29;0.027052099999999996;0.0400457;0.735432;0.054711;75.9453;25.8573;226.479;32.0;1.0;0.0\"],[\"2020-03-09 10:30:30;0.0271096;0.041187;1.19632;-0.27321599999999996;76.207;25.8505;232.106;31.002;1.0;0.0\"],[\"2020-03-09 10:30:31;0.0267967;0.0410729;1.25429;0.38263800000000003;76.0656;25.85;241.167;31.9981;1.0;0.0\"],[\"2020-03-09 10:30:32;0.026960700000000004;0.0408524;0.755672;-0.27321599999999996;76.0783;25.8624;227.90900000000002;31.002;1.0;0.0\"],[\"2020-03-09 10:30:33;0.026797;0.0399099;1.0773;0.054711;76.0651;25.8531;229.048;31.9981;1.0;1.0\"],[\"2020-03-09 10:30:34;0.026704000000000002;0.0399861;1.06364;0.054711;76.0802;25.8449;219.62900000000002;31.002;1.0;0.0\"],[\"2020-03-09 10:30:35;0.026952099999999996;0.039655;0.784574;-0.27321599999999996;76.1979;25.8501;251.16;31.9981;1.0;0.0\"],[\"2020-03-09 10:30:36;0.0266911;0.0398346;0.42240600000000006;0.054711;76.1047;25.8463;228.822;32.0;1.0;0.0\"],[\"2020-03-09 10:30:37;0.026713499999999998;0.0396415;0.636908;0.054711;76.1282;25.8493;217.53900000000002;31.9981;1.0;0.0\"],[\"2020-03-09 10:30:38;0.0260954;0.039095300000000006;1.17565;0.054711;76.2337;25.8493;239.115;32.0;1.0;0.0\"],[\"2020-03-09 10:30:39;0.026495799999999996;0.040737699999999995;0.710071;0.054711;76.3241;25.8564;245.59;31.002;1.0;0.0\"],[\"2020-03-09 10:30:41;0.0263335;0.0387555;0.652425;0.054711;76.2318;25.8521;231.442;31.9981;1.0;0.0\"],[\"2020-03-09 10:30:42;0.026049;0.0397064;0.9832569999999999;0.054711;76.2843;25.8643;227.354;32.0;1.0;0.0\"],[\"2020-03-09 10:30:43;0.026750799999999998;0.039661;0.952684;-0.27321599999999996;76.2254;25.862;226.91400000000002;32.0;1.0;0.0\"],[\"2020-03-09 10:30:44;0.0263096;0.0404102;0.972591;0.38263800000000003;76.2144;25.8576;241.636;31.002;1.0;0.0\"],[\"2020-03-09 10:30:45;0.0268563;0.0389905;1.1069;0.38263800000000003;76.1419;25.8599;237.037;31.0;1.0;0.0\"],[\"2020-03-09 10:30:46;0.0259629;0.039665;1.22105;0.054711;76.17399999999999;25.8679;236.967;31.9981;1.0;0.0\"],[\"2020-03-09 10:30:47;0.026979700000000002;0.040389800000000003;0.911899;0.054711;76.1516;25.858;223.393;32.0;1.0;0.0\"],[\"2020-03-09 10:30:48;0.0264113;0.0403531;1.32569;-0.27321599999999996;76.1957;25.8603;239.24;31.002;1.0;0.0\"],[\"2020-03-09 10:30:49;0.0264618;0.0405804;1.14405;0.38263800000000003;76.2312;25.8579;217.013;31.9981;1.0;0.0\"],[\"2020-03-09 10:30:50;0.026572900000000003;0.040351099999999994;0.878916;0.38263800000000003;76.1777;25.854;232.362;32.0;1.0;0.0\"],[\"2020-03-09 10:30:51;0.026977099999999997;0.0415267;0.51971;0.054711;76.2789;25.8501;215.66400000000002;32.0;1.0;0.0\"],[\"2020-03-09 10:30:52;0.0268064;0.041195800000000005;1.00627;-0.27321599999999996;76.1856;25.8623;253.628;32.0;1.0;0.0\"],[\"2020-03-09 10:30:53;0.026942599999999997;0.041499400000000006;0.896035;0.054711;76.1432;25.8672;234.15400000000002;32.0;1.0;0.0\"],[\"2020-03-09 10:30:54;0.0267995;0.0403954;0.581246;0.054711;76.2913;25.8598;227.447;32.0;1.0;0.0\"],[\"2020-03-09 10:30:55;0.02702;0.0417904;0.676974;0.054711;76.195;25.8602;222.437;32.0;1.0;0.0\"],[\"2020-03-09 10:30:56;0.0273345;0.0411606;0.736103;-0.27321599999999996;76.1702;25.8471;224.959;32.0;1.0;0.0\"],[\"2020-03-09 10:30:57;0.026563200000000002;0.0403234;0.9620120000000001;0.054711;76.1573;25.8633;227.66299999999998;31.002;1.0;0.0\"],[\"2020-03-09 10:30:58;0.027088599999999997;0.0408367;0.621858;0.38263800000000003;76.1767;25.866999999999997;213.52;31.9981;1.0;0.0\"],[\"2020-03-09 10:30:59;0.026667700000000003;0.0401429;0.72235;0.38263800000000003;76.1875;25.8577;231.548;32.0;1.0;0.0\"],[\"2020-03-09 10:31:00;0.0265152;0.039899800000000006;1.2401200000000001;0.054711;76.2342;25.8596;246.37;32.0;1.0;0.0\"],[\"2020-03-09 10:31:01;0.026457599999999998;0.039573699999999996;0.671916;0.710565;76.1342;25.8563;219.44;32.0;1.0;0.0\"],[\"2020-03-09 10:31:03;0.026353199999999997;0.03978;0.781509;0.38263800000000003;76.1488;25.864;236.115;32.0;1.0;0.0\"],[\"2020-03-09 10:31:04;0.0263346;0.0393169;1.2705600000000001;0.38263800000000003;76.2085;25.8585;250.774;31.002;1.0;0.0\"],[\"2020-03-09 10:31:05;0.0258388;0.0394139;0.817817;0.054711;76.2441;25.8573;240.207;31.9981;1.0;0.0\"],[\"2020-03-09 10:31:06;0.0267835;0.0400603;0.420968;0.054711;76.0819;25.8606;225.34599999999998;32.0;1.0;0.0\"],[\"2020-03-09 10:31:07;0.0259785;0.0396986;0.70575;-0.27321599999999996;76.2714;25.8557;236.389;32.0;1.0;0.0\"],[\"2020-03-09 10:31:08;0.026548099999999998;0.040303;0.42247799999999996;0.054711;76.3329;25.8669;213.338;31.002;1.0;0.0\"],[\"2020-03-09 10:31:09;0.026471299999999996;0.0395385;1.19851;0.054711;76.3001;25.8632;240.55599999999998;31.9981;1.0;0.0\"],[\"2020-03-09 10:31:10;0.026231;0.0398792;0.7716810000000001;-0.27321599999999996;76.1847;25.8644;214.563;32.0;1.0;0.0\"],[\"2020-03-09 10:31:11;0.0266707;0.03991769999999999;0.794484;0.38263800000000003;76.2328;25.8623;231.41099999999997;32.0;1.0;0.0\"],[\"2020-03-09 10:31:12;0.026664799999999995;0.0408242;0.9060809999999999;0.054711;76.2649;25.8742;254.146;31.002;1.0;0.0\"],[\"2020-03-09 10:31:13;0.026735599999999998;0.0397941;0.887962;0.054711;76.0978;25.8798;231.8;31.9981;1.0;0.0\"],[\"2020-03-09 10:31:14;0.0264303;0.0405893;0.964966;0.054711;76.235;25.8731;234.206;32.0;1.0;0.0\"],[\"2020-03-09 10:31:15;0.0269093;0.0410393;0.8974280000000001;0.054711;76.2655;25.88;239.312;32.0;1.0;0.0\"],[\"2020-03-09 10:31:16;0.026898200000000004;0.0406023;1.3492899999999999;0.38263800000000003;76.2174;25.8723;233.331;32.0;1.0;0.0\"],[\"2020-03-09 10:31:17;0.026775200000000002;0.0407787;0.9172379999999999;0.710565;76.0929;25.8721;210.528;32.0;1.0;0.0\"],[\"2020-03-09 10:31:18;0.026576299999999997;0.039991000000000006;0.59812;0.710565;76.1375;25.8721;226.89;31.002;1.0;0.0\"],[\"2020-03-09 10:31:19;0.0270103;0.041480500000000003;0.648323;0.054711;76.2245;25.8795;226.39;31.9981;1.0;0.0\"],[\"2020-03-09 10:31:20;0.0269344;0.0412043;0.951044;-0.27321599999999996;76.0919;25.8709;241.345;32.0;1.0;0.0\"],[\"2020-03-09 10:31:21;0.0272215;0.041137;0.587893;0.054711;76.1769;25.8818;225.551;32.0;1.0;0.0\"],[\"2020-03-09 10:31:22;0.026637;0.0405071;0.933118;0.054711;76.1496;25.8779;225.525;32.0;1.0;0.0\"],[\"2020-03-09 10:31:23;0.0265416;0.0413124;1.05597;0.38263800000000003;76.2771;25.881;221.271;32.0;1.0;0.0\"],[\"2020-03-09 10:31:24;0.027208;0.041014499999999995;0.5587770000000001;0.054711;76.0921;25.8831;205.8;32.0;1.0;0.0\"],[\"2020-03-09 10:31:25;0.026779400000000005;0.040473;1.00006;0.054711;76.0623;25.8735;241.96400000000003;31.002;1.0;0.0\"],[\"2020-03-09 10:31:26;0.0265361;0.040681300000000004;1.03939;0.054711;76.1856;25.8791;236.274;31.9981;1.0;0.0\"],[\"2020-03-09 10:31:27;0.0268214;0.0397978;1.3832200000000001;0.054711;76.313;25.8726;242.835;32.0;1.0;0.0\"],[\"2020-03-09 10:31:29;0.026437400000000003;0.0396841;1.04701;0.054711;76.046;25.878;237.59400000000002;32.0;1.0;0.0\"],[\"2020-03-09 10:31:30;0.0266007;0.04003640000000001;1.5212700000000001;0.38263800000000003;76.2802;25.8767;241.796;32.0;1.0;0.0\"],[\"2020-03-09 10:31:31;0.0267714;0.0405111;1.37466;0.054711;76.2391;25.8767;236.155;32.0;1.0;0.0\"],[\"2020-03-09 10:31:32;0.026375;0.0393683;1.51795;-0.27321599999999996;76.2321;25.8799;253.729;32.0;1.0;0.0\"],[\"2020-03-09 10:31:33;0.0263027;0.0384667;1.0591899999999999;-0.27321599999999996;76.2299;25.8788;210.918;31.002;0.0;1.0\"],[\"2020-03-09 10:31:34;0.026934800000000002;0.03957480000000001;1.1211;0.054711;76.2592;25.873;233.66299999999998;31.9981;0.0;0.0\"],[\"2020-03-09 10:31:35;0.026180500000000002;0.0393139;1.15126;0.054711;76.2752;25.881;231.581;32.0;0.0;0.0\"],[\"2020-03-09 10:31:36;0.0269935;0.040308;1.13053;0.054711;76.0325;25.8729;218.75799999999998;32.9981;0.0;0.0\"],[\"2020-03-09 10:31:37;0.026295299999999997;0.038832099999999994;1.25167;0.054711;76.079;25.8743;223.94799999999998;32.001999999999995;0.0;0.0\"],[\"2020-03-09 10:31:38;0.026330900000000004;0.0400478;1.3916899999999999;0.38263800000000003;76.035;25.8703;224.856;32.0;0.0;0.0\"],[\"2020-03-09 10:31:39;0.0266693;0.0401466;1.16524;0.710565;76.1458;25.8735;231.00900000000001;32.0;0.0;0.0\"],[\"2020-03-09 10:31:40;0.026560000000000004;0.0402082;1.10273;0.054711;76.1668;25.8619;218.93400000000003;32.9981;0.0;0.0\"],[\"2020-03-09 10:31:41;0.026885700000000002;0.0402865;1.0892899999999999;0.38263800000000003;76.1033;25.8778;212.81099999999998;32.001999999999995;0.0;0.0\"],[\"2020-03-09 10:31:42;0.0267142;0.040829199999999996;1.32489;0.38263800000000003;76.142;25.8774;231.011;32.0;0.0;0.0\"],[\"2020-03-09 10:31:43;0.026799700000000003;0.0407534;1.2839200000000002;0.38263800000000003;76.0438;25.8685;227.886;32.9981;0.0;0.0\"],[\"2020-03-09 10:31:44;0.026551299999999996;0.0405115;0.912299;0.38263800000000003;76.0385;25.874000000000002;207.058;32.001999999999995;0.0;0.0\"],[\"2020-03-09 10:31:45;0.026657999999999998;0.0408584;1.20271;0.054711;76.1273;25.869;224.55700000000002;32.0;0.0;0.0\"],[\"2020-03-09 10:31:46;0.0267035;0.0415931;1.31368;0.054711;76.1184;25.8655;237.313;32.0;0.0;0.0\"],[\"2020-03-09 10:31:47;0.027195099999999996;0.041685599999999996;1.23645;0.38263800000000003;76.012;25.8918;235.83900000000003;32.0;0.0;0.0\"],[\"2020-03-09 10:31:48;0.026755400000000002;0.0407159;1.28206;0.054711;76.1317;25.8641;231.03900000000002;32.0;0.0;0.0\"],[\"2020-03-09 10:31:49;0.027120799999999997;0.042158999999999995;1.34107;0.054711;76.0031;25.8783;237.53;32.0;0.0;0.0\"],[\"2020-03-09 10:31:50;0.0273032;0.0429013;1.329;0.054711;75.7992;25.8831;231.58900000000003;32.9981;0.0;0.0\"],[\"2020-03-09 10:31:51;0.0267692;0.0411959;1.1948;0.054711;75.8022;25.8783;222.899;32.001999999999995;0.0;0.0\"],[\"2020-03-09 10:31:52;0.0265941;0.0413658;1.143;-0.27321599999999996;75.8336;25.8734;220.843;32.0;0.0;0.0\"],[\"2020-03-09 10:31:54;0.0269759;0.041571;1.11619;0.054711;76.0304;25.8799;212.90200000000002;32.0;0.0;0.0\"],[\"2020-03-09 10:31:55;0.026785700000000003;0.0414714;0.739135;0.054711;75.913;25.8799;214.983;32.0;0.0;0.0\"],[\"2020-03-09 10:31:56;0.027192200000000003;0.040838400000000004;1.2454100000000001;0.054711;75.8773;25.8841;225.372;32.0;0.0;0.0\"],[\"2020-03-09 10:31:57;0.0263323;0.040998900000000005;1.0615299999999999;-0.27321599999999996;75.9434;25.8795;219.419;32.0;0.0;0.0\"],[\"2020-03-09 10:31:58;0.0272348;0.041059899999999996;0.789324;0.710565;75.8166;25.8742;235.25400000000002;32.0;0.0;0.0\"],[\"2020-03-09 10:31:59;0.026344599999999996;0.0411426;0.7325109999999999;0.054711;75.6364;25.8826;232.47;32.0;0.0;0.0\"],[\"2020-03-09 10:32:00;0.0267851;0.04087709999999999;0.877499;0.38263800000000003;76.0178;25.8804;248.958;32.0;0.0;0.0\"],[\"2020-03-09 10:32:01;0.0268053;0.0410727;1.1492;0.38263800000000003;75.9825;25.8809;231.74;32.0;0.0;0.0\"],[\"2020-03-09 10:32:02;0.026905400000000003;0.0409886;1.1735;-0.27321599999999996;75.8444;25.8799;218.27900000000002;32.9981;0.0;0.0\"],[\"2020-03-09 10:32:03;0.026632799999999998;0.0411626;0.725386;0.38263800000000003;75.6028;25.8839;220.67700000000002;32.001999999999995;0.0;0.0\"],[\"2020-03-09 10:32:04;0.027164400000000002;0.0415715;1.11212;0.054711;75.7983;25.8719;219.933;32.0;0.0;0.0\"],[\"2020-03-09 10:32:05;0.026372000000000003;0.041175199999999995;1.2845600000000001;0.38263800000000003;76.0907;25.8775;240.81799999999998;32.0;0.0;0.0\"],[\"2020-03-09 10:32:06;0.0272418;0.041943699999999993;1.19794;0.38263800000000003;75.5889;25.886;228.79;32.0;0.0;0.0\"],[\"2020-03-09 10:32:07;0.027048500000000003;0.041625800000000004;1.14241;0.38263800000000003;75.729;25.8886;219.554;32.0;0.0;0.0\"],[\"2020-03-09 10:32:08;0.0267377;0.0407639;1.05799;0.054711;75.6557;25.8794;233.67700000000002;32.9981;0.0;0.0\"],[\"2020-03-09 10:32:09;0.026987599999999997;0.0406871;1.3645399999999999;-0.27321599999999996;75.6951;25.8905;251.465;32.001999999999995;0.0;0.0\"],[\"2020-03-09 10:32:10;0.026810400000000005;0.0416072;0.708613;0.38263800000000003;75.6172;25.9021;208.65200000000002;32.0;0.0;0.0\"],[\"2020-03-09 10:32:11;0.0268308;0.041113800000000006;0.910466;0.054711;75.6143;25.89;220.46;32.9981;0.0;0.0\"],[\"2020-03-09 10:32:12;0.0264731;0.0406599;1.17116;-0.27321599999999996;75.5897;25.8853;216.905;32.001999999999995;0.0;0.0\"],[\"2020-03-09 10:32:13;0.027008099999999997;0.041092699999999996;0.611408;0.054711;75.6111;25.8803;234.767;32.0;0.0;0.0\"],[\"2020-03-09 10:32:14;0.026657599999999997;0.0408613;1.2030299999999998;0.054711;75.6934;25.8779;231.36599999999999;32.9981;0.0;0.0\"],[\"2020-03-09 10:32:15;0.0270723;0.0402575;1.20835;0.054711;75.5493;25.8874;235.17700000000002;32.001999999999995;0.0;0.0\"],[\"2020-03-09 10:32:16;0.027291000000000003;0.041757199999999994;1.24416;-0.27321599999999996;75.6463;25.8761;243.118;32.0;0.0;0.0\"],[\"2020-03-09 10:32:18;0.0268827;0.041067400000000004;0.862226;-0.27321599999999996;75.5415;25.8853;235.572;32.0;0.0;0.0\"],[\"2020-03-09 10:32:19;0.0270618;0.0419457;0.9505950000000001;-0.27321599999999996;75.5812;25.8817;246.507;32.0;0.0;0.0\"],[\"2020-03-09 10:32:20;0.0266288;0.040969099999999994;0.610718;-0.27321599999999996;75.5837;25.8892;229.266;32.0;0.0;0.0\"],[\"2020-03-09 10:32:21;0.027152199999999998;0.0422772;0.630368;0.054711;75.5755;25.8794;231.405;32.0;0.0;0.0\"],[\"2020-03-09 10:32:22;0.0268677;0.0414288;0.721968;-0.27321599999999996;75.6688;25.8875;223.076;32.0;0.0;0.0\"],[\"2020-03-09 10:32:23;0.0271629;0.0413685;1.23922;0.054711;75.4566;25.8828;230.88299999999998;32.9981;0.0;0.0\"],[\"2020-03-09 10:32:24;0.0271675;0.040914400000000004;1.11611;0.38263800000000003;75.5871;25.8696;228.625;32.0017;0.0;0.0\"],[\"2020-03-09 10:32:25;0.027073400000000004;0.041859600000000004;0.822483;0.054711;75.5905;25.8696;216.765;32.0;0.0;0.0\"],[\"2020-03-09 10:32:26;0.026887400000000002;0.0411427;0.862876;0.38263800000000003;75.6256;25.888;222.63299999999998;32.0;0.0;0.0\"],[\"2020-03-09 10:32:27;0.026269400000000002;0.0405732;0.576673;-0.27321599999999996;75.3721;25.8751;229.75400000000002;32.0;0.0;0.0\"],[\"2020-03-09 10:32:28;0.0269927;0.0409298;0.906869;-0.27321599999999996;75.5591;25.8764;228.22799999999998;32.0;0.0;0.0\"],[\"2020-03-09 10:32:29;0.026426400000000003;0.040466699999999994;0.851814;0.054711;75.5324;25.8721;241.75400000000002;32.0;0.0;0.0\"],[\"2020-03-09 10:32:30;0.026313299999999998;0.04034430000000001;0.589242;-0.27321599999999996;75.4279;25.8787;227.824;32.9983;0.0;0.0\"],[\"2020-03-09 10:32:31;0.026418900000000002;0.0406951;1.16825;0.38263800000000003;75.4528;25.8773;232.888;32.0017;0.0;0.0\"],[\"2020-03-09 10:32:32;0.0266031;0.0411064;0.591182;0.38263800000000003;75.6862;25.8773;223.125;32.0;0.0;0.0\"],[\"2020-03-09 10:32:33;0.0264306;0.040484;0.938961;0.054711;75.4366;25.8775;245.96599999999998;32.0;0.0;0.0\"],[\"2020-03-09 10:32:34;0.026879700000000003;0.0411957;0.5592090000000001;0.054711;75.3788;25.8816;232.602;32.0;0.0;0.0\"],[\"2020-03-09 10:32:35;0.026291500000000002;0.040378500000000005;0.809596;0.054711;75.5076;25.8781;236.533;32.9983;0.0;0.0\"],[\"2020-03-09 10:32:36;0.026952099999999996;0.0415921;1.0783200000000002;0.054711;75.3841;25.8826;226.542;32.0017;0.0;0.0\"],[\"2020-03-09 10:32:37;0.026363;0.0404632;0.638004;0.054711;75.3386;25.8798;231.834;32.0;0.0;0.0\"],[\"2020-03-09 10:32:38;0.026632999999999997;0.040419;0.767889;0.38263800000000003;75.5255;25.8777;214.268;32.0017;0.0;0.0\"],[\"2020-03-09 10:32:39;0.026459800000000002;0.0405426;1.30064;0.38263800000000003;75.3057;25.8807;246.99900000000002;32.0;0.0;0.0\"],[\"2020-03-09 10:32:40;0.026779400000000005;0.040142199999999996;0.743499;0.054711;75.5124;25.8716;223.362;32.9983;0.0;0.0\"],[\"2020-03-09 10:32:42;0.0262339;0.040223;1.35435;-0.27321599999999996;75.3752;25.8786;248.546;32.0017;0.0;0.0\"],[\"2020-03-09 10:32:43;0.0269936;0.040420599999999994;1.13429;0.054711;75.4305;25.8608;227.967;32.0;0.0;0.0\"],[\"2020-03-09 10:32:44;0.026175599999999997;0.039787800000000005;0.752109;0.054711;75.3709;25.8708;222.518;32.0;0.0;0.0\"],[\"2020-03-09 10:32:45;0.026294799999999997;0.0395858;1.22676;0.054711;75.4121;25.8681;239.331;32.9983;0.0;0.0\"],[\"2020-03-09 10:32:46;0.026280900000000003;0.040399000000000004;0.64841;0.38263800000000003;75.3939;25.8564;221.015;32.0017;0.0;0.0\"],[\"2020-03-09 10:32:47;0.026559199999999998;0.040315699999999996;1.2080600000000001;0.054711;75.4196;25.8731;244.234;32.9983;0.0;0.0\"],[\"2020-03-09 10:32:48;0.026154300000000002;0.038740699999999996;0.688647;0.054711;75.3234;25.8696;206.454;32.0017;0.0;0.0\"],[\"2020-03-09 10:32:49;0.026961099999999998;0.040685;1.20802;0.054711;75.2713;25.8692;233.41099999999997;32.0;0.0;0.0\"],[\"2020-03-09 10:32:50;0.026458600000000002;0.0400322;1.0749;0.38263800000000003;75.3991;25.8661;218.86;32.9983;0.0;0.0\"],[\"2020-03-09 10:32:51;0.026807499999999998;0.0410481;0.682721;0.054711;75.3961;25.8603;231.03400000000002;32.0017;0.0;0.0\"],[\"2020-03-09 10:32:52;0.0265349;0.039395;1.1119700000000001;-0.27321599999999996;75.1934;25.8663;229.83900000000003;32.0;0.0;0.0\"],[\"2020-03-09 10:32:53;0.026661400000000002;0.0398439;1.28359;0.054711;75.2166;25.8654;248.826;32.9983;0.0;0.0\"],[\"2020-03-09 10:32:54;0.026947000000000002;0.0399467;1.14726;0.38263800000000003;75.3039;25.8636;228.398;32.0017;0.0;0.0\"],[\"2020-03-09 10:32:55;0.026360900000000003;0.0386171;1.12965;0.38263800000000003;75.2949;25.859;229.658;32.0;0.0;0.0\"],[\"2020-03-09 10:32:56;0.026576999999999996;0.0391486;1.06085;-0.27321599999999996;75.2812;25.8688;241.708;32.0;0.0;0.0\"],[\"2020-03-09 10:32:57;0.026592200000000003;0.040314499999999996;1.14704;0.054711;75.2656;25.8691;236.893;32.9983;0.0;0.0\"],[\"2020-03-09 10:32:58;0.0268825;0.0393539;1.31039;0.38263800000000003;75.3262;25.8607;226.36700000000002;32.0017;0.0;0.0\"],[\"2020-03-09 10:32:59;0.026423500000000003;0.0391685;0.710799;0.38263800000000003;75.1933;25.8607;232.136;32.0;0.0;0.0\"],[\"2020-03-09 10:33:00;0.026520099999999998;0.039961500000000004;1.10422;0.054711;75.1074;25.8702;228.065;32.9983;0.0;0.0\"],[\"2020-03-09 10:33:01;0.0265348;0.039693;1.16155;0.054711;75.1162;25.8699;234.40599999999998;32.0017;0.0;0.0\"],[\"2020-03-09 10:33:02;0.026362;0.0396913;1.19999;0.054711;75.2539;25.8618;242.665;32.9983;0.0;0.0\"],[\"2020-03-09 10:33:03;0.0266782;0.0400336;1.3598299999999999;0.38263800000000003;75.2364;25.8675;236.91;32.0017;0.0;0.0\"],[\"2020-03-09 10:33:04;0.026358299999999998;0.0402002;1.31647;0.054711;75.1433;25.8607;253.143;32.0;0.0;0.0\"],[\"2020-03-09 10:33:06;0.026823400000000004;0.0405579;1.35162;0.38263800000000003;75.1284;25.869;244.747;32.0;0.0;0.0\"],[\"2020-03-09 10:33:07;0.0261255;0.039772;1.05548;0.38263800000000003;75.0552;25.8668;218.399;32.9983;0.0;0.0\"],[\"2020-03-09 10:33:08;0.026919799999999997;0.0410181;1.54765;0.38263800000000003;75.1798;25.8661;253.665;32.0017;0.0;0.0\"],[\"2020-03-09 10:33:09;0.026794;0.0409712;1.33378;0.054711;75.1297;25.866999999999997;231.128;32.0;0.0;0.0\"],[\"2020-03-09 10:33:10;0.026442300000000002;0.0399925;1.00883;0.38263800000000003;75.2767;25.8661;230.00099999999998;32.9983;0.0;0.0\"],[\"2020-03-09 10:33:11;0.026808600000000002;0.040082400000000004;0.586283;0.054711;75.2993;25.8714;212.805;32.0017;0.0;0.0\"],[\"2020-03-09 10:33:12;0.026970799999999996;0.0410379;1.3774899999999999;0.054711;75.5525;25.8576;226.33599999999998;32.0;0.0;0.0\"],[\"2020-03-09 10:33:13;0.026813299999999998;0.039966699999999994;1.5126899999999999;-0.27321599999999996;75.1465;25.8685;247.215;32.9983;0.0;0.0\"],[\"2020-03-09 10:33:14;0.026478500000000002;0.040233099999999994;0.9862770000000001;0.38263800000000003;75.4823;25.8629;230.27;32.0017;0.0;0.0\"],[\"2020-03-09 10:33:15;0.0269314;0.0404741;0.9479280000000001;0.054711;75.2505;25.8681;219.757;32.9983;0.0;0.0\"],[\"2020-03-09 10:33:16;0.0265966;0.040357;0.546134;0.054711;75.47800000000001;25.8666;210.72400000000002;32.0017;0.0;0.0\"],[\"2020-03-09 10:33:17;0.026597000000000003;0.0405429;0.536288;0.38263800000000003;75.3951;25.8584;208.602;32.0;0.0;0.0\"],[\"2020-03-09 10:33:18;0.0266685;0.041099300000000005;0.8820209999999999;0.054711;75.4076;25.8641;221.412;32.9983;0.0;0.0\"],[\"2020-03-09 10:33:19;0.027239199999999998;0.041157900000000004;1.0829;0.38263800000000003;75.2222;25.863000000000003;253.804;32.0017;0.0;0.0\"],[\"2020-03-09 10:33:20;0.026586000000000002;0.0403332;1.22631;0.054711;75.1922;25.861;222.19299999999998;32.0;0.0;0.0\"],[\"2020-03-09 10:33:21;0.027031200000000002;0.041539;0.869308;0.054711;75.5186;25.8573;217.942;32.0;0.0;0.0\"],[\"2020-03-09 10:33:22;0.026526400000000002;0.0413569;0.9303899999999999;0.054711;75.4226;25.8593;233.893;32.0;0.0;0.0\"],[\"2020-03-09 10:33:23;0.0273974;0.0424476;0.49906300000000003;0.38263800000000003;75.3736;25.854;211.79;32.9983;0.0;0.0\"],[\"2020-03-09 10:33:24;0.026593400000000003;0.040984;1.28099;0.054711;75.1946;25.8537;229.89700000000002;32.0017;0.0;0.0\"],[\"2020-03-09 10:33:25;0.0273161;0.0430455;0.8849819999999999;-0.27321599999999996;75.5562;25.8542;225.327;32.0;0.0;0.0\"],[\"2020-03-09 10:33:26;0.0272899;0.0418841;0.894338;0.054711;75.4599;25.8552;208.613;32.0;0.0;0.0\"],[\"2020-03-09 10:33:27;0.027187400000000004;0.041848199999999995;1.24269;0.054711;75.6143;25.8484;230.213;32.0;0.0;0.0\"],[\"2020-03-09 10:33:29;0.0272194;0.0429291;1.0021200000000001;0.38263800000000003;75.5494;25.8432;249.72400000000002;32.9983;0.0;0.0\"],[\"2020-03-09 10:33:30;0.0271726;0.0416922;1.23692;0.38263800000000003;75.498;25.8592;244.049;32.0017;0.0;0.0\"],[\"2020-03-09 10:33:31;0.0266414;0.04158219999999999;1.19258;0.054711;75.4984;25.8514;243.824;32.0;0.0;0.0\"],[\"2020-03-09 10:33:32;0.026709899999999998;0.041206599999999996;0.8257190000000001;-0.601143;75.5435;25.8519;232.39700000000002;32.9983;0.0;0.0\"],[\"2020-03-09 10:33:33;0.027135700000000002;0.041163599999999995;0.842059;0.054711;75.5441;25.8537;226.933;32.0017;0.0;0.0\"],[\"2020-03-09 10:33:34;0.0267373;0.0409515;0.9134950000000001;-0.27321599999999996;75.4083;25.8497;233.707;32.0;0.0;0.0\"],[\"2020-03-09 10:33:35;0.0268134;0.0407262;0.8664620000000001;0.710565;75.5961;25.8559;234.653;32.9983;0.0;0.0\"],[\"2020-03-09 10:33:36;0.026936400000000003;0.040743;1.0652;0.054711;75.5151;25.854;234.075;32.0017;0.0;0.0\"],[\"2020-03-09 10:33:37;0.026872800000000002;0.0400961;0.5887220000000001;-0.27321599999999996;75.4888;25.8533;228.90400000000002;32.0;0.0;0.0\"],[\"2020-03-09 10:33:38;0.0271116;0.040583600000000004;0.427622;0.38263800000000003;75.4694;25.8593;219.889;32.9983;0.0;0.0\"],[\"2020-03-09 10:33:39;0.026743;0.039925199999999994;0.807309;0.054711;75.5012;25.8496;240.77599999999998;32.0017;0.0;0.0\"],[\"2020-03-09 10:33:40;0.0274894;0.041760900000000004;0.863504;0.38263800000000003;75.4564;25.8486;234.53799999999998;32.0;0.0;0.0\"],[\"2020-03-09 10:33:41;0.026746600000000002;0.0393964;0.674546;0.054711;75.4481;25.86;253.949;32.9983;0.0;0.0\"],[\"2020-03-09 10:33:42;0.026786900000000002;0.0407936;0.78175;0.054711;75.4359;25.8587;227.86900000000003;32.0017;0.0;0.0\"],[\"2020-03-09 10:33:43;0.027135400000000004;0.0404755;0.941846;0.38263800000000003;75.6535;25.8586;231.62900000000002;32.0;0.0;0.0\"],[\"2020-03-09 10:33:44;0.0268872;0.0402895;0.691968;0.38263800000000003;75.5655;25.8534;251.653;32.9983;0.0;0.0\"],[\"2020-03-09 10:33:45;0.0269942;0.03991140000000001;0.936838;0.054711;75.4271;25.853;240.858;32.0017;0.0;0.0\"],[\"2020-03-09 10:33:46;0.027084699999999996;0.0405071;0.916314;0.054711;75.5276;25.853;223.606;32.9983;0.0;0.0\"],[\"2020-03-09 10:33:47;0.0271348;0.0392842;0.903808;0.38263800000000003;75.5754;25.8503;230.50599999999997;32.0017;0.0;0.0\"],[\"2020-03-09 10:33:48;0.0269738;0.0396271;0.958441;0.054711;75.6643;25.8505;243.79;32.0017;0.0;0.0\"],[\"2020-03-09 10:33:49;0.026937299999999997;0.03949;0.989458;0.054711;75.4429;25.8468;223.097;32.9983;0.0;0.0\"],[\"2020-03-09 10:33:50;0.026633499999999997;0.039008600000000004;0.706762;0.054711;75.627;25.851;206.766;32.0017;0.0;0.0\"],[\"2020-03-09 10:33:52;0.02695;0.0388298;1.0629600000000001;-0.27321599999999996;75.5622;25.8552;222.01;32.0;0.0;0.0\"],[\"2020-03-09 10:33:53;0.0264469;0.0390606;1.27967;0.054711;75.6481;25.8523;252.987;32.9983;0.0;0.0\"],[\"2020-03-09 10:33:54;0.0269724;0.0391468;1.0680399999999999;-0.27321599999999996;75.5551;25.8508;221.673;32.0017;0.0;0.0\"],[\"2020-03-09 10:33:55;0.0267557;0.0390544;0.704346;0.054711;75.7221;25.8507;231.99200000000002;32.9983;0.0;0.0\"],[\"2020-03-09 10:33:56;0.0263272;0.0380719;0.852503;0.054711;75.4544;25.8616;246.90200000000002;32.0017;0.0;0.0\"],[\"2020-03-09 10:33:57;0.0266488;0.039962;1.15359;0.054711;75.6198;25.8477;241.329;32.0;0.0;0.0\"],[\"2020-03-09 10:33:58;0.026728;0.0390215;1.1196700000000002;0.054711;75.5857;25.8409;231.002;32.9983;0.0;0.0\"],[\"2020-03-09 10:33:59;0.0269;0.0391029;0.891491;0.054711;75.7478;25.8409;240.56099999999998;32.0017;0.0;0.0\"],[\"2020-03-09 10:34:00;0.026697199999999997;0.039243400000000005;0.794165;0.054711;75.6404;25.844;240.442;32.0;0.0;0.0\"],[\"2020-03-09 10:34:01;0.0271556;0.040099;1.20056;0.38263800000000003;75.6709;25.836;239.08;32.9983;0.0;0.0\"],[\"2020-03-09 10:34:02;0.026599400000000002;0.0396524;0.8514780000000001;0.38263800000000003;75.7393;25.8418;229.299;32.0017;0.0;0.0\"],[\"2020-03-09 10:34:03;0.026756799999999997;0.0402875;1.16042;0.054711;75.6078;25.8469;238.83900000000003;32.9983;0.0;0.0\"],[\"2020-03-09 10:34:04;0.027222500000000004;0.040285400000000006;1.28908;0.38263800000000003;75.6639;25.8382;228.925;32.0017;0.0;0.0\"],[\"2020-03-09 10:34:05;0.027005900000000003;0.04033219999999999;1.24747;0.054711;75.807;25.831;239.27599999999998;32.0;0.0;0.0\"],[\"2020-03-09 10:34:06;0.0268061;0.0401093;0.551067;-0.27321599999999996;75.7213;25.8373;216.515;32.9983;0.0;0.0\"],[\"2020-03-09 10:34:07;0.026801799999999997;0.0408645;0.9696959999999999;0.38263800000000003;75.9349;25.8299;225.771;32.0017;0.0;0.0\"],[\"2020-03-09 10:34:08;0.0272055;0.0406105;1.28623;0.054711;75.8649;25.8414;242.15;32.9983;0.0;0.0\"],[\"2020-03-09 10:34:09;0.026987;0.0396026;0.801741;0.054711;75.7559;25.8394;225.983;32.0017;0.0;0.0\"],[\"2020-03-09 10:34:10;0.0267514;0.0399716;1.2938399999999999;0.38263800000000003;75.7035;25.837;240.65;32.0;0.0;0.0\"],[\"2020-03-09 10:34:11;0.0270968;0.0399841;1.5231;0.38263800000000003;75.7036;25.837;253.696;32.9983;0.0;0.0\"],[\"2020-03-09 10:34:12;0.0265785;0.03832;1.26118;0.054711;75.7643;25.8373;232.36900000000003;32.0;0.0;0.0\"],[\"2020-03-09 10:34:13;0.026671299999999995;0.0396964;1.0906200000000001;0.054711;75.8631;25.8424;204.937;32.0;0.0;0.0\"],[\"2020-03-09 10:34:15;0.0266887;0.0398289;1.0982399999999999;0.38263800000000003;75.6696;25.8454;233.183;32.9983;0.0;0.0\"],[\"2020-03-09 10:34:16;0.026777699999999998;0.038976199999999996;1.3346799999999999;-0.27321599999999996;75.6958;25.8447;233.53;32.0017;0.0;0.0\"],[\"2020-03-09 10:34:17;0.026382999999999997;0.038598900000000005;1.29986;0.38263800000000003;75.7096;25.8527;232.188;32.0;0.0;0.0\"],[\"2020-03-09 10:34:18;0.0268783;0.039744800000000004;1.45202;0.054711;75.9029;25.8356;237.484;32.0;0.0;0.0\"],[\"2020-03-09 10:34:19;0.0264851;0.039378199999999995;1.1447100000000001;-0.27321599999999996;75.79;25.8304;252.915;32.9983;0.0;0.0\"],[\"2020-03-09 10:34:20;0.0266183;0.0393216;1.222;0.054711;75.8691;25.8455;221.032;32.0017;0.0;0.0\"],[\"2020-03-09 10:34:21;0.0266738;0.03988680000000001;1.30471;0.054711;75.8389;25.8447;238.695;32.0;0.0;0.0\"],[\"2020-03-09 10:34:22;0.026804599999999998;0.039926800000000005;1.24996;0.054711;75.7037;25.8471;225.78;32.0;0.0;0.0\"],[\"2020-03-09 10:34:23;0.026336900000000003;0.03978230000000001;1.30851;-0.27321599999999996;75.8126;25.8443;216.33900000000003;32.0;0.0;0.0\"],[\"2020-03-09 10:34:24;0.027014299999999998;0.0407017;1.36029;0.054711;75.6621;25.8382;230.976;32.9986;0.0;0.0\"],[\"2020-03-09 10:34:25;0.0266407;0.0404862;1.1603299999999999;0.054711;75.7234;25.8435;224.804;32.0015;0.0;0.0\"],[\"2020-03-09 10:34:26;0.0268872;0.0410869;1.0193;0.38263800000000003;75.457;25.8305;253.571;32.0;0.0;0.0\"],[\"2020-03-09 10:34:27;0.026711500000000003;0.04026319999999999;0.881743;0.054711;75.5662;25.8475;216.122;32.0;0.0;0.0\"],[\"2020-03-09 10:34:28;0.0267892;0.040617099999999996;1.46938;0.054711;75.6738;25.8363;253.533;32.0;0.0;0.0\"],[\"2020-03-09 10:34:29;0.0274043;0.0414741;1.18285;-0.27321599999999996;75.6865;25.8336;205.67700000000002;32.0;0.0;0.0\"],[\"2020-03-09 10:34:30;0.026980900000000002;0.0394095;1.1963;0.054711;75.6305;25.8358;208.907;32.0;0.0;0.0\"],[\"2020-03-09 10:34:31;0.0272452;0.0403909;1.30745;0.054711;75.7601;25.8363;243.298;32.9986;0.0;0.0\"],[\"2020-03-09 10:34:32;0.027094099999999996;0.0399194;1.2394399999999999;0.710565;75.7143;25.8384;228.665;32.0015;0.0;0.0\"]],\"hovertemplate\":\"0=%{x}\\u003cbr\\u003e1=%{y}\\u003cbr\\u003e2=%{z}\\u003cbr\\u003eFeature=%{customdata[0]}\\u003cbr\\u003eAnomaly=%{marker.color}\\u003cextra\\u003e\\u003c\\u002fextra\\u003e\",\"legendgroup\":\"\",\"marker\":{\"color\":[0,0,0,0,0,0,0,0,0,0,0,0,0,0,0,0,0,0,0,0,0,0,0,0,0,0,0,0,0,0,0,0,0,0,0,0,0,0,0,0,0,0,0,0,0,0,0,0,0,0,0,0,0,0,0,0,0,0,0,0,0,0,0,0,0,0,0,0,0,0,0,0,0,0,0,0,0,0,0,0,0,0,0,0,0,0,0,0,0,0,0,0,0,0,0,0,0,0,0,0,0,0,0,0,0,0,0,0,0,0,0,0,0,0,0,0,0,0,0,0,0,0,0,0,0,0,0,0,0,0,0,0,0,0,0,0,0,0,0,0,0,0,0,0,0,0,0,0,0,0,0,0,0,0,0,0,0,0,0,0,0,0,0,0,0,0,0,0,0,0,0,0,0,0,0,0,0,0,0,0,0,0,0,0,0,0,0,0,0,0,0,0,0,0,0,0,0,0,0,0,0,0,0,0,0,0,0,0,0,0,0,0,0,0,0,0,0,0,0,0,0,0,0,0,0,0,0,0,0,0,0,0,0,0,0,0,0,0,0,0,0,0,0,0,0,0,0,0,0,0,0,0,0,0,0,0,0,0,0,0,0,0,0,0,0,0,0,0,0,0,0,0,0,0,0,0,0,0,0,0,0,0,0,0,0,0,0,0,0,0,0,0,0,0,0,0,0,0,0,0,0,0,0,0,0,0,0,0,0,0,0,0,0,0,0,0,0,0,0,0,0,0,0,0,0,0,0,0,0,0,0,0,0,0,0,0,0,0,0,0,0,0,0,0,0,0,0,0,0,0,0,0,0,0,0,0,0,0,0,0,0,0,0,0,0,0,0,0,0,0,0,0,0,0,0,0,0,0,0,0,0,0,0,0,0,0,0,0,0,0,0,0,0,0,0,0,0,0,0,0,0,0,0,0,0,0,0,0,0,0,0,0,0,0,0,0,0,0,0,0,0,0,0,0,0,0,0,0,0,0,0,0,0,0,0,0,0,0,0,0,0,0,0,0,0,0,0,0,0,0,0,0,0,0,0,0,0,0,0,0,0,0,0,0,0,0,0,0,0,0,0,0,0,0,0,0,0,0,0,0,0,0,0,0,0,0,0,0,0,0,0,0,0,0,0,0,0,0,0,0,0,0,0,0,0,0,0,0,0,0,0,0,0,0,0,0,0,0,0,0,0,0,0,0,0,0,0,0,0,0,0,0,0,0,0,0,0,0,0,0,0,0,0,0,0,0,0,0,0,0,0,0,0,0,0,0,0,0,0,0,0,0,0,0,0,0,0,0,0,0,0,0,0,0,0,0,0,0,0,0,0,0,0,0,0,0,0,0,0,0,0,0,0,0,0,0,0,0,0,0,0,0,0,0,0,0,0,0,0,0,0,0,0,0,0,0,0,0,0,0,0,0,0,0,0,0,0,0,0,0,0,0,0,0,0,0,0,0,0,0,0,0,0,0,0,0,0,0,0,0,0,0,0,0,0,0,0,0,0,0,0,0,0,0,0,0,0,0,0,0,0,0,0,0,0,0,0,0,0,0,0,0,0,0,0,0,0,0,0,0,0,0,0,0,0,0,0,0,0,0,0,0,0,0,0,0,0,0,0,0,0,0,0,0,0,0,0,0,0,0,0,0,0,0,0,0,0,0,0,0,0,0,0,0,0,0,0,0,0,0,0,0,0,0,0,0,0,0,0,0,0,0,0,0,0,0,0,0,0,0,0,0,0,0,0,0,0,0,0,0,0,0,0,0,0,0,0,0,0,0,0,0,0,0,0,0,0,0,0,0,0,0,0,0,0,0,0,0,0,0,0,0,0,0,0,0,0,0,0,0,0,0,0,0,0,0,0,0,0,0,0,0,0,0,0,0,0,0,0,0,0,0,0,0,0,0,0,0,0,0,0,0,0,0,0,0,0,0,0,0,0,0,0,0,0,0,0,0,0,0,0,0,0,0,0,0,0,0,0,0,0,0,0,0,0,0,0,0,0,0,0,0,0,0,0,0,0,0,0,0,0,0,0,0,0,0,0,0,0,0,0,0,0,0,0,0,0,0,0,0,0,0,0,0,0,0,0,0,0,0,0,0,0,0,0,0,0,0,0,0,0,0,0,0,0,0,0,0,0,0,0,0,0,0,0,0,0,0,0,0,0,0,0,0,0,0,0,0,0,0,0,0,0,0,0,0,0,0,0,0,0,0,0,0,0,0,0,0,0,0,0,0,0,0,0,0,0,0,0,0,0,0,0,0,0,0,0,0,0,0,0,0,0,0,0,0,0,0,0,0,0,0,0,0,0,0,0,0,0,0,0,0,0,0,0,0,0,0,0,0,0,0,0,0,0,0,0,0,0,0,0,0,0,0,0,0,0,0,0,0,0,0,0,0,0,0,0,0,0,0,0,0,0,0,0,0,0,0,0,0,0,0,0,0,0,0,0,0,0,0,0,0,0,0,0,0,0,0,0,0,0,0,0,0,0,0,0,0,0,0,0,0,0,0,0,0,0,0,0,0,0,0,0,0,0,0,0,0,0,0,0,0,0,0,0,0,0,0,0,0,0,0,0,0,0,0,0,0,0,0,0,0,0,0,0,0,0,0],\"coloraxis\":\"coloraxis\",\"opacity\":0.7,\"symbol\":\"circle\"},\"mode\":\"markers\",\"name\":\"\",\"scene\":\"scene\",\"showlegend\":false,\"x\":[-65.02733,-12.043135,-3.1228428,6.884961,12.871884,11.673444,-5.346,11.69789,18.853012,21.965431,-60.395065,-2.6173284,40.005634,61.42715,21.309605,25.045628,-0.11288785,26.468628,-22.960278,12.276987,-54.714657,-11.384463,49.925613,25.443382,37.326145,-52.91775,7.137371,4.682703,-13.243,-51.55018,-60.28843,10.661467,24.118193,-23.260845,8.979545,-8.884588,23.656616,17.723213,-32.4946,-7.090484,46.067345,-26.379038,-8.273281,-36.182846,28.351875,36.615253,49.369774,29.10458,10.310186,18.788628,-52.303856,-39.749237,24.687027,-8.644697,5.1299577,-47.963367,-23.96831,-31.926056,-8.773679,20.202227,3.6527352,-41.103428,15.478581,41.43942,-16.943121,46.243996,1.7608771,-6.1449027,-7.58783,-16.95713,-35.571968,-20.25672,18.913086,46.335598,49.04721,3.8525903,-5.7118807,18.939768,-30.169046,-2.9426188,8.026367,18.455444,35.96168,-37.513573,9.474475,-0.25833508,-22.165594,-50.319023,-34.504505,-5.5060053,-21.170223,43.750336,-17.377216,3.2895882,-11.713214,28.157621,12.225362,32.566986,-5.8307395,36.00971,45.944664,-47.94381,56.030445,-52.13185,-19.761984,14.429907,-52.703648,0.38109872,-36.88325,-61.365757,-37.437176,23.035849,38.752163,-11.504364,28.54472,-30.503633,44.167606,10.557477,-25.92774,-27.65047,-19.095003,-8.906724,31.376873,34.22738,29.145819,27.10971,10.994558,-0.5013817,-23.943855,39.226418,0.7644141,-2.396217,37.410927,25.65448,-10.2179575,17.274786,-8.476158,22.154501,-27.549889,41.355183,2.798132,-32.84752,11.948357,-42.77575,-29.084335,48.9866,-20.1627,9.613921,-24.895435,-6.409145,9.438576,-36.228592,-10.468004,-41.564888,-3.0686815,15.635612,-62.465702,45.817036,-17.400814,26.096203,-2.8553119,-39.562996,43.916416,41.890156,48.956615,-33.282578,-15.093705,-9.669474,18.625631,4.626104,-40.758915,-6.4768806,24.470745,24.225706,-15.952198,65.102684,26.28465,-27.581839,54.66304,1.2375976,-4.0478077,42.704365,34.182,-45.73943,34.17225,47.852642,12.81789,-11.854688,2.8023803,10.533757,6.6612134,15.526513,20.351042,-41.698082,1.1936098,-19.247213,-12.522008,14.113449,-21.903969,12.1308,12.002367,-25.134153,1.5469811,7.240969,2.0714746,39.94977,-2.290938,-37.326347,-18.22844,32.98745,-21.62626,32.67804,9.593197,-14.934906,14.607309,16.572481,-24.076637,28.519257,-9.44448,60.77935,-18.787012,-8.840352,17.292997,-41.22271,-2.1685605,-27.189138,26.197708,-18.323193,-15.776327,-13.510043,2.0811813,31.089779,15.517929,27.860363,2.0830173,-13.99037,-22.564995,-18.087193,20.080818,-35.075222,-5.9154496,-48.073116,-0.558177,36.63726,30.790527,-13.296432,-1.0684023,49.031937,0.1991568,-15.160382,38.328617,54.957714,11.474848,-25.699938,0.8088278,-11.74488,-17.116917,-23.693144,-18.018463,32.766647,-36.993763,43.16601,19.535385,19.29915,-9.375466,35.384678,24.808464,-57.414047,-12.773249,49.973106,24.412403,-37.92684,34.804184,21.293337,-8.849724,38.99124,-21.166422,14.859068,4.3713393,17.896276,-35.460674,-11.588956,-9.590847,-1.8918209,-51.172523,23.889492,40.237957,-36.6166,17.705307,-19.165478,-41.813457,-26.838896,-1.6966338,32.628277,1.5985634,-21.946625,59.976593,-29.598831,-27.785349,-26.250648,35.550602,13.029025,-24.280651,12.682559,-43.019722,-7.6814675,-0.24367738,1.8421957,-46.92875,15.402517,-28.259611,-19.679811,-35.82871,10.720636,16.541075,-3.643491,56.87454,-47.307655,-16.968735,-17.50132,29.742964,8.2265005,14.25878,-50.387913,-19.911049,19.003754,-4.5754743,-37.17771,3.3128011,8.362392,0.8052365,-22.891968,18.108334,-3.4024117,8.7760105,0.6245724,32.96248,-56.85351,-58.888397,26.296986,-47.848194,9.901767,-30.30399,-40.813217,56.25439,-5.582162,-7.408736,-51.49164,-8.224625,-37.20481,-4.817153,10.549685,-46.089806,48.24674,-15.534396,18.293709,3.3676665,-26.487507,7.4563484,47.884007,-19.87686,50.835415,-28.85897,-31.724493,10.647309,-25.688381,-19.289412,3.18028,-39.49262,9.959656,39.023434,61.51635,40.329865,-7.9551144,-35.131104,-40.25855,-26.421095,-9.679633,-30.09488,25.73363,0.7735792,-48.673374,0.9257311,10.508382,1.8304993,2.4667063,-35.61829,0.5446507,63.053867,-11.293614,24.168167,14.270329,-0.86541706,13.3691435,-7.1649566,-6.1105876,-21.467596,-12.120661,-24.98812,44.211872,-1.0718334,29.207312,-29.395054,-14.593868,-17.769875,12.441799,-45.793056,-9.120578,53.77895,-22.780285,39.982113,49.396915,-10.534161,35.55074,8.031031,2.8638914,14.256094,-8.052811,-47.928837,53.28015,44.365307,-19.308971,51.756786,-18.41631,32.849026,-36.108795,-6.9307714,12.316592,51.659084,-5.466433,43.811382,30.93015,-13.419577,-41.516674,27.01368,-27.9274,-14.126983,9.428346,8.357186,25.76336,-7.2037935,-16.717756,-6.2357893,-29.355146,18.994658,9.137216,35.988026,25.756735,14.905228,12.722649,-15.36076,-19.613972,10.045344,-6.315183,-67.34734,-6.288608,-4.8739843,-11.839991,-30.106005,-28.597498,-12.775444,-17.386171,-48.021626,-31.777636,-27.434093,11.148017,-25.565449,-29.068268,36.839558,8.520942,-55.355755,-15.157268,-16.64212,-3.945212,-20.297905,-0.9061437,-24.16199,20.317162,-5.858374,43.257153,-17.49258,-7.7166157,-14.243173,39.70229,-41.344955,-1.7609626,-31.743786,-38.806725,-39.73527,-11.329199,-25.54887,-20.382221,53.91402,-32.05283,-57.13711,-4.8991456,20.555962,34.651115,-5.3898144,-47.64246,-1.6133777,37.8741,56.4826,-25.871948,-8.027997,-30.402275,55.408623,2.020974,10.807962,11.629492,48.822964,-30.92046,3.1784692,34.55874,6.856192,5.1776714,-47.586906,3.8553538,-28.321161,-16.148703,-16.817469,-25.722996,30.600594,5.6234465,36.65602,29.166029,33.510727,30.068136,7.2798853,-41.725197,-62.50225,-15.066968,-34.2571,34.625263,6.9768567,50.277416,44.863262,5.0726724,18.064457,-3.768787,11.742859,-9.761164,17.906096,12.853788,9.693208,29.158602,6.451491,-37.805336,21.430332,18.767792,11.913205,8.918909,31.192953,-5.2221866,44.932007,-19.517231,-10.923863,10.774493,-28.059881,29.14216,-2.4103339,3.52042,-24.959791,29.896763,-38.144123,38.539314,23.765453,1.533056,-61.676456,-34.70224,-43.48706,-12.378677,-4.358917,-25.731665,24.595818,8.258255,-51.09311,-61.500782,-15.462546,-23.96181,4.8573117,-17.029541,-13.370515,-40.815685,20.878527,-38.57689,-24.213856,9.024519,-15.731711,-17.811117,-8.302701,50.024162,-20.231033,-2.170172,17.267591,14.606496,6.1575465,30.405666,-31.409376,-14.8087,-38.242363,20.192064,-7.2510414,4.5326676,33.15019,53.26276,-6.631641,11.323044,27.61985,-31.784288,30.53921,15.334901,-54.11145,-27.812151,-6.463409,26.73788,57.63494,-15.3448105,-16.669487,-45.20412,9.607949,-1.2586739,46.295948,26.77683,9.363427,-29.559668,35.788067,-2.1469185,-41.279133,2.9198468,-52.51649,46.86413,9.897463,34.05575,22.376518,-58.996353,25.144554,3.6683674,-7.456727,-15.8424,-6.9575467,-31.151089,2.1402133,18.470592,65.8051,-37.57851,1.6636972,44.514374,-15.228717,-51.50622,-31.203005,-18.015087,-30.615726,-43.275566,-16.467535,62.671707,15.826843,46.247383,33.34419,12.8637495,-45.77901,-8.078256,-28.504358,58.869606,-40.661446,-33.555267,29.704473,22.516083,48.275543,23.37095,-18.16704,-13.877809,45.320065,-15.351746,-30.924746,-20.953377,15.0199795,-2.9433763,-40.710712,-5.851588,2.6815705,21.100376,21.582493,-58.08665,26.476492,46.59724,-21.65242,10.269775,38.093025,-24.401093,-3.1142755,-45.879417,-48.713478,34.798138,-0.14937079,-39.880703,-13.282398,10.57662,-18.065287,42.230213,31.542429,60.70551,19.393435,-3.5717213,22.596144,-14.265534,8.794237,-61.07797,23.21751,-28.321707,-24.572432,36.444645,15.802372,22.584492,28.016096,41.685143,16.8329,-48.89238,27.833471,36.31624,16.473518,5.1587853,6.6318164,29.701265,-12.893,20.801073,42.119484,23.685822,45.998505,3.6902606,-10.336159,10.56921,39.440178,-37.780666,39.78408,-2.6949272,56.598423,20.41208,20.851152,54.507492,-14.53151,39.172802,-55.97899,-65.1122,-11.875209,17.36586,6.3490467,14.633655,-26.182188,34.244633,15.14468,-4.9315705,-17.628773,-11.270344,-22.050625,26.255486,-13.250477,52.53301,-25.7245,2.4994771,-3.619596,-10.939553,-2.8174925,-36.761505,5.149466,-20.624174,-5.1553054,51.080322,3.4624617,-12.48573,4.182796,18.495579,-13.62642,-8.559068,-23.698542,-29.871996,-14.34398,3.8254445,-11.000601,-37.220596,30.196535,-27.367443,-1.3675536,-58.42593,-31.136684,50.80048,7.072971,-3.10675,14.976583,-33.40662,26.291864,-55.39168,18.523815,65.1479,6.407043,-18.511347,27.41074,-0.74528766,11.90204,-37.49461,-6.570849,-10.631882,20.181261,-37.299023,-47.112274,4.4177914,-10.98217,-35.825775,-0.31089807,-15.037771,-12.002227,22.158142,64.59098,-37.40951,-18.454044,19.454998,-38.922993,1.2705592,-23.332796,36.46118,7.814788,-31.176863,-43.88984,53.87714,16.700766,-20.577953,-10.706051,15.797176,21.801132,30.871618,-22.579374,-39.711193,-62.320255,-1.0137782,-11.861395,-17.077997,-48.299862,29.457312,-28.464375,-9.30973,15.547968,-41.976643,-23.067972,-56.510468,-42.046272,26.493517,27.074596,25.420147,24.737658,24.143724,-25.084213,3.255527,-41.213684,-9.993148,51.148716,22.932245,-7.1034584,-3.3871126,21.81671,6.1962905,23.467394,-39.2716,-19.507545,4.80222,-15.108006,36.596397,50.248272,-9.729061,52.782753,30.147257,-16.997116,28.901402,15.64488,-38.533863,-46.86894,28.254189,10.118661,-47.892998,7.1569824,24.84131,-1.2938145,24.755142,-21.670282,48.42091,-13.241161,18.448748,-6.334241,-6.460661,7.2600307,-27.105387,-22.127329,8.473414,-34.03673,-6.2918215,14.020494,-31.43329,20.286936,36.566143,44.96776,-49.241047,9.793747,0.32813886,-2.709751,-14.104846,-30.271507,-49.37924,7.3172393,42.769382,4.450068,0.91909295,-34.24407,-39.59298,53.893948,12.774909,39.01935,17.386324,-4.12965,22.663973,16.510147,24.730064,43.674374,-15.112704,15.085662,3.4751227,-13.934922,14.054687,35.81602,-54.161522,30.477875,8.596908,57.51199,22.626526,2.4523883,-38.49455,-6.151846,-51.280968,-34.414337,5.6855035,0.37704775,-53.41605,1.5848496,-30.227774,15.014599,-24.074022,-23.235262,38.65237,46.389088,-4.2195926,-5.7037306,-60.61277,10.443617,55.09725,57.302753,-58.97063,-34.40448,-23.359491,7.7908115,-15.11768,-30.100857,-27.371328,-40.460636,4.835604,34.160954,-1.9271067,30.03272,-31.532898,-49.1094,20.070301,-24.371758,-50.546093,27.928146,-47.709766,29.029419,32.181324,-32.549274,-12.359525,-1.7820479,-42.0323,-15.329908,-1.1725324,42.230885,12.042388,-10.8609,-13.134284,18.343609,60.885517,5.155992,-40.797146,-46.261684,-52.713634,4.048034,17.967516,7.4584856,-20.185516,31.565657,39.084522,14.310325,16.53764,17.242662,30.457867,-57.36899,47.877743,-34.512634,-15.80005,-48.493008,48.563515,-25.376743,0.17219822,-3.9649148,17.944883,-22.89828,12.745905,-26.39366,-21.01248,-0.16641611,-34.00811,6.9296713,55.109447,-30.17388,-5.066761,39.321102,-12.131556,18.975918,14.439312,-24.950733,-23.725002,-38.779583,-32.36534,0.26006368,-8.225082,-22.039686,0.83648646,-32.476894,24.425903,34.537693,43.478645,23.14535,-35.8887,36.273117,46.059376,14.942058,34.824257,20.158918,-31.160175,-23.063404,-1.7158322,-34.07493,-16.365791,-23.766195,18.226938,-63.184475,-9.209586,41.59658,18.982672,16.556965,-46.203808,-40.30136,-2.9851477,-6.970781,14.1401825,37.79666,26.706682,39.394833,-33.842625,-46.694912,22.822239,28.969471,24.079487,11.270169,7.7357593,-19.15284,-25.484804,36.798294,-24.498726,-34.45264,-25.48941,-6.198881,-27.506721,-25.50303,-34.850426,20.38648,8.437992,-12.322386,-58.647503,61.153816,16.55351,-30.822855,24.84472,37.891758,39.152214,-0.35765582,5.3644915,35.78523,40.455627,-51.88883,27.422947,10.504568,2.687509,58.200745,-21.693289,30.534296,-2.0480673,-40.440567,29.343237,66.182014,22.133472,43.39221,-40.081516,-18.169687,34.610985,48.14671,53.378975,31.079983,25.372808,-43.3572,-41.219044,9.028197,-3.2542765,28.463354,24.426458,4.280619,2.4799547,-48.235703,-18.587753,38.26126,2.1593125,10.118336,-48.943634,32.017567,33.81452,-24.699478,61.35791,13.673133,-28.809793,-0.38285583,30.292728,3.0210092,41.91177,-53.269943,34.763233,-48.63827,41.808018,7.155765,19.706142,-11.696299,-6.5739923,39.901535,-11.0169525],\"y\":[-0.9408378,8.737691,1.0040178,-0.5342288,-32.340244,24.55112,-30.018045,-13.316589,-32.245884,-20.73793,26.20546,-44.16803,-13.970929,17.132956,8.679704,12.950985,33.841396,5.8297243,18.748095,64.598915,6.977234,-26.316484,21.607035,11.815483,18.61051,-1.3756908,23.058996,-55.31008,30.628336,-28.237658,2.4460382,48.188946,1.662452,-29.69756,16.194336,13.962997,-34.026707,50.999786,-27.759974,-37.622524,5.505227,36.157574,-37.565197,-7.5681906,-6.307071,39.944828,-16.97297,34.646294,-42.40206,-12.402442,-0.8656272,1.9748687,-60.533115,-9.571348,26.410776,46.78683,-13.715439,-3.6924214,9.799662,-23.820723,-0.6779162,-26.583591,-20.304665,-10.990618,-6.3846054,-10.848742,-16.768593,26.959795,9.125187,-25.700457,-14.76288,18.890778,-10.344907,35.439487,11.736164,-26.62205,-9.7666235,-24.745667,-54.77062,-65.50469,1.8573742,42.550728,23.914461,-45.91721,-0.7113817,-8.282288,-29.44342,-23.841702,-20.668564,-21.502882,38.275753,-17.609835,8.3163805,7.674054,5.2901263,6.0764656,34.398132,-2.7329643,-0.26327798,38.14978,-10.563256,10.4545965,17.268404,21.474445,54.03324,62.07153,-13.567055,37.81697,-39.183723,20.040884,16.253946,24.056871,48.145603,37.33873,15.731851,5.299094,35.087143,10.765689,-28.533026,8.961047,19.093296,38.640697,-41.601116,-18.788454,-19.888868,19.515585,-16.433113,-1.5740478,-22.02103,-26.620916,-45.25775,31.587511,-43.068153,10.954682,24.065378,-42.30036,4.8926115,28.57888,-20.01035,-32.767284,22.613283,-3.2085972,-20.155716,-5.151838,-2.0962653,16.641205,32.29454,-10.706328,27.337355,7.7784348,-48.47415,15.771112,-26.987486,-51.949512,62.46802,26.609356,-17.825382,32.40278,-44.649857,-19.764938,10.249754,44.860622,-35.04083,-35.267715,-19.573734,44.934963,-7.675556,-6.2648,36.373844,-14.523451,-27.652945,-61.73073,53.286366,-19.552307,26.538467,-3.5910928,-49.874474,-7.366062,18.237309,3.2474692,-2.1060739,5.6399975,-57.608856,-24.855698,43.803383,10.899342,19.335846,-1.6908176,24.949728,43.82612,58.73833,29.910976,8.9905,5.133255,-19.636919,-20.465298,-18.852034,3.314199,41.08691,-18.232525,10.1468315,15.834984,64.815414,-29.216656,28.918758,48.242496,36.111446,50.548428,36.499157,-20.71744,-43.004448,-21.319466,-4.6134214,23.711758,15.1000185,-10.8286705,-17.37036,-38.206757,-7.3152704,-24.625479,-23.204538,-18.375362,-60.294086,27.57941,43.887104,29.305641,-51.37887,-51.84055,16.243473,-17.071262,25.040703,22.208382,-53.39064,25.581093,-42.183994,-10.321604,-39.65584,54.17072,-2.0779655,20.938526,29.985817,18.306095,53.62907,-7.157276,6.5483584,23.757416,-33.92416,27.232742,45.753654,-60.36591,-38.04605,-19.923939,-2.8233423,31.42651,-7.886004,-27.169477,9.693239,44.511417,10.653358,-40.95872,-30.235205,23.639584,55.071533,61.81663,36.303528,39.99614,-6.261071,29.30917,47.26978,-27.360329,-7.3750234,-44.803627,-11.471667,12.96095,-28.586521,6.3292694,1.1961915,8.434901,17.747223,-30.289343,-35.30878,-34.820415,26.895235,-3.6133163,18.251003,-61.536346,10.6743555,53.185646,3.0045168,39.44342,-0.13653924,60.400997,-41.78856,-0.53259325,45.577385,25.573769,28.090689,-47.89484,1.3122685,-52.734066,28.911077,47.02476,30.127031,7.4885373,12.569249,44.299526,29.06288,8.252995,36.406033,-53.068317,47.58591,-6.361678,-51.000633,6.366338,53.453808,55.32383,5.5434732,23.074604,28.796436,-1.485707,-31.06197,-35.285683,39.093796,10.794061,-42.103287,18.856129,7.589194,-22.852608,42.701046,13.841476,-9.298453,7.2986703,-13.216723,-29.370611,38.410877,-34.586365,25.194784,11.140884,-20.581623,59.445583,-34.859406,-6.789193,-18.48012,3.8140779,3.7023864,15.02575,-37.51293,-22.128841,-6.5760264,2.5172038,-14.226515,47.015404,11.2688265,-29.688517,-9.743826,-29.589518,0.97534853,-29.955425,44.351387,-0.23591931,-47.96524,27.331516,-41.719917,-11.072797,30.759611,16.67366,38.735744,-14.742182,-8.254011,-23.516197,-23.545038,15.102718,-9.707287,-9.954653,0.43707997,34.32459,-24.723633,14.65871,-3.8091722,33.28651,-39.116886,34.121,-25.79622,-38.170685,-36.669617,-17.131027,-8.916634,12.211524,-10.109162,32.456955,1.7751279,5.950945,-57.66343,-52.865627,-39.889885,2.4920309,31.001215,6.908605,-12.74012,-22.14261,-25.808529,32.681145,3.3002596,38.294075,-54.789524,-43.488956,1.5438888,42.793674,-31.153675,-54.507153,-49.969513,-41.653008,17.313288,51.568207,-11.473241,9.601503,-2.8654158,-49.552135,-42.930378,-8.423768,-44.366966,-3.0765185,-5.384275,-12.092238,2.573717,30.398739,7.3954744,23.017027,-0.4993979,49.53341,-0.28594404,21.367752,-25.393991,-18.41265,-25.095978,-16.88092,-15.693013,-26.755556,-24.293154,-3.0177858,-21.910856,-15.60174,-15.913244,-2.6448865,14.363339,31.447714,11.215116,39.631065,-31.178192,26.352324,1.255449,-27.330023,-3.1229062,-18.08329,3.5150137,-32.56635,-22.821703,3.2022495,39.486786,-43.829224,-14.83621,-5.4083376,9.664739,-40.42795,-28.6815,-24.282276,4.3949447,23.767838,-46.631176,-59.385952,8.065973,-47.4629,-37.269184,-55.89606,-22.105078,8.144247,3.791842,39.39105,19.355919,-20.625582,10.499504,-54.187412,31.247091,-21.159039,-10.653912,16.324747,-35.170055,23.078241,-26.592901,25.875385,25.35944,0.29257783,-2.5503252,-35.392654,-22.8283,35.082268,-61.956482,-4.388238,35.781113,-4.13105,-29.521303,-28.337877,-35.952564,10.603031,-31.768496,-12.338786,5.3265543,-8.164569,-33.252388,24.938326,15.883631,35.77305,2.3761196,-26.17687,14.224765,20.14815,-20.922901,3.9777784,-35.156704,2.884082,53.69154,-43.481018,-17.044323,-21.090158,12.643369,2.1706045,31.363531,-11.424128,32.39903,-37.58494,5.4610233,-50.578773,27.43647,6.7255096,14.481124,-27.852888,-4.444712,-51.33008,39.807102,-16.280869,-60.545418,-22.715666,13.09463,-4.9907084,-13.760153,-17.939436,12.957775,30.669378,4.0297036,29.72012,-6.08057,-43.16119,-7.180743,47.04006,28.288738,-21.021336,45.863537,-25.713356,-60.916534,-49.668415,54.56728,39.22793,-4.4985847,40.95823,-25.24994,8.539657,-32.136063,39.241184,16.750288,6.670872,-15.056807,-49.22999,24.531672,16.74466,24.438944,-38.053017,-39.997128,-10.673204,-8.00352,48.700886,-13.164822,-30.919237,12.378268,38.70192,-31.129656,36.24862,32.750996,14.617045,-31.796131,45.253754,66.2424,-43.11606,43.155888,-0.40753558,17.773808,27.41552,-16.63407,4.0323844,53.467163,-27.074041,12.85772,-43.7595,57.76622,-60.095734,27.310127,-34.068623,-43.5231,7.2225323,35.24695,21.718204,11.089802,6.676611,-0.15555994,14.001781,-0.11772632,-31.948238,-14.637774,1.88753,-34.463108,6.6484733,32.256584,-18.248335,42.602634,-12.563545,42.195442,37.438194,-13.866376,20.233204,24.991959,-48.222595,-19.457336,-17.738464,-36.376053,26.902098,44.370396,12.164693,31.688425,23.736586,39.686462,22.546715,22.227991,-22.661104,-12.520689,23.998068,10.934365,29.490002,19.5112,28.512138,17.639551,-33.527473,24.809832,8.396565,-46.612877,36.332497,-1.0178843,-5.2946033,39.28948,11.142373,-16.166945,2.7178955,25.989374,0.5883844,19.556612,18.373613,-2.8239734,-21.73542,-27.412361,-36.750935,8.512931,-49.349842,24.57622,58.890602,16.124083,29.139463,23.057266,35.24349,-26.296124,-55.09093,-3.5408833,7.5041795,-66.92115,-20.036646,1.5205727,-4.788366,-46.28824,39.49029,7.5662575,-17.819782,-36.529675,-3.698535,53.985924,-12.356757,-24.515295,15.171854,-45.6961,16.730383,53.777767,-13.321999,-14.669626,-47.84299,-41.34259,-24.50007,-7.356006,29.171526,-14.875793,-0.04196299,-9.232886,-1.1082358,-49.63569,-2.8795657,-31.640999,-12.316799,-2.9345431,24.034838,15.198903,46.107536,-43.970955,-14.542941,-30.223898,35.553593,-4.9162555,10.442188,-30.680183,47.945713,-62.995934,32.661682,-15.30939,-16.932043,-39.616657,33.419724,-5.6439013,51.284687,-4.4044642,-16.812737,-6.541854,31.419168,-17.23712,-40.980194,-22.207195,1.8598664,-59.21417,34.806473,35.54973,-10.74028,-9.860044,-41.795837,32.97373,46.60846,-21.982351,-31.631727,-21.303802,18.773104,-38.464855,-59.880905,4.8430057,14.131179,45.62805,39.34431,51.8915,-34.93429,-28.093674,18.3942,-27.525383,11.12794,-6.4574885,14.79519,-20.786818,41.52803,14.408258,21.160406,55.791264,4.5347877,-36.80802,23.975983,-13.96978,2.2386918,17.014778,43.23256,-11.116163,49.875854,-12.222696,-41.688015,16.577639,-0.25897133,-2.6033554,-28.02052,-26.75545,16.679428,12.880251,10.749585,-21.724241,-13.088078,49.661407,-13.608173,63.177994,-35.769367,-39.03184,-9.61182,54.349434,-28.586205,60.705425,42.26101,-39.395283,13.579815,-9.073703,-38.835697,-18.73697,16.052877,9.518455,-16.652275,-48.585236,31.367022,1.759202,-51.815002,-11.781046,-3.4923165,6.08467,-20.793905,-34.529034,14.11663,-64.39384,44.62738,-30.042774,22.3225,-54.646935,-3.1816466,-0.656765,-39.89503,-11.534633,8.243935,-31.348623,16.598621,13.115161,-0.55954206,-23.008904,21.328106,-2.8702164,-12.718604,-9.212834,-6.951236,17.035078,8.800746,21.724476,29.427555,-16.667221,-34.965755,50.684196,22.286339,19.20325,12.74926,52.64587,8.159637,-39.81251,35.492622,-5.9231577,-7.28834,-50.291355,0.9130519,44.463825,55.082565,27.212893,-38.465015,43.920403,45.782383,3.0650737,-47.511776,13.158529,46.144497,-16.140251,14.978646,-39.64546,52.888355,-33.95032,-2.8269157,-13.783259,-7.8564115,-11.590356,40.816113,-0.80073905,44.873356,-53.96658,32.975063,23.278812,27.212294,56.406067,-50.014038,12.43845,-44.80109,-5.3807216,12.612583,-45.496723,-0.50185174,-34.42549,-34.15128,-17.214838,-23.50589,-14.559696,-19.072962,-0.5351441,17.628115,1.4050919,-31.939611,9.161744,52.082733,59.884827,1.7289925,22.966349,4.4251385,-33.52469,-44.615597,-9.652093,24.006033,8.554282,20.774714,54.83241,35.00964,28.552534,1.3087509,38.667206,-24.895432,-27.259195,33.119198,16.302944,-0.25369737,-29.208199,-21.718807,-4.9836354,-11.19442,-36.393295,32.862125,-7.854783,1.3291556,40.057972,-9.030598,26.619184,20.252426,-12.485074,-49.436943,-5.609946,-10.278114,-33.93105,34.07342,19.035818,45.963474,-3.7593493,38.22717,-24.576954,17.331566,-15.041471,-10.126197,-52.53287,28.429205,8.303509,17.928106,28.704256,-11.275824,20.925219,9.091042,41.6798,-58.674587,-50.075375,6.3127017,-0.18815142,26.370466,15.868919,-25.684633,-11.763447,-14.034162,-17.903585,-43.97224,41.565094,-36.066772,-13.748451,4.225128,35.6383,-42.018894,-9.054527,-5.3442335,34.920895,19.551458,-0.43563098,-32.577656,-15.855218,2.6652217,-34.042072,26.41153,-24.562712,-34.751343,23.632675,40.3462,-18.203384,-34.08583,35.964703,-22.472588,17.28474,12.0156,59.019012,18.303097,-5.5539412,23.226063,-29.28077,-5.1111455,-19.087795,-20.315027,7.8450804,-12.214697,-9.262506,-6.7805686,50.699387,-11.399938,10.619397,34.223145,14.898261,-8.271754,-62.9362,0.9951611,-44.370182,33.814404,-31.218563,-9.062511,17.974865,16.59842,18.51642,-44.902653,-19.504135,25.024221,42.52427,39.030952,67.46662,-44.57482,-8.510855,7.876145,-12.032316,-4.5161686,-0.9429703,18.73982,11.576567,18.001186,-5.9138355,-1.6980964,-0.7748668,-29.753532,-22.675232,11.890887,3.2855961,-19.861488,5.433589,12.951662,-53.41691,-8.114604,-20.957973,-39.456173,27.212467,-15.657916,9.158503,29.838446,-19.053736,-15.444938,-50.915737,8.56688,22.632303,0.21059756,16.82565,7.7028594,14.874759,25.250376,-54.141594,3.7007353,-49.23519,4.171168,63.261303,-40.41393,-4.354039,58.331917,29.380213,-15.635422,-3.1389458,24.701658,5.1309137,-14.122488,1.2383769,16.28272,64.57373,-33.5416,-7.27405,38.666157,12.203797,-42.284634,4.237856,25.825008,-24.7264,-38.20465,-53.72286,18.04455,-0.34962726,-8.402843,-12.212591,33.490578,-19.771984,17.271349,35.920906,18.076443,4.4283433,46.103333,2.1517098,23.107145,-12.536227,20.121733,-63.878365,-38.483074,5.107923,-12.184123,-31.181938,61.229347,-14.544925,43.176815,-24.22845,44.60263,-26.20373,45.9658,52.630306,-10.118074,29.246021,-30.313951,-22.33752,-51.902718,-27.045914,-29.659687,-25.992573,31.669098,7.500603,7.041795,27.909418,15.305778,-23.497467,57.972916,24.228655,22.88904,29.724697,5.413922,-2.2174473,5.456883,50.94139,-26.110569,-36.988804,35.1052,-32.397766,13.138354],\"z\":[13.435784,64.22059,44.53242,4.000768,21.642654,-20.168795,24.121794,-50.88014,11.914359,-37.88172,-0.8584659,16.943317,36.415836,16.327318,-38.14088,44.69428,9.394609,36.12083,22.286411,1.3826336,-6.2207947,46.281094,-8.81315,-15.447628,51.022408,40.16544,44.508305,5.5534625,24.442343,-20.119272,29.715048,38.244762,49.415047,-14.247132,9.713883,-7.261013,2.6905112,16.756021,17.877783,51.156967,47.658905,-40.724857,38.041588,-14.714028,-23.22928,-35.61851,13.439077,48.60597,-10.306979,14.930115,-18.719631,-43.105675,-12.749788,19.477081,23.616547,5.3499727,10.894928,12.387009,23.60473,29.9499,13.570632,-26.095343,-16.127789,-3.807614,-15.960324,-13.611304,24.501131,-20.613703,-16.08299,1.4099997,-39.64061,39.656837,-41.912243,-28.280687,-28.579573,20.917398,-28.630028,2.3538954,-1.4705981,-10.565581,22.957916,9.373904,-49.52491,-32.497765,65.27425,6.602533,-49.822826,-35.518482,0.23820871,18.051739,-11.857937,-34.019802,-52.39682,7.8583603,-42.91181,17.918934,-24.588541,10.81292,-16.940508,38.362495,5.3403893,44.52296,28.233479,36.354923,35.697525,13.179145,-2.682655,21.056364,14.134582,13.115154,-53.984833,30.797115,-26.197117,-5.562321,-58.21823,6.773393,18.585997,-8.282388,27.648909,24.375082,12.148033,-50.699608,-16.846857,49.950554,4.8776855,-33.12653,30.637905,34.09276,17.544226,40.11335,33.188774,58.671463,8.521506,-25.859646,-50.53777,7.1243205,34.087105,-25.541521,35.90938,13.263693,-15.779009,57.054935,-36.196033,-22.886938,-0.6261064,14.750003,-2.2493942,1.5855448,-31.031803,-27.662312,14.191596,18.456055,33.670525,-8.399938,-23.96297,-5.1700106,13.762867,-10.921519,23.906515,-14.44156,-0.45259717,-24.495462,1.1959921,28.721834,-1.0486639,-36.338867,-32.776424,0.9072207,-48.273754,-6.2264853,-14.762441,1.9275692,-28.131363,59.458755,-22.99486,0.5661375,3.720947,-20.05316,1.5837268,-47.65706,63.446266,-21.507704,-0.686563,1.4176286,1.4093119,-6.657764,-44.12134,-24.481339,-26.265432,-2.678502,30.417732,24.70754,-7.5847645,10.653761,-52.152443,28.281239,57.28505,-2.2426572,-30.424921,8.5182905,27.272139,58.781296,14.53273,48.210094,35.640293,-10.80317,-0.8317324,-0.39832166,31.748558,-36.665115,-47.591885,-23.04353,-6.3277087,58.390404,62.94646,-31.644281,46.005028,-46.29683,-8.921683,-1.9361609,-61.009663,27.551174,-23.61745,-27.012476,12.16939,-11.368487,-23.30692,-6.3418555,-44.534294,-14.690816,-50.26253,23.040995,5.930532,10.557129,44.402424,8.925162,-8.214353,-8.222912,-9.067398,-10.263111,-59.807693,-27.764345,-33.239437,-38.48906,7.0085816,46.501324,14.798624,32.14585,30.02296,-16.098986,-37.337635,-12.172683,-45.078846,8.708558,-49.16473,-16.350922,9.073544,26.920681,19.76667,20.316246,-3.9695272,22.055658,29.334736,-10.310645,14.527847,25.265173,6.8080277,-14.244171,13.720832,7.579714,33.060925,31.9164,4.426579,-49.288937,11.1870365,-10.934091,-21.386257,-29.491636,29.33934,-42.737972,25.525177,-54.52606,-3.3507094,-60.34735,-4.8892584,11.785528,-49.952183,-15.962251,32.17324,7.3004494,49.31047,12.625563,-4.2721586,41.547028,2.3857,30.867579,-11.097265,9.699663,33.321014,31.571669,30.526207,-45.4194,21.637234,-52.253826,-8.562592,48.004185,-8.243168,-21.462992,-18.480537,-34.633106,-8.821889,43.278687,-20.784283,14.374303,-1.9616103,-13.54814,22.689693,-14.905467,14.099304,34.514328,31.176695,-49.523342,-34.778484,-17.520315,11.918044,8.479114,-66.49572,43.905327,-27.061256,-17.132267,17.599323,-40.396713,-62.376072,-45.479355,6.7626443,3.9902673,-8.807272,-32.98417,-25.821917,17.609362,28.488377,-15.477987,25.84117,-54.39135,-3.9087694,31.062881,-22.362005,25.32971,52.0881,28.677492,-2.3994205,26.37091,-39.119724,-7.76073,28.09399,-20.5459,54.055027,-2.411814,15.6752,-12.536833,-16.421377,-20.541279,44.57529,4.3149395,-42.756958,-8.523416,18.224678,-30.712019,-4.3855844,-46.528557,-1.2362593,-8.643992,14.31324,-19.017435,-8.258655,38.20831,7.3891273,14.034584,43.674458,24.71147,-40.83964,28.492859,8.684056,-22.273762,-15.956759,3.8487792,28.30203,-10.765041,13.285703,5.0064692,0.14299183,54.526222,33.890667,-5.1238866,27.13372,-7.2490826,41.02826,-0.17082453,-35.220264,-22.033232,-13.0174465,-16.872461,-48.59566,-21.057138,5.861414,29.278545,-9.362143,3.844278,-18.231249,18.748295,-15.249087,-11.281975,2.6692612,20.695993,-40.182213,63.005142,15.5885725,2.9975264,16.57502,-4.5287127,19.642117,-51.452576,29.429556,-7.888037,-44.078773,20.987955,8.840428,16.400991,-23.38921,-44.34511,24.681625,-23.767239,-40.12324,-8.303912,40.47881,-25.180944,0.19033754,30.144133,-9.022335,-36.995983,3.9161446,36.97395,-45.18233,22.632887,34.95548,-11.935639,41.31474,-28.789244,-30.548727,-31.702854,54.695095,39.307808,-55.75945,38.666134,-4.4209647,-34.11706,-31.87199,16.752882,17.994604,21.056839,46.963436,16.62868,2.606066,-0.6097349,49.465332,-59.092567,49.707882,15.058896,30.82148,-13.966466,11.203735,35.296227,-17.501038,-18.905518,-8.148411,16.899605,62.41414,-19.265978,-41.001644,-11.368231,-7.721007,-7.7535453,-42.201916,8.784481,11.830884,-30.899508,-13.182859,10.847562,-41.24359,35.479137,51.045887,24.417671,6.372019,-44.357742,3.8052223,30.052504,-1.0861881,21.137074,-26.148197,28.65641,41.720226,-30.005836,-0.33435518,-60.667686,0.08284248,-6.459329,35.434006,-21.252934,4.412737,33.524857,40.34611,47.188976,-13.978714,-11.547397,19.42573,55.692028,12.074333,-4.520117,8.524807,-32.568382,23.967365,-35.370228,-57.123234,40.125774,-26.43286,-9.4136,17.336433,41.90202,-1.4856496,3.5910263,-16.81837,-38.01044,-37.1698,28.209965,-36.365784,32.76307,-31.571953,23.64649,31.433943,-12.054173,15.956288,-6.7318616,16.270464,51.173244,63.412506,32.911224,0.13222699,-6.612873,10.724676,-14.887377,34.129166,0.31200722,56.640926,-5.9146094,-40.14112,-31.7842,34.42121,60.0327,9.408937,-8.963071,8.791017,-49.731224,-10.142499,13.587722,30.487211,0.077633195,21.27803,39.564377,-10.244551,40.24835,31.97694,14.287451,27.873833,-35.88239,51.613415,12.972047,-15.710684,-18.010445,64.15671,14.370079,-62.05288,55.92276,-34.56234,0.688931,-55.01291,11.941716,-21.232489,38.028877,-7.267763,-41.36968,6.8905163,8.200467,43.203205,22.125109,-34.52618,57.629154,-15.463471,-55.750286,24.16778,21.36181,28.396759,-4.0052366,-2.8127367,-26.12639,-37.363686,19.199825,-33.248188,-41.455738,4.5126295,26.462017,-5.391641,42.637558,19.66413,33.358337,-34.80038,-36.181244,4.461148,-62.618214,29.85641,21.333061,-57.673645,-21.872469,-1.2799248,-32.105984,-16.999384,-3.5485115,-16.760109,39.213253,30.34471,-14.09803,-12.33083,45.781742,38.55247,1.5041667,-0.6302363,22.238947,-6.064003,-37.897392,-36.8028,-35.136112,-12.0352955,-9.777983,34.732605,41.825768,1.9170594,-17.076838,-61.41761,-0.87025607,29.904089,8.230024,38.15787,30.26409,-10.63125,-35.46038,-4.660779,25.378372,19.968973,25.424911,-6.6519527,-13.333767,18.471893,-52.27699,5.801485,-20.744263,37.720573,-52.027164,12.243307,40.96952,4.1547194,37.38399,3.9082804,14.0511875,-17.774443,-12.776823,-22.495687,-52.227943,39.775192,13.377381,19.549124,53.231567,9.097112,-49.434196,-46.450096,-8.469839,-35.88447,29.614153,40.122166,51.06497,-8.526205,-29.475302,38.514957,45.11582,38.03962,-15.380433,-23.957642,-19.206451,-20.893572,-23.60067,-44.394394,-2.2272182,-1.0526838,12.705805,60.284477,46.75149,-22.573706,6.872502,11.00195,-27.795155,15.014052,-59.971634,-25.37756,-27.776302,5.951043,-43.965797,13.305284,11.91746,-47.878345,-21.860966,-18.197964,-5.882706,25.259253,48.092117,-37.85368,33.428146,13.82581,13.553683,-46.66521,-4.630589,-25.309675,-32.721462,-43.23394,7.3452806,-20.523548,-18.772335,48.674625,-42.49436,22.723045,-26.360186,12.686029,-36.185375,27.39296,7.5207424,6.687765,1.1711932,-65.49029,19.195635,49.960213,-26.042496,-42.311092,4.1431227,-26.543724,61.803265,44.4444,-28.67243,1.8546307,56.77217,-13.039827,10.371564,3.315137,-28.128918,-22.53915,-26.384102,58.24526,53.43947,26.714193,1.2291662,-62.237476,-15.988675,-47.195374,20.9022,-1.2192959,21.525312,-41.356087,10.434765,-55.76697,-17.00897,-16.20185,-38.38444,-54.002552,12.903753,24.446714,-22.318468,7.903526,3.3884063,-37.512867,-31.049074,-19.783484,-20.503962,-63.56051,-11.941551,21.500807,34.219505,-13.6072855,-7.7219806,-12.866038,2.6894083,11.42403,44.140244,-34.82778,7.9361277,26.100689,23.946922,-15.46169,7.171213,-12.196126,23.148193,-24.708746,-42.41546,39.011066,18.795515,-24.10794,-36.04746,-12.917304,19.637486,-24.150253,41.263245,-0.9761975,-39.903393,19.60489,20.718945,-2.6267223,36.579845,17.996607,-32.304134,25.539022,-40.656742,26.161556,-36.918056,48.957573,-34.572323,-36.328693,38.55566,2.686356,-26.009628,-51.252693,-6.349067,-0.25865287,-44.471188,-46.336197,38.2071,-1.1530142,-27.339521,-16.551207,19.104595,-30.422829,-8.40647,8.459408,-15.57092,-5.7840986,24.93126,-30.362314,-57.893295,-8.677492,40.246815,17.00196,-52.825726,43.531693,3.046267,42.18976,18.825027,-55.602707,-21.106758,-2.323152,49.06311,-13.504198,-27.850607,-41.984158,-28.155424,34.11486,-43.584515,-29.14316,-5.868393,-3.9618273,4.4846916,-43.93868,-3.159388,42.53802,17.231283,42.993298,22.893566,-34.927334,36.95546,-56.370197,9.8871355,-33.419968,-14.477947,-51.421265,-48.16523,-30.154106,13.087735,1.5470103,-67.3582,-31.68344,-10.274323,-5.04591,-32.37681,4.8962054,18.39839,-2.4245257,25.323002,-22.86963,-57.563183,-38.901985,3.6257153,-5.350643,-29.867352,2.2860115,35.211143,-5.596063,6.9727407,-28.19704,48.027332,-15.838941,-54.976467,2.314086,1.282396,18.433722,-17.753036,51.594288,-28.157259,-42.227077,-31.336952,49.38555,-38.298565,-27.191637,20.75602,32.027287,8.745146,-26.755697,15.693703,-15.513534,-28.09447,-9.316341,-52.078365,-32.292133,6.2653027,39.099804,-44.596176,-2.7296999,-32.586727,31.987076,30.536285,25.460226,-20.259106,8.27061,-18.232098,21.082361,49.314724,10.8070965,23.070568,37.012154,20.362827,9.709604,-22.278004,-49.314037,21.854406,-7.78693,-23.291412,6.2780113,-13.642886,5.481574,-30.858541,-29.417791,3.2020175,32.620556,-20.321537,19.926813,25.629255,0.31947762,-0.7308415,-9.557714,-30.363127,13.486204,-19.606863,-27.59876,-3.9072402,-38.086643,-34.92915,52.596294,-3.5806143,7.935537,-13.16666,-35.801067,44.062263,52.436638,7.2364664,-29.02575,41.045166,-40.10769,-6.7802277,14.466724,31.063908,28.974827,-20.830214,3.3021212,10.450584,-22.132042,-12.662539,-22.477009,40.703197,17.821321,40.287464,11.023731,9.864025,32.512974,-24.218931,32.72309,-11.86633,20.815357,-12.77243,-16.730717,40.029716,-48.586197,0.48802215,22.001556,-26.456486,-32.46192,-1.3860558,37.46922,28.707207,-6.121509,-61.218742,-23.833534,46.526024,58.828487,-43.583603,25.937147,-15.8406105,-2.547773,-13.692134,53.75751,27.406715,17.860075,17.602158,-0.013097666,3.5426943,2.6113293,-30.855013,-52.824043,-45.684097,-34.76488,21.301674,48.83109,-22.687214,14.75472,49.416542,17.419426,50.65245,-27.28186,-2.2475245,-7.736135,7.382312,42.547306,38.12504,-19.700666,6.527416,20.98364,63.875214,25.095505,5.5546002,12.22697,26.782482,-37.296688,-35.166924,14.330997,1.979333,24.291529,62.548157,-22.807629,34.13788,0.64221907,32.47109,-10.364489,-18.432375,3.7308257,-14.87807,12.206093,-2.4186966,-7.553194,52.01966,-61.38713,-26.439478,-12.919033,-3.148701,-27.269344,-9.020316,-1.2835975,28.155155,16.921267,-17.225704,-2.9794588,55.89391,12.773485,32.166206,-42.585976,-13.520421,20.577143,-19.489458,-23.969925,-26.09291,-45.783314,19.740192,-17.720514,-19.31817,13.679351,18.710024,24.961857,-0.6716089,-2.9082665,39.928474,15.381436,-37.769203,50.5638,3.2107875,2.8122997,-10.022088,0.8947065,-18.092487,-3.0831575,-38.760937,-22.142628,54.561134,-4.8235097,11.524102,29.109392,-4.102072,12.537871,-7.6642075,-47.488766,-26.989132,-29.36094,-25.995527,7.4623194,45.71005,31.489485,-16.937717,12.472893,-27.999893,-27.557945,52.879032,10.560703,-35.996254,-10.759579,-8.969311,17.673735,-14.013528,-18.894697,40.53069],\"type\":\"scatter3d\"}],                        {\"template\":{\"data\":{\"histogram2dcontour\":[{\"type\":\"histogram2dcontour\",\"colorbar\":{\"outlinewidth\":0,\"ticks\":\"\"},\"colorscale\":[[0.0,\"#0d0887\"],[0.1111111111111111,\"#46039f\"],[0.2222222222222222,\"#7201a8\"],[0.3333333333333333,\"#9c179e\"],[0.4444444444444444,\"#bd3786\"],[0.5555555555555556,\"#d8576b\"],[0.6666666666666666,\"#ed7953\"],[0.7777777777777778,\"#fb9f3a\"],[0.8888888888888888,\"#fdca26\"],[1.0,\"#f0f921\"]]}],\"choropleth\":[{\"type\":\"choropleth\",\"colorbar\":{\"outlinewidth\":0,\"ticks\":\"\"}}],\"histogram2d\":[{\"type\":\"histogram2d\",\"colorbar\":{\"outlinewidth\":0,\"ticks\":\"\"},\"colorscale\":[[0.0,\"#0d0887\"],[0.1111111111111111,\"#46039f\"],[0.2222222222222222,\"#7201a8\"],[0.3333333333333333,\"#9c179e\"],[0.4444444444444444,\"#bd3786\"],[0.5555555555555556,\"#d8576b\"],[0.6666666666666666,\"#ed7953\"],[0.7777777777777778,\"#fb9f3a\"],[0.8888888888888888,\"#fdca26\"],[1.0,\"#f0f921\"]]}],\"heatmap\":[{\"type\":\"heatmap\",\"colorbar\":{\"outlinewidth\":0,\"ticks\":\"\"},\"colorscale\":[[0.0,\"#0d0887\"],[0.1111111111111111,\"#46039f\"],[0.2222222222222222,\"#7201a8\"],[0.3333333333333333,\"#9c179e\"],[0.4444444444444444,\"#bd3786\"],[0.5555555555555556,\"#d8576b\"],[0.6666666666666666,\"#ed7953\"],[0.7777777777777778,\"#fb9f3a\"],[0.8888888888888888,\"#fdca26\"],[1.0,\"#f0f921\"]]}],\"heatmapgl\":[{\"type\":\"heatmapgl\",\"colorbar\":{\"outlinewidth\":0,\"ticks\":\"\"},\"colorscale\":[[0.0,\"#0d0887\"],[0.1111111111111111,\"#46039f\"],[0.2222222222222222,\"#7201a8\"],[0.3333333333333333,\"#9c179e\"],[0.4444444444444444,\"#bd3786\"],[0.5555555555555556,\"#d8576b\"],[0.6666666666666666,\"#ed7953\"],[0.7777777777777778,\"#fb9f3a\"],[0.8888888888888888,\"#fdca26\"],[1.0,\"#f0f921\"]]}],\"contourcarpet\":[{\"type\":\"contourcarpet\",\"colorbar\":{\"outlinewidth\":0,\"ticks\":\"\"}}],\"contour\":[{\"type\":\"contour\",\"colorbar\":{\"outlinewidth\":0,\"ticks\":\"\"},\"colorscale\":[[0.0,\"#0d0887\"],[0.1111111111111111,\"#46039f\"],[0.2222222222222222,\"#7201a8\"],[0.3333333333333333,\"#9c179e\"],[0.4444444444444444,\"#bd3786\"],[0.5555555555555556,\"#d8576b\"],[0.6666666666666666,\"#ed7953\"],[0.7777777777777778,\"#fb9f3a\"],[0.8888888888888888,\"#fdca26\"],[1.0,\"#f0f921\"]]}],\"surface\":[{\"type\":\"surface\",\"colorbar\":{\"outlinewidth\":0,\"ticks\":\"\"},\"colorscale\":[[0.0,\"#0d0887\"],[0.1111111111111111,\"#46039f\"],[0.2222222222222222,\"#7201a8\"],[0.3333333333333333,\"#9c179e\"],[0.4444444444444444,\"#bd3786\"],[0.5555555555555556,\"#d8576b\"],[0.6666666666666666,\"#ed7953\"],[0.7777777777777778,\"#fb9f3a\"],[0.8888888888888888,\"#fdca26\"],[1.0,\"#f0f921\"]]}],\"mesh3d\":[{\"type\":\"mesh3d\",\"colorbar\":{\"outlinewidth\":0,\"ticks\":\"\"}}],\"scatter\":[{\"fillpattern\":{\"fillmode\":\"overlay\",\"size\":10,\"solidity\":0.2},\"type\":\"scatter\"}],\"parcoords\":[{\"type\":\"parcoords\",\"line\":{\"colorbar\":{\"outlinewidth\":0,\"ticks\":\"\"}}}],\"scatterpolargl\":[{\"type\":\"scatterpolargl\",\"marker\":{\"colorbar\":{\"outlinewidth\":0,\"ticks\":\"\"}}}],\"bar\":[{\"error_x\":{\"color\":\"#2a3f5f\"},\"error_y\":{\"color\":\"#2a3f5f\"},\"marker\":{\"line\":{\"color\":\"#E5ECF6\",\"width\":0.5},\"pattern\":{\"fillmode\":\"overlay\",\"size\":10,\"solidity\":0.2}},\"type\":\"bar\"}],\"scattergeo\":[{\"type\":\"scattergeo\",\"marker\":{\"colorbar\":{\"outlinewidth\":0,\"ticks\":\"\"}}}],\"scatterpolar\":[{\"type\":\"scatterpolar\",\"marker\":{\"colorbar\":{\"outlinewidth\":0,\"ticks\":\"\"}}}],\"histogram\":[{\"marker\":{\"pattern\":{\"fillmode\":\"overlay\",\"size\":10,\"solidity\":0.2}},\"type\":\"histogram\"}],\"scattergl\":[{\"type\":\"scattergl\",\"marker\":{\"colorbar\":{\"outlinewidth\":0,\"ticks\":\"\"}}}],\"scatter3d\":[{\"type\":\"scatter3d\",\"line\":{\"colorbar\":{\"outlinewidth\":0,\"ticks\":\"\"}},\"marker\":{\"colorbar\":{\"outlinewidth\":0,\"ticks\":\"\"}}}],\"scattermapbox\":[{\"type\":\"scattermapbox\",\"marker\":{\"colorbar\":{\"outlinewidth\":0,\"ticks\":\"\"}}}],\"scatterternary\":[{\"type\":\"scatterternary\",\"marker\":{\"colorbar\":{\"outlinewidth\":0,\"ticks\":\"\"}}}],\"scattercarpet\":[{\"type\":\"scattercarpet\",\"marker\":{\"colorbar\":{\"outlinewidth\":0,\"ticks\":\"\"}}}],\"carpet\":[{\"aaxis\":{\"endlinecolor\":\"#2a3f5f\",\"gridcolor\":\"white\",\"linecolor\":\"white\",\"minorgridcolor\":\"white\",\"startlinecolor\":\"#2a3f5f\"},\"baxis\":{\"endlinecolor\":\"#2a3f5f\",\"gridcolor\":\"white\",\"linecolor\":\"white\",\"minorgridcolor\":\"white\",\"startlinecolor\":\"#2a3f5f\"},\"type\":\"carpet\"}],\"table\":[{\"cells\":{\"fill\":{\"color\":\"#EBF0F8\"},\"line\":{\"color\":\"white\"}},\"header\":{\"fill\":{\"color\":\"#C8D4E3\"},\"line\":{\"color\":\"white\"}},\"type\":\"table\"}],\"barpolar\":[{\"marker\":{\"line\":{\"color\":\"#E5ECF6\",\"width\":0.5},\"pattern\":{\"fillmode\":\"overlay\",\"size\":10,\"solidity\":0.2}},\"type\":\"barpolar\"}],\"pie\":[{\"automargin\":true,\"type\":\"pie\"}]},\"layout\":{\"autotypenumbers\":\"strict\",\"colorway\":[\"#636efa\",\"#EF553B\",\"#00cc96\",\"#ab63fa\",\"#FFA15A\",\"#19d3f3\",\"#FF6692\",\"#B6E880\",\"#FF97FF\",\"#FECB52\"],\"font\":{\"color\":\"#2a3f5f\"},\"hovermode\":\"closest\",\"hoverlabel\":{\"align\":\"left\"},\"paper_bgcolor\":\"white\",\"plot_bgcolor\":\"#E5ECF6\",\"polar\":{\"bgcolor\":\"#E5ECF6\",\"angularaxis\":{\"gridcolor\":\"white\",\"linecolor\":\"white\",\"ticks\":\"\"},\"radialaxis\":{\"gridcolor\":\"white\",\"linecolor\":\"white\",\"ticks\":\"\"}},\"ternary\":{\"bgcolor\":\"#E5ECF6\",\"aaxis\":{\"gridcolor\":\"white\",\"linecolor\":\"white\",\"ticks\":\"\"},\"baxis\":{\"gridcolor\":\"white\",\"linecolor\":\"white\",\"ticks\":\"\"},\"caxis\":{\"gridcolor\":\"white\",\"linecolor\":\"white\",\"ticks\":\"\"}},\"coloraxis\":{\"colorbar\":{\"outlinewidth\":0,\"ticks\":\"\"}},\"colorscale\":{\"sequential\":[[0.0,\"#0d0887\"],[0.1111111111111111,\"#46039f\"],[0.2222222222222222,\"#7201a8\"],[0.3333333333333333,\"#9c179e\"],[0.4444444444444444,\"#bd3786\"],[0.5555555555555556,\"#d8576b\"],[0.6666666666666666,\"#ed7953\"],[0.7777777777777778,\"#fb9f3a\"],[0.8888888888888888,\"#fdca26\"],[1.0,\"#f0f921\"]],\"sequentialminus\":[[0.0,\"#0d0887\"],[0.1111111111111111,\"#46039f\"],[0.2222222222222222,\"#7201a8\"],[0.3333333333333333,\"#9c179e\"],[0.4444444444444444,\"#bd3786\"],[0.5555555555555556,\"#d8576b\"],[0.6666666666666666,\"#ed7953\"],[0.7777777777777778,\"#fb9f3a\"],[0.8888888888888888,\"#fdca26\"],[1.0,\"#f0f921\"]],\"diverging\":[[0,\"#8e0152\"],[0.1,\"#c51b7d\"],[0.2,\"#de77ae\"],[0.3,\"#f1b6da\"],[0.4,\"#fde0ef\"],[0.5,\"#f7f7f7\"],[0.6,\"#e6f5d0\"],[0.7,\"#b8e186\"],[0.8,\"#7fbc41\"],[0.9,\"#4d9221\"],[1,\"#276419\"]]},\"xaxis\":{\"gridcolor\":\"white\",\"linecolor\":\"white\",\"ticks\":\"\",\"title\":{\"standoff\":15},\"zerolinecolor\":\"white\",\"automargin\":true,\"zerolinewidth\":2},\"yaxis\":{\"gridcolor\":\"white\",\"linecolor\":\"white\",\"ticks\":\"\",\"title\":{\"standoff\":15},\"zerolinecolor\":\"white\",\"automargin\":true,\"zerolinewidth\":2},\"scene\":{\"xaxis\":{\"backgroundcolor\":\"#E5ECF6\",\"gridcolor\":\"white\",\"linecolor\":\"white\",\"showbackground\":true,\"ticks\":\"\",\"zerolinecolor\":\"white\",\"gridwidth\":2},\"yaxis\":{\"backgroundcolor\":\"#E5ECF6\",\"gridcolor\":\"white\",\"linecolor\":\"white\",\"showbackground\":true,\"ticks\":\"\",\"zerolinecolor\":\"white\",\"gridwidth\":2},\"zaxis\":{\"backgroundcolor\":\"#E5ECF6\",\"gridcolor\":\"white\",\"linecolor\":\"white\",\"showbackground\":true,\"ticks\":\"\",\"zerolinecolor\":\"white\",\"gridwidth\":2}},\"shapedefaults\":{\"line\":{\"color\":\"#2a3f5f\"}},\"annotationdefaults\":{\"arrowcolor\":\"#2a3f5f\",\"arrowhead\":0,\"arrowwidth\":1},\"geo\":{\"bgcolor\":\"white\",\"landcolor\":\"#E5ECF6\",\"subunitcolor\":\"white\",\"showland\":true,\"showlakes\":true,\"lakecolor\":\"white\"},\"title\":{\"x\":0.05},\"mapbox\":{\"style\":\"light\"}}},\"scene\":{\"domain\":{\"x\":[0.0,1.0],\"y\":[0.0,1.0]},\"xaxis\":{\"title\":{\"text\":\"0\"}},\"yaxis\":{\"title\":{\"text\":\"1\"}},\"zaxis\":{\"title\":{\"text\":\"2\"}}},\"coloraxis\":{\"colorbar\":{\"title\":{\"text\":\"Anomaly\"}},\"colorscale\":[[0.0,\"#0d0887\"],[0.1111111111111111,\"#46039f\"],[0.2222222222222222,\"#7201a8\"],[0.3333333333333333,\"#9c179e\"],[0.4444444444444444,\"#bd3786\"],[0.5555555555555556,\"#d8576b\"],[0.6666666666666666,\"#ed7953\"],[0.7777777777777778,\"#fb9f3a\"],[0.8888888888888888,\"#fdca26\"],[1.0,\"#f0f921\"]]},\"legend\":{\"tracegroupgap\":0},\"title\":{\"text\":\"3d TSNE Plot for Outliers\"},\"height\":800,\"width\":900},                        {\"responsive\": true}                    ).then(function(){\n                            \nvar gd = document.getElementById('53ab8ce6-aa87-4f01-8612-494e3af744e2');\nvar x = new MutationObserver(function (mutations, observer) {{\n        var display = window.getComputedStyle(gd).display;\n        if (!display || display === 'none') {{\n            console.log([gd, 'removed!']);\n            Plotly.purge(gd);\n            observer.disconnect();\n        }}\n}});\n\n// Listen for the removal of the full notebook cells\nvar notebookContainer = gd.closest('#notebook-container');\nif (notebookContainer) {{\n    x.observe(notebookContainer, {childList: true});\n}}\n\n// Listen for the clearing of the current output cell\nvar outputEl = gd.closest('.output');\nif (outputEl) {{\n    x.observe(outputEl, {childList: true});\n}}\n\n                        })                };                            </script>        </div>\n</body>\n</html>"
                },
                "metadata": {}
              }
            ]
          }
        },
        "9f11c3a7ef294375bb2a0a2981bdbd1b": {
          "model_module": "@jupyter-widgets/base",
          "model_name": "LayoutModel",
          "model_module_version": "1.2.0",
          "state": {
            "_model_module": "@jupyter-widgets/base",
            "_model_module_version": "1.2.0",
            "_model_name": "LayoutModel",
            "_view_count": null,
            "_view_module": "@jupyter-widgets/base",
            "_view_module_version": "1.2.0",
            "_view_name": "LayoutView",
            "align_content": null,
            "align_items": null,
            "align_self": null,
            "border": null,
            "bottom": null,
            "display": null,
            "flex": null,
            "flex_flow": null,
            "grid_area": null,
            "grid_auto_columns": null,
            "grid_auto_flow": null,
            "grid_auto_rows": null,
            "grid_column": null,
            "grid_gap": null,
            "grid_row": null,
            "grid_template_areas": null,
            "grid_template_columns": null,
            "grid_template_rows": null,
            "height": null,
            "justify_content": null,
            "justify_items": null,
            "left": null,
            "margin": null,
            "max_height": null,
            "max_width": null,
            "min_height": null,
            "min_width": null,
            "object_fit": null,
            "object_position": null,
            "order": null,
            "overflow": null,
            "overflow_x": null,
            "overflow_y": null,
            "padding": null,
            "right": null,
            "top": null,
            "visibility": null,
            "width": null
          }
        },
        "e147eb5e8afd4404917bf95af4a87d03": {
          "model_module": "@jupyter-widgets/base",
          "model_name": "LayoutModel",
          "model_module_version": "1.2.0",
          "state": {
            "_model_module": "@jupyter-widgets/base",
            "_model_module_version": "1.2.0",
            "_model_name": "LayoutModel",
            "_view_count": null,
            "_view_module": "@jupyter-widgets/base",
            "_view_module_version": "1.2.0",
            "_view_name": "LayoutView",
            "align_content": null,
            "align_items": null,
            "align_self": null,
            "border": null,
            "bottom": null,
            "display": null,
            "flex": null,
            "flex_flow": null,
            "grid_area": null,
            "grid_auto_columns": null,
            "grid_auto_flow": null,
            "grid_auto_rows": null,
            "grid_column": null,
            "grid_gap": null,
            "grid_row": null,
            "grid_template_areas": null,
            "grid_template_columns": null,
            "grid_template_rows": null,
            "height": null,
            "justify_content": null,
            "justify_items": null,
            "left": null,
            "margin": null,
            "max_height": null,
            "max_width": null,
            "min_height": null,
            "min_width": null,
            "object_fit": null,
            "object_position": null,
            "order": null,
            "overflow": null,
            "overflow_x": null,
            "overflow_y": null,
            "padding": null,
            "right": null,
            "top": null,
            "visibility": null,
            "width": null
          }
        },
        "8009af95d327442792178fd3535587c5": {
          "model_module": "@jupyter-widgets/controls",
          "model_name": "ToggleButtonsStyleModel",
          "model_module_version": "1.5.0",
          "state": {
            "_model_module": "@jupyter-widgets/controls",
            "_model_module_version": "1.5.0",
            "_model_name": "ToggleButtonsStyleModel",
            "_view_count": null,
            "_view_module": "@jupyter-widgets/base",
            "_view_module_version": "1.2.0",
            "_view_name": "StyleView",
            "button_width": "",
            "description_width": "",
            "font_weight": ""
          }
        },
        "25652fd60fca4d3f829848cd17e2f9ed": {
          "model_module": "@jupyter-widgets/base",
          "model_name": "LayoutModel",
          "model_module_version": "1.2.0",
          "state": {
            "_model_module": "@jupyter-widgets/base",
            "_model_module_version": "1.2.0",
            "_model_name": "LayoutModel",
            "_view_count": null,
            "_view_module": "@jupyter-widgets/base",
            "_view_module_version": "1.2.0",
            "_view_name": "LayoutView",
            "align_content": null,
            "align_items": null,
            "align_self": null,
            "border": null,
            "bottom": null,
            "display": null,
            "flex": null,
            "flex_flow": null,
            "grid_area": null,
            "grid_auto_columns": null,
            "grid_auto_flow": null,
            "grid_auto_rows": null,
            "grid_column": null,
            "grid_gap": null,
            "grid_row": null,
            "grid_template_areas": null,
            "grid_template_columns": null,
            "grid_template_rows": null,
            "height": null,
            "justify_content": null,
            "justify_items": null,
            "left": null,
            "margin": null,
            "max_height": null,
            "max_width": null,
            "min_height": null,
            "min_width": null,
            "object_fit": null,
            "object_position": null,
            "order": null,
            "overflow": null,
            "overflow_x": null,
            "overflow_y": null,
            "padding": null,
            "right": null,
            "top": null,
            "visibility": null,
            "width": null
          }
        }
      }
    }
  },
  "cells": [
    {
      "cell_type": "markdown",
      "metadata": {
        "id": "view-in-github",
        "colab_type": "text"
      },
      "source": [
        "<a href=\"https://colab.research.google.com/github/venkatesh1226/CMPE255-DataMining/blob/main/Assignment2/pycaret.ipynb\" target=\"_parent\"><img src=\"https://colab.research.google.com/assets/colab-badge.svg\" alt=\"Open In Colab\"/></a>"
      ]
    },
    {
      "cell_type": "code",
      "execution_count": null,
      "metadata": {
        "colab": {
          "base_uri": "https://localhost:8080/"
        },
        "id": "KjImF2Tk-7Sn",
        "outputId": "37f447db-be38-4788-d75e-c7dce16f9f9c"
      },
      "outputs": [
        {
          "output_type": "stream",
          "name": "stdout",
          "text": [
            "Collecting pycaret\n",
            "  Downloading pycaret-3.0.4-py3-none-any.whl (484 kB)\n",
            "\u001b[?25l     \u001b[90m━━━━━━━━━━━━━━━━━━━━━━━━━━━━━━━━━━━━━━━━\u001b[0m \u001b[32m0.0/484.4 kB\u001b[0m \u001b[31m?\u001b[0m eta \u001b[36m-:--:--\u001b[0m\r\u001b[2K     \u001b[91m━━━━━━━━━━━━━━━━━━━━━━━━━━━━━━━━━━━━━\u001b[0m\u001b[91m╸\u001b[0m \u001b[32m481.3/484.4 kB\u001b[0m \u001b[31m15.6 MB/s\u001b[0m eta \u001b[36m0:00:01\u001b[0m\r\u001b[2K     \u001b[90m━━━━━━━━━━━━━━━━━━━━━━━━━━━━━━━━━━━━━━\u001b[0m \u001b[32m484.4/484.4 kB\u001b[0m \u001b[31m12.0 MB/s\u001b[0m eta \u001b[36m0:00:00\u001b[0m\n",
            "\u001b[?25hRequirement already satisfied: ipython>=5.5.0 in /usr/local/lib/python3.10/dist-packages (from pycaret) (7.34.0)\n",
            "Requirement already satisfied: ipywidgets>=7.6.5 in /usr/local/lib/python3.10/dist-packages (from pycaret) (7.7.1)\n",
            "Requirement already satisfied: tqdm>=4.62.0 in /usr/local/lib/python3.10/dist-packages (from pycaret) (4.66.1)\n",
            "Requirement already satisfied: numpy<1.24,>=1.21 in /usr/local/lib/python3.10/dist-packages (from pycaret) (1.23.5)\n",
            "Requirement already satisfied: pandas<2.0.0,>=1.3.0 in /usr/local/lib/python3.10/dist-packages (from pycaret) (1.5.3)\n",
            "Requirement already satisfied: jinja2>=1.2 in /usr/local/lib/python3.10/dist-packages (from pycaret) (3.1.2)\n",
            "Requirement already satisfied: scipy<2.0.0 in /usr/local/lib/python3.10/dist-packages (from pycaret) (1.10.1)\n",
            "Requirement already satisfied: joblib>=1.2.0 in /usr/local/lib/python3.10/dist-packages (from pycaret) (1.3.2)\n",
            "Requirement already satisfied: scikit-learn<1.3.0,>=1.0 in /usr/local/lib/python3.10/dist-packages (from pycaret) (1.2.2)\n",
            "Collecting pyod>=1.0.8 (from pycaret)\n",
            "  Downloading pyod-1.1.0.tar.gz (153 kB)\n",
            "\u001b[2K     \u001b[90m━━━━━━━━━━━━━━━━━━━━━━━━━━━━━━━━━━━━━━\u001b[0m \u001b[32m153.4/153.4 kB\u001b[0m \u001b[31m16.9 MB/s\u001b[0m eta \u001b[36m0:00:00\u001b[0m\n",
            "\u001b[?25h  Preparing metadata (setup.py) ... \u001b[?25l\u001b[?25hdone\n",
            "Requirement already satisfied: imbalanced-learn>=0.8.1 in /usr/local/lib/python3.10/dist-packages (from pycaret) (0.10.1)\n",
            "Collecting category-encoders>=2.4.0 (from pycaret)\n",
            "  Downloading category_encoders-2.6.2-py2.py3-none-any.whl (81 kB)\n",
            "\u001b[2K     \u001b[90m━━━━━━━━━━━━━━━━━━━━━━━━━━━━━━━━━━━━━━━━\u001b[0m \u001b[32m81.8/81.8 kB\u001b[0m \u001b[31m8.9 MB/s\u001b[0m eta \u001b[36m0:00:00\u001b[0m\n",
            "\u001b[?25hRequirement already satisfied: lightgbm>=3.0.0 in /usr/local/lib/python3.10/dist-packages (from pycaret) (4.0.0)\n",
            "Requirement already satisfied: numba>=0.55.0 in /usr/local/lib/python3.10/dist-packages (from pycaret) (0.56.4)\n",
            "Requirement already satisfied: requests>=2.27.1 in /usr/local/lib/python3.10/dist-packages (from pycaret) (2.31.0)\n",
            "Requirement already satisfied: psutil>=5.9.0 in /usr/local/lib/python3.10/dist-packages (from pycaret) (5.9.5)\n",
            "Requirement already satisfied: markupsafe>=2.0.1 in /usr/local/lib/python3.10/dist-packages (from pycaret) (2.1.3)\n",
            "Requirement already satisfied: importlib-metadata>=4.12.0 in /usr/local/lib/python3.10/dist-packages (from pycaret) (6.8.0)\n",
            "Requirement already satisfied: nbformat>=4.2.0 in /usr/local/lib/python3.10/dist-packages (from pycaret) (5.9.2)\n",
            "Requirement already satisfied: cloudpickle in /usr/local/lib/python3.10/dist-packages (from pycaret) (2.2.1)\n",
            "Collecting deprecation>=2.1.0 (from pycaret)\n",
            "  Downloading deprecation-2.1.0-py2.py3-none-any.whl (11 kB)\n",
            "Collecting xxhash (from pycaret)\n",
            "  Downloading xxhash-3.3.0-cp310-cp310-manylinux_2_17_x86_64.manylinux2014_x86_64.whl (194 kB)\n",
            "\u001b[2K     \u001b[90m━━━━━━━━━━━━━━━━━━━━━━━━━━━━━━━━━━━━━━\u001b[0m \u001b[32m194.1/194.1 kB\u001b[0m \u001b[31m16.8 MB/s\u001b[0m eta \u001b[36m0:00:00\u001b[0m\n",
            "\u001b[?25hRequirement already satisfied: matplotlib>=3.3.0 in /usr/local/lib/python3.10/dist-packages (from pycaret) (3.7.1)\n",
            "Collecting scikit-plot>=0.3.7 (from pycaret)\n",
            "  Downloading scikit_plot-0.3.7-py3-none-any.whl (33 kB)\n",
            "Requirement already satisfied: yellowbrick>=1.4 in /usr/local/lib/python3.10/dist-packages (from pycaret) (1.5)\n",
            "Requirement already satisfied: plotly>=5.0.0 in /usr/local/lib/python3.10/dist-packages (from pycaret) (5.15.0)\n",
            "Collecting kaleido>=0.2.1 (from pycaret)\n",
            "  Downloading kaleido-0.2.1-py2.py3-none-manylinux1_x86_64.whl (79.9 MB)\n",
            "\u001b[2K     \u001b[90m━━━━━━━━━━━━━━━━━━━━━━━━━━━━━━━━━━━━━━━━\u001b[0m \u001b[32m79.9/79.9 MB\u001b[0m \u001b[31m11.8 MB/s\u001b[0m eta \u001b[36m0:00:00\u001b[0m\n",
            "\u001b[?25hCollecting schemdraw==0.15 (from pycaret)\n",
            "  Downloading schemdraw-0.15-py3-none-any.whl (106 kB)\n",
            "\u001b[2K     \u001b[90m━━━━━━━━━━━━━━━━━━━━━━━━━━━━━━━━━━━━━━\u001b[0m \u001b[32m106.8/106.8 kB\u001b[0m \u001b[31m10.5 MB/s\u001b[0m eta \u001b[36m0:00:00\u001b[0m\n",
            "\u001b[?25hCollecting plotly-resampler>=0.8.3.1 (from pycaret)\n",
            "  Downloading plotly_resampler-0.9.1-py3-none-any.whl (73 kB)\n",
            "\u001b[2K     \u001b[90m━━━━━━━━━━━━━━━━━━━━━━━━━━━━━━━━━━━━━━━━\u001b[0m \u001b[32m73.4/73.4 kB\u001b[0m \u001b[31m3.8 MB/s\u001b[0m eta \u001b[36m0:00:00\u001b[0m\n",
            "\u001b[?25hRequirement already satisfied: statsmodels>=0.12.1 in /usr/local/lib/python3.10/dist-packages (from pycaret) (0.14.0)\n",
            "Collecting sktime!=0.17.1,!=0.17.2,!=0.18.0,>=0.16.1 (from pycaret)\n",
            "  Downloading sktime-0.22.0-py3-none-any.whl (17.5 MB)\n",
            "\u001b[2K     \u001b[90m━━━━━━━━━━━━━━━━━━━━━━━━━━━━━━━━━━━━━━━━\u001b[0m \u001b[32m17.5/17.5 MB\u001b[0m \u001b[31m35.5 MB/s\u001b[0m eta \u001b[36m0:00:00\u001b[0m\n",
            "\u001b[?25hCollecting tbats>=1.1.3 (from pycaret)\n",
            "  Downloading tbats-1.1.3-py3-none-any.whl (44 kB)\n",
            "\u001b[2K     \u001b[90m━━━━━━━━━━━━━━━━━━━━━━━━━━━━━━━━━━━━━━━━\u001b[0m \u001b[32m44.0/44.0 kB\u001b[0m \u001b[31m5.0 MB/s\u001b[0m eta \u001b[36m0:00:00\u001b[0m\n",
            "\u001b[?25hCollecting pmdarima!=1.8.1,<3.0.0,>=1.8.0 (from pycaret)\n",
            "  Downloading pmdarima-2.0.3-cp310-cp310-manylinux_2_17_x86_64.manylinux2014_x86_64.manylinux_2_28_x86_64.whl (1.8 MB)\n",
            "\u001b[2K     \u001b[90m━━━━━━━━━━━━━━━━━━━━━━━━━━━━━━━━━━━━━━━━\u001b[0m \u001b[32m1.8/1.8 MB\u001b[0m \u001b[31m79.5 MB/s\u001b[0m eta \u001b[36m0:00:00\u001b[0m\n",
            "\u001b[?25hCollecting wurlitzer (from pycaret)\n",
            "  Downloading wurlitzer-3.0.3-py3-none-any.whl (7.3 kB)\n",
            "Requirement already satisfied: patsy>=0.5.1 in /usr/local/lib/python3.10/dist-packages (from category-encoders>=2.4.0->pycaret) (0.5.3)\n",
            "Requirement already satisfied: packaging in /usr/local/lib/python3.10/dist-packages (from deprecation>=2.1.0->pycaret) (23.1)\n",
            "Requirement already satisfied: threadpoolctl>=2.0.0 in /usr/local/lib/python3.10/dist-packages (from imbalanced-learn>=0.8.1->pycaret) (3.2.0)\n",
            "Requirement already satisfied: zipp>=0.5 in /usr/local/lib/python3.10/dist-packages (from importlib-metadata>=4.12.0->pycaret) (3.16.2)\n",
            "Requirement already satisfied: setuptools>=18.5 in /usr/local/lib/python3.10/dist-packages (from ipython>=5.5.0->pycaret) (67.7.2)\n",
            "Collecting jedi>=0.16 (from ipython>=5.5.0->pycaret)\n",
            "  Downloading jedi-0.19.0-py2.py3-none-any.whl (1.6 MB)\n",
            "\u001b[2K     \u001b[90m━━━━━━━━━━━━━━━━━━━━━━━━━━━━━━━━━━━━━━━━\u001b[0m \u001b[32m1.6/1.6 MB\u001b[0m \u001b[31m74.6 MB/s\u001b[0m eta \u001b[36m0:00:00\u001b[0m\n",
            "\u001b[?25hRequirement already satisfied: decorator in /usr/local/lib/python3.10/dist-packages (from ipython>=5.5.0->pycaret) (4.4.2)\n",
            "Requirement already satisfied: pickleshare in /usr/local/lib/python3.10/dist-packages (from ipython>=5.5.0->pycaret) (0.7.5)\n",
            "Requirement already satisfied: traitlets>=4.2 in /usr/local/lib/python3.10/dist-packages (from ipython>=5.5.0->pycaret) (5.7.1)\n",
            "Requirement already satisfied: prompt-toolkit!=3.0.0,!=3.0.1,<3.1.0,>=2.0.0 in /usr/local/lib/python3.10/dist-packages (from ipython>=5.5.0->pycaret) (3.0.39)\n",
            "Requirement already satisfied: pygments in /usr/local/lib/python3.10/dist-packages (from ipython>=5.5.0->pycaret) (2.16.1)\n",
            "Requirement already satisfied: backcall in /usr/local/lib/python3.10/dist-packages (from ipython>=5.5.0->pycaret) (0.2.0)\n",
            "Requirement already satisfied: matplotlib-inline in /usr/local/lib/python3.10/dist-packages (from ipython>=5.5.0->pycaret) (0.1.6)\n",
            "Requirement already satisfied: pexpect>4.3 in /usr/local/lib/python3.10/dist-packages (from ipython>=5.5.0->pycaret) (4.8.0)\n",
            "Requirement already satisfied: ipykernel>=4.5.1 in /usr/local/lib/python3.10/dist-packages (from ipywidgets>=7.6.5->pycaret) (5.5.6)\n",
            "Requirement already satisfied: ipython-genutils~=0.2.0 in /usr/local/lib/python3.10/dist-packages (from ipywidgets>=7.6.5->pycaret) (0.2.0)\n",
            "Requirement already satisfied: widgetsnbextension~=3.6.0 in /usr/local/lib/python3.10/dist-packages (from ipywidgets>=7.6.5->pycaret) (3.6.5)\n",
            "Requirement already satisfied: jupyterlab-widgets>=1.0.0 in /usr/local/lib/python3.10/dist-packages (from ipywidgets>=7.6.5->pycaret) (3.0.8)\n",
            "Requirement already satisfied: contourpy>=1.0.1 in /usr/local/lib/python3.10/dist-packages (from matplotlib>=3.3.0->pycaret) (1.1.0)\n",
            "Requirement already satisfied: cycler>=0.10 in /usr/local/lib/python3.10/dist-packages (from matplotlib>=3.3.0->pycaret) (0.11.0)\n",
            "Requirement already satisfied: fonttools>=4.22.0 in /usr/local/lib/python3.10/dist-packages (from matplotlib>=3.3.0->pycaret) (4.42.1)\n",
            "Requirement already satisfied: kiwisolver>=1.0.1 in /usr/local/lib/python3.10/dist-packages (from matplotlib>=3.3.0->pycaret) (1.4.5)\n",
            "Requirement already satisfied: pillow>=6.2.0 in /usr/local/lib/python3.10/dist-packages (from matplotlib>=3.3.0->pycaret) (9.4.0)\n",
            "Requirement already satisfied: pyparsing>=2.3.1 in /usr/local/lib/python3.10/dist-packages (from matplotlib>=3.3.0->pycaret) (3.1.1)\n",
            "Requirement already satisfied: python-dateutil>=2.7 in /usr/local/lib/python3.10/dist-packages (from matplotlib>=3.3.0->pycaret) (2.8.2)\n",
            "Requirement already satisfied: fastjsonschema in /usr/local/lib/python3.10/dist-packages (from nbformat>=4.2.0->pycaret) (2.18.0)\n",
            "Requirement already satisfied: jsonschema>=2.6 in /usr/local/lib/python3.10/dist-packages (from nbformat>=4.2.0->pycaret) (4.19.0)\n",
            "Requirement already satisfied: jupyter-core in /usr/local/lib/python3.10/dist-packages (from nbformat>=4.2.0->pycaret) (5.3.1)\n",
            "Requirement already satisfied: llvmlite<0.40,>=0.39.0dev0 in /usr/local/lib/python3.10/dist-packages (from numba>=0.55.0->pycaret) (0.39.1)\n",
            "Requirement already satisfied: pytz>=2020.1 in /usr/local/lib/python3.10/dist-packages (from pandas<2.0.0,>=1.3.0->pycaret) (2023.3.post1)\n",
            "Requirement already satisfied: tenacity>=6.2.0 in /usr/local/lib/python3.10/dist-packages (from plotly>=5.0.0->pycaret) (8.2.3)\n",
            "Collecting dash<3.0.0,>=2.11.0 (from plotly-resampler>=0.8.3.1->pycaret)\n",
            "  Downloading dash-2.13.0-py3-none-any.whl (10.4 MB)\n",
            "\u001b[2K     \u001b[90m━━━━━━━━━━━━━━━━━━━━━━━━━━━━━━━━━━━━━━━━\u001b[0m \u001b[32m10.4/10.4 MB\u001b[0m \u001b[31m82.6 MB/s\u001b[0m eta \u001b[36m0:00:00\u001b[0m\n",
            "\u001b[?25hCollecting orjson<4.0.0,>=3.8.0 (from plotly-resampler>=0.8.3.1->pycaret)\n",
            "  Downloading orjson-3.9.7-cp310-cp310-manylinux_2_17_x86_64.manylinux2014_x86_64.whl (138 kB)\n",
            "\u001b[2K     \u001b[90m━━━━━━━━━━━━━━━━━━━━━━━━━━━━━━━━━━━━━━\u001b[0m \u001b[32m138.7/138.7 kB\u001b[0m \u001b[31m15.3 MB/s\u001b[0m eta \u001b[36m0:00:00\u001b[0m\n",
            "\u001b[?25hCollecting trace-updater>=0.0.8 (from plotly-resampler>=0.8.3.1->pycaret)\n",
            "  Downloading trace_updater-0.0.9.1-py3-none-any.whl (185 kB)\n",
            "\u001b[2K     \u001b[90m━━━━━━━━━━━━━━━━━━━━━━━━━━━━━━━━━━━━━━\u001b[0m \u001b[32m185.2/185.2 kB\u001b[0m \u001b[31m19.6 MB/s\u001b[0m eta \u001b[36m0:00:00\u001b[0m\n",
            "\u001b[?25hCollecting tsdownsample==0.1.2 (from plotly-resampler>=0.8.3.1->pycaret)\n",
            "  Downloading tsdownsample-0.1.2-cp310-cp310-manylinux_2_17_x86_64.manylinux2014_x86_64.whl (2.3 MB)\n",
            "\u001b[2K     \u001b[90m━━━━━━━━━━━━━━━━━━━━━━━━━━━━━━━━━━━━━━━━\u001b[0m \u001b[32m2.3/2.3 MB\u001b[0m \u001b[31m82.6 MB/s\u001b[0m eta \u001b[36m0:00:00\u001b[0m\n",
            "\u001b[?25hRequirement already satisfied: Cython!=0.29.18,!=0.29.31,>=0.29 in /usr/local/lib/python3.10/dist-packages (from pmdarima!=1.8.1,<3.0.0,>=1.8.0->pycaret) (0.29.36)\n",
            "Requirement already satisfied: urllib3 in /usr/local/lib/python3.10/dist-packages (from pmdarima!=1.8.1,<3.0.0,>=1.8.0->pycaret) (2.0.4)\n",
            "Requirement already satisfied: six in /usr/local/lib/python3.10/dist-packages (from pyod>=1.0.8->pycaret) (1.16.0)\n",
            "Requirement already satisfied: charset-normalizer<4,>=2 in /usr/local/lib/python3.10/dist-packages (from requests>=2.27.1->pycaret) (3.2.0)\n",
            "Requirement already satisfied: idna<4,>=2.5 in /usr/local/lib/python3.10/dist-packages (from requests>=2.27.1->pycaret) (3.4)\n",
            "Requirement already satisfied: certifi>=2017.4.17 in /usr/local/lib/python3.10/dist-packages (from requests>=2.27.1->pycaret) (2023.7.22)\n",
            "Collecting scikit-base<0.6.0 (from sktime!=0.17.1,!=0.17.2,!=0.18.0,>=0.16.1->pycaret)\n",
            "  Downloading scikit_base-0.5.1-py3-none-any.whl (118 kB)\n",
            "\u001b[2K     \u001b[90m━━━━━━━━━━━━━━━━━━━━━━━━━━━━━━━━━━━━━━\u001b[0m \u001b[32m118.7/118.7 kB\u001b[0m \u001b[31m12.9 MB/s\u001b[0m eta \u001b[36m0:00:00\u001b[0m\n",
            "\u001b[?25hRequirement already satisfied: Flask<2.3.0,>=1.0.4 in /usr/local/lib/python3.10/dist-packages (from dash<3.0.0,>=2.11.0->plotly-resampler>=0.8.3.1->pycaret) (2.2.5)\n",
            "Collecting Werkzeug<2.3.0 (from dash<3.0.0,>=2.11.0->plotly-resampler>=0.8.3.1->pycaret)\n",
            "  Downloading Werkzeug-2.2.3-py3-none-any.whl (233 kB)\n",
            "\u001b[2K     \u001b[90m━━━━━━━━━━━━━━━━━━━━━━━━━━━━━━━━━━━━━━\u001b[0m \u001b[32m233.6/233.6 kB\u001b[0m \u001b[31m21.5 MB/s\u001b[0m eta \u001b[36m0:00:00\u001b[0m\n",
            "\u001b[?25hCollecting dash-html-components==2.0.0 (from dash<3.0.0,>=2.11.0->plotly-resampler>=0.8.3.1->pycaret)\n",
            "  Downloading dash_html_components-2.0.0-py3-none-any.whl (4.1 kB)\n",
            "Collecting dash-core-components==2.0.0 (from dash<3.0.0,>=2.11.0->plotly-resampler>=0.8.3.1->pycaret)\n",
            "  Downloading dash_core_components-2.0.0-py3-none-any.whl (3.8 kB)\n",
            "Collecting dash-table==5.0.0 (from dash<3.0.0,>=2.11.0->plotly-resampler>=0.8.3.1->pycaret)\n",
            "  Downloading dash_table-5.0.0-py3-none-any.whl (3.9 kB)\n",
            "Requirement already satisfied: typing-extensions>=4.1.1 in /usr/local/lib/python3.10/dist-packages (from dash<3.0.0,>=2.11.0->plotly-resampler>=0.8.3.1->pycaret) (4.5.0)\n",
            "Collecting retrying (from dash<3.0.0,>=2.11.0->plotly-resampler>=0.8.3.1->pycaret)\n",
            "  Downloading retrying-1.3.4-py3-none-any.whl (11 kB)\n",
            "Collecting ansi2html (from dash<3.0.0,>=2.11.0->plotly-resampler>=0.8.3.1->pycaret)\n",
            "  Downloading ansi2html-1.8.0-py3-none-any.whl (16 kB)\n",
            "Requirement already satisfied: nest-asyncio in /usr/local/lib/python3.10/dist-packages (from dash<3.0.0,>=2.11.0->plotly-resampler>=0.8.3.1->pycaret) (1.5.7)\n",
            "Requirement already satisfied: jupyter-client in /usr/local/lib/python3.10/dist-packages (from ipykernel>=4.5.1->ipywidgets>=7.6.5->pycaret) (6.1.12)\n",
            "Requirement already satisfied: tornado>=4.2 in /usr/local/lib/python3.10/dist-packages (from ipykernel>=4.5.1->ipywidgets>=7.6.5->pycaret) (6.3.2)\n",
            "Requirement already satisfied: parso<0.9.0,>=0.8.3 in /usr/local/lib/python3.10/dist-packages (from jedi>=0.16->ipython>=5.5.0->pycaret) (0.8.3)\n",
            "Requirement already satisfied: attrs>=22.2.0 in /usr/local/lib/python3.10/dist-packages (from jsonschema>=2.6->nbformat>=4.2.0->pycaret) (23.1.0)\n",
            "Requirement already satisfied: jsonschema-specifications>=2023.03.6 in /usr/local/lib/python3.10/dist-packages (from jsonschema>=2.6->nbformat>=4.2.0->pycaret) (2023.7.1)\n",
            "Requirement already satisfied: referencing>=0.28.4 in /usr/local/lib/python3.10/dist-packages (from jsonschema>=2.6->nbformat>=4.2.0->pycaret) (0.30.2)\n",
            "Requirement already satisfied: rpds-py>=0.7.1 in /usr/local/lib/python3.10/dist-packages (from jsonschema>=2.6->nbformat>=4.2.0->pycaret) (0.10.2)\n",
            "Requirement already satisfied: ptyprocess>=0.5 in /usr/local/lib/python3.10/dist-packages (from pexpect>4.3->ipython>=5.5.0->pycaret) (0.7.0)\n",
            "Requirement already satisfied: wcwidth in /usr/local/lib/python3.10/dist-packages (from prompt-toolkit!=3.0.0,!=3.0.1,<3.1.0,>=2.0.0->ipython>=5.5.0->pycaret) (0.2.6)\n",
            "Requirement already satisfied: notebook>=4.4.1 in /usr/local/lib/python3.10/dist-packages (from widgetsnbextension~=3.6.0->ipywidgets>=7.6.5->pycaret) (6.5.5)\n",
            "Requirement already satisfied: platformdirs>=2.5 in /usr/local/lib/python3.10/dist-packages (from jupyter-core->nbformat>=4.2.0->pycaret) (3.10.0)\n",
            "Requirement already satisfied: itsdangerous>=2.0 in /usr/local/lib/python3.10/dist-packages (from Flask<2.3.0,>=1.0.4->dash<3.0.0,>=2.11.0->plotly-resampler>=0.8.3.1->pycaret) (2.1.2)\n",
            "Requirement already satisfied: click>=8.0 in /usr/local/lib/python3.10/dist-packages (from Flask<2.3.0,>=1.0.4->dash<3.0.0,>=2.11.0->plotly-resampler>=0.8.3.1->pycaret) (8.1.7)\n",
            "Requirement already satisfied: pyzmq<25,>=17 in /usr/local/lib/python3.10/dist-packages (from notebook>=4.4.1->widgetsnbextension~=3.6.0->ipywidgets>=7.6.5->pycaret) (23.2.1)\n",
            "Requirement already satisfied: argon2-cffi in /usr/local/lib/python3.10/dist-packages (from notebook>=4.4.1->widgetsnbextension~=3.6.0->ipywidgets>=7.6.5->pycaret) (23.1.0)\n",
            "Requirement already satisfied: nbconvert>=5 in /usr/local/lib/python3.10/dist-packages (from notebook>=4.4.1->widgetsnbextension~=3.6.0->ipywidgets>=7.6.5->pycaret) (6.5.4)\n",
            "Requirement already satisfied: Send2Trash>=1.8.0 in /usr/local/lib/python3.10/dist-packages (from notebook>=4.4.1->widgetsnbextension~=3.6.0->ipywidgets>=7.6.5->pycaret) (1.8.2)\n",
            "Requirement already satisfied: terminado>=0.8.3 in /usr/local/lib/python3.10/dist-packages (from notebook>=4.4.1->widgetsnbextension~=3.6.0->ipywidgets>=7.6.5->pycaret) (0.17.1)\n",
            "Requirement already satisfied: prometheus-client in /usr/local/lib/python3.10/dist-packages (from notebook>=4.4.1->widgetsnbextension~=3.6.0->ipywidgets>=7.6.5->pycaret) (0.17.1)\n",
            "Requirement already satisfied: nbclassic>=0.4.7 in /usr/local/lib/python3.10/dist-packages (from notebook>=4.4.1->widgetsnbextension~=3.6.0->ipywidgets>=7.6.5->pycaret) (1.0.0)\n",
            "Requirement already satisfied: jupyter-server>=1.8 in /usr/local/lib/python3.10/dist-packages (from nbclassic>=0.4.7->notebook>=4.4.1->widgetsnbextension~=3.6.0->ipywidgets>=7.6.5->pycaret) (1.24.0)\n",
            "Requirement already satisfied: notebook-shim>=0.2.3 in /usr/local/lib/python3.10/dist-packages (from nbclassic>=0.4.7->notebook>=4.4.1->widgetsnbextension~=3.6.0->ipywidgets>=7.6.5->pycaret) (0.2.3)\n",
            "Requirement already satisfied: lxml in /usr/local/lib/python3.10/dist-packages (from nbconvert>=5->notebook>=4.4.1->widgetsnbextension~=3.6.0->ipywidgets>=7.6.5->pycaret) (4.9.3)\n",
            "Requirement already satisfied: beautifulsoup4 in /usr/local/lib/python3.10/dist-packages (from nbconvert>=5->notebook>=4.4.1->widgetsnbextension~=3.6.0->ipywidgets>=7.6.5->pycaret) (4.11.2)\n",
            "Requirement already satisfied: bleach in /usr/local/lib/python3.10/dist-packages (from nbconvert>=5->notebook>=4.4.1->widgetsnbextension~=3.6.0->ipywidgets>=7.6.5->pycaret) (6.0.0)\n",
            "Requirement already satisfied: defusedxml in /usr/local/lib/python3.10/dist-packages (from nbconvert>=5->notebook>=4.4.1->widgetsnbextension~=3.6.0->ipywidgets>=7.6.5->pycaret) (0.7.1)\n",
            "Requirement already satisfied: entrypoints>=0.2.2 in /usr/local/lib/python3.10/dist-packages (from nbconvert>=5->notebook>=4.4.1->widgetsnbextension~=3.6.0->ipywidgets>=7.6.5->pycaret) (0.4)\n",
            "Requirement already satisfied: jupyterlab-pygments in /usr/local/lib/python3.10/dist-packages (from nbconvert>=5->notebook>=4.4.1->widgetsnbextension~=3.6.0->ipywidgets>=7.6.5->pycaret) (0.2.2)\n",
            "Requirement already satisfied: mistune<2,>=0.8.1 in /usr/local/lib/python3.10/dist-packages (from nbconvert>=5->notebook>=4.4.1->widgetsnbextension~=3.6.0->ipywidgets>=7.6.5->pycaret) (0.8.4)\n",
            "Requirement already satisfied: nbclient>=0.5.0 in /usr/local/lib/python3.10/dist-packages (from nbconvert>=5->notebook>=4.4.1->widgetsnbextension~=3.6.0->ipywidgets>=7.6.5->pycaret) (0.8.0)\n",
            "Requirement already satisfied: pandocfilters>=1.4.1 in /usr/local/lib/python3.10/dist-packages (from nbconvert>=5->notebook>=4.4.1->widgetsnbextension~=3.6.0->ipywidgets>=7.6.5->pycaret) (1.5.0)\n",
            "Requirement already satisfied: tinycss2 in /usr/local/lib/python3.10/dist-packages (from nbconvert>=5->notebook>=4.4.1->widgetsnbextension~=3.6.0->ipywidgets>=7.6.5->pycaret) (1.2.1)\n",
            "Requirement already satisfied: argon2-cffi-bindings in /usr/local/lib/python3.10/dist-packages (from argon2-cffi->notebook>=4.4.1->widgetsnbextension~=3.6.0->ipywidgets>=7.6.5->pycaret) (21.2.0)\n",
            "Requirement already satisfied: anyio<4,>=3.1.0 in /usr/local/lib/python3.10/dist-packages (from jupyter-server>=1.8->nbclassic>=0.4.7->notebook>=4.4.1->widgetsnbextension~=3.6.0->ipywidgets>=7.6.5->pycaret) (3.7.1)\n",
            "Requirement already satisfied: websocket-client in /usr/local/lib/python3.10/dist-packages (from jupyter-server>=1.8->nbclassic>=0.4.7->notebook>=4.4.1->widgetsnbextension~=3.6.0->ipywidgets>=7.6.5->pycaret) (1.6.2)\n",
            "Requirement already satisfied: cffi>=1.0.1 in /usr/local/lib/python3.10/dist-packages (from argon2-cffi-bindings->argon2-cffi->notebook>=4.4.1->widgetsnbextension~=3.6.0->ipywidgets>=7.6.5->pycaret) (1.15.1)\n",
            "Requirement already satisfied: soupsieve>1.2 in /usr/local/lib/python3.10/dist-packages (from beautifulsoup4->nbconvert>=5->notebook>=4.4.1->widgetsnbextension~=3.6.0->ipywidgets>=7.6.5->pycaret) (2.5)\n",
            "Requirement already satisfied: webencodings in /usr/local/lib/python3.10/dist-packages (from bleach->nbconvert>=5->notebook>=4.4.1->widgetsnbextension~=3.6.0->ipywidgets>=7.6.5->pycaret) (0.5.1)\n",
            "Requirement already satisfied: sniffio>=1.1 in /usr/local/lib/python3.10/dist-packages (from anyio<4,>=3.1.0->jupyter-server>=1.8->nbclassic>=0.4.7->notebook>=4.4.1->widgetsnbextension~=3.6.0->ipywidgets>=7.6.5->pycaret) (1.3.0)\n",
            "Requirement already satisfied: exceptiongroup in /usr/local/lib/python3.10/dist-packages (from anyio<4,>=3.1.0->jupyter-server>=1.8->nbclassic>=0.4.7->notebook>=4.4.1->widgetsnbextension~=3.6.0->ipywidgets>=7.6.5->pycaret) (1.1.3)\n",
            "Requirement already satisfied: pycparser in /usr/local/lib/python3.10/dist-packages (from cffi>=1.0.1->argon2-cffi-bindings->argon2-cffi->notebook>=4.4.1->widgetsnbextension~=3.6.0->ipywidgets>=7.6.5->pycaret) (2.21)\n",
            "Building wheels for collected packages: pyod\n",
            "  Building wheel for pyod (setup.py) ... \u001b[?25l\u001b[?25hdone\n",
            "  Created wheel for pyod: filename=pyod-1.1.0-py3-none-any.whl size=185329 sha256=1aeeac72382113f9f7b922d16421b312ec537c97d0f8d8ef2f2978ca31366947\n",
            "  Stored in directory: /root/.cache/pip/wheels/36/8e/e2/e932956b10b843eb6be9eefa70b5c1bee7b561be14c423b136\n",
            "Successfully built pyod\n",
            "Installing collected packages: trace-updater, kaleido, dash-table, dash-html-components, dash-core-components, xxhash, wurlitzer, Werkzeug, tsdownsample, scikit-base, schemdraw, retrying, orjson, jedi, deprecation, ansi2html, sktime, scikit-plot, pyod, dash, pmdarima, plotly-resampler, category-encoders, tbats, pycaret\n",
            "  Attempting uninstall: Werkzeug\n",
            "    Found existing installation: Werkzeug 2.3.7\n",
            "    Uninstalling Werkzeug-2.3.7:\n",
            "      Successfully uninstalled Werkzeug-2.3.7\n",
            "Successfully installed Werkzeug-2.2.3 ansi2html-1.8.0 category-encoders-2.6.2 dash-2.13.0 dash-core-components-2.0.0 dash-html-components-2.0.0 dash-table-5.0.0 deprecation-2.1.0 jedi-0.19.0 kaleido-0.2.1 orjson-3.9.7 plotly-resampler-0.9.1 pmdarima-2.0.3 pycaret-3.0.4 pyod-1.1.0 retrying-1.3.4 schemdraw-0.15 scikit-base-0.5.1 scikit-plot-0.3.7 sktime-0.22.0 tbats-1.1.3 trace-updater-0.0.9.1 tsdownsample-0.1.2 wurlitzer-3.0.3 xxhash-3.3.0\n"
          ]
        }
      ],
      "source": [
        "! pip install pycaret\n"
      ]
    },
    {
      "cell_type": "code",
      "source": [
        "# check installed version\n",
        "import pycaret\n",
        "pycaret.__version__"
      ],
      "metadata": {
        "colab": {
          "base_uri": "https://localhost:8080/",
          "height": 35
        },
        "id": "tlN9-uNDAqj-",
        "outputId": "95231b84-4481-4009-fd72-a5cab23fc0e3"
      },
      "execution_count": null,
      "outputs": [
        {
          "output_type": "execute_result",
          "data": {
            "text/plain": [
              "'3.0.4'"
            ],
            "application/vnd.google.colaboratory.intrinsic+json": {
              "type": "string"
            }
          },
          "metadata": {},
          "execution_count": 2
        }
      ]
    },
    {
      "cell_type": "markdown",
      "source": [
        "**Task 1**\n",
        "▶\n",
        "**Binary Classification Using Pycaret**\n",
        "\n",
        "*Data Set: loan Default Dataset*"
      ],
      "metadata": {
        "id": "kKlH8KEaBm5R"
      }
    },
    {
      "cell_type": "code",
      "source": [
        "import pandas as pd\n",
        "from pycaret.classification import *\n",
        "\n",
        "data = pd.read_csv('/content/lending_club_loan_dataset_Binary_Classification.csv')\n"
      ],
      "metadata": {
        "id": "DkzfcbNICQiH"
      },
      "execution_count": null,
      "outputs": []
    },
    {
      "cell_type": "markdown",
      "source": [
        "Initialize PyCaret:\n",
        "\n",
        "Initialize PyCaret with laon defaulters dataset.\n",
        "\n",
        "\n"
      ],
      "metadata": {
        "id": "GyT2Qix9C0Es"
      }
    },
    {
      "cell_type": "code",
      "source": [
        "clf1 = setup(data, target='bad_loan')\n"
      ],
      "metadata": {
        "colab": {
          "base_uri": "https://localhost:8080/",
          "height": 770
        },
        "id": "AomFdJAyC8Zk",
        "outputId": "c9a5e1ac-4290-4ef9-e6d9-5b308f522ed8"
      },
      "execution_count": null,
      "outputs": [
        {
          "output_type": "display_data",
          "data": {
            "text/plain": [
              "<pandas.io.formats.style.Styler at 0x7e87ae0e31c0>"
            ],
            "text/html": [
              "<style type=\"text/css\">\n",
              "#T_585cd_row10_col1 {\n",
              "  background-color: lightgreen;\n",
              "}\n",
              "</style>\n",
              "<table id=\"T_585cd\" class=\"dataframe\">\n",
              "  <thead>\n",
              "    <tr>\n",
              "      <th class=\"blank level0\" >&nbsp;</th>\n",
              "      <th id=\"T_585cd_level0_col0\" class=\"col_heading level0 col0\" >Description</th>\n",
              "      <th id=\"T_585cd_level0_col1\" class=\"col_heading level0 col1\" >Value</th>\n",
              "    </tr>\n",
              "  </thead>\n",
              "  <tbody>\n",
              "    <tr>\n",
              "      <th id=\"T_585cd_level0_row0\" class=\"row_heading level0 row0\" >0</th>\n",
              "      <td id=\"T_585cd_row0_col0\" class=\"data row0 col0\" >Session id</td>\n",
              "      <td id=\"T_585cd_row0_col1\" class=\"data row0 col1\" >8406</td>\n",
              "    </tr>\n",
              "    <tr>\n",
              "      <th id=\"T_585cd_level0_row1\" class=\"row_heading level0 row1\" >1</th>\n",
              "      <td id=\"T_585cd_row1_col0\" class=\"data row1 col0\" >Target</td>\n",
              "      <td id=\"T_585cd_row1_col1\" class=\"data row1 col1\" >bad_loan</td>\n",
              "    </tr>\n",
              "    <tr>\n",
              "      <th id=\"T_585cd_level0_row2\" class=\"row_heading level0 row2\" >2</th>\n",
              "      <td id=\"T_585cd_row2_col0\" class=\"data row2 col0\" >Target type</td>\n",
              "      <td id=\"T_585cd_row2_col1\" class=\"data row2 col1\" >Binary</td>\n",
              "    </tr>\n",
              "    <tr>\n",
              "      <th id=\"T_585cd_level0_row3\" class=\"row_heading level0 row3\" >3</th>\n",
              "      <td id=\"T_585cd_row3_col0\" class=\"data row3 col0\" >Original data shape</td>\n",
              "      <td id=\"T_585cd_row3_col1\" class=\"data row3 col1\" >(20000, 15)</td>\n",
              "    </tr>\n",
              "    <tr>\n",
              "      <th id=\"T_585cd_level0_row4\" class=\"row_heading level0 row4\" >4</th>\n",
              "      <td id=\"T_585cd_row4_col0\" class=\"data row4 col0\" >Transformed data shape</td>\n",
              "      <td id=\"T_585cd_row4_col1\" class=\"data row4 col1\" >(20000, 36)</td>\n",
              "    </tr>\n",
              "    <tr>\n",
              "      <th id=\"T_585cd_level0_row5\" class=\"row_heading level0 row5\" >5</th>\n",
              "      <td id=\"T_585cd_row5_col0\" class=\"data row5 col0\" >Transformed train set shape</td>\n",
              "      <td id=\"T_585cd_row5_col1\" class=\"data row5 col1\" >(14000, 36)</td>\n",
              "    </tr>\n",
              "    <tr>\n",
              "      <th id=\"T_585cd_level0_row6\" class=\"row_heading level0 row6\" >6</th>\n",
              "      <td id=\"T_585cd_row6_col0\" class=\"data row6 col0\" >Transformed test set shape</td>\n",
              "      <td id=\"T_585cd_row6_col1\" class=\"data row6 col1\" >(6000, 36)</td>\n",
              "    </tr>\n",
              "    <tr>\n",
              "      <th id=\"T_585cd_level0_row7\" class=\"row_heading level0 row7\" >7</th>\n",
              "      <td id=\"T_585cd_row7_col0\" class=\"data row7 col0\" >Numeric features</td>\n",
              "      <td id=\"T_585cd_row7_col1\" class=\"data row7 col1\" >10</td>\n",
              "    </tr>\n",
              "    <tr>\n",
              "      <th id=\"T_585cd_level0_row8\" class=\"row_heading level0 row8\" >8</th>\n",
              "      <td id=\"T_585cd_row8_col0\" class=\"data row8 col0\" >Categorical features</td>\n",
              "      <td id=\"T_585cd_row8_col1\" class=\"data row8 col1\" >4</td>\n",
              "    </tr>\n",
              "    <tr>\n",
              "      <th id=\"T_585cd_level0_row9\" class=\"row_heading level0 row9\" >9</th>\n",
              "      <td id=\"T_585cd_row9_col0\" class=\"data row9 col0\" >Rows with missing values</td>\n",
              "      <td id=\"T_585cd_row9_col1\" class=\"data row9 col1\" >97.4%</td>\n",
              "    </tr>\n",
              "    <tr>\n",
              "      <th id=\"T_585cd_level0_row10\" class=\"row_heading level0 row10\" >10</th>\n",
              "      <td id=\"T_585cd_row10_col0\" class=\"data row10 col0\" >Preprocess</td>\n",
              "      <td id=\"T_585cd_row10_col1\" class=\"data row10 col1\" >True</td>\n",
              "    </tr>\n",
              "    <tr>\n",
              "      <th id=\"T_585cd_level0_row11\" class=\"row_heading level0 row11\" >11</th>\n",
              "      <td id=\"T_585cd_row11_col0\" class=\"data row11 col0\" >Imputation type</td>\n",
              "      <td id=\"T_585cd_row11_col1\" class=\"data row11 col1\" >simple</td>\n",
              "    </tr>\n",
              "    <tr>\n",
              "      <th id=\"T_585cd_level0_row12\" class=\"row_heading level0 row12\" >12</th>\n",
              "      <td id=\"T_585cd_row12_col0\" class=\"data row12 col0\" >Numeric imputation</td>\n",
              "      <td id=\"T_585cd_row12_col1\" class=\"data row12 col1\" >mean</td>\n",
              "    </tr>\n",
              "    <tr>\n",
              "      <th id=\"T_585cd_level0_row13\" class=\"row_heading level0 row13\" >13</th>\n",
              "      <td id=\"T_585cd_row13_col0\" class=\"data row13 col0\" >Categorical imputation</td>\n",
              "      <td id=\"T_585cd_row13_col1\" class=\"data row13 col1\" >mode</td>\n",
              "    </tr>\n",
              "    <tr>\n",
              "      <th id=\"T_585cd_level0_row14\" class=\"row_heading level0 row14\" >14</th>\n",
              "      <td id=\"T_585cd_row14_col0\" class=\"data row14 col0\" >Maximum one-hot encoding</td>\n",
              "      <td id=\"T_585cd_row14_col1\" class=\"data row14 col1\" >25</td>\n",
              "    </tr>\n",
              "    <tr>\n",
              "      <th id=\"T_585cd_level0_row15\" class=\"row_heading level0 row15\" >15</th>\n",
              "      <td id=\"T_585cd_row15_col0\" class=\"data row15 col0\" >Encoding method</td>\n",
              "      <td id=\"T_585cd_row15_col1\" class=\"data row15 col1\" >None</td>\n",
              "    </tr>\n",
              "    <tr>\n",
              "      <th id=\"T_585cd_level0_row16\" class=\"row_heading level0 row16\" >16</th>\n",
              "      <td id=\"T_585cd_row16_col0\" class=\"data row16 col0\" >Fold Generator</td>\n",
              "      <td id=\"T_585cd_row16_col1\" class=\"data row16 col1\" >StratifiedKFold</td>\n",
              "    </tr>\n",
              "    <tr>\n",
              "      <th id=\"T_585cd_level0_row17\" class=\"row_heading level0 row17\" >17</th>\n",
              "      <td id=\"T_585cd_row17_col0\" class=\"data row17 col0\" >Fold Number</td>\n",
              "      <td id=\"T_585cd_row17_col1\" class=\"data row17 col1\" >10</td>\n",
              "    </tr>\n",
              "    <tr>\n",
              "      <th id=\"T_585cd_level0_row18\" class=\"row_heading level0 row18\" >18</th>\n",
              "      <td id=\"T_585cd_row18_col0\" class=\"data row18 col0\" >CPU Jobs</td>\n",
              "      <td id=\"T_585cd_row18_col1\" class=\"data row18 col1\" >-1</td>\n",
              "    </tr>\n",
              "    <tr>\n",
              "      <th id=\"T_585cd_level0_row19\" class=\"row_heading level0 row19\" >19</th>\n",
              "      <td id=\"T_585cd_row19_col0\" class=\"data row19 col0\" >Use GPU</td>\n",
              "      <td id=\"T_585cd_row19_col1\" class=\"data row19 col1\" >False</td>\n",
              "    </tr>\n",
              "    <tr>\n",
              "      <th id=\"T_585cd_level0_row20\" class=\"row_heading level0 row20\" >20</th>\n",
              "      <td id=\"T_585cd_row20_col0\" class=\"data row20 col0\" >Log Experiment</td>\n",
              "      <td id=\"T_585cd_row20_col1\" class=\"data row20 col1\" >False</td>\n",
              "    </tr>\n",
              "    <tr>\n",
              "      <th id=\"T_585cd_level0_row21\" class=\"row_heading level0 row21\" >21</th>\n",
              "      <td id=\"T_585cd_row21_col0\" class=\"data row21 col0\" >Experiment Name</td>\n",
              "      <td id=\"T_585cd_row21_col1\" class=\"data row21 col1\" >clf-default-name</td>\n",
              "    </tr>\n",
              "    <tr>\n",
              "      <th id=\"T_585cd_level0_row22\" class=\"row_heading level0 row22\" >22</th>\n",
              "      <td id=\"T_585cd_row22_col0\" class=\"data row22 col0\" >USI</td>\n",
              "      <td id=\"T_585cd_row22_col1\" class=\"data row22 col1\" >251d</td>\n",
              "    </tr>\n",
              "  </tbody>\n",
              "</table>\n"
            ]
          },
          "metadata": {}
        }
      ]
    },
    {
      "cell_type": "markdown",
      "source": [
        "**Train and Evaluate Models**\n",
        "\n",
        "Compare multiple classification models and choose the best one:"
      ],
      "metadata": {
        "id": "w29vb2ciEwAa"
      }
    },
    {
      "cell_type": "code",
      "source": [
        "best_model = compare_models()\n"
      ],
      "metadata": {
        "colab": {
          "base_uri": "https://localhost:8080/",
          "height": 519,
          "referenced_widgets": [
            "67c2c01457ac40e08827bd372516159a",
            "80488eb3765f4a9ebff0f3bb6fdff2e9",
            "09175416b34b409b84c3d99441526b1b",
            "ad1cc685f7fe4c70b8798cdce78b02cd",
            "8dd54570ee144ba59970c5f210fa68fd",
            "89d96aed67594832a87cd409d35309fb",
            "ec5b793d45f74cffbf3f49b23070a183",
            "e5815d03e87f428b890f00459299b11e",
            "1145c96791be4d2abad2cc4f754299ff",
            "2286516d1324452d9b49352dfc2c34cf",
            "365e3910db034404827b4a9ea3ddf251"
          ]
        },
        "id": "0DGmTwzVE2rP",
        "outputId": "5e60f3e7-ee4a-4681-f8ab-4fbac4441eb7"
      },
      "execution_count": null,
      "outputs": [
        {
          "output_type": "display_data",
          "data": {
            "text/plain": [
              "<IPython.core.display.HTML object>"
            ],
            "text/html": []
          },
          "metadata": {}
        },
        {
          "output_type": "display_data",
          "data": {
            "text/plain": [
              "<pandas.io.formats.style.Styler at 0x7e87d3b7d930>"
            ],
            "text/html": [
              "<style type=\"text/css\">\n",
              "#T_493ca th {\n",
              "  text-align: left;\n",
              "}\n",
              "#T_493ca_row0_col0, #T_493ca_row0_col2, #T_493ca_row0_col3, #T_493ca_row0_col5, #T_493ca_row0_col6, #T_493ca_row0_col7, #T_493ca_row1_col0, #T_493ca_row1_col1, #T_493ca_row1_col3, #T_493ca_row1_col4, #T_493ca_row1_col5, #T_493ca_row1_col6, #T_493ca_row1_col7, #T_493ca_row2_col0, #T_493ca_row2_col1, #T_493ca_row2_col2, #T_493ca_row2_col3, #T_493ca_row2_col4, #T_493ca_row2_col5, #T_493ca_row2_col6, #T_493ca_row3_col0, #T_493ca_row3_col1, #T_493ca_row3_col2, #T_493ca_row3_col3, #T_493ca_row3_col4, #T_493ca_row3_col5, #T_493ca_row3_col6, #T_493ca_row3_col7, #T_493ca_row4_col0, #T_493ca_row4_col1, #T_493ca_row4_col2, #T_493ca_row4_col3, #T_493ca_row4_col4, #T_493ca_row4_col5, #T_493ca_row4_col6, #T_493ca_row4_col7, #T_493ca_row5_col0, #T_493ca_row5_col1, #T_493ca_row5_col2, #T_493ca_row5_col3, #T_493ca_row5_col4, #T_493ca_row5_col5, #T_493ca_row5_col6, #T_493ca_row5_col7, #T_493ca_row6_col0, #T_493ca_row6_col1, #T_493ca_row6_col2, #T_493ca_row6_col3, #T_493ca_row6_col4, #T_493ca_row6_col5, #T_493ca_row6_col6, #T_493ca_row6_col7, #T_493ca_row7_col0, #T_493ca_row7_col1, #T_493ca_row7_col2, #T_493ca_row7_col3, #T_493ca_row7_col4, #T_493ca_row7_col5, #T_493ca_row7_col6, #T_493ca_row7_col7, #T_493ca_row8_col0, #T_493ca_row8_col1, #T_493ca_row8_col2, #T_493ca_row8_col3, #T_493ca_row8_col4, #T_493ca_row8_col5, #T_493ca_row8_col6, #T_493ca_row8_col7, #T_493ca_row9_col0, #T_493ca_row9_col1, #T_493ca_row9_col2, #T_493ca_row9_col3, #T_493ca_row9_col4, #T_493ca_row9_col5, #T_493ca_row9_col6, #T_493ca_row9_col7, #T_493ca_row10_col0, #T_493ca_row10_col1, #T_493ca_row10_col2, #T_493ca_row10_col3, #T_493ca_row10_col4, #T_493ca_row10_col5, #T_493ca_row10_col6, #T_493ca_row10_col7, #T_493ca_row11_col0, #T_493ca_row11_col1, #T_493ca_row11_col2, #T_493ca_row11_col3, #T_493ca_row11_col4, #T_493ca_row11_col5, #T_493ca_row11_col6, #T_493ca_row11_col7, #T_493ca_row12_col0, #T_493ca_row12_col1, #T_493ca_row12_col2, #T_493ca_row12_col3, #T_493ca_row12_col4, #T_493ca_row12_col7, #T_493ca_row13_col0, #T_493ca_row13_col1, #T_493ca_row13_col2, #T_493ca_row13_col4, #T_493ca_row13_col5, #T_493ca_row13_col6, #T_493ca_row13_col7, #T_493ca_row14_col0, #T_493ca_row14_col1, #T_493ca_row14_col2, #T_493ca_row14_col3, #T_493ca_row14_col4, #T_493ca_row14_col5, #T_493ca_row14_col6, #T_493ca_row14_col7 {\n",
              "  text-align: left;\n",
              "}\n",
              "#T_493ca_row0_col1, #T_493ca_row0_col4, #T_493ca_row1_col2, #T_493ca_row2_col7, #T_493ca_row12_col5, #T_493ca_row12_col6, #T_493ca_row13_col3 {\n",
              "  text-align: left;\n",
              "  background-color: yellow;\n",
              "}\n",
              "#T_493ca_row0_col8 {\n",
              "  text-align: left;\n",
              "  background-color: yellow;\n",
              "  background-color: lightgrey;\n",
              "}\n",
              "#T_493ca_row1_col8, #T_493ca_row2_col8, #T_493ca_row3_col8, #T_493ca_row4_col8, #T_493ca_row5_col8, #T_493ca_row6_col8, #T_493ca_row7_col8, #T_493ca_row8_col8, #T_493ca_row9_col8, #T_493ca_row10_col8, #T_493ca_row11_col8, #T_493ca_row12_col8, #T_493ca_row13_col8, #T_493ca_row14_col8 {\n",
              "  text-align: left;\n",
              "  background-color: lightgrey;\n",
              "}\n",
              "</style>\n",
              "<table id=\"T_493ca\" class=\"dataframe\">\n",
              "  <thead>\n",
              "    <tr>\n",
              "      <th class=\"blank level0\" >&nbsp;</th>\n",
              "      <th id=\"T_493ca_level0_col0\" class=\"col_heading level0 col0\" >Model</th>\n",
              "      <th id=\"T_493ca_level0_col1\" class=\"col_heading level0 col1\" >Accuracy</th>\n",
              "      <th id=\"T_493ca_level0_col2\" class=\"col_heading level0 col2\" >AUC</th>\n",
              "      <th id=\"T_493ca_level0_col3\" class=\"col_heading level0 col3\" >Recall</th>\n",
              "      <th id=\"T_493ca_level0_col4\" class=\"col_heading level0 col4\" >Prec.</th>\n",
              "      <th id=\"T_493ca_level0_col5\" class=\"col_heading level0 col5\" >F1</th>\n",
              "      <th id=\"T_493ca_level0_col6\" class=\"col_heading level0 col6\" >Kappa</th>\n",
              "      <th id=\"T_493ca_level0_col7\" class=\"col_heading level0 col7\" >MCC</th>\n",
              "      <th id=\"T_493ca_level0_col8\" class=\"col_heading level0 col8\" >TT (Sec)</th>\n",
              "    </tr>\n",
              "  </thead>\n",
              "  <tbody>\n",
              "    <tr>\n",
              "      <th id=\"T_493ca_level0_row0\" class=\"row_heading level0 row0\" >ridge</th>\n",
              "      <td id=\"T_493ca_row0_col0\" class=\"data row0 col0\" >Ridge Classifier</td>\n",
              "      <td id=\"T_493ca_row0_col1\" class=\"data row0 col1\" >0.8046</td>\n",
              "      <td id=\"T_493ca_row0_col2\" class=\"data row0 col2\" >0.0000</td>\n",
              "      <td id=\"T_493ca_row0_col3\" class=\"data row0 col3\" >0.0368</td>\n",
              "      <td id=\"T_493ca_row0_col4\" class=\"data row0 col4\" >0.7412</td>\n",
              "      <td id=\"T_493ca_row0_col5\" class=\"data row0 col5\" >0.0700</td>\n",
              "      <td id=\"T_493ca_row0_col6\" class=\"data row0 col6\" >0.0518</td>\n",
              "      <td id=\"T_493ca_row0_col7\" class=\"data row0 col7\" >0.1344</td>\n",
              "      <td id=\"T_493ca_row0_col8\" class=\"data row0 col8\" >0.1570</td>\n",
              "    </tr>\n",
              "    <tr>\n",
              "      <th id=\"T_493ca_level0_row1\" class=\"row_heading level0 row1\" >gbc</th>\n",
              "      <td id=\"T_493ca_row1_col0\" class=\"data row1 col0\" >Gradient Boosting Classifier</td>\n",
              "      <td id=\"T_493ca_row1_col1\" class=\"data row1 col1\" >0.8044</td>\n",
              "      <td id=\"T_493ca_row1_col2\" class=\"data row1 col2\" >0.7109</td>\n",
              "      <td id=\"T_493ca_row1_col3\" class=\"data row1 col3\" >0.0714</td>\n",
              "      <td id=\"T_493ca_row1_col4\" class=\"data row1 col4\" >0.5901</td>\n",
              "      <td id=\"T_493ca_row1_col5\" class=\"data row1 col5\" >0.1272</td>\n",
              "      <td id=\"T_493ca_row1_col6\" class=\"data row1 col6\" >0.0879</td>\n",
              "      <td id=\"T_493ca_row1_col7\" class=\"data row1 col7\" >0.1533</td>\n",
              "      <td id=\"T_493ca_row1_col8\" class=\"data row1 col8\" >2.2620</td>\n",
              "    </tr>\n",
              "    <tr>\n",
              "      <th id=\"T_493ca_level0_row2\" class=\"row_heading level0 row2\" >ada</th>\n",
              "      <td id=\"T_493ca_row2_col0\" class=\"data row2 col0\" >Ada Boost Classifier</td>\n",
              "      <td id=\"T_493ca_row2_col1\" class=\"data row2 col1\" >0.8043</td>\n",
              "      <td id=\"T_493ca_row2_col2\" class=\"data row2 col2\" >0.7084</td>\n",
              "      <td id=\"T_493ca_row2_col3\" class=\"data row2 col3\" >0.0925</td>\n",
              "      <td id=\"T_493ca_row2_col4\" class=\"data row2 col4\" >0.5649</td>\n",
              "      <td id=\"T_493ca_row2_col5\" class=\"data row2 col5\" >0.1586</td>\n",
              "      <td id=\"T_493ca_row2_col6\" class=\"data row2 col6\" >0.1087</td>\n",
              "      <td id=\"T_493ca_row2_col7\" class=\"data row2 col7\" >0.1676</td>\n",
              "      <td id=\"T_493ca_row2_col8\" class=\"data row2 col8\" >0.7910</td>\n",
              "    </tr>\n",
              "    <tr>\n",
              "      <th id=\"T_493ca_level0_row3\" class=\"row_heading level0 row3\" >lda</th>\n",
              "      <td id=\"T_493ca_row3_col0\" class=\"data row3 col0\" >Linear Discriminant Analysis</td>\n",
              "      <td id=\"T_493ca_row3_col1\" class=\"data row3 col1\" >0.8034</td>\n",
              "      <td id=\"T_493ca_row3_col2\" class=\"data row3 col2\" >0.7057</td>\n",
              "      <td id=\"T_493ca_row3_col3\" class=\"data row3 col3\" >0.0796</td>\n",
              "      <td id=\"T_493ca_row3_col4\" class=\"data row3 col4\" >0.5618</td>\n",
              "      <td id=\"T_493ca_row3_col5\" class=\"data row3 col5\" >0.1392</td>\n",
              "      <td id=\"T_493ca_row3_col6\" class=\"data row3 col6\" >0.0943</td>\n",
              "      <td id=\"T_493ca_row3_col7\" class=\"data row3 col7\" >0.1541</td>\n",
              "      <td id=\"T_493ca_row3_col8\" class=\"data row3 col8\" >0.2190</td>\n",
              "    </tr>\n",
              "    <tr>\n",
              "      <th id=\"T_493ca_level0_row4\" class=\"row_heading level0 row4\" >rf</th>\n",
              "      <td id=\"T_493ca_row4_col0\" class=\"data row4 col0\" >Random Forest Classifier</td>\n",
              "      <td id=\"T_493ca_row4_col1\" class=\"data row4 col1\" >0.8008</td>\n",
              "      <td id=\"T_493ca_row4_col2\" class=\"data row4 col2\" >0.6846</td>\n",
              "      <td id=\"T_493ca_row4_col3\" class=\"data row4 col3\" >0.0807</td>\n",
              "      <td id=\"T_493ca_row4_col4\" class=\"data row4 col4\" >0.5171</td>\n",
              "      <td id=\"T_493ca_row4_col5\" class=\"data row4 col5\" >0.1394</td>\n",
              "      <td id=\"T_493ca_row4_col6\" class=\"data row4 col6\" >0.0899</td>\n",
              "      <td id=\"T_493ca_row4_col7\" class=\"data row4 col7\" >0.1416</td>\n",
              "      <td id=\"T_493ca_row4_col8\" class=\"data row4 col8\" >1.7620</td>\n",
              "    </tr>\n",
              "    <tr>\n",
              "      <th id=\"T_493ca_level0_row5\" class=\"row_heading level0 row5\" >lightgbm</th>\n",
              "      <td id=\"T_493ca_row5_col0\" class=\"data row5 col0\" >Light Gradient Boosting Machine</td>\n",
              "      <td id=\"T_493ca_row5_col1\" class=\"data row5 col1\" >0.8007</td>\n",
              "      <td id=\"T_493ca_row5_col2\" class=\"data row5 col2\" >0.6950</td>\n",
              "      <td id=\"T_493ca_row5_col3\" class=\"data row5 col3\" >0.0964</td>\n",
              "      <td id=\"T_493ca_row5_col4\" class=\"data row5 col4\" >0.5126</td>\n",
              "      <td id=\"T_493ca_row5_col5\" class=\"data row5 col5\" >0.1622</td>\n",
              "      <td id=\"T_493ca_row5_col6\" class=\"data row5 col6\" >0.1052</td>\n",
              "      <td id=\"T_493ca_row5_col7\" class=\"data row5 col7\" >0.1541</td>\n",
              "      <td id=\"T_493ca_row5_col8\" class=\"data row5 col8\" >1.5200</td>\n",
              "    </tr>\n",
              "    <tr>\n",
              "      <th id=\"T_493ca_level0_row6\" class=\"row_heading level0 row6\" >lr</th>\n",
              "      <td id=\"T_493ca_row6_col0\" class=\"data row6 col0\" >Logistic Regression</td>\n",
              "      <td id=\"T_493ca_row6_col1\" class=\"data row6 col1\" >0.8000</td>\n",
              "      <td id=\"T_493ca_row6_col2\" class=\"data row6 col2\" >0.5886</td>\n",
              "      <td id=\"T_493ca_row6_col3\" class=\"data row6 col3\" >0.0000</td>\n",
              "      <td id=\"T_493ca_row6_col4\" class=\"data row6 col4\" >0.0000</td>\n",
              "      <td id=\"T_493ca_row6_col5\" class=\"data row6 col5\" >0.0000</td>\n",
              "      <td id=\"T_493ca_row6_col6\" class=\"data row6 col6\" >0.0000</td>\n",
              "      <td id=\"T_493ca_row6_col7\" class=\"data row6 col7\" >0.0000</td>\n",
              "      <td id=\"T_493ca_row6_col8\" class=\"data row6 col8\" >0.7430</td>\n",
              "    </tr>\n",
              "    <tr>\n",
              "      <th id=\"T_493ca_level0_row7\" class=\"row_heading level0 row7\" >nb</th>\n",
              "      <td id=\"T_493ca_row7_col0\" class=\"data row7 col0\" >Naive Bayes</td>\n",
              "      <td id=\"T_493ca_row7_col1\" class=\"data row7 col1\" >0.8000</td>\n",
              "      <td id=\"T_493ca_row7_col2\" class=\"data row7 col2\" >0.6043</td>\n",
              "      <td id=\"T_493ca_row7_col3\" class=\"data row7 col3\" >0.0000</td>\n",
              "      <td id=\"T_493ca_row7_col4\" class=\"data row7 col4\" >0.0000</td>\n",
              "      <td id=\"T_493ca_row7_col5\" class=\"data row7 col5\" >0.0000</td>\n",
              "      <td id=\"T_493ca_row7_col6\" class=\"data row7 col6\" >0.0000</td>\n",
              "      <td id=\"T_493ca_row7_col7\" class=\"data row7 col7\" >0.0000</td>\n",
              "      <td id=\"T_493ca_row7_col8\" class=\"data row7 col8\" >0.2090</td>\n",
              "    </tr>\n",
              "    <tr>\n",
              "      <th id=\"T_493ca_level0_row8\" class=\"row_heading level0 row8\" >dummy</th>\n",
              "      <td id=\"T_493ca_row8_col0\" class=\"data row8 col0\" >Dummy Classifier</td>\n",
              "      <td id=\"T_493ca_row8_col1\" class=\"data row8 col1\" >0.8000</td>\n",
              "      <td id=\"T_493ca_row8_col2\" class=\"data row8 col2\" >0.5000</td>\n",
              "      <td id=\"T_493ca_row8_col3\" class=\"data row8 col3\" >0.0000</td>\n",
              "      <td id=\"T_493ca_row8_col4\" class=\"data row8 col4\" >0.0000</td>\n",
              "      <td id=\"T_493ca_row8_col5\" class=\"data row8 col5\" >0.0000</td>\n",
              "      <td id=\"T_493ca_row8_col6\" class=\"data row8 col6\" >0.0000</td>\n",
              "      <td id=\"T_493ca_row8_col7\" class=\"data row8 col7\" >0.0000</td>\n",
              "      <td id=\"T_493ca_row8_col8\" class=\"data row8 col8\" >0.1750</td>\n",
              "    </tr>\n",
              "    <tr>\n",
              "      <th id=\"T_493ca_level0_row9\" class=\"row_heading level0 row9\" >xgboost</th>\n",
              "      <td id=\"T_493ca_row9_col0\" class=\"data row9 col0\" >Extreme Gradient Boosting</td>\n",
              "      <td id=\"T_493ca_row9_col1\" class=\"data row9 col1\" >0.7943</td>\n",
              "      <td id=\"T_493ca_row9_col2\" class=\"data row9 col2\" >0.6727</td>\n",
              "      <td id=\"T_493ca_row9_col3\" class=\"data row9 col3\" >0.1407</td>\n",
              "      <td id=\"T_493ca_row9_col4\" class=\"data row9 col4\" >0.4553</td>\n",
              "      <td id=\"T_493ca_row9_col5\" class=\"data row9 col5\" >0.2145</td>\n",
              "      <td id=\"T_493ca_row9_col6\" class=\"data row9 col6\" >0.1326</td>\n",
              "      <td id=\"T_493ca_row9_col7\" class=\"data row9 col7\" >0.1634</td>\n",
              "      <td id=\"T_493ca_row9_col8\" class=\"data row9 col8\" >1.9850</td>\n",
              "    </tr>\n",
              "    <tr>\n",
              "      <th id=\"T_493ca_level0_row10\" class=\"row_heading level0 row10\" >et</th>\n",
              "      <td id=\"T_493ca_row10_col0\" class=\"data row10 col0\" >Extra Trees Classifier</td>\n",
              "      <td id=\"T_493ca_row10_col1\" class=\"data row10 col1\" >0.7934</td>\n",
              "      <td id=\"T_493ca_row10_col2\" class=\"data row10 col2\" >0.6612</td>\n",
              "      <td id=\"T_493ca_row10_col3\" class=\"data row10 col3\" >0.1079</td>\n",
              "      <td id=\"T_493ca_row10_col4\" class=\"data row10 col4\" >0.4344</td>\n",
              "      <td id=\"T_493ca_row10_col5\" class=\"data row10 col5\" >0.1727</td>\n",
              "      <td id=\"T_493ca_row10_col6\" class=\"data row10 col6\" >0.1012</td>\n",
              "      <td id=\"T_493ca_row10_col7\" class=\"data row10 col7\" >0.1338</td>\n",
              "      <td id=\"T_493ca_row10_col8\" class=\"data row10 col8\" >2.3470</td>\n",
              "    </tr>\n",
              "    <tr>\n",
              "      <th id=\"T_493ca_level0_row11\" class=\"row_heading level0 row11\" >knn</th>\n",
              "      <td id=\"T_493ca_row11_col0\" class=\"data row11 col0\" >K Neighbors Classifier</td>\n",
              "      <td id=\"T_493ca_row11_col1\" class=\"data row11 col1\" >0.7670</td>\n",
              "      <td id=\"T_493ca_row11_col2\" class=\"data row11 col2\" >0.5181</td>\n",
              "      <td id=\"T_493ca_row11_col3\" class=\"data row11 col3\" >0.0729</td>\n",
              "      <td id=\"T_493ca_row11_col4\" class=\"data row11 col4\" >0.2361</td>\n",
              "      <td id=\"T_493ca_row11_col5\" class=\"data row11 col5\" >0.1111</td>\n",
              "      <td id=\"T_493ca_row11_col6\" class=\"data row11 col6\" >0.0182</td>\n",
              "      <td id=\"T_493ca_row11_col7\" class=\"data row11 col7\" >0.0226</td>\n",
              "      <td id=\"T_493ca_row11_col8\" class=\"data row11 col8\" >0.3530</td>\n",
              "    </tr>\n",
              "    <tr>\n",
              "      <th id=\"T_493ca_level0_row12\" class=\"row_heading level0 row12\" >qda</th>\n",
              "      <td id=\"T_493ca_row12_col0\" class=\"data row12 col0\" >Quadratic Discriminant Analysis</td>\n",
              "      <td id=\"T_493ca_row12_col1\" class=\"data row12 col1\" >0.7535</td>\n",
              "      <td id=\"T_493ca_row12_col2\" class=\"data row12 col2\" >0.6777</td>\n",
              "      <td id=\"T_493ca_row12_col3\" class=\"data row12 col3\" >0.2736</td>\n",
              "      <td id=\"T_493ca_row12_col4\" class=\"data row12 col4\" >0.3514</td>\n",
              "      <td id=\"T_493ca_row12_col5\" class=\"data row12 col5\" >0.3071</td>\n",
              "      <td id=\"T_493ca_row12_col6\" class=\"data row12 col6\" >0.1602</td>\n",
              "      <td id=\"T_493ca_row12_col7\" class=\"data row12 col7\" >0.1623</td>\n",
              "      <td id=\"T_493ca_row12_col8\" class=\"data row12 col8\" >0.2750</td>\n",
              "    </tr>\n",
              "    <tr>\n",
              "      <th id=\"T_493ca_level0_row13\" class=\"row_heading level0 row13\" >dt</th>\n",
              "      <td id=\"T_493ca_row13_col0\" class=\"data row13 col0\" >Decision Tree Classifier</td>\n",
              "      <td id=\"T_493ca_row13_col1\" class=\"data row13 col1\" >0.6997</td>\n",
              "      <td id=\"T_493ca_row13_col2\" class=\"data row13 col2\" >0.5529</td>\n",
              "      <td id=\"T_493ca_row13_col3\" class=\"data row13 col3\" >0.3082</td>\n",
              "      <td id=\"T_493ca_row13_col4\" class=\"data row13 col4\" >0.2754</td>\n",
              "      <td id=\"T_493ca_row13_col5\" class=\"data row13 col5\" >0.2908</td>\n",
              "      <td id=\"T_493ca_row13_col6\" class=\"data row13 col6\" >0.1011</td>\n",
              "      <td id=\"T_493ca_row13_col7\" class=\"data row13 col7\" >0.1014</td>\n",
              "      <td id=\"T_493ca_row13_col8\" class=\"data row13 col8\" >0.4080</td>\n",
              "    </tr>\n",
              "    <tr>\n",
              "      <th id=\"T_493ca_level0_row14\" class=\"row_heading level0 row14\" >svm</th>\n",
              "      <td id=\"T_493ca_row14_col0\" class=\"data row14 col0\" >SVM - Linear Kernel</td>\n",
              "      <td id=\"T_493ca_row14_col1\" class=\"data row14 col1\" >0.6992</td>\n",
              "      <td id=\"T_493ca_row14_col2\" class=\"data row14 col2\" >0.0000</td>\n",
              "      <td id=\"T_493ca_row14_col3\" class=\"data row14 col3\" >0.1800</td>\n",
              "      <td id=\"T_493ca_row14_col4\" class=\"data row14 col4\" >0.0419</td>\n",
              "      <td id=\"T_493ca_row14_col5\" class=\"data row14 col5\" >0.0678</td>\n",
              "      <td id=\"T_493ca_row14_col6\" class=\"data row14 col6\" >0.0044</td>\n",
              "      <td id=\"T_493ca_row14_col7\" class=\"data row14 col7\" >0.0097</td>\n",
              "      <td id=\"T_493ca_row14_col8\" class=\"data row14 col8\" >0.4370</td>\n",
              "    </tr>\n",
              "  </tbody>\n",
              "</table>\n"
            ]
          },
          "metadata": {}
        },
        {
          "output_type": "display_data",
          "data": {
            "text/plain": [
              "Processing:   0%|          | 0/65 [00:00<?, ?it/s]"
            ],
            "application/vnd.jupyter.widget-view+json": {
              "version_major": 2,
              "version_minor": 0,
              "model_id": "67c2c01457ac40e08827bd372516159a"
            }
          },
          "metadata": {
            "application/vnd.jupyter.widget-view+json": {
              "colab": {
                "custom_widget_manager": {
                  "url": "https://ssl.gstatic.com/colaboratory-static/widgets/colab-cdn-widget-manager/b3e629b1971e1542/manager.min.js"
                }
              }
            }
          }
        },
        {
          "output_type": "display_data",
          "data": {
            "text/plain": [
              "<IPython.core.display.HTML object>"
            ],
            "text/html": []
          },
          "metadata": {}
        }
      ]
    },
    {
      "cell_type": "markdown",
      "source": [
        "This command will train and evaluate several models and return the best-performing one based on the default metric (Accuracy)."
      ],
      "metadata": {
        "id": "byiHexYuFiLC"
      }
    },
    {
      "cell_type": "markdown",
      "source": [
        "**Tune the Model**\n",
        "\n",
        "Tune the best model"
      ],
      "metadata": {
        "id": "UjjypHJqFnFg"
      }
    },
    {
      "cell_type": "code",
      "source": [
        "tuned_model = tune_model(best_model)"
      ],
      "metadata": {
        "colab": {
          "base_uri": "https://localhost:8080/",
          "height": 511,
          "referenced_widgets": [
            "fad4d527a8384472b812a20f43759593",
            "32af5ed1a7b54d1290471fc36cf509fb",
            "f935fa64b87a439a87723dc14219348c",
            "deb419d3103f4591826bf563defeb157",
            "b719260cf00141ce8964d2928d24149f",
            "a0a1ba9440d64a1baa02cac925d364bf",
            "1a6bc84dd78546a9a6a71c091fc78145",
            "ecfabf0a8fa948c6b36d242af38f3bc2",
            "ad47c270187344d3b40c7ede5993c0a9",
            "cc95b15436d04bbc89299f472e22f780",
            "c4084788150a4a4aaadaf5ad2e6b1406"
          ]
        },
        "id": "8p_dgBTfFuRZ",
        "outputId": "5ed0ec35-d666-4836-a819-f70090c29d26"
      },
      "execution_count": null,
      "outputs": [
        {
          "output_type": "display_data",
          "data": {
            "text/plain": [
              "<IPython.core.display.HTML object>"
            ],
            "text/html": []
          },
          "metadata": {}
        },
        {
          "output_type": "display_data",
          "data": {
            "text/plain": [
              "<pandas.io.formats.style.Styler at 0x7e87beed2ce0>"
            ],
            "text/html": [
              "<style type=\"text/css\">\n",
              "#T_6295e_row10_col0, #T_6295e_row10_col1, #T_6295e_row10_col2, #T_6295e_row10_col3, #T_6295e_row10_col4, #T_6295e_row10_col5, #T_6295e_row10_col6 {\n",
              "  background: yellow;\n",
              "}\n",
              "</style>\n",
              "<table id=\"T_6295e\" class=\"dataframe\">\n",
              "  <thead>\n",
              "    <tr>\n",
              "      <th class=\"blank level0\" >&nbsp;</th>\n",
              "      <th id=\"T_6295e_level0_col0\" class=\"col_heading level0 col0\" >Accuracy</th>\n",
              "      <th id=\"T_6295e_level0_col1\" class=\"col_heading level0 col1\" >AUC</th>\n",
              "      <th id=\"T_6295e_level0_col2\" class=\"col_heading level0 col2\" >Recall</th>\n",
              "      <th id=\"T_6295e_level0_col3\" class=\"col_heading level0 col3\" >Prec.</th>\n",
              "      <th id=\"T_6295e_level0_col4\" class=\"col_heading level0 col4\" >F1</th>\n",
              "      <th id=\"T_6295e_level0_col5\" class=\"col_heading level0 col5\" >Kappa</th>\n",
              "      <th id=\"T_6295e_level0_col6\" class=\"col_heading level0 col6\" >MCC</th>\n",
              "    </tr>\n",
              "    <tr>\n",
              "      <th class=\"index_name level0\" >Fold</th>\n",
              "      <th class=\"blank col0\" >&nbsp;</th>\n",
              "      <th class=\"blank col1\" >&nbsp;</th>\n",
              "      <th class=\"blank col2\" >&nbsp;</th>\n",
              "      <th class=\"blank col3\" >&nbsp;</th>\n",
              "      <th class=\"blank col4\" >&nbsp;</th>\n",
              "      <th class=\"blank col5\" >&nbsp;</th>\n",
              "      <th class=\"blank col6\" >&nbsp;</th>\n",
              "    </tr>\n",
              "  </thead>\n",
              "  <tbody>\n",
              "    <tr>\n",
              "      <th id=\"T_6295e_level0_row0\" class=\"row_heading level0 row0\" >0</th>\n",
              "      <td id=\"T_6295e_row0_col0\" class=\"data row0 col0\" >0.8036</td>\n",
              "      <td id=\"T_6295e_row0_col1\" class=\"data row0 col1\" >0.0000</td>\n",
              "      <td id=\"T_6295e_row0_col2\" class=\"data row0 col2\" >0.0393</td>\n",
              "      <td id=\"T_6295e_row0_col3\" class=\"data row0 col3\" >0.6471</td>\n",
              "      <td id=\"T_6295e_row0_col4\" class=\"data row0 col4\" >0.0741</td>\n",
              "      <td id=\"T_6295e_row0_col5\" class=\"data row0 col5\" >0.0524</td>\n",
              "      <td id=\"T_6295e_row0_col6\" class=\"data row0 col6\" >0.1239</td>\n",
              "    </tr>\n",
              "    <tr>\n",
              "      <th id=\"T_6295e_level0_row1\" class=\"row_heading level0 row1\" >1</th>\n",
              "      <td id=\"T_6295e_row1_col0\" class=\"data row1 col0\" >0.8036</td>\n",
              "      <td id=\"T_6295e_row1_col1\" class=\"data row1 col1\" >0.0000</td>\n",
              "      <td id=\"T_6295e_row1_col2\" class=\"data row1 col2\" >0.0286</td>\n",
              "      <td id=\"T_6295e_row1_col3\" class=\"data row1 col3\" >0.7273</td>\n",
              "      <td id=\"T_6295e_row1_col4\" class=\"data row1 col4\" >0.0550</td>\n",
              "      <td id=\"T_6295e_row1_col5\" class=\"data row1 col5\" >0.0405</td>\n",
              "      <td id=\"T_6295e_row1_col6\" class=\"data row1 col6\" >0.1173</td>\n",
              "    </tr>\n",
              "    <tr>\n",
              "      <th id=\"T_6295e_level0_row2\" class=\"row_heading level0 row2\" >2</th>\n",
              "      <td id=\"T_6295e_row2_col0\" class=\"data row2 col0\" >0.8036</td>\n",
              "      <td id=\"T_6295e_row2_col1\" class=\"data row2 col1\" >0.0000</td>\n",
              "      <td id=\"T_6295e_row2_col2\" class=\"data row2 col2\" >0.0321</td>\n",
              "      <td id=\"T_6295e_row2_col3\" class=\"data row2 col3\" >0.6923</td>\n",
              "      <td id=\"T_6295e_row2_col4\" class=\"data row2 col4\" >0.0614</td>\n",
              "      <td id=\"T_6295e_row2_col5\" class=\"data row2 col5\" >0.0445</td>\n",
              "      <td id=\"T_6295e_row2_col6\" class=\"data row2 col6\" >0.1192</td>\n",
              "    </tr>\n",
              "    <tr>\n",
              "      <th id=\"T_6295e_level0_row3\" class=\"row_heading level0 row3\" >3</th>\n",
              "      <td id=\"T_6295e_row3_col0\" class=\"data row3 col0\" >0.8043</td>\n",
              "      <td id=\"T_6295e_row3_col1\" class=\"data row3 col1\" >0.0000</td>\n",
              "      <td id=\"T_6295e_row3_col2\" class=\"data row3 col2\" >0.0357</td>\n",
              "      <td id=\"T_6295e_row3_col3\" class=\"data row3 col3\" >0.7143</td>\n",
              "      <td id=\"T_6295e_row3_col4\" class=\"data row3 col4\" >0.0680</td>\n",
              "      <td id=\"T_6295e_row3_col5\" class=\"data row3 col5\" >0.0499</td>\n",
              "      <td id=\"T_6295e_row3_col6\" class=\"data row3 col6\" >0.1292</td>\n",
              "    </tr>\n",
              "    <tr>\n",
              "      <th id=\"T_6295e_level0_row4\" class=\"row_heading level0 row4\" >4</th>\n",
              "      <td id=\"T_6295e_row4_col0\" class=\"data row4 col0\" >0.8079</td>\n",
              "      <td id=\"T_6295e_row4_col1\" class=\"data row4 col1\" >0.0000</td>\n",
              "      <td id=\"T_6295e_row4_col2\" class=\"data row4 col2\" >0.0393</td>\n",
              "      <td id=\"T_6295e_row4_col3\" class=\"data row4 col3\" >1.0000</td>\n",
              "      <td id=\"T_6295e_row4_col4\" class=\"data row4 col4\" >0.0756</td>\n",
              "      <td id=\"T_6295e_row4_col5\" class=\"data row4 col5\" >0.0614</td>\n",
              "      <td id=\"T_6295e_row4_col6\" class=\"data row4 col6\" >0.1780</td>\n",
              "    </tr>\n",
              "    <tr>\n",
              "      <th id=\"T_6295e_level0_row5\" class=\"row_heading level0 row5\" >5</th>\n",
              "      <td id=\"T_6295e_row5_col0\" class=\"data row5 col0\" >0.8064</td>\n",
              "      <td id=\"T_6295e_row5_col1\" class=\"data row5 col1\" >0.0000</td>\n",
              "      <td id=\"T_6295e_row5_col2\" class=\"data row5 col2\" >0.0500</td>\n",
              "      <td id=\"T_6295e_row5_col3\" class=\"data row5 col3\" >0.7368</td>\n",
              "      <td id=\"T_6295e_row5_col4\" class=\"data row5 col4\" >0.0936</td>\n",
              "      <td id=\"T_6295e_row5_col5\" class=\"data row5 col5\" >0.0700</td>\n",
              "      <td id=\"T_6295e_row5_col6\" class=\"data row5 col6\" >0.1574</td>\n",
              "    </tr>\n",
              "    <tr>\n",
              "      <th id=\"T_6295e_level0_row6\" class=\"row_heading level0 row6\" >6</th>\n",
              "      <td id=\"T_6295e_row6_col0\" class=\"data row6 col0\" >0.8043</td>\n",
              "      <td id=\"T_6295e_row6_col1\" class=\"data row6 col1\" >0.0000</td>\n",
              "      <td id=\"T_6295e_row6_col2\" class=\"data row6 col2\" >0.0393</td>\n",
              "      <td id=\"T_6295e_row6_col3\" class=\"data row6 col3\" >0.6875</td>\n",
              "      <td id=\"T_6295e_row6_col4\" class=\"data row6 col4\" >0.0743</td>\n",
              "      <td id=\"T_6295e_row6_col5\" class=\"data row6 col5\" >0.0539</td>\n",
              "      <td id=\"T_6295e_row6_col6\" class=\"data row6 col6\" >0.1310</td>\n",
              "    </tr>\n",
              "    <tr>\n",
              "      <th id=\"T_6295e_level0_row7\" class=\"row_heading level0 row7\" >7</th>\n",
              "      <td id=\"T_6295e_row7_col0\" class=\"data row7 col0\" >0.8043</td>\n",
              "      <td id=\"T_6295e_row7_col1\" class=\"data row7 col1\" >0.0000</td>\n",
              "      <td id=\"T_6295e_row7_col2\" class=\"data row7 col2\" >0.0321</td>\n",
              "      <td id=\"T_6295e_row7_col3\" class=\"data row7 col3\" >0.7500</td>\n",
              "      <td id=\"T_6295e_row7_col4\" class=\"data row7 col4\" >0.0616</td>\n",
              "      <td id=\"T_6295e_row7_col5\" class=\"data row7 col5\" >0.0460</td>\n",
              "      <td id=\"T_6295e_row7_col6\" class=\"data row7 col6\" >0.1278</td>\n",
              "    </tr>\n",
              "    <tr>\n",
              "      <th id=\"T_6295e_level0_row8\" class=\"row_heading level0 row8\" >8</th>\n",
              "      <td id=\"T_6295e_row8_col0\" class=\"data row8 col0\" >0.8050</td>\n",
              "      <td id=\"T_6295e_row8_col1\" class=\"data row8 col1\" >0.0000</td>\n",
              "      <td id=\"T_6295e_row8_col2\" class=\"data row8 col2\" >0.0357</td>\n",
              "      <td id=\"T_6295e_row8_col3\" class=\"data row8 col3\" >0.7692</td>\n",
              "      <td id=\"T_6295e_row8_col4\" class=\"data row8 col4\" >0.0683</td>\n",
              "      <td id=\"T_6295e_row8_col5\" class=\"data row8 col5\" >0.0514</td>\n",
              "      <td id=\"T_6295e_row8_col6\" class=\"data row8 col6\" >0.1378</td>\n",
              "    </tr>\n",
              "    <tr>\n",
              "      <th id=\"T_6295e_level0_row9\" class=\"row_heading level0 row9\" >9</th>\n",
              "      <td id=\"T_6295e_row9_col0\" class=\"data row9 col0\" >0.8036</td>\n",
              "      <td id=\"T_6295e_row9_col1\" class=\"data row9 col1\" >0.0000</td>\n",
              "      <td id=\"T_6295e_row9_col2\" class=\"data row9 col2\" >0.0357</td>\n",
              "      <td id=\"T_6295e_row9_col3\" class=\"data row9 col3\" >0.6667</td>\n",
              "      <td id=\"T_6295e_row9_col4\" class=\"data row9 col4\" >0.0678</td>\n",
              "      <td id=\"T_6295e_row9_col5\" class=\"data row9 col5\" >0.0484</td>\n",
              "      <td id=\"T_6295e_row9_col6\" class=\"data row9 col6\" >0.1214</td>\n",
              "    </tr>\n",
              "    <tr>\n",
              "      <th id=\"T_6295e_level0_row10\" class=\"row_heading level0 row10\" >Mean</th>\n",
              "      <td id=\"T_6295e_row10_col0\" class=\"data row10 col0\" >0.8046</td>\n",
              "      <td id=\"T_6295e_row10_col1\" class=\"data row10 col1\" >0.0000</td>\n",
              "      <td id=\"T_6295e_row10_col2\" class=\"data row10 col2\" >0.0368</td>\n",
              "      <td id=\"T_6295e_row10_col3\" class=\"data row10 col3\" >0.7391</td>\n",
              "      <td id=\"T_6295e_row10_col4\" class=\"data row10 col4\" >0.0700</td>\n",
              "      <td id=\"T_6295e_row10_col5\" class=\"data row10 col5\" >0.0518</td>\n",
              "      <td id=\"T_6295e_row10_col6\" class=\"data row10 col6\" >0.1343</td>\n",
              "    </tr>\n",
              "    <tr>\n",
              "      <th id=\"T_6295e_level0_row11\" class=\"row_heading level0 row11\" >Std</th>\n",
              "      <td id=\"T_6295e_row11_col0\" class=\"data row11 col0\" >0.0014</td>\n",
              "      <td id=\"T_6295e_row11_col1\" class=\"data row11 col1\" >0.0000</td>\n",
              "      <td id=\"T_6295e_row11_col2\" class=\"data row11 col2\" >0.0055</td>\n",
              "      <td id=\"T_6295e_row11_col3\" class=\"data row11 col3\" >0.0940</td>\n",
              "      <td id=\"T_6295e_row11_col4\" class=\"data row11 col4\" >0.0100</td>\n",
              "      <td id=\"T_6295e_row11_col5\" class=\"data row11 col5\" >0.0081</td>\n",
              "      <td id=\"T_6295e_row11_col6\" class=\"data row11 col6\" >0.0182</td>\n",
              "    </tr>\n",
              "  </tbody>\n",
              "</table>\n"
            ]
          },
          "metadata": {}
        },
        {
          "output_type": "display_data",
          "data": {
            "text/plain": [
              "Processing:   0%|          | 0/7 [00:00<?, ?it/s]"
            ],
            "application/vnd.jupyter.widget-view+json": {
              "version_major": 2,
              "version_minor": 0,
              "model_id": "fad4d527a8384472b812a20f43759593"
            }
          },
          "metadata": {
            "application/vnd.jupyter.widget-view+json": {
              "colab": {
                "custom_widget_manager": {
                  "url": "https://ssl.gstatic.com/colaboratory-static/widgets/colab-cdn-widget-manager/b3e629b1971e1542/manager.min.js"
                }
              }
            }
          }
        },
        {
          "output_type": "stream",
          "name": "stdout",
          "text": [
            "Fitting 10 folds for each of 10 candidates, totalling 100 fits\n"
          ]
        },
        {
          "output_type": "display_data",
          "data": {
            "text/plain": [
              "<IPython.core.display.HTML object>"
            ],
            "text/html": []
          },
          "metadata": {}
        },
        {
          "output_type": "stream",
          "name": "stdout",
          "text": [
            "Original model was better than the tuned model, hence it will be returned. NOTE: The display metrics are for the tuned model (not the original one).\n"
          ]
        }
      ]
    },
    {
      "cell_type": "markdown",
      "source": [
        "This step optimizes hyperparameters using cross-validation."
      ],
      "metadata": {
        "id": "R-2TA9ptF0FE"
      }
    },
    {
      "cell_type": "markdown",
      "source": [
        "**Evaluate Model Performance**"
      ],
      "metadata": {
        "id": "htMB7zYdF8-0"
      }
    },
    {
      "cell_type": "code",
      "source": [
        "evaluate_model(tuned_model)\n"
      ],
      "metadata": {
        "colab": {
          "base_uri": "https://localhost:8080/",
          "height": 719,
          "referenced_widgets": [
            "b41d4b7712e6477c97175f2f2db1af6a",
            "2801aacb044a4b1d9421b9bb882c137b",
            "fc3cf60f099c4ab6b3fb3872479797d8",
            "50bced120f52466dbae06a17309c31e9",
            "eb6a3cdb76c3465db717514b5310f682",
            "dfabdd5a85384e1c8204984cd424bd33",
            "1821cfcdc3b2462da41782cac3d67f11"
          ]
        },
        "id": "b97GPZ_HGAGs",
        "outputId": "c5f9e3c1-2172-4101-97da-ed473b77873c"
      },
      "execution_count": null,
      "outputs": [
        {
          "output_type": "display_data",
          "data": {
            "text/plain": [
              "interactive(children=(ToggleButtons(description='Plot Type:', icons=('',), options=(('Pipeline Plot', 'pipelin…"
            ],
            "application/vnd.jupyter.widget-view+json": {
              "version_major": 2,
              "version_minor": 0,
              "model_id": "b41d4b7712e6477c97175f2f2db1af6a"
            }
          },
          "metadata": {
            "application/vnd.jupyter.widget-view+json": {
              "colab": {
                "custom_widget_manager": {
                  "url": "https://ssl.gstatic.com/colaboratory-static/widgets/colab-cdn-widget-manager/b3e629b1971e1542/manager.min.js"
                }
              }
            }
          }
        }
      ]
    },
    {
      "cell_type": "markdown",
      "source": [
        "This will display various classification metrics like Accuracy, Precision, Recall, F1-score, ROC Curve, etc."
      ],
      "metadata": {
        "id": "wKf5o_cjGOR0"
      }
    },
    {
      "cell_type": "markdown",
      "source": [
        "**Make Predictions**\n"
      ],
      "metadata": {
        "id": "soqHVpfcGTpH"
      }
    },
    {
      "cell_type": "code",
      "source": [
        "new_data = pd.read_csv('/content/lending_club_loan_dataset_Binary_Classification.csv')\n",
        "predictions = predict_model(tuned_model, data=new_data)"
      ],
      "metadata": {
        "colab": {
          "base_uri": "https://localhost:8080/",
          "height": 80
        },
        "id": "1csCpewkHQoL",
        "outputId": "50449b98-364b-466d-bcc3-384df5f3fbbd"
      },
      "execution_count": null,
      "outputs": [
        {
          "output_type": "display_data",
          "data": {
            "text/plain": [
              "<pandas.io.formats.style.Styler at 0x7e87ae128d30>"
            ],
            "text/html": [
              "<style type=\"text/css\">\n",
              "</style>\n",
              "<table id=\"T_7699a\" class=\"dataframe\">\n",
              "  <thead>\n",
              "    <tr>\n",
              "      <th class=\"blank level0\" >&nbsp;</th>\n",
              "      <th id=\"T_7699a_level0_col0\" class=\"col_heading level0 col0\" >Model</th>\n",
              "      <th id=\"T_7699a_level0_col1\" class=\"col_heading level0 col1\" >Accuracy</th>\n",
              "      <th id=\"T_7699a_level0_col2\" class=\"col_heading level0 col2\" >AUC</th>\n",
              "      <th id=\"T_7699a_level0_col3\" class=\"col_heading level0 col3\" >Recall</th>\n",
              "      <th id=\"T_7699a_level0_col4\" class=\"col_heading level0 col4\" >Prec.</th>\n",
              "      <th id=\"T_7699a_level0_col5\" class=\"col_heading level0 col5\" >F1</th>\n",
              "      <th id=\"T_7699a_level0_col6\" class=\"col_heading level0 col6\" >Kappa</th>\n",
              "      <th id=\"T_7699a_level0_col7\" class=\"col_heading level0 col7\" >MCC</th>\n",
              "    </tr>\n",
              "  </thead>\n",
              "  <tbody>\n",
              "    <tr>\n",
              "      <th id=\"T_7699a_level0_row0\" class=\"row_heading level0 row0\" >0</th>\n",
              "      <td id=\"T_7699a_row0_col0\" class=\"data row0 col0\" >Ridge Classifier</td>\n",
              "      <td id=\"T_7699a_row0_col1\" class=\"data row0 col1\" >0.8056</td>\n",
              "      <td id=\"T_7699a_row0_col2\" class=\"data row0 col2\" >0.5184</td>\n",
              "      <td id=\"T_7699a_row0_col3\" class=\"data row0 col3\" >0.0398</td>\n",
              "      <td id=\"T_7699a_row0_col4\" class=\"data row0 col4\" >0.7681</td>\n",
              "      <td id=\"T_7699a_row0_col5\" class=\"data row0 col5\" >0.0756</td>\n",
              "      <td id=\"T_7699a_row0_col6\" class=\"data row0 col6\" >0.0570</td>\n",
              "      <td id=\"T_7699a_row0_col7\" class=\"data row0 col7\" >0.1452</td>\n",
              "    </tr>\n",
              "  </tbody>\n",
              "</table>\n"
            ]
          },
          "metadata": {}
        }
      ]
    },
    {
      "cell_type": "markdown",
      "source": [
        "**Finalize and Save Model**"
      ],
      "metadata": {
        "id": "xbGp2o09HoR-"
      }
    },
    {
      "cell_type": "code",
      "source": [
        "final_model = finalize_model(tuned_model)\n",
        "save_model(final_model, 'Binary_classification_model')"
      ],
      "metadata": {
        "colab": {
          "base_uri": "https://localhost:8080/"
        },
        "id": "mirElEftHrZW",
        "outputId": "4f23df58-85d3-41cf-b67c-f095e7e78783"
      },
      "execution_count": null,
      "outputs": [
        {
          "output_type": "stream",
          "name": "stdout",
          "text": [
            "Transformation Pipeline and Model Successfully Saved\n"
          ]
        },
        {
          "output_type": "execute_result",
          "data": {
            "text/plain": [
              "(Pipeline(memory=FastMemory(location=/tmp/joblib),\n",
              "          steps=[('numerical_imputer',\n",
              "                  TransformerWrapper(exclude=None,\n",
              "                                     include=['id', 'annual_inc', 'short_emp',\n",
              "                                              'emp_length_num', 'dti',\n",
              "                                              'last_delinq_none',\n",
              "                                              'last_major_derog_none',\n",
              "                                              'revol_util', 'total_rec_late_fee',\n",
              "                                              'od_ratio'],\n",
              "                                     transformer=SimpleImputer(add_indicator=False,\n",
              "                                                               copy=True,\n",
              "                                                               fill_value=None,\n",
              "                                                               keep_empty_feature...\n",
              "                                     transformer=OneHotEncoder(cols=['grade',\n",
              "                                                                     'home_ownership',\n",
              "                                                                     'purpose',\n",
              "                                                                     'term'],\n",
              "                                                               drop_invariant=False,\n",
              "                                                               handle_missing='return_nan',\n",
              "                                                               handle_unknown='value',\n",
              "                                                               return_df=True,\n",
              "                                                               use_cat_names=True,\n",
              "                                                               verbose=0))),\n",
              "                 ('actual_estimator',\n",
              "                  RidgeClassifier(alpha=1.0, class_weight=None, copy_X=True,\n",
              "                                  fit_intercept=True, max_iter=None,\n",
              "                                  positive=False, random_state=8406,\n",
              "                                  solver='auto', tol=0.0001))],\n",
              "          verbose=False),\n",
              " 'Binary_classification_model.pkl')"
            ]
          },
          "metadata": {},
          "execution_count": 11
        }
      ]
    },
    {
      "cell_type": "markdown",
      "source": [
        "This code demonstrates a binary classification task using PyCaret."
      ],
      "metadata": {
        "id": "5VkniKYeH53M"
      }
    },
    {
      "cell_type": "markdown",
      "source": [
        "**Task 2: ▶ Multi Class Classification using pycaret**"
      ],
      "metadata": {
        "id": "jYA7ZLx9IesX"
      }
    },
    {
      "cell_type": "code",
      "source": [
        "import pandas as pd\n",
        "from pycaret.classification import *"
      ],
      "metadata": {
        "id": "LKUbteiGIuzd"
      },
      "execution_count": null,
      "outputs": []
    },
    {
      "cell_type": "markdown",
      "source": [
        "**Load and Preprocess data**\n",
        "\n",
        "Data: Movie Genre detector"
      ],
      "metadata": {
        "id": "d9ztxMCPScRl"
      }
    },
    {
      "cell_type": "code",
      "source": [
        "data = pd.read_csv('/content/train-multilevel.csv')\n",
        "\n",
        "# Initialize PyCaret with the dataset and specify the target variable\n",
        "clf1 = setup(data, target='genre')"
      ],
      "metadata": {
        "colab": {
          "base_uri": "https://localhost:8080/",
          "height": 822
        },
        "id": "phlIN01ISrt4",
        "outputId": "5104fee3-f194-4c98-ea81-1bcfb613863b"
      },
      "execution_count": null,
      "outputs": [
        {
          "output_type": "display_data",
          "data": {
            "text/plain": [
              "<pandas.io.formats.style.Styler at 0x7e87ae1aa860>"
            ],
            "text/html": [
              "<style type=\"text/css\">\n",
              "#T_99312_row10_col1 {\n",
              "  background-color: lightgreen;\n",
              "}\n",
              "</style>\n",
              "<table id=\"T_99312\" class=\"dataframe\">\n",
              "  <thead>\n",
              "    <tr>\n",
              "      <th class=\"blank level0\" >&nbsp;</th>\n",
              "      <th id=\"T_99312_level0_col0\" class=\"col_heading level0 col0\" >Description</th>\n",
              "      <th id=\"T_99312_level0_col1\" class=\"col_heading level0 col1\" >Value</th>\n",
              "    </tr>\n",
              "  </thead>\n",
              "  <tbody>\n",
              "    <tr>\n",
              "      <th id=\"T_99312_level0_row0\" class=\"row_heading level0 row0\" >0</th>\n",
              "      <td id=\"T_99312_row0_col0\" class=\"data row0 col0\" >Session id</td>\n",
              "      <td id=\"T_99312_row0_col1\" class=\"data row0 col1\" >856</td>\n",
              "    </tr>\n",
              "    <tr>\n",
              "      <th id=\"T_99312_level0_row1\" class=\"row_heading level0 row1\" >1</th>\n",
              "      <td id=\"T_99312_row1_col0\" class=\"data row1 col0\" >Target</td>\n",
              "      <td id=\"T_99312_row1_col1\" class=\"data row1 col1\" >genre</td>\n",
              "    </tr>\n",
              "    <tr>\n",
              "      <th id=\"T_99312_level0_row2\" class=\"row_heading level0 row2\" >2</th>\n",
              "      <td id=\"T_99312_row2_col0\" class=\"data row2 col0\" >Target type</td>\n",
              "      <td id=\"T_99312_row2_col1\" class=\"data row2 col1\" >Multiclass</td>\n",
              "    </tr>\n",
              "    <tr>\n",
              "      <th id=\"T_99312_level0_row3\" class=\"row_heading level0 row3\" >3</th>\n",
              "      <td id=\"T_99312_row3_col0\" class=\"data row3 col0\" >Target mapping</td>\n",
              "      <td id=\"T_99312_row3_col1\" class=\"data row3 col1\" >action: 0, adventure: 1, crime: 2, family: 3, fantasy: 4, horror: 5, mystery: 6, romance: 7, scifi: 8, thriller: 9</td>\n",
              "    </tr>\n",
              "    <tr>\n",
              "      <th id=\"T_99312_level0_row4\" class=\"row_heading level0 row4\" >4</th>\n",
              "      <td id=\"T_99312_row4_col0\" class=\"data row4 col0\" >Original data shape</td>\n",
              "      <td id=\"T_99312_row4_col1\" class=\"data row4 col1\" >(54000, 4)</td>\n",
              "    </tr>\n",
              "    <tr>\n",
              "      <th id=\"T_99312_level0_row5\" class=\"row_heading level0 row5\" >5</th>\n",
              "      <td id=\"T_99312_row5_col0\" class=\"data row5 col0\" >Transformed data shape</td>\n",
              "      <td id=\"T_99312_row5_col1\" class=\"data row5 col1\" >(54000, 4)</td>\n",
              "    </tr>\n",
              "    <tr>\n",
              "      <th id=\"T_99312_level0_row6\" class=\"row_heading level0 row6\" >6</th>\n",
              "      <td id=\"T_99312_row6_col0\" class=\"data row6 col0\" >Transformed train set shape</td>\n",
              "      <td id=\"T_99312_row6_col1\" class=\"data row6 col1\" >(37800, 4)</td>\n",
              "    </tr>\n",
              "    <tr>\n",
              "      <th id=\"T_99312_level0_row7\" class=\"row_heading level0 row7\" >7</th>\n",
              "      <td id=\"T_99312_row7_col0\" class=\"data row7 col0\" >Transformed test set shape</td>\n",
              "      <td id=\"T_99312_row7_col1\" class=\"data row7 col1\" >(16200, 4)</td>\n",
              "    </tr>\n",
              "    <tr>\n",
              "      <th id=\"T_99312_level0_row8\" class=\"row_heading level0 row8\" >8</th>\n",
              "      <td id=\"T_99312_row8_col0\" class=\"data row8 col0\" >Numeric features</td>\n",
              "      <td id=\"T_99312_row8_col1\" class=\"data row8 col1\" >1</td>\n",
              "    </tr>\n",
              "    <tr>\n",
              "      <th id=\"T_99312_level0_row9\" class=\"row_heading level0 row9\" >9</th>\n",
              "      <td id=\"T_99312_row9_col0\" class=\"data row9 col0\" >Categorical features</td>\n",
              "      <td id=\"T_99312_row9_col1\" class=\"data row9 col1\" >2</td>\n",
              "    </tr>\n",
              "    <tr>\n",
              "      <th id=\"T_99312_level0_row10\" class=\"row_heading level0 row10\" >10</th>\n",
              "      <td id=\"T_99312_row10_col0\" class=\"data row10 col0\" >Preprocess</td>\n",
              "      <td id=\"T_99312_row10_col1\" class=\"data row10 col1\" >True</td>\n",
              "    </tr>\n",
              "    <tr>\n",
              "      <th id=\"T_99312_level0_row11\" class=\"row_heading level0 row11\" >11</th>\n",
              "      <td id=\"T_99312_row11_col0\" class=\"data row11 col0\" >Imputation type</td>\n",
              "      <td id=\"T_99312_row11_col1\" class=\"data row11 col1\" >simple</td>\n",
              "    </tr>\n",
              "    <tr>\n",
              "      <th id=\"T_99312_level0_row12\" class=\"row_heading level0 row12\" >12</th>\n",
              "      <td id=\"T_99312_row12_col0\" class=\"data row12 col0\" >Numeric imputation</td>\n",
              "      <td id=\"T_99312_row12_col1\" class=\"data row12 col1\" >mean</td>\n",
              "    </tr>\n",
              "    <tr>\n",
              "      <th id=\"T_99312_level0_row13\" class=\"row_heading level0 row13\" >13</th>\n",
              "      <td id=\"T_99312_row13_col0\" class=\"data row13 col0\" >Categorical imputation</td>\n",
              "      <td id=\"T_99312_row13_col1\" class=\"data row13 col1\" >mode</td>\n",
              "    </tr>\n",
              "    <tr>\n",
              "      <th id=\"T_99312_level0_row14\" class=\"row_heading level0 row14\" >14</th>\n",
              "      <td id=\"T_99312_row14_col0\" class=\"data row14 col0\" >Maximum one-hot encoding</td>\n",
              "      <td id=\"T_99312_row14_col1\" class=\"data row14 col1\" >25</td>\n",
              "    </tr>\n",
              "    <tr>\n",
              "      <th id=\"T_99312_level0_row15\" class=\"row_heading level0 row15\" >15</th>\n",
              "      <td id=\"T_99312_row15_col0\" class=\"data row15 col0\" >Encoding method</td>\n",
              "      <td id=\"T_99312_row15_col1\" class=\"data row15 col1\" >None</td>\n",
              "    </tr>\n",
              "    <tr>\n",
              "      <th id=\"T_99312_level0_row16\" class=\"row_heading level0 row16\" >16</th>\n",
              "      <td id=\"T_99312_row16_col0\" class=\"data row16 col0\" >Fold Generator</td>\n",
              "      <td id=\"T_99312_row16_col1\" class=\"data row16 col1\" >StratifiedKFold</td>\n",
              "    </tr>\n",
              "    <tr>\n",
              "      <th id=\"T_99312_level0_row17\" class=\"row_heading level0 row17\" >17</th>\n",
              "      <td id=\"T_99312_row17_col0\" class=\"data row17 col0\" >Fold Number</td>\n",
              "      <td id=\"T_99312_row17_col1\" class=\"data row17 col1\" >10</td>\n",
              "    </tr>\n",
              "    <tr>\n",
              "      <th id=\"T_99312_level0_row18\" class=\"row_heading level0 row18\" >18</th>\n",
              "      <td id=\"T_99312_row18_col0\" class=\"data row18 col0\" >CPU Jobs</td>\n",
              "      <td id=\"T_99312_row18_col1\" class=\"data row18 col1\" >-1</td>\n",
              "    </tr>\n",
              "    <tr>\n",
              "      <th id=\"T_99312_level0_row19\" class=\"row_heading level0 row19\" >19</th>\n",
              "      <td id=\"T_99312_row19_col0\" class=\"data row19 col0\" >Use GPU</td>\n",
              "      <td id=\"T_99312_row19_col1\" class=\"data row19 col1\" >False</td>\n",
              "    </tr>\n",
              "    <tr>\n",
              "      <th id=\"T_99312_level0_row20\" class=\"row_heading level0 row20\" >20</th>\n",
              "      <td id=\"T_99312_row20_col0\" class=\"data row20 col0\" >Log Experiment</td>\n",
              "      <td id=\"T_99312_row20_col1\" class=\"data row20 col1\" >False</td>\n",
              "    </tr>\n",
              "    <tr>\n",
              "      <th id=\"T_99312_level0_row21\" class=\"row_heading level0 row21\" >21</th>\n",
              "      <td id=\"T_99312_row21_col0\" class=\"data row21 col0\" >Experiment Name</td>\n",
              "      <td id=\"T_99312_row21_col1\" class=\"data row21 col1\" >clf-default-name</td>\n",
              "    </tr>\n",
              "    <tr>\n",
              "      <th id=\"T_99312_level0_row22\" class=\"row_heading level0 row22\" >22</th>\n",
              "      <td id=\"T_99312_row22_col0\" class=\"data row22 col0\" >USI</td>\n",
              "      <td id=\"T_99312_row22_col1\" class=\"data row22 col1\" >88e5</td>\n",
              "    </tr>\n",
              "  </tbody>\n",
              "</table>\n"
            ]
          },
          "metadata": {}
        }
      ]
    },
    {
      "cell_type": "markdown",
      "source": [
        "**Train and Evaluate Models**\n",
        "\n",
        "Compare multiple classification models for multiclass classification and choose the best one:"
      ],
      "metadata": {
        "id": "Fsc180X8TATO"
      }
    },
    {
      "cell_type": "code",
      "source": [
        "best_model = compare_models()"
      ],
      "metadata": {
        "colab": {
          "base_uri": "https://localhost:8080/",
          "height": 793,
          "referenced_widgets": [
            "6d0509530b204811a5c881883ca3f86b",
            "6d46a5dc2e604e9ea095e7a9c2d54dd6",
            "2b259e700f2f490aba074b18022a31bd",
            "35d30483690a4c03a780b1726399388f",
            "3a221054db3441c4ade3c70b55a46602",
            "373c2ed48db64294ae47d6534491416c",
            "04c49cd3b1304d6ca02f1a60d41fa939",
            "e493af3cb14347e591c91e49c8d579cb",
            "316990997ffc4a60b6081ad5d577dbed",
            "94fd486559dd495a9c86e283725974a4",
            "76fa4a3409f14000b62c77bdc5b57389"
          ]
        },
        "id": "EqcW3tW7TDnj",
        "outputId": "0ec1c27d-fd08-4d81-d9f0-65da05cc11a6"
      },
      "execution_count": null,
      "outputs": [
        {
          "output_type": "display_data",
          "data": {
            "text/plain": [
              "<IPython.core.display.HTML object>"
            ],
            "text/html": []
          },
          "metadata": {}
        },
        {
          "output_type": "display_data",
          "data": {
            "text/plain": [
              "<pandas.io.formats.style.Styler at 0x7e87ae0e0760>"
            ],
            "text/html": [
              "<style type=\"text/css\">\n",
              "#T_75e23 th {\n",
              "  text-align: left;\n",
              "}\n",
              "#T_75e23_row0_col0, #T_75e23_row0_col2, #T_75e23_row1_col0, #T_75e23_row1_col2, #T_75e23_row2_col0, #T_75e23_row3_col0, #T_75e23_row3_col1, #T_75e23_row3_col3, #T_75e23_row3_col4, #T_75e23_row3_col5, #T_75e23_row3_col6, #T_75e23_row3_col7, #T_75e23_row4_col0, #T_75e23_row4_col1, #T_75e23_row4_col3, #T_75e23_row4_col4, #T_75e23_row4_col5, #T_75e23_row4_col6, #T_75e23_row4_col7, #T_75e23_row5_col0, #T_75e23_row5_col1, #T_75e23_row5_col2, #T_75e23_row5_col3, #T_75e23_row5_col4, #T_75e23_row5_col5, #T_75e23_row5_col6, #T_75e23_row5_col7, #T_75e23_row6_col0, #T_75e23_row6_col1, #T_75e23_row6_col2, #T_75e23_row6_col3, #T_75e23_row6_col4, #T_75e23_row6_col5, #T_75e23_row6_col6, #T_75e23_row6_col7, #T_75e23_row7_col0, #T_75e23_row7_col1, #T_75e23_row7_col2, #T_75e23_row7_col3, #T_75e23_row7_col4, #T_75e23_row7_col5, #T_75e23_row7_col6, #T_75e23_row7_col7, #T_75e23_row8_col0, #T_75e23_row8_col1, #T_75e23_row8_col2, #T_75e23_row8_col3, #T_75e23_row8_col4, #T_75e23_row8_col5, #T_75e23_row8_col6, #T_75e23_row8_col7, #T_75e23_row9_col0, #T_75e23_row9_col1, #T_75e23_row9_col2, #T_75e23_row9_col3, #T_75e23_row9_col4, #T_75e23_row9_col5, #T_75e23_row9_col6, #T_75e23_row9_col7, #T_75e23_row10_col0, #T_75e23_row10_col1, #T_75e23_row10_col2, #T_75e23_row10_col3, #T_75e23_row10_col4, #T_75e23_row10_col5, #T_75e23_row10_col6, #T_75e23_row10_col7, #T_75e23_row11_col0, #T_75e23_row11_col1, #T_75e23_row11_col2, #T_75e23_row11_col3, #T_75e23_row11_col4, #T_75e23_row11_col5, #T_75e23_row11_col6, #T_75e23_row11_col7, #T_75e23_row12_col0, #T_75e23_row12_col1, #T_75e23_row12_col2, #T_75e23_row12_col3, #T_75e23_row12_col4, #T_75e23_row12_col5, #T_75e23_row12_col6, #T_75e23_row12_col7, #T_75e23_row13_col0, #T_75e23_row13_col1, #T_75e23_row13_col2, #T_75e23_row13_col3, #T_75e23_row13_col4, #T_75e23_row13_col5, #T_75e23_row13_col6, #T_75e23_row13_col7, #T_75e23_row14_col0, #T_75e23_row14_col1, #T_75e23_row14_col2, #T_75e23_row14_col3, #T_75e23_row14_col4, #T_75e23_row14_col5, #T_75e23_row14_col6, #T_75e23_row14_col7 {\n",
              "  text-align: left;\n",
              "}\n",
              "#T_75e23_row0_col1, #T_75e23_row0_col3, #T_75e23_row0_col4, #T_75e23_row0_col5, #T_75e23_row0_col6, #T_75e23_row0_col7, #T_75e23_row1_col1, #T_75e23_row1_col3, #T_75e23_row1_col4, #T_75e23_row1_col5, #T_75e23_row1_col6, #T_75e23_row1_col7, #T_75e23_row2_col1, #T_75e23_row2_col2, #T_75e23_row2_col3, #T_75e23_row2_col4, #T_75e23_row2_col5, #T_75e23_row2_col6, #T_75e23_row2_col7, #T_75e23_row3_col2, #T_75e23_row4_col2 {\n",
              "  text-align: left;\n",
              "  background-color: yellow;\n",
              "}\n",
              "#T_75e23_row0_col8, #T_75e23_row1_col8, #T_75e23_row2_col8, #T_75e23_row3_col8, #T_75e23_row4_col8, #T_75e23_row5_col8, #T_75e23_row6_col8, #T_75e23_row7_col8, #T_75e23_row8_col8, #T_75e23_row9_col8, #T_75e23_row10_col8, #T_75e23_row11_col8, #T_75e23_row13_col8, #T_75e23_row14_col8 {\n",
              "  text-align: left;\n",
              "  background-color: lightgrey;\n",
              "}\n",
              "#T_75e23_row12_col8 {\n",
              "  text-align: left;\n",
              "  background-color: yellow;\n",
              "  background-color: lightgrey;\n",
              "}\n",
              "</style>\n",
              "<table id=\"T_75e23\" class=\"dataframe\">\n",
              "  <thead>\n",
              "    <tr>\n",
              "      <th class=\"blank level0\" >&nbsp;</th>\n",
              "      <th id=\"T_75e23_level0_col0\" class=\"col_heading level0 col0\" >Model</th>\n",
              "      <th id=\"T_75e23_level0_col1\" class=\"col_heading level0 col1\" >Accuracy</th>\n",
              "      <th id=\"T_75e23_level0_col2\" class=\"col_heading level0 col2\" >AUC</th>\n",
              "      <th id=\"T_75e23_level0_col3\" class=\"col_heading level0 col3\" >Recall</th>\n",
              "      <th id=\"T_75e23_level0_col4\" class=\"col_heading level0 col4\" >Prec.</th>\n",
              "      <th id=\"T_75e23_level0_col5\" class=\"col_heading level0 col5\" >F1</th>\n",
              "      <th id=\"T_75e23_level0_col6\" class=\"col_heading level0 col6\" >Kappa</th>\n",
              "      <th id=\"T_75e23_level0_col7\" class=\"col_heading level0 col7\" >MCC</th>\n",
              "      <th id=\"T_75e23_level0_col8\" class=\"col_heading level0 col8\" >TT (Sec)</th>\n",
              "    </tr>\n",
              "  </thead>\n",
              "  <tbody>\n",
              "    <tr>\n",
              "      <th id=\"T_75e23_level0_row0\" class=\"row_heading level0 row0\" >dt</th>\n",
              "      <td id=\"T_75e23_row0_col0\" class=\"data row0 col0\" >Decision Tree Classifier</td>\n",
              "      <td id=\"T_75e23_row0_col1\" class=\"data row0 col1\" >0.9999</td>\n",
              "      <td id=\"T_75e23_row0_col2\" class=\"data row0 col2\" >0.9999</td>\n",
              "      <td id=\"T_75e23_row0_col3\" class=\"data row0 col3\" >0.9999</td>\n",
              "      <td id=\"T_75e23_row0_col4\" class=\"data row0 col4\" >0.9999</td>\n",
              "      <td id=\"T_75e23_row0_col5\" class=\"data row0 col5\" >0.9999</td>\n",
              "      <td id=\"T_75e23_row0_col6\" class=\"data row0 col6\" >0.9999</td>\n",
              "      <td id=\"T_75e23_row0_col7\" class=\"data row0 col7\" >0.9999</td>\n",
              "      <td id=\"T_75e23_row0_col8\" class=\"data row0 col8\" >1.6210</td>\n",
              "    </tr>\n",
              "    <tr>\n",
              "      <th id=\"T_75e23_level0_row1\" class=\"row_heading level0 row1\" >gbc</th>\n",
              "      <td id=\"T_75e23_row1_col0\" class=\"data row1 col0\" >Gradient Boosting Classifier</td>\n",
              "      <td id=\"T_75e23_row1_col1\" class=\"data row1 col1\" >0.9999</td>\n",
              "      <td id=\"T_75e23_row1_col2\" class=\"data row1 col2\" >0.9999</td>\n",
              "      <td id=\"T_75e23_row1_col3\" class=\"data row1 col3\" >0.9999</td>\n",
              "      <td id=\"T_75e23_row1_col4\" class=\"data row1 col4\" >0.9999</td>\n",
              "      <td id=\"T_75e23_row1_col5\" class=\"data row1 col5\" >0.9999</td>\n",
              "      <td id=\"T_75e23_row1_col6\" class=\"data row1 col6\" >0.9999</td>\n",
              "      <td id=\"T_75e23_row1_col7\" class=\"data row1 col7\" >0.9999</td>\n",
              "      <td id=\"T_75e23_row1_col8\" class=\"data row1 col8\" >15.5540</td>\n",
              "    </tr>\n",
              "    <tr>\n",
              "      <th id=\"T_75e23_level0_row2\" class=\"row_heading level0 row2\" >xgboost</th>\n",
              "      <td id=\"T_75e23_row2_col0\" class=\"data row2 col0\" >Extreme Gradient Boosting</td>\n",
              "      <td id=\"T_75e23_row2_col1\" class=\"data row2 col1\" >0.9999</td>\n",
              "      <td id=\"T_75e23_row2_col2\" class=\"data row2 col2\" >1.0000</td>\n",
              "      <td id=\"T_75e23_row2_col3\" class=\"data row2 col3\" >0.9999</td>\n",
              "      <td id=\"T_75e23_row2_col4\" class=\"data row2 col4\" >0.9999</td>\n",
              "      <td id=\"T_75e23_row2_col5\" class=\"data row2 col5\" >0.9999</td>\n",
              "      <td id=\"T_75e23_row2_col6\" class=\"data row2 col6\" >0.9999</td>\n",
              "      <td id=\"T_75e23_row2_col7\" class=\"data row2 col7\" >0.9999</td>\n",
              "      <td id=\"T_75e23_row2_col8\" class=\"data row2 col8\" >4.6660</td>\n",
              "    </tr>\n",
              "    <tr>\n",
              "      <th id=\"T_75e23_level0_row3\" class=\"row_heading level0 row3\" >knn</th>\n",
              "      <td id=\"T_75e23_row3_col0\" class=\"data row3 col0\" >K Neighbors Classifier</td>\n",
              "      <td id=\"T_75e23_row3_col1\" class=\"data row3 col1\" >0.9998</td>\n",
              "      <td id=\"T_75e23_row3_col2\" class=\"data row3 col2\" >1.0000</td>\n",
              "      <td id=\"T_75e23_row3_col3\" class=\"data row3 col3\" >0.9998</td>\n",
              "      <td id=\"T_75e23_row3_col4\" class=\"data row3 col4\" >0.9998</td>\n",
              "      <td id=\"T_75e23_row3_col5\" class=\"data row3 col5\" >0.9998</td>\n",
              "      <td id=\"T_75e23_row3_col6\" class=\"data row3 col6\" >0.9998</td>\n",
              "      <td id=\"T_75e23_row3_col7\" class=\"data row3 col7\" >0.9998</td>\n",
              "      <td id=\"T_75e23_row3_col8\" class=\"data row3 col8\" >1.9570</td>\n",
              "    </tr>\n",
              "    <tr>\n",
              "      <th id=\"T_75e23_level0_row4\" class=\"row_heading level0 row4\" >nb</th>\n",
              "      <td id=\"T_75e23_row4_col0\" class=\"data row4 col0\" >Naive Bayes</td>\n",
              "      <td id=\"T_75e23_row4_col1\" class=\"data row4 col1\" >0.9922</td>\n",
              "      <td id=\"T_75e23_row4_col2\" class=\"data row4 col2\" >1.0000</td>\n",
              "      <td id=\"T_75e23_row4_col3\" class=\"data row4 col3\" >0.9922</td>\n",
              "      <td id=\"T_75e23_row4_col4\" class=\"data row4 col4\" >0.9923</td>\n",
              "      <td id=\"T_75e23_row4_col5\" class=\"data row4 col5\" >0.9922</td>\n",
              "      <td id=\"T_75e23_row4_col6\" class=\"data row4 col6\" >0.9913</td>\n",
              "      <td id=\"T_75e23_row4_col7\" class=\"data row4 col7\" >0.9913</td>\n",
              "      <td id=\"T_75e23_row4_col8\" class=\"data row4 col8\" >1.6940</td>\n",
              "    </tr>\n",
              "    <tr>\n",
              "      <th id=\"T_75e23_level0_row5\" class=\"row_heading level0 row5\" >lightgbm</th>\n",
              "      <td id=\"T_75e23_row5_col0\" class=\"data row5 col0\" >Light Gradient Boosting Machine</td>\n",
              "      <td id=\"T_75e23_row5_col1\" class=\"data row5 col1\" >0.9879</td>\n",
              "      <td id=\"T_75e23_row5_col2\" class=\"data row5 col2\" >0.9999</td>\n",
              "      <td id=\"T_75e23_row5_col3\" class=\"data row5 col3\" >0.9879</td>\n",
              "      <td id=\"T_75e23_row5_col4\" class=\"data row5 col4\" >0.9881</td>\n",
              "      <td id=\"T_75e23_row5_col5\" class=\"data row5 col5\" >0.9879</td>\n",
              "      <td id=\"T_75e23_row5_col6\" class=\"data row5 col6\" >0.9865</td>\n",
              "      <td id=\"T_75e23_row5_col7\" class=\"data row5 col7\" >0.9866</td>\n",
              "      <td id=\"T_75e23_row5_col8\" class=\"data row5 col8\" >11.4400</td>\n",
              "    </tr>\n",
              "    <tr>\n",
              "      <th id=\"T_75e23_level0_row6\" class=\"row_heading level0 row6\" >et</th>\n",
              "      <td id=\"T_75e23_row6_col0\" class=\"data row6 col0\" >Extra Trees Classifier</td>\n",
              "      <td id=\"T_75e23_row6_col1\" class=\"data row6 col1\" >0.9376</td>\n",
              "      <td id=\"T_75e23_row6_col2\" class=\"data row6 col2\" >0.9983</td>\n",
              "      <td id=\"T_75e23_row6_col3\" class=\"data row6 col3\" >0.9376</td>\n",
              "      <td id=\"T_75e23_row6_col4\" class=\"data row6 col4\" >0.9388</td>\n",
              "      <td id=\"T_75e23_row6_col5\" class=\"data row6 col5\" >0.9378</td>\n",
              "      <td id=\"T_75e23_row6_col6\" class=\"data row6 col6\" >0.9306</td>\n",
              "      <td id=\"T_75e23_row6_col7\" class=\"data row6 col7\" >0.9307</td>\n",
              "      <td id=\"T_75e23_row6_col8\" class=\"data row6 col8\" >2.7210</td>\n",
              "    </tr>\n",
              "    <tr>\n",
              "      <th id=\"T_75e23_level0_row7\" class=\"row_heading level0 row7\" >rf</th>\n",
              "      <td id=\"T_75e23_row7_col0\" class=\"data row7 col0\" >Random Forest Classifier</td>\n",
              "      <td id=\"T_75e23_row7_col1\" class=\"data row7 col1\" >0.9235</td>\n",
              "      <td id=\"T_75e23_row7_col2\" class=\"data row7 col2\" >0.9979</td>\n",
              "      <td id=\"T_75e23_row7_col3\" class=\"data row7 col3\" >0.9235</td>\n",
              "      <td id=\"T_75e23_row7_col4\" class=\"data row7 col4\" >0.9261</td>\n",
              "      <td id=\"T_75e23_row7_col5\" class=\"data row7 col5\" >0.9240</td>\n",
              "      <td id=\"T_75e23_row7_col6\" class=\"data row7 col6\" >0.9150</td>\n",
              "      <td id=\"T_75e23_row7_col7\" class=\"data row7 col7\" >0.9152</td>\n",
              "      <td id=\"T_75e23_row7_col8\" class=\"data row7 col8\" >2.9140</td>\n",
              "    </tr>\n",
              "    <tr>\n",
              "      <th id=\"T_75e23_level0_row8\" class=\"row_heading level0 row8\" >qda</th>\n",
              "      <td id=\"T_75e23_row8_col0\" class=\"data row8 col0\" >Quadratic Discriminant Analysis</td>\n",
              "      <td id=\"T_75e23_row8_col1\" class=\"data row8 col1\" >0.8192</td>\n",
              "      <td id=\"T_75e23_row8_col2\" class=\"data row8 col2\" >0.9905</td>\n",
              "      <td id=\"T_75e23_row8_col3\" class=\"data row8 col3\" >0.8192</td>\n",
              "      <td id=\"T_75e23_row8_col4\" class=\"data row8 col4\" >0.8494</td>\n",
              "      <td id=\"T_75e23_row8_col5\" class=\"data row8 col5\" >0.8121</td>\n",
              "      <td id=\"T_75e23_row8_col6\" class=\"data row8 col6\" >0.7991</td>\n",
              "      <td id=\"T_75e23_row8_col7\" class=\"data row8 col7\" >0.8031</td>\n",
              "      <td id=\"T_75e23_row8_col8\" class=\"data row8 col8\" >1.5120</td>\n",
              "    </tr>\n",
              "    <tr>\n",
              "      <th id=\"T_75e23_level0_row9\" class=\"row_heading level0 row9\" >lda</th>\n",
              "      <td id=\"T_75e23_row9_col0\" class=\"data row9 col0\" >Linear Discriminant Analysis</td>\n",
              "      <td id=\"T_75e23_row9_col1\" class=\"data row9 col1\" >0.8146</td>\n",
              "      <td id=\"T_75e23_row9_col2\" class=\"data row9 col2\" >0.9914</td>\n",
              "      <td id=\"T_75e23_row9_col3\" class=\"data row9 col3\" >0.8146</td>\n",
              "      <td id=\"T_75e23_row9_col4\" class=\"data row9 col4\" >0.8308</td>\n",
              "      <td id=\"T_75e23_row9_col5\" class=\"data row9 col5\" >0.8135</td>\n",
              "      <td id=\"T_75e23_row9_col6\" class=\"data row9 col6\" >0.7940</td>\n",
              "      <td id=\"T_75e23_row9_col7\" class=\"data row9 col7\" >0.7955</td>\n",
              "      <td id=\"T_75e23_row9_col8\" class=\"data row9 col8\" >1.5990</td>\n",
              "    </tr>\n",
              "    <tr>\n",
              "      <th id=\"T_75e23_level0_row10\" class=\"row_heading level0 row10\" >lr</th>\n",
              "      <td id=\"T_75e23_row10_col0\" class=\"data row10 col0\" >Logistic Regression</td>\n",
              "      <td id=\"T_75e23_row10_col1\" class=\"data row10 col1\" >0.7340</td>\n",
              "      <td id=\"T_75e23_row10_col2\" class=\"data row10 col2\" >0.9785</td>\n",
              "      <td id=\"T_75e23_row10_col3\" class=\"data row10 col3\" >0.7340</td>\n",
              "      <td id=\"T_75e23_row10_col4\" class=\"data row10 col4\" >0.7371</td>\n",
              "      <td id=\"T_75e23_row10_col5\" class=\"data row10 col5\" >0.7254</td>\n",
              "      <td id=\"T_75e23_row10_col6\" class=\"data row10 col6\" >0.7044</td>\n",
              "      <td id=\"T_75e23_row10_col7\" class=\"data row10 col7\" >0.7080</td>\n",
              "      <td id=\"T_75e23_row10_col8\" class=\"data row10 col8\" >2.9610</td>\n",
              "    </tr>\n",
              "    <tr>\n",
              "      <th id=\"T_75e23_level0_row11\" class=\"row_heading level0 row11\" >ada</th>\n",
              "      <td id=\"T_75e23_row11_col0\" class=\"data row11 col0\" >Ada Boost Classifier</td>\n",
              "      <td id=\"T_75e23_row11_col1\" class=\"data row11 col1\" >0.5999</td>\n",
              "      <td id=\"T_75e23_row11_col2\" class=\"data row11 col2\" >0.8889</td>\n",
              "      <td id=\"T_75e23_row11_col3\" class=\"data row11 col3\" >0.5999</td>\n",
              "      <td id=\"T_75e23_row11_col4\" class=\"data row11 col4\" >0.5200</td>\n",
              "      <td id=\"T_75e23_row11_col5\" class=\"data row11 col5\" >0.5333</td>\n",
              "      <td id=\"T_75e23_row11_col6\" class=\"data row11 col6\" >0.5555</td>\n",
              "      <td id=\"T_75e23_row11_col7\" class=\"data row11 col7\" >0.6299</td>\n",
              "      <td id=\"T_75e23_row11_col8\" class=\"data row11 col8\" >2.4760</td>\n",
              "    </tr>\n",
              "    <tr>\n",
              "      <th id=\"T_75e23_level0_row12\" class=\"row_heading level0 row12\" >ridge</th>\n",
              "      <td id=\"T_75e23_row12_col0\" class=\"data row12 col0\" >Ridge Classifier</td>\n",
              "      <td id=\"T_75e23_row12_col1\" class=\"data row12 col1\" >0.2093</td>\n",
              "      <td id=\"T_75e23_row12_col2\" class=\"data row12 col2\" >0.0000</td>\n",
              "      <td id=\"T_75e23_row12_col3\" class=\"data row12 col3\" >0.2093</td>\n",
              "      <td id=\"T_75e23_row12_col4\" class=\"data row12 col4\" >0.1390</td>\n",
              "      <td id=\"T_75e23_row12_col5\" class=\"data row12 col5\" >0.1008</td>\n",
              "      <td id=\"T_75e23_row12_col6\" class=\"data row12 col6\" >0.1214</td>\n",
              "      <td id=\"T_75e23_row12_col7\" class=\"data row12 col7\" >0.1492</td>\n",
              "      <td id=\"T_75e23_row12_col8\" class=\"data row12 col8\" >1.3780</td>\n",
              "    </tr>\n",
              "    <tr>\n",
              "      <th id=\"T_75e23_level0_row13\" class=\"row_heading level0 row13\" >svm</th>\n",
              "      <td id=\"T_75e23_row13_col0\" class=\"data row13 col0\" >SVM - Linear Kernel</td>\n",
              "      <td id=\"T_75e23_row13_col1\" class=\"data row13 col1\" >0.1100</td>\n",
              "      <td id=\"T_75e23_row13_col2\" class=\"data row13 col2\" >0.0000</td>\n",
              "      <td id=\"T_75e23_row13_col3\" class=\"data row13 col3\" >0.1100</td>\n",
              "      <td id=\"T_75e23_row13_col4\" class=\"data row13 col4\" >0.1102</td>\n",
              "      <td id=\"T_75e23_row13_col5\" class=\"data row13 col5\" >0.0339</td>\n",
              "      <td id=\"T_75e23_row13_col6\" class=\"data row13 col6\" >0.0111</td>\n",
              "      <td id=\"T_75e23_row13_col7\" class=\"data row13 col7\" >0.0493</td>\n",
              "      <td id=\"T_75e23_row13_col8\" class=\"data row13 col8\" >5.1510</td>\n",
              "    </tr>\n",
              "    <tr>\n",
              "      <th id=\"T_75e23_level0_row14\" class=\"row_heading level0 row14\" >dummy</th>\n",
              "      <td id=\"T_75e23_row14_col0\" class=\"data row14 col0\" >Dummy Classifier</td>\n",
              "      <td id=\"T_75e23_row14_col1\" class=\"data row14 col1\" >0.1000</td>\n",
              "      <td id=\"T_75e23_row14_col2\" class=\"data row14 col2\" >0.5000</td>\n",
              "      <td id=\"T_75e23_row14_col3\" class=\"data row14 col3\" >0.1000</td>\n",
              "      <td id=\"T_75e23_row14_col4\" class=\"data row14 col4\" >0.0100</td>\n",
              "      <td id=\"T_75e23_row14_col5\" class=\"data row14 col5\" >0.0182</td>\n",
              "      <td id=\"T_75e23_row14_col6\" class=\"data row14 col6\" >0.0000</td>\n",
              "      <td id=\"T_75e23_row14_col7\" class=\"data row14 col7\" >0.0000</td>\n",
              "      <td id=\"T_75e23_row14_col8\" class=\"data row14 col8\" >1.5570</td>\n",
              "    </tr>\n",
              "  </tbody>\n",
              "</table>\n"
            ]
          },
          "metadata": {}
        },
        {
          "output_type": "display_data",
          "data": {
            "text/plain": [
              "Processing:   0%|          | 0/65 [00:00<?, ?it/s]"
            ],
            "application/vnd.jupyter.widget-view+json": {
              "version_major": 2,
              "version_minor": 0,
              "model_id": "6d0509530b204811a5c881883ca3f86b"
            }
          },
          "metadata": {
            "application/vnd.jupyter.widget-view+json": {
              "colab": {
                "custom_widget_manager": {
                  "url": "https://ssl.gstatic.com/colaboratory-static/widgets/colab-cdn-widget-manager/b3e629b1971e1542/manager.min.js"
                }
              }
            }
          }
        },
        {
          "output_type": "display_data",
          "data": {
            "text/plain": [
              "<IPython.core.display.HTML object>"
            ],
            "text/html": []
          },
          "metadata": {}
        },
        {
          "output_type": "display_data",
          "data": {
            "text/plain": [
              "<google.colab._quickchart_helpers.SectionTitle at 0x7e87ac73f880>"
            ],
            "text/html": [
              "<h4 class=\"colab-quickchart-section-title\">Categorical distributions</h4>\n",
              "<style>\n",
              "  .colab-quickchart-section-title {\n",
              "      clear: both;\n",
              "  }\n",
              "</style>"
            ]
          },
          "metadata": {}
        },
        {
          "output_type": "display_data",
          "data": {
            "text/plain": [
              "import numpy as np\n",
              "from google.colab import autoviz\n",
              "\n",
              "def categorical_histogram(df, colname, figscale=1, mpl_palette_name='Dark2'):\n",
              "  from matplotlib import pyplot as plt\n",
              "  import seaborn as sns\n",
              "  df.groupby(colname).size().plot(kind='barh', color=sns.palettes.mpl_palette(mpl_palette_name), figsize=(8*figscale, 4.8*figscale))\n",
              "  plt.gca().spines[['top', 'right',]].set_visible(False)\n",
              "  return autoviz.MplChart.from_current_mpl_state()\n",
              "\n",
              "chart = categorical_histogram(_df_0, *['  '], **{})\n",
              "chart"
            ],
            "text/html": [
              "      <div class=\"colab-quickchart-chart-with-code\" id=\"chart-f2a58dce-b3a0-4b67-8cd1-bc71d3f974d7\">\n",
              "        <img src=\"data:image/png;base64,iVBORw0KGgoAAAANSUhEUgAAAfUAAADkCAYAAACBtb2bAAAAOXRFWHRTb2Z0d2FyZQBNYXRwbG90\n",
              "bGliIHZlcnNpb24zLjcuMSwgaHR0cHM6Ly9tYXRwbG90bGliLm9yZy/bCgiHAAAACXBIWXMAAA9h\n",
              "AAAPYQGoP6dpAAAlIUlEQVR4nO3de1yO9/8H8FdnJST2cIgwU8t0LkkWcohFhX3nsMVPJEMOy3Gz\n",
              "L7MaRuYwjVgOk0y+vhFbNpnTsKUckowOqBBTSee67+v3h4f7u3s1ulN3fHo9H48eD/d1fe7P9X5f\n",
              "edyv+7ru677SkCRJAhEREb3yNBu6ACIiIqobDHUiIiJBMNSJiIgEwVAnIiISBEOdiIhIEAx1IiIi\n",
              "QTDUiYiIBMFQJyIiEgRDnYSTkJCAsrKyhi5DLcrKyhpNv+xVTOy1bjHUSUgymayhS1CLp302hn7Z\n",
              "q5jYa91iqBMREQmCoU5ERCQIhjoREZEgGOpERESCYKgTEREJgqFOREQkCIY6ERGRIBjqREREgmCo\n",
              "ExERCYKhTkREJAiGOhERkSAY6kRERIJgqBMREQmCoU5ERCQI7YYugKiu/ZFSiO93HWvoMtTsbkMX\n",
              "oEbsVUyNo9fRH7Sr1/l5pE5ERCQIhjoREZEgGOpERESCYKgTEREJgqFOREQkCIY6ERGRIBjqRERE\n",
              "gmCoExERCYKhTkREJAhhQj06Ohpubm51Nk5k5ubmOHnyZL3N//d9HBMTg169esHPz4/7n4ioHmlI\n",
              "kiSpY0Nubm7IycmBpuaT9xGtW7eGk5MTJk+ejDfeeEMdJdQrX19fxMfHAwBkMhnkcjl0dHQU62Nj\n",
              "Y2FiYlLvdeTk5GDjxo04fvw48vPzYWRkBBcXFwQEBKB9+/YAnoT6li1b4OrqWu/1AICnpydcXFyw\n",
              "YMECtWxv964TuJjwWC3bIiJSxegP2sHCwgIGBgb1Mr9aj9QXL16MpKQkJCYmYuvWrWjZsiVGjRqF\n",
              "s2fPqrOMehEeHo6kpCQkJSXhww8/hJWVleJxUlKSWgL93r17GDVqFMrKyhAZGYlLly5h586dKCoq\n",
              "wrvvvosHDx7Uew3VKSwshKmpaYNsm4ioMWmQ0+86Ojro2rUrFixYAB8fHyxevBgymQwAkJ2djalT\n",
              "p8LJyQmOjo6YP38+CgsLFc89ffo0PD09YWNjAy8vL8Ubgv3798PFxQUAIJfLsWLFCvTp0wc2Njbw\n",
              "9PTEqVOnqowDgBs3bmD8+PFwcHCAk5MTlixZgrKyMsVYT09PxSljW1tbzJkzBxUVFbXq29zcHNu3\n",
              "b0efPn0QFhYGADh79ixGjx4NW1tbvP3229i4caPSc3bt2oWhQ4fC2toaHh4eOHr06D/Ov3r1arRt\n",
              "2xYrV66EiYkJNDQ00LlzZ3z11VcYOHAgcnJyqjwnNzcXM2fOhLOzMxwcHODn54e7d//3hxXCwsLQ\n",
              "v39/WFtbw93dHQcOHFBpH7u5uSE7OxtBQUHw9fWtsv+vXbuGCRMmwMHBAb169UJQUJBi/+7fvx/D\n",
              "hg3DihUrYGNjU239RET0Pw3+mfr//d//ISsrC8nJyZAkCdOmTUO7du1w/PhxxMbGIicnBytXrgTw\n",
              "5NRyQEAApk6divj4eEyYMAHTp09Hfn6+0pyHDx/GmTNncPDgQSQkJGDChAlYsGBBlTAuLy+Hr68v\n",
              "rK2tcfr0aURFRSE+Ph7r1q1TjMnOzsaVK1dw6NAh7N27F0ePHsXPP/9c636PHj2K6Oho+Pn54d69\n",
              "e5g2bRrGjh2L8+fPY+vWrdizZw9iYmIAAD/99BO+/vprrFq1CgkJCZg1axZmz56NO3fuVJlXJpMh\n",
              "Li4O77//fpV1WlpaWLZsGXr06FFl3apVq1BUVIS4uDicOHECAPDFF18AABITE7Fz505ERETg4sWL\n",
              "+PTTT7F06VI8fPiwxvv42LFjMDExweLFixEeHq60rqSkBJMnT0bv3r1x5swZREVF4bfffsO3336r\n",
              "GHP//n3o6ekhPj4ebdq0UXFvExG9fEpKSlBcXKzST001+J9ebd26NZo3b46srCwAT46cIyMjoa+v\n",
              "D319fQQEBGDSpElYtmwZfvzxR3Ts2BHvvPMOAGDkyJHQ09ODXC5XmrOgoADa2trQ19eHlpYWRo0a\n",
              "hREjRig+z3/q5MmTKCkpQUBAAHR1dWFqaor3338fW7duxfz58wEARUVFmD17NgwMDNCtWzeYm5sj\n",
              "PT291v0OHToUrVu3BgAcOnQI3bp1g7e3N4AnR/JjxozBgQMHMHz4cOzbtw/vvvuuIowHDx4Me3t7\n",
              "HDp0CFOmTFGaNzc3F8XFxejSpYtK9Xz22WeorKxUfL4zcOBAbNq0CQDw+PFjaGpqokmTJtDQ0ECf\n",
              "Pn2QkJAATU3NGu/jZzl+/DgkSYK/vz8AoGPHjpg0aRI2b96MqVOnKmrw8/NTuj6BiOhVdvPmTZWf\n",
              "Y29vX6NxDR7qAFBZWQlNTU1kZmZCJpPByclJab1MJkNeXh5u376NDh06KK3z8PCoMp+HhwcOHDgA\n",
              "V1dXuLi4oF+/fvDw8KgSOFlZWejYsSN0dXUVyzp16oQ7d+4o3ii0bNkShoaGivX6+vooLS2tda9P\n",
              "L1YDgNu3byMpKQmWlpaKZZIkKYL59u3b+PXXX7Fjxw6l9dVdWKihoQEAio8xaurWrVtYsWIFLl++\n",
              "jNLSUsjlchgZGQEAnJ2d0b17d7i5ucHZ2Rmurq7w8vKCgYFBjffxs2RmZuLhw4dV+v/r76N58+ZK\n",
              "+5+I6FXXuXNn6Ovr18vcDR7qt27dQnFxMV5//XXcvn0bBgYGuHDhQrVjNTU1qxyVV8fIyAh79+5F\n",
              "YmIifvnlF6xfvx6RkZGIiIhQGldeXl7t858G5NNt1iUtLS3Fv5s0aYK+ffsqjoz/rkmTJggMDISv\n",
              "r+9z523VqhWaNWuG1NTUGr+jk8vl8Pf3h729PY4cOQJjY2NERUVh7dq1AABdXV1s2rQJ165dQ1xc\n",
              "HCIiIhAeHo79+/fXeB8/i56eHrp166b4uKE62toN/l+UiKhO6evri3H1e3U2bNgAMzMzmJmZwdTU\n",
              "FMXFxcjMzFSsLywsRF5eHgCgQ4cOyMjIUHr+rl27lMYDQFlZGUpKSmBnZ4fAwEAcOnQI169fx7Vr\n",
              "15TGdezYEZmZmUrhnp6ejg4dOtR5mFfH1NQU169fx1+/VfjgwQNFPaampvjjjz+UnnPnzh1U9y1E\n",
              "DQ0NDBo0CDt27KhytC6TyTBx4kTExsYqLf/zzz+RnZ0NHx8fGBsbAwCuXr2qWF9RUYHCwkK8+eab\n",
              "mD59OqKjo6GhoYEzZ87UeB8/r//MzEwUFRUpluXl5SldGElERDXXYKGek5OD5cuXIy4uDsHBwQAA\n",
              "MzMz2NraIjg4GLm5uSgoKMCSJUsUn28PGzYMd+/exd69e1FeXo7Dhw9jzZo1aNq0qdLcwcHBWLBg\n",
              "AXJzcyFJEpKTkyGXy5VOfQOAq6srtLW1sXHjRpSXlyM9PR07d+5UfMZd3zw8PJCfn4/Q0FCUlpYi\n",
              "MzMTvr6+itPto0ePxg8//IDjx4+jsrIS586dw7Bhw3Dp0qVq55s9ezYeP36MSZMmISMjA5IkISMj\n",
              "A7NmzcK9e/fg7OysNN7Y2BgGBga4ePEiysrKEBMTg5SUFBQWFqKoqAjh4eGKC/oAIC0tDY8ePYKp\n",
              "qWmN9/Gz9OnTB8bGxli5ciUKCwvx4MEDzJo1C6tXr67lHiUiatzUGupBQUGwtLREjx494OnpiZyc\n",
              "HERFRcHKykoxJiQkBJIkYcCAARg0aBBkMhlWrFgB4MlFdd9++y22b98OR0dHhIWFYePGjYqjzKcC\n",
              "AwOhqakJd3d32NnZITg4GCEhIVXGNW3aFGFhYYiPj4ezszP8/Pzg5eWluEirvrVs2RKhoaGIi4uD\n",
              "o6MjPvjgA/Tv319xuv3pDVuWLVsGOzs7LFu2DEuXLoWNjU2187Vp0wb79u2DiYkJfHx8YG1tjUmT\n",
              "JqF9+/aIjIxEixYtlMZra2tj6dKlCAsLQ+/evREfH48NGzagbdu2GDx4MCZOnAgzMzN4e3vDxsYG\n",
              "s2fPxty5c2FhYVHjffwsOjo6CA0NRXp6OlxcXODt7Y3OnTur7SY1RESiUdsd5YjUhXeUI6KXlVB3\n",
              "lCMiIqL6w1AnIiISBEOdiIhIEAx1IiIiQTDUiYiIBMFQJyIiEgRDnYiISBAMdSIiIkEw1ImIiATB\n",
              "P4FFwjG3MIT3SMd6u2PTy6S4uBgpKSn1eoeqlwV7FVNj7LU+8UidiIhIEAx1IiIiQTDUiYiIBMFQ\n",
              "JyIiEgRDnYiISBAMdSIiIkEw1ImIiATBUCciIhIEQ52IiEgQDHUiIiJBMNSJiIgEwVAnIiISBEOd\n",
              "iIhIEAx1IiIiQTDUiYiIBMFQJyIiEgRDnYiISBAMdSIiIkEw1ImIiATBUCciIhIEQ52IiEgQDHUi\n",
              "IiJBMNSJiIgEwVAnIiISBEOdiIhIEAx1IiIiQTDUiYiIBMFQJyIiEgRDnYiISBDaDV0AUV3TubAb\n",
              "WRvWNnQZatMMQFZDF6Em7FVMjalXBPxer9PzSJ2IiEgQDHUiIiJBMNSJiIgEwVAnIiISBEOdiIhI\n",
              "EAx1IiIiQTDUiYiIBMFQJyIiEgRDnYiISBAMdSIiIkEw1AFYWlri119/BQC4ubkhMjISAODr64u1\n",
              "a9c2SE11te2srCyYm5sjLS3txYtSUVpaGszNzZGV9fwbQO7fvx8uLi5qqIqISFwNcu/39PR0bNy4\n",
              "EWfPnkVRURFatWoFNzc3zJgxA0ZGRmqvJykpqdrl4eHh9bZNc3Nz6OjoQENDQ2m5nZ0dduzYUa/b\n",
              "/is3Nzfk5ubi119/RdOmTZXWbd++HcuXL8fy5csxcuRItdRDRES1p/Yj9ZSUFLz77rto27YtDh48\n",
              "iMTERGzcuBF//PEHxo4di9LSUnWX1GBCQ0ORlJSk9LNjxw6112FgYICjR49WWR4TEwNjY2O110NE\n",
              "RLWj9lBftmwZ+vTpg3nz5qF169bQ0tKChYUFvvnmG9jY2OD+/fsAgHv37uHDDz+Ek5MT7O3tMWfO\n",
              "HOTn5wMAfvvtN9jZ2SEuLg5ubm6wtbXF2rVrkZSUBE9PT9ja2mLGjBmoqKgAAPj4+GDNmjWYPXs2\n",
              "bGxs0LdvX/z888+KmszNzXHy5Mkqtfr4+GD16tUAgA0bNuDDDz/Eli1b4OLiAkdHRwQFBSnG5ubm\n",
              "YsKECbCysoKXlxdOnDhR41PP1VF12zNnzoSzszMcHBzg5+eHu3fv1nhbffv2xcGDB5WW3bp1C3l5\n",
              "eXjjjTeUlu/ZswdDhw6FtbU1hgwZgh9++EGx7uHDh5g8eTJsbW3h4eGBy5cvKz03OzsbU6dOhZOT\n",
              "ExwdHTF//nwUFhZWqUcul2PFihXo06cPbGxs4OnpiVOnTtW4HyKixkqtof7w4UMkJibigw8+qLLO\n",
              "0NAQy5cvh6mpKQBg2rRpaNasGeLi4nDkyBHcv38fS5YsUYwvKSnB2bNncfjwYSxZsgSbNm1CaGgo\n",
              "tm/fjv379+PEiRM4duyYYvyePXvg7e2N33//HX5+fpgzZw5yc3NVqj8xMRGVlZX45ZdfsH79enz3\n",
              "3XeK4Prkk09QUVGBkydPYu3atVi3bl1tdlGttr1q1SoUFRUhLi4OJ06cAAB88cUXNZ7bzc0NCQkJ\n",
              "+PPPPxXLYmJi4O7urjTu2LFjWLVqFT7//HOcP38eM2fOxLx58/DHH38otllWVobjx48jPDwc+/fv\n",
              "VzxXkiRMmzYN7dq1w/HjxxEbG4ucnBysXLmySj2HDx/GmTNncPDgQSQkJGDChAlYsGCB4k0aEdGr\n",
              "rKSkBMXFxSr91JRaQz0zMxMA0KVLl2eOS0lJQXJyMubNmwdDQ0O0bt0aU6ZMQVxcHMrLywE8OZob\n",
              "N24c9PX14ebmBkmS4O7uDmNjY3Tp0gWvv/46bt26pZjTxsYG/fr1g66uLsaNG4emTZvi9OnTKtWv\n",
              "paUFf39/6OrqwtnZGcbGxkhLS4NcLsepU6fg6+sLIyMjdOnSBaNHj1Zx79Ru2wDw2WefYcOGDTAw\n",
              "MEDTpk0xcOBAXLlypcZzN2/eHH369FE66j58+DA8PT2Vxu3btw/Dhg2Dg4MDdHR08M4778DCwgJH\n",
              "jhwBABw9ehQTJ05EixYt0KZNG6U3b0lJSbhx4wbmzZsHfX19tGrVCgEBATh48CAkSVLaTkFBAbS1\n",
              "taGvrw8tLS2MGjUKp0+fho6Ojsr7jYjoZXPz5k2kpKSo9FNTar1Q7ulFYXK5/JnjsrKy0KJFC7z2\n",
              "2muKZaampqioqEBOTo5iWbt27QAAenp6AIA2bdoo1unp6aGsrEzx+K9vJDQ1NdGuXTvFqf6aat++\n",
              "PTQ1//c+SF9fH6WlpcjPz0dFRQVMTEwU6ywtLZ8737Rp06pcKDdy5Eh89tlnNd428ORU+YoVK3D5\n",
              "8mWUlpZCLperfMGht7c3Nm3ahPHjx+Pq1avQ1NSEhYWF0pisrCz06tVLaVmnTp2QnZ2NvLw8lJaW\n",
              "okOHDop1nTt3Vvw7MzMTMpkMTk5OSs+XyWTIy8tTWubh4YEDBw7A1dUVLi4u6NevHzw8PJT6JyJ6\n",
              "VXXu3Bn6+vr1MrdaQ/3pqfUbN24oBfDfPT0ar85fQ/DvL/LPetGXyWRKjyVJqhKoz/NP8z890tTW\n",
              "1n7u2L8KDQ2Fq6vrC21bLpfD398f9vb2OHLkCIyNjREVFaXy1+FcXV3xySef4ObNm4iJicHw4cOr\n",
              "jPmn34uGhoZi3V/381+PwPX09GBgYIALFy48txYjIyPs3bsXiYmJio8bIiMjERERobSPiYheRfr6\n",
              "+jAwMKiXudV66NOyZUv07NkT27Ztq7KupKQEI0eOREJCAjp27IhHjx4pfcabnp4OPT29Z74ZeJan\n",
              "p/6BJ0F47949tG3btlZz/Z2RkRG0tLRw584dxbJ/+ppcXfvzzz+RnZ0NHx8fxZXqV69eVXkeXV1d\n",
              "DB06FEeOHMGRI0cwbNiwKmNMTU2Rnp6utCw9PR0dO3aEsbExdHR0lC7QS01NVXpucXGx0u+hsLCw\n",
              "ylE6AJSVlaGkpAR2dnYIDAzEoUOHcP36dVy7dk3lvoiIGhO1n8/85JNPcPHiRXz00Ue4d+8e5HI5\n",
              "UlJSMHnyZDRp0gRWVlawtLRE165dERISguLiYuTk5OCbb76Bh4dHrT9XvXDhAs6cOYPy8nLs2rUL\n",
              "RUVFdXazEy0tLTg4OGDbtm14/PgxMjIyEBUVVSdzP4+xsTEMDAxw8eJFlJWVISYmBikpKSgsLERR\n",
              "UZFKc3l7e+P7779HmzZtlE6jP+Xl5YWYmBhcvHgRFRUV2L9/P27cuKH4vfTq1Qs7d+7E48ePkZ2d\n",
              "jYiICMVzzczMYGtri+DgYOTm5qKgoABLlizB/Pnzq2wnODgYCxYsQG5uLiRJQnJyMuRyOdq3b6/6\n",
              "DiIiakTUHupvvvkm9u7dC7lcjhEjRsDW1hazZ89Gr169EB4errghS2hoKO7fv49+/frhvffeg7W1\n",
              "Nf7973/Xeruenp74/vvv0bNnT2zduhXr1q2r0xvdBAcHo6CgAC4uLli0aBH8/f0B1Ow0/IvQ1tbG\n",
              "0qVLERYWht69eyM+Ph4bNmxA27ZtMXjwYJXmsrGxgY6OTrWn3oEnn3X7+/tj/vz5cHJywu7duxEe\n",
              "Hq747Dw4OBjAk1P5fn5+mDBhgtLzQ0JCIEkSBgwYgEGDBkEmk2HFihVVthMYGAhNTU24u7vDzs4O\n",
              "wcHBCAkJ4XfmiYieQ0P6+6XHAvLx8YG1tTXmzp1br9spLy+Hrq4uAODcuXOYOHEiLl26pFhG6nF5\n",
              "ayCanF7b0GUQEVXxOOB3WFhYiPGZusg+/vhj+Pn5oaCgAI8fP8a2bdvQu3dvBjoREakNQ72OzJs3\n",
              "Dy1atMDAgQMxcOBAaGlpKU5HExERqUOj+H7Qd999V+/baNmyJdavX1/v2yEiIvonPFInIiISBEOd\n",
              "iIhIEAx1IiIiQTDUiYiIBMFQJyIiEkSjuPqdGpcK23F4Y9zn9XZzh5dJcXExUlJS6vVmFi8L9iqm\n",
              "xthrfeKROhERkSAY6kRERIJgqBMREQmCoU5ERCQIhjoREZEgGOpERESCYKgTEREJgqFOREQkCIY6\n",
              "ERGRIBjqREREgmCoExERCYKhTkREJAiGOhERkSAY6kRERIJgqBMREQmCoU5ERCQIhjoREZEgGOpE\n",
              "RESCYKgTEREJgqFOREQkCIY6ERGRIBjqREREgmCoExERCYKhTkREJAiGOhERkSAY6kRERIJgqBMR\n",
              "EQmCoU5ERCQIhjoREZEgGOpERESC0G7oAojq2oEH1+F1Oaqhy1Cvyw1dgBqxVzE1kl4PWP2rXufn\n",
              "kToREZEgGOpERESCYKgTEREJgqFOREQkCIY6ERGRIBjqREREgmCoExERCYKhTkREJAiGOhERkSAY\n",
              "6kRERIJgqBMREQmCoS64U6dOoXfv3pgzZ06VdREREXB3d4etrS3c3d3x3XffPXOupKQkDBo0CO+9\n",
              "916VdT/++COGDx8OGxsb9O/fH6tWrUJlZWW185SWliI4OBiurq5wcHDAxIkTcf36dcX6rKwsTJs2\n",
              "DT179oSTkxP8/PyQkZGhYudERI0PQ11gW7ZsQVBQEDp16lRl3YkTJ7Bq1Sp8+eWXSEhIwJdffomQ\n",
              "kBAcP3682rkOHjyIgICAaue6cuUKFi5ciLlz5yIxMRGbN2/Gf//7X0RERFQ716pVq5CQkIA9e/bg\n",
              "5MmTaN++PWbMmKFYP336dLRu3Rq//PIL4uLiYGhoWO2bEiIiUsZQF5ienh727dv3j0HcrVs3WFtb\n",
              "Q1NTE9bW1jAzM8PVq1cBANHR0XBzc1OMLysrw/fffw9ra+sqc+nr6yMkJAR9+/aFpqYmzMzMYGdn\n",
              "hxs3bgAA4uPjYWlpifLycgCAoaEh5s+fj/bt28PAwAATJkzArVu3kJOTg/LycnzwwQcIDAxE06ZN\n",
              "YWhoiGHDhiE1NRWSJNXHbiIiUquSkhIUFxer9FNT/NOrAhs/fvw/rnv77bexdetW/Pbbb7C1tUVy\n",
              "cjLS0tKwePFiAIC3tze8vb0V4//1r3/+c4Fdu3ZF165dAQAymQy///47zp8/jy+//BIA4OjoiKSk\n",
              "JMX4vx913717F3p6ejAyMoKurq7Stu7evYvdu3djyJAh0NDQqHnzREQvqZs3b6r8HHt7+xqNY6g3\n",
              "UlZWVli0aBF8fX1RWVkJbW1tLFy4EFZWVrWeMzo6Gh9//DH09PSwcOFCuLq6Pvc5jx49QnBwMHx9\n",
              "faGnp6e0rkePHqioqMCgQYOwbNmyWtdFRPQy6dy5M/T19etlbp5+b6TOnTuHkJAQbN26FZcvX8aO\n",
              "HTuwadMmHD16tNZzent74/Lly9iyZQtCQ0OxZ8+eZ46/f/8+fHx8YGFhgYCAgCrrr1y5ghMnTkBH\n",
              "RweTJk2CXC6vdW1ERC8LfX19GBgYqPRTUwz1RioyMhKDBw+Gs7Mz9PT04ODgAA8PD+zbt++F5tXW\n",
              "1oaDgwPGjRuHXbt2/eO427dvY8yYMbC3t8eaNWugpaVV7bi2bdti0aJFSExMRHJy8gvVRkQkOoZ6\n",
              "IyWXyyGTyZSWPb2QTVWbN2/G3LlzlZZpaGhAW7v6T3dyc3Ph6+uLkSNHYsmSJUqBnp6ejr59+yIv\n",
              "L0+xTFPzyX9THR2dWtVHRNRYMNQbKTc3Nxw5cgTnz59HZWUlLl++jB9//BGDBg1SeS5HR0fExsYi\n",
              "NjYWlZWVuHHjBvbs2YP+/ftXO37NmjWwtrZW+hrbU506dUKzZs0QFBSEgoICFBYWIiQkBKampnj9\n",
              "9ddVro2IqDHRkPg9IWFZWloCgOImME+PnJ9eib5jxw7s3r0bOTk5aNOmDd577z34+vpCQ0MD0dHR\n",
              "WL9+PY4dOwYAcHd3x507dyCTySCXyxVHzbGxsTAxMcFPP/2Er776CllZWWjdujU8PDwwc+ZM6Orq\n",
              "Ij4+Hr6+vkhISICuri4sLCygpaVV5Wr2zz//HN7e3sjOzkZQUBDOnTsHXV1dWFlZYeHChYor7J/n\n",
              "37GRCL976cV3IBFRHTtg9S9YWFio9Dm5KhjqJByGOhG9rOo71Hn6nYiISBAMdSIiIkEw1ImIiATB\n",
              "UCciIhIEQ52IiEgQDHUiIiJBMNSJiIgEwVAnIiISBP/0KgnH6zUzLHT1qrebO7xMiouLkZKSUq83\n",
              "s3hZsFcxNcZe6xOP1ImIiATBUCciIhIEQ52IiEgQDHUiIiJBMNSJiIgEwVAnIiISBEOdiIhIEAx1\n",
              "IiIiQTDUiYiIBMFQJyIiEgRDnYiISBAMdSIiIkEw1ImIiATBUCciIhKEhiRJUkMXQVSXUlNToaen\n",
              "19BlEBHVGV1dXbRp0+a54xjqREREguDpdyIiIkEw1ImIiATBUCciIhIEQ52IiEgQDHUiIiJBMNSJ\n",
              "iIgEwVAnIiISBEOdiIhIEAx1IiIiQTDUiYiIBMFQp1dOdnY2pkyZAicnJ/Tv3x+rVq2CXC6vduzO\n",
              "nTvh7u4OOzs7jB07FleuXFFztS9GlV4jIyPh7u4OW1tbeHl54ejRo2qu9sWo0utTOTk5sLW1xYYN\n",
              "G9RUZd1Rpd+0tDT4+PjA2toaffv2xfbt29Vb7Auqaa9yuRzr16+Hm5sbbG1tMXz4cPzwww8NUHHt\n",
              "nTp1Cr1798acOXOeOU4ul+Orr77CgAED4OjoiEmTJiEzM/PFC5CIXjEjRoyQFi9eLBUUFEgZGRnS\n",
              "4MGDpfDw8Crj4uLiJAcHB+nixYtSSUmJtHnzZsnFxUUqKipqgKprp6a9xsbGSvb29tL58+el8vJy\n",
              "ae/evdJbb70l3b59uwGqrp2a9vpXM2bMkOzt7aX169erqcq6U9N+S0pKpH79+klbtmyRiouLpUuX\n",
              "LkkeHh5SampqA1RdOzXtddeuXVKfPn2ktLQ0qbKyUjp27JjUvXt3KSUlpQGqVl1YWJg0ePBgacyY\n",
              "MdLs2bOfOXbnzp1S//79pdTUVOnx48fSsmXLpOHDh0tyufyFamCo0yvl8uXLkoWFhZSfn69Ytnv3\n",
              "bsnd3b3K2ClTpkhffPGF4rFMJpNcXFykQ4cOqaXWF6VKr9HR0VJERITSsp49e0oHDx6s9zrrgiq9\n",
              "PnX8+HFpyJAhUmBg4CsX6qr0u3//fmnYsGHqLK9OqdLrokWLpFmzZikt6927txQdHV3fZdaJHTt2\n",
              "SAUFBdKCBQueG+oeHh7Sjh07FI8fP34sde/eXbpw4cIL1cDT7/RKSU5OhomJCVq0aKFY9tZbbyEj\n",
              "IwOFhYVVxnbv3l3xWFNTExYWFkhKSlJbvS9ClV69vLwwbtw4xeOCggIUFRXV6E81vgxU6RUASktL\n",
              "sWzZMixZsgTa2trqLLVOqNJvQkICzMzMsGjRIjg4OGDIkCE4ePCgukuuNVV67devH37//XekpKSg\n",
              "vLwccXFxKCkpQc+ePdVddq2MHz8ezZo1e+640tJSpKamKr0+GRoaolOnTi/8+sRQp1dKfn4+mjdv\n",
              "rrTs6YtFXl5elbF/fSF5Ovbv415WqvT6V5IkYfHixbC2tn5lXgxV7XXjxo2wsbFBr1691FJfXVOl\n",
              "33v37iEuLg69e/fGqVOn4O/vjwULFuDq1atqq/dFqNLr4MGDMXr0aHh7e8PS0hKBgYFYvnw52rVr\n",
              "p7Z61eHRo0eQJKleXp9evbe41OhJklQvY19GqtZfUVGBhQsXIjU1FTt37qynqupHTXtNTU1FVFQU\n",
              "YmJi6rmi+lXTfiVJwltvvYXhw4cDAEaMGIE9e/YgNjZW6UjvZVbTXqOjoxEdHY2oqCiYm5vj7Nmz\n",
              "CAwMRLt27WBlZVXPVapffbw+8UidXinGxsbIz89XWpafnw8NDQ0YGxsrLW/ZsmW1Y/8+7mWlSq/A\n",
              "k1N6/v7+uHPnDiIiItC6dWs1VfriatqrJElYunQpAgIC8Nprr6m5yrqjyu/2tddeq3JK18TEBA8e\n",
              "PKjvMuuEKr3u2rULo0ePhpWVFfT09NCvXz/06tXrlfq4oSaMjIygqalZ7X5p1arVC83NUKdXSo8e\n",
              "PXD37l3k5uYqliUlJeGNN95A06ZNq4xNTk5WPJbJZLh69Sqsra3VVu+LUKVXSZIwZ84caGtrY/v2\n",
              "7WjZsqW6y30hNe31zp07iI+Px/r16+Hk5AQnJyccPnwYW7duxYgRIxqi9FpR5XfbtWtXXL9+Xemo\n",
              "Ljs7GyYmJmqr90Wo0qtcLodMJlNaVl5erpY61UlPTw/dunVTen0qKCjA7du3X/iMBEOdXindu3eH\n",
              "paUlQkJCUFhYiLS0NGzbtg1jx44FAAwZMgTnz58HAIwdOxbR0dG4ePEiSkpK8M0330BXVxf9+vVr\n",
              "wA5qTpVeY2JikJqainXr1kFPT68hy66Vmvbatm1bnDhxAgcOHFD8uLm5YcyYMQgLC2vgLmpOld+t\n",
              "p6cn8vLysGnTJpSWluLQoUNITk6Gp6dnQ7ZQY6r06ubmhn379uHatWuorKzE6dOncfbsWQwYMKAh\n",
              "W6gTOTk5GDJkiOK76GPHjsXOnTuRlpaGwsJCrF69GhYWFrC0tHyh7fAzdXrlrF+/Hp9++ilcXFxg\n",
              "aGiIMWPGKK78zsjIQHFxMQDA1dUVH330EWbPno2HDx/C0tISYWFhaNKkSUOWr5Ka9vqf//wH2dnZ\n",
              "VS6M8/LyQlBQkNrrro2a9KqlpYW2bdsqPU9fXx+Ghoav3On4mv5u27Rpg82bNyM4OBihoaFo3749\n",
              "Nm7cCFNT04YsXyU17dXf3x+VlZWYPn06cnNzYWJigqCgIDg7Ozdk+TX2NJArKysBQHEDqKSkJFRU\n",
              "VCAjI0Nx5mHMmDF48OABfHx8UFRUBCcnJ3z99dcvXIOG9KpfSUREREQAePqdiIhIGAx1IiIiQTDU\n",
              "iYiIBMFQJyIiEgRDnYiISBAMdSIiIkEw1ImIiATBUCciIhIEQ52IiEgQDHUiIiJBMNSJiIgE8f+9\n",
              "Ivpnzq83PQAAAABJRU5ErkJggg==\n",
              "\">\n",
              "        \n",
              "      </div>\n",
              "      <script></script>\n",
              "      <script type=\"text/javascript\">\n",
              "        (() => {\n",
              "          const chartElement = document.getElementById(\"chart-f2a58dce-b3a0-4b67-8cd1-bc71d3f974d7\");\n",
              "          async function getCodeForChartHandler(event) {\n",
              "            const chartCodeResponse =  await google.colab.kernel.invokeFunction(\n",
              "                'getCodeForChart', [\"chart-f2a58dce-b3a0-4b67-8cd1-bc71d3f974d7\"], {});\n",
              "            const responseJson = chartCodeResponse.data['application/json'];\n",
              "            await google.colab.notebook.addCell(responseJson.code, 'code');\n",
              "          }\n",
              "          chartElement.onclick = getCodeForChartHandler;\n",
              "        })();\n",
              "      </script>\n",
              "      <style>\n",
              "        .colab-quickchart-chart-with-code  {\n",
              "            display: block;\n",
              "            float: left;\n",
              "            border: 1px solid transparent;\n",
              "        }\n",
              "\n",
              "        .colab-quickchart-chart-with-code:hover {\n",
              "            cursor: pointer;\n",
              "            border: 1px solid #aaa;\n",
              "        }\n",
              "      </style>"
            ]
          },
          "metadata": {}
        }
      ]
    },
    {
      "cell_type": "markdown",
      "source": [
        "This command will train and evaluate several models and return the best-performing one based on the default metric (Accuracy)."
      ],
      "metadata": {
        "id": "mAC7lvZkTJOx"
      }
    },
    {
      "cell_type": "markdown",
      "source": [
        "**Evaluate Model Performance**"
      ],
      "metadata": {
        "id": "rbeH-V8pVkp5"
      }
    },
    {
      "cell_type": "code",
      "source": [
        "evaluate_model(best_model)"
      ],
      "metadata": {
        "colab": {
          "base_uri": "https://localhost:8080/",
          "height": 425,
          "referenced_widgets": [
            "9af60badf2724a8dbfb08de24e6f9103",
            "cd99b0343db44ab593ee1b0eb2e398cd",
            "7518226c01a64f37b178b1101b81f7a3",
            "4e32e7ace4fe49faa0e1b7525a1659b3",
            "b1f659e3b4704df4ba4dd1c8f9729246",
            "4790c39965f04a6ab6777a3d774a1409",
            "c06e1e72acc64c69b0ed2f6f44426436"
          ]
        },
        "id": "hDZBraepVqoP",
        "outputId": "d891c8bd-5e0f-49c3-a395-591b573efd6d"
      },
      "execution_count": null,
      "outputs": [
        {
          "output_type": "display_data",
          "data": {
            "text/plain": [
              "                         Parameters\n",
              "ccp_alpha                       0.0\n",
              "class_weight                   None\n",
              "criterion                      gini\n",
              "max_depth                      None\n",
              "max_features                   None\n",
              "max_leaf_nodes                 None\n",
              "min_impurity_decrease           0.0\n",
              "min_samples_leaf                  1\n",
              "min_samples_split                 2\n",
              "min_weight_fraction_leaf        0.0\n",
              "random_state                    856\n",
              "splitter                       best"
            ],
            "text/html": [
              "\n",
              "  <div id=\"df-641dbc69-de1e-41a2-a3d7-57d6e5cd5559\" class=\"colab-df-container\">\n",
              "    <div>\n",
              "<style scoped>\n",
              "    .dataframe tbody tr th:only-of-type {\n",
              "        vertical-align: middle;\n",
              "    }\n",
              "\n",
              "    .dataframe tbody tr th {\n",
              "        vertical-align: top;\n",
              "    }\n",
              "\n",
              "    .dataframe thead th {\n",
              "        text-align: right;\n",
              "    }\n",
              "</style>\n",
              "<table border=\"1\" class=\"dataframe\">\n",
              "  <thead>\n",
              "    <tr style=\"text-align: right;\">\n",
              "      <th></th>\n",
              "      <th>Parameters</th>\n",
              "    </tr>\n",
              "  </thead>\n",
              "  <tbody>\n",
              "    <tr>\n",
              "      <th>ccp_alpha</th>\n",
              "      <td>0.0</td>\n",
              "    </tr>\n",
              "    <tr>\n",
              "      <th>class_weight</th>\n",
              "      <td>None</td>\n",
              "    </tr>\n",
              "    <tr>\n",
              "      <th>criterion</th>\n",
              "      <td>gini</td>\n",
              "    </tr>\n",
              "    <tr>\n",
              "      <th>max_depth</th>\n",
              "      <td>None</td>\n",
              "    </tr>\n",
              "    <tr>\n",
              "      <th>max_features</th>\n",
              "      <td>None</td>\n",
              "    </tr>\n",
              "    <tr>\n",
              "      <th>max_leaf_nodes</th>\n",
              "      <td>None</td>\n",
              "    </tr>\n",
              "    <tr>\n",
              "      <th>min_impurity_decrease</th>\n",
              "      <td>0.0</td>\n",
              "    </tr>\n",
              "    <tr>\n",
              "      <th>min_samples_leaf</th>\n",
              "      <td>1</td>\n",
              "    </tr>\n",
              "    <tr>\n",
              "      <th>min_samples_split</th>\n",
              "      <td>2</td>\n",
              "    </tr>\n",
              "    <tr>\n",
              "      <th>min_weight_fraction_leaf</th>\n",
              "      <td>0.0</td>\n",
              "    </tr>\n",
              "    <tr>\n",
              "      <th>random_state</th>\n",
              "      <td>856</td>\n",
              "    </tr>\n",
              "    <tr>\n",
              "      <th>splitter</th>\n",
              "      <td>best</td>\n",
              "    </tr>\n",
              "  </tbody>\n",
              "</table>\n",
              "</div>\n",
              "    <div class=\"colab-df-buttons\">\n",
              "\n",
              "  <div class=\"colab-df-container\">\n",
              "    <button class=\"colab-df-convert\" onclick=\"convertToInteractive('df-641dbc69-de1e-41a2-a3d7-57d6e5cd5559')\"\n",
              "            title=\"Convert this dataframe to an interactive table.\"\n",
              "            style=\"display:none;\">\n",
              "\n",
              "  <svg xmlns=\"http://www.w3.org/2000/svg\" height=\"24px\" viewBox=\"0 -960 960 960\">\n",
              "    <path d=\"M120-120v-720h720v720H120Zm60-500h600v-160H180v160Zm220 220h160v-160H400v160Zm0 220h160v-160H400v160ZM180-400h160v-160H180v160Zm440 0h160v-160H620v160ZM180-180h160v-160H180v160Zm440 0h160v-160H620v160Z\"/>\n",
              "  </svg>\n",
              "    </button>\n",
              "\n",
              "  <style>\n",
              "    .colab-df-container {\n",
              "      display:flex;\n",
              "      gap: 12px;\n",
              "    }\n",
              "\n",
              "    .colab-df-convert {\n",
              "      background-color: #E8F0FE;\n",
              "      border: none;\n",
              "      border-radius: 50%;\n",
              "      cursor: pointer;\n",
              "      display: none;\n",
              "      fill: #1967D2;\n",
              "      height: 32px;\n",
              "      padding: 0 0 0 0;\n",
              "      width: 32px;\n",
              "    }\n",
              "\n",
              "    .colab-df-convert:hover {\n",
              "      background-color: #E2EBFA;\n",
              "      box-shadow: 0px 1px 2px rgba(60, 64, 67, 0.3), 0px 1px 3px 1px rgba(60, 64, 67, 0.15);\n",
              "      fill: #174EA6;\n",
              "    }\n",
              "\n",
              "    .colab-df-buttons div {\n",
              "      margin-bottom: 4px;\n",
              "    }\n",
              "\n",
              "    [theme=dark] .colab-df-convert {\n",
              "      background-color: #3B4455;\n",
              "      fill: #D2E3FC;\n",
              "    }\n",
              "\n",
              "    [theme=dark] .colab-df-convert:hover {\n",
              "      background-color: #434B5C;\n",
              "      box-shadow: 0px 1px 3px 1px rgba(0, 0, 0, 0.15);\n",
              "      filter: drop-shadow(0px 1px 2px rgba(0, 0, 0, 0.3));\n",
              "      fill: #FFFFFF;\n",
              "    }\n",
              "  </style>\n",
              "\n",
              "    <script>\n",
              "      const buttonEl =\n",
              "        document.querySelector('#df-641dbc69-de1e-41a2-a3d7-57d6e5cd5559 button.colab-df-convert');\n",
              "      buttonEl.style.display =\n",
              "        google.colab.kernel.accessAllowed ? 'block' : 'none';\n",
              "\n",
              "      async function convertToInteractive(key) {\n",
              "        const element = document.querySelector('#df-641dbc69-de1e-41a2-a3d7-57d6e5cd5559');\n",
              "        const dataTable =\n",
              "          await google.colab.kernel.invokeFunction('convertToInteractive',\n",
              "                                                    [key], {});\n",
              "        if (!dataTable) return;\n",
              "\n",
              "        const docLinkHtml = 'Like what you see? Visit the ' +\n",
              "          '<a target=\"_blank\" href=https://colab.research.google.com/notebooks/data_table.ipynb>data table notebook</a>'\n",
              "          + ' to learn more about interactive tables.';\n",
              "        element.innerHTML = '';\n",
              "        dataTable['output_type'] = 'display_data';\n",
              "        await google.colab.output.renderOutput(dataTable, element);\n",
              "        const docLink = document.createElement('div');\n",
              "        docLink.innerHTML = docLinkHtml;\n",
              "        element.appendChild(docLink);\n",
              "      }\n",
              "    </script>\n",
              "  </div>\n",
              "\n",
              "\n",
              "<div id=\"df-1b3b3fe0-0eec-4f0f-94ca-e0af83634c74\">\n",
              "  <button class=\"colab-df-quickchart\" onclick=\"quickchart('df-1b3b3fe0-0eec-4f0f-94ca-e0af83634c74')\"\n",
              "            title=\"Suggest charts.\"\n",
              "            style=\"display:none;\">\n",
              "\n",
              "<svg xmlns=\"http://www.w3.org/2000/svg\" height=\"24px\"viewBox=\"0 0 24 24\"\n",
              "     width=\"24px\">\n",
              "    <g>\n",
              "        <path d=\"M19 3H5c-1.1 0-2 .9-2 2v14c0 1.1.9 2 2 2h14c1.1 0 2-.9 2-2V5c0-1.1-.9-2-2-2zM9 17H7v-7h2v7zm4 0h-2V7h2v10zm4 0h-2v-4h2v4z\"/>\n",
              "    </g>\n",
              "</svg>\n",
              "  </button>\n",
              "\n",
              "<style>\n",
              "  .colab-df-quickchart {\n",
              "      --bg-color: #E8F0FE;\n",
              "      --fill-color: #1967D2;\n",
              "      --hover-bg-color: #E2EBFA;\n",
              "      --hover-fill-color: #174EA6;\n",
              "      --disabled-fill-color: #AAA;\n",
              "      --disabled-bg-color: #DDD;\n",
              "  }\n",
              "\n",
              "  [theme=dark] .colab-df-quickchart {\n",
              "      --bg-color: #3B4455;\n",
              "      --fill-color: #D2E3FC;\n",
              "      --hover-bg-color: #434B5C;\n",
              "      --hover-fill-color: #FFFFFF;\n",
              "      --disabled-bg-color: #3B4455;\n",
              "      --disabled-fill-color: #666;\n",
              "  }\n",
              "\n",
              "  .colab-df-quickchart {\n",
              "    background-color: var(--bg-color);\n",
              "    border: none;\n",
              "    border-radius: 50%;\n",
              "    cursor: pointer;\n",
              "    display: none;\n",
              "    fill: var(--fill-color);\n",
              "    height: 32px;\n",
              "    padding: 0;\n",
              "    width: 32px;\n",
              "  }\n",
              "\n",
              "  .colab-df-quickchart:hover {\n",
              "    background-color: var(--hover-bg-color);\n",
              "    box-shadow: 0 1px 2px rgba(60, 64, 67, 0.3), 0 1px 3px 1px rgba(60, 64, 67, 0.15);\n",
              "    fill: var(--button-hover-fill-color);\n",
              "  }\n",
              "\n",
              "  .colab-df-quickchart-complete:disabled,\n",
              "  .colab-df-quickchart-complete:disabled:hover {\n",
              "    background-color: var(--disabled-bg-color);\n",
              "    fill: var(--disabled-fill-color);\n",
              "    box-shadow: none;\n",
              "  }\n",
              "\n",
              "  .colab-df-spinner {\n",
              "    border: 2px solid var(--fill-color);\n",
              "    border-color: transparent;\n",
              "    border-bottom-color: var(--fill-color);\n",
              "    animation:\n",
              "      spin 1s steps(1) infinite;\n",
              "  }\n",
              "\n",
              "  @keyframes spin {\n",
              "    0% {\n",
              "      border-color: transparent;\n",
              "      border-bottom-color: var(--fill-color);\n",
              "      border-left-color: var(--fill-color);\n",
              "    }\n",
              "    20% {\n",
              "      border-color: transparent;\n",
              "      border-left-color: var(--fill-color);\n",
              "      border-top-color: var(--fill-color);\n",
              "    }\n",
              "    30% {\n",
              "      border-color: transparent;\n",
              "      border-left-color: var(--fill-color);\n",
              "      border-top-color: var(--fill-color);\n",
              "      border-right-color: var(--fill-color);\n",
              "    }\n",
              "    40% {\n",
              "      border-color: transparent;\n",
              "      border-right-color: var(--fill-color);\n",
              "      border-top-color: var(--fill-color);\n",
              "    }\n",
              "    60% {\n",
              "      border-color: transparent;\n",
              "      border-right-color: var(--fill-color);\n",
              "    }\n",
              "    80% {\n",
              "      border-color: transparent;\n",
              "      border-right-color: var(--fill-color);\n",
              "      border-bottom-color: var(--fill-color);\n",
              "    }\n",
              "    90% {\n",
              "      border-color: transparent;\n",
              "      border-bottom-color: var(--fill-color);\n",
              "    }\n",
              "  }\n",
              "</style>\n",
              "\n",
              "  <script>\n",
              "    async function quickchart(key) {\n",
              "      const quickchartButtonEl =\n",
              "        document.querySelector('#' + key + ' button');\n",
              "      quickchartButtonEl.disabled = true;  // To prevent multiple clicks.\n",
              "      quickchartButtonEl.classList.add('colab-df-spinner');\n",
              "      try {\n",
              "        const charts = await google.colab.kernel.invokeFunction(\n",
              "            'suggestCharts', [key], {});\n",
              "      } catch (error) {\n",
              "        console.error('Error during call to suggestCharts:', error);\n",
              "      }\n",
              "      quickchartButtonEl.classList.remove('colab-df-spinner');\n",
              "      quickchartButtonEl.classList.add('colab-df-quickchart-complete');\n",
              "    }\n",
              "    (() => {\n",
              "      let quickchartButtonEl =\n",
              "        document.querySelector('#df-1b3b3fe0-0eec-4f0f-94ca-e0af83634c74 button');\n",
              "      quickchartButtonEl.style.display =\n",
              "        google.colab.kernel.accessAllowed ? 'block' : 'none';\n",
              "    })();\n",
              "  </script>\n",
              "</div>\n",
              "    </div>\n",
              "  </div>\n"
            ]
          },
          "metadata": {}
        }
      ]
    },
    {
      "cell_type": "markdown",
      "source": [
        "**Finalize and Save Model**"
      ],
      "metadata": {
        "id": "oxiV2p81XCB_"
      }
    },
    {
      "cell_type": "code",
      "source": [
        "final_model = finalize_model(best_model)\n",
        "save_model(final_model, 'multiclass_model')"
      ],
      "metadata": {
        "colab": {
          "base_uri": "https://localhost:8080/"
        },
        "id": "_CVqQDtaYZ00",
        "outputId": "bbf033fc-c431-4e1c-8a26-0a11a3f202b6"
      },
      "execution_count": null,
      "outputs": [
        {
          "output_type": "stream",
          "name": "stdout",
          "text": [
            "Transformation Pipeline and Model Successfully Saved\n"
          ]
        },
        {
          "output_type": "execute_result",
          "data": {
            "text/plain": [
              "(Pipeline(memory=FastMemory(location=/tmp/joblib),\n",
              "          steps=[('label_encoding',\n",
              "                  TransformerWrapperWithInverse(exclude=None, include=None,\n",
              "                                                transformer=LabelEncoder())),\n",
              "                 ('numerical_imputer',\n",
              "                  TransformerWrapper(exclude=None, include=['id'],\n",
              "                                     transformer=SimpleImputer(add_indicator=False,\n",
              "                                                               copy=True,\n",
              "                                                               fill_value=None,\n",
              "                                                               keep_empty_features=False,\n",
              "                                                               missing_values=nan,\n",
              "                                                               strate...\n",
              "                                                               min_samples_leaf=20,\n",
              "                                                               return_df=True,\n",
              "                                                               smoothing=10,\n",
              "                                                               verbose=0))),\n",
              "                 ('actual_estimator',\n",
              "                  DecisionTreeClassifier(ccp_alpha=0.0, class_weight=None,\n",
              "                                         criterion='gini', max_depth=None,\n",
              "                                         max_features=None, max_leaf_nodes=None,\n",
              "                                         min_impurity_decrease=0.0,\n",
              "                                         min_samples_leaf=1, min_samples_split=2,\n",
              "                                         min_weight_fraction_leaf=0.0,\n",
              "                                         random_state=856, splitter='best'))],\n",
              "          verbose=False),\n",
              " 'multiclass_model.pkl')"
            ]
          },
          "metadata": {},
          "execution_count": 22
        }
      ]
    },
    {
      "cell_type": "markdown",
      "source": [
        "**Task 3: Regression**"
      ],
      "metadata": {
        "id": "vhUDr_paa3I9"
      }
    },
    {
      "cell_type": "code",
      "source": [
        "import pandas as pd\n",
        "from pycaret.regression import *"
      ],
      "metadata": {
        "id": "zJsGOd2ycm-U"
      },
      "execution_count": null,
      "outputs": []
    },
    {
      "cell_type": "code",
      "source": [
        "data = pd.read_csv('/content/adm_data_regression.csv')"
      ],
      "metadata": {
        "id": "6k5oDYzCc7bg"
      },
      "execution_count": null,
      "outputs": []
    },
    {
      "cell_type": "code",
      "source": [
        "data.head()"
      ],
      "metadata": {
        "colab": {
          "base_uri": "https://localhost:8080/",
          "height": 206
        },
        "id": "t-xNnOCEdBlm",
        "outputId": "0d878344-7e2c-4807-e6d6-ca1c388fec7d"
      },
      "execution_count": null,
      "outputs": [
        {
          "output_type": "execute_result",
          "data": {
            "text/plain": [
              "   Serial No.  GRE Score  TOEFL Score  University Rating  SOP  LOR   CGPA  \\\n",
              "0           1        337          118                  4  4.5   4.5  9.65   \n",
              "1           2        324          107                  4  4.0   4.5  8.87   \n",
              "2           3        316          104                  3  3.0   3.5  8.00   \n",
              "3           4        322          110                  3  3.5   2.5  8.67   \n",
              "4           5        314          103                  2  2.0   3.0  8.21   \n",
              "\n",
              "   Research  Chance of Admit   \n",
              "0         1              0.92  \n",
              "1         1              0.76  \n",
              "2         1              0.72  \n",
              "3         1              0.80  \n",
              "4         0              0.65  "
            ],
            "text/html": [
              "\n",
              "  <div id=\"df-076b0b6d-9621-49a9-9391-f6af7a88b5e3\" class=\"colab-df-container\">\n",
              "    <div>\n",
              "<style scoped>\n",
              "    .dataframe tbody tr th:only-of-type {\n",
              "        vertical-align: middle;\n",
              "    }\n",
              "\n",
              "    .dataframe tbody tr th {\n",
              "        vertical-align: top;\n",
              "    }\n",
              "\n",
              "    .dataframe thead th {\n",
              "        text-align: right;\n",
              "    }\n",
              "</style>\n",
              "<table border=\"1\" class=\"dataframe\">\n",
              "  <thead>\n",
              "    <tr style=\"text-align: right;\">\n",
              "      <th></th>\n",
              "      <th>Serial No.</th>\n",
              "      <th>GRE Score</th>\n",
              "      <th>TOEFL Score</th>\n",
              "      <th>University Rating</th>\n",
              "      <th>SOP</th>\n",
              "      <th>LOR</th>\n",
              "      <th>CGPA</th>\n",
              "      <th>Research</th>\n",
              "      <th>Chance of Admit</th>\n",
              "    </tr>\n",
              "  </thead>\n",
              "  <tbody>\n",
              "    <tr>\n",
              "      <th>0</th>\n",
              "      <td>1</td>\n",
              "      <td>337</td>\n",
              "      <td>118</td>\n",
              "      <td>4</td>\n",
              "      <td>4.5</td>\n",
              "      <td>4.5</td>\n",
              "      <td>9.65</td>\n",
              "      <td>1</td>\n",
              "      <td>0.92</td>\n",
              "    </tr>\n",
              "    <tr>\n",
              "      <th>1</th>\n",
              "      <td>2</td>\n",
              "      <td>324</td>\n",
              "      <td>107</td>\n",
              "      <td>4</td>\n",
              "      <td>4.0</td>\n",
              "      <td>4.5</td>\n",
              "      <td>8.87</td>\n",
              "      <td>1</td>\n",
              "      <td>0.76</td>\n",
              "    </tr>\n",
              "    <tr>\n",
              "      <th>2</th>\n",
              "      <td>3</td>\n",
              "      <td>316</td>\n",
              "      <td>104</td>\n",
              "      <td>3</td>\n",
              "      <td>3.0</td>\n",
              "      <td>3.5</td>\n",
              "      <td>8.00</td>\n",
              "      <td>1</td>\n",
              "      <td>0.72</td>\n",
              "    </tr>\n",
              "    <tr>\n",
              "      <th>3</th>\n",
              "      <td>4</td>\n",
              "      <td>322</td>\n",
              "      <td>110</td>\n",
              "      <td>3</td>\n",
              "      <td>3.5</td>\n",
              "      <td>2.5</td>\n",
              "      <td>8.67</td>\n",
              "      <td>1</td>\n",
              "      <td>0.80</td>\n",
              "    </tr>\n",
              "    <tr>\n",
              "      <th>4</th>\n",
              "      <td>5</td>\n",
              "      <td>314</td>\n",
              "      <td>103</td>\n",
              "      <td>2</td>\n",
              "      <td>2.0</td>\n",
              "      <td>3.0</td>\n",
              "      <td>8.21</td>\n",
              "      <td>0</td>\n",
              "      <td>0.65</td>\n",
              "    </tr>\n",
              "  </tbody>\n",
              "</table>\n",
              "</div>\n",
              "    <div class=\"colab-df-buttons\">\n",
              "\n",
              "  <div class=\"colab-df-container\">\n",
              "    <button class=\"colab-df-convert\" onclick=\"convertToInteractive('df-076b0b6d-9621-49a9-9391-f6af7a88b5e3')\"\n",
              "            title=\"Convert this dataframe to an interactive table.\"\n",
              "            style=\"display:none;\">\n",
              "\n",
              "  <svg xmlns=\"http://www.w3.org/2000/svg\" height=\"24px\" viewBox=\"0 -960 960 960\">\n",
              "    <path d=\"M120-120v-720h720v720H120Zm60-500h600v-160H180v160Zm220 220h160v-160H400v160Zm0 220h160v-160H400v160ZM180-400h160v-160H180v160Zm440 0h160v-160H620v160ZM180-180h160v-160H180v160Zm440 0h160v-160H620v160Z\"/>\n",
              "  </svg>\n",
              "    </button>\n",
              "\n",
              "  <style>\n",
              "    .colab-df-container {\n",
              "      display:flex;\n",
              "      gap: 12px;\n",
              "    }\n",
              "\n",
              "    .colab-df-convert {\n",
              "      background-color: #E8F0FE;\n",
              "      border: none;\n",
              "      border-radius: 50%;\n",
              "      cursor: pointer;\n",
              "      display: none;\n",
              "      fill: #1967D2;\n",
              "      height: 32px;\n",
              "      padding: 0 0 0 0;\n",
              "      width: 32px;\n",
              "    }\n",
              "\n",
              "    .colab-df-convert:hover {\n",
              "      background-color: #E2EBFA;\n",
              "      box-shadow: 0px 1px 2px rgba(60, 64, 67, 0.3), 0px 1px 3px 1px rgba(60, 64, 67, 0.15);\n",
              "      fill: #174EA6;\n",
              "    }\n",
              "\n",
              "    .colab-df-buttons div {\n",
              "      margin-bottom: 4px;\n",
              "    }\n",
              "\n",
              "    [theme=dark] .colab-df-convert {\n",
              "      background-color: #3B4455;\n",
              "      fill: #D2E3FC;\n",
              "    }\n",
              "\n",
              "    [theme=dark] .colab-df-convert:hover {\n",
              "      background-color: #434B5C;\n",
              "      box-shadow: 0px 1px 3px 1px rgba(0, 0, 0, 0.15);\n",
              "      filter: drop-shadow(0px 1px 2px rgba(0, 0, 0, 0.3));\n",
              "      fill: #FFFFFF;\n",
              "    }\n",
              "  </style>\n",
              "\n",
              "    <script>\n",
              "      const buttonEl =\n",
              "        document.querySelector('#df-076b0b6d-9621-49a9-9391-f6af7a88b5e3 button.colab-df-convert');\n",
              "      buttonEl.style.display =\n",
              "        google.colab.kernel.accessAllowed ? 'block' : 'none';\n",
              "\n",
              "      async function convertToInteractive(key) {\n",
              "        const element = document.querySelector('#df-076b0b6d-9621-49a9-9391-f6af7a88b5e3');\n",
              "        const dataTable =\n",
              "          await google.colab.kernel.invokeFunction('convertToInteractive',\n",
              "                                                    [key], {});\n",
              "        if (!dataTable) return;\n",
              "\n",
              "        const docLinkHtml = 'Like what you see? Visit the ' +\n",
              "          '<a target=\"_blank\" href=https://colab.research.google.com/notebooks/data_table.ipynb>data table notebook</a>'\n",
              "          + ' to learn more about interactive tables.';\n",
              "        element.innerHTML = '';\n",
              "        dataTable['output_type'] = 'display_data';\n",
              "        await google.colab.output.renderOutput(dataTable, element);\n",
              "        const docLink = document.createElement('div');\n",
              "        docLink.innerHTML = docLinkHtml;\n",
              "        element.appendChild(docLink);\n",
              "      }\n",
              "    </script>\n",
              "  </div>\n",
              "\n",
              "\n",
              "<div id=\"df-f6101848-623a-4c85-b480-6dabdf4e0d4c\">\n",
              "  <button class=\"colab-df-quickchart\" onclick=\"quickchart('df-f6101848-623a-4c85-b480-6dabdf4e0d4c')\"\n",
              "            title=\"Suggest charts.\"\n",
              "            style=\"display:none;\">\n",
              "\n",
              "<svg xmlns=\"http://www.w3.org/2000/svg\" height=\"24px\"viewBox=\"0 0 24 24\"\n",
              "     width=\"24px\">\n",
              "    <g>\n",
              "        <path d=\"M19 3H5c-1.1 0-2 .9-2 2v14c0 1.1.9 2 2 2h14c1.1 0 2-.9 2-2V5c0-1.1-.9-2-2-2zM9 17H7v-7h2v7zm4 0h-2V7h2v10zm4 0h-2v-4h2v4z\"/>\n",
              "    </g>\n",
              "</svg>\n",
              "  </button>\n",
              "\n",
              "<style>\n",
              "  .colab-df-quickchart {\n",
              "      --bg-color: #E8F0FE;\n",
              "      --fill-color: #1967D2;\n",
              "      --hover-bg-color: #E2EBFA;\n",
              "      --hover-fill-color: #174EA6;\n",
              "      --disabled-fill-color: #AAA;\n",
              "      --disabled-bg-color: #DDD;\n",
              "  }\n",
              "\n",
              "  [theme=dark] .colab-df-quickchart {\n",
              "      --bg-color: #3B4455;\n",
              "      --fill-color: #D2E3FC;\n",
              "      --hover-bg-color: #434B5C;\n",
              "      --hover-fill-color: #FFFFFF;\n",
              "      --disabled-bg-color: #3B4455;\n",
              "      --disabled-fill-color: #666;\n",
              "  }\n",
              "\n",
              "  .colab-df-quickchart {\n",
              "    background-color: var(--bg-color);\n",
              "    border: none;\n",
              "    border-radius: 50%;\n",
              "    cursor: pointer;\n",
              "    display: none;\n",
              "    fill: var(--fill-color);\n",
              "    height: 32px;\n",
              "    padding: 0;\n",
              "    width: 32px;\n",
              "  }\n",
              "\n",
              "  .colab-df-quickchart:hover {\n",
              "    background-color: var(--hover-bg-color);\n",
              "    box-shadow: 0 1px 2px rgba(60, 64, 67, 0.3), 0 1px 3px 1px rgba(60, 64, 67, 0.15);\n",
              "    fill: var(--button-hover-fill-color);\n",
              "  }\n",
              "\n",
              "  .colab-df-quickchart-complete:disabled,\n",
              "  .colab-df-quickchart-complete:disabled:hover {\n",
              "    background-color: var(--disabled-bg-color);\n",
              "    fill: var(--disabled-fill-color);\n",
              "    box-shadow: none;\n",
              "  }\n",
              "\n",
              "  .colab-df-spinner {\n",
              "    border: 2px solid var(--fill-color);\n",
              "    border-color: transparent;\n",
              "    border-bottom-color: var(--fill-color);\n",
              "    animation:\n",
              "      spin 1s steps(1) infinite;\n",
              "  }\n",
              "\n",
              "  @keyframes spin {\n",
              "    0% {\n",
              "      border-color: transparent;\n",
              "      border-bottom-color: var(--fill-color);\n",
              "      border-left-color: var(--fill-color);\n",
              "    }\n",
              "    20% {\n",
              "      border-color: transparent;\n",
              "      border-left-color: var(--fill-color);\n",
              "      border-top-color: var(--fill-color);\n",
              "    }\n",
              "    30% {\n",
              "      border-color: transparent;\n",
              "      border-left-color: var(--fill-color);\n",
              "      border-top-color: var(--fill-color);\n",
              "      border-right-color: var(--fill-color);\n",
              "    }\n",
              "    40% {\n",
              "      border-color: transparent;\n",
              "      border-right-color: var(--fill-color);\n",
              "      border-top-color: var(--fill-color);\n",
              "    }\n",
              "    60% {\n",
              "      border-color: transparent;\n",
              "      border-right-color: var(--fill-color);\n",
              "    }\n",
              "    80% {\n",
              "      border-color: transparent;\n",
              "      border-right-color: var(--fill-color);\n",
              "      border-bottom-color: var(--fill-color);\n",
              "    }\n",
              "    90% {\n",
              "      border-color: transparent;\n",
              "      border-bottom-color: var(--fill-color);\n",
              "    }\n",
              "  }\n",
              "</style>\n",
              "\n",
              "  <script>\n",
              "    async function quickchart(key) {\n",
              "      const quickchartButtonEl =\n",
              "        document.querySelector('#' + key + ' button');\n",
              "      quickchartButtonEl.disabled = true;  // To prevent multiple clicks.\n",
              "      quickchartButtonEl.classList.add('colab-df-spinner');\n",
              "      try {\n",
              "        const charts = await google.colab.kernel.invokeFunction(\n",
              "            'suggestCharts', [key], {});\n",
              "      } catch (error) {\n",
              "        console.error('Error during call to suggestCharts:', error);\n",
              "      }\n",
              "      quickchartButtonEl.classList.remove('colab-df-spinner');\n",
              "      quickchartButtonEl.classList.add('colab-df-quickchart-complete');\n",
              "    }\n",
              "    (() => {\n",
              "      let quickchartButtonEl =\n",
              "        document.querySelector('#df-f6101848-623a-4c85-b480-6dabdf4e0d4c button');\n",
              "      quickchartButtonEl.style.display =\n",
              "        google.colab.kernel.accessAllowed ? 'block' : 'none';\n",
              "    })();\n",
              "  </script>\n",
              "</div>\n",
              "    </div>\n",
              "  </div>\n"
            ]
          },
          "metadata": {},
          "execution_count": 82
        }
      ]
    },
    {
      "cell_type": "code",
      "source": [
        "y=data['Chance of Admit ']\n",
        "X=data[['Serial No.', 'GRE Score', 'TOEFL Score', 'University Rating', 'SOP',\n",
        "       'LOR ', 'CGPA', 'Research']]\n"
      ],
      "metadata": {
        "id": "xvzRVUyedHL-"
      },
      "execution_count": null,
      "outputs": []
    },
    {
      "cell_type": "markdown",
      "source": [
        "Separate train 75% and test data 25%"
      ],
      "metadata": {
        "id": "47F6ssAQo0q6"
      }
    },
    {
      "cell_type": "code",
      "source": [
        "from sklearn.model_selection import train_test_split\n",
        "\n",
        "train,test = train_test_split(data, test_size=0.25, random_state=42)\n"
      ],
      "metadata": {
        "id": "Nz3LH9H8dPvk"
      },
      "execution_count": null,
      "outputs": []
    },
    {
      "cell_type": "code",
      "source": [
        "clf1 = setup(train, target='Chance of Admit ', session_id=123)"
      ],
      "metadata": {
        "colab": {
          "base_uri": "https://localhost:8080/",
          "height": 645
        },
        "id": "MEm1cwzNebkJ",
        "outputId": "299aaa2f-e6b2-471c-ca6a-5cbb890559bf"
      },
      "execution_count": null,
      "outputs": [
        {
          "output_type": "display_data",
          "data": {
            "text/plain": [
              "<pandas.io.formats.style.Styler at 0x7e8798a91d50>"
            ],
            "text/html": [
              "<style type=\"text/css\">\n",
              "#T_4eeda_row8_col1 {\n",
              "  background-color: lightgreen;\n",
              "}\n",
              "</style>\n",
              "<table id=\"T_4eeda\" class=\"dataframe\">\n",
              "  <thead>\n",
              "    <tr>\n",
              "      <th class=\"blank level0\" >&nbsp;</th>\n",
              "      <th id=\"T_4eeda_level0_col0\" class=\"col_heading level0 col0\" >Description</th>\n",
              "      <th id=\"T_4eeda_level0_col1\" class=\"col_heading level0 col1\" >Value</th>\n",
              "    </tr>\n",
              "  </thead>\n",
              "  <tbody>\n",
              "    <tr>\n",
              "      <th id=\"T_4eeda_level0_row0\" class=\"row_heading level0 row0\" >0</th>\n",
              "      <td id=\"T_4eeda_row0_col0\" class=\"data row0 col0\" >Session id</td>\n",
              "      <td id=\"T_4eeda_row0_col1\" class=\"data row0 col1\" >123</td>\n",
              "    </tr>\n",
              "    <tr>\n",
              "      <th id=\"T_4eeda_level0_row1\" class=\"row_heading level0 row1\" >1</th>\n",
              "      <td id=\"T_4eeda_row1_col0\" class=\"data row1 col0\" >Target</td>\n",
              "      <td id=\"T_4eeda_row1_col1\" class=\"data row1 col1\" >Chance of Admit </td>\n",
              "    </tr>\n",
              "    <tr>\n",
              "      <th id=\"T_4eeda_level0_row2\" class=\"row_heading level0 row2\" >2</th>\n",
              "      <td id=\"T_4eeda_row2_col0\" class=\"data row2 col0\" >Target type</td>\n",
              "      <td id=\"T_4eeda_row2_col1\" class=\"data row2 col1\" >Regression</td>\n",
              "    </tr>\n",
              "    <tr>\n",
              "      <th id=\"T_4eeda_level0_row3\" class=\"row_heading level0 row3\" >3</th>\n",
              "      <td id=\"T_4eeda_row3_col0\" class=\"data row3 col0\" >Original data shape</td>\n",
              "      <td id=\"T_4eeda_row3_col1\" class=\"data row3 col1\" >(300, 9)</td>\n",
              "    </tr>\n",
              "    <tr>\n",
              "      <th id=\"T_4eeda_level0_row4\" class=\"row_heading level0 row4\" >4</th>\n",
              "      <td id=\"T_4eeda_row4_col0\" class=\"data row4 col0\" >Transformed data shape</td>\n",
              "      <td id=\"T_4eeda_row4_col1\" class=\"data row4 col1\" >(300, 9)</td>\n",
              "    </tr>\n",
              "    <tr>\n",
              "      <th id=\"T_4eeda_level0_row5\" class=\"row_heading level0 row5\" >5</th>\n",
              "      <td id=\"T_4eeda_row5_col0\" class=\"data row5 col0\" >Transformed train set shape</td>\n",
              "      <td id=\"T_4eeda_row5_col1\" class=\"data row5 col1\" >(210, 9)</td>\n",
              "    </tr>\n",
              "    <tr>\n",
              "      <th id=\"T_4eeda_level0_row6\" class=\"row_heading level0 row6\" >6</th>\n",
              "      <td id=\"T_4eeda_row6_col0\" class=\"data row6 col0\" >Transformed test set shape</td>\n",
              "      <td id=\"T_4eeda_row6_col1\" class=\"data row6 col1\" >(90, 9)</td>\n",
              "    </tr>\n",
              "    <tr>\n",
              "      <th id=\"T_4eeda_level0_row7\" class=\"row_heading level0 row7\" >7</th>\n",
              "      <td id=\"T_4eeda_row7_col0\" class=\"data row7 col0\" >Numeric features</td>\n",
              "      <td id=\"T_4eeda_row7_col1\" class=\"data row7 col1\" >8</td>\n",
              "    </tr>\n",
              "    <tr>\n",
              "      <th id=\"T_4eeda_level0_row8\" class=\"row_heading level0 row8\" >8</th>\n",
              "      <td id=\"T_4eeda_row8_col0\" class=\"data row8 col0\" >Preprocess</td>\n",
              "      <td id=\"T_4eeda_row8_col1\" class=\"data row8 col1\" >True</td>\n",
              "    </tr>\n",
              "    <tr>\n",
              "      <th id=\"T_4eeda_level0_row9\" class=\"row_heading level0 row9\" >9</th>\n",
              "      <td id=\"T_4eeda_row9_col0\" class=\"data row9 col0\" >Imputation type</td>\n",
              "      <td id=\"T_4eeda_row9_col1\" class=\"data row9 col1\" >simple</td>\n",
              "    </tr>\n",
              "    <tr>\n",
              "      <th id=\"T_4eeda_level0_row10\" class=\"row_heading level0 row10\" >10</th>\n",
              "      <td id=\"T_4eeda_row10_col0\" class=\"data row10 col0\" >Numeric imputation</td>\n",
              "      <td id=\"T_4eeda_row10_col1\" class=\"data row10 col1\" >mean</td>\n",
              "    </tr>\n",
              "    <tr>\n",
              "      <th id=\"T_4eeda_level0_row11\" class=\"row_heading level0 row11\" >11</th>\n",
              "      <td id=\"T_4eeda_row11_col0\" class=\"data row11 col0\" >Categorical imputation</td>\n",
              "      <td id=\"T_4eeda_row11_col1\" class=\"data row11 col1\" >mode</td>\n",
              "    </tr>\n",
              "    <tr>\n",
              "      <th id=\"T_4eeda_level0_row12\" class=\"row_heading level0 row12\" >12</th>\n",
              "      <td id=\"T_4eeda_row12_col0\" class=\"data row12 col0\" >Fold Generator</td>\n",
              "      <td id=\"T_4eeda_row12_col1\" class=\"data row12 col1\" >KFold</td>\n",
              "    </tr>\n",
              "    <tr>\n",
              "      <th id=\"T_4eeda_level0_row13\" class=\"row_heading level0 row13\" >13</th>\n",
              "      <td id=\"T_4eeda_row13_col0\" class=\"data row13 col0\" >Fold Number</td>\n",
              "      <td id=\"T_4eeda_row13_col1\" class=\"data row13 col1\" >10</td>\n",
              "    </tr>\n",
              "    <tr>\n",
              "      <th id=\"T_4eeda_level0_row14\" class=\"row_heading level0 row14\" >14</th>\n",
              "      <td id=\"T_4eeda_row14_col0\" class=\"data row14 col0\" >CPU Jobs</td>\n",
              "      <td id=\"T_4eeda_row14_col1\" class=\"data row14 col1\" >-1</td>\n",
              "    </tr>\n",
              "    <tr>\n",
              "      <th id=\"T_4eeda_level0_row15\" class=\"row_heading level0 row15\" >15</th>\n",
              "      <td id=\"T_4eeda_row15_col0\" class=\"data row15 col0\" >Use GPU</td>\n",
              "      <td id=\"T_4eeda_row15_col1\" class=\"data row15 col1\" >False</td>\n",
              "    </tr>\n",
              "    <tr>\n",
              "      <th id=\"T_4eeda_level0_row16\" class=\"row_heading level0 row16\" >16</th>\n",
              "      <td id=\"T_4eeda_row16_col0\" class=\"data row16 col0\" >Log Experiment</td>\n",
              "      <td id=\"T_4eeda_row16_col1\" class=\"data row16 col1\" >False</td>\n",
              "    </tr>\n",
              "    <tr>\n",
              "      <th id=\"T_4eeda_level0_row17\" class=\"row_heading level0 row17\" >17</th>\n",
              "      <td id=\"T_4eeda_row17_col0\" class=\"data row17 col0\" >Experiment Name</td>\n",
              "      <td id=\"T_4eeda_row17_col1\" class=\"data row17 col1\" >reg-default-name</td>\n",
              "    </tr>\n",
              "    <tr>\n",
              "      <th id=\"T_4eeda_level0_row18\" class=\"row_heading level0 row18\" >18</th>\n",
              "      <td id=\"T_4eeda_row18_col0\" class=\"data row18 col0\" >USI</td>\n",
              "      <td id=\"T_4eeda_row18_col1\" class=\"data row18 col1\" >e918</td>\n",
              "    </tr>\n",
              "  </tbody>\n",
              "</table>\n"
            ]
          },
          "metadata": {}
        }
      ]
    },
    {
      "cell_type": "markdown",
      "source": [
        "Compare different models"
      ],
      "metadata": {
        "id": "39PlpjLfo90l"
      }
    },
    {
      "cell_type": "code",
      "source": [
        "best_model = compare_models()\n"
      ],
      "metadata": {
        "colab": {
          "base_uri": "https://localhost:8080/",
          "height": 645,
          "referenced_widgets": [
            "cad13e520d5040a0b455dc05c1523a02",
            "3ab18376d5424103912f466b4933de28",
            "24789086d3054c8380a264f674d08e5a",
            "4c41738953d94c31be7c1e1743845931",
            "44180613676f42db8f2b0927dc9fbadc",
            "5a408a2bf04d46f1b74fc91bd571c952",
            "738753667b7848789f9aef38dcab967a",
            "5eabf03d7fd442fb85c37900e3bc7dc2",
            "0b85cc1949004586a0d3a248d93791c0",
            "47bb4a6d91b3462a806113727971370a",
            "93f704b2f6bf412a862124a59e362f84"
          ]
        },
        "id": "8DNvFFUXfU_d",
        "outputId": "5b4ad926-b663-494c-a104-1172781ef100"
      },
      "execution_count": null,
      "outputs": [
        {
          "output_type": "display_data",
          "data": {
            "text/plain": [
              "<IPython.core.display.HTML object>"
            ],
            "text/html": []
          },
          "metadata": {}
        },
        {
          "output_type": "display_data",
          "data": {
            "text/plain": [
              "<pandas.io.formats.style.Styler at 0x7e87a556f9a0>"
            ],
            "text/html": [
              "<style type=\"text/css\">\n",
              "#T_9f2c1 th {\n",
              "  text-align: left;\n",
              "}\n",
              "#T_9f2c1_row0_col0, #T_9f2c1_row1_col0, #T_9f2c1_row1_col1, #T_9f2c1_row1_col2, #T_9f2c1_row1_col3, #T_9f2c1_row1_col4, #T_9f2c1_row1_col5, #T_9f2c1_row1_col6, #T_9f2c1_row2_col0, #T_9f2c1_row2_col1, #T_9f2c1_row2_col2, #T_9f2c1_row2_col3, #T_9f2c1_row2_col4, #T_9f2c1_row2_col5, #T_9f2c1_row2_col6, #T_9f2c1_row3_col0, #T_9f2c1_row3_col1, #T_9f2c1_row3_col2, #T_9f2c1_row3_col3, #T_9f2c1_row3_col4, #T_9f2c1_row3_col5, #T_9f2c1_row3_col6, #T_9f2c1_row4_col0, #T_9f2c1_row4_col1, #T_9f2c1_row4_col2, #T_9f2c1_row4_col3, #T_9f2c1_row4_col4, #T_9f2c1_row4_col5, #T_9f2c1_row4_col6, #T_9f2c1_row5_col0, #T_9f2c1_row5_col1, #T_9f2c1_row5_col2, #T_9f2c1_row5_col3, #T_9f2c1_row5_col4, #T_9f2c1_row5_col5, #T_9f2c1_row5_col6, #T_9f2c1_row6_col0, #T_9f2c1_row6_col1, #T_9f2c1_row6_col2, #T_9f2c1_row6_col3, #T_9f2c1_row6_col4, #T_9f2c1_row6_col5, #T_9f2c1_row6_col6, #T_9f2c1_row7_col0, #T_9f2c1_row7_col1, #T_9f2c1_row7_col2, #T_9f2c1_row7_col3, #T_9f2c1_row7_col4, #T_9f2c1_row7_col5, #T_9f2c1_row7_col6, #T_9f2c1_row8_col0, #T_9f2c1_row8_col1, #T_9f2c1_row8_col2, #T_9f2c1_row8_col3, #T_9f2c1_row8_col4, #T_9f2c1_row8_col5, #T_9f2c1_row8_col6, #T_9f2c1_row9_col0, #T_9f2c1_row9_col1, #T_9f2c1_row9_col2, #T_9f2c1_row9_col3, #T_9f2c1_row9_col4, #T_9f2c1_row9_col5, #T_9f2c1_row9_col6, #T_9f2c1_row10_col0, #T_9f2c1_row10_col1, #T_9f2c1_row10_col2, #T_9f2c1_row10_col3, #T_9f2c1_row10_col4, #T_9f2c1_row10_col5, #T_9f2c1_row10_col6, #T_9f2c1_row11_col0, #T_9f2c1_row11_col1, #T_9f2c1_row11_col2, #T_9f2c1_row11_col3, #T_9f2c1_row11_col4, #T_9f2c1_row11_col5, #T_9f2c1_row11_col6, #T_9f2c1_row12_col0, #T_9f2c1_row12_col1, #T_9f2c1_row12_col2, #T_9f2c1_row12_col3, #T_9f2c1_row12_col4, #T_9f2c1_row12_col5, #T_9f2c1_row12_col6, #T_9f2c1_row13_col0, #T_9f2c1_row13_col1, #T_9f2c1_row13_col2, #T_9f2c1_row13_col3, #T_9f2c1_row13_col4, #T_9f2c1_row13_col5, #T_9f2c1_row13_col6, #T_9f2c1_row14_col0, #T_9f2c1_row14_col1, #T_9f2c1_row14_col2, #T_9f2c1_row14_col3, #T_9f2c1_row14_col4, #T_9f2c1_row14_col5, #T_9f2c1_row14_col6, #T_9f2c1_row15_col0, #T_9f2c1_row15_col1, #T_9f2c1_row15_col2, #T_9f2c1_row15_col3, #T_9f2c1_row15_col4, #T_9f2c1_row15_col5, #T_9f2c1_row15_col6, #T_9f2c1_row16_col0, #T_9f2c1_row16_col1, #T_9f2c1_row16_col2, #T_9f2c1_row16_col3, #T_9f2c1_row16_col4, #T_9f2c1_row16_col5, #T_9f2c1_row16_col6, #T_9f2c1_row17_col0, #T_9f2c1_row17_col1, #T_9f2c1_row17_col2, #T_9f2c1_row17_col3, #T_9f2c1_row17_col4, #T_9f2c1_row17_col5, #T_9f2c1_row17_col6, #T_9f2c1_row18_col0, #T_9f2c1_row18_col1, #T_9f2c1_row18_col2, #T_9f2c1_row18_col3, #T_9f2c1_row18_col4, #T_9f2c1_row18_col5, #T_9f2c1_row18_col6 {\n",
              "  text-align: left;\n",
              "}\n",
              "#T_9f2c1_row0_col1, #T_9f2c1_row0_col2, #T_9f2c1_row0_col3, #T_9f2c1_row0_col4, #T_9f2c1_row0_col5, #T_9f2c1_row0_col6 {\n",
              "  text-align: left;\n",
              "  background-color: yellow;\n",
              "}\n",
              "#T_9f2c1_row0_col7, #T_9f2c1_row1_col7, #T_9f2c1_row2_col7, #T_9f2c1_row3_col7, #T_9f2c1_row4_col7, #T_9f2c1_row5_col7, #T_9f2c1_row6_col7, #T_9f2c1_row7_col7, #T_9f2c1_row8_col7, #T_9f2c1_row9_col7, #T_9f2c1_row10_col7, #T_9f2c1_row11_col7, #T_9f2c1_row13_col7, #T_9f2c1_row14_col7, #T_9f2c1_row15_col7, #T_9f2c1_row16_col7, #T_9f2c1_row17_col7, #T_9f2c1_row18_col7 {\n",
              "  text-align: left;\n",
              "  background-color: lightgrey;\n",
              "}\n",
              "#T_9f2c1_row12_col7 {\n",
              "  text-align: left;\n",
              "  background-color: yellow;\n",
              "  background-color: lightgrey;\n",
              "}\n",
              "</style>\n",
              "<table id=\"T_9f2c1\" class=\"dataframe\">\n",
              "  <thead>\n",
              "    <tr>\n",
              "      <th class=\"blank level0\" >&nbsp;</th>\n",
              "      <th id=\"T_9f2c1_level0_col0\" class=\"col_heading level0 col0\" >Model</th>\n",
              "      <th id=\"T_9f2c1_level0_col1\" class=\"col_heading level0 col1\" >MAE</th>\n",
              "      <th id=\"T_9f2c1_level0_col2\" class=\"col_heading level0 col2\" >MSE</th>\n",
              "      <th id=\"T_9f2c1_level0_col3\" class=\"col_heading level0 col3\" >RMSE</th>\n",
              "      <th id=\"T_9f2c1_level0_col4\" class=\"col_heading level0 col4\" >R2</th>\n",
              "      <th id=\"T_9f2c1_level0_col5\" class=\"col_heading level0 col5\" >RMSLE</th>\n",
              "      <th id=\"T_9f2c1_level0_col6\" class=\"col_heading level0 col6\" >MAPE</th>\n",
              "      <th id=\"T_9f2c1_level0_col7\" class=\"col_heading level0 col7\" >TT (Sec)</th>\n",
              "    </tr>\n",
              "  </thead>\n",
              "  <tbody>\n",
              "    <tr>\n",
              "      <th id=\"T_9f2c1_level0_row0\" class=\"row_heading level0 row0\" >gbr</th>\n",
              "      <td id=\"T_9f2c1_row0_col0\" class=\"data row0 col0\" >Gradient Boosting Regressor</td>\n",
              "      <td id=\"T_9f2c1_row0_col1\" class=\"data row0 col1\" >0.0422</td>\n",
              "      <td id=\"T_9f2c1_row0_col2\" class=\"data row0 col2\" >0.0031</td>\n",
              "      <td id=\"T_9f2c1_row0_col3\" class=\"data row0 col3\" >0.0545</td>\n",
              "      <td id=\"T_9f2c1_row0_col4\" class=\"data row0 col4\" >0.8420</td>\n",
              "      <td id=\"T_9f2c1_row0_col5\" class=\"data row0 col5\" >0.0333</td>\n",
              "      <td id=\"T_9f2c1_row0_col6\" class=\"data row0 col6\" >0.0662</td>\n",
              "      <td id=\"T_9f2c1_row0_col7\" class=\"data row0 col7\" >0.1720</td>\n",
              "    </tr>\n",
              "    <tr>\n",
              "      <th id=\"T_9f2c1_level0_row1\" class=\"row_heading level0 row1\" >lightgbm</th>\n",
              "      <td id=\"T_9f2c1_row1_col0\" class=\"data row1 col0\" >Light Gradient Boosting Machine</td>\n",
              "      <td id=\"T_9f2c1_row1_col1\" class=\"data row1 col1\" >0.0464</td>\n",
              "      <td id=\"T_9f2c1_row1_col2\" class=\"data row1 col2\" >0.0038</td>\n",
              "      <td id=\"T_9f2c1_row1_col3\" class=\"data row1 col3\" >0.0599</td>\n",
              "      <td id=\"T_9f2c1_row1_col4\" class=\"data row1 col4\" >0.8069</td>\n",
              "      <td id=\"T_9f2c1_row1_col5\" class=\"data row1 col5\" >0.0365</td>\n",
              "      <td id=\"T_9f2c1_row1_col6\" class=\"data row1 col6\" >0.0726</td>\n",
              "      <td id=\"T_9f2c1_row1_col7\" class=\"data row1 col7\" >0.2940</td>\n",
              "    </tr>\n",
              "    <tr>\n",
              "      <th id=\"T_9f2c1_level0_row2\" class=\"row_heading level0 row2\" >et</th>\n",
              "      <td id=\"T_9f2c1_row2_col0\" class=\"data row2 col0\" >Extra Trees Regressor</td>\n",
              "      <td id=\"T_9f2c1_row2_col1\" class=\"data row2 col1\" >0.0469</td>\n",
              "      <td id=\"T_9f2c1_row2_col2\" class=\"data row2 col2\" >0.0039</td>\n",
              "      <td id=\"T_9f2c1_row2_col3\" class=\"data row2 col3\" >0.0616</td>\n",
              "      <td id=\"T_9f2c1_row2_col4\" class=\"data row2 col4\" >0.7996</td>\n",
              "      <td id=\"T_9f2c1_row2_col5\" class=\"data row2 col5\" >0.0378</td>\n",
              "      <td id=\"T_9f2c1_row2_col6\" class=\"data row2 col6\" >0.0749</td>\n",
              "      <td id=\"T_9f2c1_row2_col7\" class=\"data row2 col7\" >0.3240</td>\n",
              "    </tr>\n",
              "    <tr>\n",
              "      <th id=\"T_9f2c1_level0_row3\" class=\"row_heading level0 row3\" >ridge</th>\n",
              "      <td id=\"T_9f2c1_row3_col0\" class=\"data row3 col0\" >Ridge Regression</td>\n",
              "      <td id=\"T_9f2c1_row3_col1\" class=\"data row3 col1\" >0.0482</td>\n",
              "      <td id=\"T_9f2c1_row3_col2\" class=\"data row3 col2\" >0.0041</td>\n",
              "      <td id=\"T_9f2c1_row3_col3\" class=\"data row3 col3\" >0.0631</td>\n",
              "      <td id=\"T_9f2c1_row3_col4\" class=\"data row3 col4\" >0.7884</td>\n",
              "      <td id=\"T_9f2c1_row3_col5\" class=\"data row3 col5\" >0.0389</td>\n",
              "      <td id=\"T_9f2c1_row3_col6\" class=\"data row3 col6\" >0.0773</td>\n",
              "      <td id=\"T_9f2c1_row3_col7\" class=\"data row3 col7\" >0.1200</td>\n",
              "    </tr>\n",
              "    <tr>\n",
              "      <th id=\"T_9f2c1_level0_row4\" class=\"row_heading level0 row4\" >rf</th>\n",
              "      <td id=\"T_9f2c1_row4_col0\" class=\"data row4 col0\" >Random Forest Regressor</td>\n",
              "      <td id=\"T_9f2c1_row4_col1\" class=\"data row4 col1\" >0.0469</td>\n",
              "      <td id=\"T_9f2c1_row4_col2\" class=\"data row4 col2\" >0.0041</td>\n",
              "      <td id=\"T_9f2c1_row4_col3\" class=\"data row4 col3\" >0.0629</td>\n",
              "      <td id=\"T_9f2c1_row4_col4\" class=\"data row4 col4\" >0.7884</td>\n",
              "      <td id=\"T_9f2c1_row4_col5\" class=\"data row4 col5\" >0.0384</td>\n",
              "      <td id=\"T_9f2c1_row4_col6\" class=\"data row4 col6\" >0.0744</td>\n",
              "      <td id=\"T_9f2c1_row4_col7\" class=\"data row4 col7\" >0.4570</td>\n",
              "    </tr>\n",
              "    <tr>\n",
              "      <th id=\"T_9f2c1_level0_row5\" class=\"row_heading level0 row5\" >lr</th>\n",
              "      <td id=\"T_9f2c1_row5_col0\" class=\"data row5 col0\" >Linear Regression</td>\n",
              "      <td id=\"T_9f2c1_row5_col1\" class=\"data row5 col1\" >0.0481</td>\n",
              "      <td id=\"T_9f2c1_row5_col2\" class=\"data row5 col2\" >0.0041</td>\n",
              "      <td id=\"T_9f2c1_row5_col3\" class=\"data row5 col3\" >0.0631</td>\n",
              "      <td id=\"T_9f2c1_row5_col4\" class=\"data row5 col4\" >0.7883</td>\n",
              "      <td id=\"T_9f2c1_row5_col5\" class=\"data row5 col5\" >0.0389</td>\n",
              "      <td id=\"T_9f2c1_row5_col6\" class=\"data row5 col6\" >0.0772</td>\n",
              "      <td id=\"T_9f2c1_row5_col7\" class=\"data row5 col7\" >0.0960</td>\n",
              "    </tr>\n",
              "    <tr>\n",
              "      <th id=\"T_9f2c1_level0_row6\" class=\"row_heading level0 row6\" >lar</th>\n",
              "      <td id=\"T_9f2c1_row6_col0\" class=\"data row6 col0\" >Least Angle Regression</td>\n",
              "      <td id=\"T_9f2c1_row6_col1\" class=\"data row6 col1\" >0.0481</td>\n",
              "      <td id=\"T_9f2c1_row6_col2\" class=\"data row6 col2\" >0.0041</td>\n",
              "      <td id=\"T_9f2c1_row6_col3\" class=\"data row6 col3\" >0.0631</td>\n",
              "      <td id=\"T_9f2c1_row6_col4\" class=\"data row6 col4\" >0.7883</td>\n",
              "      <td id=\"T_9f2c1_row6_col5\" class=\"data row6 col5\" >0.0389</td>\n",
              "      <td id=\"T_9f2c1_row6_col6\" class=\"data row6 col6\" >0.0772</td>\n",
              "      <td id=\"T_9f2c1_row6_col7\" class=\"data row6 col7\" >0.1470</td>\n",
              "    </tr>\n",
              "    <tr>\n",
              "      <th id=\"T_9f2c1_level0_row7\" class=\"row_heading level0 row7\" >br</th>\n",
              "      <td id=\"T_9f2c1_row7_col0\" class=\"data row7 col0\" >Bayesian Ridge</td>\n",
              "      <td id=\"T_9f2c1_row7_col1\" class=\"data row7 col1\" >0.0487</td>\n",
              "      <td id=\"T_9f2c1_row7_col2\" class=\"data row7 col2\" >0.0042</td>\n",
              "      <td id=\"T_9f2c1_row7_col3\" class=\"data row7 col3\" >0.0636</td>\n",
              "      <td id=\"T_9f2c1_row7_col4\" class=\"data row7 col4\" >0.7855</td>\n",
              "      <td id=\"T_9f2c1_row7_col5\" class=\"data row7 col5\" >0.0392</td>\n",
              "      <td id=\"T_9f2c1_row7_col6\" class=\"data row7 col6\" >0.0782</td>\n",
              "      <td id=\"T_9f2c1_row7_col7\" class=\"data row7 col7\" >0.0960</td>\n",
              "    </tr>\n",
              "    <tr>\n",
              "      <th id=\"T_9f2c1_level0_row8\" class=\"row_heading level0 row8\" >xgboost</th>\n",
              "      <td id=\"T_9f2c1_row8_col0\" class=\"data row8 col0\" >Extreme Gradient Boosting</td>\n",
              "      <td id=\"T_9f2c1_row8_col1\" class=\"data row8 col1\" >0.0478</td>\n",
              "      <td id=\"T_9f2c1_row8_col2\" class=\"data row8 col2\" >0.0043</td>\n",
              "      <td id=\"T_9f2c1_row8_col3\" class=\"data row8 col3\" >0.0640</td>\n",
              "      <td id=\"T_9f2c1_row8_col4\" class=\"data row8 col4\" >0.7787</td>\n",
              "      <td id=\"T_9f2c1_row8_col5\" class=\"data row8 col5\" >0.0391</td>\n",
              "      <td id=\"T_9f2c1_row8_col6\" class=\"data row8 col6\" >0.0754</td>\n",
              "      <td id=\"T_9f2c1_row8_col7\" class=\"data row8 col7\" >0.1510</td>\n",
              "    </tr>\n",
              "    <tr>\n",
              "      <th id=\"T_9f2c1_level0_row9\" class=\"row_heading level0 row9\" >ada</th>\n",
              "      <td id=\"T_9f2c1_row9_col0\" class=\"data row9 col0\" >AdaBoost Regressor</td>\n",
              "      <td id=\"T_9f2c1_row9_col1\" class=\"data row9 col1\" >0.0522</td>\n",
              "      <td id=\"T_9f2c1_row9_col2\" class=\"data row9 col2\" >0.0046</td>\n",
              "      <td id=\"T_9f2c1_row9_col3\" class=\"data row9 col3\" >0.0664</td>\n",
              "      <td id=\"T_9f2c1_row9_col4\" class=\"data row9 col4\" >0.7656</td>\n",
              "      <td id=\"T_9f2c1_row9_col5\" class=\"data row9 col5\" >0.0404</td>\n",
              "      <td id=\"T_9f2c1_row9_col6\" class=\"data row9 col6\" >0.0802</td>\n",
              "      <td id=\"T_9f2c1_row9_col7\" class=\"data row9 col7\" >0.1730</td>\n",
              "    </tr>\n",
              "    <tr>\n",
              "      <th id=\"T_9f2c1_level0_row10\" class=\"row_heading level0 row10\" >huber</th>\n",
              "      <td id=\"T_9f2c1_row10_col0\" class=\"data row10 col0\" >Huber Regressor</td>\n",
              "      <td id=\"T_9f2c1_row10_col1\" class=\"data row10 col1\" >0.0533</td>\n",
              "      <td id=\"T_9f2c1_row10_col2\" class=\"data row10 col2\" >0.0056</td>\n",
              "      <td id=\"T_9f2c1_row10_col3\" class=\"data row10 col3\" >0.0728</td>\n",
              "      <td id=\"T_9f2c1_row10_col4\" class=\"data row10 col4\" >0.7169</td>\n",
              "      <td id=\"T_9f2c1_row10_col5\" class=\"data row10 col5\" >0.0450</td>\n",
              "      <td id=\"T_9f2c1_row10_col6\" class=\"data row10 col6\" >0.0879</td>\n",
              "      <td id=\"T_9f2c1_row10_col7\" class=\"data row10 col7\" >0.1180</td>\n",
              "    </tr>\n",
              "    <tr>\n",
              "      <th id=\"T_9f2c1_level0_row11\" class=\"row_heading level0 row11\" >knn</th>\n",
              "      <td id=\"T_9f2c1_row11_col0\" class=\"data row11 col0\" >K Neighbors Regressor</td>\n",
              "      <td id=\"T_9f2c1_row11_col1\" class=\"data row11 col1\" >0.0636</td>\n",
              "      <td id=\"T_9f2c1_row11_col2\" class=\"data row11 col2\" >0.0067</td>\n",
              "      <td id=\"T_9f2c1_row11_col3\" class=\"data row11 col3\" >0.0811</td>\n",
              "      <td id=\"T_9f2c1_row11_col4\" class=\"data row11 col4\" >0.6468</td>\n",
              "      <td id=\"T_9f2c1_row11_col5\" class=\"data row11 col5\" >0.0482</td>\n",
              "      <td id=\"T_9f2c1_row11_col6\" class=\"data row11 col6\" >0.0964</td>\n",
              "      <td id=\"T_9f2c1_row11_col7\" class=\"data row11 col7\" >0.0990</td>\n",
              "    </tr>\n",
              "    <tr>\n",
              "      <th id=\"T_9f2c1_level0_row12\" class=\"row_heading level0 row12\" >dt</th>\n",
              "      <td id=\"T_9f2c1_row12_col0\" class=\"data row12 col0\" >Decision Tree Regressor</td>\n",
              "      <td id=\"T_9f2c1_row12_col1\" class=\"data row12 col1\" >0.0625</td>\n",
              "      <td id=\"T_9f2c1_row12_col2\" class=\"data row12 col2\" >0.0081</td>\n",
              "      <td id=\"T_9f2c1_row12_col3\" class=\"data row12 col3\" >0.0881</td>\n",
              "      <td id=\"T_9f2c1_row12_col4\" class=\"data row12 col4\" >0.5722</td>\n",
              "      <td id=\"T_9f2c1_row12_col5\" class=\"data row12 col5\" >0.0539</td>\n",
              "      <td id=\"T_9f2c1_row12_col6\" class=\"data row12 col6\" >0.0969</td>\n",
              "      <td id=\"T_9f2c1_row12_col7\" class=\"data row12 col7\" >0.0930</td>\n",
              "    </tr>\n",
              "    <tr>\n",
              "      <th id=\"T_9f2c1_level0_row13\" class=\"row_heading level0 row13\" >omp</th>\n",
              "      <td id=\"T_9f2c1_row13_col0\" class=\"data row13 col0\" >Orthogonal Matching Pursuit</td>\n",
              "      <td id=\"T_9f2c1_row13_col1\" class=\"data row13 col1\" >0.0720</td>\n",
              "      <td id=\"T_9f2c1_row13_col2\" class=\"data row13 col2\" >0.0094</td>\n",
              "      <td id=\"T_9f2c1_row13_col3\" class=\"data row13 col3\" >0.0943</td>\n",
              "      <td id=\"T_9f2c1_row13_col4\" class=\"data row13 col4\" >0.5147</td>\n",
              "      <td id=\"T_9f2c1_row13_col5\" class=\"data row13 col5\" >0.0570</td>\n",
              "      <td id=\"T_9f2c1_row13_col6\" class=\"data row13 col6\" >0.1138</td>\n",
              "      <td id=\"T_9f2c1_row13_col7\" class=\"data row13 col7\" >0.0940</td>\n",
              "    </tr>\n",
              "    <tr>\n",
              "      <th id=\"T_9f2c1_level0_row14\" class=\"row_heading level0 row14\" >en</th>\n",
              "      <td id=\"T_9f2c1_row14_col0\" class=\"data row14 col0\" >Elastic Net</td>\n",
              "      <td id=\"T_9f2c1_row14_col1\" class=\"data row14 col1\" >0.0767</td>\n",
              "      <td id=\"T_9f2c1_row14_col2\" class=\"data row14 col2\" >0.0095</td>\n",
              "      <td id=\"T_9f2c1_row14_col3\" class=\"data row14 col3\" >0.0971</td>\n",
              "      <td id=\"T_9f2c1_row14_col4\" class=\"data row14 col4\" >0.5030</td>\n",
              "      <td id=\"T_9f2c1_row14_col5\" class=\"data row14 col5\" >0.0584</td>\n",
              "      <td id=\"T_9f2c1_row14_col6\" class=\"data row14 col6\" >0.1206</td>\n",
              "      <td id=\"T_9f2c1_row14_col7\" class=\"data row14 col7\" >0.1500</td>\n",
              "    </tr>\n",
              "    <tr>\n",
              "      <th id=\"T_9f2c1_level0_row15\" class=\"row_heading level0 row15\" >lasso</th>\n",
              "      <td id=\"T_9f2c1_row15_col0\" class=\"data row15 col0\" >Lasso Regression</td>\n",
              "      <td id=\"T_9f2c1_row15_col1\" class=\"data row15 col1\" >0.0983</td>\n",
              "      <td id=\"T_9f2c1_row15_col2\" class=\"data row15 col2\" >0.0157</td>\n",
              "      <td id=\"T_9f2c1_row15_col3\" class=\"data row15 col3\" >0.1244</td>\n",
              "      <td id=\"T_9f2c1_row15_col4\" class=\"data row15 col4\" >0.1900</td>\n",
              "      <td id=\"T_9f2c1_row15_col5\" class=\"data row15 col5\" >0.0740</td>\n",
              "      <td id=\"T_9f2c1_row15_col6\" class=\"data row15 col6\" >0.1534</td>\n",
              "      <td id=\"T_9f2c1_row15_col7\" class=\"data row15 col7\" >0.1020</td>\n",
              "    </tr>\n",
              "    <tr>\n",
              "      <th id=\"T_9f2c1_level0_row16\" class=\"row_heading level0 row16\" >llar</th>\n",
              "      <td id=\"T_9f2c1_row16_col0\" class=\"data row16 col0\" >Lasso Least Angle Regression</td>\n",
              "      <td id=\"T_9f2c1_row16_col1\" class=\"data row16 col1\" >0.0983</td>\n",
              "      <td id=\"T_9f2c1_row16_col2\" class=\"data row16 col2\" >0.0157</td>\n",
              "      <td id=\"T_9f2c1_row16_col3\" class=\"data row16 col3\" >0.1244</td>\n",
              "      <td id=\"T_9f2c1_row16_col4\" class=\"data row16 col4\" >0.1900</td>\n",
              "      <td id=\"T_9f2c1_row16_col5\" class=\"data row16 col5\" >0.0740</td>\n",
              "      <td id=\"T_9f2c1_row16_col6\" class=\"data row16 col6\" >0.1534</td>\n",
              "      <td id=\"T_9f2c1_row16_col7\" class=\"data row16 col7\" >0.0940</td>\n",
              "    </tr>\n",
              "    <tr>\n",
              "      <th id=\"T_9f2c1_level0_row17\" class=\"row_heading level0 row17\" >par</th>\n",
              "      <td id=\"T_9f2c1_row17_col0\" class=\"data row17 col0\" >Passive Aggressive Regressor</td>\n",
              "      <td id=\"T_9f2c1_row17_col1\" class=\"data row17 col1\" >0.1153</td>\n",
              "      <td id=\"T_9f2c1_row17_col2\" class=\"data row17 col2\" >0.0195</td>\n",
              "      <td id=\"T_9f2c1_row17_col3\" class=\"data row17 col3\" >0.1382</td>\n",
              "      <td id=\"T_9f2c1_row17_col4\" class=\"data row17 col4\" >-0.0458</td>\n",
              "      <td id=\"T_9f2c1_row17_col5\" class=\"data row17 col5\" >0.0815</td>\n",
              "      <td id=\"T_9f2c1_row17_col6\" class=\"data row17 col6\" >0.1703</td>\n",
              "      <td id=\"T_9f2c1_row17_col7\" class=\"data row17 col7\" >0.1010</td>\n",
              "    </tr>\n",
              "    <tr>\n",
              "      <th id=\"T_9f2c1_level0_row18\" class=\"row_heading level0 row18\" >dummy</th>\n",
              "      <td id=\"T_9f2c1_row18_col0\" class=\"data row18 col0\" >Dummy Regressor</td>\n",
              "      <td id=\"T_9f2c1_row18_col1\" class=\"data row18 col1\" >0.1128</td>\n",
              "      <td id=\"T_9f2c1_row18_col2\" class=\"data row18 col2\" >0.0205</td>\n",
              "      <td id=\"T_9f2c1_row18_col3\" class=\"data row18 col3\" >0.1424</td>\n",
              "      <td id=\"T_9f2c1_row18_col4\" class=\"data row18 col4\" >-0.0620</td>\n",
              "      <td id=\"T_9f2c1_row18_col5\" class=\"data row18 col5\" >0.0843</td>\n",
              "      <td id=\"T_9f2c1_row18_col6\" class=\"data row18 col6\" >0.1749</td>\n",
              "      <td id=\"T_9f2c1_row18_col7\" class=\"data row18 col7\" >0.1010</td>\n",
              "    </tr>\n",
              "  </tbody>\n",
              "</table>\n"
            ]
          },
          "metadata": {}
        },
        {
          "output_type": "display_data",
          "data": {
            "text/plain": [
              "Processing:   0%|          | 0/81 [00:00<?, ?it/s]"
            ],
            "application/vnd.jupyter.widget-view+json": {
              "version_major": 2,
              "version_minor": 0,
              "model_id": "cad13e520d5040a0b455dc05c1523a02"
            }
          },
          "metadata": {
            "application/vnd.jupyter.widget-view+json": {
              "colab": {
                "custom_widget_manager": {
                  "url": "https://ssl.gstatic.com/colaboratory-static/widgets/colab-cdn-widget-manager/b3e629b1971e1542/manager.min.js"
                }
              }
            }
          }
        },
        {
          "output_type": "display_data",
          "data": {
            "text/plain": [
              "<IPython.core.display.HTML object>"
            ],
            "text/html": []
          },
          "metadata": {}
        }
      ]
    },
    {
      "cell_type": "code",
      "source": [
        "evaluate_model(tuned_model)\n"
      ],
      "metadata": {
        "colab": {
          "base_uri": "https://localhost:8080/",
          "height": 187,
          "referenced_widgets": [
            "5f92372e8a1b447da90a472cba066de4",
            "082733f4969248028422d5903bcd25ed",
            "c11e7a9c323e4073bb4cc70104270763",
            "f95a71b5424546c2b457df1f742b285f",
            "876bf1ddbbb643dda7a776e886e3780e",
            "80d6ce41d20b4351a99d193754f6c506",
            "eea9d2a2f2cb4ad99bc7f1bf9ff00035"
          ]
        },
        "id": "344nzgfygjai",
        "outputId": "9e9365c0-5409-4c33-c019-91772af19d92"
      },
      "execution_count": null,
      "outputs": [
        {
          "output_type": "display_data",
          "data": {
            "text/plain": [
              "interactive(children=(ToggleButtons(description='Plot Type:', icons=('',), options=(('Pipeline Plot', 'pipelin…"
            ],
            "application/vnd.jupyter.widget-view+json": {
              "version_major": 2,
              "version_minor": 0,
              "model_id": "5f92372e8a1b447da90a472cba066de4"
            }
          },
          "metadata": {
            "application/vnd.jupyter.widget-view+json": {
              "colab": {
                "custom_widget_manager": {
                  "url": "https://ssl.gstatic.com/colaboratory-static/widgets/colab-cdn-widget-manager/b3e629b1971e1542/manager.min.js"
                }
              }
            }
          }
        }
      ]
    },
    {
      "cell_type": "markdown",
      "source": [
        "Testing the model"
      ],
      "metadata": {
        "id": "-hFAPT-opEcS"
      }
    },
    {
      "cell_type": "code",
      "source": [
        "\n",
        "predictions = predict_model(best_model, data=test)\n"
      ],
      "metadata": {
        "colab": {
          "base_uri": "https://localhost:8080/",
          "height": 80
        },
        "id": "jifr4TfNhCET",
        "outputId": "e13a1e6b-746f-418a-9395-dd03c308fe68"
      },
      "execution_count": null,
      "outputs": [
        {
          "output_type": "display_data",
          "data": {
            "text/plain": [
              "<pandas.io.formats.style.Styler at 0x7e8798696b00>"
            ],
            "text/html": [
              "<style type=\"text/css\">\n",
              "</style>\n",
              "<table id=\"T_6fd71\" class=\"dataframe\">\n",
              "  <thead>\n",
              "    <tr>\n",
              "      <th class=\"blank level0\" >&nbsp;</th>\n",
              "      <th id=\"T_6fd71_level0_col0\" class=\"col_heading level0 col0\" >Model</th>\n",
              "      <th id=\"T_6fd71_level0_col1\" class=\"col_heading level0 col1\" >MAE</th>\n",
              "      <th id=\"T_6fd71_level0_col2\" class=\"col_heading level0 col2\" >MSE</th>\n",
              "      <th id=\"T_6fd71_level0_col3\" class=\"col_heading level0 col3\" >RMSE</th>\n",
              "      <th id=\"T_6fd71_level0_col4\" class=\"col_heading level0 col4\" >R2</th>\n",
              "      <th id=\"T_6fd71_level0_col5\" class=\"col_heading level0 col5\" >RMSLE</th>\n",
              "      <th id=\"T_6fd71_level0_col6\" class=\"col_heading level0 col6\" >MAPE</th>\n",
              "    </tr>\n",
              "  </thead>\n",
              "  <tbody>\n",
              "    <tr>\n",
              "      <th id=\"T_6fd71_level0_row0\" class=\"row_heading level0 row0\" >0</th>\n",
              "      <td id=\"T_6fd71_row0_col0\" class=\"data row0 col0\" >Gradient Boosting Regressor</td>\n",
              "      <td id=\"T_6fd71_row0_col1\" class=\"data row0 col1\" >0.0401</td>\n",
              "      <td id=\"T_6fd71_row0_col2\" class=\"data row0 col2\" >0.0037</td>\n",
              "      <td id=\"T_6fd71_row0_col3\" class=\"data row0 col3\" >0.0612</td>\n",
              "      <td id=\"T_6fd71_row0_col4\" class=\"data row0 col4\" >0.8413</td>\n",
              "      <td id=\"T_6fd71_row0_col5\" class=\"data row0 col5\" >0.0388</td>\n",
              "      <td id=\"T_6fd71_row0_col6\" class=\"data row0 col6\" >0.0674</td>\n",
              "    </tr>\n",
              "  </tbody>\n",
              "</table>\n"
            ]
          },
          "metadata": {}
        }
      ]
    },
    {
      "cell_type": "markdown",
      "source": [
        "Saving the model"
      ],
      "metadata": {
        "id": "NnLZ7lNnpJUG"
      }
    },
    {
      "cell_type": "code",
      "source": [
        "final_model = finalize_model(best_model)\n",
        "save_model(final_model, 'regression_model')"
      ],
      "metadata": {
        "colab": {
          "base_uri": "https://localhost:8080/"
        },
        "id": "MNuSPJqvhhzG",
        "outputId": "70024607-c91a-4e0f-e3d8-05eff31f1dbc"
      },
      "execution_count": null,
      "outputs": [
        {
          "output_type": "stream",
          "name": "stdout",
          "text": [
            "Transformation Pipeline and Model Successfully Saved\n"
          ]
        },
        {
          "output_type": "execute_result",
          "data": {
            "text/plain": [
              "(Pipeline(memory=FastMemory(location=/tmp/joblib),\n",
              "          steps=[('numerical_imputer',\n",
              "                  TransformerWrapper(exclude=None,\n",
              "                                     include=['Serial No.', 'GRE Score',\n",
              "                                              'TOEFL Score', 'University Rating',\n",
              "                                              'SOP', 'LOR ', 'CGPA',\n",
              "                                              'Research'],\n",
              "                                     transformer=SimpleImputer(add_indicator=False,\n",
              "                                                               copy=True,\n",
              "                                                               fill_value=None,\n",
              "                                                               keep_empty_features=False,\n",
              "                                                               missing_values=nan,\n",
              "                                                               strategy='mean',\n",
              "                                                               verbose='depr...\n",
              "                                            criterion='friedman_mse', init=None,\n",
              "                                            learning_rate=0.1,\n",
              "                                            loss='squared_error', max_depth=3,\n",
              "                                            max_features=None,\n",
              "                                            max_leaf_nodes=None,\n",
              "                                            min_impurity_decrease=0.0,\n",
              "                                            min_samples_leaf=1,\n",
              "                                            min_samples_split=2,\n",
              "                                            min_weight_fraction_leaf=0.0,\n",
              "                                            n_estimators=100,\n",
              "                                            n_iter_no_change=None,\n",
              "                                            random_state=123, subsample=1.0,\n",
              "                                            tol=0.0001, validation_fraction=0.1,\n",
              "                                            verbose=0, warm_start=False))],\n",
              "          verbose=False),\n",
              " 'regression_model.pkl')"
            ]
          },
          "metadata": {},
          "execution_count": 90
        }
      ]
    },
    {
      "cell_type": "markdown",
      "source": [
        "**Task 4: Clustering**"
      ],
      "metadata": {
        "id": "E3SRvOjFpPjn"
      }
    },
    {
      "cell_type": "code",
      "source": [
        "import pandas as pd\n",
        "from sklearn.model_selection import train_test_split\n",
        "from pycaret.clustering import *\n",
        "\n",
        "\n",
        "data = pd.read_csv('/content/wine-clustering.csv')\n",
        "train,test = train_test_split(data, test_size=0.25, random_state=42)\n",
        "train.head()\n",
        "\n"
      ],
      "metadata": {
        "colab": {
          "base_uri": "https://localhost:8080/",
          "height": 226
        },
        "id": "gzoA0ZblpdDv",
        "outputId": "70fa9ff6-f211-4c72-d3bf-2cd180bac2bb"
      },
      "execution_count": null,
      "outputs": [
        {
          "output_type": "execute_result",
          "data": {
            "text/plain": [
              "     Alcohol  Malic_Acid   Ash  Ash_Alcanity  Magnesium  Total_Phenols  \\\n",
              "2      13.16        2.36  2.67          18.6        101           2.80   \n",
              "100    12.08        2.08  1.70          17.5         97           2.23   \n",
              "122    12.42        4.43  2.73          26.5        102           2.20   \n",
              "154    12.58        1.29  2.10          20.0        103           1.48   \n",
              "51     13.83        1.65  2.60          17.2         94           2.45   \n",
              "\n",
              "     Flavanoids  Nonflavanoid_Phenols  Proanthocyanins  Color_Intensity   Hue  \\\n",
              "2          3.24                  0.30             2.81             5.68  1.03   \n",
              "100        2.17                  0.26             1.40             3.30  1.27   \n",
              "122        2.13                  0.43             1.71             2.08  0.92   \n",
              "154        0.58                  0.53             1.40             7.60  0.58   \n",
              "51         2.99                  0.22             2.29             5.60  1.24   \n",
              "\n",
              "     OD280  Proline  \n",
              "2     3.17     1185  \n",
              "100   2.96      710  \n",
              "122   3.12      365  \n",
              "154   1.55      640  \n",
              "51    3.37     1265  "
            ],
            "text/html": [
              "\n",
              "  <div id=\"df-1cda5f43-9db8-4c8b-923b-63e923754617\" class=\"colab-df-container\">\n",
              "    <div>\n",
              "<style scoped>\n",
              "    .dataframe tbody tr th:only-of-type {\n",
              "        vertical-align: middle;\n",
              "    }\n",
              "\n",
              "    .dataframe tbody tr th {\n",
              "        vertical-align: top;\n",
              "    }\n",
              "\n",
              "    .dataframe thead th {\n",
              "        text-align: right;\n",
              "    }\n",
              "</style>\n",
              "<table border=\"1\" class=\"dataframe\">\n",
              "  <thead>\n",
              "    <tr style=\"text-align: right;\">\n",
              "      <th></th>\n",
              "      <th>Alcohol</th>\n",
              "      <th>Malic_Acid</th>\n",
              "      <th>Ash</th>\n",
              "      <th>Ash_Alcanity</th>\n",
              "      <th>Magnesium</th>\n",
              "      <th>Total_Phenols</th>\n",
              "      <th>Flavanoids</th>\n",
              "      <th>Nonflavanoid_Phenols</th>\n",
              "      <th>Proanthocyanins</th>\n",
              "      <th>Color_Intensity</th>\n",
              "      <th>Hue</th>\n",
              "      <th>OD280</th>\n",
              "      <th>Proline</th>\n",
              "    </tr>\n",
              "  </thead>\n",
              "  <tbody>\n",
              "    <tr>\n",
              "      <th>2</th>\n",
              "      <td>13.16</td>\n",
              "      <td>2.36</td>\n",
              "      <td>2.67</td>\n",
              "      <td>18.6</td>\n",
              "      <td>101</td>\n",
              "      <td>2.80</td>\n",
              "      <td>3.24</td>\n",
              "      <td>0.30</td>\n",
              "      <td>2.81</td>\n",
              "      <td>5.68</td>\n",
              "      <td>1.03</td>\n",
              "      <td>3.17</td>\n",
              "      <td>1185</td>\n",
              "    </tr>\n",
              "    <tr>\n",
              "      <th>100</th>\n",
              "      <td>12.08</td>\n",
              "      <td>2.08</td>\n",
              "      <td>1.70</td>\n",
              "      <td>17.5</td>\n",
              "      <td>97</td>\n",
              "      <td>2.23</td>\n",
              "      <td>2.17</td>\n",
              "      <td>0.26</td>\n",
              "      <td>1.40</td>\n",
              "      <td>3.30</td>\n",
              "      <td>1.27</td>\n",
              "      <td>2.96</td>\n",
              "      <td>710</td>\n",
              "    </tr>\n",
              "    <tr>\n",
              "      <th>122</th>\n",
              "      <td>12.42</td>\n",
              "      <td>4.43</td>\n",
              "      <td>2.73</td>\n",
              "      <td>26.5</td>\n",
              "      <td>102</td>\n",
              "      <td>2.20</td>\n",
              "      <td>2.13</td>\n",
              "      <td>0.43</td>\n",
              "      <td>1.71</td>\n",
              "      <td>2.08</td>\n",
              "      <td>0.92</td>\n",
              "      <td>3.12</td>\n",
              "      <td>365</td>\n",
              "    </tr>\n",
              "    <tr>\n",
              "      <th>154</th>\n",
              "      <td>12.58</td>\n",
              "      <td>1.29</td>\n",
              "      <td>2.10</td>\n",
              "      <td>20.0</td>\n",
              "      <td>103</td>\n",
              "      <td>1.48</td>\n",
              "      <td>0.58</td>\n",
              "      <td>0.53</td>\n",
              "      <td>1.40</td>\n",
              "      <td>7.60</td>\n",
              "      <td>0.58</td>\n",
              "      <td>1.55</td>\n",
              "      <td>640</td>\n",
              "    </tr>\n",
              "    <tr>\n",
              "      <th>51</th>\n",
              "      <td>13.83</td>\n",
              "      <td>1.65</td>\n",
              "      <td>2.60</td>\n",
              "      <td>17.2</td>\n",
              "      <td>94</td>\n",
              "      <td>2.45</td>\n",
              "      <td>2.99</td>\n",
              "      <td>0.22</td>\n",
              "      <td>2.29</td>\n",
              "      <td>5.60</td>\n",
              "      <td>1.24</td>\n",
              "      <td>3.37</td>\n",
              "      <td>1265</td>\n",
              "    </tr>\n",
              "  </tbody>\n",
              "</table>\n",
              "</div>\n",
              "    <div class=\"colab-df-buttons\">\n",
              "\n",
              "  <div class=\"colab-df-container\">\n",
              "    <button class=\"colab-df-convert\" onclick=\"convertToInteractive('df-1cda5f43-9db8-4c8b-923b-63e923754617')\"\n",
              "            title=\"Convert this dataframe to an interactive table.\"\n",
              "            style=\"display:none;\">\n",
              "\n",
              "  <svg xmlns=\"http://www.w3.org/2000/svg\" height=\"24px\" viewBox=\"0 -960 960 960\">\n",
              "    <path d=\"M120-120v-720h720v720H120Zm60-500h600v-160H180v160Zm220 220h160v-160H400v160Zm0 220h160v-160H400v160ZM180-400h160v-160H180v160Zm440 0h160v-160H620v160ZM180-180h160v-160H180v160Zm440 0h160v-160H620v160Z\"/>\n",
              "  </svg>\n",
              "    </button>\n",
              "\n",
              "  <style>\n",
              "    .colab-df-container {\n",
              "      display:flex;\n",
              "      gap: 12px;\n",
              "    }\n",
              "\n",
              "    .colab-df-convert {\n",
              "      background-color: #E8F0FE;\n",
              "      border: none;\n",
              "      border-radius: 50%;\n",
              "      cursor: pointer;\n",
              "      display: none;\n",
              "      fill: #1967D2;\n",
              "      height: 32px;\n",
              "      padding: 0 0 0 0;\n",
              "      width: 32px;\n",
              "    }\n",
              "\n",
              "    .colab-df-convert:hover {\n",
              "      background-color: #E2EBFA;\n",
              "      box-shadow: 0px 1px 2px rgba(60, 64, 67, 0.3), 0px 1px 3px 1px rgba(60, 64, 67, 0.15);\n",
              "      fill: #174EA6;\n",
              "    }\n",
              "\n",
              "    .colab-df-buttons div {\n",
              "      margin-bottom: 4px;\n",
              "    }\n",
              "\n",
              "    [theme=dark] .colab-df-convert {\n",
              "      background-color: #3B4455;\n",
              "      fill: #D2E3FC;\n",
              "    }\n",
              "\n",
              "    [theme=dark] .colab-df-convert:hover {\n",
              "      background-color: #434B5C;\n",
              "      box-shadow: 0px 1px 3px 1px rgba(0, 0, 0, 0.15);\n",
              "      filter: drop-shadow(0px 1px 2px rgba(0, 0, 0, 0.3));\n",
              "      fill: #FFFFFF;\n",
              "    }\n",
              "  </style>\n",
              "\n",
              "    <script>\n",
              "      const buttonEl =\n",
              "        document.querySelector('#df-1cda5f43-9db8-4c8b-923b-63e923754617 button.colab-df-convert');\n",
              "      buttonEl.style.display =\n",
              "        google.colab.kernel.accessAllowed ? 'block' : 'none';\n",
              "\n",
              "      async function convertToInteractive(key) {\n",
              "        const element = document.querySelector('#df-1cda5f43-9db8-4c8b-923b-63e923754617');\n",
              "        const dataTable =\n",
              "          await google.colab.kernel.invokeFunction('convertToInteractive',\n",
              "                                                    [key], {});\n",
              "        if (!dataTable) return;\n",
              "\n",
              "        const docLinkHtml = 'Like what you see? Visit the ' +\n",
              "          '<a target=\"_blank\" href=https://colab.research.google.com/notebooks/data_table.ipynb>data table notebook</a>'\n",
              "          + ' to learn more about interactive tables.';\n",
              "        element.innerHTML = '';\n",
              "        dataTable['output_type'] = 'display_data';\n",
              "        await google.colab.output.renderOutput(dataTable, element);\n",
              "        const docLink = document.createElement('div');\n",
              "        docLink.innerHTML = docLinkHtml;\n",
              "        element.appendChild(docLink);\n",
              "      }\n",
              "    </script>\n",
              "  </div>\n",
              "\n",
              "\n",
              "<div id=\"df-329222d2-7ddd-48cf-b32c-1e8571737c5c\">\n",
              "  <button class=\"colab-df-quickchart\" onclick=\"quickchart('df-329222d2-7ddd-48cf-b32c-1e8571737c5c')\"\n",
              "            title=\"Suggest charts.\"\n",
              "            style=\"display:none;\">\n",
              "\n",
              "<svg xmlns=\"http://www.w3.org/2000/svg\" height=\"24px\"viewBox=\"0 0 24 24\"\n",
              "     width=\"24px\">\n",
              "    <g>\n",
              "        <path d=\"M19 3H5c-1.1 0-2 .9-2 2v14c0 1.1.9 2 2 2h14c1.1 0 2-.9 2-2V5c0-1.1-.9-2-2-2zM9 17H7v-7h2v7zm4 0h-2V7h2v10zm4 0h-2v-4h2v4z\"/>\n",
              "    </g>\n",
              "</svg>\n",
              "  </button>\n",
              "\n",
              "<style>\n",
              "  .colab-df-quickchart {\n",
              "      --bg-color: #E8F0FE;\n",
              "      --fill-color: #1967D2;\n",
              "      --hover-bg-color: #E2EBFA;\n",
              "      --hover-fill-color: #174EA6;\n",
              "      --disabled-fill-color: #AAA;\n",
              "      --disabled-bg-color: #DDD;\n",
              "  }\n",
              "\n",
              "  [theme=dark] .colab-df-quickchart {\n",
              "      --bg-color: #3B4455;\n",
              "      --fill-color: #D2E3FC;\n",
              "      --hover-bg-color: #434B5C;\n",
              "      --hover-fill-color: #FFFFFF;\n",
              "      --disabled-bg-color: #3B4455;\n",
              "      --disabled-fill-color: #666;\n",
              "  }\n",
              "\n",
              "  .colab-df-quickchart {\n",
              "    background-color: var(--bg-color);\n",
              "    border: none;\n",
              "    border-radius: 50%;\n",
              "    cursor: pointer;\n",
              "    display: none;\n",
              "    fill: var(--fill-color);\n",
              "    height: 32px;\n",
              "    padding: 0;\n",
              "    width: 32px;\n",
              "  }\n",
              "\n",
              "  .colab-df-quickchart:hover {\n",
              "    background-color: var(--hover-bg-color);\n",
              "    box-shadow: 0 1px 2px rgba(60, 64, 67, 0.3), 0 1px 3px 1px rgba(60, 64, 67, 0.15);\n",
              "    fill: var(--button-hover-fill-color);\n",
              "  }\n",
              "\n",
              "  .colab-df-quickchart-complete:disabled,\n",
              "  .colab-df-quickchart-complete:disabled:hover {\n",
              "    background-color: var(--disabled-bg-color);\n",
              "    fill: var(--disabled-fill-color);\n",
              "    box-shadow: none;\n",
              "  }\n",
              "\n",
              "  .colab-df-spinner {\n",
              "    border: 2px solid var(--fill-color);\n",
              "    border-color: transparent;\n",
              "    border-bottom-color: var(--fill-color);\n",
              "    animation:\n",
              "      spin 1s steps(1) infinite;\n",
              "  }\n",
              "\n",
              "  @keyframes spin {\n",
              "    0% {\n",
              "      border-color: transparent;\n",
              "      border-bottom-color: var(--fill-color);\n",
              "      border-left-color: var(--fill-color);\n",
              "    }\n",
              "    20% {\n",
              "      border-color: transparent;\n",
              "      border-left-color: var(--fill-color);\n",
              "      border-top-color: var(--fill-color);\n",
              "    }\n",
              "    30% {\n",
              "      border-color: transparent;\n",
              "      border-left-color: var(--fill-color);\n",
              "      border-top-color: var(--fill-color);\n",
              "      border-right-color: var(--fill-color);\n",
              "    }\n",
              "    40% {\n",
              "      border-color: transparent;\n",
              "      border-right-color: var(--fill-color);\n",
              "      border-top-color: var(--fill-color);\n",
              "    }\n",
              "    60% {\n",
              "      border-color: transparent;\n",
              "      border-right-color: var(--fill-color);\n",
              "    }\n",
              "    80% {\n",
              "      border-color: transparent;\n",
              "      border-right-color: var(--fill-color);\n",
              "      border-bottom-color: var(--fill-color);\n",
              "    }\n",
              "    90% {\n",
              "      border-color: transparent;\n",
              "      border-bottom-color: var(--fill-color);\n",
              "    }\n",
              "  }\n",
              "</style>\n",
              "\n",
              "  <script>\n",
              "    async function quickchart(key) {\n",
              "      const quickchartButtonEl =\n",
              "        document.querySelector('#' + key + ' button');\n",
              "      quickchartButtonEl.disabled = true;  // To prevent multiple clicks.\n",
              "      quickchartButtonEl.classList.add('colab-df-spinner');\n",
              "      try {\n",
              "        const charts = await google.colab.kernel.invokeFunction(\n",
              "            'suggestCharts', [key], {});\n",
              "      } catch (error) {\n",
              "        console.error('Error during call to suggestCharts:', error);\n",
              "      }\n",
              "      quickchartButtonEl.classList.remove('colab-df-spinner');\n",
              "      quickchartButtonEl.classList.add('colab-df-quickchart-complete');\n",
              "    }\n",
              "    (() => {\n",
              "      let quickchartButtonEl =\n",
              "        document.querySelector('#df-329222d2-7ddd-48cf-b32c-1e8571737c5c button');\n",
              "      quickchartButtonEl.style.display =\n",
              "        google.colab.kernel.accessAllowed ? 'block' : 'none';\n",
              "    })();\n",
              "  </script>\n",
              "</div>\n",
              "    </div>\n",
              "  </div>\n"
            ]
          },
          "metadata": {},
          "execution_count": 91
        }
      ]
    },
    {
      "cell_type": "code",
      "source": [
        "test.head()"
      ],
      "metadata": {
        "colab": {
          "base_uri": "https://localhost:8080/",
          "height": 226
        },
        "id": "K_fJiJD1uEPA",
        "outputId": "f71c2a02-f3cf-4fbd-c05a-106f3f062c89"
      },
      "execution_count": null,
      "outputs": [
        {
          "output_type": "execute_result",
          "data": {
            "text/plain": [
              "     Alcohol  Malic_Acid   Ash  Ash_Alcanity  Magnesium  Total_Phenols  \\\n",
              "19     13.64        3.10  2.56          15.2        116           2.70   \n",
              "45     14.21        4.04  2.44          18.9        111           2.85   \n",
              "140    12.93        2.81  2.70          21.0         96           1.54   \n",
              "30     13.73        1.50  2.70          22.5        101           3.00   \n",
              "67     12.37        1.17  1.92          19.6         78           2.11   \n",
              "\n",
              "     Flavanoids  Nonflavanoid_Phenols  Proanthocyanins  Color_Intensity   Hue  \\\n",
              "19         3.03                  0.17             1.66             5.10  0.96   \n",
              "45         2.65                  0.30             1.25             5.24  0.87   \n",
              "140        0.50                  0.53             0.75             4.60  0.77   \n",
              "30         3.25                  0.29             2.38             5.70  1.19   \n",
              "67         2.00                  0.27             1.04             4.68  1.12   \n",
              "\n",
              "     OD280  Proline  \n",
              "19    3.36      845  \n",
              "45    3.33     1080  \n",
              "140   2.31      600  \n",
              "30    2.71     1285  \n",
              "67    3.48      510  "
            ],
            "text/html": [
              "\n",
              "  <div id=\"df-dffe4afb-40b5-410e-b8cf-6ee1b82ca4f8\" class=\"colab-df-container\">\n",
              "    <div>\n",
              "<style scoped>\n",
              "    .dataframe tbody tr th:only-of-type {\n",
              "        vertical-align: middle;\n",
              "    }\n",
              "\n",
              "    .dataframe tbody tr th {\n",
              "        vertical-align: top;\n",
              "    }\n",
              "\n",
              "    .dataframe thead th {\n",
              "        text-align: right;\n",
              "    }\n",
              "</style>\n",
              "<table border=\"1\" class=\"dataframe\">\n",
              "  <thead>\n",
              "    <tr style=\"text-align: right;\">\n",
              "      <th></th>\n",
              "      <th>Alcohol</th>\n",
              "      <th>Malic_Acid</th>\n",
              "      <th>Ash</th>\n",
              "      <th>Ash_Alcanity</th>\n",
              "      <th>Magnesium</th>\n",
              "      <th>Total_Phenols</th>\n",
              "      <th>Flavanoids</th>\n",
              "      <th>Nonflavanoid_Phenols</th>\n",
              "      <th>Proanthocyanins</th>\n",
              "      <th>Color_Intensity</th>\n",
              "      <th>Hue</th>\n",
              "      <th>OD280</th>\n",
              "      <th>Proline</th>\n",
              "    </tr>\n",
              "  </thead>\n",
              "  <tbody>\n",
              "    <tr>\n",
              "      <th>19</th>\n",
              "      <td>13.64</td>\n",
              "      <td>3.10</td>\n",
              "      <td>2.56</td>\n",
              "      <td>15.2</td>\n",
              "      <td>116</td>\n",
              "      <td>2.70</td>\n",
              "      <td>3.03</td>\n",
              "      <td>0.17</td>\n",
              "      <td>1.66</td>\n",
              "      <td>5.10</td>\n",
              "      <td>0.96</td>\n",
              "      <td>3.36</td>\n",
              "      <td>845</td>\n",
              "    </tr>\n",
              "    <tr>\n",
              "      <th>45</th>\n",
              "      <td>14.21</td>\n",
              "      <td>4.04</td>\n",
              "      <td>2.44</td>\n",
              "      <td>18.9</td>\n",
              "      <td>111</td>\n",
              "      <td>2.85</td>\n",
              "      <td>2.65</td>\n",
              "      <td>0.30</td>\n",
              "      <td>1.25</td>\n",
              "      <td>5.24</td>\n",
              "      <td>0.87</td>\n",
              "      <td>3.33</td>\n",
              "      <td>1080</td>\n",
              "    </tr>\n",
              "    <tr>\n",
              "      <th>140</th>\n",
              "      <td>12.93</td>\n",
              "      <td>2.81</td>\n",
              "      <td>2.70</td>\n",
              "      <td>21.0</td>\n",
              "      <td>96</td>\n",
              "      <td>1.54</td>\n",
              "      <td>0.50</td>\n",
              "      <td>0.53</td>\n",
              "      <td>0.75</td>\n",
              "      <td>4.60</td>\n",
              "      <td>0.77</td>\n",
              "      <td>2.31</td>\n",
              "      <td>600</td>\n",
              "    </tr>\n",
              "    <tr>\n",
              "      <th>30</th>\n",
              "      <td>13.73</td>\n",
              "      <td>1.50</td>\n",
              "      <td>2.70</td>\n",
              "      <td>22.5</td>\n",
              "      <td>101</td>\n",
              "      <td>3.00</td>\n",
              "      <td>3.25</td>\n",
              "      <td>0.29</td>\n",
              "      <td>2.38</td>\n",
              "      <td>5.70</td>\n",
              "      <td>1.19</td>\n",
              "      <td>2.71</td>\n",
              "      <td>1285</td>\n",
              "    </tr>\n",
              "    <tr>\n",
              "      <th>67</th>\n",
              "      <td>12.37</td>\n",
              "      <td>1.17</td>\n",
              "      <td>1.92</td>\n",
              "      <td>19.6</td>\n",
              "      <td>78</td>\n",
              "      <td>2.11</td>\n",
              "      <td>2.00</td>\n",
              "      <td>0.27</td>\n",
              "      <td>1.04</td>\n",
              "      <td>4.68</td>\n",
              "      <td>1.12</td>\n",
              "      <td>3.48</td>\n",
              "      <td>510</td>\n",
              "    </tr>\n",
              "  </tbody>\n",
              "</table>\n",
              "</div>\n",
              "    <div class=\"colab-df-buttons\">\n",
              "\n",
              "  <div class=\"colab-df-container\">\n",
              "    <button class=\"colab-df-convert\" onclick=\"convertToInteractive('df-dffe4afb-40b5-410e-b8cf-6ee1b82ca4f8')\"\n",
              "            title=\"Convert this dataframe to an interactive table.\"\n",
              "            style=\"display:none;\">\n",
              "\n",
              "  <svg xmlns=\"http://www.w3.org/2000/svg\" height=\"24px\" viewBox=\"0 -960 960 960\">\n",
              "    <path d=\"M120-120v-720h720v720H120Zm60-500h600v-160H180v160Zm220 220h160v-160H400v160Zm0 220h160v-160H400v160ZM180-400h160v-160H180v160Zm440 0h160v-160H620v160ZM180-180h160v-160H180v160Zm440 0h160v-160H620v160Z\"/>\n",
              "  </svg>\n",
              "    </button>\n",
              "\n",
              "  <style>\n",
              "    .colab-df-container {\n",
              "      display:flex;\n",
              "      gap: 12px;\n",
              "    }\n",
              "\n",
              "    .colab-df-convert {\n",
              "      background-color: #E8F0FE;\n",
              "      border: none;\n",
              "      border-radius: 50%;\n",
              "      cursor: pointer;\n",
              "      display: none;\n",
              "      fill: #1967D2;\n",
              "      height: 32px;\n",
              "      padding: 0 0 0 0;\n",
              "      width: 32px;\n",
              "    }\n",
              "\n",
              "    .colab-df-convert:hover {\n",
              "      background-color: #E2EBFA;\n",
              "      box-shadow: 0px 1px 2px rgba(60, 64, 67, 0.3), 0px 1px 3px 1px rgba(60, 64, 67, 0.15);\n",
              "      fill: #174EA6;\n",
              "    }\n",
              "\n",
              "    .colab-df-buttons div {\n",
              "      margin-bottom: 4px;\n",
              "    }\n",
              "\n",
              "    [theme=dark] .colab-df-convert {\n",
              "      background-color: #3B4455;\n",
              "      fill: #D2E3FC;\n",
              "    }\n",
              "\n",
              "    [theme=dark] .colab-df-convert:hover {\n",
              "      background-color: #434B5C;\n",
              "      box-shadow: 0px 1px 3px 1px rgba(0, 0, 0, 0.15);\n",
              "      filter: drop-shadow(0px 1px 2px rgba(0, 0, 0, 0.3));\n",
              "      fill: #FFFFFF;\n",
              "    }\n",
              "  </style>\n",
              "\n",
              "    <script>\n",
              "      const buttonEl =\n",
              "        document.querySelector('#df-dffe4afb-40b5-410e-b8cf-6ee1b82ca4f8 button.colab-df-convert');\n",
              "      buttonEl.style.display =\n",
              "        google.colab.kernel.accessAllowed ? 'block' : 'none';\n",
              "\n",
              "      async function convertToInteractive(key) {\n",
              "        const element = document.querySelector('#df-dffe4afb-40b5-410e-b8cf-6ee1b82ca4f8');\n",
              "        const dataTable =\n",
              "          await google.colab.kernel.invokeFunction('convertToInteractive',\n",
              "                                                    [key], {});\n",
              "        if (!dataTable) return;\n",
              "\n",
              "        const docLinkHtml = 'Like what you see? Visit the ' +\n",
              "          '<a target=\"_blank\" href=https://colab.research.google.com/notebooks/data_table.ipynb>data table notebook</a>'\n",
              "          + ' to learn more about interactive tables.';\n",
              "        element.innerHTML = '';\n",
              "        dataTable['output_type'] = 'display_data';\n",
              "        await google.colab.output.renderOutput(dataTable, element);\n",
              "        const docLink = document.createElement('div');\n",
              "        docLink.innerHTML = docLinkHtml;\n",
              "        element.appendChild(docLink);\n",
              "      }\n",
              "    </script>\n",
              "  </div>\n",
              "\n",
              "\n",
              "<div id=\"df-3513b100-d2f0-4728-b696-9f98c2f89a87\">\n",
              "  <button class=\"colab-df-quickchart\" onclick=\"quickchart('df-3513b100-d2f0-4728-b696-9f98c2f89a87')\"\n",
              "            title=\"Suggest charts.\"\n",
              "            style=\"display:none;\">\n",
              "\n",
              "<svg xmlns=\"http://www.w3.org/2000/svg\" height=\"24px\"viewBox=\"0 0 24 24\"\n",
              "     width=\"24px\">\n",
              "    <g>\n",
              "        <path d=\"M19 3H5c-1.1 0-2 .9-2 2v14c0 1.1.9 2 2 2h14c1.1 0 2-.9 2-2V5c0-1.1-.9-2-2-2zM9 17H7v-7h2v7zm4 0h-2V7h2v10zm4 0h-2v-4h2v4z\"/>\n",
              "    </g>\n",
              "</svg>\n",
              "  </button>\n",
              "\n",
              "<style>\n",
              "  .colab-df-quickchart {\n",
              "      --bg-color: #E8F0FE;\n",
              "      --fill-color: #1967D2;\n",
              "      --hover-bg-color: #E2EBFA;\n",
              "      --hover-fill-color: #174EA6;\n",
              "      --disabled-fill-color: #AAA;\n",
              "      --disabled-bg-color: #DDD;\n",
              "  }\n",
              "\n",
              "  [theme=dark] .colab-df-quickchart {\n",
              "      --bg-color: #3B4455;\n",
              "      --fill-color: #D2E3FC;\n",
              "      --hover-bg-color: #434B5C;\n",
              "      --hover-fill-color: #FFFFFF;\n",
              "      --disabled-bg-color: #3B4455;\n",
              "      --disabled-fill-color: #666;\n",
              "  }\n",
              "\n",
              "  .colab-df-quickchart {\n",
              "    background-color: var(--bg-color);\n",
              "    border: none;\n",
              "    border-radius: 50%;\n",
              "    cursor: pointer;\n",
              "    display: none;\n",
              "    fill: var(--fill-color);\n",
              "    height: 32px;\n",
              "    padding: 0;\n",
              "    width: 32px;\n",
              "  }\n",
              "\n",
              "  .colab-df-quickchart:hover {\n",
              "    background-color: var(--hover-bg-color);\n",
              "    box-shadow: 0 1px 2px rgba(60, 64, 67, 0.3), 0 1px 3px 1px rgba(60, 64, 67, 0.15);\n",
              "    fill: var(--button-hover-fill-color);\n",
              "  }\n",
              "\n",
              "  .colab-df-quickchart-complete:disabled,\n",
              "  .colab-df-quickchart-complete:disabled:hover {\n",
              "    background-color: var(--disabled-bg-color);\n",
              "    fill: var(--disabled-fill-color);\n",
              "    box-shadow: none;\n",
              "  }\n",
              "\n",
              "  .colab-df-spinner {\n",
              "    border: 2px solid var(--fill-color);\n",
              "    border-color: transparent;\n",
              "    border-bottom-color: var(--fill-color);\n",
              "    animation:\n",
              "      spin 1s steps(1) infinite;\n",
              "  }\n",
              "\n",
              "  @keyframes spin {\n",
              "    0% {\n",
              "      border-color: transparent;\n",
              "      border-bottom-color: var(--fill-color);\n",
              "      border-left-color: var(--fill-color);\n",
              "    }\n",
              "    20% {\n",
              "      border-color: transparent;\n",
              "      border-left-color: var(--fill-color);\n",
              "      border-top-color: var(--fill-color);\n",
              "    }\n",
              "    30% {\n",
              "      border-color: transparent;\n",
              "      border-left-color: var(--fill-color);\n",
              "      border-top-color: var(--fill-color);\n",
              "      border-right-color: var(--fill-color);\n",
              "    }\n",
              "    40% {\n",
              "      border-color: transparent;\n",
              "      border-right-color: var(--fill-color);\n",
              "      border-top-color: var(--fill-color);\n",
              "    }\n",
              "    60% {\n",
              "      border-color: transparent;\n",
              "      border-right-color: var(--fill-color);\n",
              "    }\n",
              "    80% {\n",
              "      border-color: transparent;\n",
              "      border-right-color: var(--fill-color);\n",
              "      border-bottom-color: var(--fill-color);\n",
              "    }\n",
              "    90% {\n",
              "      border-color: transparent;\n",
              "      border-bottom-color: var(--fill-color);\n",
              "    }\n",
              "  }\n",
              "</style>\n",
              "\n",
              "  <script>\n",
              "    async function quickchart(key) {\n",
              "      const quickchartButtonEl =\n",
              "        document.querySelector('#' + key + ' button');\n",
              "      quickchartButtonEl.disabled = true;  // To prevent multiple clicks.\n",
              "      quickchartButtonEl.classList.add('colab-df-spinner');\n",
              "      try {\n",
              "        const charts = await google.colab.kernel.invokeFunction(\n",
              "            'suggestCharts', [key], {});\n",
              "      } catch (error) {\n",
              "        console.error('Error during call to suggestCharts:', error);\n",
              "      }\n",
              "      quickchartButtonEl.classList.remove('colab-df-spinner');\n",
              "      quickchartButtonEl.classList.add('colab-df-quickchart-complete');\n",
              "    }\n",
              "    (() => {\n",
              "      let quickchartButtonEl =\n",
              "        document.querySelector('#df-3513b100-d2f0-4728-b696-9f98c2f89a87 button');\n",
              "      quickchartButtonEl.style.display =\n",
              "        google.colab.kernel.accessAllowed ? 'block' : 'none';\n",
              "    })();\n",
              "  </script>\n",
              "</div>\n",
              "    </div>\n",
              "  </div>\n"
            ]
          },
          "metadata": {},
          "execution_count": 92
        }
      ]
    },
    {
      "cell_type": "code",
      "source": [
        "clu1 = setup(train, session_id=420)"
      ],
      "metadata": {
        "colab": {
          "base_uri": "https://localhost:8080/",
          "height": 457
        },
        "id": "dTiWQVcNqMU4",
        "outputId": "86b4ae65-c98d-4860-d970-bc956b8656b8"
      },
      "execution_count": null,
      "outputs": [
        {
          "output_type": "display_data",
          "data": {
            "text/plain": [
              "<pandas.io.formats.style.Styler at 0x7e8798ee7eb0>"
            ],
            "text/html": [
              "<style type=\"text/css\">\n",
              "#T_428e2_row4_col1 {\n",
              "  background-color: lightgreen;\n",
              "}\n",
              "</style>\n",
              "<table id=\"T_428e2\" class=\"dataframe\">\n",
              "  <thead>\n",
              "    <tr>\n",
              "      <th class=\"blank level0\" >&nbsp;</th>\n",
              "      <th id=\"T_428e2_level0_col0\" class=\"col_heading level0 col0\" >Description</th>\n",
              "      <th id=\"T_428e2_level0_col1\" class=\"col_heading level0 col1\" >Value</th>\n",
              "    </tr>\n",
              "  </thead>\n",
              "  <tbody>\n",
              "    <tr>\n",
              "      <th id=\"T_428e2_level0_row0\" class=\"row_heading level0 row0\" >0</th>\n",
              "      <td id=\"T_428e2_row0_col0\" class=\"data row0 col0\" >Session id</td>\n",
              "      <td id=\"T_428e2_row0_col1\" class=\"data row0 col1\" >420</td>\n",
              "    </tr>\n",
              "    <tr>\n",
              "      <th id=\"T_428e2_level0_row1\" class=\"row_heading level0 row1\" >1</th>\n",
              "      <td id=\"T_428e2_row1_col0\" class=\"data row1 col0\" >Original data shape</td>\n",
              "      <td id=\"T_428e2_row1_col1\" class=\"data row1 col1\" >(133, 13)</td>\n",
              "    </tr>\n",
              "    <tr>\n",
              "      <th id=\"T_428e2_level0_row2\" class=\"row_heading level0 row2\" >2</th>\n",
              "      <td id=\"T_428e2_row2_col0\" class=\"data row2 col0\" >Transformed data shape</td>\n",
              "      <td id=\"T_428e2_row2_col1\" class=\"data row2 col1\" >(133, 13)</td>\n",
              "    </tr>\n",
              "    <tr>\n",
              "      <th id=\"T_428e2_level0_row3\" class=\"row_heading level0 row3\" >3</th>\n",
              "      <td id=\"T_428e2_row3_col0\" class=\"data row3 col0\" >Numeric features</td>\n",
              "      <td id=\"T_428e2_row3_col1\" class=\"data row3 col1\" >13</td>\n",
              "    </tr>\n",
              "    <tr>\n",
              "      <th id=\"T_428e2_level0_row4\" class=\"row_heading level0 row4\" >4</th>\n",
              "      <td id=\"T_428e2_row4_col0\" class=\"data row4 col0\" >Preprocess</td>\n",
              "      <td id=\"T_428e2_row4_col1\" class=\"data row4 col1\" >True</td>\n",
              "    </tr>\n",
              "    <tr>\n",
              "      <th id=\"T_428e2_level0_row5\" class=\"row_heading level0 row5\" >5</th>\n",
              "      <td id=\"T_428e2_row5_col0\" class=\"data row5 col0\" >Imputation type</td>\n",
              "      <td id=\"T_428e2_row5_col1\" class=\"data row5 col1\" >simple</td>\n",
              "    </tr>\n",
              "    <tr>\n",
              "      <th id=\"T_428e2_level0_row6\" class=\"row_heading level0 row6\" >6</th>\n",
              "      <td id=\"T_428e2_row6_col0\" class=\"data row6 col0\" >Numeric imputation</td>\n",
              "      <td id=\"T_428e2_row6_col1\" class=\"data row6 col1\" >mean</td>\n",
              "    </tr>\n",
              "    <tr>\n",
              "      <th id=\"T_428e2_level0_row7\" class=\"row_heading level0 row7\" >7</th>\n",
              "      <td id=\"T_428e2_row7_col0\" class=\"data row7 col0\" >Categorical imputation</td>\n",
              "      <td id=\"T_428e2_row7_col1\" class=\"data row7 col1\" >mode</td>\n",
              "    </tr>\n",
              "    <tr>\n",
              "      <th id=\"T_428e2_level0_row8\" class=\"row_heading level0 row8\" >8</th>\n",
              "      <td id=\"T_428e2_row8_col0\" class=\"data row8 col0\" >CPU Jobs</td>\n",
              "      <td id=\"T_428e2_row8_col1\" class=\"data row8 col1\" >-1</td>\n",
              "    </tr>\n",
              "    <tr>\n",
              "      <th id=\"T_428e2_level0_row9\" class=\"row_heading level0 row9\" >9</th>\n",
              "      <td id=\"T_428e2_row9_col0\" class=\"data row9 col0\" >Use GPU</td>\n",
              "      <td id=\"T_428e2_row9_col1\" class=\"data row9 col1\" >False</td>\n",
              "    </tr>\n",
              "    <tr>\n",
              "      <th id=\"T_428e2_level0_row10\" class=\"row_heading level0 row10\" >10</th>\n",
              "      <td id=\"T_428e2_row10_col0\" class=\"data row10 col0\" >Log Experiment</td>\n",
              "      <td id=\"T_428e2_row10_col1\" class=\"data row10 col1\" >False</td>\n",
              "    </tr>\n",
              "    <tr>\n",
              "      <th id=\"T_428e2_level0_row11\" class=\"row_heading level0 row11\" >11</th>\n",
              "      <td id=\"T_428e2_row11_col0\" class=\"data row11 col0\" >Experiment Name</td>\n",
              "      <td id=\"T_428e2_row11_col1\" class=\"data row11 col1\" >cluster-default-name</td>\n",
              "    </tr>\n",
              "    <tr>\n",
              "      <th id=\"T_428e2_level0_row12\" class=\"row_heading level0 row12\" >12</th>\n",
              "      <td id=\"T_428e2_row12_col0\" class=\"data row12 col0\" >USI</td>\n",
              "      <td id=\"T_428e2_row12_col1\" class=\"data row12 col1\" >4955</td>\n",
              "    </tr>\n",
              "  </tbody>\n",
              "</table>\n"
            ]
          },
          "metadata": {}
        }
      ]
    },
    {
      "cell_type": "code",
      "source": [
        "kmeans = create_model('kmeans')\n"
      ],
      "metadata": {
        "colab": {
          "base_uri": "https://localhost:8080/",
          "height": 80,
          "referenced_widgets": [
            "406fc20ac3ab49459c6bd287c88b52fb",
            "4b7aa7aa9f4c471781e53ef9d6932d32",
            "5eccdd51dca0477984809382e7b4d250",
            "e8e9fd6adc3045bdb970a9dbea5df970",
            "baa6099604c74ae2b81a20f88dedf38b",
            "f74936a8ff2544b3988d3a1f299cf498",
            "201f7ea4e0834080a8306d01238e30de",
            "bb75e55a171c4d8db1e4ca4636c80fd8",
            "a30b251213f6404580dbae474a74e637",
            "082f80199e634be49e7a140e0f95d5b4",
            "199bf86024fc4f39b10bdf124f096178"
          ]
        },
        "id": "HNBvgjnqAaVC",
        "outputId": "740a28f6-c75f-46a7-f1a6-eea1a69f55df"
      },
      "execution_count": null,
      "outputs": [
        {
          "output_type": "display_data",
          "data": {
            "text/plain": [
              "<IPython.core.display.HTML object>"
            ],
            "text/html": []
          },
          "metadata": {}
        },
        {
          "output_type": "display_data",
          "data": {
            "text/plain": [
              "<pandas.io.formats.style.Styler at 0x7e879898f0a0>"
            ],
            "text/html": [
              "<style type=\"text/css\">\n",
              "</style>\n",
              "<table id=\"T_c29b9\" class=\"dataframe\">\n",
              "  <thead>\n",
              "    <tr>\n",
              "      <th class=\"blank level0\" >&nbsp;</th>\n",
              "      <th id=\"T_c29b9_level0_col0\" class=\"col_heading level0 col0\" >Silhouette</th>\n",
              "      <th id=\"T_c29b9_level0_col1\" class=\"col_heading level0 col1\" >Calinski-Harabasz</th>\n",
              "      <th id=\"T_c29b9_level0_col2\" class=\"col_heading level0 col2\" >Davies-Bouldin</th>\n",
              "      <th id=\"T_c29b9_level0_col3\" class=\"col_heading level0 col3\" >Homogeneity</th>\n",
              "      <th id=\"T_c29b9_level0_col4\" class=\"col_heading level0 col4\" >Rand Index</th>\n",
              "      <th id=\"T_c29b9_level0_col5\" class=\"col_heading level0 col5\" >Completeness</th>\n",
              "    </tr>\n",
              "  </thead>\n",
              "  <tbody>\n",
              "    <tr>\n",
              "      <th id=\"T_c29b9_level0_row0\" class=\"row_heading level0 row0\" >0</th>\n",
              "      <td id=\"T_c29b9_row0_col0\" class=\"data row0 col0\" >0.5568</td>\n",
              "      <td id=\"T_c29b9_row0_col1\" class=\"data row0 col1\" >550.0563</td>\n",
              "      <td id=\"T_c29b9_row0_col2\" class=\"data row0 col2\" >0.5369</td>\n",
              "      <td id=\"T_c29b9_row0_col3\" class=\"data row0 col3\" >0</td>\n",
              "      <td id=\"T_c29b9_row0_col4\" class=\"data row0 col4\" >0</td>\n",
              "      <td id=\"T_c29b9_row0_col5\" class=\"data row0 col5\" >0</td>\n",
              "    </tr>\n",
              "  </tbody>\n",
              "</table>\n"
            ]
          },
          "metadata": {}
        },
        {
          "output_type": "display_data",
          "data": {
            "text/plain": [
              "Processing:   0%|          | 0/3 [00:00<?, ?it/s]"
            ],
            "application/vnd.jupyter.widget-view+json": {
              "version_major": 2,
              "version_minor": 0,
              "model_id": "406fc20ac3ab49459c6bd287c88b52fb"
            }
          },
          "metadata": {
            "application/vnd.jupyter.widget-view+json": {
              "colab": {
                "custom_widget_manager": {
                  "url": "https://ssl.gstatic.com/colaboratory-static/widgets/colab-cdn-widget-manager/b3e629b1971e1542/manager.min.js"
                }
              }
            }
          }
        },
        {
          "output_type": "display_data",
          "data": {
            "text/plain": [
              "<IPython.core.display.HTML object>"
            ],
            "text/html": []
          },
          "metadata": {}
        }
      ]
    },
    {
      "cell_type": "code",
      "source": [
        "kmeans_results = assign_model(kmeans)\n",
        "print(kmeans_results.head())\n"
      ],
      "metadata": {
        "colab": {
          "base_uri": "https://localhost:8080/"
        },
        "id": "lhjlODBEAsrQ",
        "outputId": "8a8eb7f0-b7aa-4d67-a48e-3d857f5cbade"
      },
      "execution_count": null,
      "outputs": [
        {
          "output_type": "stream",
          "name": "stdout",
          "text": [
            "     Alcohol  Malic_Acid   Ash  Ash_Alcanity  Magnesium  Total_Phenols  \\\n",
            "2      13.16        2.36  2.67     18.600000        101           2.80   \n",
            "100    12.08        2.08  1.70     17.500000         97           2.23   \n",
            "122    12.42        4.43  2.73     26.500000        102           2.20   \n",
            "154    12.58        1.29  2.10     20.000000        103           1.48   \n",
            "51     13.83        1.65  2.60     17.200001         94           2.45   \n",
            "\n",
            "     Flavanoids  Nonflavanoid_Phenols  Proanthocyanins  Color_Intensity   Hue  \\\n",
            "2          3.24                  0.30             2.81             5.68  1.03   \n",
            "100        2.17                  0.26             1.40             3.30  1.27   \n",
            "122        2.13                  0.43             1.71             2.08  0.92   \n",
            "154        0.58                  0.53             1.40             7.60  0.58   \n",
            "51         2.99                  0.22             2.29             5.60  1.24   \n",
            "\n",
            "     OD280  Proline    Cluster  \n",
            "2     3.17     1185  Cluster 3  \n",
            "100   2.96      710  Cluster 2  \n",
            "122   3.12      365  Cluster 0  \n",
            "154   1.55      640  Cluster 2  \n",
            "51    3.37     1265  Cluster 3  \n"
          ]
        }
      ]
    },
    {
      "cell_type": "code",
      "source": [
        "plot_model(kmeans)\n"
      ],
      "metadata": {
        "colab": {
          "base_uri": "https://localhost:8080/",
          "height": 617
        },
        "id": "VzpPk61qAybT",
        "outputId": "1c5cd481-2cf0-4ce4-e124-5ce36335c949"
      },
      "execution_count": null,
      "outputs": [
        {
          "output_type": "display_data",
          "data": {
            "text/plain": [
              "<IPython.core.display.HTML object>"
            ],
            "text/html": []
          },
          "metadata": {}
        },
        {
          "output_type": "display_data",
          "data": {
            "text/html": [
              "<html>\n",
              "<head><meta charset=\"utf-8\" /></head>\n",
              "<body>\n",
              "    <div>            <script src=\"https://cdnjs.cloudflare.com/ajax/libs/mathjax/2.7.5/MathJax.js?config=TeX-AMS-MML_SVG\"></script><script type=\"text/javascript\">if (window.MathJax && window.MathJax.Hub && window.MathJax.Hub.Config) {window.MathJax.Hub.Config({SVG: {font: \"STIX-Web\"}});}</script>                <script type=\"text/javascript\">window.PlotlyConfig = {MathJaxConfig: 'local'};</script>\n",
              "        <script charset=\"utf-8\" src=\"https://cdn.plot.ly/plotly-2.24.1.min.js\"></script>                <div id=\"853a0c60-140d-4e23-9b5e-8955f1d4bd17\" class=\"plotly-graph-div\" style=\"height:600px; width:100%;\"></div>            <script type=\"text/javascript\">                                    window.PLOTLYENV=window.PLOTLYENV || {};                                    if (document.getElementById(\"853a0c60-140d-4e23-9b5e-8955f1d4bd17\")) {                    Plotly.newPlot(                        \"853a0c60-140d-4e23-9b5e-8955f1d4bd17\",                        [{\"customdata\":[[null],[13.05],[null],[14.1],[13.77],[14.22],[12.37],[null],[12.88],[12.21],[13.86],[11.96],[11.66],[12.7],[11.84],[14.22],[null],[12.0],[12.69],[12.29],[12.47],[12.08],[12.34],[null],[null],[11.45],[11.56],[12.42],[12.07],[null],[12.04],[12.16],[13.51],[12.81],[13.68],[14.75],[null],[null],[13.16],[13.39],[13.76],[13.3],[null],[14.2]],\"hovertemplate\":\"Cluster=Cluster 0\\u003cbr\\u003ePCA1=%{x}\\u003cbr\\u003ePCA2=%{y}\\u003cbr\\u003eFeature=%{customdata[0]}\\u003cextra\\u003e\\u003c\\u002fextra\\u003e\",\"legendgroup\":\"Cluster 0\",\"marker\":{\"color\":\"#636efa\",\"opacity\":0.5,\"symbol\":\"circle\"},\"mode\":\"markers\",\"name\":\"Cluster 0\",\"orientation\":\"v\",\"showlegend\":true,\"x\":[-428.1303447599516,-279.95752875563954,-223.07160252284243,-248.1706107626004,-397.96353270369997,-292.93637649175423,-365.2286129677425,-336.2407497355305,-248.3447419794392,-223.19471367607701,-223.20461526167563,-465.1803265323471,-242.73767512435262,-363.2848715772038,-293.23055302244904,-277.15616878929677,-228.2618419024202,-223.15119839889272,-317.6750899103098,-212.89699615878908,-271.2229711017153,-323.1819442736632,-255.27707968697413,-192.73180418915803,-262.735532541726,-328.2131707539283,-337.1622282386231,-248.23549092450122,-277.6390080505239,-333.2312236283394,-233.33676224890755,-263.1551986497926,-387.8607452888162,-304.99816814259896,-223.04612352329286,-453.1414262873513,-328.3255798989963,-315.2109303252297,-377.94182223381205,-233.03906203575426,-391.2028594924916,-314.9897298280941,-363.21446528893284,-351.1815058092375],\"xaxis\":\"x\",\"y\":[-2.778190797207175,5.490768424661943,-2.6564522493097007,-6.100801067398618,4.585675619706734,4.629502318037946,-8.96272706095328,-9.49321304309221,-16.13632756067907,-8.55411349613984,-8.539088476223423,-6.149544872064283,15.683175553173324,-11.993009892802194,-9.267966333202791,-3.4287635633956746,-11.457810593012722,-8.847005509950048,21.299277040396422,7.204127815035726,-8.636594945012417,-7.75946489002914,-11.966471966048204,15.905384594194526,16.238442557081193,-8.690805751032164,-6.548353723760176,-10.149738582394951,23.617405816603522,-8.456702499034021,-16.4486494489173,-6.830121634362969,10.412825431146059,2.91519471004905,0.45473984760476144,-4.401586693678946,-14.664478218475205,-9.995299067974337,8.378439379227453,-0.44313700759585956,-7.4498576250255,2.001562926618959,-7.9996011686042,-8.31167022659363],\"yaxis\":\"y\",\"type\":\"scatter\",\"textposition\":\"top center\"},{\"customdata\":[[14.38],[12.37],[null],[12.25],[12.51],[12.99],[12.6],[11.76],[13.03],[11.84],[12.72],[11.62],[null],[13.71],[13.05],[12.08],[13.29],[null],[11.87],[14.39],[13.56],[null],[null],[13.05],[11.03],[13.48],[13.82]],\"hovertemplate\":\"Cluster=Cluster 1\\u003cbr\\u003ePCA1=%{x}\\u003cbr\\u003ePCA2=%{y}\\u003cbr\\u003eFeature=%{customdata[0]}\\u003cextra\\u003e\\u003c\\u002fextra\\u003e\",\"legendgroup\":\"Cluster 1\",\"marker\":{\"color\":\"#EF553B\",\"opacity\":0.5,\"symbol\":\"circle\"},\"mode\":\"markers\",\"name\":\"Cluster 1\",\"orientation\":\"v\",\"showlegend\":true,\"x\":[291.971921064573,97.35086736124242,247.0323852752459,316.9983645571805,92.35243484977956,176.9575416272168,317.28953167110035,361.892788683336,352.11435334180743,321.99106076853326,127.01099387165468,387.2035593050261,137.17576893098692,112.20141400988433,195.11106007202721,301.91398488693454,242.61835313213976,136.8710929359701,142.97288441801174,227.31073000256526,87.39419342366678,322.46258632268,271.8551838444433,172.09443260044864,306.97851814000893,142.11297579788086,241.9915271825782],\"xaxis\":\"x\",\"y\":[-5.2581151536641935,17.48597252879555,-1.4076821502804258,-3.6426222996008124,17.582645562596248,-4.018366241658912,11.288510816551012,-9.51916523519683,2.68115138249041,-4.817650455749365,-0.12149442490401317,7.081598847253191,6.603365988835238,9.160223779006603,57.582598376641386,-9.480782424793611,33.946688926360984,-6.113017009616771,-2.3943112761536955,12.967085098235035,21.725292304027963,20.174603173411345,-10.85500668570625,3.0403163627915313,-6.649982662338462,3.551934626745143,-4.311607342097159],\"yaxis\":\"y\",\"type\":\"scatter\",\"textposition\":\"top center\"},{\"customdata\":[[12.29],[11.79],[14.12],[11.81],[13.2],[12.43],[12.29],[null],[14.1],[13.05],[null],[null],[14.83],[12.72],[null],[11.46],[null],[14.37],[null],[13.05],[11.64],[13.28],[null],[null],[13.24],[null],[14.38],[13.9],[13.94],[13.05],[13.83],[13.74],[null],[null],[13.67],[12.17],[12.64],[11.65],[13.83],[null],[12.0],[null],[12.85]],\"hovertemplate\":\"Cluster=Cluster 2\\u003cbr\\u003ePCA1=%{x}\\u003cbr\\u003ePCA2=%{y}\\u003cbr\\u003eFeature=%{customdata[0]}\\u003cextra\\u003e\\u003c\\u002fextra\\u003e\",\"legendgroup\":\"Cluster 2\",\"marker\":{\"color\":\"#00cc96\",\"opacity\":0.5,\"symbol\":\"circle\"},\"mode\":\"markers\",\"name\":\"Cluster 2\",\"orientation\":\"v\",\"showlegend\":true,\"x\":[-93.26076191072029,37.49721807663576,7.684621851257145,-18.146633736997217,-33.05086676509612,-183.06565358364605,-67.88093392130314,-93.14460937962302,-71.28296888484391,-181.23786281548627,-163.20202462678688,-112.57131269358185,-68.01681190171156,-63.31238214786243,27.029145335978487,-83.15257280231155,7.064329934678278,-102.93164607802953,-163.37126399382436,-180.84650520787318,-118.57408797489667,-117.37004963340584,52.32564420570472,-183.0352919689839,-29.260149122328155,-118.25585533927195,17.54996145797511,-181.19792493661245,-118.06535848057348,-3.104372122733958,-172.87792228037708,-48.10445176224297,-47.80160603212325,-142.8826569243721,-113.09086505519669,-135.93311243976578,-152.98633652118545,-62.868157748326695,-24.041920043498823,-23.226544798577688,-62.92889985589891,-58.21298249184938,-7.67669023910649],\"xaxis\":\"x\",\"y\":[-14.061482574557468,24.477299307188073,34.982418865566686,-7.343578831697206,-3.208401234271384,-1.2076027155141034,6.4732362028254995,-6.9502185524875095,-14.433806948266241,-9.272994741645741,-9.728573316231927,23.284993120916482,-1.456652162075451,-15.558128688176618,0.7128863940385689,-8.153177325315491,4.2581422863842855,4.193433073829318,-17.699236301929588,9.587262243351402,-28.49629018034763,35.43349018811754,15.215977010484943,0.7430871844551925,-14.237334443359364,-12.498187079336079,26.77324910343703,-9.442880912595799,-2.567899981503026,-5.663564389622396,8.505093925699763,-5.86812961992556,11.263046839723474,7.930800225436302,-4.707412832857905,4.762091279523409,3.1742240991832733,7.419437329009836,50.60232714029462,-11.31816834432662,3.3553801466490873,-11.624290672587243,17.4103893374697],\"yaxis\":\"y\",\"type\":\"scatter\",\"textposition\":\"top center\"},{\"customdata\":[[null],[12.86],[12.33],[null],[13.24],[13.87],[14.06],[13.49],[12.93],[11.82],[12.29],[11.82],[13.72],[null],[null],[12.42],[null],[14.06],[14.23]],\"hovertemplate\":\"Cluster=Cluster 3\\u003cbr\\u003ePCA1=%{x}\\u003cbr\\u003ePCA2=%{y}\\u003cbr\\u003eFeature=%{customdata[0]}\\u003cextra\\u003e\\u003c\\u002fextra\\u003e\",\"legendgroup\":\"Cluster 3\",\"marker\":{\"color\":\"#ab63fa\",\"opacity\":0.5,\"symbol\":\"circle\"},\"mode\":\"markers\",\"name\":\"Cluster 3\",\"orientation\":\"v\",\"showlegend\":true,\"x\":[632.1694807490334,803.9266459917342,552.2912191220366,536.8127718422752,521.7977172786242,766.9522696180036,546.843138422916,517.0673458983981,541.7876795611288,447.15191876892027,737.1202960945461,406.81108709330925,492.4992948180809,707.1121101402778,406.79747467449727,542.0618687406552,526.9479586981241,451.7954641198213,441.93585912496457],\"xaxis\":\"x\",\"y\":[2.461589213755592,-13.817011227438918,9.93520762687767,-15.787833084849863,-16.487147872193884,-10.024976203001096,-15.018509252269423,-2.3607691075632067,-16.88920563820637,1.8436445338084047,-1.4735504809958164,-16.43320683492398,22.094513303909117,-1.9641995426490944,-17.475524595002664,-2.860683074120708,-8.590228921664778,-16.223789600910713,-7.969731179063761],\"yaxis\":\"y\",\"type\":\"scatter\",\"textposition\":\"top center\"}],                        {\"template\":{\"data\":{\"histogram2dcontour\":[{\"type\":\"histogram2dcontour\",\"colorbar\":{\"outlinewidth\":0,\"ticks\":\"\"},\"colorscale\":[[0.0,\"#0d0887\"],[0.1111111111111111,\"#46039f\"],[0.2222222222222222,\"#7201a8\"],[0.3333333333333333,\"#9c179e\"],[0.4444444444444444,\"#bd3786\"],[0.5555555555555556,\"#d8576b\"],[0.6666666666666666,\"#ed7953\"],[0.7777777777777778,\"#fb9f3a\"],[0.8888888888888888,\"#fdca26\"],[1.0,\"#f0f921\"]]}],\"choropleth\":[{\"type\":\"choropleth\",\"colorbar\":{\"outlinewidth\":0,\"ticks\":\"\"}}],\"histogram2d\":[{\"type\":\"histogram2d\",\"colorbar\":{\"outlinewidth\":0,\"ticks\":\"\"},\"colorscale\":[[0.0,\"#0d0887\"],[0.1111111111111111,\"#46039f\"],[0.2222222222222222,\"#7201a8\"],[0.3333333333333333,\"#9c179e\"],[0.4444444444444444,\"#bd3786\"],[0.5555555555555556,\"#d8576b\"],[0.6666666666666666,\"#ed7953\"],[0.7777777777777778,\"#fb9f3a\"],[0.8888888888888888,\"#fdca26\"],[1.0,\"#f0f921\"]]}],\"heatmap\":[{\"type\":\"heatmap\",\"colorbar\":{\"outlinewidth\":0,\"ticks\":\"\"},\"colorscale\":[[0.0,\"#0d0887\"],[0.1111111111111111,\"#46039f\"],[0.2222222222222222,\"#7201a8\"],[0.3333333333333333,\"#9c179e\"],[0.4444444444444444,\"#bd3786\"],[0.5555555555555556,\"#d8576b\"],[0.6666666666666666,\"#ed7953\"],[0.7777777777777778,\"#fb9f3a\"],[0.8888888888888888,\"#fdca26\"],[1.0,\"#f0f921\"]]}],\"heatmapgl\":[{\"type\":\"heatmapgl\",\"colorbar\":{\"outlinewidth\":0,\"ticks\":\"\"},\"colorscale\":[[0.0,\"#0d0887\"],[0.1111111111111111,\"#46039f\"],[0.2222222222222222,\"#7201a8\"],[0.3333333333333333,\"#9c179e\"],[0.4444444444444444,\"#bd3786\"],[0.5555555555555556,\"#d8576b\"],[0.6666666666666666,\"#ed7953\"],[0.7777777777777778,\"#fb9f3a\"],[0.8888888888888888,\"#fdca26\"],[1.0,\"#f0f921\"]]}],\"contourcarpet\":[{\"type\":\"contourcarpet\",\"colorbar\":{\"outlinewidth\":0,\"ticks\":\"\"}}],\"contour\":[{\"type\":\"contour\",\"colorbar\":{\"outlinewidth\":0,\"ticks\":\"\"},\"colorscale\":[[0.0,\"#0d0887\"],[0.1111111111111111,\"#46039f\"],[0.2222222222222222,\"#7201a8\"],[0.3333333333333333,\"#9c179e\"],[0.4444444444444444,\"#bd3786\"],[0.5555555555555556,\"#d8576b\"],[0.6666666666666666,\"#ed7953\"],[0.7777777777777778,\"#fb9f3a\"],[0.8888888888888888,\"#fdca26\"],[1.0,\"#f0f921\"]]}],\"surface\":[{\"type\":\"surface\",\"colorbar\":{\"outlinewidth\":0,\"ticks\":\"\"},\"colorscale\":[[0.0,\"#0d0887\"],[0.1111111111111111,\"#46039f\"],[0.2222222222222222,\"#7201a8\"],[0.3333333333333333,\"#9c179e\"],[0.4444444444444444,\"#bd3786\"],[0.5555555555555556,\"#d8576b\"],[0.6666666666666666,\"#ed7953\"],[0.7777777777777778,\"#fb9f3a\"],[0.8888888888888888,\"#fdca26\"],[1.0,\"#f0f921\"]]}],\"mesh3d\":[{\"type\":\"mesh3d\",\"colorbar\":{\"outlinewidth\":0,\"ticks\":\"\"}}],\"scatter\":[{\"fillpattern\":{\"fillmode\":\"overlay\",\"size\":10,\"solidity\":0.2},\"type\":\"scatter\"}],\"parcoords\":[{\"type\":\"parcoords\",\"line\":{\"colorbar\":{\"outlinewidth\":0,\"ticks\":\"\"}}}],\"scatterpolargl\":[{\"type\":\"scatterpolargl\",\"marker\":{\"colorbar\":{\"outlinewidth\":0,\"ticks\":\"\"}}}],\"bar\":[{\"error_x\":{\"color\":\"#2a3f5f\"},\"error_y\":{\"color\":\"#2a3f5f\"},\"marker\":{\"line\":{\"color\":\"#E5ECF6\",\"width\":0.5},\"pattern\":{\"fillmode\":\"overlay\",\"size\":10,\"solidity\":0.2}},\"type\":\"bar\"}],\"scattergeo\":[{\"type\":\"scattergeo\",\"marker\":{\"colorbar\":{\"outlinewidth\":0,\"ticks\":\"\"}}}],\"scatterpolar\":[{\"type\":\"scatterpolar\",\"marker\":{\"colorbar\":{\"outlinewidth\":0,\"ticks\":\"\"}}}],\"histogram\":[{\"marker\":{\"pattern\":{\"fillmode\":\"overlay\",\"size\":10,\"solidity\":0.2}},\"type\":\"histogram\"}],\"scattergl\":[{\"type\":\"scattergl\",\"marker\":{\"colorbar\":{\"outlinewidth\":0,\"ticks\":\"\"}}}],\"scatter3d\":[{\"type\":\"scatter3d\",\"line\":{\"colorbar\":{\"outlinewidth\":0,\"ticks\":\"\"}},\"marker\":{\"colorbar\":{\"outlinewidth\":0,\"ticks\":\"\"}}}],\"scattermapbox\":[{\"type\":\"scattermapbox\",\"marker\":{\"colorbar\":{\"outlinewidth\":0,\"ticks\":\"\"}}}],\"scatterternary\":[{\"type\":\"scatterternary\",\"marker\":{\"colorbar\":{\"outlinewidth\":0,\"ticks\":\"\"}}}],\"scattercarpet\":[{\"type\":\"scattercarpet\",\"marker\":{\"colorbar\":{\"outlinewidth\":0,\"ticks\":\"\"}}}],\"carpet\":[{\"aaxis\":{\"endlinecolor\":\"#2a3f5f\",\"gridcolor\":\"white\",\"linecolor\":\"white\",\"minorgridcolor\":\"white\",\"startlinecolor\":\"#2a3f5f\"},\"baxis\":{\"endlinecolor\":\"#2a3f5f\",\"gridcolor\":\"white\",\"linecolor\":\"white\",\"minorgridcolor\":\"white\",\"startlinecolor\":\"#2a3f5f\"},\"type\":\"carpet\"}],\"table\":[{\"cells\":{\"fill\":{\"color\":\"#EBF0F8\"},\"line\":{\"color\":\"white\"}},\"header\":{\"fill\":{\"color\":\"#C8D4E3\"},\"line\":{\"color\":\"white\"}},\"type\":\"table\"}],\"barpolar\":[{\"marker\":{\"line\":{\"color\":\"#E5ECF6\",\"width\":0.5},\"pattern\":{\"fillmode\":\"overlay\",\"size\":10,\"solidity\":0.2}},\"type\":\"barpolar\"}],\"pie\":[{\"automargin\":true,\"type\":\"pie\"}]},\"layout\":{\"autotypenumbers\":\"strict\",\"colorway\":[\"#636efa\",\"#EF553B\",\"#00cc96\",\"#ab63fa\",\"#FFA15A\",\"#19d3f3\",\"#FF6692\",\"#B6E880\",\"#FF97FF\",\"#FECB52\"],\"font\":{\"color\":\"#2a3f5f\"},\"hovermode\":\"closest\",\"hoverlabel\":{\"align\":\"left\"},\"paper_bgcolor\":\"white\",\"plot_bgcolor\":\"#E5ECF6\",\"polar\":{\"bgcolor\":\"#E5ECF6\",\"angularaxis\":{\"gridcolor\":\"white\",\"linecolor\":\"white\",\"ticks\":\"\"},\"radialaxis\":{\"gridcolor\":\"white\",\"linecolor\":\"white\",\"ticks\":\"\"}},\"ternary\":{\"bgcolor\":\"#E5ECF6\",\"aaxis\":{\"gridcolor\":\"white\",\"linecolor\":\"white\",\"ticks\":\"\"},\"baxis\":{\"gridcolor\":\"white\",\"linecolor\":\"white\",\"ticks\":\"\"},\"caxis\":{\"gridcolor\":\"white\",\"linecolor\":\"white\",\"ticks\":\"\"}},\"coloraxis\":{\"colorbar\":{\"outlinewidth\":0,\"ticks\":\"\"}},\"colorscale\":{\"sequential\":[[0.0,\"#0d0887\"],[0.1111111111111111,\"#46039f\"],[0.2222222222222222,\"#7201a8\"],[0.3333333333333333,\"#9c179e\"],[0.4444444444444444,\"#bd3786\"],[0.5555555555555556,\"#d8576b\"],[0.6666666666666666,\"#ed7953\"],[0.7777777777777778,\"#fb9f3a\"],[0.8888888888888888,\"#fdca26\"],[1.0,\"#f0f921\"]],\"sequentialminus\":[[0.0,\"#0d0887\"],[0.1111111111111111,\"#46039f\"],[0.2222222222222222,\"#7201a8\"],[0.3333333333333333,\"#9c179e\"],[0.4444444444444444,\"#bd3786\"],[0.5555555555555556,\"#d8576b\"],[0.6666666666666666,\"#ed7953\"],[0.7777777777777778,\"#fb9f3a\"],[0.8888888888888888,\"#fdca26\"],[1.0,\"#f0f921\"]],\"diverging\":[[0,\"#8e0152\"],[0.1,\"#c51b7d\"],[0.2,\"#de77ae\"],[0.3,\"#f1b6da\"],[0.4,\"#fde0ef\"],[0.5,\"#f7f7f7\"],[0.6,\"#e6f5d0\"],[0.7,\"#b8e186\"],[0.8,\"#7fbc41\"],[0.9,\"#4d9221\"],[1,\"#276419\"]]},\"xaxis\":{\"gridcolor\":\"white\",\"linecolor\":\"white\",\"ticks\":\"\",\"title\":{\"standoff\":15},\"zerolinecolor\":\"white\",\"automargin\":true,\"zerolinewidth\":2},\"yaxis\":{\"gridcolor\":\"white\",\"linecolor\":\"white\",\"ticks\":\"\",\"title\":{\"standoff\":15},\"zerolinecolor\":\"white\",\"automargin\":true,\"zerolinewidth\":2},\"scene\":{\"xaxis\":{\"backgroundcolor\":\"#E5ECF6\",\"gridcolor\":\"white\",\"linecolor\":\"white\",\"showbackground\":true,\"ticks\":\"\",\"zerolinecolor\":\"white\",\"gridwidth\":2},\"yaxis\":{\"backgroundcolor\":\"#E5ECF6\",\"gridcolor\":\"white\",\"linecolor\":\"white\",\"showbackground\":true,\"ticks\":\"\",\"zerolinecolor\":\"white\",\"gridwidth\":2},\"zaxis\":{\"backgroundcolor\":\"#E5ECF6\",\"gridcolor\":\"white\",\"linecolor\":\"white\",\"showbackground\":true,\"ticks\":\"\",\"zerolinecolor\":\"white\",\"gridwidth\":2}},\"shapedefaults\":{\"line\":{\"color\":\"#2a3f5f\"}},\"annotationdefaults\":{\"arrowcolor\":\"#2a3f5f\",\"arrowhead\":0,\"arrowwidth\":1},\"geo\":{\"bgcolor\":\"white\",\"landcolor\":\"#E5ECF6\",\"subunitcolor\":\"white\",\"showland\":true,\"showlakes\":true,\"lakecolor\":\"white\"},\"title\":{\"x\":0.05},\"mapbox\":{\"style\":\"light\"}}},\"xaxis\":{\"anchor\":\"y\",\"domain\":[0.0,1.0],\"title\":{\"text\":\"PCA1\"}},\"yaxis\":{\"anchor\":\"x\",\"domain\":[0.0,1.0],\"title\":{\"text\":\"PCA2\"}},\"legend\":{\"title\":{\"text\":\"Cluster\"},\"tracegroupgap\":0},\"margin\":{\"t\":60},\"plot_bgcolor\":\"rgb(240,240,240)\",\"title\":{\"text\":\"2D Cluster PCA Plot\"},\"height\":600},                        {\"responsive\": true}                    ).then(function(){\n",
              "                            \n",
              "var gd = document.getElementById('853a0c60-140d-4e23-9b5e-8955f1d4bd17');\n",
              "var x = new MutationObserver(function (mutations, observer) {{\n",
              "        var display = window.getComputedStyle(gd).display;\n",
              "        if (!display || display === 'none') {{\n",
              "            console.log([gd, 'removed!']);\n",
              "            Plotly.purge(gd);\n",
              "            observer.disconnect();\n",
              "        }}\n",
              "}});\n",
              "\n",
              "// Listen for the removal of the full notebook cells\n",
              "var notebookContainer = gd.closest('#notebook-container');\n",
              "if (notebookContainer) {{\n",
              "    x.observe(notebookContainer, {childList: true});\n",
              "}}\n",
              "\n",
              "// Listen for the clearing of the current output cell\n",
              "var outputEl = gd.closest('.output');\n",
              "if (outputEl) {{\n",
              "    x.observe(outputEl, {childList: true});\n",
              "}}\n",
              "\n",
              "                        })                };                            </script>        </div>\n",
              "</body>\n",
              "</html>"
            ]
          },
          "metadata": {}
        }
      ]
    },
    {
      "cell_type": "code",
      "source": [
        "save_model(kmeans, 'kmeans_clustering')\n"
      ],
      "metadata": {
        "colab": {
          "base_uri": "https://localhost:8080/"
        },
        "id": "2k7um64gBH6i",
        "outputId": "6064effe-b639-4a1d-b597-896abae07b15"
      },
      "execution_count": null,
      "outputs": [
        {
          "output_type": "stream",
          "name": "stdout",
          "text": [
            "Transformation Pipeline and Model Successfully Saved\n"
          ]
        },
        {
          "output_type": "execute_result",
          "data": {
            "text/plain": [
              "(Pipeline(memory=FastMemory(location=/tmp/joblib),\n",
              "          steps=[('numerical_imputer',\n",
              "                  TransformerWrapper(exclude=None,\n",
              "                                     include=['Alcohol', 'Malic_Acid', 'Ash',\n",
              "                                              'Ash_Alcanity', 'Magnesium',\n",
              "                                              'Total_Phenols', 'Flavanoids',\n",
              "                                              'Nonflavanoid_Phenols',\n",
              "                                              'Proanthocyanins',\n",
              "                                              'Color_Intensity', 'Hue', 'OD280',\n",
              "                                              'Proline'],\n",
              "                                     transformer=SimpleImputer(add_indicator=False,\n",
              "                                                               copy=True,\n",
              "                                                               fill_va...\n",
              "                  TransformerWrapper(exclude=None, include=[],\n",
              "                                     transformer=SimpleImputer(add_indicator=False,\n",
              "                                                               copy=True,\n",
              "                                                               fill_value=None,\n",
              "                                                               keep_empty_features=False,\n",
              "                                                               missing_values=nan,\n",
              "                                                               strategy='most_frequent',\n",
              "                                                               verbose='deprecated'))),\n",
              "                 ('trained_model',\n",
              "                  KMeans(algorithm='lloyd', copy_x=True, init='k-means++',\n",
              "                         max_iter=300, n_clusters=4, n_init='warn',\n",
              "                         random_state=420, tol=0.0001, verbose=0))],\n",
              "          verbose=False),\n",
              " 'kmeans_clustering.pkl')"
            ]
          },
          "metadata": {},
          "execution_count": 100
        }
      ]
    },
    {
      "cell_type": "markdown",
      "source": [
        "**Task 5: Anamoly Detection**"
      ],
      "metadata": {
        "id": "ARW_WYQjBU2P"
      }
    },
    {
      "cell_type": "code",
      "source": [
        "import pandas as pd\n",
        "from sklearn.model_selection import train_test_split\n",
        "from pycaret.anomaly import *\n",
        "\n",
        "\n",
        "data = pd.read_csv('/content/0-anomaly.csv')\n",
        "train,test = train_test_split(data, test_size=0.25, random_state=42)\n",
        "train.head()\n",
        "\n",
        "s=setup(train, session_id=456)"
      ],
      "metadata": {
        "colab": {
          "base_uri": "https://localhost:8080/",
          "height": 519
        },
        "id": "svNuB-pxBbqc",
        "outputId": "66ebc456-30cf-4c38-d8c7-d8ae8953fa34"
      },
      "execution_count": null,
      "outputs": [
        {
          "output_type": "display_data",
          "data": {
            "text/plain": [
              "<pandas.io.formats.style.Styler at 0x7e879043d9f0>"
            ],
            "text/html": [
              "<style type=\"text/css\">\n",
              "#T_3eb3b_row4_col1 {\n",
              "  background-color: lightgreen;\n",
              "}\n",
              "</style>\n",
              "<table id=\"T_3eb3b\" class=\"dataframe\">\n",
              "  <thead>\n",
              "    <tr>\n",
              "      <th class=\"blank level0\" >&nbsp;</th>\n",
              "      <th id=\"T_3eb3b_level0_col0\" class=\"col_heading level0 col0\" >Description</th>\n",
              "      <th id=\"T_3eb3b_level0_col1\" class=\"col_heading level0 col1\" >Value</th>\n",
              "    </tr>\n",
              "  </thead>\n",
              "  <tbody>\n",
              "    <tr>\n",
              "      <th id=\"T_3eb3b_level0_row0\" class=\"row_heading level0 row0\" >0</th>\n",
              "      <td id=\"T_3eb3b_row0_col0\" class=\"data row0 col0\" >Session id</td>\n",
              "      <td id=\"T_3eb3b_row0_col1\" class=\"data row0 col1\" >456</td>\n",
              "    </tr>\n",
              "    <tr>\n",
              "      <th id=\"T_3eb3b_level0_row1\" class=\"row_heading level0 row1\" >1</th>\n",
              "      <td id=\"T_3eb3b_row1_col0\" class=\"data row1 col0\" >Original data shape</td>\n",
              "      <td id=\"T_3eb3b_row1_col1\" class=\"data row1 col1\" >(861, 1)</td>\n",
              "    </tr>\n",
              "    <tr>\n",
              "      <th id=\"T_3eb3b_level0_row2\" class=\"row_heading level0 row2\" >2</th>\n",
              "      <td id=\"T_3eb3b_row2_col0\" class=\"data row2 col0\" >Transformed data shape</td>\n",
              "      <td id=\"T_3eb3b_row2_col1\" class=\"data row2 col1\" >(861, 861)</td>\n",
              "    </tr>\n",
              "    <tr>\n",
              "      <th id=\"T_3eb3b_level0_row3\" class=\"row_heading level0 row3\" >3</th>\n",
              "      <td id=\"T_3eb3b_row3_col0\" class=\"data row3 col0\" >Categorical features</td>\n",
              "      <td id=\"T_3eb3b_row3_col1\" class=\"data row3 col1\" >1</td>\n",
              "    </tr>\n",
              "    <tr>\n",
              "      <th id=\"T_3eb3b_level0_row4\" class=\"row_heading level0 row4\" >4</th>\n",
              "      <td id=\"T_3eb3b_row4_col0\" class=\"data row4 col0\" >Preprocess</td>\n",
              "      <td id=\"T_3eb3b_row4_col1\" class=\"data row4 col1\" >True</td>\n",
              "    </tr>\n",
              "    <tr>\n",
              "      <th id=\"T_3eb3b_level0_row5\" class=\"row_heading level0 row5\" >5</th>\n",
              "      <td id=\"T_3eb3b_row5_col0\" class=\"data row5 col0\" >Imputation type</td>\n",
              "      <td id=\"T_3eb3b_row5_col1\" class=\"data row5 col1\" >simple</td>\n",
              "    </tr>\n",
              "    <tr>\n",
              "      <th id=\"T_3eb3b_level0_row6\" class=\"row_heading level0 row6\" >6</th>\n",
              "      <td id=\"T_3eb3b_row6_col0\" class=\"data row6 col0\" >Numeric imputation</td>\n",
              "      <td id=\"T_3eb3b_row6_col1\" class=\"data row6 col1\" >mean</td>\n",
              "    </tr>\n",
              "    <tr>\n",
              "      <th id=\"T_3eb3b_level0_row7\" class=\"row_heading level0 row7\" >7</th>\n",
              "      <td id=\"T_3eb3b_row7_col0\" class=\"data row7 col0\" >Categorical imputation</td>\n",
              "      <td id=\"T_3eb3b_row7_col1\" class=\"data row7 col1\" >mode</td>\n",
              "    </tr>\n",
              "    <tr>\n",
              "      <th id=\"T_3eb3b_level0_row8\" class=\"row_heading level0 row8\" >8</th>\n",
              "      <td id=\"T_3eb3b_row8_col0\" class=\"data row8 col0\" >Maximum one-hot encoding</td>\n",
              "      <td id=\"T_3eb3b_row8_col1\" class=\"data row8 col1\" >-1</td>\n",
              "    </tr>\n",
              "    <tr>\n",
              "      <th id=\"T_3eb3b_level0_row9\" class=\"row_heading level0 row9\" >9</th>\n",
              "      <td id=\"T_3eb3b_row9_col0\" class=\"data row9 col0\" >Encoding method</td>\n",
              "      <td id=\"T_3eb3b_row9_col1\" class=\"data row9 col1\" >None</td>\n",
              "    </tr>\n",
              "    <tr>\n",
              "      <th id=\"T_3eb3b_level0_row10\" class=\"row_heading level0 row10\" >10</th>\n",
              "      <td id=\"T_3eb3b_row10_col0\" class=\"data row10 col0\" >CPU Jobs</td>\n",
              "      <td id=\"T_3eb3b_row10_col1\" class=\"data row10 col1\" >-1</td>\n",
              "    </tr>\n",
              "    <tr>\n",
              "      <th id=\"T_3eb3b_level0_row11\" class=\"row_heading level0 row11\" >11</th>\n",
              "      <td id=\"T_3eb3b_row11_col0\" class=\"data row11 col0\" >Use GPU</td>\n",
              "      <td id=\"T_3eb3b_row11_col1\" class=\"data row11 col1\" >False</td>\n",
              "    </tr>\n",
              "    <tr>\n",
              "      <th id=\"T_3eb3b_level0_row12\" class=\"row_heading level0 row12\" >12</th>\n",
              "      <td id=\"T_3eb3b_row12_col0\" class=\"data row12 col0\" >Log Experiment</td>\n",
              "      <td id=\"T_3eb3b_row12_col1\" class=\"data row12 col1\" >False</td>\n",
              "    </tr>\n",
              "    <tr>\n",
              "      <th id=\"T_3eb3b_level0_row13\" class=\"row_heading level0 row13\" >13</th>\n",
              "      <td id=\"T_3eb3b_row13_col0\" class=\"data row13 col0\" >Experiment Name</td>\n",
              "      <td id=\"T_3eb3b_row13_col1\" class=\"data row13 col1\" >anomaly-default-name</td>\n",
              "    </tr>\n",
              "    <tr>\n",
              "      <th id=\"T_3eb3b_level0_row14\" class=\"row_heading level0 row14\" >14</th>\n",
              "      <td id=\"T_3eb3b_row14_col0\" class=\"data row14 col0\" >USI</td>\n",
              "      <td id=\"T_3eb3b_row14_col1\" class=\"data row14 col1\" >c99b</td>\n",
              "    </tr>\n",
              "  </tbody>\n",
              "</table>\n"
            ]
          },
          "metadata": {}
        }
      ]
    },
    {
      "cell_type": "code",
      "source": [
        "from pycaret.anomaly import *\n",
        "iforest=create_model('iforest')\n",
        "results=assign_model(iforest)"
      ],
      "metadata": {
        "colab": {
          "base_uri": "https://localhost:8080/",
          "height": 17,
          "referenced_widgets": [
            "48a572d345b24058bfacc9b28965c4d1",
            "ad4691b1479248d9beca3fcac88bc02b",
            "c07b1ed9bba04876ab74d7357f853f9e",
            "a2637bc25f0e47eab2ff6b8aaf937e5a",
            "dfe2b2ea7b174cc59ee50e23b719ad74",
            "cd0a3dff4a7840a3bbcc8a920850a227",
            "3a68de0e56d54a468c78dc385c6a3088",
            "2dcdb6e6a5f74e5ab1f837f97731fbb2",
            "e92ae8e2a03247099473cc7da46fcd18",
            "f3defc84799a4be78e2d818612668107",
            "2f408f04c7904719988440a981df55cd"
          ]
        },
        "id": "XgZTYIcyDTJS",
        "outputId": "bd6d5812-2a07-4751-efef-11263186cd9a"
      },
      "execution_count": null,
      "outputs": [
        {
          "output_type": "display_data",
          "data": {
            "text/plain": [
              "<IPython.core.display.HTML object>"
            ],
            "text/html": []
          },
          "metadata": {}
        },
        {
          "output_type": "display_data",
          "data": {
            "text/plain": [
              "<IPython.core.display.HTML object>"
            ],
            "text/html": []
          },
          "metadata": {}
        },
        {
          "output_type": "display_data",
          "data": {
            "text/plain": [
              "Processing:   0%|          | 0/3 [00:00<?, ?it/s]"
            ],
            "application/vnd.jupyter.widget-view+json": {
              "version_major": 2,
              "version_minor": 0,
              "model_id": "48a572d345b24058bfacc9b28965c4d1"
            }
          },
          "metadata": {
            "application/vnd.jupyter.widget-view+json": {
              "colab": {
                "custom_widget_manager": {
                  "url": "https://ssl.gstatic.com/colaboratory-static/widgets/colab-cdn-widget-manager/b3e629b1971e1542/manager.min.js"
                }
              }
            }
          }
        },
        {
          "output_type": "display_data",
          "data": {
            "text/plain": [
              "<IPython.core.display.HTML object>"
            ],
            "text/html": []
          },
          "metadata": {}
        }
      ]
    },
    {
      "cell_type": "code",
      "source": [
        "! pip install umap-learn\n",
        "\n",
        "evaluate_model(iforest)"
      ],
      "metadata": {
        "colab": {
          "base_uri": "https://localhost:8080/",
          "height": 658,
          "referenced_widgets": [
            "77c6be0c0cf44eed998689ac386c98fc",
            "486351ef3b6446c1bc54562598e3f899",
            "ab865d789b824c16a3cadf6d430e640c",
            "b49a4225db0c4e32ad9a7ca08179ec87",
            "ab136aa5e51541e8a81dfbbc3501fe31",
            "39c15196b1194731a9d2a355461b5cf6",
            "4e7934c62b8a47f6b9d168aa7f68f414"
          ]
        },
        "id": "NkQr6EH9D1Cp",
        "outputId": "88ee9679-a0ed-4874-c313-792a01464100"
      },
      "execution_count": null,
      "outputs": [
        {
          "output_type": "stream",
          "name": "stdout",
          "text": [
            "Requirement already satisfied: umap-learn in /usr/local/lib/python3.10/dist-packages (0.5.3)\n",
            "Requirement already satisfied: numpy>=1.17 in /usr/local/lib/python3.10/dist-packages (from umap-learn) (1.23.5)\n",
            "Requirement already satisfied: scikit-learn>=0.22 in /usr/local/lib/python3.10/dist-packages (from umap-learn) (1.2.2)\n",
            "Requirement already satisfied: scipy>=1.0 in /usr/local/lib/python3.10/dist-packages (from umap-learn) (1.10.1)\n",
            "Requirement already satisfied: numba>=0.49 in /usr/local/lib/python3.10/dist-packages (from umap-learn) (0.56.4)\n",
            "Requirement already satisfied: pynndescent>=0.5 in /usr/local/lib/python3.10/dist-packages (from umap-learn) (0.5.10)\n",
            "Requirement already satisfied: tqdm in /usr/local/lib/python3.10/dist-packages (from umap-learn) (4.66.1)\n",
            "Requirement already satisfied: llvmlite<0.40,>=0.39.0dev0 in /usr/local/lib/python3.10/dist-packages (from numba>=0.49->umap-learn) (0.39.1)\n",
            "Requirement already satisfied: setuptools in /usr/local/lib/python3.10/dist-packages (from numba>=0.49->umap-learn) (67.7.2)\n",
            "Requirement already satisfied: joblib>=0.11 in /usr/local/lib/python3.10/dist-packages (from pynndescent>=0.5->umap-learn) (1.3.2)\n",
            "Requirement already satisfied: threadpoolctl>=2.0.0 in /usr/local/lib/python3.10/dist-packages (from scikit-learn>=0.22->umap-learn) (3.2.0)\n"
          ]
        },
        {
          "output_type": "display_data",
          "data": {
            "text/plain": [
              "interactive(children=(ToggleButtons(description='Plot Type:', icons=('',), options=(('Pipeline Plot', 'pipelin…"
            ],
            "application/vnd.jupyter.widget-view+json": {
              "version_major": 2,
              "version_minor": 0,
              "model_id": "77c6be0c0cf44eed998689ac386c98fc"
            }
          },
          "metadata": {
            "application/vnd.jupyter.widget-view+json": {
              "colab": {
                "custom_widget_manager": {
                  "url": "https://ssl.gstatic.com/colaboratory-static/widgets/colab-cdn-widget-manager/b3e629b1971e1542/manager.min.js"
                }
              }
            }
          }
        }
      ]
    },
    {
      "cell_type": "code",
      "source": [
        "predictions=predict_model(model=iforest, data=test)"
      ],
      "metadata": {
        "id": "rRFl-p56GELF"
      },
      "execution_count": null,
      "outputs": []
    },
    {
      "cell_type": "code",
      "source": [
        "available_models = models()\n",
        "print(available_models)"
      ],
      "metadata": {
        "colab": {
          "base_uri": "https://localhost:8080/"
        },
        "id": "XMUyjggzGrLi",
        "outputId": "bfc1e5e1-69fb-40d4-e500-010e9edf27f7"
      },
      "execution_count": null,
      "outputs": [
        {
          "output_type": "stream",
          "name": "stdout",
          "text": [
            "                                        Name  \\\n",
            "ID                                             \n",
            "abod            Angle-base Outlier Detection   \n",
            "cluster       Clustering-Based Local Outlier   \n",
            "cof         Connectivity-Based Local Outlier   \n",
            "iforest                     Isolation Forest   \n",
            "histogram  Histogram-based Outlier Detection   \n",
            "knn             K-Nearest Neighbors Detector   \n",
            "lof                     Local Outlier Factor   \n",
            "svm                   One-class SVM detector   \n",
            "pca             Principal Component Analysis   \n",
            "mcd           Minimum Covariance Determinant   \n",
            "sod               Subspace Outlier Detection   \n",
            "sos             Stochastic Outlier Selection   \n",
            "\n",
            "                                                  Reference  \n",
            "ID                                                           \n",
            "abod                                  pyod.models.abod.ABOD  \n",
            "cluster    pycaret.internal.patches.pyod.CBLOFForceToDouble  \n",
            "cof                                     pyod.models.cof.COF  \n",
            "iforest                         pyod.models.iforest.IForest  \n",
            "histogram                             pyod.models.hbos.HBOS  \n",
            "knn                                     pyod.models.knn.KNN  \n",
            "lof                                     pyod.models.lof.LOF  \n",
            "svm                                 pyod.models.ocsvm.OCSVM  \n",
            "pca                                     pyod.models.pca.PCA  \n",
            "mcd                                     pyod.models.mcd.MCD  \n",
            "sod                                     pyod.models.sod.SOD  \n",
            "sos                                     pyod.models.sos.SOS  \n"
          ]
        }
      ]
    },
    {
      "cell_type": "code",
      "source": [
        "from pycaret.anomaly import *\n",
        "df = pd.read_csv('/content/0-anomaly.csv')\n",
        "\n"
      ],
      "metadata": {
        "id": "KNTZZGxrKAQ_"
      },
      "execution_count": null,
      "outputs": []
    },
    {
      "cell_type": "code",
      "source": [
        "anomaly_setup = setup(df, session_id=456 )"
      ],
      "metadata": {
        "colab": {
          "base_uri": "https://localhost:8080/",
          "height": 519
        },
        "id": "6XI82aYoMu8_",
        "outputId": "cf80619e-ff73-4d3e-e767-eb503d75825b"
      },
      "execution_count": null,
      "outputs": [
        {
          "output_type": "display_data",
          "data": {
            "text/plain": [
              "<pandas.io.formats.style.Styler at 0x7e8790329540>"
            ],
            "text/html": [
              "<style type=\"text/css\">\n",
              "#T_e18bd_row4_col1 {\n",
              "  background-color: lightgreen;\n",
              "}\n",
              "</style>\n",
              "<table id=\"T_e18bd\" class=\"dataframe\">\n",
              "  <thead>\n",
              "    <tr>\n",
              "      <th class=\"blank level0\" >&nbsp;</th>\n",
              "      <th id=\"T_e18bd_level0_col0\" class=\"col_heading level0 col0\" >Description</th>\n",
              "      <th id=\"T_e18bd_level0_col1\" class=\"col_heading level0 col1\" >Value</th>\n",
              "    </tr>\n",
              "  </thead>\n",
              "  <tbody>\n",
              "    <tr>\n",
              "      <th id=\"T_e18bd_level0_row0\" class=\"row_heading level0 row0\" >0</th>\n",
              "      <td id=\"T_e18bd_row0_col0\" class=\"data row0 col0\" >Session id</td>\n",
              "      <td id=\"T_e18bd_row0_col1\" class=\"data row0 col1\" >456</td>\n",
              "    </tr>\n",
              "    <tr>\n",
              "      <th id=\"T_e18bd_level0_row1\" class=\"row_heading level0 row1\" >1</th>\n",
              "      <td id=\"T_e18bd_row1_col0\" class=\"data row1 col0\" >Original data shape</td>\n",
              "      <td id=\"T_e18bd_row1_col1\" class=\"data row1 col1\" >(1148, 1)</td>\n",
              "    </tr>\n",
              "    <tr>\n",
              "      <th id=\"T_e18bd_level0_row2\" class=\"row_heading level0 row2\" >2</th>\n",
              "      <td id=\"T_e18bd_row2_col0\" class=\"data row2 col0\" >Transformed data shape</td>\n",
              "      <td id=\"T_e18bd_row2_col1\" class=\"data row2 col1\" >(1148, 1148)</td>\n",
              "    </tr>\n",
              "    <tr>\n",
              "      <th id=\"T_e18bd_level0_row3\" class=\"row_heading level0 row3\" >3</th>\n",
              "      <td id=\"T_e18bd_row3_col0\" class=\"data row3 col0\" >Categorical features</td>\n",
              "      <td id=\"T_e18bd_row3_col1\" class=\"data row3 col1\" >1</td>\n",
              "    </tr>\n",
              "    <tr>\n",
              "      <th id=\"T_e18bd_level0_row4\" class=\"row_heading level0 row4\" >4</th>\n",
              "      <td id=\"T_e18bd_row4_col0\" class=\"data row4 col0\" >Preprocess</td>\n",
              "      <td id=\"T_e18bd_row4_col1\" class=\"data row4 col1\" >True</td>\n",
              "    </tr>\n",
              "    <tr>\n",
              "      <th id=\"T_e18bd_level0_row5\" class=\"row_heading level0 row5\" >5</th>\n",
              "      <td id=\"T_e18bd_row5_col0\" class=\"data row5 col0\" >Imputation type</td>\n",
              "      <td id=\"T_e18bd_row5_col1\" class=\"data row5 col1\" >simple</td>\n",
              "    </tr>\n",
              "    <tr>\n",
              "      <th id=\"T_e18bd_level0_row6\" class=\"row_heading level0 row6\" >6</th>\n",
              "      <td id=\"T_e18bd_row6_col0\" class=\"data row6 col0\" >Numeric imputation</td>\n",
              "      <td id=\"T_e18bd_row6_col1\" class=\"data row6 col1\" >mean</td>\n",
              "    </tr>\n",
              "    <tr>\n",
              "      <th id=\"T_e18bd_level0_row7\" class=\"row_heading level0 row7\" >7</th>\n",
              "      <td id=\"T_e18bd_row7_col0\" class=\"data row7 col0\" >Categorical imputation</td>\n",
              "      <td id=\"T_e18bd_row7_col1\" class=\"data row7 col1\" >mode</td>\n",
              "    </tr>\n",
              "    <tr>\n",
              "      <th id=\"T_e18bd_level0_row8\" class=\"row_heading level0 row8\" >8</th>\n",
              "      <td id=\"T_e18bd_row8_col0\" class=\"data row8 col0\" >Maximum one-hot encoding</td>\n",
              "      <td id=\"T_e18bd_row8_col1\" class=\"data row8 col1\" >-1</td>\n",
              "    </tr>\n",
              "    <tr>\n",
              "      <th id=\"T_e18bd_level0_row9\" class=\"row_heading level0 row9\" >9</th>\n",
              "      <td id=\"T_e18bd_row9_col0\" class=\"data row9 col0\" >Encoding method</td>\n",
              "      <td id=\"T_e18bd_row9_col1\" class=\"data row9 col1\" >None</td>\n",
              "    </tr>\n",
              "    <tr>\n",
              "      <th id=\"T_e18bd_level0_row10\" class=\"row_heading level0 row10\" >10</th>\n",
              "      <td id=\"T_e18bd_row10_col0\" class=\"data row10 col0\" >CPU Jobs</td>\n",
              "      <td id=\"T_e18bd_row10_col1\" class=\"data row10 col1\" >-1</td>\n",
              "    </tr>\n",
              "    <tr>\n",
              "      <th id=\"T_e18bd_level0_row11\" class=\"row_heading level0 row11\" >11</th>\n",
              "      <td id=\"T_e18bd_row11_col0\" class=\"data row11 col0\" >Use GPU</td>\n",
              "      <td id=\"T_e18bd_row11_col1\" class=\"data row11 col1\" >False</td>\n",
              "    </tr>\n",
              "    <tr>\n",
              "      <th id=\"T_e18bd_level0_row12\" class=\"row_heading level0 row12\" >12</th>\n",
              "      <td id=\"T_e18bd_row12_col0\" class=\"data row12 col0\" >Log Experiment</td>\n",
              "      <td id=\"T_e18bd_row12_col1\" class=\"data row12 col1\" >False</td>\n",
              "    </tr>\n",
              "    <tr>\n",
              "      <th id=\"T_e18bd_level0_row13\" class=\"row_heading level0 row13\" >13</th>\n",
              "      <td id=\"T_e18bd_row13_col0\" class=\"data row13 col0\" >Experiment Name</td>\n",
              "      <td id=\"T_e18bd_row13_col1\" class=\"data row13 col1\" >anomaly-default-name</td>\n",
              "    </tr>\n",
              "    <tr>\n",
              "      <th id=\"T_e18bd_level0_row14\" class=\"row_heading level0 row14\" >14</th>\n",
              "      <td id=\"T_e18bd_row14_col0\" class=\"data row14 col0\" >USI</td>\n",
              "      <td id=\"T_e18bd_row14_col1\" class=\"data row14 col1\" >7a5d</td>\n",
              "    </tr>\n",
              "  </tbody>\n",
              "</table>\n"
            ]
          },
          "metadata": {}
        }
      ]
    },
    {
      "cell_type": "code",
      "source": [
        "sos= create_model('sos')"
      ],
      "metadata": {
        "colab": {
          "base_uri": "https://localhost:8080/",
          "height": 17,
          "referenced_widgets": [
            "5f93582c89244c318bfc85fed0fcaeb4",
            "6ca0fd862aaf44d0bf75270f45806248",
            "cfd2dad1aad64089ae82ab8df8101e9e",
            "69a21c8f64f9439e8a6570fd6ab8294a",
            "c20e54e074564148914123a4a3fbd1ad",
            "e131a176041649f28a88f72962b1c4c6",
            "a1f2c816526349538e84444715dde1e3",
            "2299b96aafb348c0a5ac5a82872db836",
            "5cb384a75e8e473496897c032f3a09a5",
            "2258796b3c0a4592a48a9fd1b1bc59a2",
            "228e08a8cfec41de9b832ae8c7b33649"
          ]
        },
        "id": "nTmHJpFuMxFW",
        "outputId": "760e961d-0876-41a6-c3ed-5971e539dd73"
      },
      "execution_count": null,
      "outputs": [
        {
          "output_type": "display_data",
          "data": {
            "text/plain": [
              "<IPython.core.display.HTML object>"
            ],
            "text/html": []
          },
          "metadata": {}
        },
        {
          "output_type": "display_data",
          "data": {
            "text/plain": [
              "<IPython.core.display.HTML object>"
            ],
            "text/html": []
          },
          "metadata": {}
        },
        {
          "output_type": "display_data",
          "data": {
            "text/plain": [
              "Processing:   0%|          | 0/3 [00:00<?, ?it/s]"
            ],
            "application/vnd.jupyter.widget-view+json": {
              "version_major": 2,
              "version_minor": 0,
              "model_id": "5f93582c89244c318bfc85fed0fcaeb4"
            }
          },
          "metadata": {
            "application/vnd.jupyter.widget-view+json": {
              "colab": {
                "custom_widget_manager": {
                  "url": "https://ssl.gstatic.com/colaboratory-static/widgets/colab-cdn-widget-manager/b3e629b1971e1542/manager.min.js"
                }
              }
            }
          }
        },
        {
          "output_type": "display_data",
          "data": {
            "text/plain": [
              "<IPython.core.display.HTML object>"
            ],
            "text/html": []
          },
          "metadata": {}
        }
      ]
    },
    {
      "cell_type": "code",
      "source": [
        "result=assign_model(sos)\n",
        "print(result.head())"
      ],
      "metadata": {
        "colab": {
          "base_uri": "https://localhost:8080/"
        },
        "id": "4j8NkBP1Rg_T",
        "outputId": "1b4b4bef-a357-4195-e467-671e0f6b56a9"
      },
      "execution_count": null,
      "outputs": [
        {
          "output_type": "stream",
          "name": "stdout",
          "text": [
            "  datetime;Accelerometer1RMS;Accelerometer2RMS;Current;Pressure;Temperature;Thermocouple;Voltage;Volume Flow RateRMS;anomaly;changepoint  \\\n",
            "0  2020-03-09 10:14:33;0.026587799999999998;0.040...                                                                                       \n",
            "1  2020-03-09 10:14:34;0.0261697;0.04045249999999...                                                                                       \n",
            "2  2020-03-09 10:14:35;0.026199;0.0394189;1.54006...                                                                                       \n",
            "3  2020-03-09 10:14:36;0.026026599999999997;0.039...                                                                                       \n",
            "4  2020-03-09 10:14:37;0.026289999999999997;0.040...                                                                                       \n",
            "\n",
            "   Anomaly  Anomaly_Score  \n",
            "0        0       0.367719  \n",
            "1        0       0.367719  \n",
            "2        0       0.367719  \n",
            "3        0       0.367719  \n",
            "4        0       0.367719  \n"
          ]
        }
      ]
    },
    {
      "cell_type": "code",
      "source": [
        "evaluate_model(sos)"
      ],
      "metadata": {
        "colab": {
          "base_uri": "https://localhost:8080/",
          "height": 890,
          "referenced_widgets": [
            "819968b6a0e14a10b12013d127485722",
            "13083cbb3af642419003c02656422355",
            "ca8950976c194827aab628ff3fe041eb",
            "9f11c3a7ef294375bb2a0a2981bdbd1b",
            "e147eb5e8afd4404917bf95af4a87d03",
            "8009af95d327442792178fd3535587c5",
            "25652fd60fca4d3f829848cd17e2f9ed"
          ]
        },
        "id": "1lwxptmlSeg0",
        "outputId": "8d5e24b4-84f3-4ebe-afe4-385911215d64"
      },
      "execution_count": null,
      "outputs": [
        {
          "output_type": "display_data",
          "data": {
            "text/plain": [
              "interactive(children=(ToggleButtons(description='Plot Type:', icons=('',), options=(('Pipeline Plot', 'pipelin…"
            ],
            "application/vnd.jupyter.widget-view+json": {
              "version_major": 2,
              "version_minor": 0,
              "model_id": "819968b6a0e14a10b12013d127485722"
            }
          },
          "metadata": {
            "application/vnd.jupyter.widget-view+json": {
              "colab": {
                "custom_widget_manager": {
                  "url": "https://ssl.gstatic.com/colaboratory-static/widgets/colab-cdn-widget-manager/b3e629b1971e1542/manager.min.js"
                }
              }
            }
          }
        }
      ]
    },
    {
      "cell_type": "code",
      "source": [
        "save_model(sos, 'sos_anomaly_model')"
      ],
      "metadata": {
        "colab": {
          "base_uri": "https://localhost:8080/"
        },
        "id": "ygD-vCeES19P",
        "outputId": "d5812237-c14c-4b23-8c17-259738d31c1a"
      },
      "execution_count": null,
      "outputs": [
        {
          "output_type": "stream",
          "name": "stdout",
          "text": [
            "Transformation Pipeline and Model Successfully Saved\n"
          ]
        },
        {
          "output_type": "execute_result",
          "data": {
            "text/plain": [
              "(Pipeline(memory=FastMemory(location=/tmp/joblib),\n",
              "          steps=[('numerical_imputer',\n",
              "                  TransformerWrapper(exclude=None, include=[],\n",
              "                                     transformer=SimpleImputer(add_indicator=False,\n",
              "                                                               copy=True,\n",
              "                                                               fill_value=None,\n",
              "                                                               keep_empty_features=False,\n",
              "                                                               missing_values=nan,\n",
              "                                                               strategy='mean',\n",
              "                                                               verbose='deprecated'))),\n",
              "                 ('categorical_imputer',\n",
              "                  TransformerWrapper(exclude=None,\n",
              "                                     include=['datetime...\n",
              "                                     transformer=OneHotEncoder(cols=['datetime;Accelerometer1RMS;Accelerometer2RMS;Current;Pressure;Temperature;Thermocouple;Voltage;Volume '\n",
              "                                                                     'Flow '\n",
              "                                                                     'RateRMS;anomaly;changepoint'],\n",
              "                                                               drop_invariant=False,\n",
              "                                                               handle_missing='return_nan',\n",
              "                                                               handle_unknown='value',\n",
              "                                                               return_df=True,\n",
              "                                                               use_cat_names=True,\n",
              "                                                               verbose=0))),\n",
              "                 ('trained_model',\n",
              "                  SOS(contamination=0.05, eps=1e-05, metric='euclidean', perplexity=4.5))],\n",
              "          verbose=False),\n",
              " 'sos_anomaly_model.pkl')"
            ]
          },
          "metadata": {},
          "execution_count": 151
        }
      ]
    },
    {
      "cell_type": "markdown",
      "source": [
        "**Association Rules Mining**"
      ],
      "metadata": {
        "id": "4ZJVBTdKTPwf"
      }
    },
    {
      "cell_type": "code",
      "source": [
        "! pip install mlxtend\n",
        "\n",
        "\n",
        "\n"
      ],
      "metadata": {
        "colab": {
          "base_uri": "https://localhost:8080/"
        },
        "id": "SfYQp2HcWRXT",
        "outputId": "c59caca8-edc5-41f8-fe46-8349408ead2b"
      },
      "execution_count": null,
      "outputs": [
        {
          "output_type": "stream",
          "name": "stderr",
          "text": [
            "/usr/local/lib/python3.10/dist-packages/ipykernel/ipkernel.py:283: DeprecationWarning: `should_run_async` will not call `transform_cell` automatically in the future. Please pass the result to `transformed_cell` argument and any exception that happen during thetransform in `preprocessing_exc_tuple` in IPython 7.17 and above.\n",
            "  and should_run_async(code)\n"
          ]
        },
        {
          "output_type": "stream",
          "name": "stdout",
          "text": [
            "Requirement already satisfied: mlxtend in /usr/local/lib/python3.10/dist-packages (0.22.0)\n",
            "Requirement already satisfied: scipy>=1.2.1 in /usr/local/lib/python3.10/dist-packages (from mlxtend) (1.10.1)\n",
            "Requirement already satisfied: numpy>=1.16.2 in /usr/local/lib/python3.10/dist-packages (from mlxtend) (1.23.5)\n",
            "Requirement already satisfied: pandas>=0.24.2 in /usr/local/lib/python3.10/dist-packages (from mlxtend) (1.5.3)\n",
            "Requirement already satisfied: scikit-learn>=1.0.2 in /usr/local/lib/python3.10/dist-packages (from mlxtend) (1.2.2)\n",
            "Requirement already satisfied: matplotlib>=3.0.0 in /usr/local/lib/python3.10/dist-packages (from mlxtend) (3.7.1)\n",
            "Requirement already satisfied: joblib>=0.13.2 in /usr/local/lib/python3.10/dist-packages (from mlxtend) (1.3.2)\n",
            "Requirement already satisfied: setuptools in /usr/local/lib/python3.10/dist-packages (from mlxtend) (67.7.2)\n",
            "Requirement already satisfied: contourpy>=1.0.1 in /usr/local/lib/python3.10/dist-packages (from matplotlib>=3.0.0->mlxtend) (1.1.0)\n",
            "Requirement already satisfied: cycler>=0.10 in /usr/local/lib/python3.10/dist-packages (from matplotlib>=3.0.0->mlxtend) (0.11.0)\n",
            "Requirement already satisfied: fonttools>=4.22.0 in /usr/local/lib/python3.10/dist-packages (from matplotlib>=3.0.0->mlxtend) (4.42.1)\n",
            "Requirement already satisfied: kiwisolver>=1.0.1 in /usr/local/lib/python3.10/dist-packages (from matplotlib>=3.0.0->mlxtend) (1.4.5)\n",
            "Requirement already satisfied: packaging>=20.0 in /usr/local/lib/python3.10/dist-packages (from matplotlib>=3.0.0->mlxtend) (23.1)\n",
            "Requirement already satisfied: pillow>=6.2.0 in /usr/local/lib/python3.10/dist-packages (from matplotlib>=3.0.0->mlxtend) (9.4.0)\n",
            "Requirement already satisfied: pyparsing>=2.3.1 in /usr/local/lib/python3.10/dist-packages (from matplotlib>=3.0.0->mlxtend) (3.1.1)\n",
            "Requirement already satisfied: python-dateutil>=2.7 in /usr/local/lib/python3.10/dist-packages (from matplotlib>=3.0.0->mlxtend) (2.8.2)\n",
            "Requirement already satisfied: pytz>=2020.1 in /usr/local/lib/python3.10/dist-packages (from pandas>=0.24.2->mlxtend) (2023.3.post1)\n",
            "Requirement already satisfied: threadpoolctl>=2.0.0 in /usr/local/lib/python3.10/dist-packages (from scikit-learn>=1.0.2->mlxtend) (3.2.0)\n",
            "Requirement already satisfied: six>=1.5 in /usr/local/lib/python3.10/dist-packages (from python-dateutil>=2.7->matplotlib>=3.0.0->mlxtend) (1.16.0)\n"
          ]
        }
      ]
    },
    {
      "cell_type": "code",
      "source": [
        "! pip install pycaret==3.0.0.rc1"
      ],
      "metadata": {
        "colab": {
          "base_uri": "https://localhost:8080/",
          "height": 1000
        },
        "id": "JyFlqGjlPExA",
        "outputId": "999847af-df9c-4fc4-c69c-205b863b6a8a"
      },
      "execution_count": null,
      "outputs": [
        {
          "output_type": "stream",
          "name": "stdout",
          "text": [
            "Collecting pycaret==3.0.0.rc1\n",
            "  Downloading pycaret-3.0.0rc1-py3-none-any.whl (538 kB)\n",
            "\u001b[2K     \u001b[90m━━━━━━━━━━━━━━━━━━━━━━━━━━━━━━━━━━━━━━━\u001b[0m \u001b[32m538.1/538.1 kB\u001b[0m \u001b[31m5.0 MB/s\u001b[0m eta \u001b[36m0:00:00\u001b[0m\n",
            "\u001b[?25hCollecting category-encoders>=2.4.0 (from pycaret==3.0.0.rc1)\n",
            "  Downloading category_encoders-2.6.2-py2.py3-none-any.whl (81 kB)\n",
            "\u001b[2K     \u001b[90m━━━━━━━━━━━━━━━━━━━━━━━━━━━━━━━━━━━━━━━━\u001b[0m \u001b[32m81.8/81.8 kB\u001b[0m \u001b[31m6.1 MB/s\u001b[0m eta \u001b[36m0:00:00\u001b[0m\n",
            "\u001b[?25hRequirement already satisfied: imbalanced-learn>=0.8.1 in /usr/local/lib/python3.10/dist-packages (from pycaret==3.0.0.rc1) (0.10.1)\n",
            "Requirement already satisfied: ipython>=5.5.0 in /usr/local/lib/python3.10/dist-packages (from pycaret==3.0.0.rc1) (7.34.0)\n",
            "Requirement already satisfied: ipywidgets>=7.6.5 in /usr/local/lib/python3.10/dist-packages (from pycaret==3.0.0.rc1) (7.7.1)\n",
            "Requirement already satisfied: jinja2>=1.2 in /usr/local/lib/python3.10/dist-packages (from pycaret==3.0.0.rc1) (3.1.2)\n",
            "Requirement already satisfied: joblib>=1.1.0 in /usr/local/lib/python3.10/dist-packages (from pycaret==3.0.0.rc1) (1.3.2)\n",
            "Collecting kaleido>=0.2.1 (from pycaret==3.0.0.rc1)\n",
            "  Downloading kaleido-0.2.1-py2.py3-none-manylinux1_x86_64.whl (79.9 MB)\n",
            "\u001b[2K     \u001b[90m━━━━━━━━━━━━━━━━━━━━━━━━━━━━━━━━━━━━━━━━\u001b[0m \u001b[32m79.9/79.9 MB\u001b[0m \u001b[31m9.4 MB/s\u001b[0m eta \u001b[36m0:00:00\u001b[0m\n",
            "\u001b[?25hRequirement already satisfied: lightgbm>=3.0.0 in /usr/local/lib/python3.10/dist-packages (from pycaret==3.0.0.rc1) (4.0.0)\n",
            "Requirement already satisfied: matplotlib>=3.3.0 in /usr/local/lib/python3.10/dist-packages (from pycaret==3.0.0.rc1) (3.7.1)\n",
            "Collecting numba~=0.55.0 (from pycaret==3.0.0.rc1)\n",
            "  Downloading numba-0.55.2-cp310-cp310-manylinux2014_x86_64.manylinux_2_17_x86_64.whl (3.4 MB)\n",
            "\u001b[2K     \u001b[90m━━━━━━━━━━━━━━━━━━━━━━━━━━━━━━━━━━━━━━━━\u001b[0m \u001b[32m3.4/3.4 MB\u001b[0m \u001b[31m69.1 MB/s\u001b[0m eta \u001b[36m0:00:00\u001b[0m\n",
            "\u001b[?25hRequirement already satisfied: numpy~=1.21 in /usr/local/lib/python3.10/dist-packages (from pycaret==3.0.0.rc1) (1.23.5)\n",
            "Collecting pandas<1.5.0,>=1.3.0 (from pycaret==3.0.0.rc1)\n",
            "  Downloading pandas-1.4.4-cp310-cp310-manylinux_2_17_x86_64.manylinux2014_x86_64.whl (11.6 MB)\n",
            "\u001b[2K     \u001b[90m━━━━━━━━━━━━━━━━━━━━━━━━━━━━━━━━━━━━━━━━\u001b[0m \u001b[32m11.6/11.6 MB\u001b[0m \u001b[31m67.1 MB/s\u001b[0m eta \u001b[36m0:00:00\u001b[0m\n",
            "\u001b[?25hRequirement already satisfied: plotly>=5.0.0 in /usr/local/lib/python3.10/dist-packages (from pycaret==3.0.0.rc1) (5.15.0)\n",
            "Collecting pmdarima>=1.8.0 (from pycaret==3.0.0.rc1)\n",
            "  Downloading pmdarima-2.0.3-cp310-cp310-manylinux_2_17_x86_64.manylinux2014_x86_64.manylinux_2_28_x86_64.whl (1.8 MB)\n",
            "\u001b[2K     \u001b[90m━━━━━━━━━━━━━━━━━━━━━━━━━━━━━━━━━━━━━━━━\u001b[0m \u001b[32m1.8/1.8 MB\u001b[0m \u001b[31m66.7 MB/s\u001b[0m eta \u001b[36m0:00:00\u001b[0m\n",
            "\u001b[?25hRequirement already satisfied: psutil>=5.9.0 in /usr/local/lib/python3.10/dist-packages (from pycaret==3.0.0.rc1) (5.9.5)\n",
            "Collecting pyod>=0.9.8 (from pycaret==3.0.0.rc1)\n",
            "  Downloading pyod-1.1.0.tar.gz (153 kB)\n",
            "\u001b[2K     \u001b[90m━━━━━━━━━━━━━━━━━━━━━━━━━━━━━━━━━━━━━━\u001b[0m \u001b[32m153.4/153.4 kB\u001b[0m \u001b[31m11.4 MB/s\u001b[0m eta \u001b[36m0:00:00\u001b[0m\n",
            "\u001b[?25h  Preparing metadata (setup.py) ... \u001b[?25l\u001b[?25hdone\n",
            "Requirement already satisfied: requests>=2.27.1 in /usr/local/lib/python3.10/dist-packages (from pycaret==3.0.0.rc1) (2.31.0)\n",
            "Collecting schemdraw>=0.14 (from pycaret==3.0.0.rc1)\n",
            "  Downloading schemdraw-0.17-py3-none-any.whl (172 kB)\n",
            "\u001b[2K     \u001b[90m━━━━━━━━━━━━━━━━━━━━━━━━━━━━━━━━━━━━━━\u001b[0m \u001b[32m172.6/172.6 kB\u001b[0m \u001b[31m14.9 MB/s\u001b[0m eta \u001b[36m0:00:00\u001b[0m\n",
            "\u001b[?25hRequirement already satisfied: scikit-learn>=1.0 in /usr/local/lib/python3.10/dist-packages (from pycaret==3.0.0.rc1) (1.2.2)\n",
            "Collecting scikit-plot>=0.3.7 (from pycaret==3.0.0.rc1)\n",
            "  Downloading scikit_plot-0.3.7-py3-none-any.whl (33 kB)\n",
            "Collecting scipy<1.9.0 (from pycaret==3.0.0.rc1)\n",
            "  Downloading scipy-1.8.1-cp310-cp310-manylinux_2_17_x86_64.manylinux2014_x86_64.whl (42.2 MB)\n",
            "\u001b[2K     \u001b[90m━━━━━━━━━━━━━━━━━━━━━━━━━━━━━━━━━━━━━━━━\u001b[0m \u001b[32m42.2/42.2 MB\u001b[0m \u001b[31m11.3 MB/s\u001b[0m eta \u001b[36m0:00:00\u001b[0m\n",
            "\u001b[?25hCollecting sktime>=0.11.4 (from pycaret==3.0.0.rc1)\n",
            "  Downloading sktime-0.22.0-py3-none-any.whl (17.5 MB)\n",
            "\u001b[2K     \u001b[90m━━━━━━━━━━━━━━━━━━━━━━━━━━━━━━━━━━━━━━━━\u001b[0m \u001b[32m17.5/17.5 MB\u001b[0m \u001b[31m50.9 MB/s\u001b[0m eta \u001b[36m0:00:00\u001b[0m\n",
            "\u001b[?25hRequirement already satisfied: statsmodels>=0.12.1 in /usr/local/lib/python3.10/dist-packages (from pycaret==3.0.0.rc1) (0.14.0)\n",
            "Collecting tbats>=1.1.0 (from pycaret==3.0.0.rc1)\n",
            "  Downloading tbats-1.1.3-py3-none-any.whl (44 kB)\n",
            "\u001b[2K     \u001b[90m━━━━━━━━━━━━━━━━━━━━━━━━━━━━━━━━━━━━━━━━\u001b[0m \u001b[32m44.0/44.0 kB\u001b[0m \u001b[31m4.1 MB/s\u001b[0m eta \u001b[36m0:00:00\u001b[0m\n",
            "\u001b[?25hRequirement already satisfied: tqdm in /usr/local/lib/python3.10/dist-packages (from pycaret==3.0.0.rc1) (4.66.1)\n",
            "Requirement already satisfied: yellowbrick>=1.4 in /usr/local/lib/python3.10/dist-packages (from pycaret==3.0.0.rc1) (1.5)\n",
            "Requirement already satisfied: patsy>=0.5.1 in /usr/local/lib/python3.10/dist-packages (from category-encoders>=2.4.0->pycaret==3.0.0.rc1) (0.5.3)\n",
            "Requirement already satisfied: threadpoolctl>=2.0.0 in /usr/local/lib/python3.10/dist-packages (from imbalanced-learn>=0.8.1->pycaret==3.0.0.rc1) (3.2.0)\n",
            "Requirement already satisfied: setuptools>=18.5 in /usr/local/lib/python3.10/dist-packages (from ipython>=5.5.0->pycaret==3.0.0.rc1) (67.7.2)\n",
            "Collecting jedi>=0.16 (from ipython>=5.5.0->pycaret==3.0.0.rc1)\n",
            "  Downloading jedi-0.19.0-py2.py3-none-any.whl (1.6 MB)\n",
            "\u001b[2K     \u001b[90m━━━━━━━━━━━━━━━━━━━━━━━━━━━━━━━━━━━━━━━━\u001b[0m \u001b[32m1.6/1.6 MB\u001b[0m \u001b[31m66.5 MB/s\u001b[0m eta \u001b[36m0:00:00\u001b[0m\n",
            "\u001b[?25hRequirement already satisfied: decorator in /usr/local/lib/python3.10/dist-packages (from ipython>=5.5.0->pycaret==3.0.0.rc1) (4.4.2)\n",
            "Requirement already satisfied: pickleshare in /usr/local/lib/python3.10/dist-packages (from ipython>=5.5.0->pycaret==3.0.0.rc1) (0.7.5)\n",
            "Requirement already satisfied: traitlets>=4.2 in /usr/local/lib/python3.10/dist-packages (from ipython>=5.5.0->pycaret==3.0.0.rc1) (5.7.1)\n",
            "Requirement already satisfied: prompt-toolkit!=3.0.0,!=3.0.1,<3.1.0,>=2.0.0 in /usr/local/lib/python3.10/dist-packages (from ipython>=5.5.0->pycaret==3.0.0.rc1) (3.0.39)\n",
            "Requirement already satisfied: pygments in /usr/local/lib/python3.10/dist-packages (from ipython>=5.5.0->pycaret==3.0.0.rc1) (2.16.1)\n",
            "Requirement already satisfied: backcall in /usr/local/lib/python3.10/dist-packages (from ipython>=5.5.0->pycaret==3.0.0.rc1) (0.2.0)\n",
            "Requirement already satisfied: matplotlib-inline in /usr/local/lib/python3.10/dist-packages (from ipython>=5.5.0->pycaret==3.0.0.rc1) (0.1.6)\n",
            "Requirement already satisfied: pexpect>4.3 in /usr/local/lib/python3.10/dist-packages (from ipython>=5.5.0->pycaret==3.0.0.rc1) (4.8.0)\n",
            "Requirement already satisfied: ipykernel>=4.5.1 in /usr/local/lib/python3.10/dist-packages (from ipywidgets>=7.6.5->pycaret==3.0.0.rc1) (5.5.6)\n",
            "Requirement already satisfied: ipython-genutils~=0.2.0 in /usr/local/lib/python3.10/dist-packages (from ipywidgets>=7.6.5->pycaret==3.0.0.rc1) (0.2.0)\n",
            "Requirement already satisfied: widgetsnbextension~=3.6.0 in /usr/local/lib/python3.10/dist-packages (from ipywidgets>=7.6.5->pycaret==3.0.0.rc1) (3.6.5)\n",
            "Requirement already satisfied: jupyterlab-widgets>=1.0.0 in /usr/local/lib/python3.10/dist-packages (from ipywidgets>=7.6.5->pycaret==3.0.0.rc1) (3.0.8)\n",
            "Requirement already satisfied: MarkupSafe>=2.0 in /usr/local/lib/python3.10/dist-packages (from jinja2>=1.2->pycaret==3.0.0.rc1) (2.1.3)\n",
            "Requirement already satisfied: contourpy>=1.0.1 in /usr/local/lib/python3.10/dist-packages (from matplotlib>=3.3.0->pycaret==3.0.0.rc1) (1.1.0)\n",
            "Requirement already satisfied: cycler>=0.10 in /usr/local/lib/python3.10/dist-packages (from matplotlib>=3.3.0->pycaret==3.0.0.rc1) (0.11.0)\n",
            "Requirement already satisfied: fonttools>=4.22.0 in /usr/local/lib/python3.10/dist-packages (from matplotlib>=3.3.0->pycaret==3.0.0.rc1) (4.42.1)\n",
            "Requirement already satisfied: kiwisolver>=1.0.1 in /usr/local/lib/python3.10/dist-packages (from matplotlib>=3.3.0->pycaret==3.0.0.rc1) (1.4.5)\n",
            "Requirement already satisfied: packaging>=20.0 in /usr/local/lib/python3.10/dist-packages (from matplotlib>=3.3.0->pycaret==3.0.0.rc1) (23.1)\n",
            "Requirement already satisfied: pillow>=6.2.0 in /usr/local/lib/python3.10/dist-packages (from matplotlib>=3.3.0->pycaret==3.0.0.rc1) (9.4.0)\n",
            "Requirement already satisfied: pyparsing>=2.3.1 in /usr/local/lib/python3.10/dist-packages (from matplotlib>=3.3.0->pycaret==3.0.0.rc1) (3.1.1)\n",
            "Requirement already satisfied: python-dateutil>=2.7 in /usr/local/lib/python3.10/dist-packages (from matplotlib>=3.3.0->pycaret==3.0.0.rc1) (2.8.2)\n",
            "Collecting llvmlite<0.39,>=0.38.0rc1 (from numba~=0.55.0->pycaret==3.0.0.rc1)\n",
            "  Downloading llvmlite-0.38.1-cp310-cp310-manylinux_2_17_x86_64.manylinux2014_x86_64.whl (34.5 MB)\n",
            "\u001b[2K     \u001b[90m━━━━━━━━━━━━━━━━━━━━━━━━━━━━━━━━━━━━━━━━\u001b[0m \u001b[32m34.5/34.5 MB\u001b[0m \u001b[31m14.1 MB/s\u001b[0m eta \u001b[36m0:00:00\u001b[0m\n",
            "\u001b[?25hCollecting numpy~=1.21 (from pycaret==3.0.0.rc1)\n",
            "  Downloading numpy-1.22.4-cp310-cp310-manylinux_2_17_x86_64.manylinux2014_x86_64.whl (16.8 MB)\n",
            "\u001b[2K     \u001b[90m━━━━━━━━━━━━━━━━━━━━━━━━━━━━━━━━━━━━━━━━\u001b[0m \u001b[32m16.8/16.8 MB\u001b[0m \u001b[31m69.8 MB/s\u001b[0m eta \u001b[36m0:00:00\u001b[0m\n",
            "\u001b[?25hRequirement already satisfied: pytz>=2020.1 in /usr/local/lib/python3.10/dist-packages (from pandas<1.5.0,>=1.3.0->pycaret==3.0.0.rc1) (2023.3.post1)\n",
            "Requirement already satisfied: tenacity>=6.2.0 in /usr/local/lib/python3.10/dist-packages (from plotly>=5.0.0->pycaret==3.0.0.rc1) (8.2.3)\n",
            "Requirement already satisfied: Cython!=0.29.18,!=0.29.31,>=0.29 in /usr/local/lib/python3.10/dist-packages (from pmdarima>=1.8.0->pycaret==3.0.0.rc1) (0.29.36)\n",
            "Requirement already satisfied: urllib3 in /usr/local/lib/python3.10/dist-packages (from pmdarima>=1.8.0->pycaret==3.0.0.rc1) (2.0.4)\n",
            "Requirement already satisfied: six in /usr/local/lib/python3.10/dist-packages (from pyod>=0.9.8->pycaret==3.0.0.rc1) (1.16.0)\n",
            "Requirement already satisfied: charset-normalizer<4,>=2 in /usr/local/lib/python3.10/dist-packages (from requests>=2.27.1->pycaret==3.0.0.rc1) (3.2.0)\n",
            "Requirement already satisfied: idna<4,>=2.5 in /usr/local/lib/python3.10/dist-packages (from requests>=2.27.1->pycaret==3.0.0.rc1) (3.4)\n",
            "Requirement already satisfied: certifi>=2017.4.17 in /usr/local/lib/python3.10/dist-packages (from requests>=2.27.1->pycaret==3.0.0.rc1) (2023.7.22)\n",
            "Collecting scikit-base<0.6.0 (from sktime>=0.11.4->pycaret==3.0.0.rc1)\n",
            "  Downloading scikit_base-0.5.1-py3-none-any.whl (118 kB)\n",
            "\u001b[2K     \u001b[90m━━━━━━━━━━━━━━━━━━━━━━━━━━━━━━━━━━━━━━━\u001b[0m \u001b[32m118.7/118.7 kB\u001b[0m \u001b[31m9.9 MB/s\u001b[0m eta \u001b[36m0:00:00\u001b[0m\n",
            "\u001b[?25hRequirement already satisfied: jupyter-client in /usr/local/lib/python3.10/dist-packages (from ipykernel>=4.5.1->ipywidgets>=7.6.5->pycaret==3.0.0.rc1) (6.1.12)\n",
            "Requirement already satisfied: tornado>=4.2 in /usr/local/lib/python3.10/dist-packages (from ipykernel>=4.5.1->ipywidgets>=7.6.5->pycaret==3.0.0.rc1) (6.3.2)\n",
            "Requirement already satisfied: parso<0.9.0,>=0.8.3 in /usr/local/lib/python3.10/dist-packages (from jedi>=0.16->ipython>=5.5.0->pycaret==3.0.0.rc1) (0.8.3)\n",
            "Requirement already satisfied: ptyprocess>=0.5 in /usr/local/lib/python3.10/dist-packages (from pexpect>4.3->ipython>=5.5.0->pycaret==3.0.0.rc1) (0.7.0)\n",
            "Requirement already satisfied: wcwidth in /usr/local/lib/python3.10/dist-packages (from prompt-toolkit!=3.0.0,!=3.0.1,<3.1.0,>=2.0.0->ipython>=5.5.0->pycaret==3.0.0.rc1) (0.2.6)\n",
            "Requirement already satisfied: notebook>=4.4.1 in /usr/local/lib/python3.10/dist-packages (from widgetsnbextension~=3.6.0->ipywidgets>=7.6.5->pycaret==3.0.0.rc1) (6.5.5)\n",
            "Requirement already satisfied: pyzmq<25,>=17 in /usr/local/lib/python3.10/dist-packages (from notebook>=4.4.1->widgetsnbextension~=3.6.0->ipywidgets>=7.6.5->pycaret==3.0.0.rc1) (23.2.1)\n",
            "Requirement already satisfied: argon2-cffi in /usr/local/lib/python3.10/dist-packages (from notebook>=4.4.1->widgetsnbextension~=3.6.0->ipywidgets>=7.6.5->pycaret==3.0.0.rc1) (23.1.0)\n",
            "Requirement already satisfied: jupyter-core>=4.6.1 in /usr/local/lib/python3.10/dist-packages (from notebook>=4.4.1->widgetsnbextension~=3.6.0->ipywidgets>=7.6.5->pycaret==3.0.0.rc1) (5.3.1)\n",
            "Requirement already satisfied: nbformat in /usr/local/lib/python3.10/dist-packages (from notebook>=4.4.1->widgetsnbextension~=3.6.0->ipywidgets>=7.6.5->pycaret==3.0.0.rc1) (5.9.2)\n",
            "Requirement already satisfied: nbconvert>=5 in /usr/local/lib/python3.10/dist-packages (from notebook>=4.4.1->widgetsnbextension~=3.6.0->ipywidgets>=7.6.5->pycaret==3.0.0.rc1) (6.5.4)\n",
            "Requirement already satisfied: nest-asyncio>=1.5 in /usr/local/lib/python3.10/dist-packages (from notebook>=4.4.1->widgetsnbextension~=3.6.0->ipywidgets>=7.6.5->pycaret==3.0.0.rc1) (1.5.7)\n",
            "Requirement already satisfied: Send2Trash>=1.8.0 in /usr/local/lib/python3.10/dist-packages (from notebook>=4.4.1->widgetsnbextension~=3.6.0->ipywidgets>=7.6.5->pycaret==3.0.0.rc1) (1.8.2)\n",
            "Requirement already satisfied: terminado>=0.8.3 in /usr/local/lib/python3.10/dist-packages (from notebook>=4.4.1->widgetsnbextension~=3.6.0->ipywidgets>=7.6.5->pycaret==3.0.0.rc1) (0.17.1)\n",
            "Requirement already satisfied: prometheus-client in /usr/local/lib/python3.10/dist-packages (from notebook>=4.4.1->widgetsnbextension~=3.6.0->ipywidgets>=7.6.5->pycaret==3.0.0.rc1) (0.17.1)\n",
            "Requirement already satisfied: nbclassic>=0.4.7 in /usr/local/lib/python3.10/dist-packages (from notebook>=4.4.1->widgetsnbextension~=3.6.0->ipywidgets>=7.6.5->pycaret==3.0.0.rc1) (1.0.0)\n",
            "Requirement already satisfied: platformdirs>=2.5 in /usr/local/lib/python3.10/dist-packages (from jupyter-core>=4.6.1->notebook>=4.4.1->widgetsnbextension~=3.6.0->ipywidgets>=7.6.5->pycaret==3.0.0.rc1) (3.10.0)\n",
            "Requirement already satisfied: jupyter-server>=1.8 in /usr/local/lib/python3.10/dist-packages (from nbclassic>=0.4.7->notebook>=4.4.1->widgetsnbextension~=3.6.0->ipywidgets>=7.6.5->pycaret==3.0.0.rc1) (1.24.0)\n",
            "Requirement already satisfied: notebook-shim>=0.2.3 in /usr/local/lib/python3.10/dist-packages (from nbclassic>=0.4.7->notebook>=4.4.1->widgetsnbextension~=3.6.0->ipywidgets>=7.6.5->pycaret==3.0.0.rc1) (0.2.3)\n",
            "Requirement already satisfied: lxml in /usr/local/lib/python3.10/dist-packages (from nbconvert>=5->notebook>=4.4.1->widgetsnbextension~=3.6.0->ipywidgets>=7.6.5->pycaret==3.0.0.rc1) (4.9.3)\n",
            "Requirement already satisfied: beautifulsoup4 in /usr/local/lib/python3.10/dist-packages (from nbconvert>=5->notebook>=4.4.1->widgetsnbextension~=3.6.0->ipywidgets>=7.6.5->pycaret==3.0.0.rc1) (4.11.2)\n",
            "Requirement already satisfied: bleach in /usr/local/lib/python3.10/dist-packages (from nbconvert>=5->notebook>=4.4.1->widgetsnbextension~=3.6.0->ipywidgets>=7.6.5->pycaret==3.0.0.rc1) (6.0.0)\n",
            "Requirement already satisfied: defusedxml in /usr/local/lib/python3.10/dist-packages (from nbconvert>=5->notebook>=4.4.1->widgetsnbextension~=3.6.0->ipywidgets>=7.6.5->pycaret==3.0.0.rc1) (0.7.1)\n",
            "Requirement already satisfied: entrypoints>=0.2.2 in /usr/local/lib/python3.10/dist-packages (from nbconvert>=5->notebook>=4.4.1->widgetsnbextension~=3.6.0->ipywidgets>=7.6.5->pycaret==3.0.0.rc1) (0.4)\n",
            "Requirement already satisfied: jupyterlab-pygments in /usr/local/lib/python3.10/dist-packages (from nbconvert>=5->notebook>=4.4.1->widgetsnbextension~=3.6.0->ipywidgets>=7.6.5->pycaret==3.0.0.rc1) (0.2.2)\n",
            "Requirement already satisfied: mistune<2,>=0.8.1 in /usr/local/lib/python3.10/dist-packages (from nbconvert>=5->notebook>=4.4.1->widgetsnbextension~=3.6.0->ipywidgets>=7.6.5->pycaret==3.0.0.rc1) (0.8.4)\n",
            "Requirement already satisfied: nbclient>=0.5.0 in /usr/local/lib/python3.10/dist-packages (from nbconvert>=5->notebook>=4.4.1->widgetsnbextension~=3.6.0->ipywidgets>=7.6.5->pycaret==3.0.0.rc1) (0.8.0)\n",
            "Requirement already satisfied: pandocfilters>=1.4.1 in /usr/local/lib/python3.10/dist-packages (from nbconvert>=5->notebook>=4.4.1->widgetsnbextension~=3.6.0->ipywidgets>=7.6.5->pycaret==3.0.0.rc1) (1.5.0)\n",
            "Requirement already satisfied: tinycss2 in /usr/local/lib/python3.10/dist-packages (from nbconvert>=5->notebook>=4.4.1->widgetsnbextension~=3.6.0->ipywidgets>=7.6.5->pycaret==3.0.0.rc1) (1.2.1)\n",
            "Requirement already satisfied: fastjsonschema in /usr/local/lib/python3.10/dist-packages (from nbformat->notebook>=4.4.1->widgetsnbextension~=3.6.0->ipywidgets>=7.6.5->pycaret==3.0.0.rc1) (2.18.0)\n",
            "Requirement already satisfied: jsonschema>=2.6 in /usr/local/lib/python3.10/dist-packages (from nbformat->notebook>=4.4.1->widgetsnbextension~=3.6.0->ipywidgets>=7.6.5->pycaret==3.0.0.rc1) (4.19.0)\n",
            "Requirement already satisfied: argon2-cffi-bindings in /usr/local/lib/python3.10/dist-packages (from argon2-cffi->notebook>=4.4.1->widgetsnbextension~=3.6.0->ipywidgets>=7.6.5->pycaret==3.0.0.rc1) (21.2.0)\n",
            "Requirement already satisfied: attrs>=22.2.0 in /usr/local/lib/python3.10/dist-packages (from jsonschema>=2.6->nbformat->notebook>=4.4.1->widgetsnbextension~=3.6.0->ipywidgets>=7.6.5->pycaret==3.0.0.rc1) (23.1.0)\n",
            "Requirement already satisfied: jsonschema-specifications>=2023.03.6 in /usr/local/lib/python3.10/dist-packages (from jsonschema>=2.6->nbformat->notebook>=4.4.1->widgetsnbextension~=3.6.0->ipywidgets>=7.6.5->pycaret==3.0.0.rc1) (2023.7.1)\n",
            "Requirement already satisfied: referencing>=0.28.4 in /usr/local/lib/python3.10/dist-packages (from jsonschema>=2.6->nbformat->notebook>=4.4.1->widgetsnbextension~=3.6.0->ipywidgets>=7.6.5->pycaret==3.0.0.rc1) (0.30.2)\n",
            "Requirement already satisfied: rpds-py>=0.7.1 in /usr/local/lib/python3.10/dist-packages (from jsonschema>=2.6->nbformat->notebook>=4.4.1->widgetsnbextension~=3.6.0->ipywidgets>=7.6.5->pycaret==3.0.0.rc1) (0.10.2)\n",
            "Requirement already satisfied: anyio<4,>=3.1.0 in /usr/local/lib/python3.10/dist-packages (from jupyter-server>=1.8->nbclassic>=0.4.7->notebook>=4.4.1->widgetsnbextension~=3.6.0->ipywidgets>=7.6.5->pycaret==3.0.0.rc1) (3.7.1)\n",
            "Requirement already satisfied: websocket-client in /usr/local/lib/python3.10/dist-packages (from jupyter-server>=1.8->nbclassic>=0.4.7->notebook>=4.4.1->widgetsnbextension~=3.6.0->ipywidgets>=7.6.5->pycaret==3.0.0.rc1) (1.6.2)\n",
            "Requirement already satisfied: cffi>=1.0.1 in /usr/local/lib/python3.10/dist-packages (from argon2-cffi-bindings->argon2-cffi->notebook>=4.4.1->widgetsnbextension~=3.6.0->ipywidgets>=7.6.5->pycaret==3.0.0.rc1) (1.15.1)\n",
            "Requirement already satisfied: soupsieve>1.2 in /usr/local/lib/python3.10/dist-packages (from beautifulsoup4->nbconvert>=5->notebook>=4.4.1->widgetsnbextension~=3.6.0->ipywidgets>=7.6.5->pycaret==3.0.0.rc1) (2.5)\n",
            "Requirement already satisfied: webencodings in /usr/local/lib/python3.10/dist-packages (from bleach->nbconvert>=5->notebook>=4.4.1->widgetsnbextension~=3.6.0->ipywidgets>=7.6.5->pycaret==3.0.0.rc1) (0.5.1)\n",
            "Requirement already satisfied: sniffio>=1.1 in /usr/local/lib/python3.10/dist-packages (from anyio<4,>=3.1.0->jupyter-server>=1.8->nbclassic>=0.4.7->notebook>=4.4.1->widgetsnbextension~=3.6.0->ipywidgets>=7.6.5->pycaret==3.0.0.rc1) (1.3.0)\n",
            "Requirement already satisfied: exceptiongroup in /usr/local/lib/python3.10/dist-packages (from anyio<4,>=3.1.0->jupyter-server>=1.8->nbclassic>=0.4.7->notebook>=4.4.1->widgetsnbextension~=3.6.0->ipywidgets>=7.6.5->pycaret==3.0.0.rc1) (1.1.3)\n",
            "Requirement already satisfied: pycparser in /usr/local/lib/python3.10/dist-packages (from cffi>=1.0.1->argon2-cffi-bindings->argon2-cffi->notebook>=4.4.1->widgetsnbextension~=3.6.0->ipywidgets>=7.6.5->pycaret==3.0.0.rc1) (2.21)\n",
            "Building wheels for collected packages: pyod\n",
            "  Building wheel for pyod (setup.py) ... \u001b[?25l\u001b[?25hdone\n",
            "  Created wheel for pyod: filename=pyod-1.1.0-py3-none-any.whl size=185329 sha256=395c5fb91bd159086baa6b46b2ac05016df177583d0d375ea36c671b2f2684dd\n",
            "  Stored in directory: /root/.cache/pip/wheels/36/8e/e2/e932956b10b843eb6be9eefa70b5c1bee7b561be14c423b136\n",
            "Successfully built pyod\n",
            "Installing collected packages: kaleido, scikit-base, schemdraw, numpy, llvmlite, jedi, scipy, pandas, numba, sktime, scikit-plot, pyod, pmdarima, category-encoders, tbats, pycaret\n",
            "  Attempting uninstall: numpy\n",
            "    Found existing installation: numpy 1.23.5\n",
            "    Uninstalling numpy-1.23.5:\n",
            "      Successfully uninstalled numpy-1.23.5\n",
            "  Attempting uninstall: llvmlite\n",
            "    Found existing installation: llvmlite 0.39.1\n",
            "    Uninstalling llvmlite-0.39.1:\n",
            "      Successfully uninstalled llvmlite-0.39.1\n",
            "  Attempting uninstall: scipy\n",
            "    Found existing installation: scipy 1.10.1\n",
            "    Uninstalling scipy-1.10.1:\n",
            "      Successfully uninstalled scipy-1.10.1\n",
            "  Attempting uninstall: pandas\n",
            "    Found existing installation: pandas 1.5.3\n",
            "    Uninstalling pandas-1.5.3:\n",
            "      Successfully uninstalled pandas-1.5.3\n",
            "  Attempting uninstall: numba\n",
            "    Found existing installation: numba 0.56.4\n",
            "    Uninstalling numba-0.56.4:\n",
            "      Successfully uninstalled numba-0.56.4\n",
            "\u001b[31mERROR: pip's dependency resolver does not currently take into account all the packages that are installed. This behaviour is the source of the following dependency conflicts.\n",
            "google-colab 1.0.0 requires pandas==1.5.3, but you have pandas 1.4.4 which is incompatible.\n",
            "plotnine 0.12.3 requires numpy>=1.23.0, but you have numpy 1.22.4 which is incompatible.\n",
            "plotnine 0.12.3 requires pandas>=1.5.0, but you have pandas 1.4.4 which is incompatible.\u001b[0m\u001b[31m\n",
            "\u001b[0mSuccessfully installed category-encoders-2.6.2 jedi-0.19.0 kaleido-0.2.1 llvmlite-0.38.1 numba-0.55.2 numpy-1.22.4 pandas-1.4.4 pmdarima-2.0.3 pycaret-3.0.0rc1 pyod-1.1.0 schemdraw-0.17 scikit-base-0.5.1 scikit-plot-0.3.7 scipy-1.8.1 sktime-0.22.0 tbats-1.1.3\n"
          ]
        },
        {
          "output_type": "display_data",
          "data": {
            "application/vnd.colab-display-data+json": {
              "pip_warning": {
                "packages": [
                  "numpy"
                ]
              }
            }
          },
          "metadata": {}
        }
      ]
    },
    {
      "cell_type": "code",
      "source": [
        "from pycaret.datasets import get_data\n",
        "data = get_data('france')"
      ],
      "metadata": {
        "colab": {
          "base_uri": "https://localhost:8080/",
          "height": 293
        },
        "id": "d8gEeMWVQmZF",
        "outputId": "ed891038-2ed2-489d-d4f2-289241774c95"
      },
      "execution_count": null,
      "outputs": [
        {
          "output_type": "display_data",
          "data": {
            "text/plain": [
              "  InvoiceNo StockCode                      Description  Quantity  \\\n",
              "0    536370     22728        ALARM CLOCK BAKELIKE PINK        24   \n",
              "1    536370     22727        ALARM CLOCK BAKELIKE RED         24   \n",
              "2    536370     22726       ALARM CLOCK BAKELIKE GREEN        12   \n",
              "3    536370     21724  PANDA AND BUNNIES STICKER SHEET        12   \n",
              "4    536370     21883                 STARS GIFT TAPE         24   \n",
              "\n",
              "      InvoiceDate  UnitPrice  CustomerID Country  \n",
              "0  12/1/2010 8:45       3.75     12583.0  France  \n",
              "1  12/1/2010 8:45       3.75     12583.0  France  \n",
              "2  12/1/2010 8:45       3.75     12583.0  France  \n",
              "3  12/1/2010 8:45       0.85     12583.0  France  \n",
              "4  12/1/2010 8:45       0.65     12583.0  France  "
            ],
            "text/html": [
              "\n",
              "  <div id=\"df-93ad7129-c420-45b6-92f1-4e0f8035147d\" class=\"colab-df-container\">\n",
              "    <div>\n",
              "<style scoped>\n",
              "    .dataframe tbody tr th:only-of-type {\n",
              "        vertical-align: middle;\n",
              "    }\n",
              "\n",
              "    .dataframe tbody tr th {\n",
              "        vertical-align: top;\n",
              "    }\n",
              "\n",
              "    .dataframe thead th {\n",
              "        text-align: right;\n",
              "    }\n",
              "</style>\n",
              "<table border=\"1\" class=\"dataframe\">\n",
              "  <thead>\n",
              "    <tr style=\"text-align: right;\">\n",
              "      <th></th>\n",
              "      <th>InvoiceNo</th>\n",
              "      <th>StockCode</th>\n",
              "      <th>Description</th>\n",
              "      <th>Quantity</th>\n",
              "      <th>InvoiceDate</th>\n",
              "      <th>UnitPrice</th>\n",
              "      <th>CustomerID</th>\n",
              "      <th>Country</th>\n",
              "    </tr>\n",
              "  </thead>\n",
              "  <tbody>\n",
              "    <tr>\n",
              "      <th>0</th>\n",
              "      <td>536370</td>\n",
              "      <td>22728</td>\n",
              "      <td>ALARM CLOCK BAKELIKE PINK</td>\n",
              "      <td>24</td>\n",
              "      <td>12/1/2010 8:45</td>\n",
              "      <td>3.75</td>\n",
              "      <td>12583.0</td>\n",
              "      <td>France</td>\n",
              "    </tr>\n",
              "    <tr>\n",
              "      <th>1</th>\n",
              "      <td>536370</td>\n",
              "      <td>22727</td>\n",
              "      <td>ALARM CLOCK BAKELIKE RED</td>\n",
              "      <td>24</td>\n",
              "      <td>12/1/2010 8:45</td>\n",
              "      <td>3.75</td>\n",
              "      <td>12583.0</td>\n",
              "      <td>France</td>\n",
              "    </tr>\n",
              "    <tr>\n",
              "      <th>2</th>\n",
              "      <td>536370</td>\n",
              "      <td>22726</td>\n",
              "      <td>ALARM CLOCK BAKELIKE GREEN</td>\n",
              "      <td>12</td>\n",
              "      <td>12/1/2010 8:45</td>\n",
              "      <td>3.75</td>\n",
              "      <td>12583.0</td>\n",
              "      <td>France</td>\n",
              "    </tr>\n",
              "    <tr>\n",
              "      <th>3</th>\n",
              "      <td>536370</td>\n",
              "      <td>21724</td>\n",
              "      <td>PANDA AND BUNNIES STICKER SHEET</td>\n",
              "      <td>12</td>\n",
              "      <td>12/1/2010 8:45</td>\n",
              "      <td>0.85</td>\n",
              "      <td>12583.0</td>\n",
              "      <td>France</td>\n",
              "    </tr>\n",
              "    <tr>\n",
              "      <th>4</th>\n",
              "      <td>536370</td>\n",
              "      <td>21883</td>\n",
              "      <td>STARS GIFT TAPE</td>\n",
              "      <td>24</td>\n",
              "      <td>12/1/2010 8:45</td>\n",
              "      <td>0.65</td>\n",
              "      <td>12583.0</td>\n",
              "      <td>France</td>\n",
              "    </tr>\n",
              "  </tbody>\n",
              "</table>\n",
              "</div>\n",
              "    <div class=\"colab-df-buttons\">\n",
              "\n",
              "  <div class=\"colab-df-container\">\n",
              "    <button class=\"colab-df-convert\" onclick=\"convertToInteractive('df-93ad7129-c420-45b6-92f1-4e0f8035147d')\"\n",
              "            title=\"Convert this dataframe to an interactive table.\"\n",
              "            style=\"display:none;\">\n",
              "\n",
              "  <svg xmlns=\"http://www.w3.org/2000/svg\" height=\"24px\" viewBox=\"0 -960 960 960\">\n",
              "    <path d=\"M120-120v-720h720v720H120Zm60-500h600v-160H180v160Zm220 220h160v-160H400v160Zm0 220h160v-160H400v160ZM180-400h160v-160H180v160Zm440 0h160v-160H620v160ZM180-180h160v-160H180v160Zm440 0h160v-160H620v160Z\"/>\n",
              "  </svg>\n",
              "    </button>\n",
              "\n",
              "  <style>\n",
              "    .colab-df-container {\n",
              "      display:flex;\n",
              "      gap: 12px;\n",
              "    }\n",
              "\n",
              "    .colab-df-convert {\n",
              "      background-color: #E8F0FE;\n",
              "      border: none;\n",
              "      border-radius: 50%;\n",
              "      cursor: pointer;\n",
              "      display: none;\n",
              "      fill: #1967D2;\n",
              "      height: 32px;\n",
              "      padding: 0 0 0 0;\n",
              "      width: 32px;\n",
              "    }\n",
              "\n",
              "    .colab-df-convert:hover {\n",
              "      background-color: #E2EBFA;\n",
              "      box-shadow: 0px 1px 2px rgba(60, 64, 67, 0.3), 0px 1px 3px 1px rgba(60, 64, 67, 0.15);\n",
              "      fill: #174EA6;\n",
              "    }\n",
              "\n",
              "    .colab-df-buttons div {\n",
              "      margin-bottom: 4px;\n",
              "    }\n",
              "\n",
              "    [theme=dark] .colab-df-convert {\n",
              "      background-color: #3B4455;\n",
              "      fill: #D2E3FC;\n",
              "    }\n",
              "\n",
              "    [theme=dark] .colab-df-convert:hover {\n",
              "      background-color: #434B5C;\n",
              "      box-shadow: 0px 1px 3px 1px rgba(0, 0, 0, 0.15);\n",
              "      filter: drop-shadow(0px 1px 2px rgba(0, 0, 0, 0.3));\n",
              "      fill: #FFFFFF;\n",
              "    }\n",
              "  </style>\n",
              "\n",
              "    <script>\n",
              "      const buttonEl =\n",
              "        document.querySelector('#df-93ad7129-c420-45b6-92f1-4e0f8035147d button.colab-df-convert');\n",
              "      buttonEl.style.display =\n",
              "        google.colab.kernel.accessAllowed ? 'block' : 'none';\n",
              "\n",
              "      async function convertToInteractive(key) {\n",
              "        const element = document.querySelector('#df-93ad7129-c420-45b6-92f1-4e0f8035147d');\n",
              "        const dataTable =\n",
              "          await google.colab.kernel.invokeFunction('convertToInteractive',\n",
              "                                                    [key], {});\n",
              "        if (!dataTable) return;\n",
              "\n",
              "        const docLinkHtml = 'Like what you see? Visit the ' +\n",
              "          '<a target=\"_blank\" href=https://colab.research.google.com/notebooks/data_table.ipynb>data table notebook</a>'\n",
              "          + ' to learn more about interactive tables.';\n",
              "        element.innerHTML = '';\n",
              "        dataTable['output_type'] = 'display_data';\n",
              "        await google.colab.output.renderOutput(dataTable, element);\n",
              "        const docLink = document.createElement('div');\n",
              "        docLink.innerHTML = docLinkHtml;\n",
              "        element.appendChild(docLink);\n",
              "      }\n",
              "    </script>\n",
              "  </div>\n",
              "\n",
              "\n",
              "<div id=\"df-c2d61910-5bca-4ebc-8cbd-9145eda99957\">\n",
              "  <button class=\"colab-df-quickchart\" onclick=\"quickchart('df-c2d61910-5bca-4ebc-8cbd-9145eda99957')\"\n",
              "            title=\"Suggest charts.\"\n",
              "            style=\"display:none;\">\n",
              "\n",
              "<svg xmlns=\"http://www.w3.org/2000/svg\" height=\"24px\"viewBox=\"0 0 24 24\"\n",
              "     width=\"24px\">\n",
              "    <g>\n",
              "        <path d=\"M19 3H5c-1.1 0-2 .9-2 2v14c0 1.1.9 2 2 2h14c1.1 0 2-.9 2-2V5c0-1.1-.9-2-2-2zM9 17H7v-7h2v7zm4 0h-2V7h2v10zm4 0h-2v-4h2v4z\"/>\n",
              "    </g>\n",
              "</svg>\n",
              "  </button>\n",
              "\n",
              "<style>\n",
              "  .colab-df-quickchart {\n",
              "      --bg-color: #E8F0FE;\n",
              "      --fill-color: #1967D2;\n",
              "      --hover-bg-color: #E2EBFA;\n",
              "      --hover-fill-color: #174EA6;\n",
              "      --disabled-fill-color: #AAA;\n",
              "      --disabled-bg-color: #DDD;\n",
              "  }\n",
              "\n",
              "  [theme=dark] .colab-df-quickchart {\n",
              "      --bg-color: #3B4455;\n",
              "      --fill-color: #D2E3FC;\n",
              "      --hover-bg-color: #434B5C;\n",
              "      --hover-fill-color: #FFFFFF;\n",
              "      --disabled-bg-color: #3B4455;\n",
              "      --disabled-fill-color: #666;\n",
              "  }\n",
              "\n",
              "  .colab-df-quickchart {\n",
              "    background-color: var(--bg-color);\n",
              "    border: none;\n",
              "    border-radius: 50%;\n",
              "    cursor: pointer;\n",
              "    display: none;\n",
              "    fill: var(--fill-color);\n",
              "    height: 32px;\n",
              "    padding: 0;\n",
              "    width: 32px;\n",
              "  }\n",
              "\n",
              "  .colab-df-quickchart:hover {\n",
              "    background-color: var(--hover-bg-color);\n",
              "    box-shadow: 0 1px 2px rgba(60, 64, 67, 0.3), 0 1px 3px 1px rgba(60, 64, 67, 0.15);\n",
              "    fill: var(--button-hover-fill-color);\n",
              "  }\n",
              "\n",
              "  .colab-df-quickchart-complete:disabled,\n",
              "  .colab-df-quickchart-complete:disabled:hover {\n",
              "    background-color: var(--disabled-bg-color);\n",
              "    fill: var(--disabled-fill-color);\n",
              "    box-shadow: none;\n",
              "  }\n",
              "\n",
              "  .colab-df-spinner {\n",
              "    border: 2px solid var(--fill-color);\n",
              "    border-color: transparent;\n",
              "    border-bottom-color: var(--fill-color);\n",
              "    animation:\n",
              "      spin 1s steps(1) infinite;\n",
              "  }\n",
              "\n",
              "  @keyframes spin {\n",
              "    0% {\n",
              "      border-color: transparent;\n",
              "      border-bottom-color: var(--fill-color);\n",
              "      border-left-color: var(--fill-color);\n",
              "    }\n",
              "    20% {\n",
              "      border-color: transparent;\n",
              "      border-left-color: var(--fill-color);\n",
              "      border-top-color: var(--fill-color);\n",
              "    }\n",
              "    30% {\n",
              "      border-color: transparent;\n",
              "      border-left-color: var(--fill-color);\n",
              "      border-top-color: var(--fill-color);\n",
              "      border-right-color: var(--fill-color);\n",
              "    }\n",
              "    40% {\n",
              "      border-color: transparent;\n",
              "      border-right-color: var(--fill-color);\n",
              "      border-top-color: var(--fill-color);\n",
              "    }\n",
              "    60% {\n",
              "      border-color: transparent;\n",
              "      border-right-color: var(--fill-color);\n",
              "    }\n",
              "    80% {\n",
              "      border-color: transparent;\n",
              "      border-right-color: var(--fill-color);\n",
              "      border-bottom-color: var(--fill-color);\n",
              "    }\n",
              "    90% {\n",
              "      border-color: transparent;\n",
              "      border-bottom-color: var(--fill-color);\n",
              "    }\n",
              "  }\n",
              "</style>\n",
              "\n",
              "  <script>\n",
              "    async function quickchart(key) {\n",
              "      const quickchartButtonEl =\n",
              "        document.querySelector('#' + key + ' button');\n",
              "      quickchartButtonEl.disabled = true;  // To prevent multiple clicks.\n",
              "      quickchartButtonEl.classList.add('colab-df-spinner');\n",
              "      try {\n",
              "        const charts = await google.colab.kernel.invokeFunction(\n",
              "            'suggestCharts', [key], {});\n",
              "      } catch (error) {\n",
              "        console.error('Error during call to suggestCharts:', error);\n",
              "      }\n",
              "      quickchartButtonEl.classList.remove('colab-df-spinner');\n",
              "      quickchartButtonEl.classList.add('colab-df-quickchart-complete');\n",
              "    }\n",
              "    (() => {\n",
              "      let quickchartButtonEl =\n",
              "        document.querySelector('#df-c2d61910-5bca-4ebc-8cbd-9145eda99957 button');\n",
              "      quickchartButtonEl.style.display =\n",
              "        google.colab.kernel.accessAllowed ? 'block' : 'none';\n",
              "    })();\n",
              "  </script>\n",
              "</div>\n",
              "    </div>\n",
              "  </div>\n"
            ]
          },
          "metadata": {}
        }
      ]
    },
    {
      "cell_type": "code",
      "source": [
        "from pycaret.arules import *\n",
        "exp_arul101 = setup(data = data,\n",
        "                    transaction_id = 'InvoiceNo',\n",
        "                    item_id = 'Description')"
      ],
      "metadata": {
        "colab": {
          "base_uri": "https://localhost:8080/",
          "height": 174
        },
        "id": "mzblC-R3RJqM",
        "outputId": "1d133077-5df6-4435-a599-adfa9ff4be36"
      },
      "execution_count": null,
      "outputs": [
        {
          "output_type": "display_data",
          "data": {
            "text/plain": [
              "<pandas.io.formats.style.Styler at 0x7cd2592c3f10>"
            ],
            "text/html": [
              "<style type=\"text/css\">\n",
              "</style>\n",
              "<table id=\"T_9f916\" class=\"dataframe\">\n",
              "  <thead>\n",
              "    <tr>\n",
              "      <th id=\"T_9f916_level0_col0\" class=\"col_heading level0 col0\" >Description</th>\n",
              "      <th id=\"T_9f916_level0_col1\" class=\"col_heading level0 col1\" >Value</th>\n",
              "    </tr>\n",
              "  </thead>\n",
              "  <tbody>\n",
              "    <tr>\n",
              "      <td id=\"T_9f916_row0_col0\" class=\"data row0 col0\" >session_id</td>\n",
              "      <td id=\"T_9f916_row0_col1\" class=\"data row0 col1\" >8564</td>\n",
              "    </tr>\n",
              "    <tr>\n",
              "      <td id=\"T_9f916_row1_col0\" class=\"data row1 col0\" ># Transactions</td>\n",
              "      <td id=\"T_9f916_row1_col1\" class=\"data row1 col1\" >461</td>\n",
              "    </tr>\n",
              "    <tr>\n",
              "      <td id=\"T_9f916_row2_col0\" class=\"data row2 col0\" ># Items</td>\n",
              "      <td id=\"T_9f916_row2_col1\" class=\"data row2 col1\" >1565</td>\n",
              "    </tr>\n",
              "    <tr>\n",
              "      <td id=\"T_9f916_row3_col0\" class=\"data row3 col0\" >Ignore Items</td>\n",
              "      <td id=\"T_9f916_row3_col1\" class=\"data row3 col1\" >None</td>\n",
              "    </tr>\n",
              "  </tbody>\n",
              "</table>\n"
            ]
          },
          "metadata": {}
        }
      ]
    },
    {
      "cell_type": "code",
      "source": [
        "model1 = create_model()"
      ],
      "metadata": {
        "colab": {
          "base_uri": "https://localhost:8080/"
        },
        "id": "6dqEHETeRNbY",
        "outputId": "5e22495c-0b0f-4384-8a98-38ae8bebdc95"
      },
      "execution_count": null,
      "outputs": [
        {
          "output_type": "stream",
          "name": "stderr",
          "text": [
            "WARNING:logs:/usr/local/lib/python3.10/dist-packages/mlxtend/frequent_patterns/fpcommon.py:110: DeprecationWarning: DataFrames with non-bool types result in worse computationalperformance and their support might be discontinued in the future.Please use a DataFrame with bool type\n",
            "  warnings.warn(\n",
            "\n"
          ]
        }
      ]
    },
    {
      "cell_type": "code",
      "source": [
        "exp_arul101 = setup(data = data,\n",
        "                    transaction_id = 'InvoiceNo',\n",
        "                    item_id = 'Description',\n",
        "                    ignore_items = ['POSTAGE'])"
      ],
      "metadata": {
        "colab": {
          "base_uri": "https://localhost:8080/",
          "height": 247
        },
        "id": "i_TMMNnkRQ-D",
        "outputId": "0f3062f8-dc69-4547-cae2-392444fc50f2"
      },
      "execution_count": null,
      "outputs": [
        {
          "output_type": "stream",
          "name": "stderr",
          "text": [
            "WARNING:logs:/usr/local/lib/python3.10/dist-packages/ipykernel/ipkernel.py:283: DeprecationWarning: `should_run_async` will not call `transform_cell` automatically in the future. Please pass the result to `transformed_cell` argument and any exception that happen during thetransform in `preprocessing_exc_tuple` in IPython 7.17 and above.\n",
            "  and should_run_async(code)\n",
            "\n"
          ]
        },
        {
          "output_type": "display_data",
          "data": {
            "text/plain": [
              "<pandas.io.formats.style.Styler at 0x7cd21eac1b40>"
            ],
            "text/html": [
              "<style type=\"text/css\">\n",
              "</style>\n",
              "<table id=\"T_d8d3a\" class=\"dataframe\">\n",
              "  <thead>\n",
              "    <tr>\n",
              "      <th id=\"T_d8d3a_level0_col0\" class=\"col_heading level0 col0\" >Description</th>\n",
              "      <th id=\"T_d8d3a_level0_col1\" class=\"col_heading level0 col1\" >Value</th>\n",
              "    </tr>\n",
              "  </thead>\n",
              "  <tbody>\n",
              "    <tr>\n",
              "      <td id=\"T_d8d3a_row0_col0\" class=\"data row0 col0\" >session_id</td>\n",
              "      <td id=\"T_d8d3a_row0_col1\" class=\"data row0 col1\" >7436</td>\n",
              "    </tr>\n",
              "    <tr>\n",
              "      <td id=\"T_d8d3a_row1_col0\" class=\"data row1 col0\" ># Transactions</td>\n",
              "      <td id=\"T_d8d3a_row1_col1\" class=\"data row1 col1\" >461</td>\n",
              "    </tr>\n",
              "    <tr>\n",
              "      <td id=\"T_d8d3a_row2_col0\" class=\"data row2 col0\" ># Items</td>\n",
              "      <td id=\"T_d8d3a_row2_col1\" class=\"data row2 col1\" >1565</td>\n",
              "    </tr>\n",
              "    <tr>\n",
              "      <td id=\"T_d8d3a_row3_col0\" class=\"data row3 col0\" >Ignore Items</td>\n",
              "      <td id=\"T_d8d3a_row3_col1\" class=\"data row3 col1\" >['POSTAGE']</td>\n",
              "    </tr>\n",
              "  </tbody>\n",
              "</table>\n"
            ]
          },
          "metadata": {}
        }
      ]
    },
    {
      "cell_type": "code",
      "source": [
        "model2 = create_model()\n",
        "print(model2.shape)\n",
        "model2.head()"
      ],
      "metadata": {
        "colab": {
          "base_uri": "https://localhost:8080/",
          "height": 556
        },
        "id": "I0p___KLRVlc",
        "outputId": "ac8b2f7b-f876-4568-b1e7-95c54889cde6"
      },
      "execution_count": null,
      "outputs": [
        {
          "output_type": "stream",
          "name": "stdout",
          "text": [
            "(45, 10)\n"
          ]
        },
        {
          "output_type": "execute_result",
          "data": {
            "text/plain": [
              "                                         antecedents  \\\n",
              "0  (SET/20 RED RETROSPOT PAPER NAPKINS , SET/6 RE...   \n",
              "1  (SET/20 RED RETROSPOT PAPER NAPKINS , SET/6 RE...   \n",
              "2                    (SET/6 RED SPOTTY PAPER PLATES)   \n",
              "3                      (CHILDRENS CUTLERY SPACEBOY )   \n",
              "4                      (SET/6 RED SPOTTY PAPER CUPS)   \n",
              "\n",
              "                       consequents  antecedent support  consequent support  \\\n",
              "0  (SET/6 RED SPOTTY PAPER PLATES)              0.0868              0.1085   \n",
              "1    (SET/6 RED SPOTTY PAPER CUPS)              0.0868              0.1171   \n",
              "2    (SET/6 RED SPOTTY PAPER CUPS)              0.1085              0.1171   \n",
              "3  (CHILDRENS CUTLERY DOLLY GIRL )              0.0586              0.0629   \n",
              "4  (SET/6 RED SPOTTY PAPER PLATES)              0.1171              0.1085   \n",
              "\n",
              "   support  confidence     lift  leverage  conviction  zhangs_metric  \n",
              "0   0.0846      0.9750   8.9895    0.0752     35.6616         0.9732  \n",
              "1   0.0846      0.9750   8.3236    0.0744     35.3145         0.9635  \n",
              "2   0.1041      0.9600   8.1956    0.0914     22.0716         0.9848  \n",
              "3   0.0542      0.9259  14.7190    0.0505     12.6508         0.9900  \n",
              "4   0.1041      0.8889   8.1956    0.0914      8.0239         0.9945  "
            ],
            "text/html": [
              "\n",
              "  <div id=\"df-ff4e1d39-665a-4806-986f-178b0d135459\" class=\"colab-df-container\">\n",
              "    <div>\n",
              "<style scoped>\n",
              "    .dataframe tbody tr th:only-of-type {\n",
              "        vertical-align: middle;\n",
              "    }\n",
              "\n",
              "    .dataframe tbody tr th {\n",
              "        vertical-align: top;\n",
              "    }\n",
              "\n",
              "    .dataframe thead th {\n",
              "        text-align: right;\n",
              "    }\n",
              "</style>\n",
              "<table border=\"1\" class=\"dataframe\">\n",
              "  <thead>\n",
              "    <tr style=\"text-align: right;\">\n",
              "      <th></th>\n",
              "      <th>antecedents</th>\n",
              "      <th>consequents</th>\n",
              "      <th>antecedent support</th>\n",
              "      <th>consequent support</th>\n",
              "      <th>support</th>\n",
              "      <th>confidence</th>\n",
              "      <th>lift</th>\n",
              "      <th>leverage</th>\n",
              "      <th>conviction</th>\n",
              "      <th>zhangs_metric</th>\n",
              "    </tr>\n",
              "  </thead>\n",
              "  <tbody>\n",
              "    <tr>\n",
              "      <th>0</th>\n",
              "      <td>(SET/20 RED RETROSPOT PAPER NAPKINS , SET/6 RE...</td>\n",
              "      <td>(SET/6 RED SPOTTY PAPER PLATES)</td>\n",
              "      <td>0.0868</td>\n",
              "      <td>0.1085</td>\n",
              "      <td>0.0846</td>\n",
              "      <td>0.9750</td>\n",
              "      <td>8.9895</td>\n",
              "      <td>0.0752</td>\n",
              "      <td>35.6616</td>\n",
              "      <td>0.9732</td>\n",
              "    </tr>\n",
              "    <tr>\n",
              "      <th>1</th>\n",
              "      <td>(SET/20 RED RETROSPOT PAPER NAPKINS , SET/6 RE...</td>\n",
              "      <td>(SET/6 RED SPOTTY PAPER CUPS)</td>\n",
              "      <td>0.0868</td>\n",
              "      <td>0.1171</td>\n",
              "      <td>0.0846</td>\n",
              "      <td>0.9750</td>\n",
              "      <td>8.3236</td>\n",
              "      <td>0.0744</td>\n",
              "      <td>35.3145</td>\n",
              "      <td>0.9635</td>\n",
              "    </tr>\n",
              "    <tr>\n",
              "      <th>2</th>\n",
              "      <td>(SET/6 RED SPOTTY PAPER PLATES)</td>\n",
              "      <td>(SET/6 RED SPOTTY PAPER CUPS)</td>\n",
              "      <td>0.1085</td>\n",
              "      <td>0.1171</td>\n",
              "      <td>0.1041</td>\n",
              "      <td>0.9600</td>\n",
              "      <td>8.1956</td>\n",
              "      <td>0.0914</td>\n",
              "      <td>22.0716</td>\n",
              "      <td>0.9848</td>\n",
              "    </tr>\n",
              "    <tr>\n",
              "      <th>3</th>\n",
              "      <td>(CHILDRENS CUTLERY SPACEBOY )</td>\n",
              "      <td>(CHILDRENS CUTLERY DOLLY GIRL )</td>\n",
              "      <td>0.0586</td>\n",
              "      <td>0.0629</td>\n",
              "      <td>0.0542</td>\n",
              "      <td>0.9259</td>\n",
              "      <td>14.7190</td>\n",
              "      <td>0.0505</td>\n",
              "      <td>12.6508</td>\n",
              "      <td>0.9900</td>\n",
              "    </tr>\n",
              "    <tr>\n",
              "      <th>4</th>\n",
              "      <td>(SET/6 RED SPOTTY PAPER CUPS)</td>\n",
              "      <td>(SET/6 RED SPOTTY PAPER PLATES)</td>\n",
              "      <td>0.1171</td>\n",
              "      <td>0.1085</td>\n",
              "      <td>0.1041</td>\n",
              "      <td>0.8889</td>\n",
              "      <td>8.1956</td>\n",
              "      <td>0.0914</td>\n",
              "      <td>8.0239</td>\n",
              "      <td>0.9945</td>\n",
              "    </tr>\n",
              "  </tbody>\n",
              "</table>\n",
              "</div>\n",
              "    <div class=\"colab-df-buttons\">\n",
              "\n",
              "  <div class=\"colab-df-container\">\n",
              "    <button class=\"colab-df-convert\" onclick=\"convertToInteractive('df-ff4e1d39-665a-4806-986f-178b0d135459')\"\n",
              "            title=\"Convert this dataframe to an interactive table.\"\n",
              "            style=\"display:none;\">\n",
              "\n",
              "  <svg xmlns=\"http://www.w3.org/2000/svg\" height=\"24px\" viewBox=\"0 -960 960 960\">\n",
              "    <path d=\"M120-120v-720h720v720H120Zm60-500h600v-160H180v160Zm220 220h160v-160H400v160Zm0 220h160v-160H400v160ZM180-400h160v-160H180v160Zm440 0h160v-160H620v160ZM180-180h160v-160H180v160Zm440 0h160v-160H620v160Z\"/>\n",
              "  </svg>\n",
              "    </button>\n",
              "\n",
              "  <style>\n",
              "    .colab-df-container {\n",
              "      display:flex;\n",
              "      gap: 12px;\n",
              "    }\n",
              "\n",
              "    .colab-df-convert {\n",
              "      background-color: #E8F0FE;\n",
              "      border: none;\n",
              "      border-radius: 50%;\n",
              "      cursor: pointer;\n",
              "      display: none;\n",
              "      fill: #1967D2;\n",
              "      height: 32px;\n",
              "      padding: 0 0 0 0;\n",
              "      width: 32px;\n",
              "    }\n",
              "\n",
              "    .colab-df-convert:hover {\n",
              "      background-color: #E2EBFA;\n",
              "      box-shadow: 0px 1px 2px rgba(60, 64, 67, 0.3), 0px 1px 3px 1px rgba(60, 64, 67, 0.15);\n",
              "      fill: #174EA6;\n",
              "    }\n",
              "\n",
              "    .colab-df-buttons div {\n",
              "      margin-bottom: 4px;\n",
              "    }\n",
              "\n",
              "    [theme=dark] .colab-df-convert {\n",
              "      background-color: #3B4455;\n",
              "      fill: #D2E3FC;\n",
              "    }\n",
              "\n",
              "    [theme=dark] .colab-df-convert:hover {\n",
              "      background-color: #434B5C;\n",
              "      box-shadow: 0px 1px 3px 1px rgba(0, 0, 0, 0.15);\n",
              "      filter: drop-shadow(0px 1px 2px rgba(0, 0, 0, 0.3));\n",
              "      fill: #FFFFFF;\n",
              "    }\n",
              "  </style>\n",
              "\n",
              "    <script>\n",
              "      const buttonEl =\n",
              "        document.querySelector('#df-ff4e1d39-665a-4806-986f-178b0d135459 button.colab-df-convert');\n",
              "      buttonEl.style.display =\n",
              "        google.colab.kernel.accessAllowed ? 'block' : 'none';\n",
              "\n",
              "      async function convertToInteractive(key) {\n",
              "        const element = document.querySelector('#df-ff4e1d39-665a-4806-986f-178b0d135459');\n",
              "        const dataTable =\n",
              "          await google.colab.kernel.invokeFunction('convertToInteractive',\n",
              "                                                    [key], {});\n",
              "        if (!dataTable) return;\n",
              "\n",
              "        const docLinkHtml = 'Like what you see? Visit the ' +\n",
              "          '<a target=\"_blank\" href=https://colab.research.google.com/notebooks/data_table.ipynb>data table notebook</a>'\n",
              "          + ' to learn more about interactive tables.';\n",
              "        element.innerHTML = '';\n",
              "        dataTable['output_type'] = 'display_data';\n",
              "        await google.colab.output.renderOutput(dataTable, element);\n",
              "        const docLink = document.createElement('div');\n",
              "        docLink.innerHTML = docLinkHtml;\n",
              "        element.appendChild(docLink);\n",
              "      }\n",
              "    </script>\n",
              "  </div>\n",
              "\n",
              "\n",
              "<div id=\"df-05f75d4e-cc9d-425a-9955-24579c804426\">\n",
              "  <button class=\"colab-df-quickchart\" onclick=\"quickchart('df-05f75d4e-cc9d-425a-9955-24579c804426')\"\n",
              "            title=\"Suggest charts.\"\n",
              "            style=\"display:none;\">\n",
              "\n",
              "<svg xmlns=\"http://www.w3.org/2000/svg\" height=\"24px\"viewBox=\"0 0 24 24\"\n",
              "     width=\"24px\">\n",
              "    <g>\n",
              "        <path d=\"M19 3H5c-1.1 0-2 .9-2 2v14c0 1.1.9 2 2 2h14c1.1 0 2-.9 2-2V5c0-1.1-.9-2-2-2zM9 17H7v-7h2v7zm4 0h-2V7h2v10zm4 0h-2v-4h2v4z\"/>\n",
              "    </g>\n",
              "</svg>\n",
              "  </button>\n",
              "\n",
              "<style>\n",
              "  .colab-df-quickchart {\n",
              "      --bg-color: #E8F0FE;\n",
              "      --fill-color: #1967D2;\n",
              "      --hover-bg-color: #E2EBFA;\n",
              "      --hover-fill-color: #174EA6;\n",
              "      --disabled-fill-color: #AAA;\n",
              "      --disabled-bg-color: #DDD;\n",
              "  }\n",
              "\n",
              "  [theme=dark] .colab-df-quickchart {\n",
              "      --bg-color: #3B4455;\n",
              "      --fill-color: #D2E3FC;\n",
              "      --hover-bg-color: #434B5C;\n",
              "      --hover-fill-color: #FFFFFF;\n",
              "      --disabled-bg-color: #3B4455;\n",
              "      --disabled-fill-color: #666;\n",
              "  }\n",
              "\n",
              "  .colab-df-quickchart {\n",
              "    background-color: var(--bg-color);\n",
              "    border: none;\n",
              "    border-radius: 50%;\n",
              "    cursor: pointer;\n",
              "    display: none;\n",
              "    fill: var(--fill-color);\n",
              "    height: 32px;\n",
              "    padding: 0;\n",
              "    width: 32px;\n",
              "  }\n",
              "\n",
              "  .colab-df-quickchart:hover {\n",
              "    background-color: var(--hover-bg-color);\n",
              "    box-shadow: 0 1px 2px rgba(60, 64, 67, 0.3), 0 1px 3px 1px rgba(60, 64, 67, 0.15);\n",
              "    fill: var(--button-hover-fill-color);\n",
              "  }\n",
              "\n",
              "  .colab-df-quickchart-complete:disabled,\n",
              "  .colab-df-quickchart-complete:disabled:hover {\n",
              "    background-color: var(--disabled-bg-color);\n",
              "    fill: var(--disabled-fill-color);\n",
              "    box-shadow: none;\n",
              "  }\n",
              "\n",
              "  .colab-df-spinner {\n",
              "    border: 2px solid var(--fill-color);\n",
              "    border-color: transparent;\n",
              "    border-bottom-color: var(--fill-color);\n",
              "    animation:\n",
              "      spin 1s steps(1) infinite;\n",
              "  }\n",
              "\n",
              "  @keyframes spin {\n",
              "    0% {\n",
              "      border-color: transparent;\n",
              "      border-bottom-color: var(--fill-color);\n",
              "      border-left-color: var(--fill-color);\n",
              "    }\n",
              "    20% {\n",
              "      border-color: transparent;\n",
              "      border-left-color: var(--fill-color);\n",
              "      border-top-color: var(--fill-color);\n",
              "    }\n",
              "    30% {\n",
              "      border-color: transparent;\n",
              "      border-left-color: var(--fill-color);\n",
              "      border-top-color: var(--fill-color);\n",
              "      border-right-color: var(--fill-color);\n",
              "    }\n",
              "    40% {\n",
              "      border-color: transparent;\n",
              "      border-right-color: var(--fill-color);\n",
              "      border-top-color: var(--fill-color);\n",
              "    }\n",
              "    60% {\n",
              "      border-color: transparent;\n",
              "      border-right-color: var(--fill-color);\n",
              "    }\n",
              "    80% {\n",
              "      border-color: transparent;\n",
              "      border-right-color: var(--fill-color);\n",
              "      border-bottom-color: var(--fill-color);\n",
              "    }\n",
              "    90% {\n",
              "      border-color: transparent;\n",
              "      border-bottom-color: var(--fill-color);\n",
              "    }\n",
              "  }\n",
              "</style>\n",
              "\n",
              "  <script>\n",
              "    async function quickchart(key) {\n",
              "      const quickchartButtonEl =\n",
              "        document.querySelector('#' + key + ' button');\n",
              "      quickchartButtonEl.disabled = true;  // To prevent multiple clicks.\n",
              "      quickchartButtonEl.classList.add('colab-df-spinner');\n",
              "      try {\n",
              "        const charts = await google.colab.kernel.invokeFunction(\n",
              "            'suggestCharts', [key], {});\n",
              "      } catch (error) {\n",
              "        console.error('Error during call to suggestCharts:', error);\n",
              "      }\n",
              "      quickchartButtonEl.classList.remove('colab-df-spinner');\n",
              "      quickchartButtonEl.classList.add('colab-df-quickchart-complete');\n",
              "    }\n",
              "    (() => {\n",
              "      let quickchartButtonEl =\n",
              "        document.querySelector('#df-05f75d4e-cc9d-425a-9955-24579c804426 button');\n",
              "      quickchartButtonEl.style.display =\n",
              "        google.colab.kernel.accessAllowed ? 'block' : 'none';\n",
              "    })();\n",
              "  </script>\n",
              "</div>\n",
              "    </div>\n",
              "  </div>\n"
            ]
          },
          "metadata": {},
          "execution_count": 6
        }
      ]
    },
    {
      "cell_type": "code",
      "source": [
        "from pycaret.utils import enable_colab\n",
        "enable_colab()"
      ],
      "metadata": {
        "id": "bFYOW7bbRZem"
      },
      "execution_count": null,
      "outputs": []
    },
    {
      "cell_type": "code",
      "source": [
        "plot_model(model2)"
      ],
      "metadata": {
        "colab": {
          "base_uri": "https://localhost:8080/",
          "height": 817
        },
        "id": "D_ei7CyiRczU",
        "outputId": "5f8b095d-bd78-44df-d594-809270dcbbda"
      },
      "execution_count": null,
      "outputs": [
        {
          "output_type": "display_data",
          "data": {
            "text/plain": [
              "<IPython.core.display.HTML object>"
            ],
            "text/html": [
              "\n",
              "            <script src=\"/static/components/requirejs/require.js\"></script>\n",
              "            <script>\n",
              "              requirejs.config({\n",
              "                paths: {\n",
              "                  base: '/static/base',\n",
              "                  plotly: 'https://cdn.plot.ly/plotly-latest.min.js?noext',\n",
              "                },\n",
              "              });\n",
              "            </script>\n",
              "            "
            ]
          },
          "metadata": {}
        },
        {
          "output_type": "display_data",
          "data": {
            "text/html": [
              "        <script type=\"text/javascript\">\n",
              "        window.PlotlyConfig = {MathJaxConfig: 'local'};\n",
              "        if (window.MathJax && window.MathJax.Hub && window.MathJax.Hub.Config) {window.MathJax.Hub.Config({SVG: {font: \"STIX-Web\"}});}\n",
              "        if (typeof require !== 'undefined') {\n",
              "        require.undef(\"plotly\");\n",
              "        requirejs.config({\n",
              "            paths: {\n",
              "                'plotly': ['https://cdn.plot.ly/plotly-2.24.1.min']\n",
              "            }\n",
              "        });\n",
              "        require(['plotly'], function(Plotly) {\n",
              "            window._Plotly = Plotly;\n",
              "        });\n",
              "        }\n",
              "        </script>\n",
              "        "
            ]
          },
          "metadata": {}
        },
        {
          "output_type": "display_data",
          "data": {
            "application/vnd.plotly.v1+json": {
              "data": [
                {
                  "customdata": [
                    [
                      [
                        "SET/20 RED RETROSPOT PAPER NAPKINS ",
                        "SET/6 RED SPOTTY PAPER CUPS"
                      ],
                      [
                        "SET/6 RED SPOTTY PAPER PLATES"
                      ]
                    ],
                    [
                      [
                        "SET/20 RED RETROSPOT PAPER NAPKINS ",
                        "SET/6 RED SPOTTY PAPER PLATES"
                      ],
                      [
                        "SET/6 RED SPOTTY PAPER CUPS"
                      ]
                    ],
                    [
                      [
                        "SET/6 RED SPOTTY PAPER PLATES"
                      ],
                      [
                        "SET/6 RED SPOTTY PAPER CUPS"
                      ]
                    ],
                    [
                      [
                        "CHILDRENS CUTLERY SPACEBOY "
                      ],
                      [
                        "CHILDRENS CUTLERY DOLLY GIRL "
                      ]
                    ],
                    [
                      [
                        "SET/6 RED SPOTTY PAPER CUPS"
                      ],
                      [
                        "SET/6 RED SPOTTY PAPER PLATES"
                      ]
                    ],
                    [
                      [
                        "CHILDRENS CUTLERY DOLLY GIRL "
                      ],
                      [
                        "CHILDRENS CUTLERY SPACEBOY "
                      ]
                    ],
                    [
                      [
                        "ALARM CLOCK BAKELIKE GREEN",
                        "ALARM CLOCK BAKELIKE PINK"
                      ],
                      [
                        "ALARM CLOCK BAKELIKE RED "
                      ]
                    ],
                    [
                      [
                        "ALARM CLOCK BAKELIKE RED ",
                        "ALARM CLOCK BAKELIKE PINK"
                      ],
                      [
                        "ALARM CLOCK BAKELIKE GREEN"
                      ]
                    ],
                    [
                      [
                        "ALARM CLOCK BAKELIKE RED "
                      ],
                      [
                        "ALARM CLOCK BAKELIKE GREEN"
                      ]
                    ],
                    [
                      [
                        "SET/6 RED SPOTTY PAPER CUPS",
                        "SET/6 RED SPOTTY PAPER PLATES"
                      ],
                      [
                        "SET/20 RED RETROSPOT PAPER NAPKINS "
                      ]
                    ],
                    [
                      [
                        "ALARM CLOCK BAKELIKE RED ",
                        "ALARM CLOCK BAKELIKE GREEN"
                      ],
                      [
                        "ALARM CLOCK BAKELIKE PINK"
                      ]
                    ],
                    [
                      [
                        "SET/6 RED SPOTTY PAPER PLATES"
                      ],
                      [
                        "SET/20 RED RETROSPOT PAPER NAPKINS "
                      ]
                    ],
                    [
                      [
                        "ALARM CLOCK BAKELIKE GREEN"
                      ],
                      [
                        "ALARM CLOCK BAKELIKE RED "
                      ]
                    ],
                    [
                      [
                        "ALARM CLOCK BAKELIKE RED "
                      ],
                      [
                        "ALARM CLOCK BAKELIKE PINK"
                      ]
                    ],
                    [
                      [
                        "SET/6 RED SPOTTY PAPER PLATES"
                      ],
                      [
                        "SET/20 RED RETROSPOT PAPER NAPKINS ",
                        "SET/6 RED SPOTTY PAPER CUPS"
                      ]
                    ],
                    [
                      [
                        "SET/20 RED RETROSPOT PAPER NAPKINS "
                      ],
                      [
                        "SET/6 RED SPOTTY PAPER PLATES"
                      ]
                    ],
                    [
                      [
                        "SET/20 RED RETROSPOT PAPER NAPKINS "
                      ],
                      [
                        "SET/6 RED SPOTTY PAPER CUPS"
                      ]
                    ],
                    [
                      [
                        "PLASTERS IN TIN SPACEBOY",
                        "PLASTERS IN TIN CIRCUS PARADE "
                      ],
                      [
                        "PLASTERS IN TIN WOODLAND ANIMALS"
                      ]
                    ],
                    [
                      [
                        "SET/20 RED RETROSPOT PAPER NAPKINS "
                      ],
                      [
                        "SET/6 RED SPOTTY PAPER CUPS",
                        "SET/6 RED SPOTTY PAPER PLATES"
                      ]
                    ],
                    [
                      [
                        "PLASTERS IN TIN SPACEBOY"
                      ],
                      [
                        "PLASTERS IN TIN WOODLAND ANIMALS"
                      ]
                    ],
                    [
                      [
                        "ALARM CLOCK BAKELIKE GREEN"
                      ],
                      [
                        "ALARM CLOCK BAKELIKE PINK"
                      ]
                    ],
                    [
                      [
                        "SET/6 RED SPOTTY PAPER CUPS"
                      ],
                      [
                        "SET/20 RED RETROSPOT PAPER NAPKINS "
                      ]
                    ],
                    [
                      [
                        "ALARM CLOCK BAKELIKE PINK"
                      ],
                      [
                        "ALARM CLOCK BAKELIKE GREEN"
                      ]
                    ],
                    [
                      [
                        "ALARM CLOCK BAKELIKE PINK"
                      ],
                      [
                        "ALARM CLOCK BAKELIKE RED "
                      ]
                    ],
                    [
                      [
                        "SET/6 RED SPOTTY PAPER CUPS"
                      ],
                      [
                        "SET/20 RED RETROSPOT PAPER NAPKINS ",
                        "SET/6 RED SPOTTY PAPER PLATES"
                      ]
                    ],
                    [
                      [
                        "DOLLY GIRL LUNCH BOX"
                      ],
                      [
                        "SPACEBOY LUNCH BOX "
                      ]
                    ],
                    [
                      [
                        "ALARM CLOCK BAKELIKE RED "
                      ],
                      [
                        "ALARM CLOCK BAKELIKE GREEN",
                        "ALARM CLOCK BAKELIKE PINK"
                      ]
                    ],
                    [
                      [
                        "PLASTERS IN TIN WOODLAND ANIMALS",
                        "PLASTERS IN TIN CIRCUS PARADE "
                      ],
                      [
                        "PLASTERS IN TIN SPACEBOY"
                      ]
                    ],
                    [
                      [
                        "PLASTERS IN TIN SPACEBOY",
                        "PLASTERS IN TIN WOODLAND ANIMALS"
                      ],
                      [
                        "PLASTERS IN TIN CIRCUS PARADE "
                      ]
                    ],
                    [
                      [
                        "PLASTERS IN TIN SPACEBOY"
                      ],
                      [
                        "PLASTERS IN TIN CIRCUS PARADE "
                      ]
                    ],
                    [
                      [
                        "ALARM CLOCK BAKELIKE GREEN"
                      ],
                      [
                        "ALARM CLOCK BAKELIKE RED ",
                        "ALARM CLOCK BAKELIKE PINK"
                      ]
                    ],
                    [
                      [
                        "ALARM CLOCK BAKELIKE PINK"
                      ],
                      [
                        "ALARM CLOCK BAKELIKE RED ",
                        "ALARM CLOCK BAKELIKE GREEN"
                      ]
                    ],
                    [
                      [
                        "PLASTERS IN TIN WOODLAND ANIMALS"
                      ],
                      [
                        "PLASTERS IN TIN SPACEBOY"
                      ]
                    ],
                    [
                      [
                        "PLASTERS IN TIN WOODLAND ANIMALS"
                      ],
                      [
                        "PLASTERS IN TIN CIRCUS PARADE "
                      ]
                    ],
                    [
                      [
                        "PLASTERS IN TIN CIRCUS PARADE "
                      ],
                      [
                        "PLASTERS IN TIN WOODLAND ANIMALS"
                      ]
                    ],
                    [
                      [
                        "ROUND SNACK BOXES SET OF 4 FRUITS "
                      ],
                      [
                        "ROUND SNACK BOXES SET OF4 WOODLAND "
                      ]
                    ],
                    [
                      [
                        "SPACEBOY LUNCH BOX "
                      ],
                      [
                        "DOLLY GIRL LUNCH BOX"
                      ]
                    ],
                    [
                      [
                        "LUNCH BAG WOODLAND"
                      ],
                      [
                        "LUNCH BAG SPACEBOY DESIGN "
                      ]
                    ],
                    [
                      [
                        "LUNCH BAG SPACEBOY DESIGN "
                      ],
                      [
                        "LUNCH BAG APPLE DESIGN"
                      ]
                    ],
                    [
                      [
                        "LUNCH BAG SPACEBOY DESIGN "
                      ],
                      [
                        "LUNCH BAG RED RETROSPOT"
                      ]
                    ],
                    [
                      [
                        "LUNCH BAG SPACEBOY DESIGN "
                      ],
                      [
                        "LUNCH BAG WOODLAND"
                      ]
                    ],
                    [
                      [
                        "PLASTERS IN TIN CIRCUS PARADE "
                      ],
                      [
                        "PLASTERS IN TIN SPACEBOY"
                      ]
                    ],
                    [
                      [
                        "STRAWBERRY LUNCH BOX WITH CUTLERY"
                      ],
                      [
                        "LUNCH BOX WITH CUTLERY RETROSPOT "
                      ]
                    ],
                    [
                      [
                        "LUNCH BAG APPLE DESIGN"
                      ],
                      [
                        "LUNCH BAG SPACEBOY DESIGN "
                      ]
                    ],
                    [
                      [
                        "LUNCH BAG APPLE DESIGN"
                      ],
                      [
                        "LUNCH BAG RED RETROSPOT"
                      ]
                    ]
                  ],
                  "hovertemplate": "support=%{x}<br>confidence=%{y}<br>antecedents_short=%{text}<br>antecedents=%{customdata[0]}<br>consequents=%{customdata[1]}<br>lift=%{marker.color}<extra></extra>",
                  "legendgroup": "",
                  "marker": {
                    "color": [
                      8.9895,
                      8.3236,
                      8.1956,
                      14.719,
                      8.1956,
                      14.719,
                      10.7409,
                      10.1901,
                      9.9037,
                      7.2031,
                      9.2944,
                      7.0923,
                      9.9037,
                      9.0331,
                      8.9895,
                      7.0923,
                      6.567,
                      5.1604,
                      7.2031,
                      5.1292,
                      8.5699,
                      6.567,
                      8.5699,
                      9.0331,
                      8.3236,
                      6.5857,
                      10.7409,
                      5.6577,
                      4.4645,
                      4.4374,
                      10.1901,
                      9.2944,
                      5.1292,
                      4.0474,
                      4.0474,
                      4.1879,
                      6.5857,
                      5.3129,
                      4.9942,
                      4.0936,
                      5.3129,
                      4.4374,
                      4.2124,
                      4.9942,
                      3.9298
                    ],
                    "coloraxis": "coloraxis",
                    "opacity": 0.5,
                    "symbol": "circle"
                  },
                  "mode": "markers+text",
                  "name": "",
                  "orientation": "v",
                  "showlegend": false,
                  "text": [
                    [
                      "SET/20 RED RETROSPOT PAPER NAPKINS ",
                      "SET/6 RED SPOTTY PAPER CUPS"
                    ],
                    [
                      "SET/20 RED RETROSPOT PAPER NAPKINS ",
                      "SET/6 RED SPOTTY PAPER PLATES"
                    ],
                    [
                      "SET/6 RED SPOTTY PAPER PLATES"
                    ],
                    [
                      "CHILDRENS CUTLERY SPACEBOY "
                    ],
                    [
                      "SET/6 RED SPOTTY PAPER CUPS"
                    ],
                    [
                      "CHILDRENS CUTLERY DOLLY GIRL "
                    ],
                    [
                      "ALARM CLOCK BAKELIKE GREEN",
                      "ALARM CLOCK BAKELIKE PINK"
                    ],
                    [
                      "ALARM CLOCK BAKELIKE RED ",
                      "ALARM CLOCK BAKELIKE PINK"
                    ],
                    [
                      "ALARM CLOCK BAKELIKE RED "
                    ],
                    [
                      "SET/6 RED SPOTTY PAPER CUPS",
                      "SET/6 RED SPOTTY PAPER PLATES"
                    ],
                    [
                      "ALARM CLOCK BAKELIKE RED ",
                      "ALARM CLOCK BAKELIKE GREEN"
                    ],
                    [
                      "SET/6 RED SPOTTY PAPER PLATES"
                    ],
                    [
                      "ALARM CLOCK BAKELIKE GREEN"
                    ],
                    [
                      "ALARM CLOCK BAKELIKE RED "
                    ],
                    [
                      "SET/6 RED SPOTTY PAPER PLATES"
                    ],
                    [
                      "SET/20 RED RETROSPOT PAPER NAPKINS "
                    ],
                    [
                      "SET/20 RED RETROSPOT PAPER NAPKINS "
                    ],
                    [
                      "PLASTERS IN TIN SPACEBOY",
                      "PLASTERS IN TIN CIRCUS PARADE "
                    ],
                    [
                      "SET/20 RED RETROSPOT PAPER NAPKINS "
                    ],
                    [
                      "PLASTERS IN TIN SPACEBOY"
                    ],
                    [
                      "ALARM CLOCK BAKELIKE GREEN"
                    ],
                    [
                      "SET/6 RED SPOTTY PAPER CUPS"
                    ],
                    [
                      "ALARM CLOCK BAKELIKE PINK"
                    ],
                    [
                      "ALARM CLOCK BAKELIKE PINK"
                    ],
                    [
                      "SET/6 RED SPOTTY PAPER CUPS"
                    ],
                    [
                      "DOLLY GIRL LUNCH BOX"
                    ],
                    [
                      "ALARM CLOCK BAKELIKE RED "
                    ],
                    [
                      "PLASTERS IN TIN WOODLAND ANIMALS",
                      "PLASTERS IN TIN CIRCUS PARADE "
                    ],
                    [
                      "PLASTERS IN TIN SPACEBOY",
                      "PLASTERS IN TIN WOODLAND ANIMALS"
                    ],
                    [
                      "PLASTERS IN TIN SPACEBOY"
                    ],
                    [
                      "ALARM CLOCK BAKELIKE GREEN"
                    ],
                    [
                      "ALARM CLOCK BAKELIKE PINK"
                    ],
                    [
                      "PLASTERS IN TIN WOODLAND ANIMALS"
                    ],
                    [
                      "PLASTERS IN TIN WOODLAND ANIMALS"
                    ],
                    [
                      "PLASTERS IN TIN CIRCUS PARADE "
                    ],
                    [
                      "ROUND SNACK BOXES SET OF 4 FRUITS "
                    ],
                    [
                      "SPACEBOY LUNCH BOX "
                    ],
                    [
                      "LUNCH BAG WOODLAND"
                    ],
                    [
                      "LUNCH BAG SPACEBOY DESIGN "
                    ],
                    [
                      "LUNCH BAG SPACEBOY DESIGN "
                    ],
                    [
                      "LUNCH BAG SPACEBOY DESIGN "
                    ],
                    [
                      "PLASTERS IN TIN CIRCUS PARADE "
                    ],
                    [
                      "STRAWBERRY LUNCH BOX WITH CUTLERY"
                    ],
                    [
                      "LUNCH BAG APPLE DESIGN"
                    ],
                    [
                      "LUNCH BAG APPLE DESIGN"
                    ]
                  ],
                  "x": [
                    0.0846,
                    0.0846,
                    0.1041,
                    0.0542,
                    0.1041,
                    0.0542,
                    0.0542,
                    0.0542,
                    0.0672,
                    0.0846,
                    0.0542,
                    0.0868,
                    0.0672,
                    0.0629,
                    0.0846,
                    0.0868,
                    0.0868,
                    0.0586,
                    0.0846,
                    0.0889,
                    0.0629,
                    0.0868,
                    0.0629,
                    0.0629,
                    0.0846,
                    0.0607,
                    0.0542,
                    0.0586,
                    0.0586,
                    0.0781,
                    0.0542,
                    0.0542,
                    0.0889,
                    0.0868,
                    0.0868,
                    0.0542,
                    0.0607,
                    0.0564,
                    0.0564,
                    0.0564,
                    0.0564,
                    0.0781,
                    0.0542,
                    0.0564,
                    0.0564
                  ],
                  "xaxis": "x",
                  "y": [
                    0.975,
                    0.975,
                    0.96,
                    0.9259,
                    0.8889,
                    0.8621,
                    0.8621,
                    0.8621,
                    0.8378,
                    0.8125,
                    0.8065,
                    0.8,
                    0.7949,
                    0.7838,
                    0.78,
                    0.7692,
                    0.7692,
                    0.75,
                    0.75,
                    0.7455,
                    0.7436,
                    0.7407,
                    0.725,
                    0.725,
                    0.7222,
                    0.7,
                    0.6757,
                    0.675,
                    0.6585,
                    0.6545,
                    0.641,
                    0.625,
                    0.6119,
                    0.597,
                    0.5882,
                    0.5814,
                    0.5714,
                    0.5532,
                    0.5417,
                    0.5417,
                    0.5417,
                    0.5294,
                    0.5208,
                    0.52,
                    0.52
                  ],
                  "yaxis": "y",
                  "type": "scatter",
                  "textposition": "top center"
                }
              ],
              "layout": {
                "template": {
                  "data": {
                    "histogram2dcontour": [
                      {
                        "type": "histogram2dcontour",
                        "colorbar": {
                          "outlinewidth": 0,
                          "ticks": ""
                        },
                        "colorscale": [
                          [
                            0,
                            "#0d0887"
                          ],
                          [
                            0.1111111111111111,
                            "#46039f"
                          ],
                          [
                            0.2222222222222222,
                            "#7201a8"
                          ],
                          [
                            0.3333333333333333,
                            "#9c179e"
                          ],
                          [
                            0.4444444444444444,
                            "#bd3786"
                          ],
                          [
                            0.5555555555555556,
                            "#d8576b"
                          ],
                          [
                            0.6666666666666666,
                            "#ed7953"
                          ],
                          [
                            0.7777777777777778,
                            "#fb9f3a"
                          ],
                          [
                            0.8888888888888888,
                            "#fdca26"
                          ],
                          [
                            1,
                            "#f0f921"
                          ]
                        ]
                      }
                    ],
                    "choropleth": [
                      {
                        "type": "choropleth",
                        "colorbar": {
                          "outlinewidth": 0,
                          "ticks": ""
                        }
                      }
                    ],
                    "histogram2d": [
                      {
                        "type": "histogram2d",
                        "colorbar": {
                          "outlinewidth": 0,
                          "ticks": ""
                        },
                        "colorscale": [
                          [
                            0,
                            "#0d0887"
                          ],
                          [
                            0.1111111111111111,
                            "#46039f"
                          ],
                          [
                            0.2222222222222222,
                            "#7201a8"
                          ],
                          [
                            0.3333333333333333,
                            "#9c179e"
                          ],
                          [
                            0.4444444444444444,
                            "#bd3786"
                          ],
                          [
                            0.5555555555555556,
                            "#d8576b"
                          ],
                          [
                            0.6666666666666666,
                            "#ed7953"
                          ],
                          [
                            0.7777777777777778,
                            "#fb9f3a"
                          ],
                          [
                            0.8888888888888888,
                            "#fdca26"
                          ],
                          [
                            1,
                            "#f0f921"
                          ]
                        ]
                      }
                    ],
                    "heatmap": [
                      {
                        "type": "heatmap",
                        "colorbar": {
                          "outlinewidth": 0,
                          "ticks": ""
                        },
                        "colorscale": [
                          [
                            0,
                            "#0d0887"
                          ],
                          [
                            0.1111111111111111,
                            "#46039f"
                          ],
                          [
                            0.2222222222222222,
                            "#7201a8"
                          ],
                          [
                            0.3333333333333333,
                            "#9c179e"
                          ],
                          [
                            0.4444444444444444,
                            "#bd3786"
                          ],
                          [
                            0.5555555555555556,
                            "#d8576b"
                          ],
                          [
                            0.6666666666666666,
                            "#ed7953"
                          ],
                          [
                            0.7777777777777778,
                            "#fb9f3a"
                          ],
                          [
                            0.8888888888888888,
                            "#fdca26"
                          ],
                          [
                            1,
                            "#f0f921"
                          ]
                        ]
                      }
                    ],
                    "heatmapgl": [
                      {
                        "type": "heatmapgl",
                        "colorbar": {
                          "outlinewidth": 0,
                          "ticks": ""
                        },
                        "colorscale": [
                          [
                            0,
                            "#0d0887"
                          ],
                          [
                            0.1111111111111111,
                            "#46039f"
                          ],
                          [
                            0.2222222222222222,
                            "#7201a8"
                          ],
                          [
                            0.3333333333333333,
                            "#9c179e"
                          ],
                          [
                            0.4444444444444444,
                            "#bd3786"
                          ],
                          [
                            0.5555555555555556,
                            "#d8576b"
                          ],
                          [
                            0.6666666666666666,
                            "#ed7953"
                          ],
                          [
                            0.7777777777777778,
                            "#fb9f3a"
                          ],
                          [
                            0.8888888888888888,
                            "#fdca26"
                          ],
                          [
                            1,
                            "#f0f921"
                          ]
                        ]
                      }
                    ],
                    "contourcarpet": [
                      {
                        "type": "contourcarpet",
                        "colorbar": {
                          "outlinewidth": 0,
                          "ticks": ""
                        }
                      }
                    ],
                    "contour": [
                      {
                        "type": "contour",
                        "colorbar": {
                          "outlinewidth": 0,
                          "ticks": ""
                        },
                        "colorscale": [
                          [
                            0,
                            "#0d0887"
                          ],
                          [
                            0.1111111111111111,
                            "#46039f"
                          ],
                          [
                            0.2222222222222222,
                            "#7201a8"
                          ],
                          [
                            0.3333333333333333,
                            "#9c179e"
                          ],
                          [
                            0.4444444444444444,
                            "#bd3786"
                          ],
                          [
                            0.5555555555555556,
                            "#d8576b"
                          ],
                          [
                            0.6666666666666666,
                            "#ed7953"
                          ],
                          [
                            0.7777777777777778,
                            "#fb9f3a"
                          ],
                          [
                            0.8888888888888888,
                            "#fdca26"
                          ],
                          [
                            1,
                            "#f0f921"
                          ]
                        ]
                      }
                    ],
                    "surface": [
                      {
                        "type": "surface",
                        "colorbar": {
                          "outlinewidth": 0,
                          "ticks": ""
                        },
                        "colorscale": [
                          [
                            0,
                            "#0d0887"
                          ],
                          [
                            0.1111111111111111,
                            "#46039f"
                          ],
                          [
                            0.2222222222222222,
                            "#7201a8"
                          ],
                          [
                            0.3333333333333333,
                            "#9c179e"
                          ],
                          [
                            0.4444444444444444,
                            "#bd3786"
                          ],
                          [
                            0.5555555555555556,
                            "#d8576b"
                          ],
                          [
                            0.6666666666666666,
                            "#ed7953"
                          ],
                          [
                            0.7777777777777778,
                            "#fb9f3a"
                          ],
                          [
                            0.8888888888888888,
                            "#fdca26"
                          ],
                          [
                            1,
                            "#f0f921"
                          ]
                        ]
                      }
                    ],
                    "mesh3d": [
                      {
                        "type": "mesh3d",
                        "colorbar": {
                          "outlinewidth": 0,
                          "ticks": ""
                        }
                      }
                    ],
                    "scatter": [
                      {
                        "fillpattern": {
                          "fillmode": "overlay",
                          "size": 10,
                          "solidity": 0.2
                        },
                        "type": "scatter"
                      }
                    ],
                    "parcoords": [
                      {
                        "type": "parcoords",
                        "line": {
                          "colorbar": {
                            "outlinewidth": 0,
                            "ticks": ""
                          }
                        }
                      }
                    ],
                    "scatterpolargl": [
                      {
                        "type": "scatterpolargl",
                        "marker": {
                          "colorbar": {
                            "outlinewidth": 0,
                            "ticks": ""
                          }
                        }
                      }
                    ],
                    "bar": [
                      {
                        "error_x": {
                          "color": "#2a3f5f"
                        },
                        "error_y": {
                          "color": "#2a3f5f"
                        },
                        "marker": {
                          "line": {
                            "color": "#E5ECF6",
                            "width": 0.5
                          },
                          "pattern": {
                            "fillmode": "overlay",
                            "size": 10,
                            "solidity": 0.2
                          }
                        },
                        "type": "bar"
                      }
                    ],
                    "scattergeo": [
                      {
                        "type": "scattergeo",
                        "marker": {
                          "colorbar": {
                            "outlinewidth": 0,
                            "ticks": ""
                          }
                        }
                      }
                    ],
                    "scatterpolar": [
                      {
                        "type": "scatterpolar",
                        "marker": {
                          "colorbar": {
                            "outlinewidth": 0,
                            "ticks": ""
                          }
                        }
                      }
                    ],
                    "histogram": [
                      {
                        "marker": {
                          "pattern": {
                            "fillmode": "overlay",
                            "size": 10,
                            "solidity": 0.2
                          }
                        },
                        "type": "histogram"
                      }
                    ],
                    "scattergl": [
                      {
                        "type": "scattergl",
                        "marker": {
                          "colorbar": {
                            "outlinewidth": 0,
                            "ticks": ""
                          }
                        }
                      }
                    ],
                    "scatter3d": [
                      {
                        "type": "scatter3d",
                        "line": {
                          "colorbar": {
                            "outlinewidth": 0,
                            "ticks": ""
                          }
                        },
                        "marker": {
                          "colorbar": {
                            "outlinewidth": 0,
                            "ticks": ""
                          }
                        }
                      }
                    ],
                    "scattermapbox": [
                      {
                        "type": "scattermapbox",
                        "marker": {
                          "colorbar": {
                            "outlinewidth": 0,
                            "ticks": ""
                          }
                        }
                      }
                    ],
                    "scatterternary": [
                      {
                        "type": "scatterternary",
                        "marker": {
                          "colorbar": {
                            "outlinewidth": 0,
                            "ticks": ""
                          }
                        }
                      }
                    ],
                    "scattercarpet": [
                      {
                        "type": "scattercarpet",
                        "marker": {
                          "colorbar": {
                            "outlinewidth": 0,
                            "ticks": ""
                          }
                        }
                      }
                    ],
                    "carpet": [
                      {
                        "aaxis": {
                          "endlinecolor": "#2a3f5f",
                          "gridcolor": "white",
                          "linecolor": "white",
                          "minorgridcolor": "white",
                          "startlinecolor": "#2a3f5f"
                        },
                        "baxis": {
                          "endlinecolor": "#2a3f5f",
                          "gridcolor": "white",
                          "linecolor": "white",
                          "minorgridcolor": "white",
                          "startlinecolor": "#2a3f5f"
                        },
                        "type": "carpet"
                      }
                    ],
                    "table": [
                      {
                        "cells": {
                          "fill": {
                            "color": "#EBF0F8"
                          },
                          "line": {
                            "color": "white"
                          }
                        },
                        "header": {
                          "fill": {
                            "color": "#C8D4E3"
                          },
                          "line": {
                            "color": "white"
                          }
                        },
                        "type": "table"
                      }
                    ],
                    "barpolar": [
                      {
                        "marker": {
                          "line": {
                            "color": "#E5ECF6",
                            "width": 0.5
                          },
                          "pattern": {
                            "fillmode": "overlay",
                            "size": 10,
                            "solidity": 0.2
                          }
                        },
                        "type": "barpolar"
                      }
                    ],
                    "pie": [
                      {
                        "automargin": true,
                        "type": "pie"
                      }
                    ]
                  },
                  "layout": {
                    "autotypenumbers": "strict",
                    "colorway": [
                      "#636efa",
                      "#EF553B",
                      "#00cc96",
                      "#ab63fa",
                      "#FFA15A",
                      "#19d3f3",
                      "#FF6692",
                      "#B6E880",
                      "#FF97FF",
                      "#FECB52"
                    ],
                    "font": {
                      "color": "#2a3f5f"
                    },
                    "hovermode": "closest",
                    "hoverlabel": {
                      "align": "left"
                    },
                    "paper_bgcolor": "white",
                    "plot_bgcolor": "#E5ECF6",
                    "polar": {
                      "bgcolor": "#E5ECF6",
                      "angularaxis": {
                        "gridcolor": "white",
                        "linecolor": "white",
                        "ticks": ""
                      },
                      "radialaxis": {
                        "gridcolor": "white",
                        "linecolor": "white",
                        "ticks": ""
                      }
                    },
                    "ternary": {
                      "bgcolor": "#E5ECF6",
                      "aaxis": {
                        "gridcolor": "white",
                        "linecolor": "white",
                        "ticks": ""
                      },
                      "baxis": {
                        "gridcolor": "white",
                        "linecolor": "white",
                        "ticks": ""
                      },
                      "caxis": {
                        "gridcolor": "white",
                        "linecolor": "white",
                        "ticks": ""
                      }
                    },
                    "coloraxis": {
                      "colorbar": {
                        "outlinewidth": 0,
                        "ticks": ""
                      }
                    },
                    "colorscale": {
                      "sequential": [
                        [
                          0,
                          "#0d0887"
                        ],
                        [
                          0.1111111111111111,
                          "#46039f"
                        ],
                        [
                          0.2222222222222222,
                          "#7201a8"
                        ],
                        [
                          0.3333333333333333,
                          "#9c179e"
                        ],
                        [
                          0.4444444444444444,
                          "#bd3786"
                        ],
                        [
                          0.5555555555555556,
                          "#d8576b"
                        ],
                        [
                          0.6666666666666666,
                          "#ed7953"
                        ],
                        [
                          0.7777777777777778,
                          "#fb9f3a"
                        ],
                        [
                          0.8888888888888888,
                          "#fdca26"
                        ],
                        [
                          1,
                          "#f0f921"
                        ]
                      ],
                      "sequentialminus": [
                        [
                          0,
                          "#0d0887"
                        ],
                        [
                          0.1111111111111111,
                          "#46039f"
                        ],
                        [
                          0.2222222222222222,
                          "#7201a8"
                        ],
                        [
                          0.3333333333333333,
                          "#9c179e"
                        ],
                        [
                          0.4444444444444444,
                          "#bd3786"
                        ],
                        [
                          0.5555555555555556,
                          "#d8576b"
                        ],
                        [
                          0.6666666666666666,
                          "#ed7953"
                        ],
                        [
                          0.7777777777777778,
                          "#fb9f3a"
                        ],
                        [
                          0.8888888888888888,
                          "#fdca26"
                        ],
                        [
                          1,
                          "#f0f921"
                        ]
                      ],
                      "diverging": [
                        [
                          0,
                          "#8e0152"
                        ],
                        [
                          0.1,
                          "#c51b7d"
                        ],
                        [
                          0.2,
                          "#de77ae"
                        ],
                        [
                          0.3,
                          "#f1b6da"
                        ],
                        [
                          0.4,
                          "#fde0ef"
                        ],
                        [
                          0.5,
                          "#f7f7f7"
                        ],
                        [
                          0.6,
                          "#e6f5d0"
                        ],
                        [
                          0.7,
                          "#b8e186"
                        ],
                        [
                          0.8,
                          "#7fbc41"
                        ],
                        [
                          0.9,
                          "#4d9221"
                        ],
                        [
                          1,
                          "#276419"
                        ]
                      ]
                    },
                    "xaxis": {
                      "gridcolor": "white",
                      "linecolor": "white",
                      "ticks": "",
                      "title": {
                        "standoff": 15
                      },
                      "zerolinecolor": "white",
                      "automargin": true,
                      "zerolinewidth": 2
                    },
                    "yaxis": {
                      "gridcolor": "white",
                      "linecolor": "white",
                      "ticks": "",
                      "title": {
                        "standoff": 15
                      },
                      "zerolinecolor": "white",
                      "automargin": true,
                      "zerolinewidth": 2
                    },
                    "scene": {
                      "xaxis": {
                        "backgroundcolor": "#E5ECF6",
                        "gridcolor": "white",
                        "linecolor": "white",
                        "showbackground": true,
                        "ticks": "",
                        "zerolinecolor": "white",
                        "gridwidth": 2
                      },
                      "yaxis": {
                        "backgroundcolor": "#E5ECF6",
                        "gridcolor": "white",
                        "linecolor": "white",
                        "showbackground": true,
                        "ticks": "",
                        "zerolinecolor": "white",
                        "gridwidth": 2
                      },
                      "zaxis": {
                        "backgroundcolor": "#E5ECF6",
                        "gridcolor": "white",
                        "linecolor": "white",
                        "showbackground": true,
                        "ticks": "",
                        "zerolinecolor": "white",
                        "gridwidth": 2
                      }
                    },
                    "shapedefaults": {
                      "line": {
                        "color": "#2a3f5f"
                      }
                    },
                    "annotationdefaults": {
                      "arrowcolor": "#2a3f5f",
                      "arrowhead": 0,
                      "arrowwidth": 1
                    },
                    "geo": {
                      "bgcolor": "white",
                      "landcolor": "#E5ECF6",
                      "subunitcolor": "white",
                      "showland": true,
                      "showlakes": true,
                      "lakecolor": "white"
                    },
                    "title": {
                      "x": 0.05
                    },
                    "mapbox": {
                      "style": "light"
                    }
                  }
                },
                "xaxis": {
                  "anchor": "y",
                  "domain": [
                    0,
                    1
                  ],
                  "title": {
                    "text": "support"
                  },
                  "type": "log"
                },
                "yaxis": {
                  "anchor": "x",
                  "domain": [
                    0,
                    1
                  ],
                  "title": {
                    "text": "confidence"
                  }
                },
                "coloraxis": {
                  "colorbar": {
                    "title": {
                      "text": "lift"
                    }
                  },
                  "colorscale": [
                    [
                      0,
                      "#0d0887"
                    ],
                    [
                      0.1111111111111111,
                      "#46039f"
                    ],
                    [
                      0.2222222222222222,
                      "#7201a8"
                    ],
                    [
                      0.3333333333333333,
                      "#9c179e"
                    ],
                    [
                      0.4444444444444444,
                      "#bd3786"
                    ],
                    [
                      0.5555555555555556,
                      "#d8576b"
                    ],
                    [
                      0.6666666666666666,
                      "#ed7953"
                    ],
                    [
                      0.7777777777777778,
                      "#fb9f3a"
                    ],
                    [
                      0.8888888888888888,
                      "#fdca26"
                    ],
                    [
                      1,
                      "#f0f921"
                    ]
                  ]
                },
                "legend": {
                  "tracegroupgap": 0
                },
                "margin": {
                  "t": 60
                },
                "plot_bgcolor": "rgb(240,240,240)",
                "title": {
                  "text": "2D Plot of Support, Confidence and Lift"
                },
                "height": 800
              },
              "config": {
                "plotlyServerURL": "https://plot.ly"
              }
            },
            "text/html": [
              "<div>                            <div id=\"becd74b7-b738-4499-b72b-1d0a7a32e9e9\" class=\"plotly-graph-div\" style=\"height:800px; width:100%;\"></div>            <script type=\"text/javascript\">                require([\"plotly\"], function(Plotly) {                    window.PLOTLYENV=window.PLOTLYENV || {};                                    if (document.getElementById(\"becd74b7-b738-4499-b72b-1d0a7a32e9e9\")) {                    Plotly.newPlot(                        \"becd74b7-b738-4499-b72b-1d0a7a32e9e9\",                        [{\"customdata\":[[[\"SET\\u002f20 RED RETROSPOT PAPER NAPKINS \",\"SET\\u002f6 RED SPOTTY PAPER CUPS\"],[\"SET\\u002f6 RED SPOTTY PAPER PLATES\"]],[[\"SET\\u002f20 RED RETROSPOT PAPER NAPKINS \",\"SET\\u002f6 RED SPOTTY PAPER PLATES\"],[\"SET\\u002f6 RED SPOTTY PAPER CUPS\"]],[[\"SET\\u002f6 RED SPOTTY PAPER PLATES\"],[\"SET\\u002f6 RED SPOTTY PAPER CUPS\"]],[[\"CHILDRENS CUTLERY SPACEBOY \"],[\"CHILDRENS CUTLERY DOLLY GIRL \"]],[[\"SET\\u002f6 RED SPOTTY PAPER CUPS\"],[\"SET\\u002f6 RED SPOTTY PAPER PLATES\"]],[[\"CHILDRENS CUTLERY DOLLY GIRL \"],[\"CHILDRENS CUTLERY SPACEBOY \"]],[[\"ALARM CLOCK BAKELIKE GREEN\",\"ALARM CLOCK BAKELIKE PINK\"],[\"ALARM CLOCK BAKELIKE RED \"]],[[\"ALARM CLOCK BAKELIKE RED \",\"ALARM CLOCK BAKELIKE PINK\"],[\"ALARM CLOCK BAKELIKE GREEN\"]],[[\"ALARM CLOCK BAKELIKE RED \"],[\"ALARM CLOCK BAKELIKE GREEN\"]],[[\"SET\\u002f6 RED SPOTTY PAPER CUPS\",\"SET\\u002f6 RED SPOTTY PAPER PLATES\"],[\"SET\\u002f20 RED RETROSPOT PAPER NAPKINS \"]],[[\"ALARM CLOCK BAKELIKE RED \",\"ALARM CLOCK BAKELIKE GREEN\"],[\"ALARM CLOCK BAKELIKE PINK\"]],[[\"SET\\u002f6 RED SPOTTY PAPER PLATES\"],[\"SET\\u002f20 RED RETROSPOT PAPER NAPKINS \"]],[[\"ALARM CLOCK BAKELIKE GREEN\"],[\"ALARM CLOCK BAKELIKE RED \"]],[[\"ALARM CLOCK BAKELIKE RED \"],[\"ALARM CLOCK BAKELIKE PINK\"]],[[\"SET\\u002f6 RED SPOTTY PAPER PLATES\"],[\"SET\\u002f20 RED RETROSPOT PAPER NAPKINS \",\"SET\\u002f6 RED SPOTTY PAPER CUPS\"]],[[\"SET\\u002f20 RED RETROSPOT PAPER NAPKINS \"],[\"SET\\u002f6 RED SPOTTY PAPER PLATES\"]],[[\"SET\\u002f20 RED RETROSPOT PAPER NAPKINS \"],[\"SET\\u002f6 RED SPOTTY PAPER CUPS\"]],[[\"PLASTERS IN TIN SPACEBOY\",\"PLASTERS IN TIN CIRCUS PARADE \"],[\"PLASTERS IN TIN WOODLAND ANIMALS\"]],[[\"SET\\u002f20 RED RETROSPOT PAPER NAPKINS \"],[\"SET\\u002f6 RED SPOTTY PAPER CUPS\",\"SET\\u002f6 RED SPOTTY PAPER PLATES\"]],[[\"PLASTERS IN TIN SPACEBOY\"],[\"PLASTERS IN TIN WOODLAND ANIMALS\"]],[[\"ALARM CLOCK BAKELIKE GREEN\"],[\"ALARM CLOCK BAKELIKE PINK\"]],[[\"SET\\u002f6 RED SPOTTY PAPER CUPS\"],[\"SET\\u002f20 RED RETROSPOT PAPER NAPKINS \"]],[[\"ALARM CLOCK BAKELIKE PINK\"],[\"ALARM CLOCK BAKELIKE GREEN\"]],[[\"ALARM CLOCK BAKELIKE PINK\"],[\"ALARM CLOCK BAKELIKE RED \"]],[[\"SET\\u002f6 RED SPOTTY PAPER CUPS\"],[\"SET\\u002f20 RED RETROSPOT PAPER NAPKINS \",\"SET\\u002f6 RED SPOTTY PAPER PLATES\"]],[[\"DOLLY GIRL LUNCH BOX\"],[\"SPACEBOY LUNCH BOX \"]],[[\"ALARM CLOCK BAKELIKE RED \"],[\"ALARM CLOCK BAKELIKE GREEN\",\"ALARM CLOCK BAKELIKE PINK\"]],[[\"PLASTERS IN TIN WOODLAND ANIMALS\",\"PLASTERS IN TIN CIRCUS PARADE \"],[\"PLASTERS IN TIN SPACEBOY\"]],[[\"PLASTERS IN TIN SPACEBOY\",\"PLASTERS IN TIN WOODLAND ANIMALS\"],[\"PLASTERS IN TIN CIRCUS PARADE \"]],[[\"PLASTERS IN TIN SPACEBOY\"],[\"PLASTERS IN TIN CIRCUS PARADE \"]],[[\"ALARM CLOCK BAKELIKE GREEN\"],[\"ALARM CLOCK BAKELIKE RED \",\"ALARM CLOCK BAKELIKE PINK\"]],[[\"ALARM CLOCK BAKELIKE PINK\"],[\"ALARM CLOCK BAKELIKE RED \",\"ALARM CLOCK BAKELIKE GREEN\"]],[[\"PLASTERS IN TIN WOODLAND ANIMALS\"],[\"PLASTERS IN TIN SPACEBOY\"]],[[\"PLASTERS IN TIN WOODLAND ANIMALS\"],[\"PLASTERS IN TIN CIRCUS PARADE \"]],[[\"PLASTERS IN TIN CIRCUS PARADE \"],[\"PLASTERS IN TIN WOODLAND ANIMALS\"]],[[\"ROUND SNACK BOXES SET OF 4 FRUITS \"],[\"ROUND SNACK BOXES SET OF4 WOODLAND \"]],[[\"SPACEBOY LUNCH BOX \"],[\"DOLLY GIRL LUNCH BOX\"]],[[\"LUNCH BAG WOODLAND\"],[\"LUNCH BAG SPACEBOY DESIGN \"]],[[\"LUNCH BAG SPACEBOY DESIGN \"],[\"LUNCH BAG APPLE DESIGN\"]],[[\"LUNCH BAG SPACEBOY DESIGN \"],[\"LUNCH BAG RED RETROSPOT\"]],[[\"LUNCH BAG SPACEBOY DESIGN \"],[\"LUNCH BAG WOODLAND\"]],[[\"PLASTERS IN TIN CIRCUS PARADE \"],[\"PLASTERS IN TIN SPACEBOY\"]],[[\"STRAWBERRY LUNCH BOX WITH CUTLERY\"],[\"LUNCH BOX WITH CUTLERY RETROSPOT \"]],[[\"LUNCH BAG APPLE DESIGN\"],[\"LUNCH BAG SPACEBOY DESIGN \"]],[[\"LUNCH BAG APPLE DESIGN\"],[\"LUNCH BAG RED RETROSPOT\"]]],\"hovertemplate\":\"support=%{x}\\u003cbr\\u003econfidence=%{y}\\u003cbr\\u003eantecedents_short=%{text}\\u003cbr\\u003eantecedents=%{customdata[0]}\\u003cbr\\u003econsequents=%{customdata[1]}\\u003cbr\\u003elift=%{marker.color}\\u003cextra\\u003e\\u003c\\u002fextra\\u003e\",\"legendgroup\":\"\",\"marker\":{\"color\":[8.9895,8.3236,8.1956,14.719,8.1956,14.719,10.7409,10.1901,9.9037,7.2031,9.2944,7.0923,9.9037,9.0331,8.9895,7.0923,6.567,5.1604,7.2031,5.1292,8.5699,6.567,8.5699,9.0331,8.3236,6.5857,10.7409,5.6577,4.4645,4.4374,10.1901,9.2944,5.1292,4.0474,4.0474,4.1879,6.5857,5.3129,4.9942,4.0936,5.3129,4.4374,4.2124,4.9942,3.9298],\"coloraxis\":\"coloraxis\",\"opacity\":0.5,\"symbol\":\"circle\"},\"mode\":\"markers+text\",\"name\":\"\",\"orientation\":\"v\",\"showlegend\":false,\"text\":[[\"SET\\u002f20 RED RETROSPOT PAPER NAPKINS \",\"SET\\u002f6 RED SPOTTY PAPER CUPS\"],[\"SET\\u002f20 RED RETROSPOT PAPER NAPKINS \",\"SET\\u002f6 RED SPOTTY PAPER PLATES\"],[\"SET\\u002f6 RED SPOTTY PAPER PLATES\"],[\"CHILDRENS CUTLERY SPACEBOY \"],[\"SET\\u002f6 RED SPOTTY PAPER CUPS\"],[\"CHILDRENS CUTLERY DOLLY GIRL \"],[\"ALARM CLOCK BAKELIKE GREEN\",\"ALARM CLOCK BAKELIKE PINK\"],[\"ALARM CLOCK BAKELIKE RED \",\"ALARM CLOCK BAKELIKE PINK\"],[\"ALARM CLOCK BAKELIKE RED \"],[\"SET\\u002f6 RED SPOTTY PAPER CUPS\",\"SET\\u002f6 RED SPOTTY PAPER PLATES\"],[\"ALARM CLOCK BAKELIKE RED \",\"ALARM CLOCK BAKELIKE GREEN\"],[\"SET\\u002f6 RED SPOTTY PAPER PLATES\"],[\"ALARM CLOCK BAKELIKE GREEN\"],[\"ALARM CLOCK BAKELIKE RED \"],[\"SET\\u002f6 RED SPOTTY PAPER PLATES\"],[\"SET\\u002f20 RED RETROSPOT PAPER NAPKINS \"],[\"SET\\u002f20 RED RETROSPOT PAPER NAPKINS \"],[\"PLASTERS IN TIN SPACEBOY\",\"PLASTERS IN TIN CIRCUS PARADE \"],[\"SET\\u002f20 RED RETROSPOT PAPER NAPKINS \"],[\"PLASTERS IN TIN SPACEBOY\"],[\"ALARM CLOCK BAKELIKE GREEN\"],[\"SET\\u002f6 RED SPOTTY PAPER CUPS\"],[\"ALARM CLOCK BAKELIKE PINK\"],[\"ALARM CLOCK BAKELIKE PINK\"],[\"SET\\u002f6 RED SPOTTY PAPER CUPS\"],[\"DOLLY GIRL LUNCH BOX\"],[\"ALARM CLOCK BAKELIKE RED \"],[\"PLASTERS IN TIN WOODLAND ANIMALS\",\"PLASTERS IN TIN CIRCUS PARADE \"],[\"PLASTERS IN TIN SPACEBOY\",\"PLASTERS IN TIN WOODLAND ANIMALS\"],[\"PLASTERS IN TIN SPACEBOY\"],[\"ALARM CLOCK BAKELIKE GREEN\"],[\"ALARM CLOCK BAKELIKE PINK\"],[\"PLASTERS IN TIN WOODLAND ANIMALS\"],[\"PLASTERS IN TIN WOODLAND ANIMALS\"],[\"PLASTERS IN TIN CIRCUS PARADE \"],[\"ROUND SNACK BOXES SET OF 4 FRUITS \"],[\"SPACEBOY LUNCH BOX \"],[\"LUNCH BAG WOODLAND\"],[\"LUNCH BAG SPACEBOY DESIGN \"],[\"LUNCH BAG SPACEBOY DESIGN \"],[\"LUNCH BAG SPACEBOY DESIGN \"],[\"PLASTERS IN TIN CIRCUS PARADE \"],[\"STRAWBERRY LUNCH BOX WITH CUTLERY\"],[\"LUNCH BAG APPLE DESIGN\"],[\"LUNCH BAG APPLE DESIGN\"]],\"x\":[0.0846,0.0846,0.1041,0.0542,0.1041,0.0542,0.0542,0.0542,0.0672,0.0846,0.0542,0.0868,0.0672,0.0629,0.0846,0.0868,0.0868,0.0586,0.0846,0.0889,0.0629,0.0868,0.0629,0.0629,0.0846,0.0607,0.0542,0.0586,0.0586,0.0781,0.0542,0.0542,0.0889,0.0868,0.0868,0.0542,0.0607,0.0564,0.0564,0.0564,0.0564,0.0781,0.0542,0.0564,0.0564],\"xaxis\":\"x\",\"y\":[0.975,0.975,0.96,0.9259,0.8889,0.8621,0.8621,0.8621,0.8378,0.8125,0.8065,0.8,0.7949,0.7838,0.78,0.7692,0.7692,0.75,0.75,0.7455,0.7436,0.7407,0.725,0.725,0.7222,0.7,0.6757,0.675,0.6585,0.6545,0.641,0.625,0.6119,0.597,0.5882,0.5814,0.5714,0.5532,0.5417,0.5417,0.5417,0.5294,0.5208,0.52,0.52],\"yaxis\":\"y\",\"type\":\"scatter\",\"textposition\":\"top center\"}],                        {\"template\":{\"data\":{\"histogram2dcontour\":[{\"type\":\"histogram2dcontour\",\"colorbar\":{\"outlinewidth\":0,\"ticks\":\"\"},\"colorscale\":[[0.0,\"#0d0887\"],[0.1111111111111111,\"#46039f\"],[0.2222222222222222,\"#7201a8\"],[0.3333333333333333,\"#9c179e\"],[0.4444444444444444,\"#bd3786\"],[0.5555555555555556,\"#d8576b\"],[0.6666666666666666,\"#ed7953\"],[0.7777777777777778,\"#fb9f3a\"],[0.8888888888888888,\"#fdca26\"],[1.0,\"#f0f921\"]]}],\"choropleth\":[{\"type\":\"choropleth\",\"colorbar\":{\"outlinewidth\":0,\"ticks\":\"\"}}],\"histogram2d\":[{\"type\":\"histogram2d\",\"colorbar\":{\"outlinewidth\":0,\"ticks\":\"\"},\"colorscale\":[[0.0,\"#0d0887\"],[0.1111111111111111,\"#46039f\"],[0.2222222222222222,\"#7201a8\"],[0.3333333333333333,\"#9c179e\"],[0.4444444444444444,\"#bd3786\"],[0.5555555555555556,\"#d8576b\"],[0.6666666666666666,\"#ed7953\"],[0.7777777777777778,\"#fb9f3a\"],[0.8888888888888888,\"#fdca26\"],[1.0,\"#f0f921\"]]}],\"heatmap\":[{\"type\":\"heatmap\",\"colorbar\":{\"outlinewidth\":0,\"ticks\":\"\"},\"colorscale\":[[0.0,\"#0d0887\"],[0.1111111111111111,\"#46039f\"],[0.2222222222222222,\"#7201a8\"],[0.3333333333333333,\"#9c179e\"],[0.4444444444444444,\"#bd3786\"],[0.5555555555555556,\"#d8576b\"],[0.6666666666666666,\"#ed7953\"],[0.7777777777777778,\"#fb9f3a\"],[0.8888888888888888,\"#fdca26\"],[1.0,\"#f0f921\"]]}],\"heatmapgl\":[{\"type\":\"heatmapgl\",\"colorbar\":{\"outlinewidth\":0,\"ticks\":\"\"},\"colorscale\":[[0.0,\"#0d0887\"],[0.1111111111111111,\"#46039f\"],[0.2222222222222222,\"#7201a8\"],[0.3333333333333333,\"#9c179e\"],[0.4444444444444444,\"#bd3786\"],[0.5555555555555556,\"#d8576b\"],[0.6666666666666666,\"#ed7953\"],[0.7777777777777778,\"#fb9f3a\"],[0.8888888888888888,\"#fdca26\"],[1.0,\"#f0f921\"]]}],\"contourcarpet\":[{\"type\":\"contourcarpet\",\"colorbar\":{\"outlinewidth\":0,\"ticks\":\"\"}}],\"contour\":[{\"type\":\"contour\",\"colorbar\":{\"outlinewidth\":0,\"ticks\":\"\"},\"colorscale\":[[0.0,\"#0d0887\"],[0.1111111111111111,\"#46039f\"],[0.2222222222222222,\"#7201a8\"],[0.3333333333333333,\"#9c179e\"],[0.4444444444444444,\"#bd3786\"],[0.5555555555555556,\"#d8576b\"],[0.6666666666666666,\"#ed7953\"],[0.7777777777777778,\"#fb9f3a\"],[0.8888888888888888,\"#fdca26\"],[1.0,\"#f0f921\"]]}],\"surface\":[{\"type\":\"surface\",\"colorbar\":{\"outlinewidth\":0,\"ticks\":\"\"},\"colorscale\":[[0.0,\"#0d0887\"],[0.1111111111111111,\"#46039f\"],[0.2222222222222222,\"#7201a8\"],[0.3333333333333333,\"#9c179e\"],[0.4444444444444444,\"#bd3786\"],[0.5555555555555556,\"#d8576b\"],[0.6666666666666666,\"#ed7953\"],[0.7777777777777778,\"#fb9f3a\"],[0.8888888888888888,\"#fdca26\"],[1.0,\"#f0f921\"]]}],\"mesh3d\":[{\"type\":\"mesh3d\",\"colorbar\":{\"outlinewidth\":0,\"ticks\":\"\"}}],\"scatter\":[{\"fillpattern\":{\"fillmode\":\"overlay\",\"size\":10,\"solidity\":0.2},\"type\":\"scatter\"}],\"parcoords\":[{\"type\":\"parcoords\",\"line\":{\"colorbar\":{\"outlinewidth\":0,\"ticks\":\"\"}}}],\"scatterpolargl\":[{\"type\":\"scatterpolargl\",\"marker\":{\"colorbar\":{\"outlinewidth\":0,\"ticks\":\"\"}}}],\"bar\":[{\"error_x\":{\"color\":\"#2a3f5f\"},\"error_y\":{\"color\":\"#2a3f5f\"},\"marker\":{\"line\":{\"color\":\"#E5ECF6\",\"width\":0.5},\"pattern\":{\"fillmode\":\"overlay\",\"size\":10,\"solidity\":0.2}},\"type\":\"bar\"}],\"scattergeo\":[{\"type\":\"scattergeo\",\"marker\":{\"colorbar\":{\"outlinewidth\":0,\"ticks\":\"\"}}}],\"scatterpolar\":[{\"type\":\"scatterpolar\",\"marker\":{\"colorbar\":{\"outlinewidth\":0,\"ticks\":\"\"}}}],\"histogram\":[{\"marker\":{\"pattern\":{\"fillmode\":\"overlay\",\"size\":10,\"solidity\":0.2}},\"type\":\"histogram\"}],\"scattergl\":[{\"type\":\"scattergl\",\"marker\":{\"colorbar\":{\"outlinewidth\":0,\"ticks\":\"\"}}}],\"scatter3d\":[{\"type\":\"scatter3d\",\"line\":{\"colorbar\":{\"outlinewidth\":0,\"ticks\":\"\"}},\"marker\":{\"colorbar\":{\"outlinewidth\":0,\"ticks\":\"\"}}}],\"scattermapbox\":[{\"type\":\"scattermapbox\",\"marker\":{\"colorbar\":{\"outlinewidth\":0,\"ticks\":\"\"}}}],\"scatterternary\":[{\"type\":\"scatterternary\",\"marker\":{\"colorbar\":{\"outlinewidth\":0,\"ticks\":\"\"}}}],\"scattercarpet\":[{\"type\":\"scattercarpet\",\"marker\":{\"colorbar\":{\"outlinewidth\":0,\"ticks\":\"\"}}}],\"carpet\":[{\"aaxis\":{\"endlinecolor\":\"#2a3f5f\",\"gridcolor\":\"white\",\"linecolor\":\"white\",\"minorgridcolor\":\"white\",\"startlinecolor\":\"#2a3f5f\"},\"baxis\":{\"endlinecolor\":\"#2a3f5f\",\"gridcolor\":\"white\",\"linecolor\":\"white\",\"minorgridcolor\":\"white\",\"startlinecolor\":\"#2a3f5f\"},\"type\":\"carpet\"}],\"table\":[{\"cells\":{\"fill\":{\"color\":\"#EBF0F8\"},\"line\":{\"color\":\"white\"}},\"header\":{\"fill\":{\"color\":\"#C8D4E3\"},\"line\":{\"color\":\"white\"}},\"type\":\"table\"}],\"barpolar\":[{\"marker\":{\"line\":{\"color\":\"#E5ECF6\",\"width\":0.5},\"pattern\":{\"fillmode\":\"overlay\",\"size\":10,\"solidity\":0.2}},\"type\":\"barpolar\"}],\"pie\":[{\"automargin\":true,\"type\":\"pie\"}]},\"layout\":{\"autotypenumbers\":\"strict\",\"colorway\":[\"#636efa\",\"#EF553B\",\"#00cc96\",\"#ab63fa\",\"#FFA15A\",\"#19d3f3\",\"#FF6692\",\"#B6E880\",\"#FF97FF\",\"#FECB52\"],\"font\":{\"color\":\"#2a3f5f\"},\"hovermode\":\"closest\",\"hoverlabel\":{\"align\":\"left\"},\"paper_bgcolor\":\"white\",\"plot_bgcolor\":\"#E5ECF6\",\"polar\":{\"bgcolor\":\"#E5ECF6\",\"angularaxis\":{\"gridcolor\":\"white\",\"linecolor\":\"white\",\"ticks\":\"\"},\"radialaxis\":{\"gridcolor\":\"white\",\"linecolor\":\"white\",\"ticks\":\"\"}},\"ternary\":{\"bgcolor\":\"#E5ECF6\",\"aaxis\":{\"gridcolor\":\"white\",\"linecolor\":\"white\",\"ticks\":\"\"},\"baxis\":{\"gridcolor\":\"white\",\"linecolor\":\"white\",\"ticks\":\"\"},\"caxis\":{\"gridcolor\":\"white\",\"linecolor\":\"white\",\"ticks\":\"\"}},\"coloraxis\":{\"colorbar\":{\"outlinewidth\":0,\"ticks\":\"\"}},\"colorscale\":{\"sequential\":[[0.0,\"#0d0887\"],[0.1111111111111111,\"#46039f\"],[0.2222222222222222,\"#7201a8\"],[0.3333333333333333,\"#9c179e\"],[0.4444444444444444,\"#bd3786\"],[0.5555555555555556,\"#d8576b\"],[0.6666666666666666,\"#ed7953\"],[0.7777777777777778,\"#fb9f3a\"],[0.8888888888888888,\"#fdca26\"],[1.0,\"#f0f921\"]],\"sequentialminus\":[[0.0,\"#0d0887\"],[0.1111111111111111,\"#46039f\"],[0.2222222222222222,\"#7201a8\"],[0.3333333333333333,\"#9c179e\"],[0.4444444444444444,\"#bd3786\"],[0.5555555555555556,\"#d8576b\"],[0.6666666666666666,\"#ed7953\"],[0.7777777777777778,\"#fb9f3a\"],[0.8888888888888888,\"#fdca26\"],[1.0,\"#f0f921\"]],\"diverging\":[[0,\"#8e0152\"],[0.1,\"#c51b7d\"],[0.2,\"#de77ae\"],[0.3,\"#f1b6da\"],[0.4,\"#fde0ef\"],[0.5,\"#f7f7f7\"],[0.6,\"#e6f5d0\"],[0.7,\"#b8e186\"],[0.8,\"#7fbc41\"],[0.9,\"#4d9221\"],[1,\"#276419\"]]},\"xaxis\":{\"gridcolor\":\"white\",\"linecolor\":\"white\",\"ticks\":\"\",\"title\":{\"standoff\":15},\"zerolinecolor\":\"white\",\"automargin\":true,\"zerolinewidth\":2},\"yaxis\":{\"gridcolor\":\"white\",\"linecolor\":\"white\",\"ticks\":\"\",\"title\":{\"standoff\":15},\"zerolinecolor\":\"white\",\"automargin\":true,\"zerolinewidth\":2},\"scene\":{\"xaxis\":{\"backgroundcolor\":\"#E5ECF6\",\"gridcolor\":\"white\",\"linecolor\":\"white\",\"showbackground\":true,\"ticks\":\"\",\"zerolinecolor\":\"white\",\"gridwidth\":2},\"yaxis\":{\"backgroundcolor\":\"#E5ECF6\",\"gridcolor\":\"white\",\"linecolor\":\"white\",\"showbackground\":true,\"ticks\":\"\",\"zerolinecolor\":\"white\",\"gridwidth\":2},\"zaxis\":{\"backgroundcolor\":\"#E5ECF6\",\"gridcolor\":\"white\",\"linecolor\":\"white\",\"showbackground\":true,\"ticks\":\"\",\"zerolinecolor\":\"white\",\"gridwidth\":2}},\"shapedefaults\":{\"line\":{\"color\":\"#2a3f5f\"}},\"annotationdefaults\":{\"arrowcolor\":\"#2a3f5f\",\"arrowhead\":0,\"arrowwidth\":1},\"geo\":{\"bgcolor\":\"white\",\"landcolor\":\"#E5ECF6\",\"subunitcolor\":\"white\",\"showland\":true,\"showlakes\":true,\"lakecolor\":\"white\"},\"title\":{\"x\":0.05},\"mapbox\":{\"style\":\"light\"}}},\"xaxis\":{\"anchor\":\"y\",\"domain\":[0.0,1.0],\"title\":{\"text\":\"support\"},\"type\":\"log\"},\"yaxis\":{\"anchor\":\"x\",\"domain\":[0.0,1.0],\"title\":{\"text\":\"confidence\"}},\"coloraxis\":{\"colorbar\":{\"title\":{\"text\":\"lift\"}},\"colorscale\":[[0.0,\"#0d0887\"],[0.1111111111111111,\"#46039f\"],[0.2222222222222222,\"#7201a8\"],[0.3333333333333333,\"#9c179e\"],[0.4444444444444444,\"#bd3786\"],[0.5555555555555556,\"#d8576b\"],[0.6666666666666666,\"#ed7953\"],[0.7777777777777778,\"#fb9f3a\"],[0.8888888888888888,\"#fdca26\"],[1.0,\"#f0f921\"]]},\"legend\":{\"tracegroupgap\":0},\"margin\":{\"t\":60},\"plot_bgcolor\":\"rgb(240,240,240)\",\"title\":{\"text\":\"2D Plot of Support, Confidence and Lift\"},\"height\":800},                        {\"responsive\": true}                    ).then(function(){\n",
              "                            \n",
              "var gd = document.getElementById('becd74b7-b738-4499-b72b-1d0a7a32e9e9');\n",
              "var x = new MutationObserver(function (mutations, observer) {{\n",
              "        var display = window.getComputedStyle(gd).display;\n",
              "        if (!display || display === 'none') {{\n",
              "            console.log([gd, 'removed!']);\n",
              "            Plotly.purge(gd);\n",
              "            observer.disconnect();\n",
              "        }}\n",
              "}});\n",
              "\n",
              "// Listen for the removal of the full notebook cells\n",
              "var notebookContainer = gd.closest('#notebook-container');\n",
              "if (notebookContainer) {{\n",
              "    x.observe(notebookContainer, {childList: true});\n",
              "}}\n",
              "\n",
              "// Listen for the clearing of the current output cell\n",
              "var outputEl = gd.closest('.output');\n",
              "if (outputEl) {{\n",
              "    x.observe(outputEl, {childList: true});\n",
              "}}\n",
              "\n",
              "                        })                };                });            </script>        </div>"
            ]
          },
          "metadata": {}
        }
      ]
    },
    {
      "cell_type": "code",
      "source": [
        "plot_model(model2, plot = '3d')"
      ],
      "metadata": {
        "colab": {
          "base_uri": "https://localhost:8080/",
          "height": 837
        },
        "id": "CBaKlNYgRkd9",
        "outputId": "3696d4b7-9257-4850-a442-9a82a2bb4607"
      },
      "execution_count": null,
      "outputs": [
        {
          "output_type": "display_data",
          "data": {
            "text/plain": [
              "<IPython.core.display.HTML object>"
            ],
            "text/html": [
              "\n",
              "            <script src=\"/static/components/requirejs/require.js\"></script>\n",
              "            <script>\n",
              "              requirejs.config({\n",
              "                paths: {\n",
              "                  base: '/static/base',\n",
              "                  plotly: 'https://cdn.plot.ly/plotly-latest.min.js?noext',\n",
              "                },\n",
              "              });\n",
              "            </script>\n",
              "            "
            ]
          },
          "metadata": {}
        },
        {
          "output_type": "display_data",
          "data": {
            "text/html": [
              "        <script type=\"text/javascript\">\n",
              "        window.PlotlyConfig = {MathJaxConfig: 'local'};\n",
              "        if (window.MathJax && window.MathJax.Hub && window.MathJax.Hub.Config) {window.MathJax.Hub.Config({SVG: {font: \"STIX-Web\"}});}\n",
              "        if (typeof require !== 'undefined') {\n",
              "        require.undef(\"plotly\");\n",
              "        requirejs.config({\n",
              "            paths: {\n",
              "                'plotly': ['https://cdn.plot.ly/plotly-2.24.1.min']\n",
              "            }\n",
              "        });\n",
              "        require(['plotly'], function(Plotly) {\n",
              "            window._Plotly = Plotly;\n",
              "        });\n",
              "        }\n",
              "        </script>\n",
              "        "
            ]
          },
          "metadata": {}
        },
        {
          "output_type": "display_data",
          "data": {
            "application/vnd.plotly.v1+json": {
              "data": [
                {
                  "customdata": [
                    [
                      [
                        "SET/20 RED RETROSPOT PAPER NAPKINS ",
                        "SET/6 RED SPOTTY PAPER CUPS"
                      ],
                      [
                        "SET/6 RED SPOTTY PAPER PLATES"
                      ]
                    ],
                    [
                      [
                        "SET/20 RED RETROSPOT PAPER NAPKINS ",
                        "SET/6 RED SPOTTY PAPER PLATES"
                      ],
                      [
                        "SET/6 RED SPOTTY PAPER CUPS"
                      ]
                    ],
                    [
                      [
                        "SET/6 RED SPOTTY PAPER PLATES"
                      ],
                      [
                        "SET/6 RED SPOTTY PAPER CUPS"
                      ]
                    ],
                    [
                      [
                        "CHILDRENS CUTLERY SPACEBOY "
                      ],
                      [
                        "CHILDRENS CUTLERY DOLLY GIRL "
                      ]
                    ],
                    [
                      [
                        "SET/6 RED SPOTTY PAPER CUPS"
                      ],
                      [
                        "SET/6 RED SPOTTY PAPER PLATES"
                      ]
                    ],
                    [
                      [
                        "CHILDRENS CUTLERY DOLLY GIRL "
                      ],
                      [
                        "CHILDRENS CUTLERY SPACEBOY "
                      ]
                    ],
                    [
                      [
                        "ALARM CLOCK BAKELIKE GREEN",
                        "ALARM CLOCK BAKELIKE PINK"
                      ],
                      [
                        "ALARM CLOCK BAKELIKE RED "
                      ]
                    ],
                    [
                      [
                        "ALARM CLOCK BAKELIKE RED ",
                        "ALARM CLOCK BAKELIKE PINK"
                      ],
                      [
                        "ALARM CLOCK BAKELIKE GREEN"
                      ]
                    ],
                    [
                      [
                        "ALARM CLOCK BAKELIKE RED "
                      ],
                      [
                        "ALARM CLOCK BAKELIKE GREEN"
                      ]
                    ],
                    [
                      [
                        "SET/6 RED SPOTTY PAPER CUPS",
                        "SET/6 RED SPOTTY PAPER PLATES"
                      ],
                      [
                        "SET/20 RED RETROSPOT PAPER NAPKINS "
                      ]
                    ],
                    [
                      [
                        "ALARM CLOCK BAKELIKE RED ",
                        "ALARM CLOCK BAKELIKE GREEN"
                      ],
                      [
                        "ALARM CLOCK BAKELIKE PINK"
                      ]
                    ],
                    [
                      [
                        "SET/6 RED SPOTTY PAPER PLATES"
                      ],
                      [
                        "SET/20 RED RETROSPOT PAPER NAPKINS "
                      ]
                    ],
                    [
                      [
                        "ALARM CLOCK BAKELIKE GREEN"
                      ],
                      [
                        "ALARM CLOCK BAKELIKE RED "
                      ]
                    ],
                    [
                      [
                        "ALARM CLOCK BAKELIKE RED "
                      ],
                      [
                        "ALARM CLOCK BAKELIKE PINK"
                      ]
                    ],
                    [
                      [
                        "SET/6 RED SPOTTY PAPER PLATES"
                      ],
                      [
                        "SET/20 RED RETROSPOT PAPER NAPKINS ",
                        "SET/6 RED SPOTTY PAPER CUPS"
                      ]
                    ],
                    [
                      [
                        "SET/20 RED RETROSPOT PAPER NAPKINS "
                      ],
                      [
                        "SET/6 RED SPOTTY PAPER PLATES"
                      ]
                    ],
                    [
                      [
                        "SET/20 RED RETROSPOT PAPER NAPKINS "
                      ],
                      [
                        "SET/6 RED SPOTTY PAPER CUPS"
                      ]
                    ],
                    [
                      [
                        "PLASTERS IN TIN SPACEBOY",
                        "PLASTERS IN TIN CIRCUS PARADE "
                      ],
                      [
                        "PLASTERS IN TIN WOODLAND ANIMALS"
                      ]
                    ],
                    [
                      [
                        "SET/20 RED RETROSPOT PAPER NAPKINS "
                      ],
                      [
                        "SET/6 RED SPOTTY PAPER CUPS",
                        "SET/6 RED SPOTTY PAPER PLATES"
                      ]
                    ],
                    [
                      [
                        "PLASTERS IN TIN SPACEBOY"
                      ],
                      [
                        "PLASTERS IN TIN WOODLAND ANIMALS"
                      ]
                    ],
                    [
                      [
                        "ALARM CLOCK BAKELIKE GREEN"
                      ],
                      [
                        "ALARM CLOCK BAKELIKE PINK"
                      ]
                    ],
                    [
                      [
                        "SET/6 RED SPOTTY PAPER CUPS"
                      ],
                      [
                        "SET/20 RED RETROSPOT PAPER NAPKINS "
                      ]
                    ],
                    [
                      [
                        "ALARM CLOCK BAKELIKE PINK"
                      ],
                      [
                        "ALARM CLOCK BAKELIKE GREEN"
                      ]
                    ],
                    [
                      [
                        "ALARM CLOCK BAKELIKE PINK"
                      ],
                      [
                        "ALARM CLOCK BAKELIKE RED "
                      ]
                    ],
                    [
                      [
                        "SET/6 RED SPOTTY PAPER CUPS"
                      ],
                      [
                        "SET/20 RED RETROSPOT PAPER NAPKINS ",
                        "SET/6 RED SPOTTY PAPER PLATES"
                      ]
                    ],
                    [
                      [
                        "DOLLY GIRL LUNCH BOX"
                      ],
                      [
                        "SPACEBOY LUNCH BOX "
                      ]
                    ],
                    [
                      [
                        "ALARM CLOCK BAKELIKE RED "
                      ],
                      [
                        "ALARM CLOCK BAKELIKE GREEN",
                        "ALARM CLOCK BAKELIKE PINK"
                      ]
                    ],
                    [
                      [
                        "PLASTERS IN TIN WOODLAND ANIMALS",
                        "PLASTERS IN TIN CIRCUS PARADE "
                      ],
                      [
                        "PLASTERS IN TIN SPACEBOY"
                      ]
                    ],
                    [
                      [
                        "PLASTERS IN TIN SPACEBOY",
                        "PLASTERS IN TIN WOODLAND ANIMALS"
                      ],
                      [
                        "PLASTERS IN TIN CIRCUS PARADE "
                      ]
                    ],
                    [
                      [
                        "PLASTERS IN TIN SPACEBOY"
                      ],
                      [
                        "PLASTERS IN TIN CIRCUS PARADE "
                      ]
                    ],
                    [
                      [
                        "ALARM CLOCK BAKELIKE GREEN"
                      ],
                      [
                        "ALARM CLOCK BAKELIKE RED ",
                        "ALARM CLOCK BAKELIKE PINK"
                      ]
                    ],
                    [
                      [
                        "ALARM CLOCK BAKELIKE PINK"
                      ],
                      [
                        "ALARM CLOCK BAKELIKE RED ",
                        "ALARM CLOCK BAKELIKE GREEN"
                      ]
                    ],
                    [
                      [
                        "PLASTERS IN TIN WOODLAND ANIMALS"
                      ],
                      [
                        "PLASTERS IN TIN SPACEBOY"
                      ]
                    ],
                    [
                      [
                        "PLASTERS IN TIN WOODLAND ANIMALS"
                      ],
                      [
                        "PLASTERS IN TIN CIRCUS PARADE "
                      ]
                    ],
                    [
                      [
                        "PLASTERS IN TIN CIRCUS PARADE "
                      ],
                      [
                        "PLASTERS IN TIN WOODLAND ANIMALS"
                      ]
                    ],
                    [
                      [
                        "ROUND SNACK BOXES SET OF 4 FRUITS "
                      ],
                      [
                        "ROUND SNACK BOXES SET OF4 WOODLAND "
                      ]
                    ],
                    [
                      [
                        "SPACEBOY LUNCH BOX "
                      ],
                      [
                        "DOLLY GIRL LUNCH BOX"
                      ]
                    ],
                    [
                      [
                        "LUNCH BAG WOODLAND"
                      ],
                      [
                        "LUNCH BAG SPACEBOY DESIGN "
                      ]
                    ],
                    [
                      [
                        "LUNCH BAG SPACEBOY DESIGN "
                      ],
                      [
                        "LUNCH BAG APPLE DESIGN"
                      ]
                    ],
                    [
                      [
                        "LUNCH BAG SPACEBOY DESIGN "
                      ],
                      [
                        "LUNCH BAG RED RETROSPOT"
                      ]
                    ],
                    [
                      [
                        "LUNCH BAG SPACEBOY DESIGN "
                      ],
                      [
                        "LUNCH BAG WOODLAND"
                      ]
                    ],
                    [
                      [
                        "PLASTERS IN TIN CIRCUS PARADE "
                      ],
                      [
                        "PLASTERS IN TIN SPACEBOY"
                      ]
                    ],
                    [
                      [
                        "STRAWBERRY LUNCH BOX WITH CUTLERY"
                      ],
                      [
                        "LUNCH BOX WITH CUTLERY RETROSPOT "
                      ]
                    ],
                    [
                      [
                        "LUNCH BAG APPLE DESIGN"
                      ],
                      [
                        "LUNCH BAG SPACEBOY DESIGN "
                      ]
                    ],
                    [
                      [
                        "LUNCH BAG APPLE DESIGN"
                      ],
                      [
                        "LUNCH BAG RED RETROSPOT"
                      ]
                    ]
                  ],
                  "hovertemplate": "support=%{x}<br>confidence=%{y}<br>lift=%{z}<br>antecedents=%{customdata[0]}<br>consequents=%{customdata[1]}<br>antecedent support=%{marker.color}<extra></extra>",
                  "legendgroup": "",
                  "marker": {
                    "color": [
                      0.0868,
                      0.0868,
                      0.1085,
                      0.0586,
                      0.1171,
                      0.0629,
                      0.0629,
                      0.0629,
                      0.0803,
                      0.1041,
                      0.0672,
                      0.1085,
                      0.0846,
                      0.0803,
                      0.1085,
                      0.1128,
                      0.1128,
                      0.0781,
                      0.1128,
                      0.1193,
                      0.0846,
                      0.1171,
                      0.0868,
                      0.0868,
                      0.1171,
                      0.0868,
                      0.0803,
                      0.0868,
                      0.0889,
                      0.1193,
                      0.0846,
                      0.0868,
                      0.1453,
                      0.1453,
                      0.1475,
                      0.0933,
                      0.1063,
                      0.102,
                      0.1041,
                      0.1041,
                      0.1041,
                      0.1475,
                      0.1041,
                      0.1085,
                      0.1085
                    ],
                    "coloraxis": "coloraxis",
                    "opacity": 0.7,
                    "symbol": "circle"
                  },
                  "mode": "markers",
                  "name": "",
                  "scene": "scene",
                  "showlegend": false,
                  "x": [
                    0.0846,
                    0.0846,
                    0.1041,
                    0.0542,
                    0.1041,
                    0.0542,
                    0.0542,
                    0.0542,
                    0.0672,
                    0.0846,
                    0.0542,
                    0.0868,
                    0.0672,
                    0.0629,
                    0.0846,
                    0.0868,
                    0.0868,
                    0.0586,
                    0.0846,
                    0.0889,
                    0.0629,
                    0.0868,
                    0.0629,
                    0.0629,
                    0.0846,
                    0.0607,
                    0.0542,
                    0.0586,
                    0.0586,
                    0.0781,
                    0.0542,
                    0.0542,
                    0.0889,
                    0.0868,
                    0.0868,
                    0.0542,
                    0.0607,
                    0.0564,
                    0.0564,
                    0.0564,
                    0.0564,
                    0.0781,
                    0.0542,
                    0.0564,
                    0.0564
                  ],
                  "y": [
                    0.975,
                    0.975,
                    0.96,
                    0.9259,
                    0.8889,
                    0.8621,
                    0.8621,
                    0.8621,
                    0.8378,
                    0.8125,
                    0.8065,
                    0.8,
                    0.7949,
                    0.7838,
                    0.78,
                    0.7692,
                    0.7692,
                    0.75,
                    0.75,
                    0.7455,
                    0.7436,
                    0.7407,
                    0.725,
                    0.725,
                    0.7222,
                    0.7,
                    0.6757,
                    0.675,
                    0.6585,
                    0.6545,
                    0.641,
                    0.625,
                    0.6119,
                    0.597,
                    0.5882,
                    0.5814,
                    0.5714,
                    0.5532,
                    0.5417,
                    0.5417,
                    0.5417,
                    0.5294,
                    0.5208,
                    0.52,
                    0.52
                  ],
                  "z": [
                    8.9895,
                    8.3236,
                    8.1956,
                    14.719,
                    8.1956,
                    14.719,
                    10.7409,
                    10.1901,
                    9.9037,
                    7.2031,
                    9.2944,
                    7.0923,
                    9.9037,
                    9.0331,
                    8.9895,
                    7.0923,
                    6.567,
                    5.1604,
                    7.2031,
                    5.1292,
                    8.5699,
                    6.567,
                    8.5699,
                    9.0331,
                    8.3236,
                    6.5857,
                    10.7409,
                    5.6577,
                    4.4645,
                    4.4374,
                    10.1901,
                    9.2944,
                    5.1292,
                    4.0474,
                    4.0474,
                    4.1879,
                    6.5857,
                    5.3129,
                    4.9942,
                    4.0936,
                    5.3129,
                    4.4374,
                    4.2124,
                    4.9942,
                    3.9298
                  ],
                  "type": "scatter3d"
                }
              ],
              "layout": {
                "template": {
                  "data": {
                    "histogram2dcontour": [
                      {
                        "type": "histogram2dcontour",
                        "colorbar": {
                          "outlinewidth": 0,
                          "ticks": ""
                        },
                        "colorscale": [
                          [
                            0,
                            "#0d0887"
                          ],
                          [
                            0.1111111111111111,
                            "#46039f"
                          ],
                          [
                            0.2222222222222222,
                            "#7201a8"
                          ],
                          [
                            0.3333333333333333,
                            "#9c179e"
                          ],
                          [
                            0.4444444444444444,
                            "#bd3786"
                          ],
                          [
                            0.5555555555555556,
                            "#d8576b"
                          ],
                          [
                            0.6666666666666666,
                            "#ed7953"
                          ],
                          [
                            0.7777777777777778,
                            "#fb9f3a"
                          ],
                          [
                            0.8888888888888888,
                            "#fdca26"
                          ],
                          [
                            1,
                            "#f0f921"
                          ]
                        ]
                      }
                    ],
                    "choropleth": [
                      {
                        "type": "choropleth",
                        "colorbar": {
                          "outlinewidth": 0,
                          "ticks": ""
                        }
                      }
                    ],
                    "histogram2d": [
                      {
                        "type": "histogram2d",
                        "colorbar": {
                          "outlinewidth": 0,
                          "ticks": ""
                        },
                        "colorscale": [
                          [
                            0,
                            "#0d0887"
                          ],
                          [
                            0.1111111111111111,
                            "#46039f"
                          ],
                          [
                            0.2222222222222222,
                            "#7201a8"
                          ],
                          [
                            0.3333333333333333,
                            "#9c179e"
                          ],
                          [
                            0.4444444444444444,
                            "#bd3786"
                          ],
                          [
                            0.5555555555555556,
                            "#d8576b"
                          ],
                          [
                            0.6666666666666666,
                            "#ed7953"
                          ],
                          [
                            0.7777777777777778,
                            "#fb9f3a"
                          ],
                          [
                            0.8888888888888888,
                            "#fdca26"
                          ],
                          [
                            1,
                            "#f0f921"
                          ]
                        ]
                      }
                    ],
                    "heatmap": [
                      {
                        "type": "heatmap",
                        "colorbar": {
                          "outlinewidth": 0,
                          "ticks": ""
                        },
                        "colorscale": [
                          [
                            0,
                            "#0d0887"
                          ],
                          [
                            0.1111111111111111,
                            "#46039f"
                          ],
                          [
                            0.2222222222222222,
                            "#7201a8"
                          ],
                          [
                            0.3333333333333333,
                            "#9c179e"
                          ],
                          [
                            0.4444444444444444,
                            "#bd3786"
                          ],
                          [
                            0.5555555555555556,
                            "#d8576b"
                          ],
                          [
                            0.6666666666666666,
                            "#ed7953"
                          ],
                          [
                            0.7777777777777778,
                            "#fb9f3a"
                          ],
                          [
                            0.8888888888888888,
                            "#fdca26"
                          ],
                          [
                            1,
                            "#f0f921"
                          ]
                        ]
                      }
                    ],
                    "heatmapgl": [
                      {
                        "type": "heatmapgl",
                        "colorbar": {
                          "outlinewidth": 0,
                          "ticks": ""
                        },
                        "colorscale": [
                          [
                            0,
                            "#0d0887"
                          ],
                          [
                            0.1111111111111111,
                            "#46039f"
                          ],
                          [
                            0.2222222222222222,
                            "#7201a8"
                          ],
                          [
                            0.3333333333333333,
                            "#9c179e"
                          ],
                          [
                            0.4444444444444444,
                            "#bd3786"
                          ],
                          [
                            0.5555555555555556,
                            "#d8576b"
                          ],
                          [
                            0.6666666666666666,
                            "#ed7953"
                          ],
                          [
                            0.7777777777777778,
                            "#fb9f3a"
                          ],
                          [
                            0.8888888888888888,
                            "#fdca26"
                          ],
                          [
                            1,
                            "#f0f921"
                          ]
                        ]
                      }
                    ],
                    "contourcarpet": [
                      {
                        "type": "contourcarpet",
                        "colorbar": {
                          "outlinewidth": 0,
                          "ticks": ""
                        }
                      }
                    ],
                    "contour": [
                      {
                        "type": "contour",
                        "colorbar": {
                          "outlinewidth": 0,
                          "ticks": ""
                        },
                        "colorscale": [
                          [
                            0,
                            "#0d0887"
                          ],
                          [
                            0.1111111111111111,
                            "#46039f"
                          ],
                          [
                            0.2222222222222222,
                            "#7201a8"
                          ],
                          [
                            0.3333333333333333,
                            "#9c179e"
                          ],
                          [
                            0.4444444444444444,
                            "#bd3786"
                          ],
                          [
                            0.5555555555555556,
                            "#d8576b"
                          ],
                          [
                            0.6666666666666666,
                            "#ed7953"
                          ],
                          [
                            0.7777777777777778,
                            "#fb9f3a"
                          ],
                          [
                            0.8888888888888888,
                            "#fdca26"
                          ],
                          [
                            1,
                            "#f0f921"
                          ]
                        ]
                      }
                    ],
                    "surface": [
                      {
                        "type": "surface",
                        "colorbar": {
                          "outlinewidth": 0,
                          "ticks": ""
                        },
                        "colorscale": [
                          [
                            0,
                            "#0d0887"
                          ],
                          [
                            0.1111111111111111,
                            "#46039f"
                          ],
                          [
                            0.2222222222222222,
                            "#7201a8"
                          ],
                          [
                            0.3333333333333333,
                            "#9c179e"
                          ],
                          [
                            0.4444444444444444,
                            "#bd3786"
                          ],
                          [
                            0.5555555555555556,
                            "#d8576b"
                          ],
                          [
                            0.6666666666666666,
                            "#ed7953"
                          ],
                          [
                            0.7777777777777778,
                            "#fb9f3a"
                          ],
                          [
                            0.8888888888888888,
                            "#fdca26"
                          ],
                          [
                            1,
                            "#f0f921"
                          ]
                        ]
                      }
                    ],
                    "mesh3d": [
                      {
                        "type": "mesh3d",
                        "colorbar": {
                          "outlinewidth": 0,
                          "ticks": ""
                        }
                      }
                    ],
                    "scatter": [
                      {
                        "fillpattern": {
                          "fillmode": "overlay",
                          "size": 10,
                          "solidity": 0.2
                        },
                        "type": "scatter"
                      }
                    ],
                    "parcoords": [
                      {
                        "type": "parcoords",
                        "line": {
                          "colorbar": {
                            "outlinewidth": 0,
                            "ticks": ""
                          }
                        }
                      }
                    ],
                    "scatterpolargl": [
                      {
                        "type": "scatterpolargl",
                        "marker": {
                          "colorbar": {
                            "outlinewidth": 0,
                            "ticks": ""
                          }
                        }
                      }
                    ],
                    "bar": [
                      {
                        "error_x": {
                          "color": "#2a3f5f"
                        },
                        "error_y": {
                          "color": "#2a3f5f"
                        },
                        "marker": {
                          "line": {
                            "color": "#E5ECF6",
                            "width": 0.5
                          },
                          "pattern": {
                            "fillmode": "overlay",
                            "size": 10,
                            "solidity": 0.2
                          }
                        },
                        "type": "bar"
                      }
                    ],
                    "scattergeo": [
                      {
                        "type": "scattergeo",
                        "marker": {
                          "colorbar": {
                            "outlinewidth": 0,
                            "ticks": ""
                          }
                        }
                      }
                    ],
                    "scatterpolar": [
                      {
                        "type": "scatterpolar",
                        "marker": {
                          "colorbar": {
                            "outlinewidth": 0,
                            "ticks": ""
                          }
                        }
                      }
                    ],
                    "histogram": [
                      {
                        "marker": {
                          "pattern": {
                            "fillmode": "overlay",
                            "size": 10,
                            "solidity": 0.2
                          }
                        },
                        "type": "histogram"
                      }
                    ],
                    "scattergl": [
                      {
                        "type": "scattergl",
                        "marker": {
                          "colorbar": {
                            "outlinewidth": 0,
                            "ticks": ""
                          }
                        }
                      }
                    ],
                    "scatter3d": [
                      {
                        "type": "scatter3d",
                        "line": {
                          "colorbar": {
                            "outlinewidth": 0,
                            "ticks": ""
                          }
                        },
                        "marker": {
                          "colorbar": {
                            "outlinewidth": 0,
                            "ticks": ""
                          }
                        }
                      }
                    ],
                    "scattermapbox": [
                      {
                        "type": "scattermapbox",
                        "marker": {
                          "colorbar": {
                            "outlinewidth": 0,
                            "ticks": ""
                          }
                        }
                      }
                    ],
                    "scatterternary": [
                      {
                        "type": "scatterternary",
                        "marker": {
                          "colorbar": {
                            "outlinewidth": 0,
                            "ticks": ""
                          }
                        }
                      }
                    ],
                    "scattercarpet": [
                      {
                        "type": "scattercarpet",
                        "marker": {
                          "colorbar": {
                            "outlinewidth": 0,
                            "ticks": ""
                          }
                        }
                      }
                    ],
                    "carpet": [
                      {
                        "aaxis": {
                          "endlinecolor": "#2a3f5f",
                          "gridcolor": "white",
                          "linecolor": "white",
                          "minorgridcolor": "white",
                          "startlinecolor": "#2a3f5f"
                        },
                        "baxis": {
                          "endlinecolor": "#2a3f5f",
                          "gridcolor": "white",
                          "linecolor": "white",
                          "minorgridcolor": "white",
                          "startlinecolor": "#2a3f5f"
                        },
                        "type": "carpet"
                      }
                    ],
                    "table": [
                      {
                        "cells": {
                          "fill": {
                            "color": "#EBF0F8"
                          },
                          "line": {
                            "color": "white"
                          }
                        },
                        "header": {
                          "fill": {
                            "color": "#C8D4E3"
                          },
                          "line": {
                            "color": "white"
                          }
                        },
                        "type": "table"
                      }
                    ],
                    "barpolar": [
                      {
                        "marker": {
                          "line": {
                            "color": "#E5ECF6",
                            "width": 0.5
                          },
                          "pattern": {
                            "fillmode": "overlay",
                            "size": 10,
                            "solidity": 0.2
                          }
                        },
                        "type": "barpolar"
                      }
                    ],
                    "pie": [
                      {
                        "automargin": true,
                        "type": "pie"
                      }
                    ]
                  },
                  "layout": {
                    "autotypenumbers": "strict",
                    "colorway": [
                      "#636efa",
                      "#EF553B",
                      "#00cc96",
                      "#ab63fa",
                      "#FFA15A",
                      "#19d3f3",
                      "#FF6692",
                      "#B6E880",
                      "#FF97FF",
                      "#FECB52"
                    ],
                    "font": {
                      "color": "#2a3f5f"
                    },
                    "hovermode": "closest",
                    "hoverlabel": {
                      "align": "left"
                    },
                    "paper_bgcolor": "white",
                    "plot_bgcolor": "#E5ECF6",
                    "polar": {
                      "bgcolor": "#E5ECF6",
                      "angularaxis": {
                        "gridcolor": "white",
                        "linecolor": "white",
                        "ticks": ""
                      },
                      "radialaxis": {
                        "gridcolor": "white",
                        "linecolor": "white",
                        "ticks": ""
                      }
                    },
                    "ternary": {
                      "bgcolor": "#E5ECF6",
                      "aaxis": {
                        "gridcolor": "white",
                        "linecolor": "white",
                        "ticks": ""
                      },
                      "baxis": {
                        "gridcolor": "white",
                        "linecolor": "white",
                        "ticks": ""
                      },
                      "caxis": {
                        "gridcolor": "white",
                        "linecolor": "white",
                        "ticks": ""
                      }
                    },
                    "coloraxis": {
                      "colorbar": {
                        "outlinewidth": 0,
                        "ticks": ""
                      }
                    },
                    "colorscale": {
                      "sequential": [
                        [
                          0,
                          "#0d0887"
                        ],
                        [
                          0.1111111111111111,
                          "#46039f"
                        ],
                        [
                          0.2222222222222222,
                          "#7201a8"
                        ],
                        [
                          0.3333333333333333,
                          "#9c179e"
                        ],
                        [
                          0.4444444444444444,
                          "#bd3786"
                        ],
                        [
                          0.5555555555555556,
                          "#d8576b"
                        ],
                        [
                          0.6666666666666666,
                          "#ed7953"
                        ],
                        [
                          0.7777777777777778,
                          "#fb9f3a"
                        ],
                        [
                          0.8888888888888888,
                          "#fdca26"
                        ],
                        [
                          1,
                          "#f0f921"
                        ]
                      ],
                      "sequentialminus": [
                        [
                          0,
                          "#0d0887"
                        ],
                        [
                          0.1111111111111111,
                          "#46039f"
                        ],
                        [
                          0.2222222222222222,
                          "#7201a8"
                        ],
                        [
                          0.3333333333333333,
                          "#9c179e"
                        ],
                        [
                          0.4444444444444444,
                          "#bd3786"
                        ],
                        [
                          0.5555555555555556,
                          "#d8576b"
                        ],
                        [
                          0.6666666666666666,
                          "#ed7953"
                        ],
                        [
                          0.7777777777777778,
                          "#fb9f3a"
                        ],
                        [
                          0.8888888888888888,
                          "#fdca26"
                        ],
                        [
                          1,
                          "#f0f921"
                        ]
                      ],
                      "diverging": [
                        [
                          0,
                          "#8e0152"
                        ],
                        [
                          0.1,
                          "#c51b7d"
                        ],
                        [
                          0.2,
                          "#de77ae"
                        ],
                        [
                          0.3,
                          "#f1b6da"
                        ],
                        [
                          0.4,
                          "#fde0ef"
                        ],
                        [
                          0.5,
                          "#f7f7f7"
                        ],
                        [
                          0.6,
                          "#e6f5d0"
                        ],
                        [
                          0.7,
                          "#b8e186"
                        ],
                        [
                          0.8,
                          "#7fbc41"
                        ],
                        [
                          0.9,
                          "#4d9221"
                        ],
                        [
                          1,
                          "#276419"
                        ]
                      ]
                    },
                    "xaxis": {
                      "gridcolor": "white",
                      "linecolor": "white",
                      "ticks": "",
                      "title": {
                        "standoff": 15
                      },
                      "zerolinecolor": "white",
                      "automargin": true,
                      "zerolinewidth": 2
                    },
                    "yaxis": {
                      "gridcolor": "white",
                      "linecolor": "white",
                      "ticks": "",
                      "title": {
                        "standoff": 15
                      },
                      "zerolinecolor": "white",
                      "automargin": true,
                      "zerolinewidth": 2
                    },
                    "scene": {
                      "xaxis": {
                        "backgroundcolor": "#E5ECF6",
                        "gridcolor": "white",
                        "linecolor": "white",
                        "showbackground": true,
                        "ticks": "",
                        "zerolinecolor": "white",
                        "gridwidth": 2
                      },
                      "yaxis": {
                        "backgroundcolor": "#E5ECF6",
                        "gridcolor": "white",
                        "linecolor": "white",
                        "showbackground": true,
                        "ticks": "",
                        "zerolinecolor": "white",
                        "gridwidth": 2
                      },
                      "zaxis": {
                        "backgroundcolor": "#E5ECF6",
                        "gridcolor": "white",
                        "linecolor": "white",
                        "showbackground": true,
                        "ticks": "",
                        "zerolinecolor": "white",
                        "gridwidth": 2
                      }
                    },
                    "shapedefaults": {
                      "line": {
                        "color": "#2a3f5f"
                      }
                    },
                    "annotationdefaults": {
                      "arrowcolor": "#2a3f5f",
                      "arrowhead": 0,
                      "arrowwidth": 1
                    },
                    "geo": {
                      "bgcolor": "white",
                      "landcolor": "#E5ECF6",
                      "subunitcolor": "white",
                      "showland": true,
                      "showlakes": true,
                      "lakecolor": "white"
                    },
                    "title": {
                      "x": 0.05
                    },
                    "mapbox": {
                      "style": "light"
                    }
                  }
                },
                "scene": {
                  "domain": {
                    "x": [
                      0,
                      1
                    ],
                    "y": [
                      0,
                      1
                    ]
                  },
                  "xaxis": {
                    "title": {
                      "text": "support"
                    }
                  },
                  "yaxis": {
                    "title": {
                      "text": "confidence"
                    }
                  },
                  "zaxis": {
                    "title": {
                      "text": "lift"
                    }
                  }
                },
                "coloraxis": {
                  "colorbar": {
                    "title": {
                      "text": "antecedent support"
                    }
                  },
                  "colorscale": [
                    [
                      0,
                      "#0d0887"
                    ],
                    [
                      0.1111111111111111,
                      "#46039f"
                    ],
                    [
                      0.2222222222222222,
                      "#7201a8"
                    ],
                    [
                      0.3333333333333333,
                      "#9c179e"
                    ],
                    [
                      0.4444444444444444,
                      "#bd3786"
                    ],
                    [
                      0.5555555555555556,
                      "#d8576b"
                    ],
                    [
                      0.6666666666666666,
                      "#ed7953"
                    ],
                    [
                      0.7777777777777778,
                      "#fb9f3a"
                    ],
                    [
                      0.8888888888888888,
                      "#fdca26"
                    ],
                    [
                      1,
                      "#f0f921"
                    ]
                  ]
                },
                "legend": {
                  "tracegroupgap": 0
                },
                "title": {
                  "text": "3d Plot for Rule Mining"
                },
                "height": 800,
                "width": 900
              },
              "config": {
                "plotlyServerURL": "https://plot.ly"
              }
            },
            "text/html": [
              "<div>                            <div id=\"3666e555-15e9-4517-9015-64a4cb6f1748\" class=\"plotly-graph-div\" style=\"height:800px; width:900px;\"></div>            <script type=\"text/javascript\">                require([\"plotly\"], function(Plotly) {                    window.PLOTLYENV=window.PLOTLYENV || {};                                    if (document.getElementById(\"3666e555-15e9-4517-9015-64a4cb6f1748\")) {                    Plotly.newPlot(                        \"3666e555-15e9-4517-9015-64a4cb6f1748\",                        [{\"customdata\":[[[\"SET\\u002f20 RED RETROSPOT PAPER NAPKINS \",\"SET\\u002f6 RED SPOTTY PAPER CUPS\"],[\"SET\\u002f6 RED SPOTTY PAPER PLATES\"]],[[\"SET\\u002f20 RED RETROSPOT PAPER NAPKINS \",\"SET\\u002f6 RED SPOTTY PAPER PLATES\"],[\"SET\\u002f6 RED SPOTTY PAPER CUPS\"]],[[\"SET\\u002f6 RED SPOTTY PAPER PLATES\"],[\"SET\\u002f6 RED SPOTTY PAPER CUPS\"]],[[\"CHILDRENS CUTLERY SPACEBOY \"],[\"CHILDRENS CUTLERY DOLLY GIRL \"]],[[\"SET\\u002f6 RED SPOTTY PAPER CUPS\"],[\"SET\\u002f6 RED SPOTTY PAPER PLATES\"]],[[\"CHILDRENS CUTLERY DOLLY GIRL \"],[\"CHILDRENS CUTLERY SPACEBOY \"]],[[\"ALARM CLOCK BAKELIKE GREEN\",\"ALARM CLOCK BAKELIKE PINK\"],[\"ALARM CLOCK BAKELIKE RED \"]],[[\"ALARM CLOCK BAKELIKE RED \",\"ALARM CLOCK BAKELIKE PINK\"],[\"ALARM CLOCK BAKELIKE GREEN\"]],[[\"ALARM CLOCK BAKELIKE RED \"],[\"ALARM CLOCK BAKELIKE GREEN\"]],[[\"SET\\u002f6 RED SPOTTY PAPER CUPS\",\"SET\\u002f6 RED SPOTTY PAPER PLATES\"],[\"SET\\u002f20 RED RETROSPOT PAPER NAPKINS \"]],[[\"ALARM CLOCK BAKELIKE RED \",\"ALARM CLOCK BAKELIKE GREEN\"],[\"ALARM CLOCK BAKELIKE PINK\"]],[[\"SET\\u002f6 RED SPOTTY PAPER PLATES\"],[\"SET\\u002f20 RED RETROSPOT PAPER NAPKINS \"]],[[\"ALARM CLOCK BAKELIKE GREEN\"],[\"ALARM CLOCK BAKELIKE RED \"]],[[\"ALARM CLOCK BAKELIKE RED \"],[\"ALARM CLOCK BAKELIKE PINK\"]],[[\"SET\\u002f6 RED SPOTTY PAPER PLATES\"],[\"SET\\u002f20 RED RETROSPOT PAPER NAPKINS \",\"SET\\u002f6 RED SPOTTY PAPER CUPS\"]],[[\"SET\\u002f20 RED RETROSPOT PAPER NAPKINS \"],[\"SET\\u002f6 RED SPOTTY PAPER PLATES\"]],[[\"SET\\u002f20 RED RETROSPOT PAPER NAPKINS \"],[\"SET\\u002f6 RED SPOTTY PAPER CUPS\"]],[[\"PLASTERS IN TIN SPACEBOY\",\"PLASTERS IN TIN CIRCUS PARADE \"],[\"PLASTERS IN TIN WOODLAND ANIMALS\"]],[[\"SET\\u002f20 RED RETROSPOT PAPER NAPKINS \"],[\"SET\\u002f6 RED SPOTTY PAPER CUPS\",\"SET\\u002f6 RED SPOTTY PAPER PLATES\"]],[[\"PLASTERS IN TIN SPACEBOY\"],[\"PLASTERS IN TIN WOODLAND ANIMALS\"]],[[\"ALARM CLOCK BAKELIKE GREEN\"],[\"ALARM CLOCK BAKELIKE PINK\"]],[[\"SET\\u002f6 RED SPOTTY PAPER CUPS\"],[\"SET\\u002f20 RED RETROSPOT PAPER NAPKINS \"]],[[\"ALARM CLOCK BAKELIKE PINK\"],[\"ALARM CLOCK BAKELIKE GREEN\"]],[[\"ALARM CLOCK BAKELIKE PINK\"],[\"ALARM CLOCK BAKELIKE RED \"]],[[\"SET\\u002f6 RED SPOTTY PAPER CUPS\"],[\"SET\\u002f20 RED RETROSPOT PAPER NAPKINS \",\"SET\\u002f6 RED SPOTTY PAPER PLATES\"]],[[\"DOLLY GIRL LUNCH BOX\"],[\"SPACEBOY LUNCH BOX \"]],[[\"ALARM CLOCK BAKELIKE RED \"],[\"ALARM CLOCK BAKELIKE GREEN\",\"ALARM CLOCK BAKELIKE PINK\"]],[[\"PLASTERS IN TIN WOODLAND ANIMALS\",\"PLASTERS IN TIN CIRCUS PARADE \"],[\"PLASTERS IN TIN SPACEBOY\"]],[[\"PLASTERS IN TIN SPACEBOY\",\"PLASTERS IN TIN WOODLAND ANIMALS\"],[\"PLASTERS IN TIN CIRCUS PARADE \"]],[[\"PLASTERS IN TIN SPACEBOY\"],[\"PLASTERS IN TIN CIRCUS PARADE \"]],[[\"ALARM CLOCK BAKELIKE GREEN\"],[\"ALARM CLOCK BAKELIKE RED \",\"ALARM CLOCK BAKELIKE PINK\"]],[[\"ALARM CLOCK BAKELIKE PINK\"],[\"ALARM CLOCK BAKELIKE RED \",\"ALARM CLOCK BAKELIKE GREEN\"]],[[\"PLASTERS IN TIN WOODLAND ANIMALS\"],[\"PLASTERS IN TIN SPACEBOY\"]],[[\"PLASTERS IN TIN WOODLAND ANIMALS\"],[\"PLASTERS IN TIN CIRCUS PARADE \"]],[[\"PLASTERS IN TIN CIRCUS PARADE \"],[\"PLASTERS IN TIN WOODLAND ANIMALS\"]],[[\"ROUND SNACK BOXES SET OF 4 FRUITS \"],[\"ROUND SNACK BOXES SET OF4 WOODLAND \"]],[[\"SPACEBOY LUNCH BOX \"],[\"DOLLY GIRL LUNCH BOX\"]],[[\"LUNCH BAG WOODLAND\"],[\"LUNCH BAG SPACEBOY DESIGN \"]],[[\"LUNCH BAG SPACEBOY DESIGN \"],[\"LUNCH BAG APPLE DESIGN\"]],[[\"LUNCH BAG SPACEBOY DESIGN \"],[\"LUNCH BAG RED RETROSPOT\"]],[[\"LUNCH BAG SPACEBOY DESIGN \"],[\"LUNCH BAG WOODLAND\"]],[[\"PLASTERS IN TIN CIRCUS PARADE \"],[\"PLASTERS IN TIN SPACEBOY\"]],[[\"STRAWBERRY LUNCH BOX WITH CUTLERY\"],[\"LUNCH BOX WITH CUTLERY RETROSPOT \"]],[[\"LUNCH BAG APPLE DESIGN\"],[\"LUNCH BAG SPACEBOY DESIGN \"]],[[\"LUNCH BAG APPLE DESIGN\"],[\"LUNCH BAG RED RETROSPOT\"]]],\"hovertemplate\":\"support=%{x}\\u003cbr\\u003econfidence=%{y}\\u003cbr\\u003elift=%{z}\\u003cbr\\u003eantecedents=%{customdata[0]}\\u003cbr\\u003econsequents=%{customdata[1]}\\u003cbr\\u003eantecedent support=%{marker.color}\\u003cextra\\u003e\\u003c\\u002fextra\\u003e\",\"legendgroup\":\"\",\"marker\":{\"color\":[0.0868,0.0868,0.1085,0.0586,0.1171,0.0629,0.0629,0.0629,0.0803,0.1041,0.0672,0.1085,0.0846,0.0803,0.1085,0.1128,0.1128,0.0781,0.1128,0.1193,0.0846,0.1171,0.0868,0.0868,0.1171,0.0868,0.0803,0.0868,0.0889,0.1193,0.0846,0.0868,0.1453,0.1453,0.1475,0.0933,0.1063,0.102,0.1041,0.1041,0.1041,0.1475,0.1041,0.1085,0.1085],\"coloraxis\":\"coloraxis\",\"opacity\":0.7,\"symbol\":\"circle\"},\"mode\":\"markers\",\"name\":\"\",\"scene\":\"scene\",\"showlegend\":false,\"x\":[0.0846,0.0846,0.1041,0.0542,0.1041,0.0542,0.0542,0.0542,0.0672,0.0846,0.0542,0.0868,0.0672,0.0629,0.0846,0.0868,0.0868,0.0586,0.0846,0.0889,0.0629,0.0868,0.0629,0.0629,0.0846,0.0607,0.0542,0.0586,0.0586,0.0781,0.0542,0.0542,0.0889,0.0868,0.0868,0.0542,0.0607,0.0564,0.0564,0.0564,0.0564,0.0781,0.0542,0.0564,0.0564],\"y\":[0.975,0.975,0.96,0.9259,0.8889,0.8621,0.8621,0.8621,0.8378,0.8125,0.8065,0.8,0.7949,0.7838,0.78,0.7692,0.7692,0.75,0.75,0.7455,0.7436,0.7407,0.725,0.725,0.7222,0.7,0.6757,0.675,0.6585,0.6545,0.641,0.625,0.6119,0.597,0.5882,0.5814,0.5714,0.5532,0.5417,0.5417,0.5417,0.5294,0.5208,0.52,0.52],\"z\":[8.9895,8.3236,8.1956,14.719,8.1956,14.719,10.7409,10.1901,9.9037,7.2031,9.2944,7.0923,9.9037,9.0331,8.9895,7.0923,6.567,5.1604,7.2031,5.1292,8.5699,6.567,8.5699,9.0331,8.3236,6.5857,10.7409,5.6577,4.4645,4.4374,10.1901,9.2944,5.1292,4.0474,4.0474,4.1879,6.5857,5.3129,4.9942,4.0936,5.3129,4.4374,4.2124,4.9942,3.9298],\"type\":\"scatter3d\"}],                        {\"template\":{\"data\":{\"histogram2dcontour\":[{\"type\":\"histogram2dcontour\",\"colorbar\":{\"outlinewidth\":0,\"ticks\":\"\"},\"colorscale\":[[0.0,\"#0d0887\"],[0.1111111111111111,\"#46039f\"],[0.2222222222222222,\"#7201a8\"],[0.3333333333333333,\"#9c179e\"],[0.4444444444444444,\"#bd3786\"],[0.5555555555555556,\"#d8576b\"],[0.6666666666666666,\"#ed7953\"],[0.7777777777777778,\"#fb9f3a\"],[0.8888888888888888,\"#fdca26\"],[1.0,\"#f0f921\"]]}],\"choropleth\":[{\"type\":\"choropleth\",\"colorbar\":{\"outlinewidth\":0,\"ticks\":\"\"}}],\"histogram2d\":[{\"type\":\"histogram2d\",\"colorbar\":{\"outlinewidth\":0,\"ticks\":\"\"},\"colorscale\":[[0.0,\"#0d0887\"],[0.1111111111111111,\"#46039f\"],[0.2222222222222222,\"#7201a8\"],[0.3333333333333333,\"#9c179e\"],[0.4444444444444444,\"#bd3786\"],[0.5555555555555556,\"#d8576b\"],[0.6666666666666666,\"#ed7953\"],[0.7777777777777778,\"#fb9f3a\"],[0.8888888888888888,\"#fdca26\"],[1.0,\"#f0f921\"]]}],\"heatmap\":[{\"type\":\"heatmap\",\"colorbar\":{\"outlinewidth\":0,\"ticks\":\"\"},\"colorscale\":[[0.0,\"#0d0887\"],[0.1111111111111111,\"#46039f\"],[0.2222222222222222,\"#7201a8\"],[0.3333333333333333,\"#9c179e\"],[0.4444444444444444,\"#bd3786\"],[0.5555555555555556,\"#d8576b\"],[0.6666666666666666,\"#ed7953\"],[0.7777777777777778,\"#fb9f3a\"],[0.8888888888888888,\"#fdca26\"],[1.0,\"#f0f921\"]]}],\"heatmapgl\":[{\"type\":\"heatmapgl\",\"colorbar\":{\"outlinewidth\":0,\"ticks\":\"\"},\"colorscale\":[[0.0,\"#0d0887\"],[0.1111111111111111,\"#46039f\"],[0.2222222222222222,\"#7201a8\"],[0.3333333333333333,\"#9c179e\"],[0.4444444444444444,\"#bd3786\"],[0.5555555555555556,\"#d8576b\"],[0.6666666666666666,\"#ed7953\"],[0.7777777777777778,\"#fb9f3a\"],[0.8888888888888888,\"#fdca26\"],[1.0,\"#f0f921\"]]}],\"contourcarpet\":[{\"type\":\"contourcarpet\",\"colorbar\":{\"outlinewidth\":0,\"ticks\":\"\"}}],\"contour\":[{\"type\":\"contour\",\"colorbar\":{\"outlinewidth\":0,\"ticks\":\"\"},\"colorscale\":[[0.0,\"#0d0887\"],[0.1111111111111111,\"#46039f\"],[0.2222222222222222,\"#7201a8\"],[0.3333333333333333,\"#9c179e\"],[0.4444444444444444,\"#bd3786\"],[0.5555555555555556,\"#d8576b\"],[0.6666666666666666,\"#ed7953\"],[0.7777777777777778,\"#fb9f3a\"],[0.8888888888888888,\"#fdca26\"],[1.0,\"#f0f921\"]]}],\"surface\":[{\"type\":\"surface\",\"colorbar\":{\"outlinewidth\":0,\"ticks\":\"\"},\"colorscale\":[[0.0,\"#0d0887\"],[0.1111111111111111,\"#46039f\"],[0.2222222222222222,\"#7201a8\"],[0.3333333333333333,\"#9c179e\"],[0.4444444444444444,\"#bd3786\"],[0.5555555555555556,\"#d8576b\"],[0.6666666666666666,\"#ed7953\"],[0.7777777777777778,\"#fb9f3a\"],[0.8888888888888888,\"#fdca26\"],[1.0,\"#f0f921\"]]}],\"mesh3d\":[{\"type\":\"mesh3d\",\"colorbar\":{\"outlinewidth\":0,\"ticks\":\"\"}}],\"scatter\":[{\"fillpattern\":{\"fillmode\":\"overlay\",\"size\":10,\"solidity\":0.2},\"type\":\"scatter\"}],\"parcoords\":[{\"type\":\"parcoords\",\"line\":{\"colorbar\":{\"outlinewidth\":0,\"ticks\":\"\"}}}],\"scatterpolargl\":[{\"type\":\"scatterpolargl\",\"marker\":{\"colorbar\":{\"outlinewidth\":0,\"ticks\":\"\"}}}],\"bar\":[{\"error_x\":{\"color\":\"#2a3f5f\"},\"error_y\":{\"color\":\"#2a3f5f\"},\"marker\":{\"line\":{\"color\":\"#E5ECF6\",\"width\":0.5},\"pattern\":{\"fillmode\":\"overlay\",\"size\":10,\"solidity\":0.2}},\"type\":\"bar\"}],\"scattergeo\":[{\"type\":\"scattergeo\",\"marker\":{\"colorbar\":{\"outlinewidth\":0,\"ticks\":\"\"}}}],\"scatterpolar\":[{\"type\":\"scatterpolar\",\"marker\":{\"colorbar\":{\"outlinewidth\":0,\"ticks\":\"\"}}}],\"histogram\":[{\"marker\":{\"pattern\":{\"fillmode\":\"overlay\",\"size\":10,\"solidity\":0.2}},\"type\":\"histogram\"}],\"scattergl\":[{\"type\":\"scattergl\",\"marker\":{\"colorbar\":{\"outlinewidth\":0,\"ticks\":\"\"}}}],\"scatter3d\":[{\"type\":\"scatter3d\",\"line\":{\"colorbar\":{\"outlinewidth\":0,\"ticks\":\"\"}},\"marker\":{\"colorbar\":{\"outlinewidth\":0,\"ticks\":\"\"}}}],\"scattermapbox\":[{\"type\":\"scattermapbox\",\"marker\":{\"colorbar\":{\"outlinewidth\":0,\"ticks\":\"\"}}}],\"scatterternary\":[{\"type\":\"scatterternary\",\"marker\":{\"colorbar\":{\"outlinewidth\":0,\"ticks\":\"\"}}}],\"scattercarpet\":[{\"type\":\"scattercarpet\",\"marker\":{\"colorbar\":{\"outlinewidth\":0,\"ticks\":\"\"}}}],\"carpet\":[{\"aaxis\":{\"endlinecolor\":\"#2a3f5f\",\"gridcolor\":\"white\",\"linecolor\":\"white\",\"minorgridcolor\":\"white\",\"startlinecolor\":\"#2a3f5f\"},\"baxis\":{\"endlinecolor\":\"#2a3f5f\",\"gridcolor\":\"white\",\"linecolor\":\"white\",\"minorgridcolor\":\"white\",\"startlinecolor\":\"#2a3f5f\"},\"type\":\"carpet\"}],\"table\":[{\"cells\":{\"fill\":{\"color\":\"#EBF0F8\"},\"line\":{\"color\":\"white\"}},\"header\":{\"fill\":{\"color\":\"#C8D4E3\"},\"line\":{\"color\":\"white\"}},\"type\":\"table\"}],\"barpolar\":[{\"marker\":{\"line\":{\"color\":\"#E5ECF6\",\"width\":0.5},\"pattern\":{\"fillmode\":\"overlay\",\"size\":10,\"solidity\":0.2}},\"type\":\"barpolar\"}],\"pie\":[{\"automargin\":true,\"type\":\"pie\"}]},\"layout\":{\"autotypenumbers\":\"strict\",\"colorway\":[\"#636efa\",\"#EF553B\",\"#00cc96\",\"#ab63fa\",\"#FFA15A\",\"#19d3f3\",\"#FF6692\",\"#B6E880\",\"#FF97FF\",\"#FECB52\"],\"font\":{\"color\":\"#2a3f5f\"},\"hovermode\":\"closest\",\"hoverlabel\":{\"align\":\"left\"},\"paper_bgcolor\":\"white\",\"plot_bgcolor\":\"#E5ECF6\",\"polar\":{\"bgcolor\":\"#E5ECF6\",\"angularaxis\":{\"gridcolor\":\"white\",\"linecolor\":\"white\",\"ticks\":\"\"},\"radialaxis\":{\"gridcolor\":\"white\",\"linecolor\":\"white\",\"ticks\":\"\"}},\"ternary\":{\"bgcolor\":\"#E5ECF6\",\"aaxis\":{\"gridcolor\":\"white\",\"linecolor\":\"white\",\"ticks\":\"\"},\"baxis\":{\"gridcolor\":\"white\",\"linecolor\":\"white\",\"ticks\":\"\"},\"caxis\":{\"gridcolor\":\"white\",\"linecolor\":\"white\",\"ticks\":\"\"}},\"coloraxis\":{\"colorbar\":{\"outlinewidth\":0,\"ticks\":\"\"}},\"colorscale\":{\"sequential\":[[0.0,\"#0d0887\"],[0.1111111111111111,\"#46039f\"],[0.2222222222222222,\"#7201a8\"],[0.3333333333333333,\"#9c179e\"],[0.4444444444444444,\"#bd3786\"],[0.5555555555555556,\"#d8576b\"],[0.6666666666666666,\"#ed7953\"],[0.7777777777777778,\"#fb9f3a\"],[0.8888888888888888,\"#fdca26\"],[1.0,\"#f0f921\"]],\"sequentialminus\":[[0.0,\"#0d0887\"],[0.1111111111111111,\"#46039f\"],[0.2222222222222222,\"#7201a8\"],[0.3333333333333333,\"#9c179e\"],[0.4444444444444444,\"#bd3786\"],[0.5555555555555556,\"#d8576b\"],[0.6666666666666666,\"#ed7953\"],[0.7777777777777778,\"#fb9f3a\"],[0.8888888888888888,\"#fdca26\"],[1.0,\"#f0f921\"]],\"diverging\":[[0,\"#8e0152\"],[0.1,\"#c51b7d\"],[0.2,\"#de77ae\"],[0.3,\"#f1b6da\"],[0.4,\"#fde0ef\"],[0.5,\"#f7f7f7\"],[0.6,\"#e6f5d0\"],[0.7,\"#b8e186\"],[0.8,\"#7fbc41\"],[0.9,\"#4d9221\"],[1,\"#276419\"]]},\"xaxis\":{\"gridcolor\":\"white\",\"linecolor\":\"white\",\"ticks\":\"\",\"title\":{\"standoff\":15},\"zerolinecolor\":\"white\",\"automargin\":true,\"zerolinewidth\":2},\"yaxis\":{\"gridcolor\":\"white\",\"linecolor\":\"white\",\"ticks\":\"\",\"title\":{\"standoff\":15},\"zerolinecolor\":\"white\",\"automargin\":true,\"zerolinewidth\":2},\"scene\":{\"xaxis\":{\"backgroundcolor\":\"#E5ECF6\",\"gridcolor\":\"white\",\"linecolor\":\"white\",\"showbackground\":true,\"ticks\":\"\",\"zerolinecolor\":\"white\",\"gridwidth\":2},\"yaxis\":{\"backgroundcolor\":\"#E5ECF6\",\"gridcolor\":\"white\",\"linecolor\":\"white\",\"showbackground\":true,\"ticks\":\"\",\"zerolinecolor\":\"white\",\"gridwidth\":2},\"zaxis\":{\"backgroundcolor\":\"#E5ECF6\",\"gridcolor\":\"white\",\"linecolor\":\"white\",\"showbackground\":true,\"ticks\":\"\",\"zerolinecolor\":\"white\",\"gridwidth\":2}},\"shapedefaults\":{\"line\":{\"color\":\"#2a3f5f\"}},\"annotationdefaults\":{\"arrowcolor\":\"#2a3f5f\",\"arrowhead\":0,\"arrowwidth\":1},\"geo\":{\"bgcolor\":\"white\",\"landcolor\":\"#E5ECF6\",\"subunitcolor\":\"white\",\"showland\":true,\"showlakes\":true,\"lakecolor\":\"white\"},\"title\":{\"x\":0.05},\"mapbox\":{\"style\":\"light\"}}},\"scene\":{\"domain\":{\"x\":[0.0,1.0],\"y\":[0.0,1.0]},\"xaxis\":{\"title\":{\"text\":\"support\"}},\"yaxis\":{\"title\":{\"text\":\"confidence\"}},\"zaxis\":{\"title\":{\"text\":\"lift\"}}},\"coloraxis\":{\"colorbar\":{\"title\":{\"text\":\"antecedent support\"}},\"colorscale\":[[0.0,\"#0d0887\"],[0.1111111111111111,\"#46039f\"],[0.2222222222222222,\"#7201a8\"],[0.3333333333333333,\"#9c179e\"],[0.4444444444444444,\"#bd3786\"],[0.5555555555555556,\"#d8576b\"],[0.6666666666666666,\"#ed7953\"],[0.7777777777777778,\"#fb9f3a\"],[0.8888888888888888,\"#fdca26\"],[1.0,\"#f0f921\"]]},\"legend\":{\"tracegroupgap\":0},\"title\":{\"text\":\"3d Plot for Rule Mining\"},\"height\":800,\"width\":900},                        {\"responsive\": true}                    ).then(function(){\n",
              "                            \n",
              "var gd = document.getElementById('3666e555-15e9-4517-9015-64a4cb6f1748');\n",
              "var x = new MutationObserver(function (mutations, observer) {{\n",
              "        var display = window.getComputedStyle(gd).display;\n",
              "        if (!display || display === 'none') {{\n",
              "            console.log([gd, 'removed!']);\n",
              "            Plotly.purge(gd);\n",
              "            observer.disconnect();\n",
              "        }}\n",
              "}});\n",
              "\n",
              "// Listen for the removal of the full notebook cells\n",
              "var notebookContainer = gd.closest('#notebook-container');\n",
              "if (notebookContainer) {{\n",
              "    x.observe(notebookContainer, {childList: true});\n",
              "}}\n",
              "\n",
              "// Listen for the clearing of the current output cell\n",
              "var outputEl = gd.closest('.output');\n",
              "if (outputEl) {{\n",
              "    x.observe(outputEl, {childList: true});\n",
              "}}\n",
              "\n",
              "                        })                };                });            </script>        </div>"
            ]
          },
          "metadata": {}
        }
      ]
    }
  ]
}